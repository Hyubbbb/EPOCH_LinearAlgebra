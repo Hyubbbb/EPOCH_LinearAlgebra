{
 "cells": [
  {
   "cell_type": "code",
   "execution_count": 1,
   "id": "92aa15f3-bc0c-4054-b7bf-edf510169bad",
   "metadata": {},
   "outputs": [],
   "source": [
    "#2-1\n",
    "I1 = 3\n",
    "I2 = 5\n",
    "I3 = 8\n",
    "I4 = 12\n",
    "\n",
    "v1 = np.array([1,3,5,9])\n",
    "v2 = np.array([4,5,0,3])\n",
    "v3 = np.array([7,8,2,4])\n",
    "v4 = np.array([0,2,6,0])"
   ]
  },
  {
   "cell_type": "code",
   "execution_count": 2,
   "id": "59f4e1c2-e16b-48e3-8daf-48dbfed845e5",
   "metadata": {},
   "outputs": [],
   "source": [
    "scalars = [I1, I2, I3, I4]\n",
    "vectors = [v1, v2, v3, v4]"
   ]
  },
  {
   "cell_type": "code",
   "execution_count": 3,
   "id": "7df737b5-aec3-4e02-aed2-f9dd37106c21",
   "metadata": {},
   "outputs": [],
   "source": [
    "IinCombo = np.zeros(len(v1))\n",
    "#v1 벡터의 길이를 반환. len(v1) = 4(벡터 요소의 개수)\n",
    "#v1과 같은 크기를 가지는 0으로 초기화된 벡터 [0, 0, 0, 0]을 생성\n",
    "#선형 결합을 계산할 때, 각 스칼라와 벡터의 곱을 linCombo에 더해나가야 함\n",
    "#따라서 처음에는 아무 값도 더해지지 않은 상태, 즉 0으로 시작하는 것이 적절"
   ]
  },
  {
   "cell_type": "code",
   "execution_count": 4,
   "id": "11bfdbd7-14fa-4832-9652-880a178dd8ed",
   "metadata": {},
   "outputs": [],
   "source": [
    "for s, v in zip(scalars, vectors):\n",
    "    IinCombo += s * v\n",
    "#zip(l1, v1), zip(l2, v2)와 같은 형태로 묶임\n",
    "#각 스칼라 s와 벡터 v의 곱을 선형 결합 결과인 linCombo에 더함"
   ]
  },
  {
   "cell_type": "code",
   "execution_count": 5,
   "id": "ee26ee7c-6c07-4ef4-bb32-db722028a1dc",
   "metadata": {},
   "outputs": [
    {
     "name": "stdout",
     "output_type": "stream",
     "text": [
      "[ 79. 122. 103.  74.]\n"
     ]
    }
   ],
   "source": [
    "print(IinCombo)"
   ]
  },
  {
   "cell_type": "code",
   "execution_count": 7,
   "id": "6fc58e8f-2f37-4b81-8d0d-9db2b7c41ed9",
   "metadata": {},
   "outputs": [],
   "source": [
    "#2-3-1\n",
    "A = np.array([1,3])"
   ]
  },
  {
   "cell_type": "code",
   "execution_count": 8,
   "id": "6ed9a603-4ac0-49e1-a96f-0e7635bfbf43",
   "metadata": {},
   "outputs": [],
   "source": [
    "xlim = [-4,4]\n",
    "#X축 범위 설정\n",
    "#plt.ylim(xlim)은 y축의 범위도 동일하게 설정하면 x축과 y축 모두 같은 범위를 가짐"
   ]
  },
  {
   "cell_type": "code",
   "execution_count": 9,
   "id": "ff0c42af-d1cb-447b-b5ec-5f15b8701773",
   "metadata": {},
   "outputs": [],
   "source": [
    "scalars = np.random.uniform(low=xlim[0], high=xlim[1], size=100)\n",
    "#np.random.uniform(low, high, size)는 균등 분포\n",
    "#->low와 high 사이의 값을 균등하게 분포시키며 무작위 숫자를 생성\n",
    "#np.random.randn(size):정규 분포를 따르는 무작위 숫자 생성"
   ]
  },
  {
   "cell_type": "code",
   "execution_count": 11,
   "id": "07c3883e-0889-47ab-b0b8-822534eaf8e7",
   "metadata": {},
   "outputs": [],
   "source": [
    "#2-3-2\n",
    "xlim = [-4, 4]"
   ]
  },
  {
   "cell_type": "code",
   "execution_count": 12,
   "id": "624e599c-2967-40d2-b187-617d6ad23d6d",
   "metadata": {},
   "outputs": [],
   "source": [
    "v1 = np.array([3, 5, 1])\n",
    "v2 = np.array([0, 2, 2])"
   ]
  },
  {
   "cell_type": "code",
   "execution_count": 13,
   "id": "6d8c74e9-6a84-4089-950a-fcf6db7fec09",
   "metadata": {},
   "outputs": [],
   "source": [
    "scalars = np.random.uniform(low=xlim[0], high=xlim[1], size=(100, 2))\n",
    "#size=(100, 2)는 100개의 난수를 2열 배열 형태로 생성\n",
    "#-> 결과는 100행 2열의 2차원 배열"
   ]
  },
  {
   "cell_type": "code",
   "execution_count": 14,
   "id": "79b8c643-8f05-4ce7-9e08-7995efb578dc",
   "metadata": {},
   "outputs": [],
   "source": [
    "#v1과 v2 벡터를 사용하여 3D 공간에서 100개의 랜덤 점을 생성\n",
    "points = np.zeros((100, 3)) \n",
    "#points라는 100x3 크기의 배열을 생성\n",
    "#이 배열은 100개의 3D 점을 저장할 공간을 제공. 모든 값은 초기화 시 0\n",
    "\n",
    "#랜덤 스칼라를 사용하여 점 생성\n",
    "for i in range(len(scalars)):\n",
    "    points[i, :] = v1 * scalars[i, 0] + v2 * scalars[i, 1]\n",
    "#points 배열의 i번째 행을 선택하는 것을 의미합니다. :는 모든 열을 포함하겠다는 뜻\n",
    "#scalars[i] = [0.5, 1.2]라면, v1에 0.5를 곱하고 v2에 1.2를 곱한 후 두 결과를 더하여 새로운 점을 계산"
   ]
  },
  {
   "cell_type": "code",
   "execution_count": null,
   "id": "e58182a2-4b4a-4e3d-8481-8032bc3c9f1f",
   "metadata": {},
   "outputs": [],
   "source": []
  }
 ],
 "metadata": {
  "kernelspec": {
   "display_name": "Python 3 (ipykernel)",
   "language": "python",
   "name": "python3"
  },
  "language_info": {
   "codemirror_mode": {
    "name": "ipython",
    "version": 3
   },
   "file_extension": ".py",
   "mimetype": "text/x-python",
   "name": "python",
   "nbconvert_exporter": "python",
   "pygments_lexer": "ipython3",
   "version": "3.12.4"
  }
 },
 "nbformat": 4,
 "nbformat_minor": 5
}
