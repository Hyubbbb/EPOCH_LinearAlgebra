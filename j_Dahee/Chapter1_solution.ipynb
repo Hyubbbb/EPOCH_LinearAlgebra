{
 "cells": [
  {
   "cell_type": "code",
   "execution_count": 2,
   "id": "2a30afd6-ed25-4918-ade3-7650b32b12ec",
   "metadata": {},
   "outputs": [],
   "source": [
    "#1-2\n",
    "def normOfVect(v):\n",
    "    return np.sqrt(np.sum(v**2))"
   ]
  },
  {
   "cell_type": "code",
   "execution_count": 3,
   "id": "009ea018-c092-40ff-88cd-cafb1ec661b9",
   "metadata": {},
   "outputs": [
    {
     "name": "stdout",
     "output_type": "stream",
     "text": [
      "5.477225575051661\n"
     ]
    }
   ],
   "source": [
    "w = np.array([1,2,3,4])\n",
    "print(normOfVect(w))"
   ]
  },
  {
   "cell_type": "code",
   "execution_count": 4,
   "id": "7adf65be-aed4-4cc6-8f36-7aea99d84266",
   "metadata": {},
   "outputs": [
    {
     "name": "stdout",
     "output_type": "stream",
     "text": [
      "5.477225575051661\n"
     ]
    }
   ],
   "source": [
    "w = np.array([1,2,3,4])\n",
    "print(normOfVect(w))"
   ]
  },
  {
   "cell_type": "code",
   "execution_count": 5,
   "id": "27bfc32c-c2b9-47fd-aa8c-a2d084a561cc",
   "metadata": {},
   "outputs": [],
   "source": [
    "#1-5\n",
    "v = np.array([[8,7,4,5]])"
   ]
  },
  {
   "cell_type": "code",
   "execution_count": 6,
   "id": "f4cb432e-b52f-4601-be7e-64287311deaa",
   "metadata": {},
   "outputs": [],
   "source": [
    "vt = np.zeros((4,1))\n",
    "#빈 배열 생성의 필요성\n",
    "#(1)데이터 저장: 행 벡터를 열 벡터로 변환할 때, 변환된 값을 저장할 공간이 필요\n",
    "#(2)형태 지정: 변환된 배열의 형태(행과 열의 수)를 미리 지정해주어야 함\n",
    "#np.zeros를 사용하는 이유\n",
    "#(1)초기화: np.zeros((4, 1))는 모든 요소가 0인 배열을 생성\n",
    "#이 배열은 나중에 변환된 값을 저장할 공간으로 사용"
   ]
  },
  {
   "cell_type": "code",
   "execution_count": 7,
   "id": "08c9196f-7897-4614-866a-2f2bf438cc09",
   "metadata": {},
   "outputs": [],
   "source": [
    "for i in range(v.shape[1]):\n",
    "    vt[i,0] = v[0,i]\n",
    "#for i in range(v.shape[1])는 v의 열 수만큼 반복합니다. v.shape[1]은 v의 열의 개수를 반환\n",
    "#vt[i,0] = v[0,i]는 v의 각 열의 값을 vt의 각 행에 할당. v의 행 벡터가 vt의 열 벡터로 변환\n",
    "#vt[i,0]:vt 배열에서 열 벡터의 i번째 행을 선택\n",
    "    #열 벡터 vt는 (n, 1) 형태로, i는 행 인덱스를 나타내고 0은 열 인덱스를 나타냄\n",
    "#v[0, i]: v 배열에서 원래 행 벡터의 첫 번째 행의 i번째 열을\n",
    "    #행 벡터 v는 (1, n) 형태로, 0은 행 인덱스를 나타내고 i는 열 인덱스"
   ]
  },
  {
   "cell_type": "code",
   "execution_count": 8,
   "id": "56cf59b1-e10e-4ee9-aa2d-809dac52fa80",
   "metadata": {},
   "outputs": [
    {
     "name": "stdout",
     "output_type": "stream",
     "text": [
      "[[8 7 4 5]]\n",
      " \n",
      "[[8.]\n",
      " [7.]\n",
      " [4.]\n",
      " [5.]]\n"
     ]
    }
   ],
   "source": [
    "print(v), print(' ')\n",
    "print(vt)"
   ]
  },
  {
   "cell_type": "code",
   "execution_count": 9,
   "id": "ffb24a11-9e69-4440-8010-4dcb6ecb825d",
   "metadata": {},
   "outputs": [],
   "source": [
    "#1-6\n",
    "c = np.random.randn(12)\n",
    "#벡터 생성: np.random.randn(12)는 평균이 0이고 표준편차가 1인 정규 분포에서 12개의 랜덤 샘플을 생성하여 벡터 c를 만듦\n",
    "#이 벡터는 임의의 값으로 채워진 길이 12의 배열"
   ]
  },
  {
   "cell_type": "code",
   "execution_count": 10,
   "id": "85625231-5817-4a5c-a704-50a91ed77a74",
   "metadata": {},
   "outputs": [],
   "source": [
    "#제곱 노름 계산 (내적 사용)\n",
    "sqrNrm1 = np.dot(c,c)\n",
    "#벡터 v의 제곱 노름은 ∥𝑣∥=루트(𝑣⋅𝑣)\n",
    "#v⋅v는 벡터 v와 자기 자신과의 내적을 의미"
   ]
  },
  {
   "cell_type": "code",
   "execution_count": 11,
   "id": "443bd77f-2a9a-4943-9fb4-ad6bf11fb1d8",
   "metadata": {},
   "outputs": [],
   "source": [
    "def normOfVect(c):\n",
    "    return np.sqrt(np.sum(c**2))\n",
    "#제곱 노름 계산 (함수 사용)\n",
    "sqrNrm2 = normOfVect(c)**2\n",
    "#normOfVect(c)는 벡터 c의 노름을 계산하는 사용자 정의 함수\n",
    "#이 함수는 벡터 c의 각 요소를 제곱하고 합산한 후 제곱근을 취하여 노름을 반환"
   ]
  },
  {
   "cell_type": "code",
   "execution_count": 12,
   "id": "e6391fc1-2c64-4da2-9f3f-11b2e7806124",
   "metadata": {},
   "outputs": [
    {
     "name": "stdout",
     "output_type": "stream",
     "text": [
      "6.685143499594841\n",
      "6.685143499594841\n"
     ]
    }
   ],
   "source": [
    "print(sqrNrm1)\n",
    "print(sqrNrm2)"
   ]
  },
  {
   "cell_type": "code",
   "execution_count": 14,
   "id": "b029fe9a-ae09-4b26-a720-b28849a4dc3f",
   "metadata": {},
   "outputs": [],
   "source": [
    "#1-7\n",
    "#벡터의 차원을 20으로 설정\n",
    "n=20"
   ]
  },
  {
   "cell_type": "code",
   "execution_count": 15,
   "id": "65b0f3cb-f168-4b40-8edd-92eb720df2ae",
   "metadata": {},
   "outputs": [],
   "source": [
    "a = np.random.randn(n,1)\n",
    "b = np.random.randn(n,1)\n",
    "#열벡터를 사용하는 주된 이유는 수학적 표기법과 배열 연산의 편리함 때문\n",
    "#행벡터로 초기화한 벡터도 내적 계산에 사용할 수는 있음"
   ]
  },
  {
   "cell_type": "code",
   "execution_count": 16,
   "id": "0c121361-7acb-4e7a-bf28-2dfb62bdb3fb",
   "metadata": {},
   "outputs": [],
   "source": [
    "#내적계산\n",
    "atb = np.sum(a*b)\n",
    "bta = np.sum(b*a)"
   ]
  },
  {
   "cell_type": "code",
   "execution_count": 17,
   "id": "9cabbed0-dff4-4fa0-a21f-00df83f9c52e",
   "metadata": {},
   "outputs": [
    {
     "data": {
      "text/plain": [
       "0.0"
      ]
     },
     "execution_count": 17,
     "metadata": {},
     "output_type": "execute_result"
    }
   ],
   "source": [
    "atb-bta"
   ]
  },
  {
   "cell_type": "code",
   "execution_count": 18,
   "id": "d3e4d9e2-b509-4155-8b93-40b8cd6ef235",
   "metadata": {},
   "outputs": [],
   "source": [
    "#내적계산 2 \n",
    "#내적: v^Tw\n",
    "atb_dot = np.dot(a.T,b)\n",
    "bta_dot = np.dot(b.T,a)"
   ]
  },
  {
   "cell_type": "code",
   "execution_count": 19,
   "id": "3a468737-5252-4fa7-bd17-5f690a0d0562",
   "metadata": {},
   "outputs": [
    {
     "data": {
      "text/plain": [
       "array([[0.]])"
      ]
     },
     "execution_count": 19,
     "metadata": {},
     "output_type": "execute_result"
    }
   ],
   "source": [
    "atb_dot-bta_dot"
   ]
  },
  {
   "cell_type": "code",
   "execution_count": 20,
   "id": "33d1173d-8772-4f3e-b742-1d6745d7c08b",
   "metadata": {},
   "outputs": [
    {
     "name": "stdout",
     "output_type": "stream",
     "text": [
      "[[-6.81474849]]\n",
      "-6.814748492445342\n"
     ]
    }
   ],
   "source": [
    "print(atb_dot)\n",
    "print(atb)"
   ]
  },
  {
   "cell_type": "code",
   "execution_count": 21,
   "id": "b26df7e1-d4bb-4b30-b3e3-de967113f52d",
   "metadata": {},
   "outputs": [],
   "source": [
    "#1-9\n",
    "t = np.random.randn(5)\n",
    "r = np.random.randn(5)"
   ]
  },
  {
   "cell_type": "code",
   "execution_count": 22,
   "id": "437df350-5696-4fe1-90c2-2cff4353527e",
   "metadata": {},
   "outputs": [],
   "source": [
    "t_para = r * (np.dot(t,r)/np.dot(r,r))\n",
    "t_perp = t - t_para\n",
    "#1차원 배열의 경우, t_para.T와 t_para는 동일\n",
    "#따라서 np.dot(t_para.T, t_perp)는 np.dot(t_para, t_perp)와 같은 결과를 생성"
   ]
  },
  {
   "cell_type": "code",
   "execution_count": 23,
   "id": "71b441b4-a3c8-41a6-9406-d67c632cdb08",
   "metadata": {},
   "outputs": [
    {
     "name": "stdout",
     "output_type": "stream",
     "text": [
      "[-0.34958889 -1.82310594  1.72463666  1.37857617 -0.80814035]\n",
      "[-0.34958889 -1.82310594  1.72463666  1.37857617 -0.80814035]\n"
     ]
    }
   ],
   "source": [
    "print(t)\n",
    "print(t_para + t_perp)"
   ]
  },
  {
   "cell_type": "code",
   "execution_count": 24,
   "id": "b15c6ada-1882-4fc0-a1ac-54f1eece3fa7",
   "metadata": {},
   "outputs": [
    {
     "name": "stdout",
     "output_type": "stream",
     "text": [
      "-1.1102230246251565e-16\n"
     ]
    }
   ],
   "source": [
    "print(np.dot(t_para, t_perp))"
   ]
  },
  {
   "cell_type": "code",
   "execution_count": null,
   "id": "93991c35-2a74-444b-ab6c-55cfb466b7ec",
   "metadata": {},
   "outputs": [],
   "source": []
  }
 ],
 "metadata": {
  "kernelspec": {
   "display_name": "Python 3 (ipykernel)",
   "language": "python",
   "name": "python3"
  },
  "language_info": {
   "codemirror_mode": {
    "name": "ipython",
    "version": 3
   },
   "file_extension": ".py",
   "mimetype": "text/x-python",
   "name": "python",
   "nbconvert_exporter": "python",
   "pygments_lexer": "ipython3",
   "version": "3.12.4"
  }
 },
 "nbformat": 4,
 "nbformat_minor": 5
}
