{
 "cells": [
  {
   "cell_type": "code",
   "execution_count": 1,
   "id": "a08e181a-3899-4084-bea7-b59447043132",
   "metadata": {},
   "outputs": [
    {
     "name": "stdout",
     "output_type": "stream",
     "text": [
      "0.504545785668525\n",
      "0.30116169333837534\n"
     ]
    }
   ],
   "source": [
    "#3-1_평균중심화\n",
    "x = np.random.randn(10)\n",
    "y = np.random.randn(10)\n",
    "\n",
    "mean_x = np.mean(x)\n",
    "mean_y = np.mean(y)\n",
    "xm = x - mean_x\n",
    "ym = y - mean_y\n",
    "\n",
    "num = np.dot(xm, ym) \n",
    "denom = np.sqrt(np.dot(xm, xm)) * np.sqrt(np.dot(ym, ym))\n",
    "\n",
    "pearson_correlation = num / denom\n",
    "\n",
    "z = np.random.randn(10)\n",
    "w = np.random.randn(10)\n",
    "\n",
    "num = np.dot(z,w)\n",
    "denom = np.sqrt(np.dot(z,z)) * np.sqrt(np.dot(w,w))\n",
    "\n",
    "cosine_similarity = num / denom\n",
    "\n",
    "print(pearson_correlation)\n",
    "print(cosine_similarity)"
   ]
  },
  {
   "cell_type": "code",
   "execution_count": 2,
   "id": "f06a4c6f-c24c-4115-9da1-7aa3d782a703",
   "metadata": {},
   "outputs": [
    {
     "name": "stdout",
     "output_type": "stream",
     "text": [
      "1.0\n",
      "0.19655178697199188\n"
     ]
    }
   ],
   "source": [
    "#3-1_평균중심화X\n",
    "x = np.random.randn(10)\n",
    "y = np.random.randn(10)\n",
    "\n",
    "mean_x = np.mean(x)\n",
    "mean_y = np.mean(y)\n",
    "\n",
    "num = np.dot(mean_x, mean_y)\n",
    "denom = np.sqrt(np.dot(mean_x,mean_x)) * np.sqrt(np.dot(mean_y,mean_y))\n",
    "\n",
    "pearson_correlation = num / denom\n",
    "\n",
    "x = np.random.randn(10)\n",
    "y = np.random.randn(10)\n",
    "\n",
    "num = np.dot(x,y)\n",
    "denom = np.sqrt(np.dot(x,x)) * np.sqrt(np.dot(y,y))\n",
    "\n",
    "cosine_similarity = num / denom\n",
    "\n",
    "print(pearson_correlation)\n",
    "print(cosine_similarity)"
   ]
  },
  {
   "cell_type": "code",
   "execution_count": 3,
   "id": "456594d9-1e22-4f5d-bd01-e933cf5df93d",
   "metadata": {},
   "outputs": [],
   "source": [
    "#3-2\n",
    "def corrAndCosine(x, y):\n",
    "    # 피어슨 상관계수 계산\n",
    "    mean_x = np.mean(x)\n",
    "    mean_y = np.mean(y)\n",
    "    xm = x - mean_x\n",
    "    ym = y - mean_y\n",
    "    num = np.dot(xm, ym)  # 내적\n",
    "    denom = np.sqrt(np.dot(xm, xm)) * np.sqrt(np.dot(ym, ym))  # 노름 계산\n",
    "    pearson_correlation = num / denom\n",
    "\n",
    "    # 코사인 유사도 계산\n",
    "    num = np.dot(x, y)  # 내적\n",
    "    denom = np.sqrt(np.dot(x, x)) * np.sqrt(np.dot(y, y))  # 노름 계산\n",
    "    cosine_similarity = num / denom\n",
    "\n",
    "    return pearson_correlation, cosine_similarity\n",
    "\n",
    "a = np.array([0, 1, 2, 3])\n",
    "offsets = np.arange(-50, 50)\n",
    "#오프셋은 벡터의 각 요소에 추가하는 수치적 값\n",
    "#예를 들어, 벡터 a = [0.0, 1.0, 2.0, 3.0]와 오프셋 5를 사용하면, \n",
    "#새로운 벡터는 a + 5 = [5.0, 6.0, 7.0, 8.0]가 된다\n",
    "\n",
    "results = np.zeros((len(offsets), 2))\n",
    "#np.zeros는 배열 초기화와 배열 크기(형태) 지정 두 개의 역할이 있는데, 여기서는 후자\n",
    "# > 후자: np.zeros(행,열) <- 2차원 배열. 괄호 안에는 배열 형태 정의하는 튜플이 들어감\n",
    "# >> 예시\n",
    "# np.zeros(5)는 5개의 0으로 채워진 1차원 배열을 생성\n",
    "# 2D 배열의 경우: np.zeros((3, 4))는 3행 4열의 2차원 배열을 생성\n",
    "# 3D 배열의 경우: np.zeros((2, 3, 4))는 2x3x4 크기의 3차원 배열\n",
    "\n",
    "for i in range(len(offsets)): \n",
    "    # range(len(offsets)): offsets 배열의 길이만큼 반복하는 range 객체를 생성 \n",
    "    # 예를 들어, offsets의 길이가 101이라면 range(len(offsets))는 0부터 100까지의 숫자를 생성\n",
    "    # for i in ...:i가 0부터 len(offsets) - 1까지의 값으로 변경되면서 반복\n",
    "    results[i, :] = corrAndCosine(a, a + offsets[i])\n",
    "    # results[i, :]: results 배열의 i번째 행을 선택, :는 모든 열\n",
    "    # corrAndCosine(a, a + offsets[i]): 피어슨 상관계수와 코사인 유사도를 계산"
   ]
  }
 ],
 "metadata": {
  "kernelspec": {
   "display_name": "Python 3 (ipykernel)",
   "language": "python",
   "name": "python3"
  },
  "language_info": {
   "codemirror_mode": {
    "name": "ipython",
    "version": 3
   },
   "file_extension": ".py",
   "mimetype": "text/x-python",
   "name": "python",
   "nbconvert_exporter": "python",
   "pygments_lexer": "ipython3",
   "version": "3.12.4"
  }
 },
 "nbformat": 4,
 "nbformat_minor": 5
}
