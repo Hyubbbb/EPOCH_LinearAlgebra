{
 "cells": [
  {
   "cell_type": "code",
   "execution_count": 6,
   "id": "6f7f2ac7-f119-499a-aaff-96b1a5b87eb7",
   "metadata": {},
   "outputs": [
    {
     "name": "stdout",
     "output_type": "stream",
     "text": [
      "The matrix element at index (2,4) is 7\n"
     ]
    }
   ],
   "source": [
    "#4-1\n",
    "A = np.arange(12).reshape(3,4)\n",
    "\n",
    "r = 1\n",
    "c = 3\n",
    "\n",
    "sub = A[1,3]\n",
    "\n",
    "print('The matrix element at index (' + str(r+1) + ',' + str(c+1) + ') is ' + str(sub))"
   ]
  },
  {
   "cell_type": "code",
   "execution_count": 11,
   "id": "d0ce8a60-9306-416e-a239-2c8956457145",
   "metadata": {},
   "outputs": [
    {
     "name": "stdout",
     "output_type": "stream",
     "text": [
      "[[ 0  1  2  3  4  5  6  7  8  9]\n",
      " [10 11 12 13 14 15 16 17 18 19]\n",
      " [20 21 22 23 24 25 26 27 28 29]\n",
      " [30 31 32 33 34 35 36 37 38 39]\n",
      " [40 41 42 43 44 45 46 47 48 49]\n",
      " [50 51 52 53 54 55 56 57 58 59]\n",
      " [60 61 62 63 64 65 66 67 68 69]\n",
      " [70 71 72 73 74 75 76 77 78 79]\n",
      " [80 81 82 83 84 85 86 87 88 89]\n",
      " [90 91 92 93 94 95 96 97 98 99]]\n",
      "[[ 0  1  2  3  4]\n",
      " [10 11 12 13 14]\n",
      " [20 21 22 23 24]\n",
      " [30 31 32 33 34]\n",
      " [40 41 42 43 44]]\n"
     ]
    }
   ],
   "source": [
    "#4-2\n",
    "C = np.arange(100).reshape(10,10)\n",
    "C1 = B[0:5:1, 0:5:1]\n",
    "print(C)\n",
    "print(C1)"
   ]
  },
  {
   "cell_type": "code",
   "execution_count": 13,
   "id": "ee670c68-2540-4a98-8ced-dbe821e07cea",
   "metadata": {},
   "outputs": [
    {
     "name": "stdout",
     "output_type": "stream",
     "text": [
      "[[ 3.  4.  5.]\n",
      " [ 9. 14. 19.]\n",
      " [15. 24. 33.]\n",
      " [21. 34. 47.]\n",
      " [27. 44. 61.]]\n",
      "[[ 3  4  5]\n",
      " [ 9 14 19]\n",
      " [15 24 33]\n",
      " [21 34 47]\n",
      " [27 44 61]]\n"
     ]
    }
   ],
   "source": [
    "#4-6\n",
    "B = np.arange(10).reshape(5,2)\n",
    "D = np.arange(6).reshape(2,3)\n",
    "\n",
    "BD = np.zeros((5,3)) # (5,3) 크기의 0으로 채워진 결과 행렬 #튜플(괄호 한 번 더)로 모양 지정하기\n",
    "\n",
    "for i in range(5): # 행렬 B의 각 행에 대해 반복\n",
    "    for j in range(3): # 행렬 D의 각 열에 대해 반복\n",
    "        BD[i, j] = np.dot( B[i,:],D[:,j]) # B의 i번째 행과 D의 j번째 열을 내적하여 BD[i, j]에 저장\n",
    "\n",
    "BD2 = B@D\n",
    "\n",
    "print(BD)\n",
    "print(BD2)"
   ]
  },
  {
   "cell_type": "code",
   "execution_count": 19,
   "id": "5710238d-4900-4d32-bd63-af162c771567",
   "metadata": {},
   "outputs": [
    {
     "name": "stdout",
     "output_type": "stream",
     "text": [
      "False\n",
      "True\n"
     ]
    }
   ],
   "source": [
    "#4-8\n",
    "def isMatrixSymmetric(S):\n",
    "    E = S -S.T #대칭 행렬일 경우 차이는 0. 서로 동일하기 때문\n",
    "    sse = np.sum(E**2) #제곱 오차 합\n",
    "    return sse < 10**-15 #sse가 매우 작은 경우, 대칭 행렬로 간주\n",
    "\n",
    "F = np.random.randn(5,5) #랜덤행렬\n",
    "FtF = F.T @ F # 대칭행렬\n",
    "\n",
    "print(isMatrixSymmetric(F))\n",
    "print(isMatrixSymmetric(FtF))"
   ]
  },
  {
   "cell_type": "code",
   "execution_count": 22,
   "id": "0e2879f2-cf34-4695-83f4-4cb754b6dc8d",
   "metadata": {},
   "outputs": [
    {
     "name": "stdout",
     "output_type": "stream",
     "text": [
      "False\n",
      "True\n"
     ]
    }
   ],
   "source": [
    "#4-9\n",
    "G = np.random.randn(4,4)\n",
    "GtG = (G + G.T) / 2 #대칭행렬로 만드는 법: 행렬을 자신의 전치로 평균화\n",
    "\n",
    "print(isMatrixSymmetric(G))\n",
    "print(isMatrixSymmetric(GtG))"
   ]
  },
  {
   "cell_type": "code",
   "execution_count": null,
   "id": "922b346c-4350-4d13-bbfa-c29745ba4cda",
   "metadata": {},
   "outputs": [],
   "source": []
  }
 ],
 "metadata": {
  "kernelspec": {
   "display_name": "Python 3 (ipykernel)",
   "language": "python",
   "name": "python3"
  },
  "language_info": {
   "codemirror_mode": {
    "name": "ipython",
    "version": 3
   },
   "file_extension": ".py",
   "mimetype": "text/x-python",
   "name": "python",
   "nbconvert_exporter": "python",
   "pygments_lexer": "ipython3",
   "version": "3.12.4"
  }
 },
 "nbformat": 4,
 "nbformat_minor": 5
}
