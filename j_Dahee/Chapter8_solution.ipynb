{
  "nbformat": 4,
  "nbformat_minor": 0,
  "metadata": {
    "colab": {
      "provenance": [],
      "authorship_tag": "ABX9TyNqstUV2NdCpyrXYAbf8Jei"
    },
    "kernelspec": {
      "name": "python3",
      "display_name": "Python 3"
    },
    "language_info": {
      "name": "python"
    }
  },
  "cells": [
    {
      "cell_type": "markdown",
      "source": [
        "8-1\n"
      ],
      "metadata": {
        "id": "P6itiFovsbug"
      }
    },
    {
      "cell_type": "code",
      "execution_count": null,
      "metadata": {
        "colab": {
          "base_uri": "https://localhost:8080/"
        },
        "id": "ozFryygQsZ3i",
        "outputId": "664a81c6-eb2c-49fd-b87e-0548d2e3735b"
      },
      "outputs": [
        {
          "output_type": "execute_result",
          "data": {
            "text/plain": [
              "True"
            ]
          },
          "metadata": {},
          "execution_count": 13
        }
      ],
      "source": [
        "import numpy as np\n",
        "\n",
        "Q = np.random.randn(5, 5)\n",
        "Qt = Q.T\n",
        "Qi = np.linalg.inv(Q)\n",
        "\n",
        "np.allclose(Qt@Q, np.eye(5))\n",
        "np.allclose(Q@Qt, np.eye(5))\n",
        "np.allclose(Qi@Q, np.eye(5))\n",
        "np.allclose(Q@Qi, np.eye(5))"
      ]
    },
    {
      "cell_type": "markdown",
      "source": [
        "8-2"
      ],
      "metadata": {
        "id": "_BSn3esosd3Y"
      }
    },
    {
      "cell_type": "code",
      "source": [
        "V = np.random.randn(4,4)\n",
        "Q = np.zeros((4,4))\n",
        "\n",
        "for i in range(4):\n",
        "\n",
        "    Q[:,i] = V[:,i]\n",
        "\n",
        "    a = V[:,i]\n",
        "    for j in range(i):\n",
        "        q = Q[:,j]\n",
        "        Q[:,i]=Q[:,i]-np.dot(a,q)/np.dot(q,q)*q #투영성분제거 -> 직교\n",
        "\n",
        "    Q[:,i] = Q[:,i] / np.linalg.norm(Q[:,i]) #정규화\n",
        "\n",
        "Q2,R = np.linalg.qr(V)\n",
        "\n",
        "Q - Q2"
      ],
      "metadata": {
        "colab": {
          "base_uri": "https://localhost:8080/"
        },
        "id": "9TSO5bdiuoGu",
        "outputId": "6409bc13-5fed-49a3-8b70-c7a0a8fe3d15"
      },
      "execution_count": null,
      "outputs": [
        {
          "output_type": "execute_result",
          "data": {
            "text/plain": [
              "array([[-1.11022302e-16,  2.83052635e-01, -1.29497481e+00,\n",
              "        -3.20020194e-01],\n",
              "       [ 2.77555756e-17,  1.40488011e+00,  4.45603544e-01,\n",
              "         1.28992757e+00],\n",
              "       [ 1.11022302e-16, -7.02474886e-01,  1.34264770e+00,\n",
              "        -1.06954809e-01],\n",
              "       [-3.46944695e-18,  1.20528923e+00,  5.67252035e-01,\n",
              "        -1.49071614e+00]])"
            ]
          },
          "metadata": {},
          "execution_count": 8
        }
      ]
    },
    {
      "cell_type": "markdown",
      "source": [
        "8-3"
      ],
      "metadata": {
        "id": "xA8LY_dksfWu"
      }
    },
    {
      "cell_type": "code",
      "source": [
        "U = np.linalg.qr(np.random.randn(6,6))[0]\n",
        "Q, R = np.linalg.qr(U)\n",
        "\n",
        "np.allclose(R, np.eye(6))"
      ],
      "metadata": {
        "colab": {
          "base_uri": "https://localhost:8080/"
        },
        "id": "7W28-u61yjQ3",
        "outputId": "a0a24583-91fb-4c23-fa30-a0160790f461"
      },
      "execution_count": null,
      "outputs": [
        {
          "output_type": "execute_result",
          "data": {
            "text/plain": [
              "True"
            ]
          },
          "metadata": {},
          "execution_count": 24
        }
      ]
    },
    {
      "cell_type": "code",
      "source": [
        "for i in range(U.shape[0]): #U.shape[0]: U 행렬의 행 수를 반환\n",
        "  U[:,i] = U[:,i]*(10+i)\n",
        "\n",
        "Q, R = np.linalg.qr(U)\n",
        "\n",
        "diagonal = np.diag(R)\n",
        "diagonal"
      ],
      "metadata": {
        "colab": {
          "base_uri": "https://localhost:8080/"
        },
        "id": "Mpe0thmgyl8l",
        "outputId": "395448dc-6b60-475d-90bd-4ffc68c558d5"
      },
      "execution_count": null,
      "outputs": [
        {
          "output_type": "execute_result",
          "data": {
            "text/plain": [
              "array([10., 11., 12., 13., 14., 15.])"
            ]
          },
          "metadata": {},
          "execution_count": 25
        }
      ]
    },
    {
      "cell_type": "code",
      "source": [
        "Q_transpose = Q.T @ Q\n",
        "Q_transpose"
      ],
      "metadata": {
        "colab": {
          "base_uri": "https://localhost:8080/"
        },
        "id": "wPabVIA36Mcm",
        "outputId": "9919bcff-4dd7-4cf8-aa99-d2d02dfb0f86"
      },
      "execution_count": null,
      "outputs": [
        {
          "output_type": "execute_result",
          "data": {
            "text/plain": [
              "array([[ 1.00000000e+00, -1.50829176e-17,  5.94561193e-17,\n",
              "        -8.57458222e-18, -3.63902649e-17, -5.78680726e-17],\n",
              "       [-1.50829176e-17,  1.00000000e+00,  3.15469681e-17,\n",
              "         2.46473412e-17,  2.08041131e-18, -7.26010147e-17],\n",
              "       [ 5.94561193e-17,  3.15469681e-17,  1.00000000e+00,\n",
              "         2.19460066e-16,  3.41619131e-17,  2.79267992e-17],\n",
              "       [-8.57458222e-18,  2.46473412e-17,  2.19460066e-16,\n",
              "         1.00000000e+00,  4.39317312e-18, -3.45665359e-17],\n",
              "       [-3.63902649e-17,  2.08041131e-18,  3.41619131e-17,\n",
              "         4.39317312e-18,  1.00000000e+00,  7.86148222e-17],\n",
              "       [-5.78680726e-17, -7.26010147e-17,  2.79267992e-17,\n",
              "        -3.45665359e-17,  7.86148222e-17,  1.00000000e+00]])"
            ]
          },
          "metadata": {},
          "execution_count": 27
        }
      ]
    },
    {
      "cell_type": "code",
      "source": [
        "U[0,3] = 0 #q_{1,4}\n",
        "\n",
        "q,r = np.linalg.qr(U)\n",
        "R"
      ],
      "metadata": {
        "colab": {
          "base_uri": "https://localhost:8080/"
        },
        "id": "suUIeB8NymOt",
        "outputId": "6c105663-85c0-4cab-9a5c-3325cd051eba"
      },
      "execution_count": null,
      "outputs": [
        {
          "output_type": "execute_result",
          "data": {
            "text/plain": [
              "array([[ 1.00000000e+01, -8.88178420e-16,  4.44089210e-16,\n",
              "         6.66133815e-16, -3.33066907e-16,  0.00000000e+00],\n",
              "       [ 0.00000000e+00,  1.10000000e+01,  0.00000000e+00,\n",
              "        -1.66533454e-16, -1.77635684e-15, -8.88178420e-16],\n",
              "       [ 0.00000000e+00,  0.00000000e+00,  1.20000000e+01,\n",
              "        -3.55271368e-15,  2.66453526e-15, -1.77635684e-15],\n",
              "       [ 0.00000000e+00,  0.00000000e+00,  0.00000000e+00,\n",
              "         1.30000000e+01, -8.88178420e-16,  1.77635684e-15],\n",
              "       [ 0.00000000e+00,  0.00000000e+00,  0.00000000e+00,\n",
              "         0.00000000e+00,  1.40000000e+01, -8.88178420e-16],\n",
              "       [ 0.00000000e+00,  0.00000000e+00,  0.00000000e+00,\n",
              "         0.00000000e+00,  0.00000000e+00,  1.50000000e+01]])"
            ]
          },
          "metadata": {},
          "execution_count": 30
        }
      ]
    },
    {
      "cell_type": "markdown",
      "source": [
        "8-6"
      ],
      "metadata": {
        "id": "DSF7Djs0sg2b"
      }
    },
    {
      "cell_type": "code",
      "source": [
        "Q,R = np.linalg.qr(np.random.randn(12,12))\n",
        "\n",
        "np.linalg.norm(Q,2)\n",
        "np.sqrt(np.sum(Q**2))/np.sqrt(12)"
      ],
      "metadata": {
        "colab": {
          "base_uri": "https://localhost:8080/"
        },
        "id": "4K3ksuNTTIGe",
        "outputId": "fc0d5e3c-b2ce-4294-a023-337c92b435e6"
      },
      "execution_count": null,
      "outputs": [
        {
          "output_type": "execute_result",
          "data": {
            "text/plain": [
              "1.0"
            ]
          },
          "metadata": {},
          "execution_count": 36
        }
      ]
    },
    {
      "cell_type": "code",
      "source": [
        "v = np.random.randn(12,1)\n",
        "\n",
        "norm_v  = np.linalg.norm(v)\n",
        "norm_Qv = np.linalg.norm(Q@v)\n",
        "\n",
        "norm_v\n",
        "norm_Qv"
      ],
      "metadata": {
        "colab": {
          "base_uri": "https://localhost:8080/"
        },
        "id": "evBoCsKVTOLc",
        "outputId": "dc5db965-9495-4ca5-d33a-56a911497b07"
      },
      "execution_count": null,
      "outputs": [
        {
          "output_type": "execute_result",
          "data": {
            "text/plain": [
              "3.1967950595222865"
            ]
          },
          "metadata": {},
          "execution_count": 39
        }
      ]
    },
    {
      "cell_type": "markdown",
      "source": [
        "8-7"
      ],
      "metadata": {
        "id": "hfhRz8REshsF"
      }
    },
    {
      "cell_type": "code",
      "source": [
        "A = np.random.randn(10,4)\n",
        "\n",
        "_,R = np.linalg.qr(A,'complete') #complete: R이 상삼각 형태를 유지"
      ],
      "metadata": {
        "id": "I3YHX6l4Tx-W"
      },
      "execution_count": null,
      "outputs": []
    },
    {
      "cell_type": "code",
      "source": [
        "Rsub = R[:4,:] #(4,n)의 크기를 갖는 하위행렬\n",
        "\n",
        "Rsub_inv = np.linalg.inv(Rsub)\n",
        "Rleftinv = np.linalg.pinv(R)\n",
        "\n",
        "Rsub_inv\n",
        "Rleftinv"
      ],
      "metadata": {
        "colab": {
          "base_uri": "https://localhost:8080/"
        },
        "id": "56PEVZ5tUHD1",
        "outputId": "f0b75e89-8d71-4ee4-b29c-333dd19a59ef"
      },
      "execution_count": null,
      "outputs": [
        {
          "output_type": "execute_result",
          "data": {
            "text/plain": [
              "array([[ 4.05339303e-01, -3.08927884e-01, -2.12386985e-01,\n",
              "        -3.12395630e-01,  0.00000000e+00,  0.00000000e+00,\n",
              "         0.00000000e+00,  0.00000000e+00,  0.00000000e+00,\n",
              "         0.00000000e+00],\n",
              "       [ 1.84870012e-16,  4.51529399e-01,  2.27372903e-01,\n",
              "         3.51171277e-01,  0.00000000e+00,  0.00000000e+00,\n",
              "         0.00000000e+00,  0.00000000e+00,  0.00000000e+00,\n",
              "         0.00000000e+00],\n",
              "       [-2.55960961e-18,  5.19525136e-17, -2.86092639e-01,\n",
              "        -8.25520310e-02,  0.00000000e+00,  0.00000000e+00,\n",
              "         0.00000000e+00,  0.00000000e+00,  0.00000000e+00,\n",
              "         0.00000000e+00],\n",
              "       [-2.74268306e-16, -1.09180957e-16, -1.18474337e-16,\n",
              "        -4.68388623e-01,  0.00000000e+00,  0.00000000e+00,\n",
              "         0.00000000e+00,  0.00000000e+00,  0.00000000e+00,\n",
              "         0.00000000e+00]])"
            ]
          },
          "metadata": {},
          "execution_count": 43
        }
      ]
    },
    {
      "cell_type": "code",
      "source": [],
      "metadata": {
        "id": "5IWLlKYZVTOv"
      },
      "execution_count": null,
      "outputs": []
    }
  ]
}