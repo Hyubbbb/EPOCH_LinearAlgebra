{
 "cells": [
  {
   "cell_type": "code",
   "execution_count": 6,
   "metadata": {},
   "outputs": [],
   "source": [
    "import numpy as np\n",
    "import scipy.linalg"
   ]
  },
  {
   "cell_type": "markdown",
   "metadata": {},
   "source": [
    "### [연습문제 9-3]"
   ]
  },
  {
   "cell_type": "code",
   "execution_count": 8,
   "metadata": {},
   "outputs": [
    {
     "name": "stdout",
     "output_type": "stream",
     "text": [
      "[[1. 0. 0. 0.]\n",
      " [0. 0. 1. 0.]\n",
      " [0. 1. 0. 0.]\n",
      " [0. 0. 0. 1.]]\n",
      "[[ 1.          0.          0.          0.        ]\n",
      " [ 0.17041554  1.          0.          0.        ]\n",
      " [-0.28537224 -0.78499985  1.          0.        ]\n",
      " [ 0.01865656  0.44619239 -0.55434979  1.        ]]\n",
      "[[-2.45723346 -0.39892112 -0.38121366  1.50839303]\n",
      " [ 0.          0.85579498  1.26512609  0.83479468]\n",
      " [ 0.          0.          2.25628691 -0.57705351]\n",
      " [ 0.          0.          0.         -1.15392313]]\n"
     ]
    }
   ],
   "source": [
    "M = np.random.randn(4,4)\n",
    "\n",
    "# LU 분해\n",
    "P, L, U = scipy.linalg.lu(M)\n",
    "\n",
    "print(P)\n",
    "print(L)\n",
    "print(U)"
   ]
  },
  {
   "cell_type": "code",
   "execution_count": 9,
   "metadata": {},
   "outputs": [
    {
     "data": {
      "text/plain": [
       "-5.475040780080689"
      ]
     },
     "execution_count": 9,
     "metadata": {},
     "output_type": "execute_result"
    }
   ],
   "source": [
    "np.linalg.det(M)"
   ]
  },
  {
   "cell_type": "code",
   "execution_count": 10,
   "metadata": {},
   "outputs": [
    {
     "data": {
      "text/plain": [
       "5.475040780080689"
      ]
     },
     "execution_count": 10,
     "metadata": {},
     "output_type": "execute_result"
    }
   ],
   "source": [
    "np.linalg.det(U)"
   ]
  },
  {
   "cell_type": "code",
   "execution_count": 12,
   "metadata": {},
   "outputs": [
    {
     "data": {
      "text/plain": [
       "-5.475040780080689"
      ]
     },
     "execution_count": 12,
     "metadata": {},
     "output_type": "execute_result"
    }
   ],
   "source": [
    "# 치환 행렬의 행렬식 사용(PtA = LU)\n",
    "np.linalg.det(P.T @ L @ U)"
   ]
  },
  {
   "cell_type": "markdown",
   "metadata": {},
   "source": [
    "### [연습문제 9-4]\n",
    "- 4x4 난수 행렬에 대해 scipy.linalg.lu을 호출한 결과를 사용해 세 번째 방정식을 직접 구현해 보기.\n",
    "- AA^-1는 단위 행렬인가요?\n",
    "- 수학 규칙이 아닌 SciPy의 규칙을 따르도록 코드를 수정해 보기."
   ]
  },
  {
   "cell_type": "code",
   "execution_count": 41,
   "metadata": {},
   "outputs": [
    {
     "name": "stdout",
     "output_type": "stream",
     "text": [
      "[[-0.24843063 -0.74012666  0.21139219  0.40829915]\n",
      " [-0.56033044  0.65912208 -1.87947959 -0.55881761]\n",
      " [-0.0144326   0.01616725 -0.30700909  1.55847984]\n",
      " [ 1.41346997  0.07035363  1.04448264  0.33202611]]\n",
      "[[-0.0144326   0.01616725 -0.30700909  1.55847984]\n",
      " [ 1.41346997  0.07035363  1.04448264  0.33202611]\n",
      " [-0.24843063 -0.74012666  0.21139219  0.40829915]\n",
      " [-0.56033044  0.65912208 -1.87947959 -0.55881761]]\n"
     ]
    }
   ],
   "source": [
    "A = np.random.randn(4,4)\n",
    "\n",
    "# LU 분해\n",
    "P, L, U = scipy.linalg.lu(A)\n",
    "\n",
    "# A = P^T L U\n",
    "print(A)\n",
    "print(P.T @ L @ U)"
   ]
  },
  {
   "cell_type": "code",
   "execution_count": 42,
   "metadata": {},
   "outputs": [
    {
     "name": "stdout",
     "output_type": "stream",
     "text": [
      "[[ 0.76978859  0.74732399 -0.17599067  1.13723494]\n",
      " [-1.93586124 -0.60525341  0.41285101 -0.57596599]\n",
      " [-0.86577362 -0.91731741  0.00777577 -0.51573315]\n",
      " [-0.14334017 -0.16750532  0.63727008 -0.08508915]]\n",
      "[[-0.17599067  1.13723494  0.76978859  0.74732399]\n",
      " [ 0.41285101 -0.57596599 -1.93586124 -0.60525341]\n",
      " [ 0.00777577 -0.51573315 -0.86577362 -0.91731741]\n",
      " [ 0.63727008 -0.08508915 -0.14334017 -0.16750532]]\n"
     ]
    }
   ],
   "source": [
    "# A^-1 = (P^T L U)^-1 = U^-1 L^-1 P\n",
    "print(np.linalg.inv(A))\n",
    "print(np.linalg.inv(U) @ np.linalg.inv(L) @ P)\n",
    "A_inv = np.linalg.inv(U) @ np.linalg.inv(L) @ P"
   ]
  },
  {
   "cell_type": "code",
   "execution_count": 43,
   "metadata": {},
   "outputs": [
    {
     "name": "stdout",
     "output_type": "stream",
     "text": [
      "[[-6.32582063e-17 -7.11804213e-18  1.00000000e+00  2.45432165e-17]\n",
      " [ 8.35955062e-17 -5.32382344e-17 -2.83280615e-16  1.00000000e+00]\n",
      " [ 1.00000000e+00 -7.59006337e-18  3.85355365e-17 -1.23399848e-17]\n",
      " [-1.40913278e-17  1.00000000e+00 -3.35881287e-17  4.52655221e-17]]\n"
     ]
    }
   ],
   "source": [
    "# A A_inv가 단위 행렬인가?\n",
    "print(A @ A_inv)"
   ]
  },
  {
   "cell_type": "markdown",
   "metadata": {},
   "source": [
    "- 3트만에 단위 행렬 아닌 경우 발견!"
   ]
  },
  {
   "cell_type": "code",
   "execution_count": 48,
   "metadata": {},
   "outputs": [
    {
     "name": "stdout",
     "output_type": "stream",
     "text": [
      "[[ 1.00000000e+00  2.45432165e-17 -7.74705509e-18 -7.11804213e-18]\n",
      " [-2.83280615e-16  1.00000000e+00  8.35955062e-17 -5.32382344e-17]\n",
      " [-1.69756147e-17 -1.23399848e-17  1.00000000e+00 -3.53456390e-17]\n",
      " [-3.35881287e-17  4.52655221e-17 -1.40913278e-17  1.00000000e+00]]\n"
     ]
    }
   ],
   "source": [
    "# SciPy 규칙을 사용해봅시다.\n",
    "A2 = P @ L @ U\n",
    "A2_inv = np.linalg.inv(U) @ np.linalg.inv(L) @ np.linalg.inv(P)\n",
    "\n",
    "print(A2 @ A2_inv)\n"
   ]
  },
  {
   "cell_type": "markdown",
   "metadata": {},
   "source": [
    "### [연습문제 9-5]\n",
    "- 행렬 A = PLU에서, 치환 행렬을 사용하지 않고도 A^TA를 U^TL^TLU로 계산할 수 있습니다.\n",
    "- 치환 행렬을 삭제할 수 있는 이유는 무엇인가요?\n",
    "- 질문에 답한 다음 파이썬에서 무작위 행렬을 사용해 P != I 일 때도 A^TA = U^TL^TLU임을 확인해 보세요."
   ]
  },
  {
   "cell_type": "markdown",
   "metadata": {},
   "source": [
    "#### 치환 행렬을 삭제할 수 있는 이유\n",
    "- A^TA가 이미 대칭 행렬이기 때문에 그런 거 아닐까요..?"
   ]
  },
  {
   "cell_type": "code",
   "execution_count": 49,
   "metadata": {},
   "outputs": [
    {
     "name": "stdout",
     "output_type": "stream",
     "text": [
      "[[1. 0. 0. 0.]\n",
      " [0. 0. 1. 0.]\n",
      " [0. 0. 0. 1.]\n",
      " [0. 1. 0. 0.]]\n",
      "[[ 1.          0.          0.          0.        ]\n",
      " [-0.49096217  1.          0.          0.        ]\n",
      " [-0.99666968  0.64900567  1.          0.        ]\n",
      " [-0.25887394 -0.2679439   0.380692    1.        ]]\n",
      "[[ 1.73492914 -1.15603248  2.09286654 -1.05884862]\n",
      " [ 0.         -2.01207106  1.07258654 -0.26682582]\n",
      " [ 0.          0.          1.86745203 -2.58502042]\n",
      " [ 0.          0.          0.         -1.85882452]]\n"
     ]
    }
   ],
   "source": [
    "A = np.random.randn(4,4)\n",
    "P, L, U = scipy.linalg.lu(A)\n",
    "\n",
    "print(P)\n",
    "print(L)\n",
    "print(U)\n"
   ]
  },
  {
   "cell_type": "code",
   "execution_count": 50,
   "metadata": {},
   "outputs": [
    {
     "name": "stdout",
     "output_type": "stream",
     "text": [
      "[[ 6.92719613 -0.8860665   2.81973556  2.01358125]\n",
      " [-0.8860665   4.14950775 -2.65706898 -0.97349332]\n",
      " [ 2.81973556 -2.65706898  4.62427512 -2.72270837]\n",
      " [ 2.01358125 -0.97349332 -2.72270837 10.32154812]]\n",
      "[[ 6.92719613 -0.8860665   2.81973556  2.01358125]\n",
      " [-0.8860665   4.14950775 -2.65706898 -0.97349332]\n",
      " [ 2.81973556 -2.65706898  4.62427512 -2.72270837]\n",
      " [ 2.01358125 -0.97349332 -2.72270837 10.32154812]]\n"
     ]
    }
   ],
   "source": [
    "AtA = A.T @ A\n",
    "UtLtLU = U.T @ L.T @ L @ U\n",
    "\n",
    "print(AtA)\n",
    "print(UtLtLU)"
   ]
  },
  {
   "cell_type": "markdown",
   "metadata": {},
   "source": [
    "- P != I 일 때도 A^TA = U^TL^TLU 이다."
   ]
  },
  {
   "cell_type": "markdown",
   "metadata": {},
   "source": []
  }
 ],
 "metadata": {
  "kernelspec": {
   "display_name": "base",
   "language": "python",
   "name": "python3"
  },
  "language_info": {
   "codemirror_mode": {
    "name": "ipython",
    "version": 3
   },
   "file_extension": ".py",
   "mimetype": "text/x-python",
   "name": "python",
   "nbconvert_exporter": "python",
   "pygments_lexer": "ipython3",
   "version": "3.10.15"
  }
 },
 "nbformat": 4,
 "nbformat_minor": 2
}
