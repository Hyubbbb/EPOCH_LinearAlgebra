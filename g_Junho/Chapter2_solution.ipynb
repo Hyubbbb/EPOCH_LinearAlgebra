{
 "cells": [
  {
   "cell_type": "code",
   "execution_count": 5,
   "metadata": {},
   "outputs": [],
   "source": [
    "import numpy as np\n",
    "import matplotlib.pyplot as plt\n",
    "import plotly.graph_objects as go"
   ]
  },
  {
   "cell_type": "markdown",
   "metadata": {},
   "source": [
    "#### [연습문제 2-1]\n",
    "\n",
    "- 선형 가중 결합 코드 구현\n",
    "- 각 리스트 안에 스칼라와 벡터를 원소에 넣기 (스칼라 리스트와 numpy 배열 리스트가 두개가 만들어짐)\n",
    "- for 루프를 사용해 선형 가중 결합 연산을 구현\n",
    "- np.zeros()를 사용해 출력 벡터를 초기화한다."
   ]
  },
  {
   "cell_type": "code",
   "execution_count": 2,
   "metadata": {},
   "outputs": [
    {
     "name": "stdout",
     "output_type": "stream",
     "text": [
      "[ -7  -4 -13]\n"
     ]
    }
   ],
   "source": [
    "l1 = 1\n",
    "l2 = 2\n",
    "l3 = -3\n",
    "v1 = np.array([4,5,1])\n",
    "v2 = np.array([-4,0,-4])\n",
    "v3 = np.array([1,3,2])\n",
    "\n",
    "v = l1*v1 + l2*v2 + l3*v3\n",
    "print(v)"
   ]
  },
  {
   "cell_type": "code",
   "execution_count": 3,
   "metadata": {},
   "outputs": [
    {
     "name": "stdout",
     "output_type": "stream",
     "text": [
      "[ -7.  -4. -13.]\n"
     ]
    }
   ],
   "source": [
    "scalars = [l1, l2, l3]\n",
    "vectors = [v1, v2, v3]\n",
    "\n",
    "linCom = np.zeros(3)\n",
    "\n",
    "for i in range(3):\n",
    "  linCom += scalars[i]*vectors[i]\n",
    "\n",
    "print(linCom)"
   ]
  },
  {
   "cell_type": "markdown",
   "metadata": {},
   "source": [
    "#### [연습문제 2-3]\n",
    "\n",
    "- [1,3] 벡터 하나를 가진 벡터 집합 정의\n",
    "- -4와 +4 사이의 균일한 분포로 100개의 숫자 무작위로 만들기\n",
    "- 기저벡터에 이 무작위 스칼라를 곱해서 부분공간에 점 100개를 만들기\n",
    "- 그 점들을 시각화 하기\n",
    "\n",
    "- [3,5,1] [0,2,2] 두 벡터를 사용해 똑같이 이 과정을 반복하기"
   ]
  },
  {
   "cell_type": "code",
   "execution_count": 6,
   "metadata": {},
   "outputs": [
    {
     "data": {
      "text/plain": [
       "[<matplotlib.lines.Line2D at 0x120307b80>]"
      ]
     },
     "execution_count": 6,
     "metadata": {},
     "output_type": "execute_result"
    },
    {
     "data": {
      "image/png": "[encoded data removed]",
      "text/plain": [
       "<Figure size 640x480 with 1 Axes>"
      ]
     },
     "metadata": {},
     "output_type": "display_data"
    }
   ],
   "source": [
    "# [1,3] 벡터 하나를 가진 벡터 집합 정의\n",
    "v = np.array([1,3])\n",
    "\n",
    "# -4와 4 사이의 균일한 분포로 100개의 숫자 무작위로 만들기\n",
    "boundary = [-4,4]\n",
    "l1 = np.random.uniform(boundary[0], boundary[1], 100)\n",
    "\n",
    "# 점들 시각화하기\n",
    "plt.plot(l1*v[0], l1*v[1], 'go')"
   ]
  },
  {
   "cell_type": "code",
   "execution_count": 8,
   "metadata": {},
   "outputs": [
    {
     "data": {
      "application/vnd.plotly.v1+json": {
       "config": {
        "plotlyServerURL": "https://plot.ly"
       },
       "data": [
        {
         "marker": {
          "size": 5
         },
         "mode": "markers",
         "type": "scatter3d",
         "x": [
          -7.652017957144794,
          0.37633473893949887,
          8.237266364162632,
          3.9418658687912282,
          -9.09411965289986,
          -10.603917940502718,
          -9.186788667378298,
          7.953848507677743,
          10.755025314368295,
          2.427661148723974,
          5.274215105601587,
          11.675967533231072,
          6.3691968264529955,
          -9.935360015097249,
          -3.1167855642358697,
          1.976388387168611,
          -9.126383432090707,
          9.95879163858881,
          -3.3738841388208147,
          -6.84239044854746,
          10.893915524820134,
          -10.27781408884739,
          -10.659579449338079,
          -8.195837138547503,
          3.97523040487187,
          5.77487169879596,
          -3.5464462897444307,
          -6.898998673806787,
          10.520449726856477,
          -7.817267482787235,
          -0.03243646914166298,
          0.9031148302474206,
          1.7030018804956262,
          -7.260445989014492,
          -7.697902948843741,
          -5.534305137199724,
          3.7631501453223324,
          3.0374954809120434,
          -6.044317280365296,
          -1.8105063403713917,
          -4.707818421088244,
          7.551063000600407,
          8.004957740119252,
          8.46997704425725,
          -10.903100011449702,
          1.4550675585763235,
          -6.652440327354221,
          -4.962963818599898,
          11.836329548753255,
          6.913176024000551,
          0.42512325584180743,
          3.8051811154926467,
          11.158321461562291,
          3.5238234837413644,
          10.665187217668828,
          8.841749617274068,
          8.094792415111083,
          6.8691753408434595,
          3.1050521819309473,
          6.035504854183323,
          11.584045348940652,
          10.305806167284903,
          -9.385987917816166,
          6.452920446921725,
          3.803879437462702,
          -9.16398400914052,
          -2.135228583900859,
          -0.6376502104948703,
          -8.723074949486335,
          5.308353990635457,
          -4.564345557560732,
          4.359721253850181,
          11.10575268557572,
          9.961381967424993,
          4.691502001793224,
          -1.556489385803129,
          2.4729463931609024,
          3.403932394463352,
          6.943851769622875,
          -6.4502441141593865,
          -4.487602455949424,
          -10.141410474581976,
          -4.9081215117964145,
          -2.1086026248710015,
          8.283457335473326,
          4.512283228443843,
          -0.9439352159665209,
          -9.64169014421648,
          10.77716099700218,
          -5.235796368727219,
          11.966285585045032,
          -6.68035131578607,
          11.312575897795767,
          6.689113387329891,
          11.6883792724969,
          -8.366284642985745,
          -11.081564466386721,
          -9.856745656622316,
          2.9824384883237967,
          -3.361031427572069
         ],
         "y": [
          -6.286834512007557,
          7.637010156535294,
          13.592489798199251,
          10.671203181104552,
          -22.20722606310671,
          -14.474196924604193,
          -21.876822034870315,
          10.332310208300697,
          13.956307639636485,
          9.85096177864716,
          11.163458272983048,
          13.404745199931789,
          6.005355584959341,
          -14.258498974109445,
          -3.827932025254154,
          11.208779653183033,
          -21.789513184840175,
          13.974229294400615,
          -2.5652573229238698,
          -4.654265898611802,
          24.412916167508325,
          -21.52658250268398,
          -22.655189629702477,
          -19.24477646447009,
          8.614105069678672,
          12.859286760595209,
          -0.5752571688535077,
          -14.26930185740824,
          18.819107357172946,
          -18.61152181093476,
          -0.3468608939834734,
          -1.541508102781509,
          9.511172263554851,
          -16.57266917722913,
          -8.883352411759713,
          -10.385967518504664,
          1.3092338288678915,
          1.1759099568470033,
          -3.7219474613208305,
          -1.5196945499371708,
          -13.856476182529665,
          4.9322059156212905,
          11.660789018620315,
          12.377050949358672,
          -20.737525347324393,
          6.673375627468091,
          -15.09910258276895,
          -3.06502250300975,
          25.736229166895775,
          16.378523939815857,
          4.6984296134308146,
          8.159245231406306,
          11.098144153614315,
          3.1572282801316076,
          17.55225146113488,
          11.692655100137928,
          9.079343994577858,
          14.298293398069447,
          1.5527638760723566,
          10.9586807349189,
          22.915027601470346,
          16.878220196639866,
          -15.785331177025997,
          14.950408823858877,
          2.0125984085458866,
          -17.21510710168893,
          -2.6790921432517587,
          -7.444020449551683,
          -12.896537794959382,
          9.257407479546224,
          -0.11415634979457767,
          13.579243380268455,
          13.313034180389815,
          19.437335822312974,
          11.6171037594575,
          -0.2394662964336618,
          4.0442720732347075,
          5.559515192009336,
          16.543641078246488,
          -10.976935323208725,
          -0.11853278968766379,
          -18.072038622539175,
          -2.974267889791207,
          -8.618656811904636,
          5.908645128151514,
          8.358349601500361,
          -2.022777315903406,
          -9.316369635583772,
          13.913342894583028,
          -10.9159294477378,
          14.917114971735367,
          -8.540556443406961,
          20.370663134050698,
          6.802380101900535,
          22.36966537885891,
          -12.506585212320324,
          -19.953372760855196,
          -8.920267659058045,
          9.027263626652207,
          -7.370386492918792
         ],
         "z": [
          3.9158560975188355,
          7.135230504615962,
          2.609467979315739,
          5.415382022716247,
          -10.081733192573562,
          -0.33563967060056665,
          -9.627770478365916,
          -0.27282113526962615,
          -0.38372611285457303,
          6.614080247015195,
          4.131171465514266,
          -2.163211511042972,
          -2.4869068503113194,
          -1.011352287313115,
          0.3277820603936723,
          8.573595136958218,
          -9.621001942052564,
          0.6958404429488665,
          1.9332548621705499,
          4.468921366118145,
          9.887695467748145,
          -7.822830384220794,
          -8.442417030585034,
          -8.316993613073418,
          3.3137978631828444,
          5.159457828867262,
          4.1533378841390665,
          -5.0706369589991915,
          4.791841054697648,
          -8.188498500551782,
          -0.3036122684612561,
          -2.7456612097780697,
          7.240503089560682,
          -6.892074525209809,
          1.3805181866986098,
          -3.006894002238364,
          -3.7082996982285517,
          -2.874084017702388,
          4.337142245832898,
          0.8943139038913515,
          -7.579384954412007,
          -5.135878085179251,
          0.9875120317946458,
          1.0837482236823384,
          -6.200058665391455,
          4.733285549366326,
          -6.229182146296654,
          3.55226258845678,
          9.954456435224767,
          7.160955907815122,
          4.131598605641738,
          3.085670410749443,
          -3.7796177951354064,
          -1.541203031523545,
          3.3320018375764455,
          -0.09634438956082736,
          -1.7137125589035884,
          5.1393929436115,
          -2.5873056998355732,
          2.9113409293411365,
          7.469633802882812,
          3.1371453069266604,
          -3.270680619937777,
          6.346514894629911,
          -3.0592408414043826,
          -4.996461756168235,
          0.1678793019493865,
          -6.593820168891856,
          -1.2657711956442705,
          2.1796021586989482,
          5.971637726953065,
          7.766281708468214,
          -1.4946360670444756,
          6.155493199079647,
          5.361767757066533,
          1.8358528846371769,
          0.7470102156868377,
          1.0209386660581998,
          7.285172052082655,
          -2.3766098376628753,
          5.864937151578235,
          -4.550157989763203,
          3.5698941259373456,
          -5.807186645409966,
          -5.135964652479589,
          2.3419719635752365,
          -0.764197027948045,
          3.5392172233715335,
          -0.45620510141987936,
          -3.9348676227681745,
          -1.037932474991342,
          0.36657864430779963,
          5.287228603656342,
          -2.116437747872653,
          6.7851596821963795,
          -1.3515390216726644,
          -5.177953472339569,
          4.222059883105043,
          5.050678975553811,
          -2.8890112561560333
         ]
        }
       ],
       "layout": {
        "template": {
         "data": {
          "bar": [
           {
            "error_x": {
             "color": "#2a3f5f"
            },
            "error_y": {
             "color": "#2a3f5f"
            },
            "marker": {
             "line": {
              "color": "#E5ECF6",
              "width": 0.5
             },
             "pattern": {
              "fillmode": "overlay",
              "size": 10,
              "solidity": 0.2
             }
            },
            "type": "bar"
           }
          ],
          "barpolar": [
           {
            "marker": {
             "line": {
              "color": "#E5ECF6",
              "width": 0.5
             },
             "pattern": {
              "fillmode": "overlay",
              "size": 10,
              "solidity": 0.2
             }
            },
            "type": "barpolar"
           }
          ],
          "carpet": [
           {
            "aaxis": {
             "endlinecolor": "#2a3f5f",
             "gridcolor": "white",
             "linecolor": "white",
             "minorgridcolor": "white",
             "startlinecolor": "#2a3f5f"
            },
            "baxis": {
             "endlinecolor": "#2a3f5f",
             "gridcolor": "white",
             "linecolor": "white",
             "minorgridcolor": "white",
             "startlinecolor": "#2a3f5f"
            },
            "type": "carpet"
           }
          ],
          "choropleth": [
           {
            "colorbar": {
             "outlinewidth": 0,
             "ticks": ""
            },
            "type": "choropleth"
           }
          ],
          "contour": [
           {
            "colorbar": {
             "outlinewidth": 0,
             "ticks": ""
            },
            "colorscale": [
             [
              0,
              "#0d0887"
             ],
             [
              0.1111111111111111,
              "#46039f"
             ],
             [
              0.2222222222222222,
              "#7201a8"
             ],
             [
              0.3333333333333333,
              "#9c179e"
             ],
             [
              0.4444444444444444,
              "#bd3786"
             ],
             [
              0.5555555555555556,
              "#d8576b"
             ],
             [
              0.6666666666666666,
              "#ed7953"
             ],
             [
              0.7777777777777778,
              "#fb9f3a"
             ],
             [
              0.8888888888888888,
              "#fdca26"
             ],
             [
              1,
              "#f0f921"
             ]
            ],
            "type": "contour"
           }
          ],
          "contourcarpet": [
           {
            "colorbar": {
             "outlinewidth": 0,
             "ticks": ""
            },
            "type": "contourcarpet"
           }
          ],
          "heatmap": [
           {
            "colorbar": {
             "outlinewidth": 0,
             "ticks": ""
            },
            "colorscale": [
             [
              0,
              "#0d0887"
             ],
             [
              0.1111111111111111,
              "#46039f"
             ],
             [
              0.2222222222222222,
              "#7201a8"
             ],
             [
              0.3333333333333333,
              "#9c179e"
             ],
             [
              0.4444444444444444,
              "#bd3786"
             ],
             [
              0.5555555555555556,
              "#d8576b"
             ],
             [
              0.6666666666666666,
              "#ed7953"
             ],
             [
              0.7777777777777778,
              "#fb9f3a"
             ],
             [
              0.8888888888888888,
              "#fdca26"
             ],
             [
              1,
              "#f0f921"
             ]
            ],
            "type": "heatmap"
           }
          ],
          "heatmapgl": [
           {
            "colorbar": {
             "outlinewidth": 0,
             "ticks": ""
            },
            "colorscale": [
             [
              0,
              "#0d0887"
             ],
             [
              0.1111111111111111,
              "#46039f"
             ],
             [
              0.2222222222222222,
              "#7201a8"
             ],
             [
              0.3333333333333333,
              "#9c179e"
             ],
             [
              0.4444444444444444,
              "#bd3786"
             ],
             [
              0.5555555555555556,
              "#d8576b"
             ],
             [
              0.6666666666666666,
              "#ed7953"
             ],
             [
              0.7777777777777778,
              "#fb9f3a"
             ],
             [
              0.8888888888888888,
              "#fdca26"
             ],
             [
              1,
              "#f0f921"
             ]
            ],
            "type": "heatmapgl"
           }
          ],
          "histogram": [
           {
            "marker": {
             "pattern": {
              "fillmode": "overlay",
              "size": 10,
              "solidity": 0.2
             }
            },
            "type": "histogram"
           }
          ],
          "histogram2d": [
           {
            "colorbar": {
             "outlinewidth": 0,
             "ticks": ""
            },
            "colorscale": [
             [
              0,
              "#0d0887"
             ],
             [
              0.1111111111111111,
              "#46039f"
             ],
             [
              0.2222222222222222,
              "#7201a8"
             ],
             [
              0.3333333333333333,
              "#9c179e"
             ],
             [
              0.4444444444444444,
              "#bd3786"
             ],
             [
              0.5555555555555556,
              "#d8576b"
             ],
             [
              0.6666666666666666,
              "#ed7953"
             ],
             [
              0.7777777777777778,
              "#fb9f3a"
             ],
             [
              0.8888888888888888,
              "#fdca26"
             ],
             [
              1,
              "#f0f921"
             ]
            ],
            "type": "histogram2d"
           }
          ],
          "histogram2dcontour": [
           {
            "colorbar": {
             "outlinewidth": 0,
             "ticks": ""
            },
            "colorscale": [
             [
              0,
              "#0d0887"
             ],
             [
              0.1111111111111111,
              "#46039f"
             ],
             [
              0.2222222222222222,
              "#7201a8"
             ],
             [
              0.3333333333333333,
              "#9c179e"
             ],
             [
              0.4444444444444444,
              "#bd3786"
             ],
             [
              0.5555555555555556,
              "#d8576b"
             ],
             [
              0.6666666666666666,
              "#ed7953"
             ],
             [
              0.7777777777777778,
              "#fb9f3a"
             ],
             [
              0.8888888888888888,
              "#fdca26"
             ],
             [
              1,
              "#f0f921"
             ]
            ],
            "type": "histogram2dcontour"
           }
          ],
          "mesh3d": [
           {
            "colorbar": {
             "outlinewidth": 0,
             "ticks": ""
            },
            "type": "mesh3d"
           }
          ],
          "parcoords": [
           {
            "line": {
             "colorbar": {
              "outlinewidth": 0,
              "ticks": ""
             }
            },
            "type": "parcoords"
           }
          ],
          "pie": [
           {
            "automargin": true,
            "type": "pie"
           }
          ],
          "scatter": [
           {
            "fillpattern": {
             "fillmode": "overlay",
             "size": 10,
             "solidity": 0.2
            },
            "type": "scatter"
           }
          ],
          "scatter3d": [
           {
            "line": {
             "colorbar": {
              "outlinewidth": 0,
              "ticks": ""
             }
            },
            "marker": {
             "colorbar": {
              "outlinewidth": 0,
              "ticks": ""
             }
            },
            "type": "scatter3d"
           }
          ],
          "scattercarpet": [
           {
            "marker": {
             "colorbar": {
              "outlinewidth": 0,
              "ticks": ""
             }
            },
            "type": "scattercarpet"
           }
          ],
          "scattergeo": [
           {
            "marker": {
             "colorbar": {
              "outlinewidth": 0,
              "ticks": ""
             }
            },
            "type": "scattergeo"
           }
          ],
          "scattergl": [
           {
            "marker": {
             "colorbar": {
              "outlinewidth": 0,
              "ticks": ""
             }
            },
            "type": "scattergl"
           }
          ],
          "scattermapbox": [
           {
            "marker": {
             "colorbar": {
              "outlinewidth": 0,
              "ticks": ""
             }
            },
            "type": "scattermapbox"
           }
          ],
          "scatterpolar": [
           {
            "marker": {
             "colorbar": {
              "outlinewidth": 0,
              "ticks": ""
             }
            },
            "type": "scatterpolar"
           }
          ],
          "scatterpolargl": [
           {
            "marker": {
             "colorbar": {
              "outlinewidth": 0,
              "ticks": ""
             }
            },
            "type": "scatterpolargl"
           }
          ],
          "scatterternary": [
           {
            "marker": {
             "colorbar": {
              "outlinewidth": 0,
              "ticks": ""
             }
            },
            "type": "scatterternary"
           }
          ],
          "surface": [
           {
            "colorbar": {
             "outlinewidth": 0,
             "ticks": ""
            },
            "colorscale": [
             [
              0,
              "#0d0887"
             ],
             [
              0.1111111111111111,
              "#46039f"
             ],
             [
              0.2222222222222222,
              "#7201a8"
             ],
             [
              0.3333333333333333,
              "#9c179e"
             ],
             [
              0.4444444444444444,
              "#bd3786"
             ],
             [
              0.5555555555555556,
              "#d8576b"
             ],
             [
              0.6666666666666666,
              "#ed7953"
             ],
             [
              0.7777777777777778,
              "#fb9f3a"
             ],
             [
              0.8888888888888888,
              "#fdca26"
             ],
             [
              1,
              "#f0f921"
             ]
            ],
            "type": "surface"
           }
          ],
          "table": [
           {
            "cells": {
             "fill": {
              "color": "#EBF0F8"
             },
             "line": {
              "color": "white"
             }
            },
            "header": {
             "fill": {
              "color": "#C8D4E3"
             },
             "line": {
              "color": "white"
             }
            },
            "type": "table"
           }
          ]
         },
         "layout": {
          "annotationdefaults": {
           "arrowcolor": "#2a3f5f",
           "arrowhead": 0,
           "arrowwidth": 1
          },
          "autotypenumbers": "strict",
          "coloraxis": {
           "colorbar": {
            "outlinewidth": 0,
            "ticks": ""
           }
          },
          "colorscale": {
           "diverging": [
            [
             0,
             "#8e0152"
            ],
            [
             0.1,
             "#c51b7d"
            ],
            [
             0.2,
             "#de77ae"
            ],
            [
             0.3,
             "#f1b6da"
            ],
            [
             0.4,
             "#fde0ef"
            ],
            [
             0.5,
             "#f7f7f7"
            ],
            [
             0.6,
             "#e6f5d0"
            ],
            [
             0.7,
             "#b8e186"
            ],
            [
             0.8,
             "#7fbc41"
            ],
            [
             0.9,
             "#4d9221"
            ],
            [
             1,
             "#276419"
            ]
           ],
           "sequential": [
            [
             0,
             "#0d0887"
            ],
            [
             0.1111111111111111,
             "#46039f"
            ],
            [
             0.2222222222222222,
             "#7201a8"
            ],
            [
             0.3333333333333333,
             "#9c179e"
            ],
            [
             0.4444444444444444,
             "#bd3786"
            ],
            [
             0.5555555555555556,
             "#d8576b"
            ],
            [
             0.6666666666666666,
             "#ed7953"
            ],
            [
             0.7777777777777778,
             "#fb9f3a"
            ],
            [
             0.8888888888888888,
             "#fdca26"
            ],
            [
             1,
             "#f0f921"
            ]
           ],
           "sequentialminus": [
            [
             0,
             "#0d0887"
            ],
            [
             0.1111111111111111,
             "#46039f"
            ],
            [
             0.2222222222222222,
             "#7201a8"
            ],
            [
             0.3333333333333333,
             "#9c179e"
            ],
            [
             0.4444444444444444,
             "#bd3786"
            ],
            [
             0.5555555555555556,
             "#d8576b"
            ],
            [
             0.6666666666666666,
             "#ed7953"
            ],
            [
             0.7777777777777778,
             "#fb9f3a"
            ],
            [
             0.8888888888888888,
             "#fdca26"
            ],
            [
             1,
             "#f0f921"
            ]
           ]
          },
          "colorway": [
           "#636efa",
           "#EF553B",
           "#00cc96",
           "#ab63fa",
           "#FFA15A",
           "#19d3f3",
           "#FF6692",
           "#B6E880",
           "#FF97FF",
           "#FECB52"
          ],
          "font": {
           "color": "#2a3f5f"
          },
          "geo": {
           "bgcolor": "white",
           "lakecolor": "white",
           "landcolor": "#E5ECF6",
           "showlakes": true,
           "showland": true,
           "subunitcolor": "white"
          },
          "hoverlabel": {
           "align": "left"
          },
          "hovermode": "closest",
          "mapbox": {
           "style": "light"
          },
          "paper_bgcolor": "white",
          "plot_bgcolor": "#E5ECF6",
          "polar": {
           "angularaxis": {
            "gridcolor": "white",
            "linecolor": "white",
            "ticks": ""
           },
           "bgcolor": "#E5ECF6",
           "radialaxis": {
            "gridcolor": "white",
            "linecolor": "white",
            "ticks": ""
           }
          },
          "scene": {
           "xaxis": {
            "backgroundcolor": "#E5ECF6",
            "gridcolor": "white",
            "gridwidth": 2,
            "linecolor": "white",
            "showbackground": true,
            "ticks": "",
            "zerolinecolor": "white"
           },
           "yaxis": {
            "backgroundcolor": "#E5ECF6",
            "gridcolor": "white",
            "gridwidth": 2,
            "linecolor": "white",
            "showbackground": true,
            "ticks": "",
            "zerolinecolor": "white"
           },
           "zaxis": {
            "backgroundcolor": "#E5ECF6",
            "gridcolor": "white",
            "gridwidth": 2,
            "linecolor": "white",
            "showbackground": true,
            "ticks": "",
            "zerolinecolor": "white"
           }
          },
          "shapedefaults": {
           "line": {
            "color": "#2a3f5f"
           }
          },
          "ternary": {
           "aaxis": {
            "gridcolor": "white",
            "linecolor": "white",
            "ticks": ""
           },
           "baxis": {
            "gridcolor": "white",
            "linecolor": "white",
            "ticks": ""
           },
           "bgcolor": "#E5ECF6",
           "caxis": {
            "gridcolor": "white",
            "linecolor": "white",
            "ticks": ""
           }
          },
          "title": {
           "x": 0.05
          },
          "xaxis": {
           "automargin": true,
           "gridcolor": "white",
           "linecolor": "white",
           "ticks": "",
           "title": {
            "standoff": 15
           },
           "zerolinecolor": "white",
           "zerolinewidth": 2
          },
          "yaxis": {
           "automargin": true,
           "gridcolor": "white",
           "linecolor": "white",
           "ticks": "",
           "title": {
            "standoff": 15
           },
           "zerolinecolor": "white",
           "zerolinewidth": 2
          }
         }
        }
       }
      }
     },
     "metadata": {},
     "output_type": "display_data"
    }
   ],
   "source": [
    "v1 = np.array([3,5,1])\n",
    "v2 = np.array([0,2,2])\n",
    "\n",
    "l2 = np.random.uniform(boundary[0], boundary[1], (100,2))\n",
    "\n",
    "points = np.zeros((100,3))\n",
    "\n",
    "for i in range(100):\n",
    "  points[i,:] = l2[i,0]*v1 + l2[i,1]*v2\n",
    "\n",
    "flg = go.Figure( data=[go.Scatter3d(x=points[:,0], y=points[:,1], z=points[:,2], mode='markers', marker=dict(size=5))])\n",
    "flg.show()"
   ]
  },
  {
   "cell_type": "markdown",
   "metadata": {},
   "source": []
  }
 ],
 "metadata": {
  "kernelspec": {
   "display_name": "base",
   "language": "python",
   "name": "python3"
  },
  "language_info": {
   "codemirror_mode": {
    "name": "ipython",
    "version": 3
   },
   "file_extension": ".py",
   "mimetype": "text/x-python",
   "name": "python",
   "nbconvert_exporter": "python",
   "pygments_lexer": "ipython3",
   "version": "3.10.14"
  }
 },
 "nbformat": 4,
 "nbformat_minor": 2
}
