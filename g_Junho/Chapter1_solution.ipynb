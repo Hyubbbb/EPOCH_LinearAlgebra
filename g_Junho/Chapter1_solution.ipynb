{
 "cells": [
  {
   "cell_type": "code",
   "execution_count": 1,
   "metadata": {},
   "outputs": [],
   "source": [
    "import numpy as np"
   ]
  },
  {
   "cell_type": "markdown",
   "metadata": {},
   "source": [
    "#### [연습문제 1-2]\n",
    "\n",
    "- normOfVector를 계산하는 알고리즘 작성.\n",
    "- 작성한 알고리즘이 np.linalg.norm() 이랑 결과가 같은지 확인해보자!"
   ]
  },
  {
   "cell_type": "code",
   "execution_count": 3,
   "metadata": {},
   "outputs": [
    {
     "name": "stdout",
     "output_type": "stream",
     "text": [
      "3.7416573867739413\n",
      "3.7416573867739413\n",
      "1.7320508075688772\n",
      "1.7320508075688772\n"
     ]
    }
   ],
   "source": [
    "def normOfVector(v):\n",
    "  return np.sum(v**2)**0.5\n",
    "\n",
    "v1 = np.array([1, 2, 3])\n",
    "print(normOfVector(v1))\n",
    "print(np.linalg.norm(v1))\n",
    "\n",
    "v2 = np.array([1, 1, 1])\n",
    "print(normOfVector(v2))\n",
    "print(np.linalg.norm(v2))"
   ]
  },
  {
   "cell_type": "markdown",
   "metadata": {},
   "source": [
    "#### [연습문제 1-5]\n",
    "\n",
    "- np.transpose(v) 또는 v.T와 같은 내장 함수 또는 메서드를 사용하지 않고 형벡터를 열벡터로 전치하는 for 루프 작성"
   ]
  },
  {
   "cell_type": "code",
   "execution_count": 9,
   "metadata": {},
   "outputs": [
    {
     "name": "stdout",
     "output_type": "stream",
     "text": [
      "[[1.]\n",
      " [2.]\n",
      " [3.]\n",
      " [4.]\n",
      " [5.]]\n"
     ]
    }
   ],
   "source": [
    "v = np.array([1, 2, 3, 4, 5])\n",
    "\n",
    "# transpose할 빈 vector 생성\n",
    "tv = np.zeros((len(v), 1))\n",
    "\n",
    "# transpose\n",
    "for i in range(len(v)):\n",
    "  tv[i] = v[i]\n",
    "\n",
    "print(tv)"
   ]
  },
  {
   "cell_type": "markdown",
   "metadata": {},
   "source": [
    "#### [연습문제 1-6]\n",
    "\n",
    "- squared norm of a vector를 벡터 자체의 내적으로 계산할 수 있다."
   ]
  },
  {
   "cell_type": "code",
   "execution_count": 11,
   "metadata": {},
   "outputs": [
    {
     "name": "stdout",
     "output_type": "stream",
     "text": [
      "14\n",
      "14\n"
     ]
    }
   ],
   "source": [
    "# squared norm of a vector\n",
    "v = np.array([1,2,3])\n",
    "snv = np.sum(v**2)\n",
    "\n",
    "# 벡터 내적\n",
    "pv = np.dot(v, v)\n",
    "\n",
    "print(snv)\n",
    "print(pv)"
   ]
  },
  {
   "cell_type": "markdown",
   "metadata": {},
   "source": [
    "#### [연습문제 1-7]\n",
    "\n",
    "- 내적의 교환 법칙을 입증하는 코드 작성"
   ]
  },
  {
   "cell_type": "code",
   "execution_count": 21,
   "metadata": {},
   "outputs": [
    {
     "name": "stdout",
     "output_type": "stream",
     "text": [
      "[[-0.36519729]\n",
      " [-0.68993643]\n",
      " [ 0.74427999]]\n",
      "[[-1.13402984]\n",
      " [ 1.03771153]\n",
      " [ 0.93255823]]\n",
      "[[0.39227406]] [[0.39227406]]\n"
     ]
    }
   ],
   "source": [
    "a = np.random.randn(3,1)\n",
    "b = np.random.randn(3,1)\n",
    "\n",
    "print(a)\n",
    "print(b)\n",
    "\n",
    "atb = np.dot(a.T, b)\n",
    "bta = np.dot(b.T, a)\n",
    "\n",
    "print(atb,bta)"
   ]
  },
  {
   "cell_type": "markdown",
   "metadata": {},
   "source": [
    "#### [연습문제 1-9]\n",
    "\n",
    "- 직교벡터 분해 구현\n",
    "- 두 난수 벡터 t와 r로 시작해서 [그림 1-8] 재현하기\n",
    "- 그 다음 두 성분의 합이 t이고 tㅗr과 t||r이 직교하는지 확인"
   ]
  },
  {
   "cell_type": "code",
   "execution_count": 23,
   "metadata": {},
   "outputs": [
    {
     "name": "stdout",
     "output_type": "stream",
     "text": [
      "[ 0.8 -0.8]\n",
      "[ 0.8 -0.8]\n",
      "-6.604813142437741e-17\n"
     ]
    }
   ],
   "source": [
    "t = np.array([0.8, -0.8])\n",
    "r = np.array([1.2, -0.1])\n",
    "\n",
    "t_para = r * (np.dot(t, r) / np.dot(r, r))\n",
    "t_perp = t - t_para\n",
    "\n",
    "print(t)\n",
    "print(t_para+t_perp)\n",
    "\n",
    "print(np.dot(t_para, t_perp))"
   ]
  },
  {
   "cell_type": "markdown",
   "metadata": {},
   "source": []
  }
 ],
 "metadata": {
  "kernelspec": {
   "display_name": "base",
   "language": "python",
   "name": "python3"
  },
  "language_info": {
   "codemirror_mode": {
    "name": "ipython",
    "version": 3
   },
   "file_extension": ".py",
   "mimetype": "text/x-python",
   "name": "python",
   "nbconvert_exporter": "python",
   "pygments_lexer": "ipython3",
   "version": "3.10.14"
  }
 },
 "nbformat": 4,
 "nbformat_minor": 2
}
