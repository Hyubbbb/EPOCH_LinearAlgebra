{
 "cells": [
  {
   "cell_type": "markdown",
   "id": "f6e2421b",
   "metadata": {},
   "source": [
    "## 선형대수학 스터디\n",
    "**작성자:** 구재영 \\\n",
    "**교재명:** 개발자를 위한 실전 선형대수학 \\\n",
    "**CH3 벡터 응용:** 데이터 분석에서의 벡터"
   ]
  },
  {
   "cell_type": "markdown",
   "id": "e1ffd09b",
   "metadata": {},
   "source": [
    "### 연습문제 3-1\n",
    "두 벡터를 입력으로 받아 두 개의 수를 출력하는 파이썬 함수를 작성합니다. 두 개의 수는 피어슨 상관계수와 코사인 유사도입니다. 이 장에 제시한 공식을 따라서 코드를 작성 하세요. 단순히 `np.corrcoef`와 `spatial.distance.cosine`을 호출하지 마세요. 변수들이 이 미 평균중심화되어 있다면 두 출력 결과가 동일하고 그렇지 않다면 결과가 서로 다른지 확인합니다."
   ]
  },
  {
   "cell_type": "markdown",
   "id": "1b83576e",
   "metadata": {},
   "source": [
    "**Part 1.** Computing Pearon correlation coefficient & cosine similarity by self-defined function"
   ]
  },
  {
   "cell_type": "code",
   "execution_count": 1,
   "id": "3dc6f8a6",
   "metadata": {},
   "outputs": [],
   "source": [
    "# Import libraries that might be necessary...\n",
    "\n",
    "import numpy as np\n",
    "import matplotlib.pyplot as plt"
   ]
  },
  {
   "cell_type": "code",
   "execution_count": 2,
   "id": "d81653a1",
   "metadata": {},
   "outputs": [],
   "source": [
    "# Define the function\n",
    "\n",
    "def corr_cosim(x,y):\n",
    "\n",
    "  # Pearson correlation coefficient\n",
    "  xm = x - np.mean(x)\n",
    "  ym = y - np.mean(y)\n",
    "  corr = np.dot(xm, ym) / (np.linalg.norm(xm) * np.linalg.norm(ym))\n",
    "\n",
    "  # Cosine similarity\n",
    "  cosim = np.dot(x,y) / (np.linalg.norm(x) * (np.linalg.norm(y)))\n",
    "\n",
    "  return corr, cosim"
   ]
  },
  {
   "cell_type": "code",
   "execution_count": 3,
   "id": "fdb65437",
   "metadata": {},
   "outputs": [],
   "source": [
    "# Fix the random seed\n",
    "np.random.seed(42)"
   ]
  },
  {
   "cell_type": "code",
   "execution_count": 4,
   "id": "dfc8508d",
   "metadata": {},
   "outputs": [
    {
     "name": "stdout",
     "output_type": "stream",
     "text": [
      "Corr:\t0.09472535125379353 \n",
      "Cosim:\t0.07929723872398001\n"
     ]
    }
   ],
   "source": [
    "# test it\n",
    "\n",
    "a = np.random.randn(15)\n",
    "b = np.random.randn(15)\n",
    "\n",
    "# corr & cosim based on the self-defined function\n",
    "r,c = corr_cosim(a,b)\n",
    "print(f'Corr:\\t{r} \\nCosim:\\t{c}')"
   ]
  },
  {
   "cell_type": "code",
   "execution_count": 5,
   "id": "cbc8dc30",
   "metadata": {
    "scrolled": true
   },
   "outputs": [
    {
     "data": {
      "text/plain": [
       "array([[1.        , 0.09472535],\n",
       "       [0.09472535, 1.        ]])"
      ]
     },
     "execution_count": 5,
     "metadata": {},
     "output_type": "execute_result"
    }
   ],
   "source": [
    "np.corrcoef(a,b)"
   ]
  },
  {
   "cell_type": "markdown",
   "id": "fef805a8",
   "metadata": {},
   "source": [
    "**Part 2.** Check for the mean-centered ones\n",
    "- `np.random.randn()` returns the random number with N(0,1), which means that it is mean-centered\n",
    "- Therefore, we can add some random number to de-center from the mean"
   ]
  },
  {
   "cell_type": "code",
   "execution_count": 6,
   "id": "42066cff",
   "metadata": {},
   "outputs": [
    {
     "name": "stdout",
     "output_type": "stream",
     "text": [
      "w/o mean-centering:\t(-0.4018567645483007, -0.4438068621624251)\n",
      "w/ mean-centering:\t(-0.4018567645483008, -0.4018567645483007)\n"
     ]
    }
   ],
   "source": [
    "# w/o mean-centering\n",
    "x1 = np.random.randn(15) + np.random.rand(1)\n",
    "y1 = np.random.randn(15)\n",
    "\n",
    "# mean-center\n",
    "x2 = x1 - np.mean(x1)\n",
    "y2 = y1 - np.mean(y1)\n",
    "\n",
    "\n",
    "# show the results with and without mean-centering\n",
    "print(f'w/o mean-centering:\\t{corr_cosim(x1,y1)}')\n",
    "print(f'w/ mean-centering:\\t{corr_cosim(x2,y2)}')"
   ]
  },
  {
   "cell_type": "markdown",
   "id": "32449cb8",
   "metadata": {},
   "source": [
    "**corr** \\\n",
    "Computed values are the same w/ and w/o mean-centering (about -0.40) \\\n",
    "$\\because$ Pearson correlations do not differ when the numbers are mean-centered \\\n",
    "**cosim** \\\n",
    "Cosine similarity & Pearson correlation has the same value when it is mean-centered"
   ]
  },
  {
   "cell_type": "markdown",
   "id": "0c82b353",
   "metadata": {},
   "source": [
    "### 연습문제 3-2"
   ]
  },
  {
   "cell_type": "markdown",
   "id": "9fd4d1c8",
   "metadata": {},
   "source": [
    "상관관계와 코사인 유사도 사이의 차이를 계속해서 살펴보겠습니다. 0에서 3까지의 정수를 가진 변수와 이 변수에 특정 오프셋을 더한 두 번째 변수를 만듭니다. 시스템적으로 오프셋을 - 50에서 +50까지 변경하는 시뮬레이션을 만듭니다. 즉 시뮬레이션의 첫 번째 반복에서는 두 번째 변수가 [-50, -49, -48, -47]이 됩니다. for 루프에서 두 변 수 간의 상관관계와 코사인 유사도를 계산하고 결과를 저장합니다. 그리고 평균 오프셋이 상관관계와 코사인 유사성에 어떻게 영향을 주는지 보여 주는 선 그래프를 그립니다.\n",
    "[그림 3-4]처럼 결과가 나와야 합니다."
   ]
  },
  {
   "cell_type": "code",
   "execution_count": 7,
   "id": "968b4411",
   "metadata": {},
   "outputs": [],
   "source": [
    "# 1st variable\n",
    "\n",
    "a = np.arange(4, dtype=float)      # `dtype=int`로 설정할 시에, 후에 소수점 값 연산을 못하게 됨"
   ]
  },
  {
   "cell_type": "code",
   "execution_count": 8,
   "id": "51c96408",
   "metadata": {},
   "outputs": [
    {
     "data": {
      "text/plain": [
       "array([-50., -49., -48., -47.])"
      ]
     },
     "execution_count": 8,
     "metadata": {},
     "output_type": "execute_result"
    }
   ],
   "source": [
    "# Check\n",
    "offsets = np.arange(-50,51)      \n",
    "a + offsets[0]"
   ]
  },
  {
   "cell_type": "code",
   "execution_count": 9,
   "id": "57bad3ce",
   "metadata": {},
   "outputs": [],
   "source": [
    "# Simulation w/ offsets changing from -50 to 50\n",
    "\n",
    "offsets = np.arange(-50,51)           # first define the offset with range(-50,51)\n",
    "\n",
    "results = np.zeros((len(offsets),2))\n",
    "\n",
    "for i in range(len(offsets)):\n",
    "    results[i,:] = corr_cosim(a,a+offsets[i])\n",
    "    # Here, a + offsets[i] functions as the 2nd variable"
   ]
  },
  {
   "cell_type": "code",
   "execution_count": 12,
   "id": "623acf02",
   "metadata": {},
   "outputs": [],
   "source": [
    "# Korean font settings for Mac\n",
    "\n",
    "from matplotlib import rc\n",
    "\n",
    "%matplotlib inline\n",
    "\n",
    "rc('font', family='AppleGothic')\n",
    "plt.rcParams['axes.unicode_minus'] = False"
   ]
  },
  {
   "cell_type": "code",
   "execution_count": 17,
   "id": "fc31cb3b",
   "metadata": {
    "scrolled": false
   },
   "outputs": [
    {
     "data": {
      "image/png": "[encoded data removed]",
      "text/plain": [
       "<Figure size 640x480 with 1 Axes>"
      ]
     },
     "metadata": {},
     "output_type": "display_data"
    }
   ],
   "source": [
    "# Plotting\n",
    "\n",
    "plt.plot(offsets, results[:, 0], color='black', marker='o', markersize=3, label='피어슨')\n",
    "plt.plot(offsets, results[:, 1], color='orange', marker='s', markersize=3, label='코사인 유사도')\n",
    "\n",
    "plt.xlabel('평균 오프셋')\n",
    "plt.ylabel('r 또는 c')\n",
    "plt.legend()\n",
    "\n",
    "plt.show()"
   ]
  }
 ],
 "metadata": {
  "kernelspec": {
   "display_name": "Python 3 (ipykernel)",
   "language": "python",
   "name": "python3"
  },
  "language_info": {
   "codemirror_mode": {
    "name": "ipython",
    "version": 3
   },
   "file_extension": ".py",
   "mimetype": "text/x-python",
   "name": "python",
   "nbconvert_exporter": "python",
   "pygments_lexer": "ipython3",
   "version": "3.11.4"
  }
 },
 "nbformat": 4,
 "nbformat_minor": 5
}
