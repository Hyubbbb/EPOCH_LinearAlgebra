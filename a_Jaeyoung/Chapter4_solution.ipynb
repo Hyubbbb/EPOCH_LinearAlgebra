{
 "cells": [
  {
   "cell_type": "markdown",
   "id": "f6e2421b",
   "metadata": {},
   "source": [
    "## 선형대수학 스터디\n",
    "**작성자:** 구재영 \\\n",
    "**교재명:** 개발자를 위한 실전 선형대수학 \\\n",
    "**CH4 행렬, 파트 1:** 행렬과 행렬의 기본 연산"
   ]
  },
  {
   "cell_type": "markdown",
   "id": "e1ffd09b",
   "metadata": {},
   "source": [
    "### 연습문제 4-1\n",
    "이 연습 문제를 통해 행렬 원소의 인덱싱에 익숙해질 수 있습니다. np.arange(12). reshape (3,4)를 사용해 3x4 행렬을 생성합니다. 그런 다음 파이썬 코드를 작성해 두 번째 행, 네 번째 열의 원소를 추출합니다. 다른 행과 열 인덱스를 선택할 수 있도록 소프트 코딩 하고 다음과 같은 메시지를 출력해 봅니다. \\\n",
    "`The matrix element at index (2,4) is 7.`"
   ]
  },
  {
   "cell_type": "code",
   "execution_count": 1,
   "id": "c9177202",
   "metadata": {},
   "outputs": [],
   "source": [
    "import numpy as np"
   ]
  },
  {
   "cell_type": "code",
   "execution_count": 2,
   "id": "d145a7ee",
   "metadata": {},
   "outputs": [
    {
     "name": "stdout",
     "output_type": "stream",
     "text": [
      "The matrix element at index (2,4) is 7\n"
     ]
    }
   ],
   "source": [
    "A = np.arange(12).reshape(3,4)\n",
    "\n",
    "print(f'The matrix element at index (2,4) is {A[1,3]}')"
   ]
  },
  {
   "cell_type": "markdown",
   "id": "6a0af9de",
   "metadata": {},
   "source": [
    "### 연습문제 4-2\n",
    "이 문제와 다음 문제는 행렬을 잘라서 부분 행렬을 얻는 내용입니다. 먼저 [그림 4-6]의 왼 쪽 행렬 C를 만들고 파이썬의 슬라이싱을 사용해 처음 5개의 행과 5개의 열로 이루어진 하 위 행렬을 추출합니다. 이 행렬을 C, 이라고 부릅니다. [그림 4-6]을 재현해 보는데 만약 파이썬 시각화 코딩이 어렵다면 부분 행렬을 올바르게 추출하는 데에만 초점을 맞추세요."
   ]
  },
  {
   "cell_type": "code",
   "execution_count": 3,
   "id": "fbf552c0",
   "metadata": {},
   "outputs": [
    {
     "data": {
      "text/plain": [
       "array([[ 0,  1,  2,  3,  4,  5,  6,  7,  8,  9],\n",
       "       [10, 11, 12, 13, 14, 15, 16, 17, 18, 19],\n",
       "       [20, 21, 22, 23, 24, 25, 26, 27, 28, 29],\n",
       "       [30, 31, 32, 33, 34, 35, 36, 37, 38, 39],\n",
       "       [40, 41, 42, 43, 44, 45, 46, 47, 48, 49],\n",
       "       [50, 51, 52, 53, 54, 55, 56, 57, 58, 59],\n",
       "       [60, 61, 62, 63, 64, 65, 66, 67, 68, 69],\n",
       "       [70, 71, 72, 73, 74, 75, 76, 77, 78, 79],\n",
       "       [80, 81, 82, 83, 84, 85, 86, 87, 88, 89],\n",
       "       [90, 91, 92, 93, 94, 95, 96, 97, 98, 99]])"
      ]
     },
     "execution_count": 3,
     "metadata": {},
     "output_type": "execute_result"
    }
   ],
   "source": [
    "# Matrix C\n",
    "C = np.arange(100).reshape((10,10))\n",
    "C"
   ]
  },
  {
   "cell_type": "code",
   "execution_count": 4,
   "id": "2fef2f3b",
   "metadata": {},
   "outputs": [
    {
     "data": {
      "text/plain": [
       "array([[ 0,  1,  2,  3,  4],\n",
       "       [10, 11, 12, 13, 14],\n",
       "       [20, 21, 22, 23, 24],\n",
       "       [30, 31, 32, 33, 34],\n",
       "       [40, 41, 42, 43, 44]])"
      ]
     },
     "execution_count": 4,
     "metadata": {},
     "output_type": "execute_result"
    }
   ],
   "source": [
    "# Submatrix\n",
    "C_1 = C[0:5,0:5]\n",
    "C_1"
   ]
  },
  {
   "cell_type": "markdown",
   "id": "162757da",
   "metadata": {},
   "source": [
    "### 연습문제 4-3"
   ]
  },
  {
   "cell_type": "code",
   "execution_count": 5,
   "id": "52bc556a",
   "metadata": {},
   "outputs": [
    {
     "data": {
      "text/plain": [
       "array([[55, 56, 57, 58, 59, 50, 51, 52, 53, 54],\n",
       "       [65, 66, 67, 68, 69, 60, 61, 62, 63, 64],\n",
       "       [75, 76, 77, 78, 79, 70, 71, 72, 73, 74],\n",
       "       [85, 86, 87, 88, 89, 80, 81, 82, 83, 84],\n",
       "       [95, 96, 97, 98, 99, 90, 91, 92, 93, 94],\n",
       "       [ 5,  6,  7,  8,  9,  0,  1,  2,  3,  4],\n",
       "       [15, 16, 17, 18, 19, 10, 11, 12, 13, 14],\n",
       "       [25, 26, 27, 28, 29, 20, 21, 22, 23, 24],\n",
       "       [35, 36, 37, 38, 39, 30, 31, 32, 33, 34],\n",
       "       [45, 46, 47, 48, 49, 40, 41, 42, 43, 44]])"
      ]
     },
     "execution_count": 5,
     "metadata": {},
     "output_type": "execute_result"
    }
   ],
   "source": [
    "# Submatrices\n",
    "C_2 = C[5:10, 0:5]\n",
    "C_3 = C[0:5, 5:10]\n",
    "C_4 = C[5:10, 5:10]\n",
    "\n",
    "# Reshape\n",
    "C_remat = np.block([\n",
    "    [C_4, C_2],\n",
    "    [C_3, C_1]\n",
    "])\n",
    "C_remat"
   ]
  },
  {
   "cell_type": "markdown",
   "id": "1fc8f646",
   "metadata": {},
   "source": [
    "### 연습문제 4-6\n",
    "for 루프를 사용해 행렬 곱셈을 코딩합니다. 그후 NumPy @ 연산자를 사용해 결과를 비교합니다.\\\n",
    "이 연습 문제는 행렬 곱셈에 대한 이해를 강화하는 데 도움이 되지만 데이터 과학 분야에서는 이중으로 루프를 쓰는 대신 를 사용하는 것이 좋습니다"
   ]
  },
  {
   "cell_type": "code",
   "execution_count": 6,
   "id": "bc319798",
   "metadata": {},
   "outputs": [],
   "source": [
    "# Generate two matrices to use in matrix multiplications\n",
    "\n",
    "A = np.random.randn(3,3)\n",
    "B = np.random.randn(3,3)"
   ]
  },
  {
   "cell_type": "code",
   "execution_count": 7,
   "id": "bf88bc0a",
   "metadata": {},
   "outputs": [
    {
     "data": {
      "text/plain": [
       "array([[-3.4838711 , -3.97740621, -0.55064616],\n",
       "       [-1.923402  , -2.49992349, -0.23598772],\n",
       "       [-0.18440046, -0.53157407, -0.0253924 ]])"
      ]
     },
     "execution_count": 7,
     "metadata": {},
     "output_type": "execute_result"
    }
   ],
   "source": [
    "# Initialize\n",
    "C = np.zeros((3,3))\n",
    "\n",
    "# for loop for matrix products (multiplications)\n",
    "for re in range(3):\n",
    "    for ce in range(3):\n",
    "        C[re,ce] = np.dot(A[re,:], B[:,ce])\n",
    "        \n",
    "C"
   ]
  },
  {
   "cell_type": "code",
   "execution_count": 8,
   "id": "a662cfde",
   "metadata": {},
   "outputs": [
    {
     "data": {
      "text/plain": [
       "array([[ True,  True,  True],\n",
       "       [ True,  True,  True],\n",
       "       [ True,  True,  True]])"
      ]
     },
     "execution_count": 8,
     "metadata": {},
     "output_type": "execute_result"
    }
   ],
   "source": [
    "A @ B == C"
   ]
  },
  {
   "cell_type": "markdown",
   "id": "6fa866a1",
   "metadata": {},
   "source": [
    "We can see with the naked eyes that the `for` loop and `@` returns the same result."
   ]
  },
  {
   "cell_type": "markdown",
   "id": "b1ed5997",
   "metadata": {},
   "source": [
    "### 연습문제 4-8\n",
    "이 문제에서 여러분은 행렬의 대칭 여부를 확인하는 파이썬 함수를 작성합니다. 행렬을 입력으로 받고 그 행렬이 대칭이면 True, 행렬이 비대칭이면 False 불리언을 출력해야 합니다. 작은 크기의 컴퓨팅 반올림이나 정밀도 오류로 인해 동일한 행렬이 그렇지 않다고 나올 수 있다는 것을 명심하세요. \\\n",
    "따라서 적절한 허용 오차를 사용하여 동일성을 테스트해야 합니다. 대칭 행렬과 비대칭 행렬에 대해서 함수를 테스트해 보세요."
   ]
  },
  {
   "cell_type": "code",
   "execution_count": 9,
   "id": "533428d4",
   "metadata": {},
   "outputs": [],
   "source": [
    "# Function to check if the matrix is symmetric\n",
    "\n",
    "def isSym(A):\n",
    "    \n",
    "    # First check if the input matrix is square matrix\n",
    "    if np.shape(A)[0] == np.shape(A)[1]:\n",
    "        D = A - A.T\n",
    "        SSE = np.sum(D**2)\n",
    "        return SSE < 10**-15\n",
    "    \n",
    "    else:\n",
    "        print(f\"{A} cannot be a symmetric matrix. Only square matrices can be symmetric.\")"
   ]
  },
  {
   "cell_type": "code",
   "execution_count": 10,
   "id": "62fac298",
   "metadata": {},
   "outputs": [
    {
     "name": "stdout",
     "output_type": "stream",
     "text": [
      "[[ 0.12529839  0.70939323  1.91514102]\n",
      " [-0.66564047  0.54076622  0.77297286]\n",
      " [-0.52354601  0.19487743 -0.09390915]]\n",
      "False\n"
     ]
    }
   ],
   "source": [
    "print(A)\n",
    "print(isSym(A))"
   ]
  },
  {
   "cell_type": "code",
   "execution_count": 11,
   "id": "35e7a1b9",
   "metadata": {},
   "outputs": [
    {
     "data": {
      "text/plain": [
       "True"
      ]
     },
     "execution_count": 11,
     "metadata": {},
     "output_type": "execute_result"
    }
   ],
   "source": [
    "V = [[1,2],\n",
    "    [2,1]]\n",
    "V = np.array(V)\n",
    "\n",
    "isSym(V)"
   ]
  },
  {
   "cell_type": "code",
   "execution_count": 12,
   "id": "5495dce5",
   "metadata": {},
   "outputs": [
    {
     "name": "stdout",
     "output_type": "stream",
     "text": [
      "[[1 2 3]\n",
      " [1 2 3]] cannot be a symmetric matrix. Only square matrices can be symmetric.\n"
     ]
    }
   ],
   "source": [
    "V2 = [[1,2,3],\n",
    "     [1,2,3]]\n",
    "V2 = np.array(V2)\n",
    "\n",
    "isSym(V2)"
   ]
  },
  {
   "cell_type": "markdown",
   "id": "81f2f80e",
   "metadata": {},
   "source": [
    "### 연습문제 4-9\n",
    "앞서 비대칭 사각 행렬로부터 대칭 행렬을 만드는 덧셈 방법이 있다고 언급했습니다. 방 법은 매우 간단합니다. 행렬을 자신의 전치로 평균화합니다. 파이썬에서 이 알고리즘을 구현하고 결과가 실제로 대칭인지 확인합니다(힌트: 이전 연습 문제에서 작성한 함수를 사용해 보세요)."
   ]
  },
  {
   "cell_type": "code",
   "execution_count": 13,
   "id": "57b86163",
   "metadata": {},
   "outputs": [
    {
     "data": {
      "text/plain": [
       "(array([[ 0.12529839,  0.70939323,  1.91514102],\n",
       "        [-0.66564047,  0.54076622,  0.77297286],\n",
       "        [-0.52354601,  0.19487743, -0.09390915]]),\n",
       " False)"
      ]
     },
     "execution_count": 13,
     "metadata": {},
     "output_type": "execute_result"
    }
   ],
   "source": [
    "A, isSym(A)"
   ]
  },
  {
   "cell_type": "markdown",
   "id": "fde31e3c",
   "metadata": {},
   "source": [
    "We checked that A is an asymmetric matrix, so we are going to get the answer using predefined matrix A."
   ]
  },
  {
   "cell_type": "code",
   "execution_count": 14,
   "id": "fe6caf3f",
   "metadata": {},
   "outputs": [
    {
     "data": {
      "text/plain": [
       "(array([[ 0.12529839,  0.02187638,  0.6957975 ],\n",
       "        [ 0.02187638,  0.54076622,  0.48392514],\n",
       "        [ 0.6957975 ,  0.48392514, -0.09390915]]),\n",
       " True)"
      ]
     },
     "execution_count": 14,
     "metadata": {},
     "output_type": "execute_result"
    }
   ],
   "source": [
    "tfA = (A + A.T) / 2\n",
    "tfA, isSym(tfA)"
   ]
  }
 ],
 "metadata": {
  "kernelspec": {
   "display_name": "Python 3 (ipykernel)",
   "language": "python",
   "name": "python3"
  },
  "language_info": {
   "codemirror_mode": {
    "name": "ipython",
    "version": 3
   },
   "file_extension": ".py",
   "mimetype": "text/x-python",
   "name": "python",
   "nbconvert_exporter": "python",
   "pygments_lexer": "ipython3",
   "version": "3.11.4"
  }
 },
 "nbformat": 4,
 "nbformat_minor": 5
}
