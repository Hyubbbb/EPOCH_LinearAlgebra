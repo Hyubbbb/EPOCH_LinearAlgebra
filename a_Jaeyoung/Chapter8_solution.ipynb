{
 "cells": [
  {
   "cell_type": "markdown",
   "id": "f6e2421b",
   "metadata": {},
   "source": [
    "## 선형대수학 스터디\n",
    "**작성자:** 구재영 \\\n",
    "**교재명:** 개발자를 위한 실전 선형대수학 \\\n",
    "**CH8 직교 행렬과 QR 분해:** 선형대수학의 핵심 분해법 1"
   ]
  },
  {
   "cell_type": "markdown",
   "id": "32b2086f",
   "metadata": {},
   "source": [
    "### 연습문제 8-1"
   ]
  },
  {
   "cell_type": "code",
   "execution_count": 1,
   "id": "fb3e8871",
   "metadata": {},
   "outputs": [],
   "source": [
    "import numpy as np\n",
    "import matplotlib.pyplot as plt\n",
    "from matplotlib import rc\n",
    "\n",
    "%matplotlib inline\n",
    "\n",
    "rc('font', family='AppleGothic')\n",
    "plt.rcParams['axes.unicode_minus'] = False\n",
    "\n",
    "np.random.seed(42)"
   ]
  },
  {
   "cell_type": "code",
   "execution_count": 2,
   "id": "13abdf9b",
   "metadata": {},
   "outputs": [],
   "source": [
    "# Generating random matrix Q\n",
    "\n",
    "Q, R = np.linalg.qr(np.random.rand(3,3))\n",
    "\n",
    "Q_T = Q.T                   # transpose\n",
    "Q_inv = np.linalg.inv(Q)    # inverse"
   ]
  },
  {
   "cell_type": "code",
   "execution_count": 3,
   "id": "4ba99457",
   "metadata": {},
   "outputs": [],
   "source": [
    "# Verifying the conditions\n",
    "\n",
    "vrfy1 = np.dot(Q_T, Q)     # Q^T * Q\n",
    "vrfy2 = np.dot(Q, Q_T)     # Q * Q^T\n",
    "vrfy3 = np.dot(Q_inv, Q)   # Q^(-1) * Q\n",
    "vrfy4 = np.dot(Q, Q_inv)   # Q * Q^(-1)"
   ]
  },
  {
   "cell_type": "code",
   "execution_count": 4,
   "id": "7d8fa81a",
   "metadata": {},
   "outputs": [
    {
     "name": "stdout",
     "output_type": "stream",
     "text": [
      "True True True True\n"
     ]
    }
   ],
   "source": [
    "print(np.allclose(vrfy1, np.eye(3)),\n",
    "      np.allclose(vrfy2, np.eye(3)),\n",
    "      np.allclose(vrfy3, np.eye(3)),\n",
    "      np.allclose(vrfy4, np.eye(3)))"
   ]
  },
  {
   "cell_type": "markdown",
   "id": "8201e8ac",
   "metadata": {},
   "source": [
    "### 연습문제 8-2"
   ]
  },
  {
   "cell_type": "code",
   "execution_count": 5,
   "id": "402115b2",
   "metadata": {},
   "outputs": [],
   "source": [
    "# Generate a random matrix\n",
    "A = np.random.rand(4,4)\n",
    "\n",
    "# Perform QR decomposition to get Q and R\n",
    "Q1, R1 = np.linalg.qr(np.random.rand(4,4))"
   ]
  },
  {
   "cell_type": "code",
   "execution_count": 6,
   "id": "4951db34",
   "metadata": {},
   "outputs": [],
   "source": [
    "# Implement Gram-Schmidt manually to generate the Q matrix\n",
    "\n",
    "def gs_4by4(A):\n",
    "    \n",
    "    Q = np.zeros((4,4))\n",
    "    \n",
    "    for j in range(4):\n",
    "        v = A[:, j]\n",
    "        for i in range(j):\n",
    "            v = v - np.dot(Q[:, i], A[:, j]) * Q[:, i]\n",
    "        Q[:, j] = v / np.linalg.norm(v)\n",
    "    \n",
    "    return Q"
   ]
  },
  {
   "cell_type": "code",
   "execution_count": 7,
   "id": "d228c688",
   "metadata": {},
   "outputs": [
    {
     "data": {
      "text/plain": [
       "False"
      ]
     },
     "execution_count": 7,
     "metadata": {},
     "output_type": "execute_result"
    }
   ],
   "source": [
    "# Apply Gram-Schmidt to matrix A\n",
    "Q_gs = gs_4by4(A)\n",
    "\n",
    "# Compare the results from Gram-Schmidt and np.linalg.qr()\n",
    "np.allclose(Q1, Q_gs)"
   ]
  },
  {
   "cell_type": "code",
   "execution_count": 8,
   "id": "6c6d888b",
   "metadata": {},
   "outputs": [
    {
     "data": {
      "text/plain": [
       "True"
      ]
     },
     "execution_count": 8,
     "metadata": {},
     "output_type": "execute_result"
    }
   ],
   "source": [
    "import numpy as np\n",
    "\n",
    "# Generate a random matrix A\n",
    "A = np.random.rand(4, 4)\n",
    "\n",
    "# Perform QR decomposition to get Q and R from the same matrix A\n",
    "Q1, R1 = np.linalg.qr(A)\n",
    "\n",
    "# Implement Gram-Schmidt manually to generate the Q matrix\n",
    "def gs_4by4(A):\n",
    "    Q = np.zeros((4, 4))\n",
    "    \n",
    "    for j in range(4):\n",
    "        v = A[:, j]\n",
    "        for i in range(j):\n",
    "            v = v - np.dot(Q[:, i], A[:, j]) * Q[:, i]\n",
    "        Q[:, j] = v / np.linalg.norm(v)\n",
    "    \n",
    "    return Q\n",
    "\n",
    "# Compare the absolute values of the matrices\n",
    "np.allclose(np.abs(Q1), np.abs(gs_4by4(A)))"
   ]
  },
  {
   "cell_type": "markdown",
   "id": "677999d1",
   "metadata": {},
   "source": [
    "근데 `np.abs()` 씌워야만 np.allclose()의 결과가 `True`로 출력되는데 괜찮은 게 맞는지... (괜찮을 것 같기는 한데...)"
   ]
  },
  {
   "cell_type": "markdown",
   "id": "e1ffd09b",
   "metadata": {},
   "source": [
    "### 연습문제 8-3"
   ]
  },
  {
   "cell_type": "markdown",
   "id": "01d95dfe",
   "metadata": {},
   "source": [
    "**STEP 01:** Orthogonal matrix U & QR decomposition"
   ]
  },
  {
   "cell_type": "code",
   "execution_count": 9,
   "id": "244f461c",
   "metadata": {},
   "outputs": [],
   "source": [
    "# 6*6 random matrix\n",
    "U = np.linalg.qr(np.random.randn(6,6))[0]"
   ]
  },
  {
   "cell_type": "code",
   "execution_count": 10,
   "id": "cc57f30b",
   "metadata": {},
   "outputs": [
    {
     "data": {
      "text/plain": [
       "True"
      ]
     },
     "execution_count": 10,
     "metadata": {},
     "output_type": "execute_result"
    }
   ],
   "source": [
    "# (Just to check...)\n",
    "\n",
    "# Are the result of QR decomposition of U & U generated by np.linalg.qr the same?\n",
    "U1, R1 = np.linalg.qr(U)\n",
    "\n",
    "# Yeap\n",
    "np.allclose(U, U1)"
   ]
  },
  {
   "cell_type": "code",
   "execution_count": 11,
   "id": "ad06f577",
   "metadata": {},
   "outputs": [
    {
     "data": {
      "text/plain": [
       "True"
      ]
     },
     "execution_count": 11,
     "metadata": {},
     "output_type": "execute_result"
    }
   ],
   "source": [
    "np.allclose(R1, np.eye(6))"
   ]
  },
  {
   "cell_type": "markdown",
   "id": "74c1732d",
   "metadata": {},
   "source": [
    "**STEP 02:** Reset the norm of each column of U & QR decomposition"
   ]
  },
  {
   "cell_type": "code",
   "execution_count": 12,
   "id": "0a25d24c",
   "metadata": {},
   "outputs": [],
   "source": [
    "# Handle the norm of each column vecs\n",
    "for i in range(6):\n",
    "    U[:,i] = U[:,i] / np.linalg.norm(U[:, i]) * (10 + i)"
   ]
  },
  {
   "cell_type": "code",
   "execution_count": 13,
   "id": "08e9be81",
   "metadata": {},
   "outputs": [
    {
     "data": {
      "text/plain": [
       "True"
      ]
     },
     "execution_count": 13,
     "metadata": {},
     "output_type": "execute_result"
    }
   ],
   "source": [
    "# QR decomposition revisited\n",
    "U2, R2 = np.linalg.qr(U)\n",
    "\n",
    "np.allclose(np.diag(R2), [10, 11, 12, 13, 14, 15])"
   ]
  },
  {
   "cell_type": "markdown",
   "id": "8d454a8b",
   "metadata": {},
   "source": [
    "**STEP 03:** Break the orthogonality of U"
   ]
  },
  {
   "cell_type": "code",
   "execution_count": 14,
   "id": "e2db99a6",
   "metadata": {},
   "outputs": [
    {
     "data": {
      "text/plain": [
       "array([[-0.45883536,  0.65459238,  0.40509179,  0.09661792, -0.43203991,\n",
       "         0.02976677],\n",
       "       [-0.5140669 , -0.2207295 ,  0.38268418, -0.59117719,  0.43642108,\n",
       "        -0.02475279],\n",
       "       [-0.0941992 ,  0.28359542, -0.53406382, -0.4242598 , -0.1112497 ,\n",
       "        -0.6581057 ],\n",
       "       [ 0.536422  ,  0.60928005,  0.11692028, -0.32854271,  0.40572547,\n",
       "         0.23410562],\n",
       "       [ 0.44241062, -0.26566343,  0.41954258, -0.44165285, -0.58700954,\n",
       "        -0.13432187],\n",
       "       [-0.18126256, -0.02370025, -0.46318784, -0.39771922, -0.31828966,\n",
       "         0.70181929]])"
      ]
     },
     "execution_count": 14,
     "metadata": {},
     "output_type": "execute_result"
    }
   ],
   "source": [
    "# Let's just set U_{1,4} to be 0\n",
    "U[0, 3] = 0\n",
    "\n",
    "# QR decomposition re-re-visited\n",
    "Q_broken, R_broken = np.linalg.qr(U)\n",
    "\n",
    "Q_broken"
   ]
  },
  {
   "cell_type": "code",
   "execution_count": 15,
   "id": "7d5dfc64",
   "metadata": {},
   "outputs": [
    {
     "data": {
      "text/plain": [
       "array([[ 1.0000e+01, -0.0000e+00,  0.0000e+00,  7.0800e-01,  0.0000e+00,\n",
       "        -0.0000e+00],\n",
       "       [ 0.0000e+00,  1.1000e+01, -0.0000e+00, -1.0110e+00,  0.0000e+00,\n",
       "         0.0000e+00],\n",
       "       [ 0.0000e+00,  0.0000e+00,  1.2000e+01, -6.2500e-01,  0.0000e+00,\n",
       "        -0.0000e+00],\n",
       "       [ 0.0000e+00,  0.0000e+00,  0.0000e+00,  1.2834e+01,  7.1800e-01,\n",
       "        -5.3000e-02],\n",
       "       [ 0.0000e+00,  0.0000e+00,  0.0000e+00,  0.0000e+00,  1.3982e+01,\n",
       "         3.0000e-03],\n",
       "       [ 0.0000e+00,  0.0000e+00,  0.0000e+00,  0.0000e+00,  0.0000e+00,\n",
       "         1.5000e+01]])"
      ]
     },
     "execution_count": 15,
     "metadata": {},
     "output_type": "execute_result"
    }
   ],
   "source": [
    "np.round(R_broken,3)"
   ]
  },
  {
   "cell_type": "code",
   "execution_count": 16,
   "id": "f7e21542",
   "metadata": {},
   "outputs": [
    {
     "data": {
      "text/plain": [
       "array([[10., -0.,  0.,  0.,  0., -0.],\n",
       "       [ 0., 11., -0.,  0.,  0.,  0.],\n",
       "       [ 0.,  0., 12.,  0.,  0., -0.],\n",
       "       [ 0.,  0.,  0., 13., -0.,  0.],\n",
       "       [ 0.,  0.,  0.,  0., 14., -0.],\n",
       "       [ 0.,  0.,  0.,  0.,  0., 15.]])"
      ]
     },
     "execution_count": 16,
     "metadata": {},
     "output_type": "execute_result"
    }
   ],
   "source": [
    "np.round(R2, 3)"
   ]
  },
  {
   "cell_type": "markdown",
   "id": "c01848d3",
   "metadata": {},
   "source": [
    "- We can see that the diagonal elements are set to be the same (mostly), but the off-diagonal entries have changed to have non-zero values\n",
    "- Umm... Maybe just because the orthogonality is no more satisfied...\n",
    "    - if the orthogonality is not the thing anymore,\n",
    "    - then the inner product of column vectors will not be 0,\n",
    "    - and maybe it is reflected on the off-diagonal entries of `R_broken`"
   ]
  },
  {
   "cell_type": "markdown",
   "id": "c06b7701",
   "metadata": {},
   "source": [
    "### 연습문제 8-6"
   ]
  },
  {
   "cell_type": "markdown",
   "id": "1d6f3145",
   "metadata": {},
   "source": [
    "**STEP 01:** Orthogonal matrix & its norm"
   ]
  },
  {
   "cell_type": "code",
   "execution_count": 17,
   "id": "da1355ba",
   "metadata": {},
   "outputs": [],
   "source": [
    "# random M*N matrix\n",
    "A = np.random.randn(5, 3)\n",
    "\n",
    "# QR decomposition to generate orthogonal matrix Q\n",
    "Q, R = np.linalg.qr(A)"
   ]
  },
  {
   "cell_type": "code",
   "execution_count": 18,
   "id": "3cea8428",
   "metadata": {},
   "outputs": [
    {
     "data": {
      "text/plain": [
       "(True, False)"
      ]
     },
     "execution_count": 18,
     "metadata": {},
     "output_type": "execute_result"
    }
   ],
   "source": [
    "# induced 2-norm\n",
    "max_singular_value = np.linalg.norm(Q, ord=2)\n",
    "\n",
    "# Frobenius norm\n",
    "frobenius_norm = np.linalg.norm(Q, ord='fro') / np.sqrt(5)\n",
    "\n",
    "np.isclose(max_singular_value, 1), np.isclose(frobenius_norm, 1)"
   ]
  },
  {
   "cell_type": "markdown",
   "id": "0a36b80d",
   "metadata": {},
   "source": [
    "False...? Let's check the case of square matrix"
   ]
  },
  {
   "cell_type": "code",
   "execution_count": 19,
   "id": "21a8f7f1",
   "metadata": {},
   "outputs": [],
   "source": [
    "# random M*N matrix\n",
    "A = np.random.randn(3,3)\n",
    "\n",
    "# QR decomposition to generate orthogonal matrix Q\n",
    "Q, R = np.linalg.qr(A)"
   ]
  },
  {
   "cell_type": "code",
   "execution_count": 20,
   "id": "e49a6948",
   "metadata": {},
   "outputs": [
    {
     "data": {
      "text/plain": [
       "(True, True)"
      ]
     },
     "execution_count": 20,
     "metadata": {},
     "output_type": "execute_result"
    }
   ],
   "source": [
    "# induced 2-norm\n",
    "max_singular_value = np.linalg.norm(Q, ord=2)\n",
    "\n",
    "# Frobenius norm\n",
    "frobenius_norm = np.linalg.norm(Q, ord='fro') / np.sqrt(3)\n",
    "\n",
    "np.isclose(max_singular_value, 1), np.isclose(frobenius_norm, 1)"
   ]
  },
  {
   "cell_type": "markdown",
   "id": "fd6455ba",
   "metadata": {},
   "source": [
    "True only for the square matrix..."
   ]
  },
  {
   "cell_type": "markdown",
   "id": "5267c693",
   "metadata": {},
   "source": [
    "**STEP 02:** The norm of $v$ & $Q_v$"
   ]
  },
  {
   "cell_type": "code",
   "execution_count": 21,
   "id": "6ff33b6d",
   "metadata": {},
   "outputs": [
    {
     "data": {
      "text/plain": [
       "True"
      ]
     },
     "execution_count": 21,
     "metadata": {},
     "output_type": "execute_result"
    }
   ],
   "source": [
    "# a random vector\n",
    "v = np.random.randn(3,1)\n",
    "\n",
    "# norms\n",
    "n_v  = np.linalg.norm(v)\n",
    "n_Qv = np.linalg.norm(Q@v)\n",
    "\n",
    "np.round(n_v, 3) == np.round(n_Qv, 3)"
   ]
  },
  {
   "cell_type": "markdown",
   "id": "7773d9e2",
   "metadata": {},
   "source": [
    "### 연습문제 8-7"
   ]
  },
  {
   "cell_type": "code",
   "execution_count": 22,
   "id": "0c020670",
   "metadata": {},
   "outputs": [
    {
     "data": {
      "text/plain": [
       "array([[-2.943, -0.661, -0.045,  0.502],\n",
       "       [ 0.   , -1.782, -0.327,  0.399],\n",
       "       [ 0.   ,  0.   ,  2.844,  0.568],\n",
       "       [ 0.   ,  0.   ,  0.   , -2.652],\n",
       "       [ 0.   ,  0.   ,  0.   ,  0.   ],\n",
       "       [ 0.   ,  0.   ,  0.   ,  0.   ],\n",
       "       [ 0.   ,  0.   ,  0.   ,  0.   ],\n",
       "       [ 0.   ,  0.   ,  0.   ,  0.   ],\n",
       "       [ 0.   ,  0.   ,  0.   ,  0.   ],\n",
       "       [ 0.   ,  0.   ,  0.   ,  0.   ]])"
      ]
     },
     "execution_count": 22,
     "metadata": {},
     "output_type": "execute_result"
    }
   ],
   "source": [
    "# Generate a random matrix\n",
    "A = np.random.randn(10,4)\n",
    "\n",
    "# get R\n",
    "Q,R = np.linalg.qr(A,'complete')\n",
    "\n",
    "# examine R\n",
    "np.round(R,3)"
   ]
  },
  {
   "cell_type": "code",
   "execution_count": 23,
   "id": "447d7781",
   "metadata": {},
   "outputs": [
    {
     "data": {
      "text/plain": [
       "array([[-2.94311366, -0.66051702, -0.04509821,  0.50192797],\n",
       "       [-0.        , -1.78212698, -0.32666019,  0.3986718 ],\n",
       "       [ 0.        ,  0.        ,  2.84414059,  0.5683825 ],\n",
       "       [-0.        , -0.        , -0.        , -2.65227614]])"
      ]
     },
     "execution_count": 23,
     "metadata": {},
     "output_type": "execute_result"
    }
   ],
   "source": [
    "r = np.linalg.inv(R[:4,:])\n",
    "\n",
    "r_inv = np.linalg.inv(r)\n",
    "r_leftinv = np.linalg.pinv(r)\n",
    "\n",
    "r_inv"
   ]
  },
  {
   "cell_type": "code",
   "execution_count": 24,
   "id": "61ca9627",
   "metadata": {},
   "outputs": [
    {
     "data": {
      "text/plain": [
       "array([[-2.94311366e+00, -6.60517017e-01, -4.50982123e-02,\n",
       "         5.01927972e-01],\n",
       "       [ 1.96292628e-16, -1.78212698e+00, -3.26660193e-01,\n",
       "         3.98671801e-01],\n",
       "       [-8.87592227e-16, -1.81524724e-16,  2.84414059e+00,\n",
       "         5.68382497e-01],\n",
       "       [ 2.63138469e-16,  5.64453550e-16,  2.03157875e-16,\n",
       "        -2.65227614e+00]])"
      ]
     },
     "execution_count": 24,
     "metadata": {},
     "output_type": "execute_result"
    }
   ],
   "source": [
    "r_leftinv"
   ]
  },
  {
   "cell_type": "code",
   "execution_count": 25,
   "id": "a6f2b6d1",
   "metadata": {},
   "outputs": [
    {
     "data": {
      "text/plain": [
       "True"
      ]
     },
     "execution_count": 25,
     "metadata": {},
     "output_type": "execute_result"
    }
   ],
   "source": [
    "np.allclose(r_inv, r_leftinv)"
   ]
  }
 ],
 "metadata": {
  "kernelspec": {
   "display_name": "Python 3 (ipykernel)",
   "language": "python",
   "name": "python3"
  },
  "language_info": {
   "codemirror_mode": {
    "name": "ipython",
    "version": 3
   },
   "file_extension": ".py",
   "mimetype": "text/x-python",
   "name": "python",
   "nbconvert_exporter": "python",
   "pygments_lexer": "ipython3",
   "version": "3.11.4"
  }
 },
 "nbformat": 4,
 "nbformat_minor": 5
}
