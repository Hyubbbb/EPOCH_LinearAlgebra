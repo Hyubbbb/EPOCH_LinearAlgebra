{
 "cells": [
  {
   "cell_type": "markdown",
   "id": "f6e2421b",
   "metadata": {},
   "source": [
    "## 선형대수학 스터디\n",
    "**작성자:** 구재영 \\\n",
    "**교재명:** 개발자를 위한 실전 선형대수학 \\\n",
    "**CH2 벡터, 파트2:** 벡터의 확장 개념"
   ]
  },
  {
   "cell_type": "markdown",
   "id": "e1ffd09b",
   "metadata": {},
   "source": [
    "### 연습문제 2-1"
   ]
  },
  {
   "cell_type": "code",
   "execution_count": 10,
   "id": "3dc6f8a6",
   "metadata": {},
   "outputs": [],
   "source": [
    "import numpy as np\n",
    "import matplotlib.pyplot as plt"
   ]
  },
  {
   "cell_type": "code",
   "execution_count": 3,
   "id": "d81653a1",
   "metadata": {},
   "outputs": [],
   "source": [
    "# 본문에서 사용된 스칼라와 벡터\n",
    "\n",
    "l1 = 1\n",
    "l2 = 2\n",
    "l3 = -3\n",
    "\n",
    "v1 = np.array([4,5,1])\n",
    "v2 = np.array([-4,0,-4])\n",
    "v3 = np.array([1,3,2])"
   ]
  },
  {
   "cell_type": "code",
   "execution_count": 5,
   "id": "42066cff",
   "metadata": {},
   "outputs": [],
   "source": [
    "# 스칼라와 벡터들의 집합을 리스트로\n",
    "\n",
    "scalar = [l1,l2,l3]\n",
    "vector = [v1,v2,v3]"
   ]
  },
  {
   "cell_type": "code",
   "execution_count": 7,
   "id": "d0ae78da",
   "metadata": {},
   "outputs": [
    {
     "data": {
      "text/plain": [
       "array([ True,  True,  True])"
      ]
     },
     "execution_count": 7,
     "metadata": {},
     "output_type": "execute_result"
    }
   ],
   "source": [
    "# 벡터들과 같은 차원을 갖는 영벡터(초기화된 상태) 생성\n",
    "linWC = np.zeros(len(v1))\n",
    "\n",
    "# 선형 가중 결합 연산을 구현하는 for 루프\n",
    "for s,v in zip(scalar, vector):\n",
    "  linWC += s*v\n",
    "\n",
    "# 이전의 결과와 동일한지 확인\n",
    "linWC == l1*v1 + l2*v2 + l3*v3"
   ]
  },
  {
   "cell_type": "markdown",
   "id": "0c82b353",
   "metadata": {},
   "source": [
    "### 연습문제 2-3"
   ]
  },
  {
   "cell_type": "code",
   "execution_count": 8,
   "id": "42d8619e",
   "metadata": {},
   "outputs": [],
   "source": [
    "# [1, 3] 벡터 하나를 가진 벡터 집합 정의\n",
    "A  = np.array([1,3])\n",
    "\n",
    "# x-축 (-4와 4 사이의 범위)\n",
    "xlim = [-4,4]\n",
    "\n",
    "# 위 범위 내에서 균일한 분포로 100개의 숫자 무작위 생성\n",
    "scalars = np.random.uniform(low=xlim[0],high=xlim[1],size=100)"
   ]
  },
  {
   "cell_type": "code",
   "execution_count": 18,
   "id": "cd27e782",
   "metadata": {},
   "outputs": [
    {
     "data": {
      "image/png": "[encoded data removed]",
      "text/plain": [
       "<Figure size 640x480 with 1 Axes>"
      ]
     },
     "metadata": {},
     "output_type": "display_data"
    }
   ],
   "source": [
    "# 기저 벡터에 무작위 스칼라를 곱해,\n",
    "# 부분공간에 점 100개를 만듦\n",
    "\n",
    "for s in scalars:\n",
    "\n",
    "  # create point p\n",
    "  p = A*s\n",
    "\n",
    "  # plot it\n",
    "  plt.plot(p[0],p[1],'o',color='orange')\n",
    "\n",
    "plt.xlim(xlim)\n",
    "plt.ylim(xlim)\n",
    "plt.grid()\n",
    "plt.show()"
   ]
  },
  {
   "cell_type": "code",
   "execution_count": 19,
   "id": "1666b353",
   "metadata": {},
   "outputs": [],
   "source": [
    "import plotly.graph_objects as go\n",
    "\n",
    "# 3차원의 벡터 [3, 5, 1]과 [0, 2, 2] 생성\n",
    "v1 = np.array([3,5,1])\n",
    "v2 = np.array([0,2,2])\n",
    "\n",
    "## uncomment the lines below for the second part\n",
    "# v1 = np.array([ 3.0,5.0,1.0 ])\n",
    "# v2 = np.array([ 1.5,2.5,0.5 ])\n",
    "\n",
    "\n",
    "# 범위 내에서 균일한 분포로 200개의 숫자 무작위 생성\n",
    "# 3차원에서 point 100를 찍어야 하므로 총 200개 난수 필요\n",
    "scalars = np.random.uniform(low=xlim[0],high=xlim[1],size=(100,2))"
   ]
  },
  {
   "cell_type": "code",
   "execution_count": 23,
   "id": "f4ac7481",
   "metadata": {},
   "outputs": [
    {
     "data": {
      "application/vnd.plotly.v1+json": {
       "config": {
        "plotlyServerURL": "https://plot.ly"
       },
       "data": [
        {
         "marker": {
          "color": "orange",
          "size": 3
         },
         "mode": "markers",
         "type": "scatter3d",
         "x": [
          3.1804038720292933,
          -4.711313877162868,
          10.919778896901956,
          -10.555184850625007,
          7.948981674289288,
          3.929772667878442,
          -0.9196541035975914,
          -8.953787937826295,
          -7.341487654602656,
          -5.333267862142011,
          -2.542547944695049,
          -8.511643292666074,
          -10.818457176373835,
          -2.6829347069915057,
          -11.782220063938134,
          -0.5142116506043886,
          11.458160267513062,
          -7.241994540911506,
          -10.286477021445918,
          1.6414097991525471,
          -3.203614079789533,
          6.16363986131805,
          -4.56686705510245,
          2.6644462536955773,
          -2.910984696123477,
          9.138354988093816,
          4.921149070259451,
          6.569509769215906,
          3.3609388615897764,
          -9.01478523293293,
          1.4324638601657096,
          10.511569093567564,
          -2.1551461582103943,
          4.621550167632085,
          0.05227941707095507,
          -6.097905125863623,
          6.281210395874013,
          2.91168332764412,
          3.620000613822996,
          -11.634934248390504,
          3.92247273680743,
          -11.97439569942959,
          6.494251124853828,
          -2.338641064322214,
          -10.688442329109478,
          1.4946654697980994,
          4.45986475526328,
          9.027421796209422,
          2.955960943654927,
          11.417299155103127,
          -0.27909520959785894,
          1.187332723458847,
          2.674277807521756,
          -4.345679646868001,
          -8.155527430965405,
          -3.6740378712305146,
          8.98465646124309,
          4.557405324976537,
          -9.717599982441422,
          -0.832701408710733,
          8.522174097790977,
          2.563364315875077,
          8.389450399558168,
          9.09667008884772,
          6.167780008444052,
          8.667009173924738,
          0.8098552380527613,
          -3.231973544226112,
          -5.383648700117948,
          -9.545051837441207,
          -11.588223027289887,
          -11.901269815544072,
          -4.687279144609182,
          9.75657916396351,
          2.7375369134141296,
          -9.505769710537002,
          -5.8322551845437145,
          6.941483821607856,
          -2.420023754312144,
          2.839782221457738,
          4.90696877856655,
          11.443109291048625,
          11.133839083108487,
          9.836447225249573,
          7.624952258740255,
          8.65461525027333,
          -4.820179242798859,
          10.862330309015201,
          -7.899767378408281,
          9.430340273465461,
          8.397526715997957,
          7.704074646343215,
          0.2891096928727679,
          -5.314076089310032,
          11.575006490162561,
          9.101196055091853,
          -2.234173323192384,
          -9.822416003684575,
          -9.078467916118026,
          9.327595952371087
         ],
         "y": [
          2.7566772808195736,
          -5.285272777366569,
          18.409846243263743,
          -24.347597473223352,
          13.563866472667257,
          3.8482596051011715,
          -5.258244771426043,
          -13.017034539068321,
          -17.697554028610952,
          -5.920421477018422,
          -1.8633862187138783,
          -10.062521288134503,
          -19.857126767617757,
          -9.561158007626918,
          -25.39435727020244,
          5.1605279238995285,
          21.9723899330395,
          -12.331935952619439,
          -12.198330293239302,
          5.318297399964062,
          -2.60594786038026,
          7.126611414226392,
          -10.460277990350189,
          12.309724547311813,
          -0.7856080248476642,
          10.190837644834323,
          9.318592223872454,
          10.366428704758818,
          0.29097983217855905,
          -9.955934540814507,
          7.50104979017425,
          13.439094168589513,
          -1.136601359872241,
          9.122354389844071,
          0.10327529055630347,
          -10.311821345712536,
          3.90639289128252,
          11.631979450892532,
          6.050852147467345,
          -17.939596333672615,
          11.723715883833215,
          -24.301269711729695,
          10.146522925177916,
          -6.7607948949382255,
          -17.970804142729193,
          -1.3596122047451038,
          7.007979290266397,
          22.36579618284648,
          5.235939227763423,
          11.711480091794845,
          6.514347287945673,
          -2.143610033112595,
          7.573705469067331,
          -14.002291364749254,
          -7.948087745060818,
          -0.5603913887970444,
          19.021324127563677,
          -0.348732142632473,
          -20.01316601211451,
          4.693886103578755,
          19.06675057938506,
          6.763077322305557,
          10.062220267266243,
          8.238645357585646,
          17.800026385580136,
          10.253035449815304,
          -1.6769471509276004,
          -6.108815478398406,
          -11.498256280866897,
          -13.050134476646813,
          -12.82785512955323,
          -27.28670732626307,
          -3.051487687927102,
          18.52019251505891,
          -1.7304111104941802,
          -16.135224168068056,
          -10.440361094560988,
          13.463236304623944,
          1.1565825051812553,
          -0.6218848409771338,
          3.770683430457229,
          11.090460785901662,
          15.351818078552228,
          16.35996810827121,
          5.370358269340105,
          8.555022561576754,
          -8.060129429008429,
          15.458476456164519,
          -12.321310124484596,
          20.15537610408865,
          8.419323443283703,
          11.696904102625318,
          1.396131202942695,
          -8.80978440770534,
          15.045134129774604,
          22.171371139436587,
          -4.148786195570321,
          -10.16152560671692,
          -17.671600004210084,
          12.01462181283519
         ],
         "z": [
          -1.483861215219484,
          0.9964790588505883,
          3.8501410473944686,
          -10.27401767239001,
          2.9652242402815405,
          -1.391437285403418,
          -4.032039299962588,
          -1.0786506219665926,
          -7.908903822474078,
          1.1906023391709253,
          1.5266777075461873,
          1.286336435420262,
          -5.432517199119308,
          -5.983911731638243,
          -9.684730518284928,
          5.846143458038713,
          6.694842909688752,
          -2.675943231404098,
          1.516972402021925,
          3.1297510010939993,
          1.6655375793391176,
          -1.0915750675310072,
          -4.371121916880257,
          8.757129542384376,
          3.095704903316972,
          -1.9936356726241007,
          2.757060130193185,
          1.6070823458042751,
          -4.190271983274476,
          2.063779103096068,
          5.59109797661997,
          -0.5763312895005708,
          1.7369268510749514,
          2.960287499667958,
          0.033569401128363374,
          -2.1812811778943706,
          -4.468554303216165,
          7.749735014033705,
          1.2241846623700168,
          -2.4263506691519448,
          6.493752234756641,
          -8.33540877915691,
          1.4875214253728126,
          -3.6426068091752732,
          -3.7195477039165583,
          -3.3524994978092364,
          1.0614929499153574,
          10.329233787900582,
          1.2946579695568543,
          -3.5115854483426547,
          6.886474234076152,
          -3.7267203310577246,
          4.00800172570499,
          -8.20805183559192,
          2.9259488295597222,
          4.338325772843642,
          7.041782179239558,
          -6.425272575934523,
          -7.056366035525945,
          5.804154648526399,
          7.703851782330424,
          3.345258234472121,
          -1.1237135988113165,
          -3.8902480942113113,
          9.576319707654733,
          -1.3029767820843468,
          -2.7567541349979487,
          -1.7995174194302566,
          -4.320058014042968,
          -0.323398693391872,
          2.623108906833288,
          -11.418347572204311,
          3.198217838218474,
          5.511420296440896,
          -5.380460328379686,
          -3.460864554018718,
          -2.6640208485027026,
          4.207924542480137,
          4.383280844264114,
          -4.408261136254118,
          -2.7719416076315033,
          -4.16701826882984,
          0.5066993010742467,
          3.24470514127178,
          -4.7962447423135695,
          -2.984464438787689,
          -1.6332237719432827,
          0.9753693774775822,
          -1.7882869532735537,
          7.581589072801368,
          -2.7773788447135725,
          1.4248045741676991,
          1.0106516124456713,
          -1.7243496219586296,
          -0.3882078571088128,
          10.036443065980786,
          -1.169888431313809,
          2.9350290648625155,
          -5.566976116052717,
          -0.42217279032625843
         ]
        }
       ],
       "layout": {
        "margin": {
         "b": 0,
         "l": 0,
         "r": 0,
         "t": 0
        },
        "template": {
         "data": {
          "bar": [
           {
            "error_x": {
             "color": "#2a3f5f"
            },
            "error_y": {
             "color": "#2a3f5f"
            },
            "marker": {
             "line": {
              "color": "#E5ECF6",
              "width": 0.5
             },
             "pattern": {
              "fillmode": "overlay",
              "size": 10,
              "solidity": 0.2
             }
            },
            "type": "bar"
           }
          ],
          "barpolar": [
           {
            "marker": {
             "line": {
              "color": "#E5ECF6",
              "width": 0.5
             },
             "pattern": {
              "fillmode": "overlay",
              "size": 10,
              "solidity": 0.2
             }
            },
            "type": "barpolar"
           }
          ],
          "carpet": [
           {
            "aaxis": {
             "endlinecolor": "#2a3f5f",
             "gridcolor": "white",
             "linecolor": "white",
             "minorgridcolor": "white",
             "startlinecolor": "#2a3f5f"
            },
            "baxis": {
             "endlinecolor": "#2a3f5f",
             "gridcolor": "white",
             "linecolor": "white",
             "minorgridcolor": "white",
             "startlinecolor": "#2a3f5f"
            },
            "type": "carpet"
           }
          ],
          "choropleth": [
           {
            "colorbar": {
             "outlinewidth": 0,
             "ticks": ""
            },
            "type": "choropleth"
           }
          ],
          "contour": [
           {
            "colorbar": {
             "outlinewidth": 0,
             "ticks": ""
            },
            "colorscale": [
             [
              0,
              "#0d0887"
             ],
             [
              0.1111111111111111,
              "#46039f"
             ],
             [
              0.2222222222222222,
              "#7201a8"
             ],
             [
              0.3333333333333333,
              "#9c179e"
             ],
             [
              0.4444444444444444,
              "#bd3786"
             ],
             [
              0.5555555555555556,
              "#d8576b"
             ],
             [
              0.6666666666666666,
              "#ed7953"
             ],
             [
              0.7777777777777778,
              "#fb9f3a"
             ],
             [
              0.8888888888888888,
              "#fdca26"
             ],
             [
              1,
              "#f0f921"
             ]
            ],
            "type": "contour"
           }
          ],
          "contourcarpet": [
           {
            "colorbar": {
             "outlinewidth": 0,
             "ticks": ""
            },
            "type": "contourcarpet"
           }
          ],
          "heatmap": [
           {
            "colorbar": {
             "outlinewidth": 0,
             "ticks": ""
            },
            "colorscale": [
             [
              0,
              "#0d0887"
             ],
             [
              0.1111111111111111,
              "#46039f"
             ],
             [
              0.2222222222222222,
              "#7201a8"
             ],
             [
              0.3333333333333333,
              "#9c179e"
             ],
             [
              0.4444444444444444,
              "#bd3786"
             ],
             [
              0.5555555555555556,
              "#d8576b"
             ],
             [
              0.6666666666666666,
              "#ed7953"
             ],
             [
              0.7777777777777778,
              "#fb9f3a"
             ],
             [
              0.8888888888888888,
              "#fdca26"
             ],
             [
              1,
              "#f0f921"
             ]
            ],
            "type": "heatmap"
           }
          ],
          "heatmapgl": [
           {
            "colorbar": {
             "outlinewidth": 0,
             "ticks": ""
            },
            "colorscale": [
             [
              0,
              "#0d0887"
             ],
             [
              0.1111111111111111,
              "#46039f"
             ],
             [
              0.2222222222222222,
              "#7201a8"
             ],
             [
              0.3333333333333333,
              "#9c179e"
             ],
             [
              0.4444444444444444,
              "#bd3786"
             ],
             [
              0.5555555555555556,
              "#d8576b"
             ],
             [
              0.6666666666666666,
              "#ed7953"
             ],
             [
              0.7777777777777778,
              "#fb9f3a"
             ],
             [
              0.8888888888888888,
              "#fdca26"
             ],
             [
              1,
              "#f0f921"
             ]
            ],
            "type": "heatmapgl"
           }
          ],
          "histogram": [
           {
            "marker": {
             "pattern": {
              "fillmode": "overlay",
              "size": 10,
              "solidity": 0.2
             }
            },
            "type": "histogram"
           }
          ],
          "histogram2d": [
           {
            "colorbar": {
             "outlinewidth": 0,
             "ticks": ""
            },
            "colorscale": [
             [
              0,
              "#0d0887"
             ],
             [
              0.1111111111111111,
              "#46039f"
             ],
             [
              0.2222222222222222,
              "#7201a8"
             ],
             [
              0.3333333333333333,
              "#9c179e"
             ],
             [
              0.4444444444444444,
              "#bd3786"
             ],
             [
              0.5555555555555556,
              "#d8576b"
             ],
             [
              0.6666666666666666,
              "#ed7953"
             ],
             [
              0.7777777777777778,
              "#fb9f3a"
             ],
             [
              0.8888888888888888,
              "#fdca26"
             ],
             [
              1,
              "#f0f921"
             ]
            ],
            "type": "histogram2d"
           }
          ],
          "histogram2dcontour": [
           {
            "colorbar": {
             "outlinewidth": 0,
             "ticks": ""
            },
            "colorscale": [
             [
              0,
              "#0d0887"
             ],
             [
              0.1111111111111111,
              "#46039f"
             ],
             [
              0.2222222222222222,
              "#7201a8"
             ],
             [
              0.3333333333333333,
              "#9c179e"
             ],
             [
              0.4444444444444444,
              "#bd3786"
             ],
             [
              0.5555555555555556,
              "#d8576b"
             ],
             [
              0.6666666666666666,
              "#ed7953"
             ],
             [
              0.7777777777777778,
              "#fb9f3a"
             ],
             [
              0.8888888888888888,
              "#fdca26"
             ],
             [
              1,
              "#f0f921"
             ]
            ],
            "type": "histogram2dcontour"
           }
          ],
          "mesh3d": [
           {
            "colorbar": {
             "outlinewidth": 0,
             "ticks": ""
            },
            "type": "mesh3d"
           }
          ],
          "parcoords": [
           {
            "line": {
             "colorbar": {
              "outlinewidth": 0,
              "ticks": ""
             }
            },
            "type": "parcoords"
           }
          ],
          "pie": [
           {
            "automargin": true,
            "type": "pie"
           }
          ],
          "scatter": [
           {
            "fillpattern": {
             "fillmode": "overlay",
             "size": 10,
             "solidity": 0.2
            },
            "type": "scatter"
           }
          ],
          "scatter3d": [
           {
            "line": {
             "colorbar": {
              "outlinewidth": 0,
              "ticks": ""
             }
            },
            "marker": {
             "colorbar": {
              "outlinewidth": 0,
              "ticks": ""
             }
            },
            "type": "scatter3d"
           }
          ],
          "scattercarpet": [
           {
            "marker": {
             "colorbar": {
              "outlinewidth": 0,
              "ticks": ""
             }
            },
            "type": "scattercarpet"
           }
          ],
          "scattergeo": [
           {
            "marker": {
             "colorbar": {
              "outlinewidth": 0,
              "ticks": ""
             }
            },
            "type": "scattergeo"
           }
          ],
          "scattergl": [
           {
            "marker": {
             "colorbar": {
              "outlinewidth": 0,
              "ticks": ""
             }
            },
            "type": "scattergl"
           }
          ],
          "scattermapbox": [
           {
            "marker": {
             "colorbar": {
              "outlinewidth": 0,
              "ticks": ""
             }
            },
            "type": "scattermapbox"
           }
          ],
          "scatterpolar": [
           {
            "marker": {
             "colorbar": {
              "outlinewidth": 0,
              "ticks": ""
             }
            },
            "type": "scatterpolar"
           }
          ],
          "scatterpolargl": [
           {
            "marker": {
             "colorbar": {
              "outlinewidth": 0,
              "ticks": ""
             }
            },
            "type": "scatterpolargl"
           }
          ],
          "scatterternary": [
           {
            "marker": {
             "colorbar": {
              "outlinewidth": 0,
              "ticks": ""
             }
            },
            "type": "scatterternary"
           }
          ],
          "surface": [
           {
            "colorbar": {
             "outlinewidth": 0,
             "ticks": ""
            },
            "colorscale": [
             [
              0,
              "#0d0887"
             ],
             [
              0.1111111111111111,
              "#46039f"
             ],
             [
              0.2222222222222222,
              "#7201a8"
             ],
             [
              0.3333333333333333,
              "#9c179e"
             ],
             [
              0.4444444444444444,
              "#bd3786"
             ],
             [
              0.5555555555555556,
              "#d8576b"
             ],
             [
              0.6666666666666666,
              "#ed7953"
             ],
             [
              0.7777777777777778,
              "#fb9f3a"
             ],
             [
              0.8888888888888888,
              "#fdca26"
             ],
             [
              1,
              "#f0f921"
             ]
            ],
            "type": "surface"
           }
          ],
          "table": [
           {
            "cells": {
             "fill": {
              "color": "#EBF0F8"
             },
             "line": {
              "color": "white"
             }
            },
            "header": {
             "fill": {
              "color": "#C8D4E3"
             },
             "line": {
              "color": "white"
             }
            },
            "type": "table"
           }
          ]
         },
         "layout": {
          "annotationdefaults": {
           "arrowcolor": "#2a3f5f",
           "arrowhead": 0,
           "arrowwidth": 1
          },
          "autotypenumbers": "strict",
          "coloraxis": {
           "colorbar": {
            "outlinewidth": 0,
            "ticks": ""
           }
          },
          "colorscale": {
           "diverging": [
            [
             0,
             "#8e0152"
            ],
            [
             0.1,
             "#c51b7d"
            ],
            [
             0.2,
             "#de77ae"
            ],
            [
             0.3,
             "#f1b6da"
            ],
            [
             0.4,
             "#fde0ef"
            ],
            [
             0.5,
             "#f7f7f7"
            ],
            [
             0.6,
             "#e6f5d0"
            ],
            [
             0.7,
             "#b8e186"
            ],
            [
             0.8,
             "#7fbc41"
            ],
            [
             0.9,
             "#4d9221"
            ],
            [
             1,
             "#276419"
            ]
           ],
           "sequential": [
            [
             0,
             "#0d0887"
            ],
            [
             0.1111111111111111,
             "#46039f"
            ],
            [
             0.2222222222222222,
             "#7201a8"
            ],
            [
             0.3333333333333333,
             "#9c179e"
            ],
            [
             0.4444444444444444,
             "#bd3786"
            ],
            [
             0.5555555555555556,
             "#d8576b"
            ],
            [
             0.6666666666666666,
             "#ed7953"
            ],
            [
             0.7777777777777778,
             "#fb9f3a"
            ],
            [
             0.8888888888888888,
             "#fdca26"
            ],
            [
             1,
             "#f0f921"
            ]
           ],
           "sequentialminus": [
            [
             0,
             "#0d0887"
            ],
            [
             0.1111111111111111,
             "#46039f"
            ],
            [
             0.2222222222222222,
             "#7201a8"
            ],
            [
             0.3333333333333333,
             "#9c179e"
            ],
            [
             0.4444444444444444,
             "#bd3786"
            ],
            [
             0.5555555555555556,
             "#d8576b"
            ],
            [
             0.6666666666666666,
             "#ed7953"
            ],
            [
             0.7777777777777778,
             "#fb9f3a"
            ],
            [
             0.8888888888888888,
             "#fdca26"
            ],
            [
             1,
             "#f0f921"
            ]
           ]
          },
          "colorway": [
           "#636efa",
           "#EF553B",
           "#00cc96",
           "#ab63fa",
           "#FFA15A",
           "#19d3f3",
           "#FF6692",
           "#B6E880",
           "#FF97FF",
           "#FECB52"
          ],
          "font": {
           "color": "#2a3f5f"
          },
          "geo": {
           "bgcolor": "white",
           "lakecolor": "white",
           "landcolor": "#E5ECF6",
           "showlakes": true,
           "showland": true,
           "subunitcolor": "white"
          },
          "hoverlabel": {
           "align": "left"
          },
          "hovermode": "closest",
          "mapbox": {
           "style": "light"
          },
          "paper_bgcolor": "white",
          "plot_bgcolor": "#E5ECF6",
          "polar": {
           "angularaxis": {
            "gridcolor": "white",
            "linecolor": "white",
            "ticks": ""
           },
           "bgcolor": "#E5ECF6",
           "radialaxis": {
            "gridcolor": "white",
            "linecolor": "white",
            "ticks": ""
           }
          },
          "scene": {
           "xaxis": {
            "backgroundcolor": "#E5ECF6",
            "gridcolor": "white",
            "gridwidth": 2,
            "linecolor": "white",
            "showbackground": true,
            "ticks": "",
            "zerolinecolor": "white"
           },
           "yaxis": {
            "backgroundcolor": "#E5ECF6",
            "gridcolor": "white",
            "gridwidth": 2,
            "linecolor": "white",
            "showbackground": true,
            "ticks": "",
            "zerolinecolor": "white"
           },
           "zaxis": {
            "backgroundcolor": "#E5ECF6",
            "gridcolor": "white",
            "gridwidth": 2,
            "linecolor": "white",
            "showbackground": true,
            "ticks": "",
            "zerolinecolor": "white"
           }
          },
          "shapedefaults": {
           "line": {
            "color": "#2a3f5f"
           }
          },
          "ternary": {
           "aaxis": {
            "gridcolor": "white",
            "linecolor": "white",
            "ticks": ""
           },
           "baxis": {
            "gridcolor": "white",
            "linecolor": "white",
            "ticks": ""
           },
           "bgcolor": "#E5ECF6",
           "caxis": {
            "gridcolor": "white",
            "linecolor": "white",
            "ticks": ""
           }
          },
          "title": {
           "x": 0.05
          },
          "xaxis": {
           "automargin": true,
           "gridcolor": "white",
           "linecolor": "white",
           "ticks": "",
           "title": {
            "standoff": 15
           },
           "zerolinecolor": "white",
           "zerolinewidth": 2
          },
          "yaxis": {
           "automargin": true,
           "gridcolor": "white",
           "linecolor": "white",
           "ticks": "",
           "title": {
            "standoff": 15
           },
           "zerolinecolor": "white",
           "zerolinewidth": 2
          }
         }
        }
       }
      },
      "text/html": [
       "<div>                            <div id=\"4ab6d01a-651c-4803-b189-ea99ac72f79e\" class=\"plotly-graph-div\" style=\"height:525px; width:100%;\"></div>            <script type=\"text/javascript\">                require([\"plotly\"], function(Plotly) {                    window.PLOTLYENV=window.PLOTLYENV || {};                                    if (document.getElementById(\"4ab6d01a-651c-4803-b189-ea99ac72f79e\")) {                    Plotly.newPlot(                        \"4ab6d01a-651c-4803-b189-ea99ac72f79e\",                        [{\"marker\":{\"color\":\"orange\",\"size\":3},\"mode\":\"markers\",\"x\":[3.1804038720292933,-4.711313877162868,10.919778896901956,-10.555184850625007,7.948981674289288,3.929772667878442,-0.9196541035975914,-8.953787937826295,-7.341487654602656,-5.333267862142011,-2.542547944695049,-8.511643292666074,-10.818457176373835,-2.6829347069915057,-11.782220063938134,-0.5142116506043886,11.458160267513062,-7.241994540911506,-10.286477021445918,1.6414097991525471,-3.203614079789533,6.16363986131805,-4.56686705510245,2.6644462536955773,-2.910984696123477,9.138354988093816,4.921149070259451,6.569509769215906,3.3609388615897764,-9.01478523293293,1.4324638601657096,10.511569093567564,-2.1551461582103943,4.621550167632085,0.05227941707095507,-6.097905125863623,6.281210395874013,2.91168332764412,3.620000613822996,-11.634934248390504,3.92247273680743,-11.97439569942959,6.494251124853828,-2.338641064322214,-10.688442329109478,1.4946654697980994,4.45986475526328,9.027421796209422,2.955960943654927,11.417299155103127,-0.27909520959785894,1.187332723458847,2.674277807521756,-4.345679646868001,-8.155527430965405,-3.6740378712305146,8.98465646124309,4.557405324976537,-9.717599982441422,-0.832701408710733,8.522174097790977,2.563364315875077,8.389450399558168,9.09667008884772,6.167780008444052,8.667009173924738,0.8098552380527613,-3.231973544226112,-5.383648700117948,-9.545051837441207,-11.588223027289887,-11.901269815544072,-4.687279144609182,9.75657916396351,2.7375369134141296,-9.505769710537002,-5.8322551845437145,6.941483821607856,-2.420023754312144,2.839782221457738,4.90696877856655,11.443109291048625,11.133839083108487,9.836447225249573,7.624952258740255,8.65461525027333,-4.820179242798859,10.862330309015201,-7.899767378408281,9.430340273465461,8.397526715997957,7.704074646343215,0.2891096928727679,-5.314076089310032,11.575006490162561,9.101196055091853,-2.234173323192384,-9.822416003684575,-9.078467916118026,9.327595952371087],\"y\":[2.7566772808195736,-5.285272777366569,18.409846243263743,-24.347597473223352,13.563866472667257,3.8482596051011715,-5.258244771426043,-13.017034539068321,-17.697554028610952,-5.920421477018422,-1.8633862187138783,-10.062521288134503,-19.857126767617757,-9.561158007626918,-25.39435727020244,5.1605279238995285,21.9723899330395,-12.331935952619439,-12.198330293239302,5.318297399964062,-2.60594786038026,7.126611414226392,-10.460277990350189,12.309724547311813,-0.7856080248476642,10.190837644834323,9.318592223872454,10.366428704758818,0.29097983217855905,-9.955934540814507,7.50104979017425,13.439094168589513,-1.136601359872241,9.122354389844071,0.10327529055630347,-10.311821345712536,3.90639289128252,11.631979450892532,6.050852147467345,-17.939596333672615,11.723715883833215,-24.301269711729695,10.146522925177916,-6.7607948949382255,-17.970804142729193,-1.3596122047451038,7.007979290266397,22.36579618284648,5.235939227763423,11.711480091794845,6.514347287945673,-2.143610033112595,7.573705469067331,-14.002291364749254,-7.948087745060818,-0.5603913887970444,19.021324127563677,-0.348732142632473,-20.01316601211451,4.693886103578755,19.06675057938506,6.763077322305557,10.062220267266243,8.238645357585646,17.800026385580136,10.253035449815304,-1.6769471509276004,-6.108815478398406,-11.498256280866897,-13.050134476646813,-12.82785512955323,-27.28670732626307,-3.051487687927102,18.52019251505891,-1.7304111104941802,-16.135224168068056,-10.440361094560988,13.463236304623944,1.1565825051812553,-0.6218848409771338,3.770683430457229,11.090460785901662,15.351818078552228,16.35996810827121,5.370358269340105,8.555022561576754,-8.060129429008429,15.458476456164519,-12.321310124484596,20.15537610408865,8.419323443283703,11.696904102625318,1.396131202942695,-8.80978440770534,15.045134129774604,22.171371139436587,-4.148786195570321,-10.16152560671692,-17.671600004210084,12.01462181283519],\"z\":[-1.483861215219484,0.9964790588505883,3.8501410473944686,-10.27401767239001,2.9652242402815405,-1.391437285403418,-4.032039299962588,-1.0786506219665926,-7.908903822474078,1.1906023391709253,1.5266777075461873,1.286336435420262,-5.432517199119308,-5.983911731638243,-9.684730518284928,5.846143458038713,6.694842909688752,-2.675943231404098,1.516972402021925,3.1297510010939993,1.6655375793391176,-1.0915750675310072,-4.371121916880257,8.757129542384376,3.095704903316972,-1.9936356726241007,2.757060130193185,1.6070823458042751,-4.190271983274476,2.063779103096068,5.59109797661997,-0.5763312895005708,1.7369268510749514,2.960287499667958,0.033569401128363374,-2.1812811778943706,-4.468554303216165,7.749735014033705,1.2241846623700168,-2.4263506691519448,6.493752234756641,-8.33540877915691,1.4875214253728126,-3.6426068091752732,-3.7195477039165583,-3.3524994978092364,1.0614929499153574,10.329233787900582,1.2946579695568543,-3.5115854483426547,6.886474234076152,-3.7267203310577246,4.00800172570499,-8.20805183559192,2.9259488295597222,4.338325772843642,7.041782179239558,-6.425272575934523,-7.056366035525945,5.804154648526399,7.703851782330424,3.345258234472121,-1.1237135988113165,-3.8902480942113113,9.576319707654733,-1.3029767820843468,-2.7567541349979487,-1.7995174194302566,-4.320058014042968,-0.323398693391872,2.623108906833288,-11.418347572204311,3.198217838218474,5.511420296440896,-5.380460328379686,-3.460864554018718,-2.6640208485027026,4.207924542480137,4.383280844264114,-4.408261136254118,-2.7719416076315033,-4.16701826882984,0.5066993010742467,3.24470514127178,-4.7962447423135695,-2.984464438787689,-1.6332237719432827,0.9753693774775822,-1.7882869532735537,7.581589072801368,-2.7773788447135725,1.4248045741676991,1.0106516124456713,-1.7243496219586296,-0.3882078571088128,10.036443065980786,-1.169888431313809,2.9350290648625155,-5.566976116052717,-0.42217279032625843],\"type\":\"scatter3d\"}],                        {\"template\":{\"data\":{\"histogram2dcontour\":[{\"type\":\"histogram2dcontour\",\"colorbar\":{\"outlinewidth\":0,\"ticks\":\"\"},\"colorscale\":[[0.0,\"#0d0887\"],[0.1111111111111111,\"#46039f\"],[0.2222222222222222,\"#7201a8\"],[0.3333333333333333,\"#9c179e\"],[0.4444444444444444,\"#bd3786\"],[0.5555555555555556,\"#d8576b\"],[0.6666666666666666,\"#ed7953\"],[0.7777777777777778,\"#fb9f3a\"],[0.8888888888888888,\"#fdca26\"],[1.0,\"#f0f921\"]]}],\"choropleth\":[{\"type\":\"choropleth\",\"colorbar\":{\"outlinewidth\":0,\"ticks\":\"\"}}],\"histogram2d\":[{\"type\":\"histogram2d\",\"colorbar\":{\"outlinewidth\":0,\"ticks\":\"\"},\"colorscale\":[[0.0,\"#0d0887\"],[0.1111111111111111,\"#46039f\"],[0.2222222222222222,\"#7201a8\"],[0.3333333333333333,\"#9c179e\"],[0.4444444444444444,\"#bd3786\"],[0.5555555555555556,\"#d8576b\"],[0.6666666666666666,\"#ed7953\"],[0.7777777777777778,\"#fb9f3a\"],[0.8888888888888888,\"#fdca26\"],[1.0,\"#f0f921\"]]}],\"heatmap\":[{\"type\":\"heatmap\",\"colorbar\":{\"outlinewidth\":0,\"ticks\":\"\"},\"colorscale\":[[0.0,\"#0d0887\"],[0.1111111111111111,\"#46039f\"],[0.2222222222222222,\"#7201a8\"],[0.3333333333333333,\"#9c179e\"],[0.4444444444444444,\"#bd3786\"],[0.5555555555555556,\"#d8576b\"],[0.6666666666666666,\"#ed7953\"],[0.7777777777777778,\"#fb9f3a\"],[0.8888888888888888,\"#fdca26\"],[1.0,\"#f0f921\"]]}],\"heatmapgl\":[{\"type\":\"heatmapgl\",\"colorbar\":{\"outlinewidth\":0,\"ticks\":\"\"},\"colorscale\":[[0.0,\"#0d0887\"],[0.1111111111111111,\"#46039f\"],[0.2222222222222222,\"#7201a8\"],[0.3333333333333333,\"#9c179e\"],[0.4444444444444444,\"#bd3786\"],[0.5555555555555556,\"#d8576b\"],[0.6666666666666666,\"#ed7953\"],[0.7777777777777778,\"#fb9f3a\"],[0.8888888888888888,\"#fdca26\"],[1.0,\"#f0f921\"]]}],\"contourcarpet\":[{\"type\":\"contourcarpet\",\"colorbar\":{\"outlinewidth\":0,\"ticks\":\"\"}}],\"contour\":[{\"type\":\"contour\",\"colorbar\":{\"outlinewidth\":0,\"ticks\":\"\"},\"colorscale\":[[0.0,\"#0d0887\"],[0.1111111111111111,\"#46039f\"],[0.2222222222222222,\"#7201a8\"],[0.3333333333333333,\"#9c179e\"],[0.4444444444444444,\"#bd3786\"],[0.5555555555555556,\"#d8576b\"],[0.6666666666666666,\"#ed7953\"],[0.7777777777777778,\"#fb9f3a\"],[0.8888888888888888,\"#fdca26\"],[1.0,\"#f0f921\"]]}],\"surface\":[{\"type\":\"surface\",\"colorbar\":{\"outlinewidth\":0,\"ticks\":\"\"},\"colorscale\":[[0.0,\"#0d0887\"],[0.1111111111111111,\"#46039f\"],[0.2222222222222222,\"#7201a8\"],[0.3333333333333333,\"#9c179e\"],[0.4444444444444444,\"#bd3786\"],[0.5555555555555556,\"#d8576b\"],[0.6666666666666666,\"#ed7953\"],[0.7777777777777778,\"#fb9f3a\"],[0.8888888888888888,\"#fdca26\"],[1.0,\"#f0f921\"]]}],\"mesh3d\":[{\"type\":\"mesh3d\",\"colorbar\":{\"outlinewidth\":0,\"ticks\":\"\"}}],\"scatter\":[{\"fillpattern\":{\"fillmode\":\"overlay\",\"size\":10,\"solidity\":0.2},\"type\":\"scatter\"}],\"parcoords\":[{\"type\":\"parcoords\",\"line\":{\"colorbar\":{\"outlinewidth\":0,\"ticks\":\"\"}}}],\"scatterpolargl\":[{\"type\":\"scatterpolargl\",\"marker\":{\"colorbar\":{\"outlinewidth\":0,\"ticks\":\"\"}}}],\"bar\":[{\"error_x\":{\"color\":\"#2a3f5f\"},\"error_y\":{\"color\":\"#2a3f5f\"},\"marker\":{\"line\":{\"color\":\"#E5ECF6\",\"width\":0.5},\"pattern\":{\"fillmode\":\"overlay\",\"size\":10,\"solidity\":0.2}},\"type\":\"bar\"}],\"scattergeo\":[{\"type\":\"scattergeo\",\"marker\":{\"colorbar\":{\"outlinewidth\":0,\"ticks\":\"\"}}}],\"scatterpolar\":[{\"type\":\"scatterpolar\",\"marker\":{\"colorbar\":{\"outlinewidth\":0,\"ticks\":\"\"}}}],\"histogram\":[{\"marker\":{\"pattern\":{\"fillmode\":\"overlay\",\"size\":10,\"solidity\":0.2}},\"type\":\"histogram\"}],\"scattergl\":[{\"type\":\"scattergl\",\"marker\":{\"colorbar\":{\"outlinewidth\":0,\"ticks\":\"\"}}}],\"scatter3d\":[{\"type\":\"scatter3d\",\"line\":{\"colorbar\":{\"outlinewidth\":0,\"ticks\":\"\"}},\"marker\":{\"colorbar\":{\"outlinewidth\":0,\"ticks\":\"\"}}}],\"scattermapbox\":[{\"type\":\"scattermapbox\",\"marker\":{\"colorbar\":{\"outlinewidth\":0,\"ticks\":\"\"}}}],\"scatterternary\":[{\"type\":\"scatterternary\",\"marker\":{\"colorbar\":{\"outlinewidth\":0,\"ticks\":\"\"}}}],\"scattercarpet\":[{\"type\":\"scattercarpet\",\"marker\":{\"colorbar\":{\"outlinewidth\":0,\"ticks\":\"\"}}}],\"carpet\":[{\"aaxis\":{\"endlinecolor\":\"#2a3f5f\",\"gridcolor\":\"white\",\"linecolor\":\"white\",\"minorgridcolor\":\"white\",\"startlinecolor\":\"#2a3f5f\"},\"baxis\":{\"endlinecolor\":\"#2a3f5f\",\"gridcolor\":\"white\",\"linecolor\":\"white\",\"minorgridcolor\":\"white\",\"startlinecolor\":\"#2a3f5f\"},\"type\":\"carpet\"}],\"table\":[{\"cells\":{\"fill\":{\"color\":\"#EBF0F8\"},\"line\":{\"color\":\"white\"}},\"header\":{\"fill\":{\"color\":\"#C8D4E3\"},\"line\":{\"color\":\"white\"}},\"type\":\"table\"}],\"barpolar\":[{\"marker\":{\"line\":{\"color\":\"#E5ECF6\",\"width\":0.5},\"pattern\":{\"fillmode\":\"overlay\",\"size\":10,\"solidity\":0.2}},\"type\":\"barpolar\"}],\"pie\":[{\"automargin\":true,\"type\":\"pie\"}]},\"layout\":{\"autotypenumbers\":\"strict\",\"colorway\":[\"#636efa\",\"#EF553B\",\"#00cc96\",\"#ab63fa\",\"#FFA15A\",\"#19d3f3\",\"#FF6692\",\"#B6E880\",\"#FF97FF\",\"#FECB52\"],\"font\":{\"color\":\"#2a3f5f\"},\"hovermode\":\"closest\",\"hoverlabel\":{\"align\":\"left\"},\"paper_bgcolor\":\"white\",\"plot_bgcolor\":\"#E5ECF6\",\"polar\":{\"bgcolor\":\"#E5ECF6\",\"angularaxis\":{\"gridcolor\":\"white\",\"linecolor\":\"white\",\"ticks\":\"\"},\"radialaxis\":{\"gridcolor\":\"white\",\"linecolor\":\"white\",\"ticks\":\"\"}},\"ternary\":{\"bgcolor\":\"#E5ECF6\",\"aaxis\":{\"gridcolor\":\"white\",\"linecolor\":\"white\",\"ticks\":\"\"},\"baxis\":{\"gridcolor\":\"white\",\"linecolor\":\"white\",\"ticks\":\"\"},\"caxis\":{\"gridcolor\":\"white\",\"linecolor\":\"white\",\"ticks\":\"\"}},\"coloraxis\":{\"colorbar\":{\"outlinewidth\":0,\"ticks\":\"\"}},\"colorscale\":{\"sequential\":[[0.0,\"#0d0887\"],[0.1111111111111111,\"#46039f\"],[0.2222222222222222,\"#7201a8\"],[0.3333333333333333,\"#9c179e\"],[0.4444444444444444,\"#bd3786\"],[0.5555555555555556,\"#d8576b\"],[0.6666666666666666,\"#ed7953\"],[0.7777777777777778,\"#fb9f3a\"],[0.8888888888888888,\"#fdca26\"],[1.0,\"#f0f921\"]],\"sequentialminus\":[[0.0,\"#0d0887\"],[0.1111111111111111,\"#46039f\"],[0.2222222222222222,\"#7201a8\"],[0.3333333333333333,\"#9c179e\"],[0.4444444444444444,\"#bd3786\"],[0.5555555555555556,\"#d8576b\"],[0.6666666666666666,\"#ed7953\"],[0.7777777777777778,\"#fb9f3a\"],[0.8888888888888888,\"#fdca26\"],[1.0,\"#f0f921\"]],\"diverging\":[[0,\"#8e0152\"],[0.1,\"#c51b7d\"],[0.2,\"#de77ae\"],[0.3,\"#f1b6da\"],[0.4,\"#fde0ef\"],[0.5,\"#f7f7f7\"],[0.6,\"#e6f5d0\"],[0.7,\"#b8e186\"],[0.8,\"#7fbc41\"],[0.9,\"#4d9221\"],[1,\"#276419\"]]},\"xaxis\":{\"gridcolor\":\"white\",\"linecolor\":\"white\",\"ticks\":\"\",\"title\":{\"standoff\":15},\"zerolinecolor\":\"white\",\"automargin\":true,\"zerolinewidth\":2},\"yaxis\":{\"gridcolor\":\"white\",\"linecolor\":\"white\",\"ticks\":\"\",\"title\":{\"standoff\":15},\"zerolinecolor\":\"white\",\"automargin\":true,\"zerolinewidth\":2},\"scene\":{\"xaxis\":{\"backgroundcolor\":\"#E5ECF6\",\"gridcolor\":\"white\",\"linecolor\":\"white\",\"showbackground\":true,\"ticks\":\"\",\"zerolinecolor\":\"white\",\"gridwidth\":2},\"yaxis\":{\"backgroundcolor\":\"#E5ECF6\",\"gridcolor\":\"white\",\"linecolor\":\"white\",\"showbackground\":true,\"ticks\":\"\",\"zerolinecolor\":\"white\",\"gridwidth\":2},\"zaxis\":{\"backgroundcolor\":\"#E5ECF6\",\"gridcolor\":\"white\",\"linecolor\":\"white\",\"showbackground\":true,\"ticks\":\"\",\"zerolinecolor\":\"white\",\"gridwidth\":2}},\"shapedefaults\":{\"line\":{\"color\":\"#2a3f5f\"}},\"annotationdefaults\":{\"arrowcolor\":\"#2a3f5f\",\"arrowhead\":0,\"arrowwidth\":1},\"geo\":{\"bgcolor\":\"white\",\"landcolor\":\"#E5ECF6\",\"subunitcolor\":\"white\",\"showland\":true,\"showlakes\":true,\"lakecolor\":\"white\"},\"title\":{\"x\":0.05},\"mapbox\":{\"style\":\"light\"}}},\"margin\":{\"l\":0,\"r\":0,\"b\":0,\"t\":0}},                        {\"responsive\": true}                    ).then(function(){\n",
       "                            \n",
       "var gd = document.getElementById('4ab6d01a-651c-4803-b189-ea99ac72f79e');\n",
       "var x = new MutationObserver(function (mutations, observer) {{\n",
       "        var display = window.getComputedStyle(gd).display;\n",
       "        if (!display || display === 'none') {{\n",
       "            console.log([gd, 'removed!']);\n",
       "            Plotly.purge(gd);\n",
       "            observer.disconnect();\n",
       "        }}\n",
       "}});\n",
       "\n",
       "// Listen for the removal of the full notebook cells\n",
       "var notebookContainer = gd.closest('#notebook-container');\n",
       "if (notebookContainer) {{\n",
       "    x.observe(notebookContainer, {childList: true});\n",
       "}}\n",
       "\n",
       "// Listen for the clearing of the current output cell\n",
       "var outputEl = gd.closest('.output');\n",
       "if (outputEl) {{\n",
       "    x.observe(outputEl, {childList: true});\n",
       "}}\n",
       "\n",
       "                        })                };                });            </script>        </div>"
      ]
     },
     "metadata": {},
     "output_type": "display_data"
    }
   ],
   "source": [
    "# 랜덤 point 생성\n",
    "points = np.zeros((100,3))\n",
    "\n",
    "for i in range(len(scalars)):\n",
    "\n",
    "  # 두 벡터의 선형 가중 결합\n",
    "  points[i,:] = v1*scalars[i,0] + v2*scalars[i,1]\n",
    "\n",
    "\n",
    "# 플롯\n",
    "fig = go.Figure( data=[go.Scatter3d(x=points[:,0], y=points[:,1], z=points[:,2], \n",
    "                                    mode='markers', marker=dict(size=3,color='orange') )])\n",
    "fig.update_layout(margin=dict(l=0,r=0,b=0,t=0))\n",
    "fig.show()"
   ]
  },
  {
   "cell_type": "code",
   "execution_count": null,
   "id": "968b4411",
   "metadata": {},
   "outputs": [],
   "source": []
  }
 ],
 "metadata": {
  "kernelspec": {
   "display_name": "Python 3 (ipykernel)",
   "language": "python",
   "name": "python3"
  },
  "language_info": {
   "codemirror_mode": {
    "name": "ipython",
    "version": 3
   },
   "file_extension": ".py",
   "mimetype": "text/x-python",
   "name": "python",
   "nbconvert_exporter": "python",
   "pygments_lexer": "ipython3",
   "version": "3.11.4"
  }
 },
 "nbformat": 4,
 "nbformat_minor": 5
}
