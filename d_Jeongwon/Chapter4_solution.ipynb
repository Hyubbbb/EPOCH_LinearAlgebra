{
  "nbformat": 4,
  "nbformat_minor": 0,
  "metadata": {
    "colab": {
      "provenance": []
    },
    "kernelspec": {
      "name": "python3",
      "display_name": "Python 3"
    },
    "language_info": {
      "name": "python"
    }
  },
  "cells": [
    {
      "cell_type": "markdown",
      "source": [
        "**연습 문제 4-1**"
      ],
      "metadata": {
        "id": "j0g07MDpPbq3"
      }
    },
    {
      "cell_type": "code",
      "execution_count": 6,
      "metadata": {
        "colab": {
          "base_uri": "https://localhost:8080/"
        },
        "id": "4Gn2SbZ5PY5I",
        "outputId": "1091a6fd-eef8-4cb5-bb86-5f355626a52b"
      },
      "outputs": [
        {
          "output_type": "stream",
          "name": "stdout",
          "text": [
            "Enter the row index(0~2):0\n",
            "Enter the column index(0~3):2\n",
            "The matrix element at index (0,2) is 2\n"
          ]
        }
      ],
      "source": [
        "import numpy as np\n",
        "\n",
        "A = np.arange(12).reshape(3,4)\n",
        "\n",
        "a = int(input('Enter the row index(0~2):'))\n",
        "b = int(input('Enter the column index(0~3):'))\n",
        "\n",
        "print(f'The matrix element at index ({a},{b}) is {A[a,b]}')"
      ]
    },
    {
      "cell_type": "code",
      "source": [
        "# 정답\n",
        "\n",
        "# indexing\n",
        "\n",
        "A = np.arange(12).reshape(3,4)\n",
        "print(A)\n",
        "\n",
        "# find the element in the 2nd row, 4th column\n",
        "ri = 1\n",
        "ci = 3\n",
        "\n",
        "print(f'The matrix element at index ({ri+1},{ci+1}) is {A[ri,ci]}')"
      ],
      "metadata": {
        "colab": {
          "base_uri": "https://localhost:8080/"
        },
        "id": "ao2dCko6PxZ8",
        "outputId": "2c388475-84e4-479f-899d-25bd3a2fe4c6"
      },
      "execution_count": 2,
      "outputs": [
        {
          "output_type": "stream",
          "name": "stdout",
          "text": [
            "[[ 0  1  2  3]\n",
            " [ 4  5  6  7]\n",
            " [ 8  9 10 11]]\n",
            "The matrix element at index (2,4) is 7\n"
          ]
        }
      ]
    },
    {
      "cell_type": "markdown",
      "source": [
        "**연습 문제 4-2**"
      ],
      "metadata": {
        "id": "yZxfps-FRWxu"
      }
    },
    {
      "cell_type": "code",
      "source": [
        "C = np.arange(100).reshape(10,10)\n",
        "C_1 = C[0:5:1,0:5:1]\n",
        "\n",
        "print(C)\n",
        "print(C_1)"
      ],
      "metadata": {
        "colab": {
          "base_uri": "https://localhost:8080/"
        },
        "id": "5TeAGFKTRceC",
        "outputId": "3b42159d-5e9b-4ec6-a4f4-79fb94b42850"
      },
      "execution_count": 7,
      "outputs": [
        {
          "output_type": "stream",
          "name": "stdout",
          "text": [
            "[[ 0  1  2  3  4  5  6  7  8  9]\n",
            " [10 11 12 13 14 15 16 17 18 19]\n",
            " [20 21 22 23 24 25 26 27 28 29]\n",
            " [30 31 32 33 34 35 36 37 38 39]\n",
            " [40 41 42 43 44 45 46 47 48 49]\n",
            " [50 51 52 53 54 55 56 57 58 59]\n",
            " [60 61 62 63 64 65 66 67 68 69]\n",
            " [70 71 72 73 74 75 76 77 78 79]\n",
            " [80 81 82 83 84 85 86 87 88 89]\n",
            " [90 91 92 93 94 95 96 97 98 99]]\n",
            "[[ 0  1  2  3  4]\n",
            " [10 11 12 13 14]\n",
            " [20 21 22 23 24]\n",
            " [30 31 32 33 34]\n",
            " [40 41 42 43 44]]\n"
          ]
        }
      ]
    },
    {
      "cell_type": "code",
      "source": [
        "# 정답\n",
        "\n",
        "# Create the matrix\n",
        "C = np.arange(100).reshape((10,10))\n",
        "\n",
        "# extract submatrix\n",
        "C_1 = C[0:5:1,0:5:1]\n",
        "\n",
        "# here's what the matrices look like\n",
        "print(C), print(' ')\n",
        "print(C_1)\n",
        "\n",
        "\n",
        "\n",
        "# visualize the matrices as maps\n",
        "_,axs = plt.subplots(1,2,figsize=(10,5))\n",
        "\n",
        "axs[0].imshow(C,cmap='gray',origin='upper',vmin=0,vmax=np.max(C))\n",
        "axs[0].plot([4.5,4.5],[-.5,9.5],'w--')\n",
        "axs[0].plot([-.5,9.5],[4.5,4.5],'w--')\n",
        "axs[0].set_title('Original matrix')\n",
        "# text labels\n",
        "for (j,i),num in np.ndenumerate(C):\n",
        "  axs[0].text(i,j,num,color=[.8,.8,.8],ha='center',va='center')\n",
        "\n",
        "\n",
        "axs[1].imshow(C_1,cmap='gray',origin='upper',vmin=0,vmax=np.max(C))\n",
        "axs[1].set_title('Submatrix')\n",
        "# text labels\n",
        "for (j,i),num in np.ndenumerate(C_1):\n",
        "  axs[1].text(i,j,num,color=[.8,.8,.8],ha='center',va='center')\n",
        "\n",
        "\n",
        "plt.savefig('Figure_04_06.png',dpi=300)\n",
        "plt.show()"
      ],
      "metadata": {
        "colab": {
          "base_uri": "https://localhost:8080/",
          "height": 523
        },
        "collapsed": true,
        "id": "-3CucS2fRdsO",
        "outputId": "16eef285-129f-4f40-ce34-e338780b74df"
      },
      "execution_count": 8,
      "outputs": [
        {
          "output_type": "stream",
          "name": "stdout",
          "text": [
            "[[ 0  1  2  3  4  5  6  7  8  9]\n",
            " [10 11 12 13 14 15 16 17 18 19]\n",
            " [20 21 22 23 24 25 26 27 28 29]\n",
            " [30 31 32 33 34 35 36 37 38 39]\n",
            " [40 41 42 43 44 45 46 47 48 49]\n",
            " [50 51 52 53 54 55 56 57 58 59]\n",
            " [60 61 62 63 64 65 66 67 68 69]\n",
            " [70 71 72 73 74 75 76 77 78 79]\n",
            " [80 81 82 83 84 85 86 87 88 89]\n",
            " [90 91 92 93 94 95 96 97 98 99]]\n",
            " \n",
            "[[ 0  1  2  3  4]\n",
            " [10 11 12 13 14]\n",
            " [20 21 22 23 24]\n",
            " [30 31 32 33 34]\n",
            " [40 41 42 43 44]]\n"
          ]
        },
        {
          "output_type": "error",
          "ename": "NameError",
          "evalue": "name 'plt' is not defined",
          "traceback": [
            "\u001b[0;31m---------------------------------------------------------------------------\u001b[0m",
            "\u001b[0;31mNameError\u001b[0m                                 Traceback (most recent call last)",
            "\u001b[0;32m<ipython-input-8-dcfc954798b0>\u001b[0m in \u001b[0;36m<cell line: 16>\u001b[0;34m()\u001b[0m\n\u001b[1;32m     14\u001b[0m \u001b[0;34m\u001b[0m\u001b[0m\n\u001b[1;32m     15\u001b[0m \u001b[0;31m# visualize the matrices as maps\u001b[0m\u001b[0;34m\u001b[0m\u001b[0;34m\u001b[0m\u001b[0m\n\u001b[0;32m---> 16\u001b[0;31m \u001b[0m_\u001b[0m\u001b[0;34m,\u001b[0m\u001b[0maxs\u001b[0m \u001b[0;34m=\u001b[0m \u001b[0mplt\u001b[0m\u001b[0;34m.\u001b[0m\u001b[0msubplots\u001b[0m\u001b[0;34m(\u001b[0m\u001b[0;36m1\u001b[0m\u001b[0;34m,\u001b[0m\u001b[0;36m2\u001b[0m\u001b[0;34m,\u001b[0m\u001b[0mfigsize\u001b[0m\u001b[0;34m=\u001b[0m\u001b[0;34m(\u001b[0m\u001b[0;36m10\u001b[0m\u001b[0;34m,\u001b[0m\u001b[0;36m5\u001b[0m\u001b[0;34m)\u001b[0m\u001b[0;34m)\u001b[0m\u001b[0;34m\u001b[0m\u001b[0;34m\u001b[0m\u001b[0m\n\u001b[0m\u001b[1;32m     17\u001b[0m \u001b[0;34m\u001b[0m\u001b[0m\n\u001b[1;32m     18\u001b[0m \u001b[0maxs\u001b[0m\u001b[0;34m[\u001b[0m\u001b[0;36m0\u001b[0m\u001b[0;34m]\u001b[0m\u001b[0;34m.\u001b[0m\u001b[0mimshow\u001b[0m\u001b[0;34m(\u001b[0m\u001b[0mC\u001b[0m\u001b[0;34m,\u001b[0m\u001b[0mcmap\u001b[0m\u001b[0;34m=\u001b[0m\u001b[0;34m'gray'\u001b[0m\u001b[0;34m,\u001b[0m\u001b[0morigin\u001b[0m\u001b[0;34m=\u001b[0m\u001b[0;34m'upper'\u001b[0m\u001b[0;34m,\u001b[0m\u001b[0mvmin\u001b[0m\u001b[0;34m=\u001b[0m\u001b[0;36m0\u001b[0m\u001b[0;34m,\u001b[0m\u001b[0mvmax\u001b[0m\u001b[0;34m=\u001b[0m\u001b[0mnp\u001b[0m\u001b[0;34m.\u001b[0m\u001b[0mmax\u001b[0m\u001b[0;34m(\u001b[0m\u001b[0mC\u001b[0m\u001b[0;34m)\u001b[0m\u001b[0;34m)\u001b[0m\u001b[0;34m\u001b[0m\u001b[0;34m\u001b[0m\u001b[0m\n",
            "\u001b[0;31mNameError\u001b[0m: name 'plt' is not defined"
          ]
        }
      ]
    },
    {
      "cell_type": "markdown",
      "source": [
        "**연습 문제 4-6**"
      ],
      "metadata": {
        "id": "2P7xTJjASQVf"
      }
    },
    {
      "cell_type": "code",
      "source": [
        "m = np.random.randint(0,)\n",
        "n = np.random.randint(0,)\n",
        "A = np.random.randn(m,n)\n",
        "B = np.random.randn(n,m)\n",
        "\n",
        "C = np.zeros(m,m)\n",
        "for i_row in range(m):\n",
        "    for i_col in range(m):\n",
        "        C[i_row,i_col] = np.dot(A[i_row,:],B[:,i_col]) # C의 특정 위치에 내적값을 저장"
      ],
      "metadata": {
        "id": "pZ0Aheg1SVOa"
      },
      "execution_count": null,
      "outputs": []
    },
    {
      "cell_type": "code",
      "source": [
        "# 정답\n",
        "\n",
        "# generate two matrices\n",
        "m = 4\n",
        "n = 6\n",
        "A = np.random.randn(m,n);\n",
        "B = np.random.randn(n,m)\n",
        "\n",
        "# build up the product matrix element-wise\n",
        "C1 = np.zeros((m,m))\n",
        "for rowi in range(m):\n",
        "  for coli in range(m):\n",
        "    C1[rowi,coli] = np.dot( A[rowi,:],B[:,coli] )\n",
        "\n",
        "\n",
        "\n",
        "# implement matrix multiplication directly\n",
        "C2 = A@B\n",
        "\n",
        "# compare the results (using isclose(); results should be a matrix of TRUEs)\n",
        "np.isclose( C1,C2 )"
      ],
      "metadata": {
        "id": "GUgqF5JZSVv_"
      },
      "execution_count": null,
      "outputs": []
    },
    {
      "cell_type": "markdown",
      "source": [
        "**연습 문제 4-8**"
      ],
      "metadata": {
        "id": "Q_ZFNWkvUI_P"
      }
    },
    {
      "cell_type": "code",
      "source": [
        "def symmetric_matrix_TF(A):\n",
        "    if A == A.T:\n",
        "        return True\n",
        "    else:\n",
        "        return False"
      ],
      "metadata": {
        "id": "FAtVdDioUNuu"
      },
      "execution_count": 9,
      "outputs": []
    },
    {
      "cell_type": "code",
      "source": [
        "# 정답\n",
        "\n",
        "def isMatrixSymmetric(S):\n",
        "\n",
        "  # difference between matrix and its transpose\n",
        "  D = S-S.T\n",
        "\n",
        "  # check whether sum of squared errors (SSE) is smaller than a threshold\n",
        "  sse = np.sum(D**2)\n",
        "\n",
        "  # output TRUE if sse is tiny; FALSE means the matrix is asymmetric\n",
        "  return sse<10**-15\n",
        "\n",
        "# note: There are many other ways you could solve this.\n",
        "# If you want to explore different methods, consider np.all() or np.isclose()"
      ],
      "metadata": {
        "id": "GjFxEvx-UOEP"
      },
      "execution_count": 10,
      "outputs": []
    },
    {
      "cell_type": "markdown",
      "source": [
        "**연습 문제 4-9**"
      ],
      "metadata": {
        "id": "bRB46cNxU-Co"
      }
    },
    {
      "cell_type": "code",
      "source": [
        "A = np.random.randn(3,3) # 정방이면서 비대칭 (대칭일 수도 있겠지만..)\n",
        "A_mean = (A + A.T) / 2\n",
        "print(A_mean)"
      ],
      "metadata": {
        "colab": {
          "base_uri": "https://localhost:8080/"
        },
        "id": "MGTKvhqcVBfG",
        "outputId": "fc61512e-0157-49fd-a547-53de7f9c2fdb"
      },
      "execution_count": 12,
      "outputs": [
        {
          "output_type": "stream",
          "name": "stdout",
          "text": [
            "[[-0.83458099  0.32050139 -0.43444949]\n",
            " [ 0.32050139  0.13161207 -0.14438772]\n",
            " [-0.43444949 -0.14438772  0.62120265]]\n"
          ]
        }
      ]
    },
    {
      "cell_type": "code",
      "source": [
        "# 정답\n",
        "\n",
        "# create symmetric and nonsymmetric matrices\n",
        "A = np.random.randn(4,4)\n",
        "AtA = (A + A.T) / 2 # additive method!\n",
        "\n",
        "# test!\n",
        "print(isMatrixSymmetric(A))\n",
        "print(isMatrixSymmetric(AtA))"
      ],
      "metadata": {
        "colab": {
          "base_uri": "https://localhost:8080/"
        },
        "id": "NV7LhPKZVIQs",
        "outputId": "fc715138-cc86-4930-b633-7faccef1a411"
      },
      "execution_count": 13,
      "outputs": [
        {
          "output_type": "stream",
          "name": "stdout",
          "text": [
            "False\n",
            "True\n"
          ]
        }
      ]
    }
  ]
}