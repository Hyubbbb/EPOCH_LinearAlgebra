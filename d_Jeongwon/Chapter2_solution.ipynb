{
  "nbformat": 4,
  "nbformat_minor": 0,
  "metadata": {
    "colab": {
      "provenance": []
    },
    "kernelspec": {
      "name": "python3",
      "display_name": "Python 3"
    },
    "language_info": {
      "name": "python"
    }
  },
  "cells": [
    {
      "cell_type": "markdown",
      "source": [
        "**연습 문제 2-1**"
      ],
      "metadata": {
        "id": "Xl5yzP6vr7Az"
      }
    },
    {
      "cell_type": "code",
      "execution_count": 14,
      "metadata": {
        "colab": {
          "base_uri": "https://localhost:8080/"
        },
        "id": "Tu6bfLDgr3fO",
        "outputId": "7deebaf4-62e0-4182-d7d6-edb1fed60ff2"
      },
      "outputs": [
        {
          "output_type": "stream",
          "name": "stdout",
          "text": [
            "sca_list = [92, 29, 17, 83, 58]\n",
            "vec_list = [array([ 0.7569897 ,  0.24379748,  0.27766681, -0.4126256 , -0.26993952])]\n",
            "linCombo = [ 69.64305232  22.42936773  25.54534673 -37.96155534 -24.83443598]\n"
          ]
        }
      ],
      "source": [
        "import numpy as np\n",
        "import random\n",
        "\n",
        "sca_list = []\n",
        "vec_list = []\n",
        "\n",
        "while len(sca_list) < 5:\n",
        "    sca_list.append(random.randint(1,100))\n",
        "\n",
        "vec_list.append(np.random.randn(5))\n",
        "\n",
        "print(f'sca_list = {sca_list}')\n",
        "print(f'vec_list = {vec_list}')\n",
        "\n",
        "sca_vec_sum = 0\n",
        "\n",
        "for i, j in zip(sca_list, vec_list):\n",
        "    sca_vec_sum += i * j\n",
        "\n",
        "print(f'linCombo = {sca_vec_sum}')"
      ]
    },
    {
      "cell_type": "code",
      "source": [
        "# 정답\n",
        "\n",
        "## Note: Make sure you run the code earlier to create variables l1, l2, etc.\n",
        "# the scalars\n",
        "l1 = 1\n",
        "l2 = 2\n",
        "l3 = -3\n",
        "v1 = np.array([4,5,1])\n",
        "v2 = np.array([-4,0,-4])\n",
        "v3 = np.array([1,3,2])\n",
        "\n",
        "# organized into lists\n",
        "scalars = [ l1,l2,l3 ]\n",
        "vectors = [ v1,v2,v3 ]\n",
        "\n",
        "# initialize the linear combination\n",
        "linCombo = np.zeros(len(v1))\n",
        "\n",
        "# implement linear weighted combination using zip()\n",
        "for s,v in zip(scalars,vectors):\n",
        "  linCombo += s*v\n",
        "\n",
        "# confirm it's the same answer as above\n",
        "linCombo"
      ],
      "metadata": {
        "colab": {
          "base_uri": "https://localhost:8080/"
        },
        "id": "rbIjwYj6zG0y",
        "outputId": "f9312d18-6fc7-41a9-fe78-85a34ebb0d90"
      },
      "execution_count": 18,
      "outputs": [
        {
          "output_type": "execute_result",
          "data": {
            "text/plain": [
              "array([ -7.,  -4., -13.])"
            ]
          },
          "metadata": {},
          "execution_count": 18
        }
      ]
    },
    {
      "cell_type": "markdown",
      "source": [
        "**연습 문제 2-3**"
      ],
      "metadata": {
        "id": "lhD_3jnB07nS"
      }
    },
    {
      "cell_type": "code",
      "source": [
        "import matplotlib.pyplot as plt\n",
        "\n",
        "s = np.array([1,3])\n",
        "xlim = [-4,4]\n",
        "\n",
        "scalars = np.random.uniform(low=-4,high=4,size=100) # 지정된 범위 내에서 균등 분포를 따르는 무작위 숫자를 생성\n",
        "                                                    # low: 생성할 숫자의 최소값, high: 생성할 숫자의 최대값, size: 생성할 숫자의 개수\n",
        "plt.figure(figsize=(5,5))\n",
        "\n",
        "for i in scalars:\n",
        "  p = i*s\n",
        "  plt.plot(p[0],p[1],'bo') # b: 파란색, o: 원형 마커\n",
        "\n",
        "\n",
        "plt.xlim(xlim)\n",
        "plt.ylim(xlim)\n",
        "plt.grid()\n",
        "plt.show()"
      ],
      "metadata": {
        "colab": {
          "base_uri": "https://localhost:8080/",
          "height": 451
        },
        "id": "JY9674O-0-PS",
        "outputId": "9037ab2b-733f-4f3e-de72-d9ca8a6c36dd"
      },
      "execution_count": 27,
      "outputs": [
        {
          "output_type": "display_data",
          "data": {
            "text/plain": [
              "<Figure size 500x500 with 1 Axes>"
            ],
            "image/png": "[encoded data removed]"
          },
          "metadata": {}
        }
      ]
    },
    {
      "cell_type": "code",
      "source": [
        "import plotly.graph_objects as go\n",
        "fig = go.Figure( data=[go.Scatter3d(\n",
        "    x=points[:,0], y=points[:,1], z=points[:,2],\n",
        "    mode='markers' )])\n",
        "fig.show()"
      ],
      "metadata": {
        "colab": {
          "base_uri": "https://localhost:8080/",
          "height": 542
        },
        "id": "1wvjm2Xp5pSV",
        "outputId": "5f4d7083-1733-499c-8288-9a2109159aad"
      },
      "execution_count": 31,
      "outputs": [
        {
          "output_type": "display_data",
          "data": {
            "text/html": [
              "<html>\n",
              "<head><meta charset=\"utf-8\" /></head>\n",
              "<body>\n",
              "    <div>            <script src=\"https://cdnjs.cloudflare.com/ajax/libs/mathjax/2.7.5/MathJax.js?config=TeX-AMS-MML_SVG\"></script><script type=\"text/javascript\">if (window.MathJax && window.MathJax.Hub && window.MathJax.Hub.Config) {window.MathJax.Hub.Config({SVG: {font: \"STIX-Web\"}});}</script>                <script type=\"text/javascript\">window.PlotlyConfig = {MathJaxConfig: 'local'};</script>\n",
              "        <script charset=\"utf-8\" src=\"https://cdn.plot.ly/plotly-2.24.1.min.js\"></script>                <div id=\"4521783c-e751-4e2d-8b36-669b7fc194d8\" class=\"plotly-graph-div\" style=\"height:525px; width:100%;\"></div>            <script type=\"text/javascript\">                                    window.PLOTLYENV=window.PLOTLYENV || {};                                    if (document.getElementById(\"4521783c-e751-4e2d-8b36-669b7fc194d8\")) {                    Plotly.newPlot(                        \"4521783c-e751-4e2d-8b36-669b7fc194d8\",                        [{\"mode\":\"markers\",\"x\":[6.090634964902986,6.822031584690183,2.7636200976478387,1.2123857507792284,-7.445411959982862,-8.22662742379065,-9.475071841742047,2.4154306059207675,11.792169616182516,-4.315570667127633,1.412363481829341,-7.12578399862477,8.010904926360373,-6.843309449674921,-4.07413462881234,-10.16618687856852,-8.843742774739233,9.331624725302289,-2.5358717274931015,-9.751073227494317,0.9317263162745961,-10.77627154397381,10.827730058348347,11.058431580346678,-11.606057116380226,8.29985242135361,11.569895879134528,-0.4295445252669481,11.092989759611225,-0.4256617354953942,-8.689215137883679,-4.760205097693515,-10.45369627213598,8.518659329442464,-7.920361350020166,4.374158324881318,-7.21800549848966,3.758131379118775,11.497729843033078,8.51888356225162,7.8459262510693195,6.077366829457198,-11.359582048362522,-6.402746017133973,-0.3123707621617484,-8.641078271459246,8.37761070394287,9.161606608837097,1.1196460439472755,-7.962618811625997,8.97284963470737,-9.04330903264234,1.7810340607908515,-2.456292781677309,-7.821768962262346,11.355855743395052,-4.629376287104662,0.8542645614192379,5.5865097460176845,-8.693191930894104,0.8621293546164779,-7.4848895362524885,1.2863887714095528,-11.704420170203655,11.304716938573879,-7.506277903754901,-3.074038553611511,1.5990055134663939,7.960861495147539,-9.053392882334403,-4.71053266049665,8.5326107375501,-11.702761893948768,-7.677214083333776,-5.260930314558194,1.5614037533089142,8.514042747560953,-0.611723266776961,-2.56678833504552,-9.098374369832452,3.4250040353027345,2.6443851082590015,8.218812440470039,5.386794624159801,8.836596856034891,7.599370735045576,0.4928422936427923,-4.418159091639301,-1.9297474220999868,-0.042354043349750015,-4.804198880213358,8.304648696651252,-4.17324265568566,10.191509774525057,-5.978483008840505,-5.880582644615498,7.798642791350725,-10.195745476936114,7.611591810325241,-0.8727603524355843],\"y\":[13.789295511942349,12.124872881729887,2.686984630587772,8.532617974975219,-8.677365109679279,-17.235126910384437,-12.577416649289521,-3.643297505828637,17.9309826150479,-11.921838566803956,2.764976137449888,-12.15545991709789,13.765273852101007,-5.448962787660607,-1.8148093454028658,-14.350809399933492,-18.071716826880117,8.557853007218998,-3.41555286704778,-18.161115200622998,2.53109876765276,-25.718438192553236,14.270236201529453,18.6288366570971,-24.493970379911186,16.66014029847761,26.785453260251707,-0.08526228886101705,17.816993077701767,1.5862961682732344,-12.277478314272209,-12.248442335915811,-20.40000257654405,12.35006769380811,-11.791312832542948,4.995077091776924,-13.81014563677362,0.35567589191754667,12.673956842102791,16.1369857848651,14.869771752342741,13.768817037807173,-24.2313521077443,-4.2531831492042365,-1.1783868245631997,-14.180264915656611,8.163515811136634,11.37324949378059,-3.9684962755314235,-18.260596173173564,10.711831587695022,-21.530718258205656,1.149756302899691,-2.1514610499816182,-5.079677896576538,21.679042512685214,-9.044180043110437,-3.816071822804239,14.031912497732828,-17.22585283646825,-0.3388755310733167,-12.117943479283237,8.057799934269205,-15.775108627136982,21.17200171243727,-20.058820820579133,-10.581591917273055,3.127302332547875,15.518061137305716,-18.99890557110509,-6.589966655996257,10.491121192133688,-17.95522513974121,-18.510170745215568,-12.776653502221784,8.656523131327816,17.922114473846474,-7.504630895184336,-2.269625820516077,-14.232636118214339,3.163042776050318,-1.2932912982647,7.147186032158816,5.105892737154461,10.655204663356518,19.99075701038857,5.79222550059368,0.5817427996200584,-9.929902106290143,5.805036629073921,-11.055381114542469,18.811162409544316,-0.5508830372763063,21.463349715423533,-15.147506776528438,-6.443505482761989,18.69488053718345,-24.274067254099727,6.411357084133769,1.2742623080630793],\"z\":[5.6684488920717016,3.0288307688096427,-0.9978421662760129,6.916103640602914,1.2498508369645362,-6.266290345330234,0.056012473033205445,-6.863871647056327,2.208089793471209,-6.1677443439671125,0.8818248283440999,-2.6544145855981958,3.0840672836205094,3.6754498119059544,3.617370159680254,-0.7958935618421314,-6.280059793894474,-3.8843132931840536,-0.034390563723644796,-5.159684230630574,1.2887970126199653,-11.35007613392149,-0.1667372096016786,3.8842612166348607,-9.019227558070886,5.593670403339467,11.358925421405669,0.48746374482824706,3.0263400648867966,2.15384514893376,-0.6918581304273017,-5.901502205657792,-6.461740880362742,0.991855254551492,-1.2308310325160585,-0.8371340080648331,-4.186138305454074,-4.655165946907487,-2.6563496152746433,4.778474368529609,4.408536750916981,5.665661265197576,-9.085242709927599,4.2838115403077275,-0.7618924750142018,-2.658827220377618,-3.0066317941205254,-0.8422259846688736,-5.461357667461124,-7.643771091005569,-1.2519679252481355,-9.472972881349204,-1.2249557781547775,1.1235959922547938,5.349347386439923,6.537901521491811,-2.871678326970887,-4.9550912380298895,6.583232836375915,-5.634930261942779,-1.4883813372286205,-2.1380907642799194,6.342614905723134,-0.1692150668654424,6.099045794338767,-10.050450282239265,-6.482873845791041,0.9952949812593497,4.903579143775665,-6.927715061325887,-0.30925644200072355,-0.8856931245997774,-2.351542614476183,-8.273885300770534,-5.762079749477526,6.574651460249264,6.570057477098538,-6.688999872815055,1.1527586262112832,-2.1014702917710713,-1.4036292710199945,-4.819138109276702,-3.8112305551345695,-2.0765000950586074,-1.1269244780233372,9.858262696994466,5.13510244240329,6.472621588472459,-7.356905543490162,5.861508686873588,-4.649782607591325,7.7382974806759774,5.013440503637907,7.874670016056793,-7.176196098074432,1.3972713767253433,8.29669014871582,-10.67973995151824,-3.737431996299887,2.4379427779771916],\"type\":\"scatter3d\"}],                        {\"template\":{\"data\":{\"histogram2dcontour\":[{\"type\":\"histogram2dcontour\",\"colorbar\":{\"outlinewidth\":0,\"ticks\":\"\"},\"colorscale\":[[0.0,\"#0d0887\"],[0.1111111111111111,\"#46039f\"],[0.2222222222222222,\"#7201a8\"],[0.3333333333333333,\"#9c179e\"],[0.4444444444444444,\"#bd3786\"],[0.5555555555555556,\"#d8576b\"],[0.6666666666666666,\"#ed7953\"],[0.7777777777777778,\"#fb9f3a\"],[0.8888888888888888,\"#fdca26\"],[1.0,\"#f0f921\"]]}],\"choropleth\":[{\"type\":\"choropleth\",\"colorbar\":{\"outlinewidth\":0,\"ticks\":\"\"}}],\"histogram2d\":[{\"type\":\"histogram2d\",\"colorbar\":{\"outlinewidth\":0,\"ticks\":\"\"},\"colorscale\":[[0.0,\"#0d0887\"],[0.1111111111111111,\"#46039f\"],[0.2222222222222222,\"#7201a8\"],[0.3333333333333333,\"#9c179e\"],[0.4444444444444444,\"#bd3786\"],[0.5555555555555556,\"#d8576b\"],[0.6666666666666666,\"#ed7953\"],[0.7777777777777778,\"#fb9f3a\"],[0.8888888888888888,\"#fdca26\"],[1.0,\"#f0f921\"]]}],\"heatmap\":[{\"type\":\"heatmap\",\"colorbar\":{\"outlinewidth\":0,\"ticks\":\"\"},\"colorscale\":[[0.0,\"#0d0887\"],[0.1111111111111111,\"#46039f\"],[0.2222222222222222,\"#7201a8\"],[0.3333333333333333,\"#9c179e\"],[0.4444444444444444,\"#bd3786\"],[0.5555555555555556,\"#d8576b\"],[0.6666666666666666,\"#ed7953\"],[0.7777777777777778,\"#fb9f3a\"],[0.8888888888888888,\"#fdca26\"],[1.0,\"#f0f921\"]]}],\"heatmapgl\":[{\"type\":\"heatmapgl\",\"colorbar\":{\"outlinewidth\":0,\"ticks\":\"\"},\"colorscale\":[[0.0,\"#0d0887\"],[0.1111111111111111,\"#46039f\"],[0.2222222222222222,\"#7201a8\"],[0.3333333333333333,\"#9c179e\"],[0.4444444444444444,\"#bd3786\"],[0.5555555555555556,\"#d8576b\"],[0.6666666666666666,\"#ed7953\"],[0.7777777777777778,\"#fb9f3a\"],[0.8888888888888888,\"#fdca26\"],[1.0,\"#f0f921\"]]}],\"contourcarpet\":[{\"type\":\"contourcarpet\",\"colorbar\":{\"outlinewidth\":0,\"ticks\":\"\"}}],\"contour\":[{\"type\":\"contour\",\"colorbar\":{\"outlinewidth\":0,\"ticks\":\"\"},\"colorscale\":[[0.0,\"#0d0887\"],[0.1111111111111111,\"#46039f\"],[0.2222222222222222,\"#7201a8\"],[0.3333333333333333,\"#9c179e\"],[0.4444444444444444,\"#bd3786\"],[0.5555555555555556,\"#d8576b\"],[0.6666666666666666,\"#ed7953\"],[0.7777777777777778,\"#fb9f3a\"],[0.8888888888888888,\"#fdca26\"],[1.0,\"#f0f921\"]]}],\"surface\":[{\"type\":\"surface\",\"colorbar\":{\"outlinewidth\":0,\"ticks\":\"\"},\"colorscale\":[[0.0,\"#0d0887\"],[0.1111111111111111,\"#46039f\"],[0.2222222222222222,\"#7201a8\"],[0.3333333333333333,\"#9c179e\"],[0.4444444444444444,\"#bd3786\"],[0.5555555555555556,\"#d8576b\"],[0.6666666666666666,\"#ed7953\"],[0.7777777777777778,\"#fb9f3a\"],[0.8888888888888888,\"#fdca26\"],[1.0,\"#f0f921\"]]}],\"mesh3d\":[{\"type\":\"mesh3d\",\"colorbar\":{\"outlinewidth\":0,\"ticks\":\"\"}}],\"scatter\":[{\"fillpattern\":{\"fillmode\":\"overlay\",\"size\":10,\"solidity\":0.2},\"type\":\"scatter\"}],\"parcoords\":[{\"type\":\"parcoords\",\"line\":{\"colorbar\":{\"outlinewidth\":0,\"ticks\":\"\"}}}],\"scatterpolargl\":[{\"type\":\"scatterpolargl\",\"marker\":{\"colorbar\":{\"outlinewidth\":0,\"ticks\":\"\"}}}],\"bar\":[{\"error_x\":{\"color\":\"#2a3f5f\"},\"error_y\":{\"color\":\"#2a3f5f\"},\"marker\":{\"line\":{\"color\":\"#E5ECF6\",\"width\":0.5},\"pattern\":{\"fillmode\":\"overlay\",\"size\":10,\"solidity\":0.2}},\"type\":\"bar\"}],\"scattergeo\":[{\"type\":\"scattergeo\",\"marker\":{\"colorbar\":{\"outlinewidth\":0,\"ticks\":\"\"}}}],\"scatterpolar\":[{\"type\":\"scatterpolar\",\"marker\":{\"colorbar\":{\"outlinewidth\":0,\"ticks\":\"\"}}}],\"histogram\":[{\"marker\":{\"pattern\":{\"fillmode\":\"overlay\",\"size\":10,\"solidity\":0.2}},\"type\":\"histogram\"}],\"scattergl\":[{\"type\":\"scattergl\",\"marker\":{\"colorbar\":{\"outlinewidth\":0,\"ticks\":\"\"}}}],\"scatter3d\":[{\"type\":\"scatter3d\",\"line\":{\"colorbar\":{\"outlinewidth\":0,\"ticks\":\"\"}},\"marker\":{\"colorbar\":{\"outlinewidth\":0,\"ticks\":\"\"}}}],\"scattermapbox\":[{\"type\":\"scattermapbox\",\"marker\":{\"colorbar\":{\"outlinewidth\":0,\"ticks\":\"\"}}}],\"scatterternary\":[{\"type\":\"scatterternary\",\"marker\":{\"colorbar\":{\"outlinewidth\":0,\"ticks\":\"\"}}}],\"scattercarpet\":[{\"type\":\"scattercarpet\",\"marker\":{\"colorbar\":{\"outlinewidth\":0,\"ticks\":\"\"}}}],\"carpet\":[{\"aaxis\":{\"endlinecolor\":\"#2a3f5f\",\"gridcolor\":\"white\",\"linecolor\":\"white\",\"minorgridcolor\":\"white\",\"startlinecolor\":\"#2a3f5f\"},\"baxis\":{\"endlinecolor\":\"#2a3f5f\",\"gridcolor\":\"white\",\"linecolor\":\"white\",\"minorgridcolor\":\"white\",\"startlinecolor\":\"#2a3f5f\"},\"type\":\"carpet\"}],\"table\":[{\"cells\":{\"fill\":{\"color\":\"#EBF0F8\"},\"line\":{\"color\":\"white\"}},\"header\":{\"fill\":{\"color\":\"#C8D4E3\"},\"line\":{\"color\":\"white\"}},\"type\":\"table\"}],\"barpolar\":[{\"marker\":{\"line\":{\"color\":\"#E5ECF6\",\"width\":0.5},\"pattern\":{\"fillmode\":\"overlay\",\"size\":10,\"solidity\":0.2}},\"type\":\"barpolar\"}],\"pie\":[{\"automargin\":true,\"type\":\"pie\"}]},\"layout\":{\"autotypenumbers\":\"strict\",\"colorway\":[\"#636efa\",\"#EF553B\",\"#00cc96\",\"#ab63fa\",\"#FFA15A\",\"#19d3f3\",\"#FF6692\",\"#B6E880\",\"#FF97FF\",\"#FECB52\"],\"font\":{\"color\":\"#2a3f5f\"},\"hovermode\":\"closest\",\"hoverlabel\":{\"align\":\"left\"},\"paper_bgcolor\":\"white\",\"plot_bgcolor\":\"#E5ECF6\",\"polar\":{\"bgcolor\":\"#E5ECF6\",\"angularaxis\":{\"gridcolor\":\"white\",\"linecolor\":\"white\",\"ticks\":\"\"},\"radialaxis\":{\"gridcolor\":\"white\",\"linecolor\":\"white\",\"ticks\":\"\"}},\"ternary\":{\"bgcolor\":\"#E5ECF6\",\"aaxis\":{\"gridcolor\":\"white\",\"linecolor\":\"white\",\"ticks\":\"\"},\"baxis\":{\"gridcolor\":\"white\",\"linecolor\":\"white\",\"ticks\":\"\"},\"caxis\":{\"gridcolor\":\"white\",\"linecolor\":\"white\",\"ticks\":\"\"}},\"coloraxis\":{\"colorbar\":{\"outlinewidth\":0,\"ticks\":\"\"}},\"colorscale\":{\"sequential\":[[0.0,\"#0d0887\"],[0.1111111111111111,\"#46039f\"],[0.2222222222222222,\"#7201a8\"],[0.3333333333333333,\"#9c179e\"],[0.4444444444444444,\"#bd3786\"],[0.5555555555555556,\"#d8576b\"],[0.6666666666666666,\"#ed7953\"],[0.7777777777777778,\"#fb9f3a\"],[0.8888888888888888,\"#fdca26\"],[1.0,\"#f0f921\"]],\"sequentialminus\":[[0.0,\"#0d0887\"],[0.1111111111111111,\"#46039f\"],[0.2222222222222222,\"#7201a8\"],[0.3333333333333333,\"#9c179e\"],[0.4444444444444444,\"#bd3786\"],[0.5555555555555556,\"#d8576b\"],[0.6666666666666666,\"#ed7953\"],[0.7777777777777778,\"#fb9f3a\"],[0.8888888888888888,\"#fdca26\"],[1.0,\"#f0f921\"]],\"diverging\":[[0,\"#8e0152\"],[0.1,\"#c51b7d\"],[0.2,\"#de77ae\"],[0.3,\"#f1b6da\"],[0.4,\"#fde0ef\"],[0.5,\"#f7f7f7\"],[0.6,\"#e6f5d0\"],[0.7,\"#b8e186\"],[0.8,\"#7fbc41\"],[0.9,\"#4d9221\"],[1,\"#276419\"]]},\"xaxis\":{\"gridcolor\":\"white\",\"linecolor\":\"white\",\"ticks\":\"\",\"title\":{\"standoff\":15},\"zerolinecolor\":\"white\",\"automargin\":true,\"zerolinewidth\":2},\"yaxis\":{\"gridcolor\":\"white\",\"linecolor\":\"white\",\"ticks\":\"\",\"title\":{\"standoff\":15},\"zerolinecolor\":\"white\",\"automargin\":true,\"zerolinewidth\":2},\"scene\":{\"xaxis\":{\"backgroundcolor\":\"#E5ECF6\",\"gridcolor\":\"white\",\"linecolor\":\"white\",\"showbackground\":true,\"ticks\":\"\",\"zerolinecolor\":\"white\",\"gridwidth\":2},\"yaxis\":{\"backgroundcolor\":\"#E5ECF6\",\"gridcolor\":\"white\",\"linecolor\":\"white\",\"showbackground\":true,\"ticks\":\"\",\"zerolinecolor\":\"white\",\"gridwidth\":2},\"zaxis\":{\"backgroundcolor\":\"#E5ECF6\",\"gridcolor\":\"white\",\"linecolor\":\"white\",\"showbackground\":true,\"ticks\":\"\",\"zerolinecolor\":\"white\",\"gridwidth\":2}},\"shapedefaults\":{\"line\":{\"color\":\"#2a3f5f\"}},\"annotationdefaults\":{\"arrowcolor\":\"#2a3f5f\",\"arrowhead\":0,\"arrowwidth\":1},\"geo\":{\"bgcolor\":\"white\",\"landcolor\":\"#E5ECF6\",\"subunitcolor\":\"white\",\"showland\":true,\"showlakes\":true,\"lakecolor\":\"white\"},\"title\":{\"x\":0.05},\"mapbox\":{\"style\":\"light\"}}}},                        {\"responsive\": true}                    ).then(function(){\n",
              "                            \n",
              "var gd = document.getElementById('4521783c-e751-4e2d-8b36-669b7fc194d8');\n",
              "var x = new MutationObserver(function (mutations, observer) {{\n",
              "        var display = window.getComputedStyle(gd).display;\n",
              "        if (!display || display === 'none') {{\n",
              "            console.log([gd, 'removed!']);\n",
              "            Plotly.purge(gd);\n",
              "            observer.disconnect();\n",
              "        }}\n",
              "}});\n",
              "\n",
              "// Listen for the removal of the full notebook cells\n",
              "var notebookContainer = gd.closest('#notebook-container');\n",
              "if (notebookContainer) {{\n",
              "    x.observe(notebookContainer, {childList: true});\n",
              "}}\n",
              "\n",
              "// Listen for the clearing of the current output cell\n",
              "var outputEl = gd.closest('.output');\n",
              "if (outputEl) {{\n",
              "    x.observe(outputEl, {childList: true});\n",
              "}}\n",
              "\n",
              "                        })                };                            </script>        </div>\n",
              "</body>\n",
              "</html>"
            ]
          },
          "metadata": {}
        }
      ]
    },
    {
      "cell_type": "code",
      "source": [
        "# 정답\n",
        "\n",
        "# the vector set (just one vector)\n",
        "A  = np.array([ 1,3 ])\n",
        "\n",
        "# x-axis range\n",
        "xlim = [-4,4]\n",
        "\n",
        "# random scalars in that range\n",
        "scalars = np.random.uniform(low=xlim[0],high=xlim[1],size=100)\n",
        "\n",
        "\n",
        "\n",
        "# create a figure, etc\n",
        "plt.figure(figsize=(6,6))\n",
        "\n",
        "# loop over the random scalars\n",
        "for s in scalars:\n",
        "\n",
        "  # create point p\n",
        "  p = A*s\n",
        "\n",
        "  # plot it\n",
        "  plt.plot(p[0],p[1],'ko')\n",
        "\n",
        "\n",
        "plt.xlim(xlim)\n",
        "plt.ylim(xlim)\n",
        "plt.grid()\n",
        "plt.text(-4.5,4.5,'A)',fontweight='bold',fontsize=18)\n",
        "plt.savefig('Figure_02_07a.png',dpi=300)\n",
        "plt.show()"
      ],
      "metadata": {
        "colab": {
          "base_uri": "https://localhost:8080/",
          "height": 570
        },
        "id": "bV4OXmLZ2SOW",
        "outputId": "803493a6-46b5-4972-afdc-f7010b696a9c"
      },
      "execution_count": 28,
      "outputs": [
        {
          "output_type": "display_data",
          "data": {
            "text/plain": [
              "<Figure size 600x600 with 1 Axes>"
            ],
            "image/png": "[encoded data removed]"
          },
          "metadata": {}
        }
      ]
    },
    {
      "cell_type": "code",
      "source": [
        "import plotly.graph_objects as go\n",
        "\n",
        "# two vectors in R3\n",
        "v1 = np.array([ 3,5,1 ])\n",
        "v2 = np.array([ 0,2,2 ])\n",
        "\n",
        "## uncomment the lines below for the second part\n",
        "# v1 = np.array([ 3.0,5.0,1.0 ])\n",
        "# v2 = np.array([ 1.5,2.5,0.5 ])\n",
        "\n",
        "\n",
        "# random scalars in the x-axis range\n",
        "scalars = np.random.uniform(low=xlim[0],high=xlim[1],size=(100,2))\n",
        "\n",
        "\n",
        "\n",
        "# create random points\n",
        "points = np.zeros((100,3))\n",
        "for i in range(len(scalars)):\n",
        "\n",
        "  # define this point as a random weighted combination of the two vectors\n",
        "  points[i,:] = v1*scalars[i,0] + v2*scalars[i,1]\n",
        "\n",
        "\n",
        "# draw the dots in the plane\n",
        "fig = go.Figure( data=[go.Scatter3d(x=points[:,0], y=points[:,1], z=points[:,2],\n",
        "                                    mode='markers', marker=dict(size=6,color='black') )])\n",
        "\n",
        "fig.update_layout(margin=dict(l=0,r=0,b=0,t=0))\n",
        "plt.savefig('Figure_02_07b.png',dpi=300)\n",
        "fig.show()"
      ],
      "metadata": {
        "colab": {
          "base_uri": "https://localhost:8080/",
          "height": 561
        },
        "id": "DJ5YNJqy6Zj_",
        "outputId": "abd8ad89-5b40-4d2c-cc6d-b44f395db239"
      },
      "execution_count": 30,
      "outputs": [
        {
          "output_type": "display_data",
          "data": {
            "text/html": [
              "<html>\n",
              "<head><meta charset=\"utf-8\" /></head>\n",
              "<body>\n",
              "    <div>            <script src=\"https://cdnjs.cloudflare.com/ajax/libs/mathjax/2.7.5/MathJax.js?config=TeX-AMS-MML_SVG\"></script><script type=\"text/javascript\">if (window.MathJax && window.MathJax.Hub && window.MathJax.Hub.Config) {window.MathJax.Hub.Config({SVG: {font: \"STIX-Web\"}});}</script>                <script type=\"text/javascript\">window.PlotlyConfig = {MathJaxConfig: 'local'};</script>\n",
              "        <script charset=\"utf-8\" src=\"https://cdn.plot.ly/plotly-2.24.1.min.js\"></script>                <div id=\"bb9524f3-82cc-4d85-8b52-57059872f7f9\" class=\"plotly-graph-div\" style=\"height:525px; width:100%;\"></div>            <script type=\"text/javascript\">                                    window.PLOTLYENV=window.PLOTLYENV || {};                                    if (document.getElementById(\"bb9524f3-82cc-4d85-8b52-57059872f7f9\")) {                    Plotly.newPlot(                        \"bb9524f3-82cc-4d85-8b52-57059872f7f9\",                        [{\"marker\":{\"color\":\"black\",\"size\":6},\"mode\":\"markers\",\"x\":[6.090634964902986,6.822031584690183,2.7636200976478387,1.2123857507792284,-7.445411959982862,-8.22662742379065,-9.475071841742047,2.4154306059207675,11.792169616182516,-4.315570667127633,1.412363481829341,-7.12578399862477,8.010904926360373,-6.843309449674921,-4.07413462881234,-10.16618687856852,-8.843742774739233,9.331624725302289,-2.5358717274931015,-9.751073227494317,0.9317263162745961,-10.77627154397381,10.827730058348347,11.058431580346678,-11.606057116380226,8.29985242135361,11.569895879134528,-0.4295445252669481,11.092989759611225,-0.4256617354953942,-8.689215137883679,-4.760205097693515,-10.45369627213598,8.518659329442464,-7.920361350020166,4.374158324881318,-7.21800549848966,3.758131379118775,11.497729843033078,8.51888356225162,7.8459262510693195,6.077366829457198,-11.359582048362522,-6.402746017133973,-0.3123707621617484,-8.641078271459246,8.37761070394287,9.161606608837097,1.1196460439472755,-7.962618811625997,8.97284963470737,-9.04330903264234,1.7810340607908515,-2.456292781677309,-7.821768962262346,11.355855743395052,-4.629376287104662,0.8542645614192379,5.5865097460176845,-8.693191930894104,0.8621293546164779,-7.4848895362524885,1.2863887714095528,-11.704420170203655,11.304716938573879,-7.506277903754901,-3.074038553611511,1.5990055134663939,7.960861495147539,-9.053392882334403,-4.71053266049665,8.5326107375501,-11.702761893948768,-7.677214083333776,-5.260930314558194,1.5614037533089142,8.514042747560953,-0.611723266776961,-2.56678833504552,-9.098374369832452,3.4250040353027345,2.6443851082590015,8.218812440470039,5.386794624159801,8.836596856034891,7.599370735045576,0.4928422936427923,-4.418159091639301,-1.9297474220999868,-0.042354043349750015,-4.804198880213358,8.304648696651252,-4.17324265568566,10.191509774525057,-5.978483008840505,-5.880582644615498,7.798642791350725,-10.195745476936114,7.611591810325241,-0.8727603524355843],\"y\":[13.789295511942349,12.124872881729887,2.686984630587772,8.532617974975219,-8.677365109679279,-17.235126910384437,-12.577416649289521,-3.643297505828637,17.9309826150479,-11.921838566803956,2.764976137449888,-12.15545991709789,13.765273852101007,-5.448962787660607,-1.8148093454028658,-14.350809399933492,-18.071716826880117,8.557853007218998,-3.41555286704778,-18.161115200622998,2.53109876765276,-25.718438192553236,14.270236201529453,18.6288366570971,-24.493970379911186,16.66014029847761,26.785453260251707,-0.08526228886101705,17.816993077701767,1.5862961682732344,-12.277478314272209,-12.248442335915811,-20.40000257654405,12.35006769380811,-11.791312832542948,4.995077091776924,-13.81014563677362,0.35567589191754667,12.673956842102791,16.1369857848651,14.869771752342741,13.768817037807173,-24.2313521077443,-4.2531831492042365,-1.1783868245631997,-14.180264915656611,8.163515811136634,11.37324949378059,-3.9684962755314235,-18.260596173173564,10.711831587695022,-21.530718258205656,1.149756302899691,-2.1514610499816182,-5.079677896576538,21.679042512685214,-9.044180043110437,-3.816071822804239,14.031912497732828,-17.22585283646825,-0.3388755310733167,-12.117943479283237,8.057799934269205,-15.775108627136982,21.17200171243727,-20.058820820579133,-10.581591917273055,3.127302332547875,15.518061137305716,-18.99890557110509,-6.589966655996257,10.491121192133688,-17.95522513974121,-18.510170745215568,-12.776653502221784,8.656523131327816,17.922114473846474,-7.504630895184336,-2.269625820516077,-14.232636118214339,3.163042776050318,-1.2932912982647,7.147186032158816,5.105892737154461,10.655204663356518,19.99075701038857,5.79222550059368,0.5817427996200584,-9.929902106290143,5.805036629073921,-11.055381114542469,18.811162409544316,-0.5508830372763063,21.463349715423533,-15.147506776528438,-6.443505482761989,18.69488053718345,-24.274067254099727,6.411357084133769,1.2742623080630793],\"z\":[5.6684488920717016,3.0288307688096427,-0.9978421662760129,6.916103640602914,1.2498508369645362,-6.266290345330234,0.056012473033205445,-6.863871647056327,2.208089793471209,-6.1677443439671125,0.8818248283440999,-2.6544145855981958,3.0840672836205094,3.6754498119059544,3.617370159680254,-0.7958935618421314,-6.280059793894474,-3.8843132931840536,-0.034390563723644796,-5.159684230630574,1.2887970126199653,-11.35007613392149,-0.1667372096016786,3.8842612166348607,-9.019227558070886,5.593670403339467,11.358925421405669,0.48746374482824706,3.0263400648867966,2.15384514893376,-0.6918581304273017,-5.901502205657792,-6.461740880362742,0.991855254551492,-1.2308310325160585,-0.8371340080648331,-4.186138305454074,-4.655165946907487,-2.6563496152746433,4.778474368529609,4.408536750916981,5.665661265197576,-9.085242709927599,4.2838115403077275,-0.7618924750142018,-2.658827220377618,-3.0066317941205254,-0.8422259846688736,-5.461357667461124,-7.643771091005569,-1.2519679252481355,-9.472972881349204,-1.2249557781547775,1.1235959922547938,5.349347386439923,6.537901521491811,-2.871678326970887,-4.9550912380298895,6.583232836375915,-5.634930261942779,-1.4883813372286205,-2.1380907642799194,6.342614905723134,-0.1692150668654424,6.099045794338767,-10.050450282239265,-6.482873845791041,0.9952949812593497,4.903579143775665,-6.927715061325887,-0.30925644200072355,-0.8856931245997774,-2.351542614476183,-8.273885300770534,-5.762079749477526,6.574651460249264,6.570057477098538,-6.688999872815055,1.1527586262112832,-2.1014702917710713,-1.4036292710199945,-4.819138109276702,-3.8112305551345695,-2.0765000950586074,-1.1269244780233372,9.858262696994466,5.13510244240329,6.472621588472459,-7.356905543490162,5.861508686873588,-4.649782607591325,7.7382974806759774,5.013440503637907,7.874670016056793,-7.176196098074432,1.3972713767253433,8.29669014871582,-10.67973995151824,-3.737431996299887,2.4379427779771916],\"type\":\"scatter3d\"}],                        {\"template\":{\"data\":{\"histogram2dcontour\":[{\"type\":\"histogram2dcontour\",\"colorbar\":{\"outlinewidth\":0,\"ticks\":\"\"},\"colorscale\":[[0.0,\"#0d0887\"],[0.1111111111111111,\"#46039f\"],[0.2222222222222222,\"#7201a8\"],[0.3333333333333333,\"#9c179e\"],[0.4444444444444444,\"#bd3786\"],[0.5555555555555556,\"#d8576b\"],[0.6666666666666666,\"#ed7953\"],[0.7777777777777778,\"#fb9f3a\"],[0.8888888888888888,\"#fdca26\"],[1.0,\"#f0f921\"]]}],\"choropleth\":[{\"type\":\"choropleth\",\"colorbar\":{\"outlinewidth\":0,\"ticks\":\"\"}}],\"histogram2d\":[{\"type\":\"histogram2d\",\"colorbar\":{\"outlinewidth\":0,\"ticks\":\"\"},\"colorscale\":[[0.0,\"#0d0887\"],[0.1111111111111111,\"#46039f\"],[0.2222222222222222,\"#7201a8\"],[0.3333333333333333,\"#9c179e\"],[0.4444444444444444,\"#bd3786\"],[0.5555555555555556,\"#d8576b\"],[0.6666666666666666,\"#ed7953\"],[0.7777777777777778,\"#fb9f3a\"],[0.8888888888888888,\"#fdca26\"],[1.0,\"#f0f921\"]]}],\"heatmap\":[{\"type\":\"heatmap\",\"colorbar\":{\"outlinewidth\":0,\"ticks\":\"\"},\"colorscale\":[[0.0,\"#0d0887\"],[0.1111111111111111,\"#46039f\"],[0.2222222222222222,\"#7201a8\"],[0.3333333333333333,\"#9c179e\"],[0.4444444444444444,\"#bd3786\"],[0.5555555555555556,\"#d8576b\"],[0.6666666666666666,\"#ed7953\"],[0.7777777777777778,\"#fb9f3a\"],[0.8888888888888888,\"#fdca26\"],[1.0,\"#f0f921\"]]}],\"heatmapgl\":[{\"type\":\"heatmapgl\",\"colorbar\":{\"outlinewidth\":0,\"ticks\":\"\"},\"colorscale\":[[0.0,\"#0d0887\"],[0.1111111111111111,\"#46039f\"],[0.2222222222222222,\"#7201a8\"],[0.3333333333333333,\"#9c179e\"],[0.4444444444444444,\"#bd3786\"],[0.5555555555555556,\"#d8576b\"],[0.6666666666666666,\"#ed7953\"],[0.7777777777777778,\"#fb9f3a\"],[0.8888888888888888,\"#fdca26\"],[1.0,\"#f0f921\"]]}],\"contourcarpet\":[{\"type\":\"contourcarpet\",\"colorbar\":{\"outlinewidth\":0,\"ticks\":\"\"}}],\"contour\":[{\"type\":\"contour\",\"colorbar\":{\"outlinewidth\":0,\"ticks\":\"\"},\"colorscale\":[[0.0,\"#0d0887\"],[0.1111111111111111,\"#46039f\"],[0.2222222222222222,\"#7201a8\"],[0.3333333333333333,\"#9c179e\"],[0.4444444444444444,\"#bd3786\"],[0.5555555555555556,\"#d8576b\"],[0.6666666666666666,\"#ed7953\"],[0.7777777777777778,\"#fb9f3a\"],[0.8888888888888888,\"#fdca26\"],[1.0,\"#f0f921\"]]}],\"surface\":[{\"type\":\"surface\",\"colorbar\":{\"outlinewidth\":0,\"ticks\":\"\"},\"colorscale\":[[0.0,\"#0d0887\"],[0.1111111111111111,\"#46039f\"],[0.2222222222222222,\"#7201a8\"],[0.3333333333333333,\"#9c179e\"],[0.4444444444444444,\"#bd3786\"],[0.5555555555555556,\"#d8576b\"],[0.6666666666666666,\"#ed7953\"],[0.7777777777777778,\"#fb9f3a\"],[0.8888888888888888,\"#fdca26\"],[1.0,\"#f0f921\"]]}],\"mesh3d\":[{\"type\":\"mesh3d\",\"colorbar\":{\"outlinewidth\":0,\"ticks\":\"\"}}],\"scatter\":[{\"fillpattern\":{\"fillmode\":\"overlay\",\"size\":10,\"solidity\":0.2},\"type\":\"scatter\"}],\"parcoords\":[{\"type\":\"parcoords\",\"line\":{\"colorbar\":{\"outlinewidth\":0,\"ticks\":\"\"}}}],\"scatterpolargl\":[{\"type\":\"scatterpolargl\",\"marker\":{\"colorbar\":{\"outlinewidth\":0,\"ticks\":\"\"}}}],\"bar\":[{\"error_x\":{\"color\":\"#2a3f5f\"},\"error_y\":{\"color\":\"#2a3f5f\"},\"marker\":{\"line\":{\"color\":\"#E5ECF6\",\"width\":0.5},\"pattern\":{\"fillmode\":\"overlay\",\"size\":10,\"solidity\":0.2}},\"type\":\"bar\"}],\"scattergeo\":[{\"type\":\"scattergeo\",\"marker\":{\"colorbar\":{\"outlinewidth\":0,\"ticks\":\"\"}}}],\"scatterpolar\":[{\"type\":\"scatterpolar\",\"marker\":{\"colorbar\":{\"outlinewidth\":0,\"ticks\":\"\"}}}],\"histogram\":[{\"marker\":{\"pattern\":{\"fillmode\":\"overlay\",\"size\":10,\"solidity\":0.2}},\"type\":\"histogram\"}],\"scattergl\":[{\"type\":\"scattergl\",\"marker\":{\"colorbar\":{\"outlinewidth\":0,\"ticks\":\"\"}}}],\"scatter3d\":[{\"type\":\"scatter3d\",\"line\":{\"colorbar\":{\"outlinewidth\":0,\"ticks\":\"\"}},\"marker\":{\"colorbar\":{\"outlinewidth\":0,\"ticks\":\"\"}}}],\"scattermapbox\":[{\"type\":\"scattermapbox\",\"marker\":{\"colorbar\":{\"outlinewidth\":0,\"ticks\":\"\"}}}],\"scatterternary\":[{\"type\":\"scatterternary\",\"marker\":{\"colorbar\":{\"outlinewidth\":0,\"ticks\":\"\"}}}],\"scattercarpet\":[{\"type\":\"scattercarpet\",\"marker\":{\"colorbar\":{\"outlinewidth\":0,\"ticks\":\"\"}}}],\"carpet\":[{\"aaxis\":{\"endlinecolor\":\"#2a3f5f\",\"gridcolor\":\"white\",\"linecolor\":\"white\",\"minorgridcolor\":\"white\",\"startlinecolor\":\"#2a3f5f\"},\"baxis\":{\"endlinecolor\":\"#2a3f5f\",\"gridcolor\":\"white\",\"linecolor\":\"white\",\"minorgridcolor\":\"white\",\"startlinecolor\":\"#2a3f5f\"},\"type\":\"carpet\"}],\"table\":[{\"cells\":{\"fill\":{\"color\":\"#EBF0F8\"},\"line\":{\"color\":\"white\"}},\"header\":{\"fill\":{\"color\":\"#C8D4E3\"},\"line\":{\"color\":\"white\"}},\"type\":\"table\"}],\"barpolar\":[{\"marker\":{\"line\":{\"color\":\"#E5ECF6\",\"width\":0.5},\"pattern\":{\"fillmode\":\"overlay\",\"size\":10,\"solidity\":0.2}},\"type\":\"barpolar\"}],\"pie\":[{\"automargin\":true,\"type\":\"pie\"}]},\"layout\":{\"autotypenumbers\":\"strict\",\"colorway\":[\"#636efa\",\"#EF553B\",\"#00cc96\",\"#ab63fa\",\"#FFA15A\",\"#19d3f3\",\"#FF6692\",\"#B6E880\",\"#FF97FF\",\"#FECB52\"],\"font\":{\"color\":\"#2a3f5f\"},\"hovermode\":\"closest\",\"hoverlabel\":{\"align\":\"left\"},\"paper_bgcolor\":\"white\",\"plot_bgcolor\":\"#E5ECF6\",\"polar\":{\"bgcolor\":\"#E5ECF6\",\"angularaxis\":{\"gridcolor\":\"white\",\"linecolor\":\"white\",\"ticks\":\"\"},\"radialaxis\":{\"gridcolor\":\"white\",\"linecolor\":\"white\",\"ticks\":\"\"}},\"ternary\":{\"bgcolor\":\"#E5ECF6\",\"aaxis\":{\"gridcolor\":\"white\",\"linecolor\":\"white\",\"ticks\":\"\"},\"baxis\":{\"gridcolor\":\"white\",\"linecolor\":\"white\",\"ticks\":\"\"},\"caxis\":{\"gridcolor\":\"white\",\"linecolor\":\"white\",\"ticks\":\"\"}},\"coloraxis\":{\"colorbar\":{\"outlinewidth\":0,\"ticks\":\"\"}},\"colorscale\":{\"sequential\":[[0.0,\"#0d0887\"],[0.1111111111111111,\"#46039f\"],[0.2222222222222222,\"#7201a8\"],[0.3333333333333333,\"#9c179e\"],[0.4444444444444444,\"#bd3786\"],[0.5555555555555556,\"#d8576b\"],[0.6666666666666666,\"#ed7953\"],[0.7777777777777778,\"#fb9f3a\"],[0.8888888888888888,\"#fdca26\"],[1.0,\"#f0f921\"]],\"sequentialminus\":[[0.0,\"#0d0887\"],[0.1111111111111111,\"#46039f\"],[0.2222222222222222,\"#7201a8\"],[0.3333333333333333,\"#9c179e\"],[0.4444444444444444,\"#bd3786\"],[0.5555555555555556,\"#d8576b\"],[0.6666666666666666,\"#ed7953\"],[0.7777777777777778,\"#fb9f3a\"],[0.8888888888888888,\"#fdca26\"],[1.0,\"#f0f921\"]],\"diverging\":[[0,\"#8e0152\"],[0.1,\"#c51b7d\"],[0.2,\"#de77ae\"],[0.3,\"#f1b6da\"],[0.4,\"#fde0ef\"],[0.5,\"#f7f7f7\"],[0.6,\"#e6f5d0\"],[0.7,\"#b8e186\"],[0.8,\"#7fbc41\"],[0.9,\"#4d9221\"],[1,\"#276419\"]]},\"xaxis\":{\"gridcolor\":\"white\",\"linecolor\":\"white\",\"ticks\":\"\",\"title\":{\"standoff\":15},\"zerolinecolor\":\"white\",\"automargin\":true,\"zerolinewidth\":2},\"yaxis\":{\"gridcolor\":\"white\",\"linecolor\":\"white\",\"ticks\":\"\",\"title\":{\"standoff\":15},\"zerolinecolor\":\"white\",\"automargin\":true,\"zerolinewidth\":2},\"scene\":{\"xaxis\":{\"backgroundcolor\":\"#E5ECF6\",\"gridcolor\":\"white\",\"linecolor\":\"white\",\"showbackground\":true,\"ticks\":\"\",\"zerolinecolor\":\"white\",\"gridwidth\":2},\"yaxis\":{\"backgroundcolor\":\"#E5ECF6\",\"gridcolor\":\"white\",\"linecolor\":\"white\",\"showbackground\":true,\"ticks\":\"\",\"zerolinecolor\":\"white\",\"gridwidth\":2},\"zaxis\":{\"backgroundcolor\":\"#E5ECF6\",\"gridcolor\":\"white\",\"linecolor\":\"white\",\"showbackground\":true,\"ticks\":\"\",\"zerolinecolor\":\"white\",\"gridwidth\":2}},\"shapedefaults\":{\"line\":{\"color\":\"#2a3f5f\"}},\"annotationdefaults\":{\"arrowcolor\":\"#2a3f5f\",\"arrowhead\":0,\"arrowwidth\":1},\"geo\":{\"bgcolor\":\"white\",\"landcolor\":\"#E5ECF6\",\"subunitcolor\":\"white\",\"showland\":true,\"showlakes\":true,\"lakecolor\":\"white\"},\"title\":{\"x\":0.05},\"mapbox\":{\"style\":\"light\"}}},\"margin\":{\"l\":0,\"r\":0,\"b\":0,\"t\":0}},                        {\"responsive\": true}                    ).then(function(){\n",
              "                            \n",
              "var gd = document.getElementById('bb9524f3-82cc-4d85-8b52-57059872f7f9');\n",
              "var x = new MutationObserver(function (mutations, observer) {{\n",
              "        var display = window.getComputedStyle(gd).display;\n",
              "        if (!display || display === 'none') {{\n",
              "            console.log([gd, 'removed!']);\n",
              "            Plotly.purge(gd);\n",
              "            observer.disconnect();\n",
              "        }}\n",
              "}});\n",
              "\n",
              "// Listen for the removal of the full notebook cells\n",
              "var notebookContainer = gd.closest('#notebook-container');\n",
              "if (notebookContainer) {{\n",
              "    x.observe(notebookContainer, {childList: true});\n",
              "}}\n",
              "\n",
              "// Listen for the clearing of the current output cell\n",
              "var outputEl = gd.closest('.output');\n",
              "if (outputEl) {{\n",
              "    x.observe(outputEl, {childList: true});\n",
              "}}\n",
              "\n",
              "                        })                };                            </script>        </div>\n",
              "</body>\n",
              "</html>"
            ]
          },
          "metadata": {}
        },
        {
          "output_type": "display_data",
          "data": {
            "text/plain": [
              "<Figure size 640x480 with 0 Axes>"
            ]
          },
          "metadata": {}
        }
      ]
    }
  ]
}