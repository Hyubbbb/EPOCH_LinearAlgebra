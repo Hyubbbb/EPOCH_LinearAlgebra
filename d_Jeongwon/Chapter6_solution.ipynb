{
  "nbformat": 4,
  "nbformat_minor": 0,
  "metadata": {
    "colab": {
      "provenance": []
    },
    "kernelspec": {
      "name": "python3",
      "display_name": "Python 3"
    },
    "language_info": {
      "name": "python"
    }
  },
  "cells": [
    {
      "cell_type": "markdown",
      "source": [
        "**연습 문제 6-1**"
      ],
      "metadata": {
        "id": "KNWojG9VULjC"
      }
    },
    {
      "cell_type": "code",
      "execution_count": 15,
      "metadata": {
        "colab": {
          "base_uri": "https://localhost:8080/"
        },
        "id": "kLlLx-vDUIs-",
        "outputId": "cc2875a8-da80-48bc-f1d2-4298ab849828"
      },
      "outputs": [
        {
          "output_type": "stream",
          "name": "stdout",
          "text": [
            "[[ 1.25       -0.00897191  0.03928079  0.40264171 -1.07907855]\n",
            " [-0.00897191  1.25       -0.06965981 -0.40335501  0.0664553 ]\n",
            " [ 0.03928079 -0.06965981  1.25        1.01881668 -0.43500856]\n",
            " [ 0.40264171 -0.40335501  1.01881668  1.25       -0.88187572]\n",
            " [-1.07907855  0.0664553  -0.43500856 -0.88187572  1.25      ]]\n",
            "[[ 1.          0.00956229 -0.60422683  0.18672299 -0.05013963]\n",
            " [ 0.00956229  1.          0.46704106  0.30012278  0.78296591]\n",
            " [-0.60422683  0.46704106  1.          0.00257305  0.00466376]\n",
            " [ 0.18672299  0.30012278  0.00257305  1.          0.20501937]\n",
            " [-0.05013963  0.78296591  0.00466376  0.20501937  1.        ]]\n"
          ]
        }
      ],
      "source": [
        "import numpy as np\n",
        "\n",
        "A = np.random.randn(5,5)\n",
        "\n",
        "Ac = cov_matrix = np.cov(A,rowvar=False)\n",
        "\n",
        "std_A = np.std(A,axis=0)\n",
        "inv_std_A = 1 / std_A\n",
        "S = np.diag(inv_std_A)\n",
        "\n",
        "corrA = S @ Ac @ S\n",
        "\n",
        "print(corrA)\n",
        "print(np.corrcoef(A)) # 왜 값이 다르지..? 무엇을 잘못했을까!"
      ]
    },
    {
      "cell_type": "code",
      "source": [
        "# 정답\n",
        "\n",
        "# Diagonal matrix of inverse standard deviations\n",
        "variances = np.diag(covMat) # variances are the diagonals of a covariance\n",
        "standard_devs = np.sqrt( variances )\n",
        "S = np.diag( 1/standard_devs )\n",
        "\n",
        "# you can also do this in one line:\n",
        "#S = np.diag( 1/np.sqrt(np.diag(covMat)) )\n",
        "\n",
        "\n",
        "# compute the correlation matrix\n",
        "corrMat = S @ covMat @ S\n",
        "\n",
        "\n",
        "# and show the matrices\n",
        "fig,axs = plt.subplots(1,2,figsize=(13,6))\n",
        "h1 = axs[0].imshow(covMat,vmin=-clim,vmax=clim,cmap='gray')\n",
        "axs[0].set_title('Data covariance matrix',fontweight='bold')\n",
        "\n",
        "h2 = axs[1].imshow(corrMat,vmin=-.5,vmax=.5,cmap='gray')\n",
        "axs[1].set_title('Data correlation matrix',fontweight='bold')\n",
        "\n",
        "fig.colorbar(h1,ax=axs[0],fraction=.045)\n",
        "fig.colorbar(h2,ax=axs[1],fraction=.045)\n",
        "\n",
        "plt.tight_layout()\n",
        "plt.savefig('Figure_06_06.png',dpi=300)\n",
        "plt.show()"
      ],
      "metadata": {
        "colab": {
          "base_uri": "https://localhost:8080/",
          "height": 217
        },
        "collapsed": true,
        "id": "7R0IoRMvUOc_",
        "outputId": "84959e12-4b78-423e-ed5f-8e5607458360"
      },
      "execution_count": 6,
      "outputs": [
        {
          "output_type": "error",
          "ename": "NameError",
          "evalue": "name 'covMat' is not defined",
          "traceback": [
            "\u001b[0;31m---------------------------------------------------------------------------\u001b[0m",
            "\u001b[0;31mNameError\u001b[0m                                 Traceback (most recent call last)",
            "\u001b[0;32m<ipython-input-6-e2583e705c7c>\u001b[0m in \u001b[0;36m<cell line: 4>\u001b[0;34m()\u001b[0m\n\u001b[1;32m      2\u001b[0m \u001b[0;34m\u001b[0m\u001b[0m\n\u001b[1;32m      3\u001b[0m \u001b[0;31m# Diagonal matrix of inverse standard deviations\u001b[0m\u001b[0;34m\u001b[0m\u001b[0;34m\u001b[0m\u001b[0m\n\u001b[0;32m----> 4\u001b[0;31m \u001b[0mvariances\u001b[0m \u001b[0;34m=\u001b[0m \u001b[0mnp\u001b[0m\u001b[0;34m.\u001b[0m\u001b[0mdiag\u001b[0m\u001b[0;34m(\u001b[0m\u001b[0mcovMat\u001b[0m\u001b[0;34m)\u001b[0m \u001b[0;31m# variances are the diagonals of a covariance\u001b[0m\u001b[0;34m\u001b[0m\u001b[0;34m\u001b[0m\u001b[0m\n\u001b[0m\u001b[1;32m      5\u001b[0m \u001b[0mstandard_devs\u001b[0m \u001b[0;34m=\u001b[0m \u001b[0mnp\u001b[0m\u001b[0;34m.\u001b[0m\u001b[0msqrt\u001b[0m\u001b[0;34m(\u001b[0m \u001b[0mvariances\u001b[0m \u001b[0;34m)\u001b[0m\u001b[0;34m\u001b[0m\u001b[0;34m\u001b[0m\u001b[0m\n\u001b[1;32m      6\u001b[0m \u001b[0mS\u001b[0m \u001b[0;34m=\u001b[0m \u001b[0mnp\u001b[0m\u001b[0;34m.\u001b[0m\u001b[0mdiag\u001b[0m\u001b[0;34m(\u001b[0m \u001b[0;36m1\u001b[0m\u001b[0;34m/\u001b[0m\u001b[0mstandard_devs\u001b[0m \u001b[0;34m)\u001b[0m\u001b[0;34m\u001b[0m\u001b[0;34m\u001b[0m\u001b[0m\n",
            "\u001b[0;31mNameError\u001b[0m: name 'covMat' is not defined"
          ]
        }
      ]
    },
    {
      "cell_type": "markdown",
      "source": [
        "**연습 문제 6-2**"
      ],
      "metadata": {
        "id": "0NEqbyH1XYld"
      }
    },
    {
      "cell_type": "code",
      "source": [
        "help(np.corrcoef)"
      ],
      "metadata": {
        "colab": {
          "base_uri": "https://localhost:8080/"
        },
        "id": "LIReWWqkXa7e",
        "outputId": "033f6b56-cf3a-4ded-c916-6c96f03a0a51"
      },
      "execution_count": 17,
      "outputs": [
        {
          "output_type": "stream",
          "name": "stdout",
          "text": [
            "Help on _ArrayFunctionDispatcher in module numpy:\n",
            "\n",
            "corrcoef(x, y=None, rowvar=True, bias=<no value>, ddof=<no value>, *, dtype=None)\n",
            "    Return Pearson product-moment correlation coefficients.\n",
            "    \n",
            "    Please refer to the documentation for `cov` for more detail.  The\n",
            "    relationship between the correlation coefficient matrix, `R`, and the\n",
            "    covariance matrix, `C`, is\n",
            "    \n",
            "    .. math:: R_{ij} = \\frac{ C_{ij} } { \\sqrt{ C_{ii} C_{jj} } }\n",
            "    \n",
            "    The values of `R` are between -1 and 1, inclusive.\n",
            "    \n",
            "    Parameters\n",
            "    ----------\n",
            "    x : array_like\n",
            "        A 1-D or 2-D array containing multiple variables and observations.\n",
            "        Each row of `x` represents a variable, and each column a single\n",
            "        observation of all those variables. Also see `rowvar` below.\n",
            "    y : array_like, optional\n",
            "        An additional set of variables and observations. `y` has the same\n",
            "        shape as `x`.\n",
            "    rowvar : bool, optional\n",
            "        If `rowvar` is True (default), then each row represents a\n",
            "        variable, with observations in the columns. Otherwise, the relationship\n",
            "        is transposed: each column represents a variable, while the rows\n",
            "        contain observations.\n",
            "    bias : _NoValue, optional\n",
            "        Has no effect, do not use.\n",
            "    \n",
            "        .. deprecated:: 1.10.0\n",
            "    ddof : _NoValue, optional\n",
            "        Has no effect, do not use.\n",
            "    \n",
            "        .. deprecated:: 1.10.0\n",
            "    dtype : data-type, optional\n",
            "        Data-type of the result. By default, the return data-type will have\n",
            "        at least `numpy.float64` precision.\n",
            "    \n",
            "        .. versionadded:: 1.20\n",
            "    \n",
            "    Returns\n",
            "    -------\n",
            "    R : ndarray\n",
            "        The correlation coefficient matrix of the variables.\n",
            "    \n",
            "    See Also\n",
            "    --------\n",
            "    cov : Covariance matrix\n",
            "    \n",
            "    Notes\n",
            "    -----\n",
            "    Due to floating point rounding the resulting array may not be Hermitian,\n",
            "    the diagonal elements may not be 1, and the elements may not satisfy the\n",
            "    inequality abs(a) <= 1. The real and imaginary parts are clipped to the\n",
            "    interval [-1,  1] in an attempt to improve on that situation but is not\n",
            "    much help in the complex case.\n",
            "    \n",
            "    This function accepts but discards arguments `bias` and `ddof`.  This is\n",
            "    for backwards compatibility with previous versions of this function.  These\n",
            "    arguments had no effect on the return values of the function and can be\n",
            "    safely ignored in this and previous versions of numpy.\n",
            "    \n",
            "    Examples\n",
            "    --------\n",
            "    In this example we generate two random arrays, ``xarr`` and ``yarr``, and\n",
            "    compute the row-wise and column-wise Pearson correlation coefficients,\n",
            "    ``R``. Since ``rowvar`` is  true by  default, we first find the row-wise\n",
            "    Pearson correlation coefficients between the variables of ``xarr``.\n",
            "    \n",
            "    >>> import numpy as np\n",
            "    >>> rng = np.random.default_rng(seed=42)\n",
            "    >>> xarr = rng.random((3, 3))\n",
            "    >>> xarr\n",
            "    array([[0.77395605, 0.43887844, 0.85859792],\n",
            "           [0.69736803, 0.09417735, 0.97562235],\n",
            "           [0.7611397 , 0.78606431, 0.12811363]])\n",
            "    >>> R1 = np.corrcoef(xarr)\n",
            "    >>> R1\n",
            "    array([[ 1.        ,  0.99256089, -0.68080986],\n",
            "           [ 0.99256089,  1.        , -0.76492172],\n",
            "           [-0.68080986, -0.76492172,  1.        ]])\n",
            "    \n",
            "    If we add another set of variables and observations ``yarr``, we can\n",
            "    compute the row-wise Pearson correlation coefficients between the\n",
            "    variables in ``xarr`` and ``yarr``.\n",
            "    \n",
            "    >>> yarr = rng.random((3, 3))\n",
            "    >>> yarr\n",
            "    array([[0.45038594, 0.37079802, 0.92676499],\n",
            "           [0.64386512, 0.82276161, 0.4434142 ],\n",
            "           [0.22723872, 0.55458479, 0.06381726]])\n",
            "    >>> R2 = np.corrcoef(xarr, yarr)\n",
            "    >>> R2\n",
            "    array([[ 1.        ,  0.99256089, -0.68080986,  0.75008178, -0.934284  ,\n",
            "            -0.99004057],\n",
            "           [ 0.99256089,  1.        , -0.76492172,  0.82502011, -0.97074098,\n",
            "            -0.99981569],\n",
            "           [-0.68080986, -0.76492172,  1.        , -0.99507202,  0.89721355,\n",
            "             0.77714685],\n",
            "           [ 0.75008178,  0.82502011, -0.99507202,  1.        , -0.93657855,\n",
            "            -0.83571711],\n",
            "           [-0.934284  , -0.97074098,  0.89721355, -0.93657855,  1.        ,\n",
            "             0.97517215],\n",
            "           [-0.99004057, -0.99981569,  0.77714685, -0.83571711,  0.97517215,\n",
            "             1.        ]])\n",
            "    \n",
            "    Finally if we use the option ``rowvar=False``, the columns are now\n",
            "    being treated as the variables and we will find the column-wise Pearson\n",
            "    correlation coefficients between variables in ``xarr`` and ``yarr``.\n",
            "    \n",
            "    >>> R3 = np.corrcoef(xarr, yarr, rowvar=False)\n",
            "    >>> R3\n",
            "    array([[ 1.        ,  0.77598074, -0.47458546, -0.75078643, -0.9665554 ,\n",
            "             0.22423734],\n",
            "           [ 0.77598074,  1.        , -0.92346708, -0.99923895, -0.58826587,\n",
            "            -0.44069024],\n",
            "           [-0.47458546, -0.92346708,  1.        ,  0.93773029,  0.23297648,\n",
            "             0.75137473],\n",
            "           [-0.75078643, -0.99923895,  0.93773029,  1.        ,  0.55627469,\n",
            "             0.47536961],\n",
            "           [-0.9665554 , -0.58826587,  0.23297648,  0.55627469,  1.        ,\n",
            "            -0.46666491],\n",
            "           [ 0.22423734, -0.44069024,  0.75137473,  0.47536961, -0.46666491,\n",
            "             1.        ]])\n",
            "\n"
          ]
        }
      ]
    },
    {
      "cell_type": "code",
      "source": [
        "??np.corrcoef()"
      ],
      "metadata": {
        "colab": {
          "base_uri": "https://localhost:8080/"
        },
        "id": "xbsUWbkqZNj4",
        "outputId": "17452db9-a850-4ed6-ca9a-566e789b2e5f"
      },
      "execution_count": 21,
      "outputs": [
        {
          "output_type": "stream",
          "name": "stdout",
          "text": [
            "Object `np.corrcoef()` not found.\n"
          ]
        }
      ]
    },
    {
      "cell_type": "code",
      "source": [
        "# 정답\n",
        "\n",
        "# numpy's correlation function (note transposing the matrix!)\n",
        "corrMat_np = np.corrcoef(dataMat.T)\n",
        "\n",
        "\n",
        "# and show it\n",
        "fig,axs = plt.subplots(1,3,figsize=(13,6))\n",
        "h1 = axs[0].imshow(corrMat,vmin=-.5,vmax=.5,cmap='gray')\n",
        "axs[0].set_title('My correlation matrix',fontweight='bold')\n",
        "\n",
        "h2 = axs[1].imshow(corrMat_np,vmin=-.5,vmax=.5,cmap='gray')\n",
        "axs[1].set_title(\"Numpy's correlation matrix\",fontweight='bold')\n",
        "\n",
        "h3 = axs[2].imshow(corrMat_np-corrMat,vmin=-.0005,vmax=.0005,cmap='gray')\n",
        "axs[2].set_title('Difference matrix',fontweight='bold')\n",
        "\n",
        "fig.colorbar(h1,ax=axs[0],fraction=.045)\n",
        "fig.colorbar(h2,ax=axs[1],fraction=.045)\n",
        "fig.colorbar(h3,ax=axs[2],fraction=.045)\n",
        "\n",
        "plt.tight_layout()\n",
        "plt.savefig('Figure_06_07.png',dpi=300)\n",
        "plt.show()"
      ],
      "metadata": {
        "id": "yiVIYOe7XbFL"
      },
      "execution_count": null,
      "outputs": []
    },
    {
      "cell_type": "markdown",
      "source": [
        "**연습 문제 6-3**"
      ],
      "metadata": {
        "id": "2DdJDd2NZjHf"
      }
    },
    {
      "cell_type": "code",
      "source": [
        "import matplotlib.pyplot as plt\n",
        "\n",
        "T = np.array([[1,.5],\n",
        "              [0,.5]])\n",
        "\n",
        "theta = np.linspace(-2.0,2.0,20)\n",
        "points = np.vstack((np.sin(theta),np.cos(theta)))\n",
        "\n",
        "# 시각화?\n",
        "plt.figure(figsize=(6,6))\n",
        "plt.plot(origPoints[0,:],origPoints[1,:],'ko',label='Original')\n",
        "plt.plot(transformedPoints[0,:],transformedPoints[1,:],'s',\n",
        "         color=[.7,.7,.7],label='Transformed')\n",
        "\n",
        "plt.axis('square')\n",
        "plt.xlim([-2,2])\n",
        "plt.ylim([-2,2])\n",
        "plt.legend()\n",
        "plt.savefig('Figure_06_08.png',dpi=300)\n",
        "plt.show()"
      ],
      "metadata": {
        "colab": {
          "base_uri": "https://localhost:8080/",
          "height": 528
        },
        "id": "FgMH26OCZmFd",
        "outputId": "3c78b195-14ff-47ba-9c29-52d57358c238"
      },
      "execution_count": 25,
      "outputs": [
        {
          "output_type": "display_data",
          "data": {
            "text/plain": [
              "<Figure size 600x600 with 1 Axes>"
            ],
            "image/png": "[encoded data removed]"
          },
          "metadata": {}
        }
      ]
    },
    {
      "cell_type": "code",
      "source": [
        "# 정답\n",
        "\n",
        "# Transformation matrix\n",
        "T = np.array([\n",
        "              [1,.5],\n",
        "              [0,.5]\n",
        "            ])\n",
        "\n",
        "\n",
        "# define the set of points (a circle)\n",
        "theta = np.linspace(0,2*np.pi-2*np.pi/20,20)\n",
        "origPoints = np.vstack( (np.cos(theta),np.sin(theta)) )\n",
        "\n",
        "# apply transformation\n",
        "transformedPoints = T @ origPoints\n",
        "\n",
        "\n",
        "# plot the points\n",
        "plt.figure(figsize=(6,6))\n",
        "plt.plot(origPoints[0,:],origPoints[1,:],'ko',label='Original')\n",
        "plt.plot(transformedPoints[0,:],transformedPoints[1,:],'s',\n",
        "         color=[.7,.7,.7],label='Transformed')\n",
        "\n",
        "plt.axis('square')\n",
        "plt.xlim([-2,2])\n",
        "plt.ylim([-2,2])\n",
        "plt.legend()\n",
        "plt.savefig('Figure_06_08.png',dpi=300)\n",
        "plt.show()"
      ],
      "metadata": {
        "colab": {
          "base_uri": "https://localhost:8080/",
          "height": 217
        },
        "collapsed": true,
        "id": "eamUahzNZmWZ",
        "outputId": "05176536-35c7-48a2-d150-5fc34e9e9b99"
      },
      "execution_count": 22,
      "outputs": [
        {
          "output_type": "error",
          "ename": "NameError",
          "evalue": "name 'plt' is not defined",
          "traceback": [
            "\u001b[0;31m---------------------------------------------------------------------------\u001b[0m",
            "\u001b[0;31mNameError\u001b[0m                                 Traceback (most recent call last)",
            "\u001b[0;32m<ipython-input-22-637ccbcbe23d>\u001b[0m in \u001b[0;36m<cell line: 19>\u001b[0;34m()\u001b[0m\n\u001b[1;32m     17\u001b[0m \u001b[0;34m\u001b[0m\u001b[0m\n\u001b[1;32m     18\u001b[0m \u001b[0;31m# plot the points\u001b[0m\u001b[0;34m\u001b[0m\u001b[0;34m\u001b[0m\u001b[0m\n\u001b[0;32m---> 19\u001b[0;31m \u001b[0mplt\u001b[0m\u001b[0;34m.\u001b[0m\u001b[0mfigure\u001b[0m\u001b[0;34m(\u001b[0m\u001b[0mfigsize\u001b[0m\u001b[0;34m=\u001b[0m\u001b[0;34m(\u001b[0m\u001b[0;36m6\u001b[0m\u001b[0;34m,\u001b[0m\u001b[0;36m6\u001b[0m\u001b[0;34m)\u001b[0m\u001b[0;34m)\u001b[0m\u001b[0;34m\u001b[0m\u001b[0;34m\u001b[0m\u001b[0m\n\u001b[0m\u001b[1;32m     20\u001b[0m \u001b[0mplt\u001b[0m\u001b[0;34m.\u001b[0m\u001b[0mplot\u001b[0m\u001b[0;34m(\u001b[0m\u001b[0morigPoints\u001b[0m\u001b[0;34m[\u001b[0m\u001b[0;36m0\u001b[0m\u001b[0;34m,\u001b[0m\u001b[0;34m:\u001b[0m\u001b[0;34m]\u001b[0m\u001b[0;34m,\u001b[0m\u001b[0morigPoints\u001b[0m\u001b[0;34m[\u001b[0m\u001b[0;36m1\u001b[0m\u001b[0;34m,\u001b[0m\u001b[0;34m:\u001b[0m\u001b[0;34m]\u001b[0m\u001b[0;34m,\u001b[0m\u001b[0;34m'ko'\u001b[0m\u001b[0;34m,\u001b[0m\u001b[0mlabel\u001b[0m\u001b[0;34m=\u001b[0m\u001b[0;34m'Original'\u001b[0m\u001b[0;34m)\u001b[0m\u001b[0;34m\u001b[0m\u001b[0;34m\u001b[0m\u001b[0m\n\u001b[1;32m     21\u001b[0m plt.plot(transformedPoints[0,:],transformedPoints[1,:],'s',\n",
            "\u001b[0;31mNameError\u001b[0m: name 'plt' is not defined"
          ]
        }
      ]
    }
  ]
}