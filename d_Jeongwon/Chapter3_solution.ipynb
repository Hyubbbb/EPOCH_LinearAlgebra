{
  "nbformat": 4,
  "nbformat_minor": 0,
  "metadata": {
    "colab": {
      "provenance": []
    },
    "kernelspec": {
      "name": "python3",
      "display_name": "Python 3"
    },
    "language_info": {
      "name": "python"
    }
  },
  "cells": [
    {
      "cell_type": "markdown",
      "source": [
        "**연습 문제 3-1**"
      ],
      "metadata": {
        "id": "XA5mnyDkAJoG"
      }
    },
    {
      "cell_type": "code",
      "execution_count": 4,
      "metadata": {
        "colab": {
          "base_uri": "https://localhost:8080/"
        },
        "id": "OcfLTgR6_-mC",
        "outputId": "f82d15c4-4466-484b-c90b-43207bd08581"
      },
      "outputs": [
        {
          "output_type": "stream",
          "name": "stdout",
          "text": [
            "[[-0.4094596  -0.00282647  0.30657476]\n",
            " [-0.02557349 -0.08640552  0.04439328]\n",
            " [ 0.06612033  0.0233136   0.06997873]] [[-5.78503712  0.01205789  4.24437121]\n",
            " [-0.27887491 -1.21617414  0.44315782]\n",
            " [ 1.07573613  0.39811298  0.84539896]]\n"
          ]
        }
      ],
      "source": [
        "import numpy as np\n",
        "\n",
        "def pccAndcos(x,y):\n",
        "    # 코사인 유사도?\n",
        "    cos = np.dot(x,y) / (np.linalg.norm(x) * np.linalg.norm(y))\n",
        "\n",
        "    # 피어슨 상관계수\n",
        "    x_centered = x - np.mean(x)\n",
        "    y_centered = y - np.mean(y)\n",
        "    pcc = np.dot(x_centered,y_centered) / np.linalg.norm(x_centered) * np.linalg.norm(y_centered)\n",
        "\n",
        "    return cos,pcc\n",
        "\n",
        "a = np.random.randn(3,4)\n",
        "b = np.random.randn(4,3)\n",
        "\n",
        "cos_ab,pcc_ab = pccAndcos(a,b)\n",
        "\n",
        "print(cos_ab,pcc_ab)"
      ]
    },
    {
      "cell_type": "code",
      "source": [
        "# 정답\n",
        "\n",
        "# the function\n",
        "def corrAndCosine(x,y):\n",
        "\n",
        "  # compute cosine similarity\n",
        "  num = np.dot(x,y) # numerator\n",
        "  den = np.linalg.norm(x) * np.linalg.norm(y) # denominator\n",
        "  cos = num / den\n",
        "\n",
        "  # compute correlation (similar to above but mean-centered!)\n",
        "  xm  = x-np.mean(x)\n",
        "  ym  = y-np.mean(y)\n",
        "  num = np.dot(xm,ym) # numerator\n",
        "  den = np.linalg.norm(xm) * np.linalg.norm(ym) # denominator\n",
        "  cor = num / den\n",
        "\n",
        "  return cor,cos\n",
        "\n",
        "\n",
        "# test it\n",
        "a = np.random.randn(15)\n",
        "b = np.random.randn(15)\n",
        "\n",
        "# compute the correlation and cosine\n",
        "r,c = corrAndCosine(a,b)\n",
        "\n",
        "# confirm that the correlation matches with np.corrcoef\n",
        "print(r,np.corrcoef(a,b)[0,1])"
      ],
      "metadata": {
        "id": "VX7n-N0HFkMA"
      },
      "execution_count": null,
      "outputs": []
    },
    {
      "cell_type": "markdown",
      "source": [
        "**연습 문제 3-2**"
      ],
      "metadata": {
        "id": "sbw_P21kKPaH"
      }
    },
    {
      "cell_type": "code",
      "source": [
        "a = np.arange(4,dtype=int)\n",
        "offsets = np.arange(-50,51)\n",
        "\n",
        "results_save = np.zeros((len(offsets),2))\n",
        "\n",
        "for i in range(len(offset)):\n",
        "    results_save[i,:] = pccAndcos(a,a+offsets[i])"
      ],
      "metadata": {
        "id": "A9NNy_U9KTsI"
      },
      "execution_count": null,
      "outputs": []
    },
    {
      "cell_type": "code",
      "source": [
        "# 정답\n",
        "\n",
        "# create the variables\n",
        "a = np.arange(4,dtype=float)\n",
        "offsets = np.arange(-50,51)\n",
        "\n",
        "# initialize the results\n",
        "results = np.zeros((len(offsets),2))\n",
        "\n",
        "# run the simulation!\n",
        "for i in range(len(offsets)):\n",
        "    results[i,:] = pccAndcos(a,a+offsets[i])\n",
        "\n",
        "import matplotlib.pyplot as plt\n",
        "\n",
        "# plot the results!\n",
        "plt.figure(figsize=(8,4))\n",
        "h = plt.plot(offsets,results)\n",
        "h[0].set_color('k')\n",
        "h[0].set_marker('o')\n",
        "h[1].set_color([.7,.7,.7])\n",
        "h[1].set_marker('s')\n",
        "\n",
        "plt.xlabel('Mean offset')\n",
        "plt.ylabel('r or c')\n",
        "plt.legend(['Pearson','Cosine sim.'])\n",
        "plt.savefig('Figure_03_02.png',dpi=300) # write out the fig to a file\n",
        "plt.show()"
      ],
      "metadata": {
        "colab": {
          "base_uri": "https://localhost:8080/",
          "height": 388
        },
        "id": "zgUt9TuOKbnx",
        "outputId": "f093a965-356a-494e-e897-2a2836cb1e8b"
      },
      "execution_count": 10,
      "outputs": [
        {
          "output_type": "display_data",
          "data": {
            "text/plain": [
              "<Figure size 800x400 with 1 Axes>"
            ],
            "image/png": "[encoded data removed]"
          },
          "metadata": {}
        }
      ]
    }
  ]
}