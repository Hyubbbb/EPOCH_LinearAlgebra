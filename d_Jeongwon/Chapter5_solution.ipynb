{
  "nbformat": 4,
  "nbformat_minor": 0,
  "metadata": {
    "colab": {
      "provenance": []
    },
    "kernelspec": {
      "name": "python3",
      "display_name": "Python 3"
    },
    "language_info": {
      "name": "python"
    }
  },
  "cells": [
    {
      "cell_type": "markdown",
      "source": [
        "**연습 문제 5-3**"
      ],
      "metadata": {
        "id": "ZXF9AKOy9lCt"
      }
    },
    {
      "cell_type": "code",
      "execution_count": null,
      "metadata": {
        "colab": {
          "base_uri": "https://localhost:8080/"
        },
        "id": "sbHMRq7o9I0T",
        "outputId": "64839622-cbab-42b7-a859-6db162e3543b"
      },
      "outputs": [
        {
          "output_type": "stream",
          "name": "stdout",
          "text": [
            "13.353986972689496\n",
            "13.3539869726895\n"
          ]
        }
      ],
      "source": [
        "import numpy as np\n",
        "\n",
        "A = np.random.randn(5,5)\n",
        "ata_norm = np.linalg.norm(A.T@A)\n",
        "aat_norm = np.linalg.norm(A@A.T)\n",
        "\n",
        "ata_dia_sum = np.sqrt(np.sum(np.diag(A.T@A)))\n",
        "aat_dia_sum = np.sqrt(np.sum(np.diag(A@A.T)))\n",
        "\n",
        "print(ata_norm - ata_dia_sum)\n",
        "print(aat_norm - aat_dia_sum)"
      ]
    },
    {
      "cell_type": "code",
      "source": [
        "norm2 = np.sqrt(np.sum(A**2)) # 행렬 A의 프로베니우스 노름\n",
        "ata_norm = np.linalg.norm(A.T@A) # AtA의 프로베니우스 노름\n",
        "\n",
        "# 프로베니우스 노름: 어떤 행렬의 전치와 그 행렬을 곱한 결과의 대각합의 제곱근\n",
        "\n",
        "print(norm2)\n",
        "print(ata_norm)"
      ],
      "metadata": {
        "colab": {
          "base_uri": "https://localhost:8080/"
        },
        "id": "2q5nkWzRB5HP",
        "outputId": "0fc02b2c-a9da-4fc9-8c75-589c71ce89f5"
      },
      "execution_count": null,
      "outputs": [
        {
          "output_type": "stream",
          "name": "stdout",
          "text": [
            "5.344787598601409\n",
            "18.698774571290905\n"
          ]
        }
      ]
    },
    {
      "cell_type": "code",
      "source": [
        "# 정답\n",
        "\n",
        "# Create a matrix\n",
        "M = 50\n",
        "A = np.random.randn(M,M)\n",
        "\n",
        "# trace method\n",
        "norm1 = np.sqrt(np.sum(np.diag(A.T@A)))\n",
        "\n",
        "# Euclidean norm method\n",
        "norm2 = np.sqrt(np.sum(A**2))\n",
        "\n",
        "# if they're equal, their difference should be (very close to) zero\n",
        "norm1-norm2"
      ],
      "metadata": {
        "colab": {
          "base_uri": "https://localhost:8080/"
        },
        "id": "KmSfFo069o6a",
        "outputId": "1cda5226-3b40-44fa-f233-e138c57c4784"
      },
      "execution_count": null,
      "outputs": [
        {
          "output_type": "execute_result",
          "data": {
            "text/plain": [
              "0.0"
            ]
          },
          "metadata": {},
          "execution_count": 2
        }
      ]
    },
    {
      "cell_type": "markdown",
      "source": [
        "**연습 문제 5-4**"
      ],
      "metadata": {
        "id": "yEHvwvAkCm7K"
      }
    },
    {
      "cell_type": "code",
      "source": [
        "A = np.random.randn(10,10)\n",
        "norm_A = np.sqrt(np.sum(A**2))\n",
        "\n",
        "shift_step = np.linspace(0,1,30)\n",
        "result_A = np.zeros(len(shifting),3)\n",
        "\n",
        "for i in len(shift_step):\n",
        "    # 노름의 일부만큼 행렬 이동\n",
        "    shiftedA = A + shift_step[i]*normA*np.eye(10) # np.eye(n) -> nxn 단위 행렬 생성\n",
        "    # 원래 행렬에서 노름의 변화율 계산\n",
        "    norm_shiftedA = np.sqrt(np.sum(shiftedA**2))\n",
        "    result_A[i,0] = (norm_shiftedA - norm_A / norm_A) * 100\n",
        "    # 이동된 행렬과 원래 행렬 사이의 프로베니우스 거리 계산\n",
        "\n",
        "    # 행렬의 원소 사이의 상관계수를 계산\n",
        "    result_A[i,2] = np.corrcoef(A.flatten(),shiftedA.flatten())[0,1]"
      ],
      "metadata": {
        "id": "4XU8eioPCvDb"
      },
      "execution_count": null,
      "outputs": []
    },
    {
      "cell_type": "code",
      "source": [
        "# 정답\n",
        "\n",
        "# size of the matrix\n",
        "N = 10\n",
        "\n",
        "shifting = np.linspace(0,1,30)\n",
        "\n",
        "# original matrix\n",
        "A = np.random.randn(N,N)\n",
        "normA = np.linalg.norm(A,'fro')\n",
        "\n",
        "# initialize results matrices\n",
        "shiftingResults = np.zeros( (len(shifting),3) )\n",
        "resultsNames = [ 'Change in norm (%)','Corr. with original','Frobenius distance' ]\n",
        "\n",
        "\n",
        "\n",
        "for si in range(len(shifting)):\n",
        "\n",
        "  # shift the matrix\n",
        "  As = A + shifting[si]*normA*np.eye(N)\n",
        "\n",
        "  # get the new norm and transform to %-change\n",
        "  normShift = np.linalg.norm(As,'fro')\n",
        "  shiftingResults[si,0] = 100 * (normShift-normA)/normA\n",
        "\n",
        "  # compute correlation\n",
        "  shiftingResults[si,1] = np.corrcoef(A.flatten(),As.flatten())[0,1]\n",
        "\n",
        "  # Frobenius distance\n",
        "  shiftingResults[si,2] = EuclideanDistance(A,As)\n",
        "\n",
        "\n",
        "\n",
        "\n",
        "## plotting!\n",
        "_,axs = plt.subplots(1,3,figsize=(12,4))\n",
        "\n",
        "for i in range(3):\n",
        "\n",
        "  # plot the results\n",
        "  axs[i].plot(shifting,shiftingResults[:,i],'ks-')\n",
        "  axs[i].set_xlabel('Shifting (prop. of norm)')\n",
        "  axs[i].set_ylabel(resultsNames[i])\n",
        "\n",
        "plt.tight_layout()\n",
        "plt.savefig('Figure_05_06.png',dpi=300)\n",
        "plt.show()"
      ],
      "metadata": {
        "colab": {
          "base_uri": "https://localhost:8080/",
          "height": 224
        },
        "collapsed": true,
        "id": "Fui2RGRLCvUC",
        "outputId": "b6d268a9-eaa8-4068-b254-4d28635a963f"
      },
      "execution_count": null,
      "outputs": [
        {
          "output_type": "error",
          "ename": "NameError",
          "evalue": "name 'EuclideanDistance' is not defined",
          "traceback": [
            "\u001b[0;31m---------------------------------------------------------------------------\u001b[0m",
            "\u001b[0;31mNameError\u001b[0m                                 Traceback (most recent call last)",
            "\u001b[0;32m<ipython-input-11-9d8dc5efe7f5>\u001b[0m in \u001b[0;36m<cell line: 18>\u001b[0;34m()\u001b[0m\n\u001b[1;32m     29\u001b[0m \u001b[0;34m\u001b[0m\u001b[0m\n\u001b[1;32m     30\u001b[0m   \u001b[0;31m# Frobenius distance\u001b[0m\u001b[0;34m\u001b[0m\u001b[0;34m\u001b[0m\u001b[0m\n\u001b[0;32m---> 31\u001b[0;31m   \u001b[0mshiftingResults\u001b[0m\u001b[0;34m[\u001b[0m\u001b[0msi\u001b[0m\u001b[0;34m,\u001b[0m\u001b[0;36m2\u001b[0m\u001b[0;34m]\u001b[0m \u001b[0;34m=\u001b[0m \u001b[0mEuclideanDistance\u001b[0m\u001b[0;34m(\u001b[0m\u001b[0mA\u001b[0m\u001b[0;34m,\u001b[0m\u001b[0mAs\u001b[0m\u001b[0;34m)\u001b[0m\u001b[0;34m\u001b[0m\u001b[0;34m\u001b[0m\u001b[0m\n\u001b[0m\u001b[1;32m     32\u001b[0m \u001b[0;34m\u001b[0m\u001b[0m\n\u001b[1;32m     33\u001b[0m \u001b[0;34m\u001b[0m\u001b[0m\n",
            "\u001b[0;31mNameError\u001b[0m: name 'EuclideanDistance' is not defined"
          ]
        }
      ]
    },
    {
      "cell_type": "markdown",
      "source": [
        "**연습 문제 5-5**"
      ],
      "metadata": {
        "id": "y9IHENkdH3rv"
      }
    },
    {
      "cell_type": "code",
      "source": [
        "B = np.random.randn(4,3) @ np.random.randn(3,5)\n",
        "\n",
        "print(B.shape)\n",
        "print(np.linalg.matrix_rank(B))"
      ],
      "metadata": {
        "colab": {
          "base_uri": "https://localhost:8080/"
        },
        "id": "0l-gt-OAH9gy",
        "outputId": "c5d468dd-c0d4-4f13-e9fe-39d9bb84c853"
      },
      "execution_count": null,
      "outputs": [
        {
          "output_type": "stream",
          "name": "stdout",
          "text": [
            "(4, 5)\n",
            "3\n"
          ]
        }
      ]
    },
    {
      "cell_type": "code",
      "source": [
        "# 정답\n",
        "\n",
        "# Make a matrix with specified size and rank\n",
        "\n",
        "M = 5\n",
        "N = 8\n",
        "r = 3\n",
        "\n",
        "A = np.random.randn(M,r) @ np.random.randn(r,N)\n",
        "\n",
        "print(A.shape)\n",
        "print(np.linalg.matrix_rank(A))"
      ],
      "metadata": {
        "colab": {
          "base_uri": "https://localhost:8080/"
        },
        "id": "ZW-inCpXH91c",
        "outputId": "e888b174-f64e-4779-d65b-a4b2847abe42"
      },
      "execution_count": null,
      "outputs": [
        {
          "output_type": "stream",
          "name": "stdout",
          "text": [
            "(5, 8)\n",
            "3\n"
          ]
        }
      ]
    },
    {
      "cell_type": "markdown",
      "source": [
        "**연습 문제 5-6**"
      ],
      "metadata": {
        "id": "rmncDhFQIwOR"
      }
    },
    {
      "cell_type": "code",
      "source": [
        "# 더한 결과가 계수-0 행렬\n",
        "A0 = np.diag([1,0,0,0])\n",
        "B0 = np.diag([-1,0,0,0])\n",
        "C0 = A0 + B0\n",
        "print(np.linalg.matrix_rank(C0))\n",
        "\n",
        "# 더한 결과가 계수-1 행렬\n",
        "A1 = np.diag([1,0,0,0])\n",
        "B1 = np.diag([0,0,0,0])\n",
        "C1 = A1 + B1\n",
        "print(np.linalg.matrix_rank(C1))\n",
        "\n",
        "# 더한 결과가 계수-2 행렬\n",
        "A2 = np.diag([1,0,0,0])\n",
        "B2 = np.diag([0,1,0,0])\n",
        "C2 = A2 + B2\n",
        "print(np.linalg.matrix_rank(C2))"
      ],
      "metadata": {
        "colab": {
          "base_uri": "https://localhost:8080/"
        },
        "id": "ZnSKyERjIzlH",
        "outputId": "1f0eee6c-8523-45c8-856e-a681688d7c15"
      },
      "execution_count": null,
      "outputs": [
        {
          "output_type": "stream",
          "name": "stdout",
          "text": [
            "0\n",
            "1\n",
            "2\n"
          ]
        }
      ]
    },
    {
      "cell_type": "code",
      "source": [
        "# 정답\n",
        "\n",
        "# summed matrix has rank-0\n",
        "\n",
        "A = np.diag([ 1,0,0,0,0])\n",
        "B = np.diag([-1,0,0,0,0])\n",
        "C = A+B\n",
        "\n",
        "# print out their ranks\n",
        "np.linalg.matrix_rank(A),np.linalg.matrix_rank(B),np.linalg.matrix_rank(C)\n",
        "\n",
        "# summed matrix has rank-1\n",
        "\n",
        "A = np.diag([1,0,0,0,0])\n",
        "B = np.zeros(A.shape)\n",
        "B[0,1] = 10\n",
        "C = A+B\n",
        "\n",
        "# print out their ranks\n",
        "np.linalg.matrix_rank(A),np.linalg.matrix_rank(B),np.linalg.matrix_rank(C)\n",
        "\n",
        "# summed matrix has rank-2\n",
        "\n",
        "A = np.diag([1,0,0,0,0])\n",
        "B = np.diag([0,1,0,0,0])\n",
        "C = A+B\n",
        "\n",
        "# print out their ranks\n",
        "np.linalg.matrix_rank(A),np.linalg.matrix_rank(B),np.linalg.matrix_rank(C)\n",
        "\n",
        "# random matrices have maximum possible rank!\n",
        "A = np.random.randn(5,1) @ np.random.randn(1,5)\n",
        "B = np.random.randn(5,1) @ np.random.randn(1,5)\n",
        "C = A+B\n",
        "\n",
        "# print out their ranks\n",
        "np.linalg.matrix_rank(A),np.linalg.matrix_rank(B),np.linalg.matrix_rank(C)"
      ],
      "metadata": {
        "colab": {
          "base_uri": "https://localhost:8080/"
        },
        "id": "O8bzJDzdIz3A",
        "outputId": "f5c11809-6dd8-47ae-cd3c-2b2c20b52a74"
      },
      "execution_count": null,
      "outputs": [
        {
          "output_type": "execute_result",
          "data": {
            "text/plain": [
              "(1, 1, 2)"
            ]
          },
          "metadata": {},
          "execution_count": 18
        }
      ]
    },
    {
      "cell_type": "markdown",
      "source": [
        "**연습 문제 5-7**"
      ],
      "metadata": {
        "id": "H9DA1U9PMvBz"
      }
    },
    {
      "cell_type": "code",
      "source": [
        "def MxMmatrix(M,r):\n",
        "    return np.random.randn(M,r) @ np.random.randn(r,M)\n",
        "\n",
        "r_step = range(2,16)\n",
        "ranks = np.zeros((20,20,2)) # 데이터 2개(더한 결과 계수, 곱한 결과 계수)씩 저장\n",
        "# np.zero() 에 인수를 정수로 넣을 때는 괄호로 한 번 더 묶어 튜플로 입력\n",
        "\n",
        "for i in range(20):\n",
        "    for j in range(20):\n",
        "        A = MxMmatrix(20,r_step[i]) + MxMmatrix(20,r_step[j])\n",
        "        B = MxMmatrix(20,r_step[i]) @ MxMmatrix(20,r_step[j])\n",
        "        ranks[i,j,0] = np.linalg.matrix_rank(A)\n",
        "        ranks[i,j,1] = np.linalg.matrix_rank(B)\n",
        "\n",
        "print(ranks)"
      ],
      "metadata": {
        "colab": {
          "base_uri": "https://localhost:8080/",
          "height": 217
        },
        "id": "3SVh1Q0RMxOd",
        "outputId": "cf87e449-bde1-4816-fdde-915ee6729244"
      },
      "execution_count": null,
      "outputs": [
        {
          "output_type": "error",
          "ename": "IndexError",
          "evalue": "range object index out of range",
          "traceback": [
            "\u001b[0;31m---------------------------------------------------------------------------\u001b[0m",
            "\u001b[0;31mIndexError\u001b[0m                                Traceback (most recent call last)",
            "\u001b[0;32m<ipython-input-20-e7b0c52184af>\u001b[0m in \u001b[0;36m<cell line: 7>\u001b[0;34m()\u001b[0m\n\u001b[1;32m      7\u001b[0m \u001b[0;32mfor\u001b[0m \u001b[0mi\u001b[0m \u001b[0;32min\u001b[0m \u001b[0mrange\u001b[0m\u001b[0;34m(\u001b[0m\u001b[0;36m20\u001b[0m\u001b[0;34m)\u001b[0m\u001b[0;34m:\u001b[0m\u001b[0;34m\u001b[0m\u001b[0;34m\u001b[0m\u001b[0m\n\u001b[1;32m      8\u001b[0m     \u001b[0;32mfor\u001b[0m \u001b[0mj\u001b[0m \u001b[0;32min\u001b[0m \u001b[0mrange\u001b[0m\u001b[0;34m(\u001b[0m\u001b[0;36m20\u001b[0m\u001b[0;34m)\u001b[0m\u001b[0;34m:\u001b[0m\u001b[0;34m\u001b[0m\u001b[0;34m\u001b[0m\u001b[0m\n\u001b[0;32m----> 9\u001b[0;31m         \u001b[0mA\u001b[0m \u001b[0;34m=\u001b[0m \u001b[0mMxMmatrix\u001b[0m\u001b[0;34m(\u001b[0m\u001b[0;36m20\u001b[0m\u001b[0;34m,\u001b[0m\u001b[0mr_step\u001b[0m\u001b[0;34m[\u001b[0m\u001b[0mi\u001b[0m\u001b[0;34m]\u001b[0m\u001b[0;34m)\u001b[0m \u001b[0;34m+\u001b[0m \u001b[0mMxMmatrix\u001b[0m\u001b[0;34m(\u001b[0m\u001b[0;36m20\u001b[0m\u001b[0;34m,\u001b[0m\u001b[0mr_step\u001b[0m\u001b[0;34m[\u001b[0m\u001b[0mj\u001b[0m\u001b[0;34m]\u001b[0m\u001b[0;34m)\u001b[0m\u001b[0;34m\u001b[0m\u001b[0;34m\u001b[0m\u001b[0m\n\u001b[0m\u001b[1;32m     10\u001b[0m         \u001b[0mB\u001b[0m \u001b[0;34m=\u001b[0m \u001b[0mMxMmatrix\u001b[0m\u001b[0;34m(\u001b[0m\u001b[0;36m20\u001b[0m\u001b[0;34m,\u001b[0m\u001b[0mr_step\u001b[0m\u001b[0;34m[\u001b[0m\u001b[0mi\u001b[0m\u001b[0;34m]\u001b[0m\u001b[0;34m)\u001b[0m \u001b[0;34m@\u001b[0m \u001b[0mMxMmatrix\u001b[0m\u001b[0;34m(\u001b[0m\u001b[0;36m20\u001b[0m\u001b[0;34m,\u001b[0m\u001b[0mr_step\u001b[0m\u001b[0;34m[\u001b[0m\u001b[0mj\u001b[0m\u001b[0;34m]\u001b[0m\u001b[0;34m)\u001b[0m\u001b[0;34m\u001b[0m\u001b[0;34m\u001b[0m\u001b[0m\n\u001b[1;32m     11\u001b[0m         \u001b[0mranks\u001b[0m\u001b[0;34m[\u001b[0m\u001b[0mi\u001b[0m\u001b[0;34m,\u001b[0m\u001b[0mj\u001b[0m\u001b[0;34m,\u001b[0m\u001b[0;36m0\u001b[0m\u001b[0;34m]\u001b[0m \u001b[0;34m=\u001b[0m \u001b[0mnp\u001b[0m\u001b[0;34m.\u001b[0m\u001b[0mlinalg\u001b[0m\u001b[0;34m.\u001b[0m\u001b[0mmatrix_rank\u001b[0m\u001b[0;34m(\u001b[0m\u001b[0mA\u001b[0m\u001b[0;34m)\u001b[0m\u001b[0;34m\u001b[0m\u001b[0;34m\u001b[0m\u001b[0m\n",
            "\u001b[0;31mIndexError\u001b[0m: range object index out of range"
          ]
        }
      ]
    },
    {
      "cell_type": "code",
      "source": [
        "# 정답\n",
        "\n",
        "# The function\n",
        "def makeAmatrix(M,r):\n",
        "  return np.random.randn(M,r) @ np.random.randn(r,M)\n",
        "\n",
        "\n",
        "# parameters\n",
        "matSize = 20 # matrix size (square)\n",
        "rs = range(2,16) # range of ranks\n",
        "\n",
        "# initialize results matrix\n",
        "Ranks = np.zeros((len(rs),len(rs),2))\n",
        "\n",
        "# run the simulation\n",
        "for i in range(len(rs)):\n",
        "  for j in range(len(rs)):\n",
        "\n",
        "    # create the matrices\n",
        "    S = makeAmatrix(matSize,rs[i]) + makeAmatrix(matSize,rs[j])\n",
        "    M = makeAmatrix(matSize,rs[i]) @ makeAmatrix(matSize,rs[j])\n",
        "\n",
        "    # compute their ranks\n",
        "    Ranks[i,j,0] = np.linalg.matrix_rank(S)\n",
        "    Ranks[i,j,1] = np.linalg.matrix_rank(M)\n",
        "\n",
        "\n",
        "\n",
        "## visualization\n",
        "fig,axs = plt.subplots(1,2,figsize=(10,6))\n",
        "s = '+@' # symbols for title\n",
        "\n",
        "for i in range(2):\n",
        "\n",
        "  # draw heatmat\n",
        "  h = axs[i].imshow(Ranks[:,:,i],vmin=np.min(rs),vmax=np.max(rs),origin='lower',\n",
        "                    extent=(rs[0],rs[-1],rs[0],rs[-1]),cmap='gray')\n",
        "\n",
        "  # add colorbar and other niceties\n",
        "  fig.colorbar(h,ax=axs[i],fraction=.045)\n",
        "  axs[i].set_xlabel('Rank of A')\n",
        "  axs[i].set_ylabel('Rank of B')\n",
        "  axs[i].set_title(f'Rank of A{s[i]}B')\n",
        "\n",
        "\n",
        "plt.savefig('Figure_05_09.png',dpi=300)\n",
        "plt.tight_layout()\n",
        "plt.show()"
      ],
      "metadata": {
        "id": "8gH3k_95MxfQ"
      },
      "execution_count": null,
      "outputs": []
    },
    {
      "cell_type": "markdown",
      "source": [
        "**연습 문제 5-8**"
      ],
      "metadata": {
        "id": "AFm-mOMWQoKY"
      }
    },
    {
      "cell_type": "code",
      "source": [
        "A   = np.random.randn(5,3) @ np.random.randn(3,4)\n",
        "At  = A.T\n",
        "AtA = A.T@A\n",
        "AAt = A@A.T\n",
        "\n",
        "print(\n",
        "    np.linalg.matrix_rank(A),\n",
        "    np.linalg.matrix_rank(At),\n",
        "    np.linalg.matrix_rank(AtA),\n",
        "    np.linalg.matrix_rank(AAt)\n",
        ")"
      ],
      "metadata": {
        "colab": {
          "base_uri": "https://localhost:8080/"
        },
        "id": "bhsk6F5aQrJF",
        "outputId": "da426c16-3ca3-43b6-9137-2255720f3f60"
      },
      "execution_count": null,
      "outputs": [
        {
          "output_type": "stream",
          "name": "stdout",
          "text": [
            "3 3 3 3\n"
          ]
        }
      ]
    },
    {
      "cell_type": "code",
      "source": [
        "# 정답\n",
        "\n",
        "# matrix sizes and rank\n",
        "M = 15\n",
        "N = 8\n",
        "r = 4\n",
        "\n",
        "# compute the four matrices\n",
        "A   = np.random.randn(M,r) @ np.random.randn(r,N)\n",
        "At  = A.T\n",
        "AtA = A.T@A\n",
        "AAt = A@A.T\n",
        "\n",
        "# print their ranks\n",
        "print(\n",
        "    np.linalg.matrix_rank(A),\n",
        "    np.linalg.matrix_rank(At),\n",
        "    np.linalg.matrix_rank(AtA),\n",
        "    np.linalg.matrix_rank(AAt)\n",
        ")"
      ],
      "metadata": {
        "colab": {
          "base_uri": "https://localhost:8080/"
        },
        "id": "EPhUDqH-QrVk",
        "outputId": "947e496f-cc00-4b26-d454-471cdee73484"
      },
      "execution_count": null,
      "outputs": [
        {
          "output_type": "stream",
          "name": "stdout",
          "text": [
            "4 4 4 4\n"
          ]
        }
      ]
    },
    {
      "cell_type": "markdown",
      "source": [
        "**연습 문제 5-9**"
      ],
      "metadata": {
        "id": "xFf76pgkREhc"
      }
    },
    {
      "cell_type": "code",
      "source": [
        "A = np.random.randn(4,3)\n",
        "v = np.random.randn(4)\n",
        "\n",
        "# 벡터로 행렬 확장\n",
        "Av =\n",
        "\n",
        "# 두 행렬의 계수 계산\n",
        "rank_A = np.linalg.matrix_rank(A)\n",
        "rank_Av = np.linalg.matrix_rank(Av)\n",
        "\n",
        "# 두 계수 비교\n",
        "if rank_A == rank_Av:\n",
        "    print('True')\n",
        "else:\n",
        "    print('False')"
      ],
      "metadata": {
        "colab": {
          "base_uri": "https://localhost:8080/"
        },
        "id": "YSbiElmfRNKh",
        "outputId": "de5e5f45-f7bf-4dbb-b7cd-5116f131cb22"
      },
      "execution_count": null,
      "outputs": [
        {
          "output_type": "execute_result",
          "data": {
            "text/plain": [
              "3"
            ]
          },
          "metadata": {},
          "execution_count": 23
        }
      ]
    },
    {
      "cell_type": "code",
      "source": [
        "# 정답\n",
        "\n",
        "# function to run algorithm\n",
        "def is_V_inColA(A,v):\n",
        "\n",
        "  # check sizes\n",
        "  if A.shape[0]!=v.shape[0]:\n",
        "    raise Exception('Size mismatch! A and v must have the same column dimensionality!.')\n",
        "\n",
        "  # compute ranks\n",
        "  rankA  = np.linalg.matrix_rank(A)\n",
        "  rankAv = np.linalg.matrix_rank( np.hstack((A,v)) )\n",
        "\n",
        "  # function outputs TRUE if v \\in C(A)\n",
        "  return rankA==rankAv\n",
        "\n",
        "\n",
        "# create matrix and vector\n",
        "A = np.random.randn(4,3)\n",
        "v = np.random.randn(4,1)\n",
        "\n",
        "# test!\n",
        "is_V_inColA(A,v)"
      ],
      "metadata": {
        "colab": {
          "base_uri": "https://localhost:8080/"
        },
        "id": "u7xBTxoVRNcg",
        "outputId": "cefb5389-2be8-4af9-d6b4-2589349711c8"
      },
      "execution_count": null,
      "outputs": [
        {
          "output_type": "execute_result",
          "data": {
            "text/plain": [
              "False"
            ]
          },
          "metadata": {},
          "execution_count": 24
        }
      ]
    }
  ]
}