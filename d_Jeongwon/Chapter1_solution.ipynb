{
  "nbformat": 4,
  "nbformat_minor": 0,
  "metadata": {
    "colab": {
      "provenance": []
    },
    "kernelspec": {
      "name": "python3",
      "display_name": "Python 3"
    },
    "language_info": {
      "name": "python"
    }
  },
  "cells": [
    {
      "cell_type": "markdown",
      "source": [
        "**연습 문제 1-2**"
      ],
      "metadata": {
        "id": "vN4DQSMuyzn2"
      }
    },
    {
      "cell_type": "code",
      "execution_count": 2,
      "metadata": {
        "id": "QjzmP1ceyF1M"
      },
      "outputs": [],
      "source": [
        "import numpy as np\n",
        "\n",
        "def sub_self_norm(*elements):\n",
        "    for i in elements:\n",
        "        el_sum = + i ** 2\n",
        "    return np.sqrt(el_sum)\n",
        "\n",
        "# 벡터만 넣으면 원소 수를 알아서 받나?"
      ]
    },
    {
      "cell_type": "code",
      "source": [
        "# 정답\n",
        "\n",
        "# the function\n",
        "def normOfVect(v):\n",
        "  return np.sqrt(np.sum(v**2))\n",
        "\n",
        "# test it on a unit-norm vector\n",
        "w = np.array([0,0,1])\n",
        "print( normOfVect(w) )\n",
        "\n",
        "# non-unit-norm vector, and confirm using np.linalg.norm\n",
        "w = np.array([1,2,3])\n",
        "print( normOfVect(w),np.linalg.norm(w) )"
      ],
      "metadata": {
        "id": "s4ufJHND4Ul_",
        "colab": {
          "base_uri": "https://localhost:8080/"
        },
        "outputId": "895daa18-d7bd-4a78-b67b-e953ae6b34f2"
      },
      "execution_count": 15,
      "outputs": [
        {
          "output_type": "stream",
          "name": "stdout",
          "text": [
            "1.0\n",
            "3.7416573867739413 3.7416573867739413\n"
          ]
        }
      ]
    },
    {
      "cell_type": "markdown",
      "source": [
        "**연습 문제 1-5**"
      ],
      "metadata": {
        "id": "WHZmV5fa6c8y"
      }
    },
    {
      "cell_type": "code",
      "source": [
        "elemOFvec = []\n",
        "\n",
        "while True:\n",
        "    elem_input = input(\"행벡터의 원소 입력('*'을 눌러 멈춤)\")\n",
        "    if elem_input == '*':\n",
        "        break\n",
        "    else:\n",
        "        elemOFvec.append(int(elem_input))\n",
        "\n",
        "v = np.array(elemOFvec)\n",
        "print(f'행벡터 v = {v}')\n",
        "\n",
        "vt = np.zeros((1,len(v)))\n",
        "\n",
        "for i in v:\n",
        "# []로 감싸서 추가하면 저절로 열로 인식 못하나?\n",
        "print(f'열벡터 vt = {vt}')"
      ],
      "metadata": {
        "id": "_QhdVzD16cX6",
        "colab": {
          "base_uri": "https://localhost:8080/",
          "height": 112
        },
        "collapsed": true,
        "outputId": "93137d83-933a-4d4d-ca49-d7cc0ab6d0e8"
      },
      "execution_count": 9,
      "outputs": [
        {
          "output_type": "error",
          "ename": "IndentationError",
          "evalue": "expected an indented block after 'for' statement on line 15 (<ipython-input-9-d40bb2febdb0>, line 17)",
          "traceback": [
            "\u001b[0;36m  File \u001b[0;32m\"<ipython-input-9-d40bb2febdb0>\"\u001b[0;36m, line \u001b[0;32m17\u001b[0m\n\u001b[0;31m    print(f'열벡터 vt = {vt}')\u001b[0m\n\u001b[0m    ^\u001b[0m\n\u001b[0;31mIndentationError\u001b[0m\u001b[0;31m:\u001b[0m expected an indented block after 'for' statement on line 15\n"
          ]
        }
      ]
    },
    {
      "cell_type": "code",
      "source": [
        "# 정답\n",
        "\n",
        "# the row vector to transpose\n",
        "v = np.array([[1,2,3]])\n",
        "\n",
        "# initialize the column vector\n",
        "vt = np.zeros((3,1))\n",
        "\n",
        "# direct implementation of the formula using a for loop\n",
        "for i in range(v.shape[1]):\n",
        "  vt[i,0] = v[0,i]\n",
        "\n",
        "# confirm!\n",
        "print(v), print(' ')\n",
        "print(vt)\n",
        "\n",
        "# Note about data types: The two vectors actually have different data types\n",
        "#  (ints vs. floats). That happened because I defined v using ints while the default type\n",
        "#  for np.zeros is float. You can match data types in several ways, including:\n",
        "#  (1) write 3. instead of 3 when creating v; (2) use dtype=np.float as an optional input."
      ],
      "metadata": {
        "id": "OYS0pru8XbXG"
      },
      "execution_count": null,
      "outputs": []
    },
    {
      "cell_type": "markdown",
      "source": [
        "**연습 문제 1-6**"
      ],
      "metadata": {
        "id": "pUw9Pn8TXxzX"
      }
    },
    {
      "cell_type": "code",
      "source": [
        "v1 = np.array([1,2,3])\n",
        "\n",
        "print(np.dot(v1,v1))\n",
        "print(np.linalg.norm(v1)**2)"
      ],
      "metadata": {
        "colab": {
          "base_uri": "https://localhost:8080/"
        },
        "id": "Wd4U6JWcX2xQ",
        "outputId": "c8a04b97-d5ca-4511-be5a-c8a181436740"
      },
      "execution_count": 16,
      "outputs": [
        {
          "output_type": "stream",
          "name": "stdout",
          "text": [
            "14\n",
            "14.0\n"
          ]
        }
      ]
    },
    {
      "cell_type": "code",
      "source": [
        "# 정답\n",
        "\n",
        "# some vector\n",
        "c = np.random.randn(5)\n",
        "\n",
        "# squared norm as dot product with itself\n",
        "sqrNrm1 = np.dot(c,c)\n",
        "\n",
        "# squared norm via our function from exercise 1\n",
        "sqrNrm2 = normOfVect(c)**2\n",
        "\n",
        "# print both to confirm they're the same\n",
        "print( sqrNrm1 )\n",
        "print( sqrNrm2 )"
      ],
      "metadata": {
        "colab": {
          "base_uri": "https://localhost:8080/"
        },
        "id": "_EBB6r2facjV",
        "outputId": "dd8d8e14-266e-4cb7-f1e1-a617764e9986"
      },
      "execution_count": 14,
      "outputs": [
        {
          "output_type": "stream",
          "name": "stdout",
          "text": [
            "10.230966046564523\n",
            "10.230966046564525\n"
          ]
        }
      ]
    },
    {
      "cell_type": "markdown",
      "source": [
        "**연습 문제 1-7**"
      ],
      "metadata": {
        "id": "_1LARAXma6Hl"
      }
    },
    {
      "cell_type": "code",
      "source": [
        "v1 = np.array([1,2,3])\n",
        "v2 = np.array([4,5,6])\n",
        "\n",
        "print(np.dot(v1,v2))\n",
        "print(np.dot(v2,v1))\n",
        "\n",
        "print(1*4 + 2*5 + 3*6)\n",
        "print(4*1 + 5*2 + 6*3)"
      ],
      "metadata": {
        "colab": {
          "base_uri": "https://localhost:8080/"
        },
        "id": "xzY-ZNvIa8Hv",
        "outputId": "2651b382-8f12-49ed-9ab6-3858fff6bb96"
      },
      "execution_count": 17,
      "outputs": [
        {
          "output_type": "stream",
          "name": "stdout",
          "text": [
            "32\n",
            "32\n",
            "32\n",
            "32\n"
          ]
        }
      ]
    },
    {
      "cell_type": "code",
      "source": [
        "v1 = np.random.randn(3,1)\n",
        "v2 = np.random.randn(3,1)\n",
        "\n",
        "print(np.dot(v1,v2))\n",
        "print(np.dot(v2,v1))\n",
        "\n",
        "print(sum(v1*v2))\n",
        "print(sum(v2*v1))"
      ],
      "metadata": {
        "colab": {
          "base_uri": "https://localhost:8080/",
          "height": 224
        },
        "collapsed": true,
        "id": "ih5LbAjEcZLo",
        "outputId": "e6805db5-30c8-4b67-a032-80a6001f0960"
      },
      "execution_count": 22,
      "outputs": [
        {
          "output_type": "error",
          "ename": "ValueError",
          "evalue": "shapes (3,1) and (3,1) not aligned: 1 (dim 1) != 3 (dim 0)",
          "traceback": [
            "\u001b[0;31m---------------------------------------------------------------------------\u001b[0m",
            "\u001b[0;31mValueError\u001b[0m                                Traceback (most recent call last)",
            "\u001b[0;32m<ipython-input-22-f02a33ef69a5>\u001b[0m in \u001b[0;36m<cell line: 4>\u001b[0;34m()\u001b[0m\n\u001b[1;32m      2\u001b[0m \u001b[0mv2\u001b[0m \u001b[0;34m=\u001b[0m \u001b[0mnp\u001b[0m\u001b[0;34m.\u001b[0m\u001b[0mrandom\u001b[0m\u001b[0;34m.\u001b[0m\u001b[0mrandn\u001b[0m\u001b[0;34m(\u001b[0m\u001b[0;36m3\u001b[0m\u001b[0;34m,\u001b[0m\u001b[0;36m1\u001b[0m\u001b[0;34m)\u001b[0m\u001b[0;34m\u001b[0m\u001b[0;34m\u001b[0m\u001b[0m\n\u001b[1;32m      3\u001b[0m \u001b[0;34m\u001b[0m\u001b[0m\n\u001b[0;32m----> 4\u001b[0;31m \u001b[0mprint\u001b[0m\u001b[0;34m(\u001b[0m\u001b[0mnp\u001b[0m\u001b[0;34m.\u001b[0m\u001b[0mdot\u001b[0m\u001b[0;34m(\u001b[0m\u001b[0mv1\u001b[0m\u001b[0;34m,\u001b[0m\u001b[0mv2\u001b[0m\u001b[0;34m)\u001b[0m\u001b[0;34m)\u001b[0m\u001b[0;34m\u001b[0m\u001b[0;34m\u001b[0m\u001b[0m\n\u001b[0m\u001b[1;32m      5\u001b[0m \u001b[0mprint\u001b[0m\u001b[0;34m(\u001b[0m\u001b[0mnp\u001b[0m\u001b[0;34m.\u001b[0m\u001b[0mdot\u001b[0m\u001b[0;34m(\u001b[0m\u001b[0mv2\u001b[0m\u001b[0;34m,\u001b[0m\u001b[0mv1\u001b[0m\u001b[0;34m)\u001b[0m\u001b[0;34m)\u001b[0m\u001b[0;34m\u001b[0m\u001b[0;34m\u001b[0m\u001b[0m\n\u001b[1;32m      6\u001b[0m \u001b[0;34m\u001b[0m\u001b[0m\n",
            "\u001b[0;31mValueError\u001b[0m: shapes (3,1) and (3,1) not aligned: 1 (dim 1) != 3 (dim 0)"
          ]
        }
      ]
    },
    {
      "cell_type": "code",
      "source": [
        "v1 = np.random.randn(1,3)\n",
        "v2 = np.random.randn(1,3)\n",
        "\n",
        "print(np.dot(v1,v2))\n",
        "print(np.dot(v2,v1))\n",
        "\n",
        "print(sum(v1*v2))\n",
        "print(sum(v2*v1))"
      ],
      "metadata": {
        "colab": {
          "base_uri": "https://localhost:8080/",
          "height": 224
        },
        "collapsed": true,
        "id": "9iKr3aI1fv42",
        "outputId": "955c57df-3b5b-41d4-e23b-4b79306486cd"
      },
      "execution_count": 27,
      "outputs": [
        {
          "output_type": "error",
          "ename": "ValueError",
          "evalue": "shapes (1,3) and (1,3) not aligned: 3 (dim 1) != 1 (dim 0)",
          "traceback": [
            "\u001b[0;31m---------------------------------------------------------------------------\u001b[0m",
            "\u001b[0;31mValueError\u001b[0m                                Traceback (most recent call last)",
            "\u001b[0;32m<ipython-input-27-15d83a9610cd>\u001b[0m in \u001b[0;36m<cell line: 4>\u001b[0;34m()\u001b[0m\n\u001b[1;32m      2\u001b[0m \u001b[0mv2\u001b[0m \u001b[0;34m=\u001b[0m \u001b[0mnp\u001b[0m\u001b[0;34m.\u001b[0m\u001b[0mrandom\u001b[0m\u001b[0;34m.\u001b[0m\u001b[0mrandn\u001b[0m\u001b[0;34m(\u001b[0m\u001b[0;36m1\u001b[0m\u001b[0;34m,\u001b[0m\u001b[0;36m3\u001b[0m\u001b[0;34m)\u001b[0m\u001b[0;34m\u001b[0m\u001b[0;34m\u001b[0m\u001b[0m\n\u001b[1;32m      3\u001b[0m \u001b[0;34m\u001b[0m\u001b[0m\n\u001b[0;32m----> 4\u001b[0;31m \u001b[0mprint\u001b[0m\u001b[0;34m(\u001b[0m\u001b[0mnp\u001b[0m\u001b[0;34m.\u001b[0m\u001b[0mdot\u001b[0m\u001b[0;34m(\u001b[0m\u001b[0mv1\u001b[0m\u001b[0;34m,\u001b[0m\u001b[0mv2\u001b[0m\u001b[0;34m)\u001b[0m\u001b[0;34m)\u001b[0m\u001b[0;34m\u001b[0m\u001b[0;34m\u001b[0m\u001b[0m\n\u001b[0m\u001b[1;32m      5\u001b[0m \u001b[0mprint\u001b[0m\u001b[0;34m(\u001b[0m\u001b[0mnp\u001b[0m\u001b[0;34m.\u001b[0m\u001b[0mdot\u001b[0m\u001b[0;34m(\u001b[0m\u001b[0mv2\u001b[0m\u001b[0;34m,\u001b[0m\u001b[0mv1\u001b[0m\u001b[0;34m)\u001b[0m\u001b[0;34m)\u001b[0m\u001b[0;34m\u001b[0m\u001b[0;34m\u001b[0m\u001b[0m\n\u001b[1;32m      6\u001b[0m \u001b[0;34m\u001b[0m\u001b[0m\n",
            "\u001b[0;31mValueError\u001b[0m: shapes (1,3) and (1,3) not aligned: 3 (dim 1) != 1 (dim 0)"
          ]
        }
      ]
    },
    {
      "cell_type": "code",
      "source": [
        "# 정답\n",
        "\n",
        "# dimensionality\n",
        "n = 11\n",
        "\n",
        "# some random column vectors\n",
        "a = np.random.randn(n,1)\n",
        "b = np.random.randn(n,1)\n",
        "\n",
        "# dot products both ways\n",
        "atb = np.sum(a*b)\n",
        "bta = np.sum(b*a)\n",
        "\n",
        "# they're equal if their difference is 0\n",
        "atb - bta\n",
        "\n",
        "# For an extra challenge, see what happens when you use np.dot() to compute the dot products."
      ],
      "metadata": {
        "colab": {
          "base_uri": "https://localhost:8080/"
        },
        "id": "tI3LPi68cMCo",
        "outputId": "ae2b73d9-ce4f-4d6b-e3c2-cd1ac386dce0"
      },
      "execution_count": 18,
      "outputs": [
        {
          "output_type": "execute_result",
          "data": {
            "text/plain": [
              "0.0"
            ]
          },
          "metadata": {},
          "execution_count": 18
        }
      ]
    },
    {
      "cell_type": "markdown",
      "source": [
        "**연습 문제 1-9**"
      ],
      "metadata": {
        "id": "cq-ZoyH8gaDZ"
      }
    },
    {
      "cell_type": "code",
      "source": [
        "t = np.random.randn(2)\n",
        "r = np.random.randn(2)\n",
        "\n",
        "t_para = r * (np.dot(t,r)/np.dot(r,r))\n",
        "t_vert = t - t_para\n",
        "\n",
        "print(np.dot(t_para,t_vert)) # 직교한다면 내적 값이 0이어야 하는 거 아닌가?\n",
        "print(np.dot(r,t_vert))"
      ],
      "metadata": {
        "colab": {
          "base_uri": "https://localhost:8080/"
        },
        "id": "wkUbaIgWge1O",
        "outputId": "76842ee1-e014-47ad-9b09-21a198595a79"
      },
      "execution_count": 29,
      "outputs": [
        {
          "output_type": "stream",
          "name": "stdout",
          "text": [
            "2.220446049250313e-16\n",
            "4.440892098500626e-16\n"
          ]
        }
      ]
    },
    {
      "cell_type": "code",
      "source": [
        "# 정답\n",
        "\n",
        "# generate random R2 vectors (note: no orientation here! we don't need it for this exercise)\n",
        "t = np.random.randn(2)\n",
        "r = np.random.randn(2)\n",
        "\n",
        "# the decomposition\n",
        "t_para = r * (np.dot(t,r) / np.dot(r,r))\n",
        "t_perp = t - t_para\n",
        "\n",
        "# confirm that the two components sum to the target\n",
        "print(t)\n",
        "print( t_para+t_perp )\n",
        "\n",
        "# confirm orthogonality (dot product must be zero!)\n",
        "print( np.dot(t_para,t_perp) )\n",
        "# Note about this result: Due to numerical precision errors,\n",
        "#   you might get a result of something like 10^-17, which can be interpretd as zero.\n",
        "\n",
        "\n",
        "\n",
        "# draw them!\n",
        "import matplotlib.pyplot as plt\n",
        "\n",
        "plt.figure(figsize=(6,6))\n",
        "\n",
        "# draw main vectors\n",
        "plt.plot([0,t[0]],[0,t[1]],color='k',linewidth=3,label=r't')\n",
        "plt.plot([0,r[0]],[0,r[1]],color=[.7,.7,.7],linewidth=3,label=r'r')\n",
        "\n",
        "# draw decomposed vector components\n",
        "plt.plot([0,t_para[0]],[0,t_para[1]],'k--',linewidth=3,label=r't∥')\n",
        "plt.plot([0,t_perp[0]],[0,t_perp[1]],'k:',linewidth=3,label=r't⊥')\n",
        "\n",
        "plt.axis('equal')\n",
        "plt.legend()\n",
        "plt.savefig('Figure_01_08.png',dpi=300)\n",
        "plt.show()"
      ],
      "metadata": {
        "colab": {
          "base_uri": "https://localhost:8080/",
          "height": 578
        },
        "id": "dW3OIAAZqK_2",
        "outputId": "c4268d5a-cac6-4d87-9717-00b15b54a47f"
      },
      "execution_count": 31,
      "outputs": [
        {
          "output_type": "stream",
          "name": "stdout",
          "text": [
            "[0.69243113 0.03379787]\n",
            "[0.69243113 0.03379787]\n",
            "-1.3877787807814457e-17\n"
          ]
        },
        {
          "output_type": "display_data",
          "data": {
            "text/plain": [
              "<Figure size 600x600 with 1 Axes>"
            ],
            "image/png": "[encoded data removed]"
          },
          "metadata": {}
        }
      ]
    }
  ]
}