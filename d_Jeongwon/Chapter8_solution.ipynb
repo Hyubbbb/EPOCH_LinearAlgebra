{
  "nbformat": 4,
  "nbformat_minor": 0,
  "metadata": {
    "colab": {
      "provenance": []
    },
    "kernelspec": {
      "name": "python3",
      "display_name": "Python 3"
    },
    "language_info": {
      "name": "python"
    }
  },
  "cells": [
    {
      "cell_type": "markdown",
      "source": [
        "**연습 문제 8-1**"
      ],
      "metadata": {
        "id": "Ue1phiyrwMyV"
      }
    },
    {
      "cell_type": "code",
      "execution_count": 2,
      "metadata": {
        "colab": {
          "base_uri": "https://localhost:8080/"
        },
        "id": "HV2aCet9wCY4",
        "outputId": "383ca7df-e2fb-4082-9ebe-17e9d0903974"
      },
      "outputs": [
        {
          "output_type": "stream",
          "name": "stdout",
          "text": [
            "[[ 1.  0. -0.  0.  0.]\n",
            " [ 0.  1.  0.  0.  0.]\n",
            " [-0.  0.  1.  0. -0.]\n",
            " [ 0.  0.  0.  1. -0.]\n",
            " [ 0.  0. -0. -0.  1.]]\n",
            "[[ 1. -0.  0.  0. -0.]\n",
            " [-0.  1.  0. -0. -0.]\n",
            " [ 0.  0.  1.  0.  0.]\n",
            " [ 0. -0.  0.  1.  0.]\n",
            " [-0. -0.  0.  0.  1.]]\n",
            "[[ 1.  0.  0. -0.  0.]\n",
            " [-0.  1. -0.  0. -0.]\n",
            " [-0.  0.  1.  0.  0.]\n",
            " [ 0.  0. -0.  1. -0.]\n",
            " [ 0.  0. -0.  0.  1.]]\n",
            "[[ 1. -0.  0. -0.  0.]\n",
            " [-0.  1.  0. -0.  0.]\n",
            " [-0.  0.  1.  0. -0.]\n",
            " [-0.  0. -0.  1. -0.]\n",
            " [ 0. -0.  0. -0.  1.]]\n"
          ]
        }
      ],
      "source": [
        "import numpy as np\n",
        "\n",
        "Q  = np.linalg.qr(np.random.randn(5,5))[0]\n",
        "Q_t = Q.T\n",
        "Q_i = np.linalg.inv(Q)\n",
        "\n",
        "print(np.round(Q_t @ Q,10))\n",
        "print(np.round(Q @ Q_t,10))\n",
        "print(np.round(Q_i @ Q,10))\n",
        "print(np.round(Q @ Q_i,10))"
      ]
    },
    {
      "cell_type": "code",
      "source": [
        "# 정답\n",
        "\n",
        "# compute matrices\n",
        "Q  = np.linalg.qr( np.random.randn(5,5) )[0]\n",
        "Qt = Q.T\n",
        "Qi = np.linalg.inv( Q )\n",
        "\n",
        "# QtQ\n",
        "print(np.round( Qt@Q,8 )), print(' ')\n",
        "\n",
        "# QQt\n",
        "print(np.round( Q@Qt,8 )), print(' ')\n",
        "\n",
        "# Q^-1 Q\n",
        "print(np.round( Qi@Q,8 )), print(' ')\n",
        "\n",
        "# QQ^-1\n",
        "print(np.round( Q@Qi,8 ))"
      ],
      "metadata": {
        "colab": {
          "base_uri": "https://localhost:8080/"
        },
        "id": "xbu_oQ4NwO6s",
        "outputId": "4a6eaf28-ce23-4d91-c99f-e0371b598a81"
      },
      "execution_count": null,
      "outputs": [
        {
          "output_type": "stream",
          "name": "stdout",
          "text": [
            "[[ 1.  0.  0.  0.  0.]\n",
            " [ 0.  1. -0. -0. -0.]\n",
            " [ 0. -0.  1.  0.  0.]\n",
            " [ 0. -0.  0.  1.  0.]\n",
            " [ 0. -0.  0.  0.  1.]]\n",
            " \n",
            "[[ 1. -0.  0.  0.  0.]\n",
            " [-0.  1. -0.  0. -0.]\n",
            " [ 0. -0.  1. -0. -0.]\n",
            " [ 0.  0. -0.  1.  0.]\n",
            " [ 0. -0. -0.  0.  1.]]\n",
            " \n",
            "[[ 1. -0.  0.  0.  0.]\n",
            " [ 0.  1.  0. -0.  0.]\n",
            " [-0. -0.  1.  0. -0.]\n",
            " [-0. -0.  0.  1.  0.]\n",
            " [-0.  0.  0. -0.  1.]]\n",
            " \n",
            "[[ 1. -0.  0.  0.  0.]\n",
            " [ 0.  1.  0.  0.  0.]\n",
            " [ 0.  0.  1.  0. -0.]\n",
            " [ 0.  0. -0.  1. -0.]\n",
            " [ 0. -0.  0.  0.  1.]]\n"
          ]
        }
      ]
    },
    {
      "cell_type": "markdown",
      "source": [
        "**연습 문제 8-2**"
      ],
      "metadata": {
        "id": "hbo-wHhBwQyw"
      }
    },
    {
      "cell_type": "code",
      "source": [
        "A = np.random.randn(4,4)\n",
        "\n",
        "def GS(A):\n",
        "    Q = np.zeros((A.shape[0],A.shape[1]))\n",
        "\n",
        "    for i in range(A.shape[1]):\n",
        "        Q[:,i] = A[:,i]\n",
        "\n",
        "        a = A[:,i]\n",
        "        for j in range(i):\n",
        "            q = Q[:,j]\n",
        "            Q[:,i]=Q[:,i]-np.dot(a,q)/np.dot(q,q)*q # 직교화"
      ],
      "metadata": {
        "id": "N77MAeE3wSyS"
      },
      "execution_count": null,
      "outputs": []
    },
    {
      "cell_type": "code",
      "source": [
        "# 정답\n",
        "\n",
        "# create the matrix\n",
        "m = 4\n",
        "n = 4\n",
        "A = np.random.randn(m,n)\n",
        "\n",
        "# initialize\n",
        "Q = np.zeros((m,n))\n",
        "\n",
        "\n",
        "# the GS algo\n",
        "for i in range(n):\n",
        "\n",
        "    # initialize\n",
        "    Q[:,i] = A[:,i]\n",
        "\n",
        "    # orthogonalize\n",
        "    a = A[:,i] # convenience\n",
        "    for j in range(i): # only to earlier cols\n",
        "        q = Q[:,j] # convenience\n",
        "        Q[:,i]=Q[:,i]-np.dot(a,q)/np.dot(q,q)*q\n",
        "\n",
        "    # normalize\n",
        "    Q[:,i] = Q[:,i] / np.linalg.norm(Q[:,i])\n",
        "\n",
        "\n",
        "# \"real\" QR decomposition for comparison\n",
        "Q2,R = np.linalg.qr(A)\n",
        "\n",
        "\n",
        "# note the possible sign differences.\n",
        "# seemingly non-zero columns will be 0 when adding\n",
        "print( np.round( Q-Q2 ,10) ), print(' ')\n",
        "print( np.round( Q+Q2 ,10) )"
      ],
      "metadata": {
        "id": "zMA-FYJ0wTFX"
      },
      "execution_count": null,
      "outputs": []
    },
    {
      "cell_type": "markdown",
      "source": [
        "**연습 문제 8-3**"
      ],
      "metadata": {
        "id": "7cZc0VbgwV7w"
      }
    },
    {
      "cell_type": "code",
      "source": [
        "U = np.linalg.qr(np.random.randn(6,6))[0]\n",
        "\n",
        "# 1\n",
        "Q,R = np.linalg.qr(U)\n",
        "print(np.round(R,3))\n",
        "print(' ')\n",
        "\n",
        "# 2\n",
        "for i in range(U.shape[0]):\n",
        "  U[:,i] = U[:,i]*(10+i)\n",
        "\n",
        "Q,R = np.linalg.qr(U)\n",
        "print(np.round(R,3))\n",
        "print(' ')\n",
        "\n",
        "print(np.round(Q.T @ Q,4))\n",
        "print(' ')\n",
        "\n",
        "# 3\n",
        "U[0,3] = 0\n",
        "\n",
        "Q,R = np.linalg.qr(U)\n",
        "print(np.round(R,3))\n",
        "print(' ')"
      ],
      "metadata": {
        "id": "bUQOHCp4wYAE",
        "colab": {
          "base_uri": "https://localhost:8080/"
        },
        "outputId": "54aa2c9d-1bcd-41fc-b790-d5de959db88e"
      },
      "execution_count": 5,
      "outputs": [
        {
          "output_type": "stream",
          "name": "stdout",
          "text": [
            "[[ 1.  0.  0.  0. -0. -0.]\n",
            " [ 0.  1. -0.  0.  0. -0.]\n",
            " [ 0.  0.  1. -0.  0.  0.]\n",
            " [ 0.  0.  0.  1.  0. -0.]\n",
            " [ 0.  0.  0.  0.  1. -0.]\n",
            " [ 0.  0.  0.  0.  0.  1.]]\n",
            " \n",
            "[[10.  0. -0.  0. -0.  0.]\n",
            " [ 0. 11. -0. -0.  0. -0.]\n",
            " [ 0.  0. 12.  0.  0. -0.]\n",
            " [ 0.  0.  0. 13.  0. -0.]\n",
            " [ 0.  0.  0.  0. 14.  0.]\n",
            " [ 0.  0.  0.  0.  0. 15.]]\n",
            " \n",
            "[[ 1.  0. -0. -0.  0.  0.]\n",
            " [ 0.  1. -0.  0. -0.  0.]\n",
            " [-0. -0.  1.  0.  0.  0.]\n",
            " [-0.  0.  0.  1. -0. -0.]\n",
            " [ 0. -0.  0. -0.  1. -0.]\n",
            " [ 0.  0.  0. -0. -0.  1.]]\n",
            " \n",
            "[[10.     0.    -0.     3.889 -0.     0.   ]\n",
            " [ 0.    11.    -0.     1.198  0.    -0.   ]\n",
            " [ 0.     0.    12.    -1.739  0.    -0.   ]\n",
            " [ 0.     0.     0.    10.874  2.511  1.963]\n",
            " [ 0.     0.     0.     0.    13.773 -0.358]\n",
            " [ 0.     0.     0.     0.     0.    14.867]]\n",
            " \n"
          ]
        }
      ]
    },
    {
      "cell_type": "code",
      "source": [
        "# 정답\n",
        "\n",
        "# create an orthogonal matrix, call it U (to avoid confusing with Q)\n",
        "U = np.linalg.qr( np.random.randn(6,6) )[0]\n",
        "\n",
        "\n",
        "# part 2: modulate the column norms\n",
        "for i in range(U.shape[0]):\n",
        "  U[:,i] = U[:,i]*(10+i)\n",
        "\n",
        "\n",
        "# part 3: Change one matrix element\n",
        "U[0,3] = 0 # this is q_{1,4}\n",
        "\n",
        "\n",
        "# QR decomp\n",
        "q,r = np.linalg.qr(U)\n",
        "\n",
        "# show R and, for part 2, Q'Q\n",
        "print( np.round(r,3) ), print(' ')\n",
        "# print( np.round(Q.T@Q,4))"
      ],
      "metadata": {
        "id": "kXB_7LSIwYKq",
        "colab": {
          "base_uri": "https://localhost:8080/"
        },
        "outputId": "a0640400-394d-495b-996c-7a50b1a6083a"
      },
      "execution_count": 6,
      "outputs": [
        {
          "output_type": "stream",
          "name": "stdout",
          "text": [
            "[[ 1.0000e+01 -0.0000e+00 -0.0000e+00  1.3940e+00  0.0000e+00 -0.0000e+00]\n",
            " [ 0.0000e+00  1.1000e+01 -0.0000e+00  5.4200e-01 -0.0000e+00  0.0000e+00]\n",
            " [ 0.0000e+00  0.0000e+00  1.2000e+01  1.1700e-01  0.0000e+00  0.0000e+00]\n",
            " [ 0.0000e+00  0.0000e+00  0.0000e+00  1.2822e+01 -2.6300e-01  1.4500e-01]\n",
            " [ 0.0000e+00  0.0000e+00  0.0000e+00  0.0000e+00  1.3998e+01  3.0000e-03]\n",
            " [ 0.0000e+00  0.0000e+00  0.0000e+00  0.0000e+00  0.0000e+00  1.4999e+01]]\n",
            " \n"
          ]
        },
        {
          "output_type": "execute_result",
          "data": {
            "text/plain": [
              "(None, None)"
            ]
          },
          "metadata": {},
          "execution_count": 6
        }
      ]
    },
    {
      "cell_type": "markdown",
      "source": [
        "**연습 문제 8-6**"
      ],
      "metadata": {
        "id": "hduX5_sKwavE"
      }
    },
    {
      "cell_type": "code",
      "source": [
        "# 1\n",
        "\n",
        "M = 6\n",
        "N = 6\n",
        "\n",
        "Q = np.linalg.qr(np.random.randn(M,N))[0]\n",
        "\n",
        "print(np.round(np.linalg.norm(Q,2),3))\n",
        "print(np.round(np.linalg.norm(Q,'fro') / np.sqrt(M),3))\n",
        "\n",
        "# 2\n",
        "\n",
        "v = np.random.randn(M,1)\n",
        "\n",
        "v_norm  = np.linalg.norm(v)\n",
        "Qv_norm = np.linalg.norm(Q @ v)\n",
        "\n",
        "print(v_norm)\n",
        "print(Qv_norm)"
      ],
      "metadata": {
        "id": "VF3Og3C0wdAN",
        "colab": {
          "base_uri": "https://localhost:8080/"
        },
        "outputId": "41d5a684-ae02-41fa-822f-876dd58ca12e"
      },
      "execution_count": 14,
      "outputs": [
        {
          "output_type": "stream",
          "name": "stdout",
          "text": [
            "1.0\n",
            "1.0\n",
            "3.043257177480095\n",
            "3.043257177480095\n"
          ]
        }
      ]
    },
    {
      "cell_type": "code",
      "source": [
        "# 정답\n",
        "\n",
        "# create a random orthogonal matrix\n",
        "n = 13\n",
        "Q,R = np.linalg.qr(np.random.randn(n,n))\n",
        "\n",
        "# print out the norms\n",
        "print( np.linalg.norm(Q,2),               # induced 2-norm\n",
        "       np.sqrt( np.sum(Q**2) )/np.sqrt(n) # manually computed Frobenius norm\n",
        ")\n",
        "\n",
        "# effects of matrix multiplication on vector norm\n",
        "\n",
        "# a random vector\n",
        "v = np.random.randn(n,1)\n",
        "\n",
        "# norms\n",
        "norm_v  = np.linalg.norm(v)\n",
        "norm_Qv = np.linalg.norm(Q@v)\n",
        "\n",
        "# print them\n",
        "print(norm_v)\n",
        "print(norm_Qv)"
      ],
      "metadata": {
        "id": "fN0xLUeiwdPH"
      },
      "execution_count": null,
      "outputs": []
    },
    {
      "cell_type": "markdown",
      "source": [
        "**연습 문제 8-7**"
      ],
      "metadata": {
        "id": "PWR8056ZwiRh"
      }
    },
    {
      "cell_type": "code",
      "source": [
        "A = np.random.randn(10,4)\n",
        "\n",
        "R = np.linalg.qr(A,'complete')[1]\n",
        "\n",
        "# 처음 N개의 행을 구성하는 행렬의 완전 역행렬\n",
        "R_sub = R[:4,:]\n",
        "R_sub_inv = np.linalg.inv(R_sub)\n",
        "\n",
        "# 높은 행렬 그대로의 의사역행렬\n",
        "R_left_inv = np.linalg.pinv(R)\n",
        "R_left_inv_sub = R_left_inv[:,:4]\n",
        "\n",
        "print(np.round(R_sub_inv,3))\n",
        "print(np.round(R_left_inv_sub,3))"
      ],
      "metadata": {
        "id": "h0Kw_Og3wj8o",
        "colab": {
          "base_uri": "https://localhost:8080/"
        },
        "outputId": "f3913369-49d2-47ce-a8b1-4d7e8a180383"
      },
      "execution_count": 17,
      "outputs": [
        {
          "output_type": "stream",
          "name": "stdout",
          "text": [
            "[[ 0.309  0.022 -0.137 -0.245]\n",
            " [ 0.     0.343 -0.293 -0.181]\n",
            " [ 0.     0.     0.409  0.223]\n",
            " [ 0.     0.     0.     0.311]]\n",
            "[[ 0.309  0.022 -0.137 -0.245]\n",
            " [-0.     0.343 -0.293 -0.181]\n",
            " [-0.    -0.     0.409  0.223]\n",
            " [-0.     0.    -0.     0.311]]\n"
          ]
        }
      ]
    },
    {
      "cell_type": "code",
      "source": [
        "# 정답\n",
        "\n",
        "# the matrix\n",
        "A = np.random.randn(10,4)\n",
        "\n",
        "# get R\n",
        "_,R = np.linalg.qr(A,'complete')\n",
        "\n",
        "# examine R\n",
        "np.round(R,3)\n",
        "\n",
        "# invertible submatrix\n",
        "Rsub = R[:4,:]\n",
        "\n",
        "# inverses\n",
        "Rsub_inv = np.linalg.inv(Rsub)\n",
        "Rleftinv = np.linalg.pinv(R)\n",
        "\n",
        "# print out both\n",
        "print('Full inverse of R submatrix:')\n",
        "print(np.round(Rsub_inv,3)), print(f'\\n\\n')\n",
        "\n",
        "print('Left inverse of R:')\n",
        "print(np.round(Rleftinv,3))"
      ],
      "metadata": {
        "id": "nDXDfOvPwkH3",
        "colab": {
          "base_uri": "https://localhost:8080/"
        },
        "outputId": "58280295-2650-4483-972f-491a0598a978"
      },
      "execution_count": 18,
      "outputs": [
        {
          "output_type": "stream",
          "name": "stdout",
          "text": [
            "Full inverse of R submatrix:\n",
            "[[-0.28  -0.191 -0.209 -0.196]\n",
            " [ 0.     0.607  0.121  0.142]\n",
            " [ 0.     0.     0.402  0.103]\n",
            " [-0.    -0.    -0.    -0.422]]\n",
            "\n",
            "\n",
            "\n",
            "Left inverse of R:\n",
            "[[-0.28  -0.191 -0.209 -0.196  0.     0.     0.     0.     0.     0.   ]\n",
            " [ 0.     0.607  0.121  0.142  0.     0.     0.     0.     0.     0.   ]\n",
            " [ 0.     0.     0.402  0.103  0.     0.     0.     0.     0.     0.   ]\n",
            " [-0.    -0.     0.    -0.422  0.     0.     0.     0.     0.     0.   ]]\n"
          ]
        }
      ]
    }
  ]
}