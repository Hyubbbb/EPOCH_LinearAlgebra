{
  "cells": [
    {
      "cell_type": "markdown",
      "source": [
        "# (2주차) Ch4 행렬, part 1 : 행렬과 행렬의 기본 연산"
      ],
      "metadata": {
        "id": "a3khWzVxlcnS"
      }
    },
    {
      "cell_type": "markdown",
      "source": [
        "## Ch4.1 Numpy에서 행렬 생성과 시각화"
      ],
      "metadata": {
        "id": "o9tygh8zlxhB"
      }
    },
    {
      "cell_type": "markdown",
      "source": [
        "### Ch4.1.1 행렬 시각화와 인덱싱, 슬라이싱"
      ],
      "metadata": {
        "id": "p74lFIoA_L4J"
      }
    },
    {
      "cell_type": "code",
      "source": [
        "# 하나의 큰 행렬에서 행 2~4와 열 1~5의 부분 행렬을 추출하는 예제\n",
        "A = np.arange(60).reshape(6,10)\n",
        "sub = A[1:4:1, 0:5:1]"
      ],
      "metadata": {
        "id": "Wgvge0STK6LF"
      },
      "execution_count": null,
      "outputs": []
    },
    {
      "cell_type": "code",
      "source": [
        "# 원본 행렬\n",
        "[[ 0 1 2 3 4 5 6 7 8 9]\n",
        " [10 11 12 13 14 15 16 17 18 19]\n",
        " [20 21 22 23 24 25 26 27 28 29]\n",
        " [30 41 32 33 34 35 36 37 38 39]\n",
        " [40 41 42 43 44 45 46 47 48 49]\n",
        " [50 51 52 53 54 55 56 57 58 59]]\n",
        "# 부분 행렬\n",
        "[[ 10 11 12 13 14]\n",
        " [20 21 22 23 24]\n",
        " [30 31 32 33 34]]"
      ],
      "metadata": {
        "id": "gWjsK9zkLRVf"
      },
      "execution_count": null,
      "outputs": []
    },
    {
      "cell_type": "markdown",
      "source": [
        "### Ch4.1.2 특수 행렬"
      ],
      "metadata": {
        "id": "bIEy8yU1_TBr"
      }
    },
    {
      "cell_type": "code",
      "source": [
        "# Numpy 난수 행렬\n",
        "Mrows = 4 # shape 0\n",
        "Ncols = 6 # shape 1\n",
        "A = np.random. randn(Mrows, Ncols)"
      ],
      "metadata": {
        "id": "6d2TbUcKL5Xk"
      },
      "execution_count": null,
      "outputs": []
    },
    {
      "cell_type": "markdown",
      "source": [
        "## Ch4.2 행렬 수학 : 덧셈, 스칼라 곱셈, 아다마르곱"
      ],
      "metadata": {
        "id": "dYgGQ-tZmxY3"
      }
    },
    {
      "cell_type": "markdown",
      "source": [
        "### Ch4.2.1 덧셈과 뺄셈"
      ],
      "metadata": {
        "id": "kIqRt6es_ef_"
      }
    },
    {
      "cell_type": "markdown",
      "source": [
        "### Ch4.2.2 행렬 '이동'"
      ],
      "metadata": {
        "id": "ZIF395Qm_hYe"
      }
    },
    {
      "cell_type": "code",
      "source": [
        "# 수치 예제\n",
        "A = np.array([ [4,5,1],[0,1,11],[4,9,7] ])\n",
        "s = 6\n",
        "A + s # 이동 X\n",
        "A + s*np.eye(len(A)) # 이동 O"
      ],
      "metadata": {
        "id": "l1azI3NaMPZ_"
      },
      "execution_count": null,
      "outputs": []
    },
    {
      "cell_type": "markdown",
      "source": [
        "### Ch4.2.3 스칼라 곱셈과 아다마르곱"
      ],
      "metadata": {
        "id": "UHWgi5Tx_jxC"
      }
    },
    {
      "cell_type": "code",
      "source": [
        "A = np.random.randn(3,4)\n",
        "B = np.random.randn(3,4)\n",
        "\n",
        "A*B # 아다마르곱 O\n",
        "np.multiply(A,B) # 아다마르곱 O\n",
        "A@B # 아다마르곱 X (행렬곱)"
      ],
      "metadata": {
        "id": "tt30R1ocMpr_"
      },
      "execution_count": null,
      "outputs": []
    },
    {
      "cell_type": "markdown",
      "source": [
        "## Ch4.3 표준 행렬 곱셈"
      ],
      "metadata": {
        "id": "aCnUKhidm3Wp"
      }
    },
    {
      "cell_type": "markdown",
      "source": [
        "### Ch4.3.1 행렬 곱셈 유효성에 관한 규칙"
      ],
      "metadata": {
        "id": "K-D7L00B_sb8"
      }
    },
    {
      "cell_type": "markdown",
      "source": [
        "### Ch4.3.2 행렬 곱셈"
      ],
      "metadata": {
        "id": "7U1t3wrx_vZh"
      }
    },
    {
      "cell_type": "markdown",
      "source": [
        "### Ch4.3.3 행렬-벡터 곱셈"
      ],
      "metadata": {
        "id": "yfQe8rQb_xXR"
      }
    },
    {
      "cell_type": "code",
      "source": [
        "# 기하학적 변환\n",
        "M = np.array([ [2,3], [2,1] ])\n",
        "x = np. array([ [1,1.5] ]).T\n",
        "Mx = M#x"
      ],
      "metadata": {
        "id": "vVERzGt2OCu6"
      },
      "execution_count": null,
      "outputs": []
    },
    {
      "cell_type": "markdown",
      "source": [
        "## Ch4.4 행렬 연산 : 전치"
      ],
      "metadata": {
        "id": "thSwwfBz_0Lh"
      }
    },
    {
      "cell_type": "code",
      "source": [
        "# 2차원 Numpy 배열에 대해 전치하는 방법\n",
        "A = np.array([ [3,4,5],[1,2,3] ])\n",
        "A_T1 = A.T # 메서드\n",
        "A_T2 = np.transpose(A) # 함수"
      ],
      "metadata": {
        "id": "TQ1Z9AEtOa2C"
      },
      "execution_count": null,
      "outputs": []
    },
    {
      "cell_type": "markdown",
      "source": [
        "### Ch4.4.1 내적과 외적 표기법"
      ],
      "metadata": {
        "id": "JCu0Slf8_4Sr"
      }
    },
    {
      "cell_type": "markdown",
      "source": [
        "## Ch4.5 행렬 연산 : LIVE EVIL(연산 순서)"
      ],
      "metadata": {
        "id": "tJy4eaJ8_7Zx"
      }
    },
    {
      "cell_type": "markdown",
      "source": [
        "## Ch4.6 대칭 행렬"
      ],
      "metadata": {
        "id": "sz-DlPGrACH3"
      }
    },
    {
      "cell_type": "markdown",
      "source": [
        "### Ch4.6.1 비대칭 행렬로부터 대칭 행렬 생성하기"
      ],
      "metadata": {
        "id": "AURN2AcWAFBg"
      }
    },
    {
      "cell_type": "markdown",
      "source": [
        "## Ch4.7 정리"
      ],
      "metadata": {
        "id": "UDKPRwazAJnD"
      }
    },
    {
      "cell_type": "markdown",
      "source": [
        "\n",
        "\n",
        "*   행렬 : 숫자의 표\n",
        "  *   행렬의 응용 : 행렬을 열벡터 집합, 행벡터 집합, 개별값의 배열로 개념화\n",
        "  *   행렬을 시각화하면 insight 도출 굳, 가독성 굳\n",
        "*   특수 행렬에는 여러 범주 존재\n",
        "  *   행렬 유형에 따른 특성을 숙지하면 행렬식과 응용 분야를 이해하는데 도움됨\n",
        "*   산술 연산은 원소별로 동작함\n",
        "  *   산술 연산 : 행렬의 덧셈, 스칼라 곱셈, 아다마르곱\n",
        "*   행렬의 '이동' : 대각 원소에 상수를 더하는 것 (대각이 아닌 요소는 변경 X)\n",
        "  *   이동의 응용 : 고윳값 찾기, 통계 모델의 정규화 같은 머신러닝\n",
        "*   행렬 곱셈 : 왼쪽 행렬의 행들과 오른쪽 행렬의 열들 사이의 내적\n",
        "  *   곱셈 행렬은 행-열 쌍 간의 매핑으로 이루어진 집합\n",
        "  *   행렬 곱셈 유효성의 규칙\n",
        "      > *(MxN)(NxK) = (MxK)*\n",
        "*   LIVE EVIL 여러 행렬의 곱의 전치 : 각 행렬을 전치하고 역순으로 곱한 것\n",
        "*   대칭 행렬 : 대각을 거울로 보고 반사된 형태\n",
        "  *   각 행 = 대응되는 열\n",
        "  *   A = A^T로 정의\n",
        "  *   모든 행렬에 자신의 전치 행렬을 곱하면 대칭 행렬임\n",
        "      *   결과 행렬인 A(^T)A : 통계 모델과 특잇값 분해의 핵심\n",
        "\n",
        "\n",
        "\n",
        "\n"
      ],
      "metadata": {
        "id": "NL-GNyQGQeum"
      }
    },
    {
      "cell_type": "markdown",
      "source": [
        "# Ch4 연습문제"
      ],
      "metadata": {
        "id": "kkkcoSR-6Wku"
      }
    },
    {
      "cell_type": "markdown",
      "source": [
        "**[연습문제 4-1]**\n",
        "\n",
        "np.arange(12).reshape(3,4)를 사용해 3*4 행렬을 생성하여라.\n",
        "\n",
        "그 다음에 python 코드를 작성하여 두번째 행, 네번째 열의 원소를 추출하여라.\n",
        "\n",
        "다른 행과 열 인덱스를 선택할 수 있도록 소프트 코딩하여 아래와 같은 메시지를 출력하게 하여라.\n",
        "\n",
        "> The matrix element at index (2,4) is 7.\n"
      ],
      "metadata": {
        "id": "Au2JbdsbASgO"
      }
    },
    {
      "cell_type": "code",
      "source": [
        "import numpy as np\n",
        "\n",
        "# 3x4 행렬 생성\n",
        "matrix = np.arange(12).reshape(3, 4)\n",
        "\n",
        "# 소프트 코딩: 추출할 행, 열 설정\n",
        "row = 1  # 두 번째 행\n",
        "col = 3  # 네 번째 열\n",
        "\n",
        "# 행렬의 특정 요소 추출\n",
        "element = matrix[row, col]\n",
        "\n",
        "# 출력, 1씩 더해주삼\n",
        "print(f\"The matrix element at index ({row+1},{col+1}) is {element}.\")"
      ],
      "metadata": {
        "colab": {
          "base_uri": "https://localhost:8080/"
        },
        "id": "fLwrsXcnDLOk",
        "outputId": "524cc5c9-914f-4150-fbc5-933b8b05e9fb"
      },
      "execution_count": 5,
      "outputs": [
        {
          "output_type": "stream",
          "name": "stdout",
          "text": [
            "The matrix element at index (2,4) is 7.\n"
          ]
        }
      ]
    },
    {
      "cell_type": "markdown",
      "source": [
        "**[연습문제 4-2]**\n",
        "\n",
        "행렬을 잘라서 부분 행렬을  얻는 문제이다.\n",
        "\n",
        "[그림4-6]의 왼쪽 행렬 C를 만들고 python의 슬라이싱을 사용하여 처음 5개의 행과 5개의 열로 이루어진 하위 행렬(이하 C1)을 추출하여라.\n",
        "\n",
        "(단, 시각화가 어려울 시 부분 행렬만 올바르게 출력할 것.)"
      ],
      "metadata": {
        "id": "FtgCsfo9Bqbp"
      }
    },
    {
      "cell_type": "code",
      "source": [
        "import numpy as np\n",
        "\n",
        "# 10x10 행렬 생성\n",
        "C = np.arange(100).reshape((10, 10))\n",
        "\n",
        "# 슬라이싱으로 하위 행렬 추출\n",
        "C_1 = C[:5, :5]\n",
        "\n",
        "# 원본 행렬과 부분 행렬 출력\n",
        "print(\"원본 행렬 : \\n\", C)\n",
        "print(\"\\n하위 행렬 : \\n\", C_1)\n",
        "\n",
        "# 시각화 못하겠티비"
      ],
      "metadata": {
        "colab": {
          "base_uri": "https://localhost:8080/"
        },
        "id": "jS5YbM8pDLiC",
        "outputId": "3d2e6f8e-8f5e-4653-fa84-3ec22e1a2961"
      },
      "execution_count": 8,
      "outputs": [
        {
          "output_type": "stream",
          "name": "stdout",
          "text": [
            "원본 행렬 : \n",
            " [[ 0  1  2  3  4  5  6  7  8  9]\n",
            " [10 11 12 13 14 15 16 17 18 19]\n",
            " [20 21 22 23 24 25 26 27 28 29]\n",
            " [30 31 32 33 34 35 36 37 38 39]\n",
            " [40 41 42 43 44 45 46 47 48 49]\n",
            " [50 51 52 53 54 55 56 57 58 59]\n",
            " [60 61 62 63 64 65 66 67 68 69]\n",
            " [70 71 72 73 74 75 76 77 78 79]\n",
            " [80 81 82 83 84 85 86 87 88 89]\n",
            " [90 91 92 93 94 95 96 97 98 99]]\n",
            "\n",
            "하위 행렬 : \n",
            " [[ 0  1  2  3  4]\n",
            " [10 11 12 13 14]\n",
            " [20 21 22 23 24]\n",
            " [30 31 32 33 34]\n",
            " [40 41 42 43 44]]\n"
          ]
        }
      ]
    },
    {
      "cell_type": "markdown",
      "source": [
        "**[연습문제 4-6]**\n",
        "\n",
        "for 루프를 사용해 행렬 곱셈을 코딩하여라.\n",
        "\n",
        "그 다음에 Numpy @ 연산자를 사용해 결과를 비교하여라.\n",
        "\n",
        "(데이터과학 분야에서는 이중으로 루프를 쓰는 대신 @를 사용하는 것이 좋다.)"
      ],
      "metadata": {
        "id": "MZdSH0ggBuQG"
      }
    },
    {
      "cell_type": "code",
      "source": [
        "import numpy as np\n",
        "\n",
        "# 두 개의 행렬 생성\n",
        "A = np.array([[1, 2, 3], [4, 5, 6]])\n",
        "B = np.array([[7, 8], [9, 10], [11, 12]])\n",
        "\n",
        "# A (2x3)와 B (3x2)의 행렬 곱을 계산하기 위한 결과 행렬 초기화 (2x2 크기)\n",
        "result = np.zeros((A.shape[0], B.shape[1]))\n",
        "\n",
        "# for 루프를 이용한 행렬 곱셈 구현\n",
        "for i in range(A.shape[0]):  # A의 행 개수\n",
        "    for j in range(B.shape[1]):  # B의 열 개수\n",
        "        for k in range(A.shape[1]):  # A의 열 개수 == B의 행 개수\n",
        "            result[i, j] += A[i, k] * B[k, j]\n",
        "\n",
        "# Numpy @ 연산자를 사용한 행렬 곱셈\n",
        "result_numpy = A @ B\n",
        "\n",
        "# 결과 출력\n",
        "print(\"for 루프 결과 : \\n\", result)\n",
        "print(\"Numpy @ 결과 : \\n\", result_numpy)\n"
      ],
      "metadata": {
        "colab": {
          "base_uri": "https://localhost:8080/"
        },
        "id": "kG1h-8aQD-He",
        "outputId": "f6aa29ea-161b-40ee-fc32-46d03f79182e"
      },
      "execution_count": 10,
      "outputs": [
        {
          "output_type": "stream",
          "name": "stdout",
          "text": [
            "for 루프 결과 : \n",
            " [[ 58.  64.]\n",
            " [139. 154.]]\n",
            "Numpy @ 결과 : \n",
            " [[ 58  64]\n",
            " [139 154]]\n"
          ]
        }
      ]
    },
    {
      "cell_type": "markdown",
      "source": [
        "**[연습문제 4-8]**\n",
        "\n",
        "행렬의 대칭 여부를 확인하는 파이썬 함수를 작성하여라.\n",
        "\n",
        "행렬을 입력으로 받고 그 행렬이 대칭이면 True, 비대칭이면 False 불리언을 반환하도록 하여라.\n",
        "\n",
        "(작은 크기의 컴퓨팅 반올림이나 정밀도 오류로 인해 '동일한' 행렬임에도 그렇지 않다고 나올 수 있으므로, 적절한 허용 오차를 사용하여라.)\n",
        "\n"
      ],
      "metadata": {
        "id": "KtkmWNRaBvcx"
      }
    },
    {
      "cell_type": "code",
      "source": [
        "import numpy as np\n",
        "\n",
        "# 행렬의 대칭 여부를 확인하는 함수\n",
        "def is_symmetric(matrix, tol=1e-8): # 1e-8은 0.00000001의 작은 값으로 보편적인 허용 오차로 많이 사용\n",
        "    # 전치 행렬과 원래 행렬이 같은지 확인 (허용 오차 범위 내에서)\n",
        "    return np.allclose(matrix, matrix.T, atol=tol)\n",
        "\n",
        "# 행렬, 걍 여기다 입력\n",
        "matrix = np.array([[1, 2, 3],\n",
        "                             [2, 5, 6],\n",
        "                             [3, 6, 9]])\n",
        "\n",
        "# 결과 출력\n",
        "print(\"대칭 행렬 여부 : \", is_symmetric(matrix))"
      ],
      "metadata": {
        "colab": {
          "base_uri": "https://localhost:8080/"
        },
        "id": "rYn80II0D7w3",
        "outputId": "73cb1df1-d575-405c-cbd3-325f36fdb7dc"
      },
      "execution_count": 15,
      "outputs": [
        {
          "output_type": "stream",
          "name": "stdout",
          "text": [
            "대칭 행렬 여부 :  True\n"
          ]
        }
      ]
    },
    {
      "cell_type": "markdown",
      "source": [
        "**[연습문제4-9]**\n",
        "\n",
        "비대칭 사각 행렬로부터 대칭 행렬을 만드는 덧셈 방법을 이용하는 문제이다.\n",
        "\n",
        "행렬을 자신의 전치로 평균화하는 알고리즘을 python 구현하고, 실제 결과가 대칭인지 확인하여라.\n",
        "\n",
        "(이전 연습문제의 함수를 이용할 것.)"
      ],
      "metadata": {
        "id": "L34rdE45D_Fc"
      }
    },
    {
      "cell_type": "code",
      "source": [
        "# 비대칭 사각 행렬 생성\n",
        "A = np.array([[1, 2, 3],\n",
        "              [4, 5, 6],\n",
        "              [7, 8, 9]])\n",
        "\n",
        "# 행렬과 그 전치 행렬의 평균을 구하여 대칭 행렬 생성\n",
        "A_sym = (A + A.T) / 2\n",
        "\n",
        "# 결과 출력\n",
        "print(\"비대칭 행렬 : \\n\", A)\n",
        "print(\"\\n대칭 행렬 : \\n\", A_sym)\n",
        "\n",
        "# 대칭 여부 확인\n",
        "print(\"\\n대칭 행렬 여부 확인:\", is_symmetric(A_sym))"
      ],
      "metadata": {
        "colab": {
          "base_uri": "https://localhost:8080/"
        },
        "id": "baYmFFCAFjgY",
        "outputId": "6b4c12a6-dff1-4493-cfe2-939e39ac08ae"
      },
      "execution_count": 16,
      "outputs": [
        {
          "output_type": "stream",
          "name": "stdout",
          "text": [
            "비대칭 행렬 : \n",
            " [[1 2 3]\n",
            " [4 5 6]\n",
            " [7 8 9]]\n",
            "\n",
            "대칭 행렬 : \n",
            " [[1. 3. 5.]\n",
            " [3. 5. 7.]\n",
            " [5. 7. 9.]]\n",
            "\n",
            "대칭 행렬 여부 확인: True\n"
          ]
        }
      ]
    }
  ],
  "metadata": {
    "colab": {
      "provenance": [],
      "toc_visible": true
    },
    "kernelspec": {
      "display_name": "Python 3",
      "name": "python3"
    }
  },
  "nbformat": 4,
  "nbformat_minor": 0
}