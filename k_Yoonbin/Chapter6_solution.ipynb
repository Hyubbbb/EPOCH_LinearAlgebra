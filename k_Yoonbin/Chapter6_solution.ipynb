{
  "cells": [
    {
      "cell_type": "markdown",
      "source": [
        "# (3주차) Ch6 행렬 응용 : 데이터 분석에서의 행렬"
      ],
      "metadata": {
        "id": "a3khWzVxlcnS"
      }
    },
    {
      "cell_type": "markdown",
      "source": [
        "* 6장의 행렬 응용은 3장의 벡터 응용을 기반으로 구성되어 있음\n",
        "* 벡터와 행렬을 연결시키는 몇가지 공통적인 내용을 다룸\n",
        "* 개념과 응용이 복잡해지더라도, 기반은 선형 가중과 내적같은 간단한 원칙에 있음을 잊지말 것."
      ],
      "metadata": {
        "id": "e29S3AvN915t"
      }
    },
    {
      "cell_type": "markdown",
      "source": [
        "## Ch6.1 다변량 데이터 공분산 행렬"
      ],
      "metadata": {
        "id": "u5UwY-rab1Xj"
      }
    },
    {
      "cell_type": "code",
      "source": [
        "# data-Mat이라는 데이터 행렬을 생성하고 공분산 행렬을 계산\n",
        "\n",
        "# 특징 평균 벡터\n",
        "datamean = np.mean(dataMat, axis=0)\n",
        "\n",
        "# 브로드캐스트를 이용한 평균중앙화\n",
        "dataMatM = dataMat - datamean\n",
        "\n",
        "# 데이터 행렬의 전치와 데이터 행렬의 곱\n",
        "covMat = dataMatM.T @ dataMatM\n",
        "\n",
        "# N-1로 나누기\n",
        "covMat = covMat / (dataMat.shape[0] - 1)"
      ],
      "metadata": {
        "id": "pVwPSlU44qn3"
      },
      "execution_count": null,
      "outputs": []
    },
    {
      "cell_type": "markdown",
      "source": [
        "NumPy 모듈에는 공분산과 상관 행렬을 계산하는 함수가 있음.\n",
        "\n",
        "*   공분산 : np.cov()\n",
        "*   상관 행렬 : np.corrcoef()\n",
        "\n",
        "(더 편리하지만, 공식 그대로 공분산을 먼저 구현해서 메커니즘을 이해하셈)"
      ],
      "metadata": {
        "id": "Cy4rflEM5TyF"
      }
    },
    {
      "cell_type": "markdown",
      "source": [
        "## Ch6.2 행렬-벡터 곱셈을 통한 기하학적 변환"
      ],
      "metadata": {
        "id": "s8U5g5Eqb41R"
      }
    },
    {
      "cell_type": "markdown",
      "source": [
        "데이터 동영상을 위한 python 코드"
      ],
      "metadata": {
        "id": "84fG6sbn5ykM"
      }
    },
    {
      "cell_type": "code",
      "source": [
        "# step1. 장면 설정\n",
        "theta = np.linspace(0,2*np.pi,100)\n",
        "points = np.vstack((np.sin(theta), np.cos(theta)))\n",
        "\n",
        "fig,ax = plt.subplots(1, figsize=(12,6))\n",
        "plth, = ax.plot(np.cos(x), np.sin(x), 'ko')"
      ],
      "metadata": {
        "id": "rtLh0mGp5txp"
      },
      "execution_count": null,
      "outputs": []
    },
    {
      "cell_type": "code",
      "source": [
        "# step2. 각 프레임마다 축을 업데이트하는 함수를 정의\n",
        "def aframe(ph):\n",
        "\n",
        "  # 변환 행렬을 생성하고 적용\n",
        "  T = np.array([ [1,1-ph], [0,1]])\n",
        "  P = T@points\n",
        "\n",
        "  # 접의 위치를 갱신\n",
        "  plth.set_xdata(P[0,:])\n",
        "  plth.set_ydata(P[1,:])\n",
        "\n",
        "  return plth"
      ],
      "metadata": {
        "id": "yV7glV8O6Lpw"
      },
      "execution_count": null,
      "outputs": []
    },
    {
      "cell_type": "code",
      "source": [
        "# step3. 변환 매개변수를 정의하고 동영상을 생성하는 matplotlib 함수를 호출\n",
        "phi = np.linspace(-1, 1-1/40, 40)**2\n",
        "amimation.FuncAnimation(fig, aframe, phi, interval=100, repeat=True)"
      ],
      "metadata": {
        "id": "5sxqr-n46laq"
      },
      "execution_count": null,
      "outputs": []
    },
    {
      "cell_type": "markdown",
      "source": [
        "## Ch6.3 이미지 특징 탐지"
      ],
      "metadata": {
        "id": "kw1P1UUeb9Rx"
      }
    },
    {
      "cell_type": "code",
      "source": [
        "# 2차원 가우스 커널이 생성되는 방법\n",
        "# 매개변수를 특정값으로 고정\n",
        "\n",
        "Y, X = np.meshgrid(np.lispace(-3,3,21), np.linspace(-3,3,21))\n",
        "kernel = np.exp( -(X**2+Y**2)/20)\n",
        "# 정규화\n",
        "kernel = kernel / np.sum(kernel)"
      ],
      "metadata": {
        "id": "nQrI0mEN8YcG"
      },
      "execution_count": null,
      "outputs": []
    },
    {
      "cell_type": "code",
      "source": [
        "# 이미지 합성곱을 python으로 구현한 코드\n",
        "# for문이 더 필요\n",
        "\n",
        "# 행에 대한 for 루프\n",
        "for rowi in range(halfKr, imgN-halfKr):\n",
        "  # 열에 대한 for 루프\n",
        "  for coli in range(halfKr, imgN-halfKr):\n",
        "\n",
        "    # 이미지 조각 자르기\n",
        "    piece0fImg = imagePad[ rowi-halfKr : rowi+halfKr + 1:1,\n",
        "                          coli-halfKr : coli+halfKr + 1:1 ]\n",
        "    # 내적: 아다마르곱과 합\n",
        "    dotprod = np.sum( piece0fImg*kernel)\n",
        "\n",
        "    # 이 픽셀에 대한 결과를 저장\n",
        "    convoutput[rowi, coli] = dotprod"
      ],
      "metadata": {
        "id": "oFfrjrzb82KW"
      },
      "execution_count": null,
      "outputs": []
    },
    {
      "cell_type": "markdown",
      "source": [
        "## Ch6.4 정리"
      ],
      "metadata": {
        "id": "KZ8163jfb-9a"
      }
    },
    {
      "cell_type": "markdown",
      "source": [
        "\n",
        "\n",
        "> 데이터과학과 머신러닝에서 중요하고 정교한 기법도 실제로는 간단한 선형대수학 원리를 기반으로 만들어졌다.\n",
        "\n"
      ],
      "metadata": {
        "id": "xxpMT21B9p_E"
      }
    },
    {
      "cell_type": "markdown",
      "source": [
        "# Ch6 연습문제"
      ],
      "metadata": {
        "id": "kkkcoSR-6Wku"
      }
    },
    {
      "cell_type": "markdown",
      "source": [
        "**[연습 문제 6-1]**\n",
        "\n",
        "공분산 행렬을 상관 행렬로 변환하는 문제.\n",
        "\n",
        "변환하는 과정에서 각 행렬 원소(변수 쌍 간의 공분산)를 두 변수의 분산들의 곱으로 나누어라.\n",
        "\n",
        "이것은 공분산 행렬에 각 변수의 역 표준 편차(분산의 제곱근)를 가진 대각 행렬을 앞과 뒤에서 곱해서 구현할 수 있다.\n",
        "\n",
        "(행렬을 곱하면서 분산으로 나누어야하기 때문에 표준 편차를 반전한 것이며, 대각 행렬을 앞과 뒤에서 곱했을 때의 특성 때문에 표준 편차를 앞과 뒤에서 곱한다.)\n",
        "\n",
        "> 공분산으로부터 상관관계를 계산하는 공식 : R = SCS\n",
        "\n",
        "(C는 공분산 행렬, S는 변수의 역 표준 편차의 대각 행렬)\n",
        "\n",
        "해당 식을 pyhon 코드로 변환하여, 공분산 행렬로부터 상관 행렬을 계산하여라."
      ],
      "metadata": {
        "id": "jY4R8SQY6iQ5"
      }
    },
    {
      "cell_type": "code",
      "source": [
        "import numpy as np\n",
        "\n",
        "# 공분산 행렬로부터 상관 행렬을 계산하는 함수\n",
        "def covariance_to_correlation(cov_matrix):\n",
        "    # 공분산 행렬의 대각 원소(분산)로부터 표준 편차 계산\n",
        "    std_devs = np.sqrt(np.diag(cov_matrix))\n",
        "\n",
        "    # 역 표준 편차로 구성된 대각 행렬 S 생성\n",
        "    inv_std_devs = np.diag(1 / std_devs)\n",
        "\n",
        "    # 상관 행렬 계산: R = SCS\n",
        "    correlation_matrix = inv_std_devs @ cov_matrix @ inv_std_devs\n",
        "\n",
        "    return correlation_matrix"
      ],
      "metadata": {
        "id": "xIM9X6D1bvNj"
      },
      "execution_count": null,
      "outputs": []
    },
    {
      "cell_type": "code",
      "source": [
        "# 예시 공분산 행렬\n",
        "cov_matrix = np.array([[4, 2, 0.6],\n",
        "                       [2, 3, 0.9],\n",
        "                       [0.6, 0.9, 5]])\n",
        "\n",
        "# 상관 행렬 계산\n",
        "corr_matrix = covariance_to_correlation(cov_matrix)\n",
        "\n",
        "# 결과 출력\n",
        "print(\"공분산 행렬:\\n\", cov_matrix)\n",
        "print(\"\\n상관 행렬:\\n\", corr_matrix)"
      ],
      "metadata": {
        "colab": {
          "base_uri": "https://localhost:8080/"
        },
        "id": "RexsJJzEefFP",
        "outputId": "6fe2aaf8-07b8-4f16-84c4-fdc499ddfb6b"
      },
      "execution_count": null,
      "outputs": [
        {
          "output_type": "stream",
          "name": "stdout",
          "text": [
            "공분산 행렬:\n",
            " [[4.  2.  0.6]\n",
            " [2.  3.  0.9]\n",
            " [0.6 0.9 5. ]]\n",
            "\n",
            "상관 행렬:\n",
            " [[1.         0.57735027 0.13416408]\n",
            " [0.57735027 1.         0.232379  ]\n",
            " [0.13416408 0.232379   1.        ]]\n"
          ]
        }
      ]
    },
    {
      "cell_type": "markdown",
      "source": [
        "**[연습 문제 6-2]**\n",
        "\n",
        "데이터 행렬을 입력으로 받아 상관 행렬을 반환하는 np.corrcoef() 함수를 이용하는 문제이다.\n",
        "\n",
        "이 함수를 이용하여 행렬과 행렬 간의 차이를 나타내어 행렬이 동일한지 확인해 보아라.\n",
        "\n",
        "다음으로 ?np.corrcoef()를 통해 np.corrcoef()의 소스 코드를 파악하여라.\n",
        "\n",
        "NumPy는 역 표준 편차의 대각 행렬을 앞과 뒤에서 곱하지 않고 브로드캐스트를 사용해 표준 편차로 나누는 방식으로 구현되어 있다.\n",
        "\n",
        "이 코드 구현이 이전 문제에서 작성한 수학과 python 코드와 어떻게 같은지 이해해야한다."
      ],
      "metadata": {
        "id": "mF7hgbEx-T2v"
      }
    },
    {
      "cell_type": "code",
      "source": [
        "import numpy as np\n",
        "\n",
        "# 공분산 행렬을 상관 행렬로 변환하는 함수 (이전 문제의 코드)\n",
        "# def covariance_to_correlation(cov_matrix):\n",
        "\n",
        "# 데이터 행렬로부터 공분산 행렬 계산 후 상관 행렬 반환\n",
        "def data_to_correlation(data_matrix):\n",
        "    # 데이터 행렬의 공분산 행렬\n",
        "    cov_matrix = np.cov(data_matrix, rowvar=False)\n",
        "    return covariance_to_correlation(cov_matrix)\n",
        "\n",
        "# 임의의 데이터 행렬 생성\n",
        "data_matrix = np.random.randn(5, 4)"
      ],
      "metadata": {
        "id": "o_AnL_p8-ZPB"
      },
      "execution_count": null,
      "outputs": []
    },
    {
      "cell_type": "code",
      "source": [
        "# np.corrcoef()을 이용한 상관 행렬 계산\n",
        "corr_matrix_np = np.corrcoef(data_matrix, rowvar=False)\n",
        "\n",
        "# 직접 구현한 공분산-상관 행렬 변환을 이용한 상관 행렬 계산\n",
        "corr_matrix_custom = data_to_correlation(data_matrix)\n",
        "\n",
        "# 두 행렬의 차이 계산\n",
        "difference = corr_matrix_np - corr_matrix_custom"
      ],
      "metadata": {
        "id": "nOLuzdPHfOiz"
      },
      "execution_count": null,
      "outputs": []
    },
    {
      "cell_type": "code",
      "source": [
        "# 결과 출력\n",
        "print(\"np.corrcoef()로 계산한 상관 행렬:\\n\", corr_matrix_np)\n",
        "print(\"\\n직접 구현한 상관 행렬:\\n\", corr_matrix_custom)\n",
        "print(\"\\n두 행렬의 차이:\\n\", difference)"
      ],
      "metadata": {
        "colab": {
          "base_uri": "https://localhost:8080/"
        },
        "id": "4dqHLk19fYQd",
        "outputId": "34b7f369-b2fc-401f-8924-cd26bf8b190d"
      },
      "execution_count": null,
      "outputs": [
        {
          "output_type": "stream",
          "name": "stdout",
          "text": [
            "np.corrcoef()로 계산한 상관 행렬:\n",
            " [[ 1.          0.43014528  0.41509879  0.17226628]\n",
            " [ 0.43014528  1.          0.32907943 -0.36275577]\n",
            " [ 0.41509879  0.32907943  1.          0.51705359]\n",
            " [ 0.17226628 -0.36275577  0.51705359  1.        ]]\n",
            "\n",
            "직접 구현한 상관 행렬:\n",
            " [[ 1.          0.43014528  0.41509879  0.17226628]\n",
            " [ 0.43014528  1.          0.32907943 -0.36275577]\n",
            " [ 0.41509879  0.32907943  1.          0.51705359]\n",
            " [ 0.17226628 -0.36275577  0.51705359  1.        ]]\n",
            "\n",
            "두 행렬의 차이:\n",
            " [[-2.22044605e-16 -5.55111512e-17 -5.55111512e-17  0.00000000e+00]\n",
            " [ 0.00000000e+00  0.00000000e+00  0.00000000e+00  0.00000000e+00]\n",
            " [ 0.00000000e+00 -5.55111512e-17  0.00000000e+00  1.11022302e-16]\n",
            " [ 2.77555756e-17 -5.55111512e-17 -1.11022302e-16  2.22044605e-16]]\n"
          ]
        }
      ]
    },
    {
      "cell_type": "code",
      "source": [
        "# 두 행렬이 동일한지 확인 (허용 오차 내에서)\n",
        "print(\"두 행렬이 동일한가? \", np.allclose(corr_matrix_np, corr_matrix_custom))"
      ],
      "metadata": {
        "colab": {
          "base_uri": "https://localhost:8080/"
        },
        "id": "kLmhhg1SfiuH",
        "outputId": "eb65114c-23a0-4602-f166-7f48b7c6abff"
      },
      "execution_count": null,
      "outputs": [
        {
          "output_type": "stream",
          "name": "stdout",
          "text": [
            "두 행렬이 동일한가?  True\n"
          ]
        }
      ]
    },
    {
      "cell_type": "markdown",
      "source": [
        "**[연습 문제 6-3]**\n",
        "\n",
        "기하하적 변환 연습 문제\n",
        "\n",
        "회전 전과 후의 선을 보여 준 것처럼 변환을 적용하기 전과 후의 원안의 점을 나타내는 것이다.\n",
        "\n",
        "다음 변환 행렬을 사용해서 [그림 6-8]과 같은 그래프를 만들어라."
      ],
      "metadata": {
        "id": "2tkSanOp-Voq"
      }
    },
    {
      "cell_type": "code",
      "source": [
        "import numpy as np\n",
        "import matplotlib.pyplot as plt\n",
        "\n",
        "# 변환 행렬 T 정의\n",
        "T = np.array([[1, 0.5], [0, 0.5]])"
      ],
      "metadata": {
        "id": "Nu0u2zTK-ZfK"
      },
      "execution_count": null,
      "outputs": []
    },
    {
      "cell_type": "code",
      "source": [
        "# 원 위의 점들 생성\n",
        "theta = np.linspace(0, 2 * np.pi, 100)  # 0부터 2π까지 100개의 점 생성\n",
        "x = np.cos(theta)  # 원의 x좌표\n",
        "y = np.sin(theta)  # 원의 y좌표\n",
        "\n",
        "# 원 위의 점을 (x, y) 형식으로 저장\n",
        "points = np.vstack((x, y))\n",
        "\n",
        "# 변환 행렬 T를 적용한 점들 계산\n",
        "transformed_points = T @ points"
      ],
      "metadata": {
        "id": "r-USByS0gkLQ"
      },
      "execution_count": null,
      "outputs": []
    },
    {
      "cell_type": "code",
      "source": [
        "# 변환 후의 x와 y 좌표 분리\n",
        "x_transformed = transformed_points[0, :]\n",
        "y_transformed = transformed_points[1, :]\n",
        "\n",
        "# 시각화\n",
        "plt.figure(figsize=(8, 8))\n",
        "plt.scatter(x, y, label='Origin', color='blue', alpha=0.7)  # 변환 전의 원의 점들\n",
        "plt.scatter(x_transformed, y_transformed, label='Transformed', color='red', alpha=0.7)  # 변환 후의 점들\n",
        "plt.axhline(0, color='black', linewidth=0.5)\n",
        "plt.axvline(0, color='black', linewidth=0.5)\n",
        "plt.legend()\n",
        "plt.title('Points')\n",
        "plt.gca().set_aspect('equal')  # 축을 동일한 비율로 설정\n",
        "plt.grid(True)\n",
        "plt.show()"
      ],
      "metadata": {
        "colab": {
          "base_uri": "https://localhost:8080/",
          "height": 637
        },
        "id": "9gfoHzapgnN8",
        "outputId": "20103b30-d471-41b0-a402-7a7111abfae0"
      },
      "execution_count": null,
      "outputs": [
        {
          "output_type": "display_data",
          "data": {
            "text/plain": [
              "<Figure size 800x800 with 1 Axes>"
            ],
            "image/png": "[encoded data removed]"
          },
          "metadata": {}
        }
      ]
    }
  ],
  "metadata": {
    "colab": {
      "provenance": [],
      "toc_visible": true
    },
    "kernelspec": {
      "display_name": "Python 3",
      "name": "python3"
    }
  },
  "nbformat": 4,
  "nbformat_minor": 0
}