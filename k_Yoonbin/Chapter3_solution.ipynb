{
  "cells": [
    {
      "cell_type": "markdown",
      "source": [
        "# (2주차) Ch3 백터 응용 : 데이터 분석에서의 벡터"
      ],
      "metadata": {
        "id": "a3khWzVxlcnS"
      }
    },
    {
      "cell_type": "markdown",
      "source": [
        "## Ch3.1 상관관계와 코사인 유사도"
      ],
      "metadata": {
        "id": "o9tygh8zlxhB"
      }
    },
    {
      "cell_type": "markdown",
      "source": [
        "## Ch3.2 시계열 필터링과 특징 탐지"
      ],
      "metadata": {
        "id": "dYgGQ-tZmxY3"
      }
    },
    {
      "cell_type": "markdown",
      "source": [
        "## Ch3.3 k-평균 클러스터링"
      ],
      "metadata": {
        "id": "aCnUKhidm3Wp"
      }
    },
    {
      "cell_type": "code",
      "source": [
        "# step1 데이터 공간에서 임의 kro 중심점을 초기화 (중심 : 클래스or범주, 임의의 차원의 수로 일반화된 형태)\n",
        "# [그림 3-3] 왼쪽 상단 그림\n",
        "# data 변수 : 150개의 관측치와 2개의 특징 (150*2 형태)\n",
        "import numpy as np\n",
        "k=3\n",
        "ridx = np.random.choice(range(len(data)), k, replace=False)\n",
        "centroids = data[ridx, :]"
      ],
      "metadata": {
        "id": "9-RFIHZ9tnFH"
      },
      "execution_count": null,
      "outputs": []
    },
    {
      "cell_type": "code",
      "source": [
        "# step2 각 데이터 관측치와 각 중심 사이의 유클리드 거리를 계산\n",
        "# cent-roids[ci,:] : 1*2(특징별 군집 ci)\n",
        "dists = np.zeros((data.shape[0],k))\n",
        "for ci in range(k):\n",
        "  dists[:,ci] = np.sum((data-centroids[ci,:])**2, axis=1)"
      ],
      "metadata": {
        "id": "cxt6AZF_4vwY"
      },
      "execution_count": null,
      "outputs": []
    },
    {
      "cell_type": "code",
      "source": [
        "# step3 각 데이터 관측치를 가장 가까운 중심의 그룹에 할당\n",
        "groupidx = np.argmin(dists, axis=1)"
      ],
      "metadata": {
        "id": "LraJUlQ_41c9"
      },
      "execution_count": null,
      "outputs": []
    },
    {
      "cell_type": "markdown",
      "source": [
        "\n",
        "\n",
        "*   np.min      # 최솟값을 반환\n",
        "*   np.argmin   # 최솟값의 인덱스를 반환\n",
        "\n"
      ],
      "metadata": {
        "id": "Zci2sZhQ51Gm"
      }
    },
    {
      "cell_type": "code",
      "source": [
        "# step4 각 중심을 해당 중심에 할당된 모든 데이터 관측치의 평균으로 갱신\n",
        "for ki in range(k) :\n",
        "  centroids[ki, :] = [np.mean(data[groupidx==ki,0]),\n",
        "                      np.mean(data[groupidx==ki,1])]"
      ],
      "metadata": {
        "id": "lb5NGRJo457P"
      },
      "execution_count": null,
      "outputs": []
    },
    {
      "cell_type": "code",
      "source": [
        "# step5 수렴 기준을 만족할 때(or N회)까지 step2~4 반복"
      ],
      "metadata": {
        "id": "TaAcJbGq4_qg"
      },
      "execution_count": null,
      "outputs": []
    },
    {
      "cell_type": "markdown",
      "source": [
        "# Ch3 상관관계 연습문제"
      ],
      "metadata": {
        "id": "kkkcoSR-6Wku"
      }
    },
    {
      "cell_type": "markdown",
      "source": [
        "**[연습 문제 3-1]**\n",
        "\n",
        "두 벡터를 입력으로 받아 두 개의 수를 출력하는 파이썬 함수를 작성해라.\n",
        "\n",
        "두 개의 수는 피어슨 상관계수와 코사인 유사도이다.\n",
        "\n",
        "Ch.3 에 제시한 공식을 따라서 코드를 작성해라.\n",
        "\n",
        "(단순히 np.corrcoef와 spatial.distance.cosine을 호출하지마라.)\n",
        "\n",
        "변수들이 이미 평균중심화되어 있다면 두 출력 결과가 동일하고, 그렇지 않다면 결과가 서로 다른지 확인하여라."
      ],
      "metadata": {
        "id": "jY4R8SQY6iQ5"
      }
    },
    {
      "cell_type": "code",
      "source": [
        "# 피어슨 상관계수 함수\n",
        "def pearson_correlation(x, y):\n",
        "    # 벡터의 평균을 구함\n",
        "    mean_x = sum(x) / len(x)\n",
        "    mean_y = sum(y) / len(y)\n",
        "\n",
        "    # 분자: 편차 곱의 합\n",
        "    numerator = sum((xi - mean_x) * (yi - mean_y) for xi, yi in zip(x, y))\n",
        "\n",
        "    # 분모: 각 벡터의 편차 제곱의 합을 더하고 제곱근을 구함\n",
        "    denominator_x = sum((xi - mean_x) ** 2 for xi in x) ** 0.5\n",
        "    denominator_y = sum((yi - mean_y) ** 2 for yi in y) ** 0.5\n",
        "\n",
        "    # 분모가 0이 되는 경우를 대비하여 작은 값으로 설정\n",
        "    if denominator_x * denominator_y == 0:\n",
        "        return 0\n",
        "\n",
        "    return numerator / (denominator_x * denominator_y)\n",
        "\n",
        "# 코사인 유사도 함수\n",
        "def cosine_similarity(x, y):\n",
        "    # 벡터 내적 계산\n",
        "    dot_product = sum(xi * yi for xi, yi in zip(x, y))\n",
        "\n",
        "    # 벡터 크기(노름) 계산\n",
        "    norm_x = sum(xi**2 for xi in x) ** 0.5\n",
        "    norm_y = sum(yi**2 for yi in y) ** 0.5\n",
        "\n",
        "    # 분모가 0이 되는 경우를 대비하여 작은 값으로 설정\n",
        "    if norm_x * norm_y == 0:\n",
        "        return 0\n",
        "\n",
        "    return dot_product / (norm_x * norm_y)\n",
        "\n",
        "# 두 벡터 예시\n",
        "x = [1, 2, 3]\n",
        "y = [4, 5, 6]\n",
        "\n",
        "# 피어슨 상관계수와 코사인 유사도 계산\n",
        "pearson = pearson_correlation(x, y)\n",
        "cosine = cosine_similarity(x, y)\n",
        "\n",
        "# 결과 출력\n",
        "print(\"피어슨 상관계수:\", pearson)\n",
        "print(\"코사인 유사도:\", cosine)\n",
        "\n",
        "# 평균 중심화 여부에 따라 결과 비교\n",
        "if abs(pearson - cosine) < 1e-6:\n",
        "    print(\"벡터들이 평균 중심화 되어있습니다. 두 값이 동일합니다.\")\n",
        "else:\n",
        "    print(\"벡터들이 평균 중심화되지 않았습니다. 두 값이 다릅니다.\")"
      ],
      "metadata": {
        "colab": {
          "base_uri": "https://localhost:8080/"
        },
        "id": "fcUzP9UL9QCp",
        "outputId": "acd1eaec-7ac2-42ee-d524-b41fdb9b758e"
      },
      "execution_count": 1,
      "outputs": [
        {
          "output_type": "stream",
          "name": "stdout",
          "text": [
            "피어슨 상관계수: 0.9999999999999998\n",
            "코사인 유사도: 0.9746318461970762\n",
            "벡터들이 평균 중심화되지 않았습니다. 두 값이 다릅니다.\n"
          ]
        }
      ]
    },
    {
      "cell_type": "markdown",
      "source": [
        "**[연습 문제 3-2]**\n",
        "\n",
        "0에서 3까지의 정수를 가진 변수와 이 변수에 특정 오프셋을 더한 두 번째 변수를 만들어라.\n",
        "\n",
        "시스템적으로 오프셋을 -50에서 +50까지 변경하는 시뮬레이션을 만들어라.\n",
        "\n",
        "(즉, 시뮬레이션의 첫번째 반복에서는 두번째 변수가 [-50,-49,-48,-47]이 된다.)\n",
        "\n",
        "for 루프에서 두 변수간의 상관관계와 코사인 유사도를 계산하고 결과를 저장하라.\n",
        "\n",
        "그리고 평균 오프셋이 상관관계와 코사인 유사성에 어떻게 영향을 주는지 보여주는 선 그래프를 그려라."
      ],
      "metadata": {
        "id": "OxhxDI9B6ydM"
      }
    },
    {
      "cell_type": "code",
      "source": [
        "import numpy as np\n",
        "import matplotlib.pyplot as plt\n",
        "\n",
        "# 첫 번째 변수 (고정된 값)\n",
        "x = [0, 1, 2, 3]\n",
        "\n",
        "# 오프셋 값 범위 설정 (-50부터 50까지)\n",
        "offsets = range(-50, 51)\n",
        "\n",
        "# 결과 저장을 위한 리스트\n",
        "pearson_results = []\n",
        "cosine_results = []\n",
        "\n",
        "# 오프셋을 -50부터 50까지 변화시키면서 상관계수와 유사도를 계산\n",
        "for offset in offsets:\n",
        "    # 두 번째 변수 (오프셋을 더한 값)\n",
        "    y = [xi + offset for xi in x]\n",
        "\n",
        "    # 피어슨 상관계수 계산\n",
        "    pearson = pearson_correlation(x, y)\n",
        "    pearson_results.append(pearson)\n",
        "\n",
        "    # 코사인 유사도 계산\n",
        "    cosine = cosine_similarity(x, y)\n",
        "    cosine_results.append(cosine)\n",
        "\n",
        "# 그래프 그리기\n",
        "plt.plot(offsets, pearson_results, label='Pearson Correlation', color='blue')\n",
        "plt.plot(offsets, cosine_results, label='Cosine Similarity', color='red')\n",
        "plt.xlabel('Offset')\n",
        "plt.ylabel('Value')\n",
        "plt.title('Effect of Offset on Pearson Correlation and Cosine Similarity')\n",
        "plt.legend()\n",
        "plt.grid(True)\n",
        "plt.show()"
      ],
      "metadata": {
        "colab": {
          "base_uri": "https://localhost:8080/",
          "height": 472
        },
        "id": "GPqZYUQe9QwH",
        "outputId": "878f986e-69a0-4514-cccb-1769e44c6205"
      },
      "execution_count": 3,
      "outputs": [
        {
          "output_type": "display_data",
          "data": {
            "text/plain": [
              "<Figure size 640x480 with 1 Axes>"
            ],
            "image/png": "[encoded data removed]"
          },
          "metadata": {}
        }
      ]
    }
  ],
  "metadata": {
    "colab": {
      "provenance": []
    },
    "kernelspec": {
      "display_name": "Python 3",
      "name": "python3"
    }
  },
  "nbformat": 4,
  "nbformat_minor": 0
}
