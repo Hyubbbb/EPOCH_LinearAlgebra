{
  "cells": [
    {
      "cell_type": "markdown",
      "source": [
        "# (3주차) Ch5 행렬, Part2 : 행렬의 확장 개념"
      ],
      "metadata": {
        "id": "a3khWzVxlcnS"
      }
    },
    {
      "cell_type": "markdown",
      "source": [
        "## Ch5.1 행렬 노름"
      ],
      "metadata": {
        "id": "QvhGhhVXbcK7"
      }
    },
    {
      "cell_type": "markdown",
      "source": [
        "5.1.1 행렬의 대각합과 프로베니우스 노름"
      ],
      "metadata": {
        "id": "hViH666AxWNX"
      }
    },
    {
      "cell_type": "markdown",
      "source": [
        "## Ch5.2 행렬 공간(열, 행, 영)"
      ],
      "metadata": {
        "id": "CSTlHwV4bfEq"
      }
    },
    {
      "cell_type": "markdown",
      "source": [
        "5.2.1 열공간"
      ],
      "metadata": {
        "id": "_jsSEHzAxZpX"
      }
    },
    {
      "cell_type": "markdown",
      "source": [
        "5.2.2 행공간"
      ],
      "metadata": {
        "id": "dKHej4CdxcAZ"
      }
    },
    {
      "cell_type": "markdown",
      "source": [
        "### 5.2.3 영공간\n",
        "열공간 Ax = b\n",
        "영공간 Ay = 0"
      ],
      "metadata": {
        "id": "CPzXGX4zvn44"
      }
    },
    {
      "cell_type": "code",
      "source": [
        "# SciPy 라이브러리\n",
        "A = np.array([[1,-1],[-2,2]])\n",
        "B = np.array([1,-1], [-2,3])\n",
        "\n",
        "print(scipy.linalg.null_space(A))\n",
        "print(scipy.linalg.null_space(B))"
      ],
      "metadata": {
        "id": "G8h6uYNhv0tc"
      },
      "execution_count": null,
      "outputs": []
    },
    {
      "cell_type": "markdown",
      "source": [
        "## Ch5.3 계수"
      ],
      "metadata": {
        "id": "DxDVD2wkbhva"
      }
    },
    {
      "cell_type": "markdown",
      "source": [
        "5.3.1 특수 행렬의 계수"
      ],
      "metadata": {
        "id": "t5PL75BwxfG1"
      }
    },
    {
      "cell_type": "markdown",
      "source": [
        "5.3.2 덧셈 및 곱셈 행렬의 개수"
      ],
      "metadata": {
        "id": "JNDpC3OkxhAk"
      }
    },
    {
      "cell_type": "markdown",
      "source": [
        "5.3.3 이동된 행렬의 계수"
      ],
      "metadata": {
        "id": "nW74syyxxjmJ"
      }
    },
    {
      "cell_type": "markdown",
      "source": [
        "### 5.3.4 이론과 실제"
      ],
      "metadata": {
        "id": "5IzoprTWwTCg"
      }
    },
    {
      "cell_type": "code",
      "source": [
        "# NumPy가 0이 아닌 특잇값을 세지 않음\n",
        "S = svd(M)\n",
        "return count_nonzero(S>tol)\n",
        "# M은 행렬\n",
        "# S는 특잇값 벡터\n",
        "# tol은 허용 임곗값"
      ],
      "metadata": {
        "id": "-mrU2IqAwSgC"
      },
      "execution_count": null,
      "outputs": []
    },
    {
      "cell_type": "markdown",
      "source": [
        "## Ch5.4 계수 응용"
      ],
      "metadata": {
        "id": "9T5i9JWMbiwc"
      }
    },
    {
      "cell_type": "markdown",
      "source": [
        "5.4.1 벡터가 열공간에 존재하나요?\n",
        "\n",
        "\n",
        "> 실제로는 거의 모든 데이터 벡터가 열공간에 없기 때문에 열공간의 데이터와 충분히 가까운지를 확인하여 통계적으로 유의미를 간주\n",
        "\n"
      ],
      "metadata": {
        "id": "P-bvgSLSwsNl"
      }
    },
    {
      "cell_type": "markdown",
      "source": [
        "5.4.2 벡터 집합의 선형 독립성"
      ],
      "metadata": {
        "id": "tqP0bhg9xC8t"
      }
    },
    {
      "cell_type": "markdown",
      "source": [
        "## Ch5.5 행렬식"
      ],
      "metadata": {
        "id": "oRNupZG7bk0K"
      }
    },
    {
      "cell_type": "markdown",
      "source": [
        "5.5.1 행렬식 계산"
      ],
      "metadata": {
        "id": "GKvctq8AxHTa"
      }
    },
    {
      "cell_type": "markdown",
      "source": [
        "5.5.2 선형 종속성과 행렬식"
      ],
      "metadata": {
        "id": "0KP1iMA-xJyS"
      }
    },
    {
      "cell_type": "markdown",
      "source": [
        "5.5.3 특성 다항식"
      ],
      "metadata": {
        "id": "sasSbY7oxMgi"
      }
    },
    {
      "cell_type": "markdown",
      "source": [
        "## Ch5.6 정리"
      ],
      "metadata": {
        "id": "cHrdNXcFbmE5"
      }
    },
    {
      "cell_type": "markdown",
      "source": [
        "\n",
        "\n",
        "*   행렬 노름에는 많은 종류, 원소별과 유도별로 크게 분류 가능\n",
        "  *   원소별 : 행렬의 원소의 크기를 반영\n",
        "    *   가장 일반적 : 프로베니우스 노름( = 유클리드 노름)\n",
        "    *   원소의 제곱합의 제곱근으로 계산\n",
        "  *   유도별 : 벡터에 대한 행렬의 기하학적 변환 효과를 반영\n",
        "*   행렬의 대각합 = 대각 원소의 합\n",
        "*   네 개의 행렬 공간(열, 행, 영, 왼쪽-영)\n",
        "  * 서로 다른 특징의 선형 가중 결합 집합으로 정의\n",
        "* 행렬의 열공간은 행렬에 있는 열의 모든 선형 가중 결합으로 구성되며 C(A)로 나타남\n",
        "* 선형대수학에서 중요한 부분은 어떤 벡터 b가 행렬의 열공간에 존재하는지의 여부\n",
        "  * Ax = b를 만족하는 벡터 x가 존재한다는 것\n",
        "  * 이 부분을 아는 것이 많은 통계 모델 적합 알고리즘의 기초\n",
        "* 행렬의 행공간은 행렬의 행에 대한 선형 가중 결합 집합\n",
        "  * R(A), C(A^T)로 나타냄\n",
        "* 행렬의 영공간은 열을 선형으로 결합하여 영벡터를 생성하는 벡터 집합.\n",
        "  * 방정식 Ay=0을 만족하는 벡터 y\n",
        "  * y=0인 자명한 해는 제외\n",
        "  * 영공간은 다른 응용 중에서도 고유벡터를 찾는데 중요\n",
        "\n"
      ],
      "metadata": {
        "id": "8ESSIs9RxRxt"
      }
    },
    {
      "cell_type": "markdown",
      "source": [
        "# Ch5 연습문제"
      ],
      "metadata": {
        "id": "kkkcoSR-6Wku"
      }
    },
    {
      "cell_type": "markdown",
      "source": [
        "**[연습 문제 5-3]**\n",
        "\n",
        "대각합 연산과 유클리드 공식의 결과(프로베니우스 노름)가 동일하다는 것을 구현하라.\n",
        "\n",
        "대각합 공식은 A^TA에서만 동작하는가?\n",
        "\n",
        "아니라면 AA^T에서도 결과가 동일한가?"
      ],
      "metadata": {
        "id": "jY4R8SQY6iQ5"
      }
    },
    {
      "cell_type": "code",
      "source": [
        "import numpy as np\n",
        "\n",
        "A = np.array([[1, 2, 3],\n",
        "              [4, 5, 6]])\n",
        "\n",
        "# A^T * A와 A * A^T 계산\n",
        "ATA = A.T @ A\n",
        "AAT = A @ A.T\n",
        "\n",
        "# 대각합 연산 계산\n",
        "trace_ATA = np.trace(ATA)\n",
        "trace_AAT = np.trace(AAT)\n",
        "\n",
        "# 프로베니우스 노름 계산\n",
        "frobenius_norm = np.linalg.norm(A, 'fro') ** 2\n",
        "\n",
        "print(f\"A^T * A의 대각합: {trace_ATA}\")\n",
        "print(f\"A * A^T의 대각합: {trace_AAT}\")\n",
        "print(f\"A의 프로베니우스 노름의 제곱: {frobenius_norm}\")\n",
        "\n",
        "# 비교\n",
        "print(f\"A^T * A의 대각합과 프로베니우스 노름이 같은가? {np.isclose(trace_ATA, frobenius_norm)}\")\n",
        "print(f\"A * A^T의 대각합과 프로베니우스 노름이 같은가? {np.isclose(trace_AAT, frobenius_norm)}\")"
      ],
      "metadata": {
        "id": "MHIYF9mVbbXI",
        "colab": {
          "base_uri": "https://localhost:8080/"
        },
        "outputId": "d0c5e3e2-8350-46b7-91b3-0bc0864ea3e8"
      },
      "execution_count": null,
      "outputs": [
        {
          "output_type": "stream",
          "name": "stdout",
          "text": [
            "A^T * A의 대각합: 91\n",
            "A * A^T의 대각합: 91\n",
            "A의 프로베니우스 노름의 제곱: 91.0\n",
            "A^T * A의 대각합과 프로베니우스 노름이 같은가? True\n",
            "A * A^T의 대각합과 프로베니우스 노름이 같은가? True\n"
          ]
        }
      ]
    },
    {
      "cell_type": "markdown",
      "source": [
        "*두 경우에서 대각합이 행렬의 프로베니우스 노름의 제곱과 동일하게 나옴!!!*\n",
        "\n",
        "> *프로베니우스 노름은 모든 성분의 제곱합이기 때문에 대각합을 구할 때 결국 동일한 결과가 나온다!!!!*\n",
        "\n"
      ],
      "metadata": {
        "id": "rMGeUdMBIsVx"
      }
    },
    {
      "cell_type": "markdown",
      "source": [
        "**[연습 문제 5-4]**\n",
        "\n",
        "행렬 이동이 행렬 노름에 미치는 영향\n",
        "\n",
        "10X10 난수 행렬을 만들고 프로베니우스 노름을 계산\n",
        "\n",
        "for문 내부에 다음 단계를 코딩\n",
        "\n",
        "  1. 노름의 일부만큼 행렬을 이동\n",
        "\n",
        "  2. 원래 행렬에서 노름의 변화율을 계산\n",
        "\n",
        "  3. 이동된 행렬과 원래 행렬 사이의 프로베니우스 거리 계산\n",
        "\n",
        "  4. 행렬의 원소 사이의 상관계수 계산\n",
        "  \n",
        "    (힌트 : np.flatten()을 사용해서 벡터화된 행렬의 상관관계를 계산)\n",
        "\n",
        "이동시킬 값인 노름의 비율은 0에서 1사이를 30개의 단계로 나누어 진행\n",
        "\n",
        "루프의 각 반복에서는 이전 반복에서 이동된 행렬이 아닌 원래 행렬을 사용"
      ],
      "metadata": {
        "id": "xU7WiGqaz36p"
      }
    },
    {
      "cell_type": "code",
      "source": [
        "import numpy as np\n",
        "\n",
        "original_matrix = np.random.rand(10, 10)\n",
        "\n",
        "# 원래 행렬의 프로베니우스 노름 계산\n",
        "original_norm = np.linalg.norm(original_matrix, 'fro')\n",
        "\n",
        "# 이동 비율 설정 (30단계)\n",
        "ratios = np.linspace(0, 1, 30)\n",
        "\n",
        "# 결과 저장\n",
        "norm_changes = []\n",
        "frobenius_distances = []\n",
        "correlations = []"
      ],
      "metadata": {
        "id": "2YG_Xldq0x1R"
      },
      "execution_count": null,
      "outputs": []
    },
    {
      "cell_type": "code",
      "source": [
        "# for문을 통한 이동 및 계산\n",
        "for ratio in ratios:\n",
        "    # 이동할 값 계산 (원래 행렬의 노름에 대한 비율)\n",
        "    shift_value = ratio * original_norm\n",
        "\n",
        "    # 행렬 이동 (각 원소에 shift_value를 더함)\n",
        "    shifted_matrix = original_matrix + shift_value\n",
        "\n",
        "    # 이동된 행렬의 프로베니우스 노름 계산\n",
        "    shifted_norm = np.linalg.norm(shifted_matrix, 'fro')\n",
        "\n",
        "    # 노름의 변화율 계산\n",
        "    norm_change_rate = (shifted_norm - original_norm) / original_norm\n",
        "    norm_changes.append(norm_change_rate)\n",
        "\n",
        "    # 이동된 행렬과 원래 행렬 사이의 프로베니우스 거리 계산\n",
        "    frobenius_distance = np.linalg.norm(shifted_matrix - original_matrix, 'fro')\n",
        "    frobenius_distances.append(frobenius_distance)\n",
        "\n",
        "    # 원래 행렬과 이동된 행렬 사이의 상관계수 계산\n",
        "    original_flat = original_matrix.flatten()\n",
        "    shifted_flat = shifted_matrix.flatten()\n",
        "    correlation = np.corrcoef(original_flat, shifted_flat)[0, 1]\n",
        "    correlations.append(correlation)"
      ],
      "metadata": {
        "id": "sC_4SIMGJpIN"
      },
      "execution_count": null,
      "outputs": []
    },
    {
      "cell_type": "code",
      "source": [
        "# 결과\n",
        "print(\"노름의 변화율:\", norm_changes)\n",
        "print(\"프로베니우스 거리:\", frobenius_distances)\n",
        "print(\"상관계수:\", correlations)"
      ],
      "metadata": {
        "colab": {
          "base_uri": "https://localhost:8080/"
        },
        "id": "As22jmblJrZZ",
        "outputId": "807e1203-1df4-4ab5-9ea9-30f0568ae48f"
      },
      "execution_count": null,
      "outputs": [
        {
          "output_type": "stream",
          "name": "stdout",
          "text": [
            "노름의 변화율: [0.0, 0.31006749270233847, 0.6341253927680496, 0.9652650944749983, 1.3004304189113967, 1.6380874627961923, 1.9773886106604543, 2.317829493032648, 2.6590920020139586, 3.000965901127665, 3.343306820061028, 3.6860124042526308, 4.029008103080463, 4.372238348892104, 4.715660887612514, 5.059243023305681, 5.4029590641509015, 5.746788544731809, 6.090714962955085, 6.434724865981551, 6.778807177725401, 7.122952696651546, 7.467153715639246, 7.811403730672373, 8.155697215066093, 8.500029442662248, 8.844396348042308, 9.188794415026068, 9.533220587000093, 9.877672194249898]\n",
            "프로베니우스 거리: [0.0, 2.118272147510085, 4.23654429502017, 6.3548164425302565, 8.47308859004034, 10.591360737550426, 12.709632885060513, 14.827905032570596, 16.94617718008068, 19.064449327590772, 21.182721475100852, 23.30099362261094, 25.419265770121026, 27.537537917631113, 29.65581006514119, 31.77408221265129, 33.89235436016136, 36.01062650767145, 38.128898655181544, 40.24717080269162, 42.365442950201704, 44.483715097711794, 46.60198724522188, 48.72025939273196, 50.83853154024205, 52.956803687752135, 55.075075835262226, 57.19334798277231, 59.31162013028238, 61.42989227779249]\n",
            "상관계수: [0.9999999999999998, 0.9999999999999998, 0.9999999999999998, 0.9999999999999998, 1.0, 0.9999999999999998, 1.0, 1.0, 1.0, 1.0, 1.0, 1.0, 1.0, 0.9999999999999998, 1.0, 1.0, 1.0, 1.0, 1.0, 1.0, 1.0, 1.0, 1.0, 1.0, 1.0, 1.0, 1.0, 1.0, 1.0, 1.0]\n"
          ]
        }
      ]
    },
    {
      "cell_type": "markdown",
      "source": [
        "**[연습 문제 5-5]**\n",
        "\n",
        "임의의 계수를(행렬 크기 등에 대한 제약 조건에 따라) 가진 난수 행렬을 만들어라.\n",
        "\n",
        "계수가 r인 MXN 행렬을 만들려면 난수 MXr 행렬에 rXN 행렬을 곱하여야 한다.\n",
        "\n",
        "python에서 이를 구현하고 계수가 실제로 r인지 확인하여라.\n",
        "\n",
        "\\( r > \\min(M, N) \\)을 설정하면 어떻게 되고 그 이유가 무엇인지 설명하여라."
      ],
      "metadata": {
        "id": "8mg4dUMD0zyn"
      }
    },
    {
      "cell_type": "code",
      "source": [
        "import numpy as np\n",
        "\n",
        "# 행렬의 크기 및 계수 설정\n",
        "M = 5  # 행의 수\n",
        "N = 4  # 열의 수\n",
        "r = 3  # 계수 (rank)\n",
        "\n",
        "# 난수 행렬 생성\n",
        "A = np.random.rand(M, r)  # MxR 행렬\n",
        "B = np.random.rand(r, N)  # RxN 행렬"
      ],
      "metadata": {
        "id": "horTR7I61ge1"
      },
      "execution_count": null,
      "outputs": []
    },
    {
      "cell_type": "code",
      "source": [
        "# 두 행렬의 곱을 통해 MxN 행렬 생성\n",
        "C = A @ B\n",
        "\n",
        "# 결과 행렬의 계수 계산\n",
        "rank_C = np.linalg.matrix_rank(C)\n",
        "\n",
        "# 결과 출력\n",
        "print(f\"MxN 행렬의 크기: {M}x{N}\")\n",
        "print(f\"생성된 행렬의 계수 (rank): {rank_C}\")\n",
        "print(f\"설정한 계수 r: {r}\")"
      ],
      "metadata": {
        "colab": {
          "base_uri": "https://localhost:8080/"
        },
        "id": "DFooPhsBKidv",
        "outputId": "017f1727-569a-478a-80b1-4b3c34a703c1"
      },
      "execution_count": null,
      "outputs": [
        {
          "output_type": "stream",
          "name": "stdout",
          "text": [
            "MxN 행렬의 크기: 5x4\n",
            "생성된 행렬의 계수 (rank): 3\n",
            "설정한 계수 r: 3\n"
          ]
        }
      ]
    },
    {
      "cell_type": "code",
      "source": [
        "# r > min(M, N)인 경우\n",
        "r_too_large = 6  # r > min(M, N)인 경우 (min(5, 4) = 4)\n",
        "A_large = np.random.rand(M, r_too_large)\n",
        "B_large = np.random.rand(r_too_large, N)\n",
        "C_large = A_large @ B_large\n",
        "rank_C_large = np.linalg.matrix_rank(C_large)\n",
        "\n",
        "print(f\"\\n(r > min(M, N)) MxN 행렬의 계수: {rank_C_large}\")"
      ],
      "metadata": {
        "colab": {
          "base_uri": "https://localhost:8080/"
        },
        "id": "A8ICErSyKnX8",
        "outputId": "808b97cc-5ab5-4b97-c799-60cca5890b18"
      },
      "execution_count": null,
      "outputs": [
        {
          "output_type": "stream",
          "name": "stdout",
          "text": [
            "\n",
            "(r > min(M, N)) MxN 행렬의 계수: 4\n"
          ]
        }
      ]
    },
    {
      "cell_type": "markdown",
      "source": [
        "> *행렬의 계수는 행렬의 **작은 차원**인 \\( \\min(M, N) \\)보다 클 수 없다!!*\n",
        "\n",
        "*\\( r > \\min(M, N) \\)를 설정하면, 행렬의 계수는 최대 \\( \\min(M, N) \\)로 제한되는 것.*"
      ],
      "metadata": {
        "id": "seu-HM0oKvXc"
      }
    },
    {
      "cell_type": "markdown",
      "source": [
        "**[연습 문제 5-6]**\n",
        "\n",
        "더한 결과가 (1) 계수-0, (2) 계수-1, (3) 계수-2가 되는 세 쌍의 계수-1 행렬을 만들어라.\n",
        "\n",
        "그리고 이를 이용하여 행렬 계수(r(A+B)<=r(A)+r(B))의 덧셈 법칙을 구현하여라.\n",
        "\n",
        "그 후 덧셈 대신 행렬 곱셈에 대해서도 이 문제를 풀어보어라."
      ],
      "metadata": {
        "id": "x6wRhabc04Vt"
      }
    },
    {
      "cell_type": "code",
      "source": [
        "import numpy as np\n",
        "\n",
        "# 2x2 계수-1 행렬 생성 함수\n",
        "def create_rank_1_matrix():\n",
        "    u = np.random.rand(2, 1)  # 2x1 벡터\n",
        "    v = np.random.rand(1, 2)  # 1x2 벡터\n",
        "    return u @ v  # 2x2 계수-1 행렬 생성\n",
        "\n",
        "# 세 쌍의 계수-1 행렬 생성\n",
        "A1, B1 = create_rank_1_matrix(), -create_rank_1_matrix()  # 계수-0이 되도록 더할 쌍\n",
        "A2, B2 = create_rank_1_matrix(), create_rank_1_matrix()   # 계수-1이 되도록 더할 쌍\n",
        "A3, B3 = create_rank_1_matrix(), np.array([[1, 0], [0, 1]])  # 계수-2가 되도록 더할 쌍"
      ],
      "metadata": {
        "id": "sR4LS6r81k4E"
      },
      "execution_count": null,
      "outputs": []
    },
    {
      "cell_type": "code",
      "source": [
        "# 덧셈과 계수 확인\n",
        "sum1 = A1 + B1\n",
        "sum2 = A2 + B2\n",
        "sum3 = A3 + B3\n",
        "\n",
        "rank_sum1 = np.linalg.matrix_rank(sum1)\n",
        "rank_sum2 = np.linalg.matrix_rank(sum2)\n",
        "rank_sum3 = np.linalg.matrix_rank(sum3)\n",
        "\n",
        "# 계수의 덧셈 법칙 확인: r(A + B) <= r(A) + r(B)\n",
        "print(f\"(1) 계수-0: r(A1 + B1) = {rank_sum1}, r(A1) + r(B1) = {np.linalg.matrix_rank(A1) + np.linalg.matrix_rank(B1)}\")\n",
        "print(f\"(2) 계수-1: r(A2 + B2) = {rank_sum2}, r(A2) + r(B2) = {np.linalg.matrix_rank(A2) + np.linalg.matrix_rank(B2)}\")\n",
        "print(f\"(3) 계수-2: r(A3 + B3) = {rank_sum3}, r(A3) + r(B3) = {np.linalg.matrix_rank(A3) + np.linalg.matrix_rank(B3)}\")"
      ],
      "metadata": {
        "colab": {
          "base_uri": "https://localhost:8080/"
        },
        "id": "VfYTdqOEL6SD",
        "outputId": "95a24456-f7da-4bbb-f1ab-9e15dbf9f876"
      },
      "execution_count": null,
      "outputs": [
        {
          "output_type": "stream",
          "name": "stdout",
          "text": [
            "(1) 계수-0: r(A1 + B1) = 2, r(A1) + r(B1) = 2\n",
            "(2) 계수-1: r(A2 + B2) = 2, r(A2) + r(B2) = 2\n",
            "(3) 계수-2: r(A3 + B3) = 2, r(A3) + r(B3) = 3\n"
          ]
        }
      ]
    },
    {
      "cell_type": "code",
      "source": [
        "# 곱셈과 계수 확인\n",
        "prod1 = A1 @ B1\n",
        "prod2 = A2 @ B2\n",
        "prod3 = A3 @ B3\n",
        "\n",
        "rank_prod1 = np.linalg.matrix_rank(prod1)\n",
        "rank_prod2 = np.linalg.matrix_rank(prod2)\n",
        "rank_prod3 = np.linalg.matrix_rank(prod3)\n",
        "\n",
        "# 행렬 곱셈의 계수 확인\n",
        "print(f\"\\n(1) 계수-0: r(A1 @ B1) = {rank_prod1}\")\n",
        "print(f\"(2) 계수-1: r(A2 @ B2) = {rank_prod2}\")\n",
        "print(f\"(3) 계수-2: r(A3 @ B3) = {rank_prod3}\")"
      ],
      "metadata": {
        "colab": {
          "base_uri": "https://localhost:8080/"
        },
        "id": "AwMV0_YPL8aF",
        "outputId": "46a7f5e6-2eac-42f0-d6d1-97dacc3790e2"
      },
      "execution_count": null,
      "outputs": [
        {
          "output_type": "stream",
          "name": "stdout",
          "text": [
            "\n",
            "(1) 계수-0: r(A1 @ B1) = 1\n",
            "(2) 계수-1: r(A2 @ B2) = 1\n",
            "(3) 계수-2: r(A3 @ B3) = 1\n"
          ]
        }
      ]
    },
    {
      "cell_type": "markdown",
      "source": [
        "**[연습 문제 5-7]**\n",
        "\n",
        "[연습 문제 5-5]의 코드를 매개변수 M과 r을 입력으로 받아 계수-r인 MXM 난수 행렬을 출력하는 python 함수에 넣어라.\n",
        "\n",
        "이중 for 루프에서 2부터 15까지의 각 계수를 가지는 20X20 행렬 쌍을 만들어라.\n",
        "\n",
        "이 행렬들을 더한 결과 행렬의 계수와 곱한 결과 행렬의 계수를 저장하여라\n",
        "\n",
        "(이 계수를 행렬로 만들어서 개별 행렬의 계수로 시각화 할 수 있음)"
      ],
      "metadata": {
        "id": "IVNZDvS-055-"
      }
    },
    {
      "cell_type": "code",
      "source": [
        "import numpy as np\n",
        "import matplotlib.pyplot as plt\n",
        "\n",
        "# 계수-r인 MxM 난수 행렬을 생성하는 함수\n",
        "def create_random_rank_matrix(M, r):\n",
        "    A = np.random.rand(M, r)  # MxR 행렬\n",
        "    B = np.random.rand(r, M)  # RxM 행렬\n",
        "    return A @ B  # 결과적으로 MxM 계수-r 행렬 생성\n",
        "\n",
        "# 행렬 크기 및 계수 범위 설정\n",
        "M = 20\n",
        "rank_range = range(2, 16)  # 2부터 15까지의 계수\n",
        "\n",
        "# 결과를 저장할 행렬 초기화\n",
        "sum_ranks = np.zeros((len(rank_range), len(rank_range)))\n",
        "product_ranks = np.zeros((len(rank_range), len(rank_range)))"
      ],
      "metadata": {
        "id": "5k2NnJ7O2mmI"
      },
      "execution_count": null,
      "outputs": []
    },
    {
      "cell_type": "code",
      "source": [
        "# 이중 for 루프를 통해 행렬 생성 및 연산\n",
        "for i, r1 in enumerate(rank_range):\n",
        "    for j, r2 in enumerate(rank_range):\n",
        "        # 계수-r1과 계수-r2인 행렬 생성\n",
        "        A = create_random_rank_matrix(M, r1)\n",
        "        B = create_random_rank_matrix(M, r2)\n",
        "\n",
        "        # 행렬 덧셈 및 곱셈\n",
        "        sum_matrix = A + B\n",
        "        product_matrix = A @ B\n",
        "\n",
        "        # 덧셈 결과의 계수 저장\n",
        "        sum_ranks[i, j] = np.linalg.matrix_rank(sum_matrix)\n",
        "\n",
        "        # 곱셈 결과의 계수 저장\n",
        "        product_ranks[i, j] = np.linalg.matrix_rank(product_matrix)"
      ],
      "metadata": {
        "id": "gOoI7RV_Mptf"
      },
      "execution_count": null,
      "outputs": []
    },
    {
      "cell_type": "code",
      "source": [
        "# 결과 시각화\n",
        "fig, axs = plt.subplots(1, 2, figsize=(12, 5))\n",
        "\n",
        "# 덧셈 결과의 계수 시각화\n",
        "axs[0].imshow(sum_ranks, cmap='viridis', origin='upper')\n",
        "axs[0].set_title('Sum of Matrices Ranks')\n",
        "axs[0].set_xlabel('Rank of B')\n",
        "axs[0].set_ylabel('Rank of A')\n",
        "axs[0].set_xticks(np.arange(len(rank_range)))\n",
        "axs[0].set_yticks(np.arange(len(rank_range)))\n",
        "axs[0].set_xticklabels(rank_range)\n",
        "axs[0].set_yticklabels(rank_range)\n",
        "\n",
        "# 곱셈 결과의 계수 시각화\n",
        "axs[1].imshow(product_ranks, cmap='viridis', origin='upper')\n",
        "axs[1].set_title('Product of Matrices Ranks')\n",
        "axs[1].set_xlabel('Rank of B')\n",
        "axs[1].set_ylabel('Rank of A')\n",
        "axs[1].set_xticks(np.arange(len(rank_range)))\n",
        "axs[1].set_yticks(np.arange(len(rank_range)))\n",
        "axs[1].set_xticklabels(rank_range)\n",
        "axs[1].set_yticklabels(rank_range)\n",
        "\n",
        "# 그래프 보여주기\n",
        "plt.tight_layout()\n",
        "plt.show()\n"
      ],
      "metadata": {
        "colab": {
          "base_uri": "https://localhost:8080/",
          "height": 507
        },
        "id": "vd3GGjlKMinZ",
        "outputId": "e18dd88c-31ab-49fe-a201-2c9a6b7e2bcd"
      },
      "execution_count": null,
      "outputs": [
        {
          "output_type": "display_data",
          "data": {
            "text/plain": [
              "<Figure size 1200x500 with 2 Axes>"
            ],
            "image/png": "[encoded data removed]"
          },
          "metadata": {}
        }
      ]
    },
    {
      "cell_type": "markdown",
      "source": [
        "흐음...."
      ],
      "metadata": {
        "id": "caMzjYK4i16D"
      }
    },
    {
      "cell_type": "markdown",
      "source": [
        "**[연습 문제 5-8]**\n",
        "\n",
        "행렬 A, A^T, A^T, AA^T의 계수는 모두 동일함.\n",
        "\n",
        "다양한 크기나 모양(정방, 높은, 넓은), 계수의 난수 행렬을 사용하여 이를 구현하는 코드를 작성하여라."
      ],
      "metadata": {
        "id": "YSEQmXIA07Uh"
      }
    },
    {
      "cell_type": "code",
      "source": [
        "import numpy as np\n",
        "\n",
        "# 다양한 크기와 모양의 행렬 생성\n",
        "matrices = {\n",
        "    \"정방 행렬 (5x5)\": np.random.rand(5, 5),\n",
        "    \"높은 행렬 (6x4)\": np.random.rand(6, 4),\n",
        "    \"넓은 행렬 (4x6)\": np.random.rand(4, 6)\n",
        "}"
      ],
      "metadata": {
        "id": "xG0y63BR2nDp"
      },
      "execution_count": null,
      "outputs": []
    },
    {
      "cell_type": "code",
      "source": [
        "# 각 행렬의 계수를 저장하고 출력하는 함수\n",
        "def check_matrix_ranks(matrix, name):\n",
        "    # 행렬의 계수\n",
        "    rank_A = np.linalg.matrix_rank(matrix)\n",
        "\n",
        "    # 전치 행렬의 계수\n",
        "    rank_AT = np.linalg.matrix_rank(matrix.T)\n",
        "\n",
        "    # A^T A의 계수\n",
        "    rank_ATA = np.linalg.matrix_rank(matrix.T @ matrix)\n",
        "\n",
        "    # AA^T의 계수\n",
        "    rank_AAT = np.linalg.matrix_rank(matrix @ matrix.T)\n",
        "    # 결과 출력\n",
        "    print(f\"\\n{name}:\")\n",
        "    print(f\"  A의 계수: {rank_A}\")\n",
        "    print(f\"  A^T의 계수: {rank_AT}\")\n",
        "    print(f\"  A^T A의 계수: {rank_ATA}\")\n",
        "    print(f\"  A A^T의 계수: {rank_AAT}\")\n",
        "    print(f\"  모두 동일한가? {rank_A == rank_AT == rank_ATA == rank_AAT}\")"
      ],
      "metadata": {
        "id": "APHU0ypTNMje"
      },
      "execution_count": null,
      "outputs": []
    },
    {
      "cell_type": "code",
      "source": [
        "# 각 행렬에 대해 계수 확인\n",
        "for name, matrix in matrices.items():\n",
        "    check_matrix_ranks(matrix, name)"
      ],
      "metadata": {
        "colab": {
          "base_uri": "https://localhost:8080/"
        },
        "id": "dUl4U6WlNPp4",
        "outputId": "3a69a8b4-042d-4f57-a16e-18eb83018248"
      },
      "execution_count": null,
      "outputs": [
        {
          "output_type": "stream",
          "name": "stdout",
          "text": [
            "\n",
            "정방 행렬 (5x5):\n",
            "  A의 계수: 5\n",
            "  A^T의 계수: 5\n",
            "  A^T A의 계수: 5\n",
            "  A A^T의 계수: 5\n",
            "  모두 동일한가? True\n",
            "\n",
            "높은 행렬 (6x4):\n",
            "  A의 계수: 4\n",
            "  A^T의 계수: 4\n",
            "  A^T A의 계수: 4\n",
            "  A A^T의 계수: 4\n",
            "  모두 동일한가? True\n",
            "\n",
            "넓은 행렬 (4x6):\n",
            "  A의 계수: 4\n",
            "  A^T의 계수: 4\n",
            "  A^T A의 계수: 4\n",
            "  A A^T의 계수: 4\n",
            "  모두 동일한가? True\n"
          ]
        }
      ]
    },
    {
      "cell_type": "markdown",
      "source": [
        "**[연습 문제 5-9]**\n",
        "\n",
        "> v∈C(A)의 답을 구하는 것이 최종 목적\n",
        "\n",
        "정규 분포에서 무작위로 추출한 숫자를 사용해 계수-3 행렬A∈R^(4X3)과 벡터v∈R^4를 만들어라.\n",
        "\n",
        "앞에서 설명한 알고리즘에 따라 벡터가 행렬의 열공간에 있는지 여부를 확인하여라.\n",
        "\n",
        "코드를 여러번 실행해서 일관된 패턴을 보이는지도 확인하여라.\n",
        "\n",
        "그런 다음 A∈R^(4X4) 계수-4 행렬을 사용하여라.\n",
        "\n",
        "(출제자는 코딩의 오류가 없을시, A가 4X4 난수 행렬일 때, 항상 v∈C(A)를 찾을 수 있다는 데에 확신한다.)\n",
        "\n",
        "괄호의 이유를 설명하여라.\n",
        "\n",
        "또한, 테스트 결과에 따라 True 또는 False를 반환하고 벡터 크기가 확장된 행렬과 일치하지 않을 때 예외(즉, 유용한 오류 메시지)를 발생시키는 함수에 이 코드를 넣어보아라."
      ],
      "metadata": {
        "id": "OaqyS2GL086q"
      }
    },
    {
      "cell_type": "code",
      "source": [
        "import numpy as np\n",
        "\n",
        "# 열공간에 있는지 확인하는 함수\n",
        "def is_in_column_space(A, v):\n",
        "    try:\n",
        "        # A의 행과 v의 크기가 맞는지 확인\n",
        "        if A.shape[0] != v.shape[0]:\n",
        "            raise ValueError(\"벡터 v의 크기가 행렬 A의 행 수와 일치하지 않습니다.\")\n",
        "\n",
        "        # 행렬 방정식 Ax = v의 최소제곱 해 구하기\n",
        "        x, residuals, rank, s = np.linalg.lstsq(A, v, rcond=None)\n",
        "\n",
        "        # 해를 통해 벡터를 재구성하여 비교\n",
        "        v_in_col_space = np.allclose(A @ x, v)\n",
        "\n",
        "        return v_in_col_space\n",
        "    except ValueError as e:\n",
        "        print(f\"오류: {e}\")\n",
        "        return False"
      ],
      "metadata": {
        "id": "PEMxHMHx3-lf"
      },
      "execution_count": null,
      "outputs": []
    },
    {
      "cell_type": "code",
      "source": [
        "# 테스트를 위한 코드\n",
        "def test_column_space():\n",
        "    # 계수-3 행렬 A (4x3) 생성 및 벡터 v 생성\n",
        "    A_4x3 = np.random.randn(4, 3)\n",
        "    v_4 = np.random.randn(4)\n",
        "\n",
        "    # 열공간 테스트\n",
        "    print(f\"4x3 행렬의 경우: {is_in_column_space(A_4x3, v_4)}\")\n",
        "\n",
        "    # 계수-4 행렬 A (4x4) 생성 및 벡터 v 생성\n",
        "    A_4x4 = np.random.randn(4, 4)\n",
        "\n",
        "    # 열공간 테스트\n",
        "    print(f\"4x4 행렬의 경우: {is_in_column_space(A_4x4, v_4)}\")"
      ],
      "metadata": {
        "id": "6K3lCIoXcg02"
      },
      "execution_count": null,
      "outputs": []
    },
    {
      "cell_type": "code",
      "source": [
        "# 함수 실행하여 패턴 확인\n",
        "test_column_space()"
      ],
      "metadata": {
        "colab": {
          "base_uri": "https://localhost:8080/"
        },
        "id": "h7knWbnKckRK",
        "outputId": "3d0cb73a-8448-4952-b437-167dbf258cdd"
      },
      "execution_count": null,
      "outputs": [
        {
          "output_type": "stream",
          "name": "stdout",
          "text": [
            "4x3 행렬의 경우: False\n",
            "4x4 행렬의 경우: True\n"
          ]
        }
      ]
    },
    {
      "cell_type": "markdown",
      "source": [
        "**정방 행렬**이 full rank(계수 = 4)라면!!\n",
        "*   이 행렬의 열은 선형 독립임.\n",
        "*   모든 R^4의 벡터를 표현할 수 있음.\n",
        "\n",
        "벡터는 항상 행렬의 열공간에 포함됨!!"
      ],
      "metadata": {
        "id": "DQ05L5wvczw_"
      }
    }
  ],
  "metadata": {
    "colab": {
      "provenance": [],
      "toc_visible": true
    },
    "kernelspec": {
      "display_name": "Python 3",
      "name": "python3"
    }
  },
  "nbformat": 4,
  "nbformat_minor": 0
}