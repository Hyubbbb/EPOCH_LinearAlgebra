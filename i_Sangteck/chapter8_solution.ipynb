{
 "cells": [
  {
   "cell_type": "markdown",
   "metadata": {},
   "source": [
    "# Chapter 8 - 직교 행렬과 QR 분해: 선형대수학의 핵심 분해법 1"
   ]
  },
  {
   "cell_type": "code",
   "execution_count": 1,
   "metadata": {},
   "outputs": [],
   "source": [
    "import numpy as np\n",
    "import pandas as pd\n",
    "import scipy.signal\n",
    "\n",
    "\n",
    "import matplotlib.pyplot as plt\n",
    "import seaborn as sns\n",
    "import matplotlib_inline.backend_inline\n",
    "matplotlib_inline.backend_inline.set_matplotlib_formats('svg') # display figures in vector format\n",
    "plt.rcParams.update({'font.size':14}) # set global font size\n",
    "\n",
    "# 폰트 설정\n",
    "%config InlineBackend.figure_format = 'retina'\n",
    "plt.rcParams[\"axes.unicode_minus\"] = False\n",
    "\n",
    "plt.rc('font', family='NanumBarunGothic')\n",
    "plt.rcParams['axes.unicode_minus'] = False"
   ]
  },
  {
   "cell_type": "markdown",
   "metadata": {},
   "source": [
    "## 8-1. 난수 행렬 Q를 생성하고, Q.T, Q^-1을 예산하는 코드 작성하여 구현"
   ]
  },
  {
   "cell_type": "code",
   "execution_count": 2,
   "metadata": {},
   "outputs": [],
   "source": [
    "# 난수 직교 행렬 생성 → 난수 행렬을 생성한 후, QR분해를 통해 직교 행렬 Q를 return\n",
    "\n",
    "def random_orthogonal_matrix(n):\n",
    "\n",
    "    # n * n 크기의 난수 행렬 (정방 행렬)\n",
    "    matrix = np.random.randn(n, n)\n",
    "\n",
    "    # QR 분해 → 직교 행렬 Q 생성\n",
    "    q, r = np.linalg.qr(matrix)\n",
    "\n",
    "    return q\n",
    "\n",
    "def compare_matrix(n):\n",
    "\n",
    "    q = random_orthogonal_matrix(n)\n",
    "\n",
    "    print(\"q.T @ q :\", \"\\n\", q.T @ q, \"\\n\")\n",
    "    print(\"q @ q.T :\", \"\\n\", q @ q.T, \"\\n\")\n",
    "    print(\"np.linalg.inv(q) @ q :\", \"\\n\", np.linalg.inv(q) @ q, \"\\n\")\n",
    "    print(\"q @ np.linalg.inv(q) :\", \"\\n\", q @ np.linalg.inv(q), \"\\n\")\n",
    "    print(\"단위 행렬: \", \"\\n\", np.eye(n), \"\\n\")\n",
    "\n",
    "    return np.allclose(q.T @ q, np.eye(n))"
   ]
  },
  {
   "cell_type": "code",
   "execution_count": 3,
   "metadata": {},
   "outputs": [
    {
     "name": "stdout",
     "output_type": "stream",
     "text": [
      "q.T @ q : \n",
      " [[ 1.00000000e+00 -9.71445147e-17 -5.55111512e-17]\n",
      " [-9.71445147e-17  1.00000000e+00  7.63278329e-17]\n",
      " [-5.55111512e-17  7.63278329e-17  1.00000000e+00]] \n",
      "\n",
      "q @ q.T : \n",
      " [[ 1.00000000e+00 -3.33066907e-16  1.66533454e-16]\n",
      " [-3.33066907e-16  1.00000000e+00 -1.11022302e-16]\n",
      " [ 1.66533454e-16 -1.11022302e-16  1.00000000e+00]] \n",
      "\n",
      "np.linalg.inv(q) @ q : \n",
      " [[ 1.00000000e+00  7.63278329e-17 -5.55111512e-17]\n",
      " [-5.55111512e-17  1.00000000e+00 -3.46944695e-18]\n",
      " [ 0.00000000e+00  7.63278329e-17  1.00000000e+00]] \n",
      "\n",
      "q @ np.linalg.inv(q) : \n",
      " [[ 1.00000000e+00  1.11022302e-16  5.55111512e-17]\n",
      " [-5.55111512e-17  1.00000000e+00  0.00000000e+00]\n",
      " [ 0.00000000e+00  0.00000000e+00  1.00000000e+00]] \n",
      "\n",
      "단위 행렬:  \n",
      " [[1. 0. 0.]\n",
      " [0. 1. 0.]\n",
      " [0. 0. 1.]] \n",
      "\n"
     ]
    },
    {
     "data": {
      "text/plain": [
       "True"
      ]
     },
     "execution_count": 3,
     "metadata": {},
     "output_type": "execute_result"
    }
   ],
   "source": [
    "compare_matrix(3)"
   ]
  },
  {
   "cell_type": "markdown",
   "metadata": {},
   "source": [
    "## 8-2. 그람-슈미트 과정 구현\n",
    "- 4 * 4 난수 행렬 사용\n",
    "- 결과를 `np.linalg.qr`의 Q와 대죠하여 확인"
   ]
  },
  {
   "cell_type": "code",
   "execution_count": 4,
   "metadata": {},
   "outputs": [],
   "source": [
    "# V = np.random.randint(1, 10, size=(4, 4))\n",
    "# V"
   ]
  },
  {
   "cell_type": "code",
   "execution_count": 5,
   "metadata": {},
   "outputs": [],
   "source": [
    "# for k in np.arange(1, V.shape[1]):\n",
    "#     u_1 = V[:, 0]\n",
    "#     v_k = V[:, k] * np.dot(u_1, )"
   ]
  },
  {
   "cell_type": "code",
   "execution_count": 6,
   "metadata": {},
   "outputs": [],
   "source": [
    "def gram_schmidt(m, n):\n",
    "    \n",
    "    global V\n",
    "    V = np.random.randint(1, 10, size=(m, n))\n",
    "    Q = np.zeros((m, n))\n",
    "\n",
    "    for i in range(n):\n",
    "        \n",
    "        Q[:,i] = V[:,i]\n",
    "        v = V[:,i]\n",
    "\n",
    "        for j in range(i):\n",
    "            q = Q[:,j]\n",
    "            Q[:,i]=Q[:,i]-np.dot(v,q)/np.dot(q,q)*q\n",
    "        \n",
    "        # normalize\n",
    "        Q[:,i] = Q[:,i] / np.linalg.norm(Q[:,i])\n",
    "\n",
    "    return Q"
   ]
  },
  {
   "cell_type": "code",
   "execution_count": 8,
   "metadata": {},
   "outputs": [
    {
     "data": {
      "text/plain": [
       "array([[ 0.09622504,  0.15097027,  0.9258201 ,  0.33287514],\n",
       "       [ 0.48112522,  0.41516825,  0.15430335, -0.75653442],\n",
       "       [ 0.8660254 , -0.33968311, -0.15430335,  0.33287514],\n",
       "       [ 0.09622504,  0.83033649, -0.3086067 ,  0.45392065]])"
      ]
     },
     "execution_count": 8,
     "metadata": {},
     "output_type": "execute_result"
    }
   ],
   "source": [
    "gram_schmidt(4, 4)"
   ]
  },
  {
   "cell_type": "code",
   "execution_count": 11,
   "metadata": {},
   "outputs": [],
   "source": [
    "Q, R = np.linalg.qr(V)"
   ]
  },
  {
   "cell_type": "code",
   "execution_count": 13,
   "metadata": {},
   "outputs": [
    {
     "data": {
      "text/plain": [
       "array([[ 0.70543274,  0.01145586, -1.36218904,  0.31441448],\n",
       "       [ 1.09033292,  0.27565384, -0.37145732,  0.00670386],\n",
       "       [ 1.27216387, -0.62464871,  1.01205217, -0.19829017],\n",
       "       [ 0.40082889,  1.76834825,  0.47198743, -0.42828542]])"
      ]
     },
     "execution_count": 13,
     "metadata": {},
     "output_type": "execute_result"
    }
   ],
   "source": [
    "gram_schmidt(4, 4) - Q"
   ]
  },
  {
   "cell_type": "code",
   "execution_count": 14,
   "metadata": {},
   "outputs": [
    {
     "data": {
      "text/plain": [
       "array([[ 0.49538293,  0.19212238,  0.41650308,  0.85525777],\n",
       "       [-0.22757895, -0.60822038,  0.90813091, -0.18191352],\n",
       "       [-0.10538657,  0.04060235, -0.05420944, -0.23454047],\n",
       "       [-0.01170962,  0.03889823,  0.09428459,  0.1801201 ]])"
      ]
     },
     "execution_count": 14,
     "metadata": {},
     "output_type": "execute_result"
    }
   ],
   "source": [
    "gram_schmidt(4, 4) + Q"
   ]
  },
  {
   "cell_type": "markdown",
   "metadata": {},
   "source": [
    "## 8-3. 거의 직교에 가깝지만 직교는 아닌 행렬에 QR 분해 적용\n",
    "1. 6 * 6 난수 행렬의 QR 분해로부터 U라는 직교 행렬 만든다\n",
    "2. U의 QR 분해 계산하고 R = 1임을 확인한다 (그 이유도 이해해야 한다)\n",
    "3. U의 각 norm을 수정한다\n",
    "    - 1 ~ 6열의 norm 10 ~ 15로 수정 (첫 번째 열의 norm 10, 두 번재 열의 norm 11,...)\n",
    "    - 변조된 U행렬을 QR 분해하여 그 R의 대각선 원소가 10 ~ 15인 대각행렬인지 확인한다\n",
    "    - 이 행렬의 Q.T @ Q는?\n",
    "4. 원소 u_1,4 = 0으로 설정하여 U의 직교성을 깨뜨리면, R은 어떻게 되고 그 이유는 뭘까?"
   ]
  },
  {
   "cell_type": "code",
   "execution_count": 67,
   "metadata": {},
   "outputs": [
    {
     "data": {
      "text/plain": [
       "True"
      ]
     },
     "execution_count": 67,
     "metadata": {},
     "output_type": "execute_result"
    }
   ],
   "source": [
    "# 6 * 6 난수 행렬의 QR 분해로부터 U라는 직교 행렬을 만든다\n",
    "\n",
    "# U = np.random.randint(1, 10, size=(6, 6))\n",
    "U = np.linalg.qr(np.random.randn(6, 6))[0]\n",
    "Q, R = np.linalg.qr(U)\n",
    "\n",
    "# 1. U의 QR 분해를 계산하고 R=I 임을 확인함 (True)\n",
    "np.allclose(R, np.eye(6))"
   ]
  },
  {
   "cell_type": "code",
   "execution_count": 68,
   "metadata": {},
   "outputs": [
    {
     "data": {
      "text/plain": [
       "array([[-4.75947586,  1.58751153,  7.80203417,  6.35782973,  4.21725851,\n",
       "         0.01392422],\n",
       "       [ 4.13163856, -6.29699629,  6.24863111, -0.54686903, -1.77973979,\n",
       "        -6.91487083],\n",
       "       [-5.32445502, -7.10772154, -4.05177239, -1.50400148,  5.395219  ,\n",
       "        -2.2788486 ],\n",
       "       [ 1.14050538, -0.46938163,  4.45928886, -8.22999152,  5.94743012,\n",
       "         7.73373326],\n",
       "       [-5.33781937,  2.03886103,  2.59292331, -7.11087849, -7.13498746,\n",
       "        -4.1106268 ],\n",
       "       [-1.46084322, -4.89189799,  1.02835019,  2.7784099 , -7.72391726,\n",
       "         9.76131824]])"
      ]
     },
     "execution_count": 68,
     "metadata": {},
     "output_type": "execute_result"
    }
   ],
   "source": [
    "# 3. U의 각 열의 노름 수정\n",
    "# - (10 ~ 15)로 수정\n",
    "for i in range(len(U)):\n",
    "    U[:, i] = U[:,i] * (10+i)\n",
    "U"
   ]
  },
  {
   "cell_type": "code",
   "execution_count": 69,
   "metadata": {},
   "outputs": [
    {
     "data": {
      "text/plain": [
       "array([10., 11., 12., 13., 14., 15.])"
      ]
     },
     "execution_count": 69,
     "metadata": {},
     "output_type": "execute_result"
    }
   ],
   "source": [
    "# 변조된 U 행렬을 QR 분해해서 그 R의 대각선 원소가 10 ~ 15인 대각행렬인지 확인\n",
    "Q, R = np.linalg.qr(U)\n",
    "\n",
    "# R의 대각선 원소 : 10 ~ 15인 대각행렬\n",
    "np.diag(R)"
   ]
  },
  {
   "cell_type": "code",
   "execution_count": 70,
   "metadata": {},
   "outputs": [
    {
     "data": {
      "text/plain": [
       "True"
      ]
     },
     "execution_count": 70,
     "metadata": {},
     "output_type": "execute_result"
    }
   ],
   "source": [
    "# 이 행렬의 QTQ 확인 → 단위 행렬\n",
    "np.allclose(Q.T @ Q, np.eye(6))"
   ]
  },
  {
   "cell_type": "code",
   "execution_count": 74,
   "metadata": {},
   "outputs": [
    {
     "name": "stdout",
     "output_type": "stream",
     "text": [
      "[[ 1.00000000e+01  6.66133815e-16  1.77635684e-15  3.02599372e+00\n",
      "   0.00000000e+00 -2.86229374e-16]\n",
      " [ 0.00000000e+00  1.10000000e+01 -1.77635684e-15 -9.17557093e-01\n",
      "  -1.11022302e-16  2.66453526e-15]\n",
      " [ 0.00000000e+00  0.00000000e+00  1.20000000e+01 -4.13366707e+00\n",
      "   0.00000000e+00  9.99200722e-16]\n",
      " [ 0.00000000e+00  0.00000000e+00  0.00000000e+00  1.00743361e+01\n",
      "  -2.66147676e+00 -8.78745914e-03]\n",
      " [ 0.00000000e+00  0.00000000e+00  0.00000000e+00  0.00000000e+00\n",
      "   1.37446914e+01 -1.70157464e-03]\n",
      " [ 0.00000000e+00  0.00000000e+00  0.00000000e+00  0.00000000e+00\n",
      "   0.00000000e+00  1.49999973e+01]] \n",
      "\n",
      "[10.         11.         12.         10.07433614 13.74469139 14.99999733]\n"
     ]
    }
   ],
   "source": [
    "# 4. 원소 u_{1,4} = 0으로 설정하여 U의 직교성을 깨뜨린다. R은 어떻게 될까?\n",
    "U[0, 3] = 0\n",
    "\n",
    "Q, R = np.linalg.qr(U)\n",
    "print(R, \"\\n\")\n",
    "print(np.diag(R))\n"
   ]
  },
  {
   "cell_type": "markdown",
   "metadata": {},
   "source": [
    "## 8-6. 정방 직교 행렬의 모든 특이값 및 고유값 = 1,"
   ]
  },
  {
   "cell_type": "code",
   "execution_count": null,
   "metadata": {},
   "outputs": [],
   "source": []
  },
  {
   "cell_type": "markdown",
   "metadata": {},
   "source": [
    "## 8-7. QR 분해를 사용하여 최소 제곱법을 구현하는 방법을 이해하는데 도움이 되는 R 행렬"
   ]
  },
  {
   "cell_type": "code",
   "execution_count": 19,
   "metadata": {},
   "outputs": [],
   "source": [
    "m, n = 10, 4\n",
    "matrix = np.random.randint(1, 10, size=(m, n))\n",
    "Q, R = np.linalg.qr(matrix)"
   ]
  },
  {
   "cell_type": "code",
   "execution_count": 20,
   "metadata": {},
   "outputs": [
    {
     "data": {
      "text/plain": [
       "array([[-18., -18., -16., -16.],\n",
       "       [  0.,  10.,   8.,   7.],\n",
       "       [  0.,   0.,  -7.,  -8.],\n",
       "       [  0.,   0.,   0.,  -4.]])"
      ]
     },
     "execution_count": 20,
     "metadata": {},
     "output_type": "execute_result"
    }
   ],
   "source": [
    "np.round(R)"
   ]
  },
  {
   "cell_type": "code",
   "execution_count": 22,
   "metadata": {},
   "outputs": [],
   "source": [
    "inverse = np.linalg.inv(R[:n, :])\n",
    "tall_inverse = np.linalg.pinv(R)"
   ]
  },
  {
   "cell_type": "code",
   "execution_count": 23,
   "metadata": {},
   "outputs": [
    {
     "data": {
      "text/plain": [
       "array([[-0.05707301, -0.09885545,  0.01679211,  0.0210013 ],\n",
       "       [ 0.        ,  0.09853449,  0.11434803, -0.05444963],\n",
       "       [-0.        , -0.        , -0.14523156,  0.27275233],\n",
       "       [-0.        , -0.        , -0.        , -0.23227681]])"
      ]
     },
     "execution_count": 23,
     "metadata": {},
     "output_type": "execute_result"
    }
   ],
   "source": [
    "inverse"
   ]
  },
  {
   "cell_type": "code",
   "execution_count": 25,
   "metadata": {},
   "outputs": [
    {
     "data": {
      "text/plain": [
       "True"
      ]
     },
     "execution_count": 25,
     "metadata": {},
     "output_type": "execute_result"
    }
   ],
   "source": [
    "np.allclose(tall_inverse, inverse)"
   ]
  },
  {
   "cell_type": "code",
   "execution_count": null,
   "metadata": {},
   "outputs": [],
   "source": []
  }
 ],
 "metadata": {
  "kernelspec": {
   "display_name": "football",
   "language": "python",
   "name": "python3"
  },
  "language_info": {
   "codemirror_mode": {
    "name": "ipython",
    "version": 3
   },
   "file_extension": ".py",
   "mimetype": "text/x-python",
   "name": "python",
   "nbconvert_exporter": "python",
   "pygments_lexer": "ipython3",
   "version": "3.11.8"
  }
 },
 "nbformat": 4,
 "nbformat_minor": 2
}
