{
 "cells": [
  {
   "cell_type": "markdown",
   "metadata": {},
   "source": [
    "# Chapter 13 - 특잇값 분해: 고윳값 분해의 다음 단계"
   ]
  },
  {
   "cell_type": "code",
   "execution_count": 1,
   "metadata": {},
   "outputs": [],
   "source": [
    "import numpy as np\n",
    "import pandas as pd\n",
    "import sympy as sym\n",
    "import scipy\n",
    "\n",
    "import matplotlib.pyplot as plt\n",
    "import seaborn as sns\n",
    "sns.set_style(\"ticks\")\n",
    "import matplotlib_inline.backend_inline\n",
    "matplotlib_inline.backend_inline.set_matplotlib_formats('svg') # display figures in vector format\n",
    "plt.rcParams.update({'font.size':14}) # set global font size\n",
    "\n",
    "import statsmodels.api as sm\n",
    "\n",
    "\n",
    "# 폰트 설정\n",
    "%config InlineBackend.figure_format = 'retina'\n",
    "plt.rcParams[\"axes.unicode_minus\"] = False\n",
    "plt.rc('font', family='NanumBarunGothic')"
   ]
  },
  {
   "cell_type": "markdown",
   "metadata": {},
   "source": [
    "## 13-1. 대칭행렬의 특이 벡터와 고유 벡터는 같을까?\n",
    "- 파이썬으로 무작위 $5*5 \\quad A^{T}A$ 행렬을 사용해서 답해보자\n",
    "- 그리고 덧셈 기법으로 대칭 행렬 $(A^{T}+A)$를 만들어 다시 시도해보자\n",
    "- $A^{T}+A$의 부호에 주의하자"
   ]
  },
  {
   "cell_type": "code",
   "execution_count": 2,
   "metadata": {},
   "outputs": [],
   "source": [
    "def compare_vt_v(matrix):\n",
    "    # SVD 계산\n",
    "    U, s, Vt = np.linalg.svd(matrix)\n",
    "\n",
    "    # EVD 계산\n",
    "    L, V = np.linalg.eig(matrix)\n",
    "\n",
    "    # 특이 벡터와 고유벡터 같은지 확인\n",
    "    print(\"Vt == V.T?\", np.allclose(np.round(Vt, 3), np.round(V.T, 3)))\n",
    "    print(\"\")\n",
    "    print(\"Vt: \\n\", np.round(Vt, 3))\n",
    "    print(\"V.T: \\n\", np.round(V.T, 3))"
   ]
  },
  {
   "cell_type": "code",
   "execution_count": 3,
   "metadata": {},
   "outputs": [],
   "source": [
    "# 무작위 행렬 생성\n",
    "A = np.random.randn(5, 5)"
   ]
  },
  {
   "cell_type": "code",
   "execution_count": 4,
   "metadata": {},
   "outputs": [
    {
     "name": "stdout",
     "output_type": "stream",
     "text": [
      "Vt == V.T? False\n",
      "\n",
      "Vt: \n",
      " [[-0.363  0.799  0.291 -0.305  0.229]\n",
      " [-0.816 -0.392 -0.068  0.167  0.385]\n",
      " [-0.277  0.396 -0.54   0.485 -0.49 ]\n",
      " [ 0.064  0.017 -0.774 -0.571  0.266]\n",
      " [ 0.349  0.225 -0.142  0.564  0.7  ]]\n",
      "V.T: \n",
      " [[ 0.363 -0.799 -0.291  0.305 -0.229]\n",
      " [-0.816 -0.392 -0.068  0.167  0.385]\n",
      " [-0.277  0.396 -0.54   0.485 -0.49 ]\n",
      " [-0.349 -0.225  0.142 -0.564 -0.7  ]\n",
      " [-0.064 -0.017  0.774  0.571 -0.266]]\n"
     ]
    }
   ],
   "source": [
    "compare_vt_v(A.T @ A)"
   ]
  },
  {
   "cell_type": "code",
   "execution_count": 5,
   "metadata": {},
   "outputs": [
    {
     "name": "stdout",
     "output_type": "stream",
     "text": [
      "Vt == V.T? False\n",
      "\n",
      "Vt: \n",
      " [[-0.059  0.945 -0.077  0.281 -0.136]\n",
      " [ 0.962 -0.032 -0.088  0.242 -0.084]\n",
      " [-0.109 -0.106  0.113  0.698  0.69 ]\n",
      " [ 0.212  0.249  0.774 -0.408  0.358]\n",
      " [ 0.118  0.181 -0.612 -0.457  0.608]]\n",
      "V.T: \n",
      " [[ 0.962 -0.032 -0.088  0.242 -0.084]\n",
      " [ 0.059 -0.945  0.077 -0.281  0.136]\n",
      " [-0.212 -0.249 -0.774  0.408 -0.358]\n",
      " [-0.109 -0.106  0.113  0.698  0.69 ]\n",
      " [ 0.118  0.181 -0.612 -0.457  0.608]]\n"
     ]
    }
   ],
   "source": [
    "compare_vt_v(A.T + A)"
   ]
  },
  {
   "cell_type": "markdown",
   "metadata": {},
   "source": [
    "## 13-2. 선택적으로 경제형 SVD 반환"
   ]
  },
  {
   "cell_type": "code",
   "execution_count": 6,
   "metadata": {},
   "outputs": [],
   "source": [
    "# np.linalg.svd 공식문서 참고\n",
    "# https://numpy.org/doc/stable/reference/generated/numpy.linalg.svd.html\n",
    "rng = np.random.default_rng()\n",
    "a = rng.normal(size=(9, 6)) + 1j*rng.normal(size=(9, 6))\n",
    "b = rng.normal(size=(2, 7, 8, 3)) + 1j*rng.normal(size=(2, 7, 8, 3))"
   ]
  },
  {
   "cell_type": "code",
   "execution_count": 7,
   "metadata": {},
   "outputs": [
    {
     "data": {
      "text/plain": [
       "(9, 6)"
      ]
     },
     "execution_count": 7,
     "metadata": {},
     "output_type": "execute_result"
    }
   ],
   "source": [
    "a.shape"
   ]
  },
  {
   "cell_type": "code",
   "execution_count": 8,
   "metadata": {},
   "outputs": [
    {
     "data": {
      "text/plain": [
       "((9, 6), (6,), (6, 6))"
      ]
     },
     "execution_count": 8,
     "metadata": {},
     "output_type": "execute_result"
    }
   ],
   "source": [
    "# full_matrices=False로 했을 때는 U가 정방행렬이 아님\n",
    "U1, S1, Vh1 = np.linalg.svd(a, full_matrices=False)\n",
    "U1.shape, S1.shape, Vh1.shape"
   ]
  },
  {
   "cell_type": "code",
   "execution_count": 9,
   "metadata": {},
   "outputs": [
    {
     "data": {
      "text/plain": [
       "True"
      ]
     },
     "execution_count": 9,
     "metadata": {},
     "output_type": "execute_result"
    }
   ],
   "source": [
    "np.allclose(a, np.dot(U1 * S1, Vh1))"
   ]
  },
  {
   "cell_type": "code",
   "execution_count": 10,
   "metadata": {},
   "outputs": [],
   "source": [
    "# 특잇값 행렬 = np.diag(S1) (정방행렬)\n",
    "smat = np.diag(S1)"
   ]
  },
  {
   "cell_type": "code",
   "execution_count": 11,
   "metadata": {},
   "outputs": [
    {
     "data": {
      "text/plain": [
       "True"
      ]
     },
     "execution_count": 11,
     "metadata": {},
     "output_type": "execute_result"
    }
   ],
   "source": [
    "np.allclose(a, np.dot(U1, np.dot(smat, Vh1)))"
   ]
  },
  {
   "cell_type": "code",
   "execution_count": 12,
   "metadata": {},
   "outputs": [
    {
     "data": {
      "text/plain": [
       "((9, 9), (6,), (6, 6))"
      ]
     },
     "execution_count": 12,
     "metadata": {},
     "output_type": "execute_result"
    }
   ],
   "source": [
    "# full_matrices=True로 했을 때는 U 정방행렬로 만들어진다\n",
    "U2, S2, Vh2 = np.linalg.svd(a, full_matrices=True)\n",
    "U2.shape, S2.shape, Vh2.shape"
   ]
  },
  {
   "cell_type": "code",
   "execution_count": 13,
   "metadata": {},
   "outputs": [
    {
     "data": {
      "text/plain": [
       "True"
      ]
     },
     "execution_count": 13,
     "metadata": {},
     "output_type": "execute_result"
    }
   ],
   "source": [
    "np.allclose(a, np.dot(U2[:, :6] * S2, Vh2))"
   ]
  },
  {
   "cell_type": "code",
   "execution_count": 14,
   "metadata": {},
   "outputs": [],
   "source": [
    "# 특잇값 행렬 만드는 방식이 다름 (특잇값행렬이 정방행렬이 아니다)\n",
    "smat2 = np.zeros(np.shape(a))\n",
    "np.fill_diagonal(smat2, S2)"
   ]
  },
  {
   "cell_type": "code",
   "execution_count": 15,
   "metadata": {},
   "outputs": [
    {
     "data": {
      "text/plain": [
       "True"
      ]
     },
     "execution_count": 15,
     "metadata": {},
     "output_type": "execute_result"
    }
   ],
   "source": [
    "np.allclose(a, np.dot(U2, np.dot(smat2, Vh2)))"
   ]
  },
  {
   "cell_type": "code",
   "execution_count": 16,
   "metadata": {},
   "outputs": [
    {
     "name": "stdout",
     "output_type": "stream",
     "text": [
      "(6, 6)\n",
      "(9, 6)\n"
     ]
    }
   ],
   "source": [
    "print(smat.shape)\n",
    "print(smat2.shape)"
   ]
  },
  {
   "cell_type": "markdown",
   "metadata": {},
   "source": [
    "## 13-7. 높은 최대계수 행렬의 명시적 왼쪽 역행렬 $((A^TA)^{-1}A^T)$과 $A$의 의사 역행렬을 계산\n",
    "- MP 의사 역행렬이 최대 열계수 행렬의 왼쪽 역행렬과 같다는 것을 증명\n",
    "- 넓은 최대계수 행렬의 오른쪽 역에 대해서도 증명"
   ]
  },
  {
   "cell_type": "code",
   "execution_count": 17,
   "metadata": {},
   "outputs": [],
   "source": [
    "# 높은 최대계수 행렬 (m * n, m > n)\n",
    "tall_matrix = rng.normal(size=(5, 3))\n",
    "\n",
    "# 왼쪽 역행렬 구한다\n",
    "Linv_tall = (np.linalg.inv(tall_matrix.T @ tall_matrix) @ tall_matrix.T)"
   ]
  },
  {
   "cell_type": "code",
   "execution_count": 18,
   "metadata": {},
   "outputs": [
    {
     "data": {
      "text/plain": [
       "(3, 5)"
      ]
     },
     "execution_count": 18,
     "metadata": {},
     "output_type": "execute_result"
    }
   ],
   "source": [
    "Linv_tall.shape"
   ]
  },
  {
   "cell_type": "code",
   "execution_count": 19,
   "metadata": {},
   "outputs": [
    {
     "data": {
      "text/plain": [
       "True"
      ]
     },
     "execution_count": 19,
     "metadata": {},
     "output_type": "execute_result"
    }
   ],
   "source": [
    "np.allclose(np.linalg.pinv(tall_matrix), Linv_tall)"
   ]
  },
  {
   "cell_type": "code",
   "execution_count": 20,
   "metadata": {},
   "outputs": [
    {
     "data": {
      "text/plain": [
       "(5, 3)"
      ]
     },
     "execution_count": 20,
     "metadata": {},
     "output_type": "execute_result"
    }
   ],
   "source": [
    "# 넓은 최대계수 행렬 (m * n, m < n)\n",
    "wide_matrix = rng.normal(size=(3, 5))\n",
    "\n",
    "# 오른쪽 역행렬 구한다\n",
    "Rinv_wide = (wide_matrix.T @ np.linalg.inv(wide_matrix @ wide_matrix.T))\n",
    "Rinv_wide.shape"
   ]
  },
  {
   "cell_type": "code",
   "execution_count": 21,
   "metadata": {},
   "outputs": [
    {
     "data": {
      "text/plain": [
       "True"
      ]
     },
     "execution_count": 21,
     "metadata": {},
     "output_type": "execute_result"
    }
   ],
   "source": [
    "# (Linv_wide @ wide_matrix).shape\n",
    "np.allclose(wide_matrix @ Rinv_wide, np.eye(3))"
   ]
  }
 ],
 "metadata": {
  "kernelspec": {
   "display_name": "football",
   "language": "python",
   "name": "python3"
  },
  "language_info": {
   "codemirror_mode": {
    "name": "ipython",
    "version": 3
   },
   "file_extension": ".py",
   "mimetype": "text/x-python",
   "name": "python",
   "nbconvert_exporter": "python",
   "pygments_lexer": "ipython3",
   "version": "3.11.8"
  }
 },
 "nbformat": 4,
 "nbformat_minor": 2
}
