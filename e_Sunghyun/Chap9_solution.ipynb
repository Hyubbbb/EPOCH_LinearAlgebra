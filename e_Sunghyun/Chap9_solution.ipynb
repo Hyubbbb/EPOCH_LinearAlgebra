{
 "cells": [
  {
   "cell_type": "markdown",
   "id": "b7e489b1-32d6-4960-941b-22349f899f0b",
   "metadata": {},
   "source": [
    "### 연습 문제 9-3"
   ]
  },
  {
   "cell_type": "code",
   "execution_count": 30,
   "id": "d644b466-e757-4ae4-b828-71464451add0",
   "metadata": {},
   "outputs": [],
   "source": [
    "import numpy as np\n",
    "import scipy.linalg"
   ]
  },
  {
   "cell_type": "code",
   "execution_count": 28,
   "id": "b6f723f9-34da-4e4a-a3b7-f44af499d4e3",
   "metadata": {},
   "outputs": [],
   "source": [
    "A=np.random.random((4,4))"
   ]
  },
  {
   "cell_type": "code",
   "execution_count": 40,
   "id": "d3d78c6f-78d9-45dd-a2ba-b15aa97ef9eb",
   "metadata": {},
   "outputs": [],
   "source": [
    "P, L, U=scipy.linalg.lu(A)"
   ]
  },
  {
   "cell_type": "code",
   "execution_count": 41,
   "id": "f555836a-fb34-41eb-b9cb-e4b59b691032",
   "metadata": {},
   "outputs": [],
   "source": [
    "A_det=np.linalg.det(A)"
   ]
  },
  {
   "cell_type": "code",
   "execution_count": 42,
   "id": "688ce22c-a0a6-4d4a-b20d-4cfa91345454",
   "metadata": {},
   "outputs": [
    {
     "data": {
      "text/plain": [
       "-0.03822062520804537"
      ]
     },
     "execution_count": 42,
     "metadata": {},
     "output_type": "execute_result"
    }
   ],
   "source": [
    "A_det"
   ]
  },
  {
   "cell_type": "code",
   "execution_count": 43,
   "id": "e2faf96f-263c-48d7-bfbe-94627a4a2720",
   "metadata": {},
   "outputs": [],
   "source": [
    "mul=1\n",
    "for i in range(len(U)):\n",
    "    mul*=U[i][i]"
   ]
  },
  {
   "cell_type": "code",
   "execution_count": 44,
   "id": "57f03d9c-e60a-48d5-9a64-72106e4ebc4c",
   "metadata": {},
   "outputs": [
    {
     "data": {
      "text/plain": [
       "0.038220625208045346"
      ]
     },
     "execution_count": 44,
     "metadata": {},
     "output_type": "execute_result"
    }
   ],
   "source": [
    "mul"
   ]
  },
  {
   "cell_type": "code",
   "execution_count": 46,
   "id": "044f767f-102d-4c02-a4cf-0c02ed87dac2",
   "metadata": {},
   "outputs": [
    {
     "data": {
      "text/plain": [
       "-0.038220625208045346"
      ]
     },
     "execution_count": 46,
     "metadata": {},
     "output_type": "execute_result"
    }
   ],
   "source": [
    "np.linalg.det(P)*mul"
   ]
  },
  {
   "cell_type": "markdown",
   "id": "0caa55ee-22a2-4bd8-8968-86ab4d2b6716",
   "metadata": {},
   "source": [
    "### 연습 문제 9-4"
   ]
  },
  {
   "cell_type": "code",
   "execution_count": 66,
   "id": "27c657be-7a4e-4eef-8567-0e74b719c28c",
   "metadata": {},
   "outputs": [],
   "source": [
    "A=np.random.random((4,4))\n",
    "P, L, U=scipy.linalg.lu(A)"
   ]
  },
  {
   "cell_type": "code",
   "execution_count": 67,
   "id": "137acf4d-b601-4d24-b1f4-076417140e27",
   "metadata": {},
   "outputs": [
    {
     "data": {
      "text/plain": [
       "array([[ 0.39764143, -0.45015021,  1.00801143, -0.05100263],\n",
       "       [-0.46293434,  1.26621325,  0.34198525, -1.99629524],\n",
       "       [-1.61006498,  0.0299093 , -0.17195342,  3.93888683],\n",
       "       [ 2.13938195, -0.07914204, -1.12095917, -1.10161171]])"
      ]
     },
     "execution_count": 67,
     "metadata": {},
     "output_type": "execute_result"
    }
   ],
   "source": [
    "np.linalg.inv(A)"
   ]
  },
  {
   "cell_type": "code",
   "execution_count": 68,
   "id": "dc22d367-a650-4ba1-98b6-d54deb51f241",
   "metadata": {},
   "outputs": [
    {
     "data": {
      "text/plain": [
       "array([[ 0.39764143, -0.45015021,  1.00801143, -0.05100263],\n",
       "       [-0.46293434,  1.26621325,  0.34198525, -1.99629524],\n",
       "       [-1.61006498,  0.0299093 , -0.17195342,  3.93888683],\n",
       "       [ 2.13938195, -0.07914204, -1.12095917, -1.10161171]])"
      ]
     },
     "execution_count": 68,
     "metadata": {},
     "output_type": "execute_result"
    }
   ],
   "source": [
    "np.linalg.inv(U)@np.linalg.inv(L)@P.T"
   ]
  },
  {
   "cell_type": "markdown",
   "id": "35da62d4-c79b-4bb9-bc5f-7b06697aa17b",
   "metadata": {},
   "source": [
    "### 연습 문제 9-5"
   ]
  },
  {
   "cell_type": "code",
   "execution_count": 69,
   "id": "cfe00cff-f20d-41ff-b72c-383020b80984",
   "metadata": {},
   "outputs": [],
   "source": [
    "A=np.random.random((5,5))\n",
    "P,L,U=scipy.linalg.lu(A)"
   ]
  },
  {
   "cell_type": "code",
   "execution_count": 70,
   "id": "c18d0acf-4a83-4a73-af99-c89c7ca1c81b",
   "metadata": {},
   "outputs": [
    {
     "data": {
      "text/plain": [
       "array([[2.05844848, 1.5595505 , 0.73941521, 1.19040945, 1.39628995],\n",
       "       [1.5595505 , 1.92960411, 1.19082843, 1.2777413 , 1.4669761 ],\n",
       "       [0.73941521, 1.19082843, 1.47833895, 1.29391037, 1.2190789 ],\n",
       "       [1.19040945, 1.2777413 , 1.29391037, 1.32651562, 1.34919235],\n",
       "       [1.39628995, 1.4669761 , 1.2190789 , 1.34919235, 1.61511263]])"
      ]
     },
     "execution_count": 70,
     "metadata": {},
     "output_type": "execute_result"
    }
   ],
   "source": [
    "A.T@A"
   ]
  },
  {
   "cell_type": "code",
   "execution_count": 71,
   "id": "8becabfa-8036-41a8-86af-ecc0b658324a",
   "metadata": {},
   "outputs": [
    {
     "data": {
      "text/plain": [
       "array([[2.05844848, 1.5595505 , 0.73941521, 1.19040945, 1.39628995],\n",
       "       [1.5595505 , 1.92960411, 1.19082843, 1.2777413 , 1.4669761 ],\n",
       "       [0.73941521, 1.19082843, 1.47833895, 1.29391037, 1.2190789 ],\n",
       "       [1.19040945, 1.2777413 , 1.29391037, 1.32651562, 1.34919235],\n",
       "       [1.39628995, 1.4669761 , 1.2190789 , 1.34919235, 1.61511263]])"
      ]
     },
     "execution_count": 71,
     "metadata": {},
     "output_type": "execute_result"
    }
   ],
   "source": [
    "U.T@L.T@L@U"
   ]
  },
  {
   "cell_type": "code",
   "execution_count": 72,
   "id": "fdcbc8ac-2577-451a-8902-95ab8744db4e",
   "metadata": {},
   "outputs": [
    {
     "data": {
      "text/plain": [
       "array([[0., 0., 1., 0., 0.],\n",
       "       [0., 0., 0., 1., 0.],\n",
       "       [0., 0., 0., 0., 1.],\n",
       "       [1., 0., 0., 0., 0.],\n",
       "       [0., 1., 0., 0., 0.]])"
      ]
     },
     "execution_count": 72,
     "metadata": {},
     "output_type": "execute_result"
    }
   ],
   "source": [
    "P"
   ]
  },
  {
   "cell_type": "code",
   "execution_count": 73,
   "id": "e0802374-3874-45e7-a87e-2d22c56b2c10",
   "metadata": {},
   "outputs": [
    {
     "data": {
      "text/plain": [
       "array([[2.05844848, 1.5595505 , 0.73941521, 1.19040945, 1.39628995],\n",
       "       [1.5595505 , 1.92960411, 1.19082843, 1.2777413 , 1.4669761 ],\n",
       "       [0.73941521, 1.19082843, 1.47833895, 1.29391037, 1.2190789 ],\n",
       "       [1.19040945, 1.2777413 , 1.29391037, 1.32651562, 1.34919235],\n",
       "       [1.39628995, 1.4669761 , 1.2190789 , 1.34919235, 1.61511263]])"
      ]
     },
     "execution_count": 73,
     "metadata": {},
     "output_type": "execute_result"
    }
   ],
   "source": [
    "U.T@L.T@P.T@P@L@U "
   ]
  },
  {
   "cell_type": "code",
   "execution_count": 74,
   "id": "6a3225a0-8b0b-4e1b-9c5f-10bc93fd0399",
   "metadata": {},
   "outputs": [
    {
     "data": {
      "text/plain": [
       "array([[1., 0., 0., 0., 0.],\n",
       "       [0., 1., 0., 0., 0.],\n",
       "       [0., 0., 1., 0., 0.],\n",
       "       [0., 0., 0., 1., 0.],\n",
       "       [0., 0., 0., 0., 1.]])"
      ]
     },
     "execution_count": 74,
     "metadata": {},
     "output_type": "execute_result"
    }
   ],
   "source": [
    "P.T@P## 단위행렬이 되기 때문에 영향이 없으므로 생략해도 된다."
   ]
  }
 ],
 "metadata": {
  "kernelspec": {
   "display_name": "Python 3 (ipykernel)",
   "language": "python",
   "name": "python3"
  },
  "language_info": {
   "codemirror_mode": {
    "name": "ipython",
    "version": 3
   },
   "file_extension": ".py",
   "mimetype": "text/x-python",
   "name": "python",
   "nbconvert_exporter": "python",
   "pygments_lexer": "ipython3",
   "version": "3.11.5"
  }
 },
 "nbformat": 4,
 "nbformat_minor": 5
}
