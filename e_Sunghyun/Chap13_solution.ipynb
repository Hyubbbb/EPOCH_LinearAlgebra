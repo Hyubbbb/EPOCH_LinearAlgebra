{
 "cells": [
  {
   "cell_type": "markdown",
   "id": "1d41543d-18e1-434e-9ba1-074cadd8fa43",
   "metadata": {},
   "source": [
    "### 연습 문제 13-1"
   ]
  },
  {
   "cell_type": "code",
   "execution_count": 1,
   "id": "5a7022ee-8798-4b15-8d0d-7ba7e2001894",
   "metadata": {},
   "outputs": [],
   "source": [
    "import numpy as np\n",
    "\n",
    "A = np.random.randn(5,5)\n",
    "A = A.T@A\n",
    "\n",
    "evals,evecs = np.linalg.eig(A)\n",
    "U,s,Vt = np.linalg.svd(A)"
   ]
  },
  {
   "cell_type": "code",
   "execution_count": 8,
   "id": "15f058cf-39b5-43ce-b376-37d74a83873d",
   "metadata": {},
   "outputs": [
    {
     "name": "stdout",
     "output_type": "stream",
     "text": [
      "특잇값과 고윳값\n",
      "고윳값: [9.22625995 0.3981225  1.457307   4.40120706 4.59083221]\n",
      "특잇값: [9.22625995 4.59083221 4.40120706 1.457307   0.3981225 ]\n"
     ]
    }
   ],
   "source": [
    "print(\"특잇값과 고윳값\")\n",
    "print(\"고윳값:\", evals)\n",
    "print(\"특잇값:\", s)"
   ]
  },
  {
   "cell_type": "code",
   "execution_count": 13,
   "id": "ba24d604-7da3-4189-bc3a-c4ff01284220",
   "metadata": {},
   "outputs": [
    {
     "name": "stdout",
     "output_type": "stream",
     "text": [
      "특이 벡터와 고유벡터\n",
      "U: [[-0.42950136  0.39819164 -0.42348775 -0.51776015 -0.45777128]\n",
      " [-0.0797505  -0.36651    -0.55920972  0.61043752 -0.41708608]\n",
      " [ 0.16685674  0.60243421  0.41998333  0.42523553 -0.50201652]\n",
      " [-0.25904919  0.54545084 -0.34909331  0.38625602  0.60358682]\n",
      " [-0.84511584 -0.21603297  0.45791973  0.17108909 -0.01212533]]\n",
      "V: [[-0.42950136  0.39819164 -0.42348775 -0.51776015 -0.45777128]\n",
      " [-0.0797505  -0.36651    -0.55920972  0.61043752 -0.41708608]\n",
      " [ 0.16685674  0.60243421  0.41998333  0.42523553 -0.50201652]\n",
      " [-0.25904919  0.54545084 -0.34909331  0.38625602  0.60358682]\n",
      " [-0.84511584 -0.21603297  0.45791973  0.17108909 -0.01212533]]\n",
      "evecs: [[ 0.42950136  0.45777128  0.51776015  0.42348775  0.39819164]\n",
      " [ 0.0797505   0.41708608 -0.61043752  0.55920972 -0.36651   ]\n",
      " [-0.16685674  0.50201652 -0.42523553 -0.41998333  0.60243421]\n",
      " [ 0.25904919 -0.60358682 -0.38625602  0.34909331  0.54545084]\n",
      " [ 0.84511584  0.01212533 -0.17108909 -0.45791973 -0.21603297]]\n"
     ]
    }
   ],
   "source": [
    "print(\"특이 벡터와 고유벡터\")\n",
    "print(\"U:\", U)\n",
    "print(\"V:\", Vt.T)\n",
    "print(\"evecs:\", evecs)"
   ]
  },
  {
   "cell_type": "code",
   "execution_count": 15,
   "id": "c048217a-741b-4b30-a0ea-df6d56e45e85",
   "metadata": {},
   "outputs": [],
   "source": [
    "A = np.random.randn(5,5)\n",
    "A = A.T+A\n",
    "\n",
    "evals,evecs = np.linalg.eig(A)\n",
    "U,s,Vt = np.linalg.svd(A)"
   ]
  },
  {
   "cell_type": "code",
   "execution_count": 16,
   "id": "28e37e4f-c276-4745-9ef4-925140790a8e",
   "metadata": {},
   "outputs": [
    {
     "name": "stdout",
     "output_type": "stream",
     "text": [
      "특잇값과 고윳값\n",
      "고윳값: [ 5.77862576  3.01711032 -4.33230928 -2.25773801  0.51544122]\n",
      "특잇값: [5.77862576 4.33230928 3.01711032 2.25773801 0.51544122]\n",
      "\n",
      "특이 벡터와 고유벡터\n",
      "U: [[-0.29766006 -0.4532524  -0.7914043  -0.27458002  0.06515982]\n",
      " [-0.47645189 -0.55642361  0.31366156  0.43031491 -0.42406587]\n",
      " [-0.39117399 -0.09476354  0.22328921  0.14476522  0.87589254]\n",
      " [ 0.6439221  -0.68960847  0.22402388 -0.16205066  0.18264001]\n",
      " [-0.34167136 -0.02037303  0.41862978 -0.8319961  -0.12400492]]\n",
      "V: [[-0.29766006  0.4532524  -0.7914043   0.27458002  0.06515982]\n",
      " [-0.47645189  0.55642361  0.31366156 -0.43031491 -0.42406587]\n",
      " [-0.39117399  0.09476354  0.22328921 -0.14476522  0.87589254]\n",
      " [ 0.6439221   0.68960847  0.22402388  0.16205066  0.18264001]\n",
      " [-0.34167136  0.02037303  0.41862978  0.8319961  -0.12400492]]\n",
      "evecs: [[ 0.29766006 -0.7914043  -0.4532524  -0.27458002 -0.06515982]\n",
      " [ 0.47645189  0.31366156 -0.55642361  0.43031491  0.42406587]\n",
      " [ 0.39117399  0.22328921 -0.09476354  0.14476522 -0.87589254]\n",
      " [-0.6439221   0.22402388 -0.68960847 -0.16205066 -0.18264001]\n",
      " [ 0.34167136  0.41862978 -0.02037303 -0.8319961   0.12400492]]\n"
     ]
    }
   ],
   "source": [
    "print(\"특잇값과 고윳값\")\n",
    "print(\"고윳값:\", evals)\n",
    "print(\"특잇값:\", s)\n",
    "print()\n",
    "print(\"특이 벡터와 고유벡터\")\n",
    "print(\"U:\", U)\n",
    "print(\"V:\", Vt.T)\n",
    "print(\"evecs:\", evecs)"
   ]
  },
  {
   "cell_type": "markdown",
   "id": "2bcdb7f9-9967-4f9f-8d17-ccff95658060",
   "metadata": {},
   "source": [
    "### 연습 문제 13-2"
   ]
  },
  {
   "cell_type": "code",
   "execution_count": 18,
   "id": "9bc8aa87-ac56-49a1-8cee-7616f21c57d4",
   "metadata": {},
   "outputs": [
    {
     "name": "stdout",
     "output_type": "stream",
     "text": [
      "1.466467532707103\n",
      "1.4664675327071026\n"
     ]
    }
   ],
   "source": [
    "# The proof that |Uw|=|w| comes from expanding the vector magnitude to the dot product:\n",
    "# |Uw|^2 = (Uw)'(Uw) = w'U'U'w = w'Iw = w'w = |w|^2\n",
    "# 무슨말일까\n",
    "U,s,Vt = np.linalg.svd(np.random.randn(5,5))\n",
    "w = np.random.randn(5,1)\n",
    "\n",
    "print( np.linalg.norm(U@w) )\n",
    "print( np.linalg.norm(  w) )"
   ]
  },
  {
   "cell_type": "code",
   "execution_count": 19,
   "id": "076a7343-dc92-4bbc-91c2-4454fe427f67",
   "metadata": {},
   "outputs": [
    {
     "data": {
      "text/plain": [
       "array([[ 0.90717562, -0.07747501,  0.27751653, -0.26563132,  0.15314893],\n",
       "       [ 0.11310966, -0.89902239, -0.22742975,  0.31984704, -0.1579194 ],\n",
       "       [-0.11772113, -0.0515804 ,  0.8135152 ,  0.54774762,  0.14712838],\n",
       "       [ 0.34744328,  0.37943473, -0.43901594,  0.71628893,  0.17177782],\n",
       "       [ 0.17223095,  0.19780071,  0.12929929,  0.11849298, -0.94892175]])"
      ]
     },
     "execution_count": 19,
     "metadata": {},
     "output_type": "execute_result"
    }
   ],
   "source": [
    "U"
   ]
  },
  {
   "cell_type": "code",
   "execution_count": 20,
   "id": "33aee819-c7da-4edc-8117-c6fdf9a43206",
   "metadata": {},
   "outputs": [
    {
     "data": {
      "text/plain": [
       "array([[ 0.59664072],\n",
       "       [-0.44529204],\n",
       "       [-0.10055192],\n",
       "       [-1.21486969],\n",
       "       [ 0.33202833]])"
      ]
     },
     "execution_count": 20,
     "metadata": {},
     "output_type": "execute_result"
    }
   ],
   "source": [
    "w"
   ]
  },
  {
   "cell_type": "code",
   "execution_count": 21,
   "id": "46eef158-afc7-4cee-b073-5731f355f6f8",
   "metadata": {},
   "outputs": [
    {
     "data": {
      "text/plain": [
       "array([[ 0.92140932],\n",
       "       [ 0.04967565],\n",
       "       [-0.74566058],\n",
       "       [-0.73067917],\n",
       "       [-0.45734282]])"
      ]
     },
     "execution_count": 21,
     "metadata": {},
     "output_type": "execute_result"
    }
   ],
   "source": [
    "U@w"
   ]
  },
  {
   "cell_type": "markdown",
   "id": "bc88b58c-cbcd-4d44-977d-3db703c1e105",
   "metadata": {},
   "source": [
    "### 연습 문제 13-7"
   ]
  },
  {
   "cell_type": "code",
   "execution_count": 23,
   "id": "ebf1632f-d6cf-4a36-a7b1-6bae1a09a00d",
   "metadata": {},
   "outputs": [
    {
     "name": "stdout",
     "output_type": "stream",
     "text": [
      "[[-0.  0.  0.  0.  0.  0.]\n",
      " [ 0.  0.  0.  0. -0. -0.]\n",
      " [ 0. -0.  0.  0.  0.  0.]\n",
      " [-0.  0.  0.  0. -0.  0.]]\n"
     ]
    }
   ],
   "source": [
    "A = np.random.randn(6,4)\n",
    "\n",
    "Linv = np.linalg.inv(A.T@A)@A.T\n",
    "\n",
    "Apinv = np.linalg.pinv(A)\n",
    "\n",
    "print(np.round( Linv - Apinv ,5))"
   ]
  },
  {
   "cell_type": "code",
   "execution_count": 24,
   "id": "8cfe54e1-120b-4697-a46b-e77dfd621533",
   "metadata": {},
   "outputs": [
    {
     "name": "stdout",
     "output_type": "stream",
     "text": [
      "[[-0.  0.  0. -0.]\n",
      " [ 0. -0.  0. -0.]\n",
      " [ 0. -0.  0.  0.]\n",
      " [-0. -0. -0.  0.]\n",
      " [ 0. -0. -0. -0.]\n",
      " [ 0. -0. -0.  0.]]\n"
     ]
    }
   ],
   "source": [
    "A = np.random.randn(4,6)\n",
    "\n",
    "Rinv = A.T@np.linalg.inv(A@A.T)\n",
    "\n",
    "Apinv = np.linalg.pinv(A)\n",
    "\n",
    "print(np.round( Rinv - Apinv ,5))"
   ]
  },
  {
   "cell_type": "code",
   "execution_count": null,
   "id": "c72c08f2-83eb-4660-b9ad-326522d9f305",
   "metadata": {},
   "outputs": [],
   "source": []
  }
 ],
 "metadata": {
  "kernelspec": {
   "display_name": "Python 3 (ipykernel)",
   "language": "python",
   "name": "python3"
  },
  "language_info": {
   "codemirror_mode": {
    "name": "ipython",
    "version": 3
   },
   "file_extension": ".py",
   "mimetype": "text/x-python",
   "name": "python",
   "nbconvert_exporter": "python",
   "pygments_lexer": "ipython3",
   "version": "3.11.5"
  }
 },
 "nbformat": 4,
 "nbformat_minor": 5
}
