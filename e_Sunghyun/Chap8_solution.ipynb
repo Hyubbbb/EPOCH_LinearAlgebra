{
 "cells": [
  {
   "cell_type": "code",
   "execution_count": 1,
   "id": "b3c1de03-523c-4e4c-aeab-54c23c584d27",
   "metadata": {},
   "outputs": [],
   "source": [
    "import numpy as np"
   ]
  },
  {
   "cell_type": "markdown",
   "id": "c1a83eb8-fc39-4b53-b57a-6132f40ea7ba",
   "metadata": {},
   "source": [
    "### 연습 문제 8-1"
   ]
  },
  {
   "cell_type": "code",
   "execution_count": 6,
   "id": "29656dd2-5049-414c-9679-a0909ff0050e",
   "metadata": {},
   "outputs": [],
   "source": [
    "m=np.random.randn(25).reshape(5,5)"
   ]
  },
  {
   "cell_type": "code",
   "execution_count": 19,
   "id": "b256caf6-c991-4525-8126-34a0f7abad05",
   "metadata": {},
   "outputs": [],
   "source": [
    "I=np.eye(5,5)"
   ]
  },
  {
   "cell_type": "code",
   "execution_count": 8,
   "id": "9a17f74c-ded6-476d-be7a-a5df85527c2d",
   "metadata": {},
   "outputs": [],
   "source": [
    "Q,R=np.linalg.qr(m)"
   ]
  },
  {
   "cell_type": "code",
   "execution_count": 18,
   "id": "6d4d4e0d-a1d9-4a7c-b9e9-641a8b04008f",
   "metadata": {},
   "outputs": [],
   "source": [
    "Qi=np.linalg.inv(Q)"
   ]
  },
  {
   "cell_type": "code",
   "execution_count": 24,
   "id": "446ec5bb-a364-44d4-8dba-1ed60b484b6f",
   "metadata": {},
   "outputs": [
    {
     "data": {
      "text/plain": [
       "True"
      ]
     },
     "execution_count": 24,
     "metadata": {},
     "output_type": "execute_result"
    }
   ],
   "source": [
    "np.array_equal(np.round(Q.T@Q,15),I)"
   ]
  },
  {
   "cell_type": "code",
   "execution_count": 25,
   "id": "bca5913e-a3eb-43c5-bdbc-157800a879a1",
   "metadata": {},
   "outputs": [
    {
     "data": {
      "text/plain": [
       "True"
      ]
     },
     "execution_count": 25,
     "metadata": {},
     "output_type": "execute_result"
    }
   ],
   "source": [
    "np.array_equal(np.round(Q@Q.T,15),I)"
   ]
  },
  {
   "cell_type": "code",
   "execution_count": 26,
   "id": "3e09e57c-8a7b-47dc-9f66-d93799384612",
   "metadata": {},
   "outputs": [
    {
     "data": {
      "text/plain": [
       "True"
      ]
     },
     "execution_count": 26,
     "metadata": {},
     "output_type": "execute_result"
    }
   ],
   "source": [
    "np.array_equal(np.round(Qi@Q),I)"
   ]
  },
  {
   "cell_type": "code",
   "execution_count": 27,
   "id": "cdb5f842-e6e4-4cc3-8392-49a2b9eb56e9",
   "metadata": {},
   "outputs": [
    {
     "data": {
      "text/plain": [
       "True"
      ]
     },
     "execution_count": 27,
     "metadata": {},
     "output_type": "execute_result"
    }
   ],
   "source": [
    "np.array_equal(np.round(Q@Qi),I)"
   ]
  },
  {
   "cell_type": "markdown",
   "id": "72ba4b75-060e-446a-b2c4-396d6f09cb29",
   "metadata": {},
   "source": [
    "### 연습 문제 8-2"
   ]
  },
  {
   "cell_type": "code",
   "execution_count": 50,
   "id": "1cf40e48-d7f2-4359-86c9-24c75159ae79",
   "metadata": {},
   "outputs": [],
   "source": [
    "def orthogonalize(v1, v2):\n",
    "    projection = np.dot(v2, v1) / np.dot(v1, v1) * v1\n",
    "    v2_orthogonal = v2 - projection\n",
    "    return v2_orthogonal"
   ]
  },
  {
   "cell_type": "code",
   "execution_count": 51,
   "id": "8d672ae1-e337-46ea-b374-e43ab50b5acb",
   "metadata": {},
   "outputs": [],
   "source": [
    "def normalize(v):\n",
    "    norm = np.linalg.norm(v)\n",
    "    if norm == 0: \n",
    "       return v\n",
    "    return v / norm"
   ]
  },
  {
   "cell_type": "code",
   "execution_count": 65,
   "id": "86ad25de-f88c-4021-beb8-b7d3f60a7c6f",
   "metadata": {},
   "outputs": [],
   "source": [
    "A=np.random.randn(16).reshape(4,4)"
   ]
  },
  {
   "cell_type": "code",
   "execution_count": 66,
   "id": "8caed912-c2b1-4927-99b0-965a097d8d56",
   "metadata": {},
   "outputs": [],
   "source": [
    "Q1=A.copy()"
   ]
  },
  {
   "cell_type": "code",
   "execution_count": 67,
   "id": "f58e85fa-092d-4e88-9a45-dcd88eaf909a",
   "metadata": {},
   "outputs": [],
   "source": [
    "for i in range(4):\n",
    "    for j in range(i):\n",
    "        Q1[:,i]=orthogonalize(Q1[:,j],Q1[:,i])\n",
    "    Q1[:,i]=normalize(Q1[:,i])"
   ]
  },
  {
   "cell_type": "code",
   "execution_count": 68,
   "id": "f9074b59-adbf-4031-a9b2-b13c87f2d905",
   "metadata": {},
   "outputs": [],
   "source": [
    "Q2,R=np.linalg.qr(A)"
   ]
  },
  {
   "cell_type": "code",
   "execution_count": 72,
   "id": "4b140c80-bed8-4ce9-bea6-756a64860fb3",
   "metadata": {},
   "outputs": [
    {
     "data": {
      "text/plain": [
       "array([[ 1., -0.,  0., -0.],\n",
       "       [-0.,  1.,  0., -0.],\n",
       "       [ 0.,  0.,  1., -0.],\n",
       "       [-0., -0., -0.,  1.]])"
      ]
     },
     "execution_count": 72,
     "metadata": {},
     "output_type": "execute_result"
    }
   ],
   "source": [
    "np.round(Q1@Q1.T,3)"
   ]
  },
  {
   "cell_type": "code",
   "execution_count": 71,
   "id": "ca04f852-0b57-449e-838d-1cf24ebf6057",
   "metadata": {},
   "outputs": [
    {
     "data": {
      "text/plain": [
       "array([[ 1., -0., -0., -0.],\n",
       "       [-0.,  1., -0., -0.],\n",
       "       [-0., -0.,  1.,  0.],\n",
       "       [-0., -0.,  0.,  1.]])"
      ]
     },
     "execution_count": 71,
     "metadata": {},
     "output_type": "execute_result"
    }
   ],
   "source": [
    "np.round(Q2@Q2.T,3)"
   ]
  },
  {
   "cell_type": "markdown",
   "id": "33c35fab-5fab-4bc0-956c-956e20080a83",
   "metadata": {},
   "source": [
    "### 연습 문제 8-3"
   ]
  },
  {
   "cell_type": "code",
   "execution_count": 74,
   "id": "e39802fb-8ef1-47ae-a068-795584298cc4",
   "metadata": {},
   "outputs": [],
   "source": [
    "A=np.random.randn(36).reshape(6,6)"
   ]
  },
  {
   "cell_type": "code",
   "execution_count": 76,
   "id": "3d6c67da-b968-4f7f-8f99-10e6f7e0a03e",
   "metadata": {},
   "outputs": [],
   "source": [
    "Q,R=np.linalg.qr(A)"
   ]
  },
  {
   "cell_type": "code",
   "execution_count": 77,
   "id": "4de10876-28cb-4942-8230-33dea52ca312",
   "metadata": {},
   "outputs": [],
   "source": [
    "U=Q.copy()"
   ]
  },
  {
   "cell_type": "code",
   "execution_count": 78,
   "id": "a08a5eb1-f6fe-4e45-98a5-9ac13376b506",
   "metadata": {},
   "outputs": [],
   "source": [
    "Q,R=np.linalg.qr(U)"
   ]
  },
  {
   "cell_type": "code",
   "execution_count": 82,
   "id": "f88ad754-9612-455c-ac08-d1b9e9785f6c",
   "metadata": {},
   "outputs": [
    {
     "data": {
      "text/plain": [
       "True"
      ]
     },
     "execution_count": 82,
     "metadata": {},
     "output_type": "execute_result"
    }
   ],
   "source": [
    "np.array_equal(np.round(R,15), np.round(np.eye(6,6),15))"
   ]
  },
  {
   "cell_type": "code",
   "execution_count": 83,
   "id": "2e7a3b5c-ee30-49a5-9450-465647bbd6a1",
   "metadata": {},
   "outputs": [],
   "source": [
    "def normalize(v,i):\n",
    "    norm = np.linalg.norm(v)\n",
    "    if norm == 0: \n",
    "       return v\n",
    "    return v / norm*15"
   ]
  },
  {
   "cell_type": "code",
   "execution_count": 87,
   "id": "3ea7a749-558e-46d5-b0d2-1a14d19d97f4",
   "metadata": {},
   "outputs": [],
   "source": [
    "for i in range(6):\n",
    "    U[:,i]=normalize(U[:,i],i+10)"
   ]
  },
  {
   "cell_type": "code",
   "execution_count": 88,
   "id": "25f4b234-62ca-42a1-b6ae-05bf22519699",
   "metadata": {},
   "outputs": [],
   "source": [
    "Q,R=np.linalg.qr(U)"
   ]
  },
  {
   "cell_type": "code",
   "execution_count": 94,
   "id": "2e2738b5-2544-4a27-9554-2bec19b46a9c",
   "metadata": {},
   "outputs": [
    {
     "data": {
      "text/plain": [
       "array([[15.,  0., -0., -0., -0.,  0.],\n",
       "       [ 0., 15.,  0.,  0.,  0.,  0.],\n",
       "       [ 0.,  0., 15., -0.,  0.,  0.],\n",
       "       [ 0.,  0.,  0., 15., -0.,  0.],\n",
       "       [ 0.,  0.,  0.,  0., 15., -0.],\n",
       "       [ 0.,  0.,  0.,  0.,  0., 15.]])"
      ]
     },
     "execution_count": 94,
     "metadata": {},
     "output_type": "execute_result"
    }
   ],
   "source": [
    "np.round(R,3)"
   ]
  },
  {
   "cell_type": "code",
   "execution_count": 93,
   "id": "aeaa809f-b761-47c1-8b09-a785c05632c4",
   "metadata": {},
   "outputs": [
    {
     "data": {
      "text/plain": [
       "array([[ 1.,  0., -0.,  0., -0.,  0.],\n",
       "       [ 0.,  1., -0.,  0.,  0.,  0.],\n",
       "       [-0., -0.,  1.,  0., -0., -0.],\n",
       "       [ 0.,  0.,  0.,  1., -0.,  0.],\n",
       "       [-0.,  0., -0., -0.,  1., -0.],\n",
       "       [ 0.,  0., -0.,  0., -0.,  1.]])"
      ]
     },
     "execution_count": 93,
     "metadata": {},
     "output_type": "execute_result"
    }
   ],
   "source": [
    "np.round(Q.T@Q,3)"
   ]
  },
  {
   "cell_type": "code",
   "execution_count": 95,
   "id": "813106d5-4e86-4166-ab25-2d003a23e7d7",
   "metadata": {},
   "outputs": [],
   "source": [
    "U[1,4]=0"
   ]
  },
  {
   "cell_type": "code",
   "execution_count": 96,
   "id": "635f7231-f010-4369-ad16-dc8c1b77ccb8",
   "metadata": {},
   "outputs": [],
   "source": [
    "Q,R=np.linalg.qr(U)"
   ]
  },
  {
   "cell_type": "code",
   "execution_count": 98,
   "id": "6fa0aa76-1495-476e-b3fc-b863cdf718ef",
   "metadata": {},
   "outputs": [
    {
     "data": {
      "text/plain": [
       "array([[15.   ,  0.   , -0.   , -0.   , -0.495,  0.   ],\n",
       "       [ 0.   , 15.   ,  0.   ,  0.   ,  0.503,  0.   ],\n",
       "       [ 0.   ,  0.   , 15.   , -0.   ,  0.026,  0.   ],\n",
       "       [ 0.   ,  0.   ,  0.   , 15.   , -1.302,  0.   ],\n",
       "       [ 0.   ,  0.   ,  0.   ,  0.   , 14.82 , -0.98 ],\n",
       "       [ 0.   ,  0.   ,  0.   ,  0.   ,  0.   , 14.968]])"
      ]
     },
     "execution_count": 98,
     "metadata": {},
     "output_type": "execute_result"
    }
   ],
   "source": [
    "np.round(R,3)"
   ]
  },
  {
   "cell_type": "markdown",
   "id": "372c01e1-c73e-47af-855b-cb004d48cb17",
   "metadata": {},
   "source": [
    "### 연습 문제 8-6"
   ]
  },
  {
   "cell_type": "code",
   "execution_count": 141,
   "id": "3e898f62-758c-4d3e-abdc-40c180db27f7",
   "metadata": {},
   "outputs": [],
   "source": [
    "A=np.random.randn(4,4)"
   ]
  },
  {
   "cell_type": "code",
   "execution_count": 155,
   "id": "558bd139-3cec-47b7-aee0-bbdbba088459",
   "metadata": {},
   "outputs": [],
   "source": [
    "Q,R=np.linalg.qr(A)"
   ]
  },
  {
   "cell_type": "code",
   "execution_count": 156,
   "id": "368f16bb-d807-4736-829e-7d4c694fdfaf",
   "metadata": {},
   "outputs": [
    {
     "data": {
      "text/plain": [
       "array([[-0.6058158 , -0.21698419, -0.67921096, -0.35295545],\n",
       "       [ 0.16273116, -0.72112288,  0.3756654 , -0.55890595],\n",
       "       [ 0.71628901,  0.24149162, -0.49099899, -0.43304946],\n",
       "       [ 0.30567276, -0.6120306 , -0.39556031,  0.61279258]])"
      ]
     },
     "execution_count": 156,
     "metadata": {},
     "output_type": "execute_result"
    }
   ],
   "source": [
    "Q"
   ]
  },
  {
   "cell_type": "code",
   "execution_count": 157,
   "id": "2ad19000-637e-43b7-9c55-014a74d5a722",
   "metadata": {},
   "outputs": [
    {
     "data": {
      "text/plain": [
       "1.0"
      ]
     },
     "execution_count": 157,
     "metadata": {},
     "output_type": "execute_result"
    }
   ],
   "source": [
    "np.linalg.norm(Q,2)"
   ]
  },
  {
   "cell_type": "code",
   "execution_count": 158,
   "id": "6b636d95-7954-4ab0-b187-c6dfff01ff35",
   "metadata": {},
   "outputs": [
    {
     "data": {
      "text/plain": [
       "1.0"
      ]
     },
     "execution_count": 158,
     "metadata": {},
     "output_type": "execute_result"
    }
   ],
   "source": [
    "np.sqrt(np.sum(Q**2))/np.sqrt(4) "
   ]
  },
  {
   "cell_type": "code",
   "execution_count": 159,
   "id": "19d463d2-e83c-46dd-8661-449c4de9c603",
   "metadata": {},
   "outputs": [],
   "source": [
    "v=np.random.randn(4).reshape(-1,1)"
   ]
  },
  {
   "cell_type": "code",
   "execution_count": 160,
   "id": "34d81a85-a3a0-4329-9a91-3500a4b558e0",
   "metadata": {},
   "outputs": [
    {
     "data": {
      "text/plain": [
       "array([[ 0.38118265],\n",
       "       [-0.50939517],\n",
       "       [ 0.84116475],\n",
       "       [-1.02122601]])"
      ]
     },
     "execution_count": 160,
     "metadata": {},
     "output_type": "execute_result"
    }
   ],
   "source": [
    "v"
   ]
  },
  {
   "cell_type": "code",
   "execution_count": 161,
   "id": "67f2035f-e682-49d6-a3bd-9809b06d2603",
   "metadata": {},
   "outputs": [
    {
     "data": {
      "text/plain": [
       "1.4680750516717764"
      ]
     },
     "execution_count": 161,
     "metadata": {},
     "output_type": "execute_result"
    }
   ],
   "source": [
    "np.linalg.norm(v)"
   ]
  },
  {
   "cell_type": "code",
   "execution_count": 162,
   "id": "867c6d53-fc7a-4342-873d-41e6ad66d343",
   "metadata": {},
   "outputs": [],
   "source": [
    "Qv = np.linalg.norm(Q@v)"
   ]
  },
  {
   "cell_type": "code",
   "execution_count": 163,
   "id": "b11a7181-d91b-46ea-8274-e7ec8eb44622",
   "metadata": {},
   "outputs": [
    {
     "data": {
      "text/plain": [
       "1.4680750516717767"
      ]
     },
     "execution_count": 163,
     "metadata": {},
     "output_type": "execute_result"
    }
   ],
   "source": [
    "np.linalg.norm(Qv)"
   ]
  },
  {
   "cell_type": "markdown",
   "id": "79801d5e-7bbe-4ebb-9f30-d27cf3dd1b7a",
   "metadata": {},
   "source": [
    "### 연습 문제 8-7"
   ]
  },
  {
   "cell_type": "code",
   "execution_count": 164,
   "id": "aea239dc-b1ca-4703-9da5-98cb362735a2",
   "metadata": {},
   "outputs": [],
   "source": [
    "A=np.random.randn(10,4)"
   ]
  },
  {
   "cell_type": "code",
   "execution_count": 165,
   "id": "8278c525-8beb-4bf9-8f58-d30d4ef1cd41",
   "metadata": {},
   "outputs": [],
   "source": [
    "Q,R=np.linalg.qr(A,'complete')"
   ]
  },
  {
   "cell_type": "code",
   "execution_count": 167,
   "id": "4568af33-a712-4dbf-9382-ea8a6482ac9e",
   "metadata": {},
   "outputs": [
    {
     "data": {
      "text/plain": [
       "array([[ 2.454,  0.947,  0.048, -0.589],\n",
       "       [ 0.   , -3.379,  0.196,  0.092],\n",
       "       [ 0.   ,  0.   ,  4.123, -0.525],\n",
       "       [ 0.   ,  0.   ,  0.   ,  1.473],\n",
       "       [ 0.   ,  0.   ,  0.   ,  0.   ],\n",
       "       [ 0.   ,  0.   ,  0.   ,  0.   ],\n",
       "       [ 0.   ,  0.   ,  0.   ,  0.   ],\n",
       "       [ 0.   ,  0.   ,  0.   ,  0.   ],\n",
       "       [ 0.   ,  0.   ,  0.   ,  0.   ],\n",
       "       [ 0.   ,  0.   ,  0.   ,  0.   ]])"
      ]
     },
     "execution_count": 167,
     "metadata": {},
     "output_type": "execute_result"
    }
   ],
   "source": [
    "np.round(R,3)"
   ]
  },
  {
   "cell_type": "code",
   "execution_count": 170,
   "id": "bb12bd38-fc4c-4155-9870-1a98337a844e",
   "metadata": {},
   "outputs": [],
   "source": [
    "Rn=R[:4,:]"
   ]
  },
  {
   "cell_type": "code",
   "execution_count": 176,
   "id": "32ab18f3-9041-4525-a73e-ed4953bac9e3",
   "metadata": {},
   "outputs": [
    {
     "data": {
      "text/plain": [
       "array([[ 0.4,  0.1, -0. ,  0.2],\n",
       "       [-0. , -0.3,  0. ,  0. ],\n",
       "       [ 0. ,  0. ,  0.2,  0.1],\n",
       "       [ 0. ,  0. ,  0. ,  0.7]])"
      ]
     },
     "execution_count": 176,
     "metadata": {},
     "output_type": "execute_result"
    }
   ],
   "source": [
    "np.round(np.linalg.inv(Rn),1)"
   ]
  },
  {
   "cell_type": "code",
   "execution_count": 175,
   "id": "d0b2331c-43cc-415e-b15c-d181547b32cb",
   "metadata": {},
   "outputs": [
    {
     "data": {
      "text/plain": [
       "array([[ 0.4,  0.1, -0. ,  0.2,  0. ,  0. ,  0. ,  0. ,  0. ,  0. ],\n",
       "       [-0. , -0.3,  0. ,  0. ,  0. ,  0. ,  0. ,  0. ,  0. ,  0. ],\n",
       "       [ 0. , -0. ,  0.2,  0.1,  0. ,  0. ,  0. ,  0. ,  0. ,  0. ],\n",
       "       [ 0. ,  0. , -0. ,  0.7,  0. ,  0. ,  0. ,  0. ,  0. ,  0. ]])"
      ]
     },
     "execution_count": 175,
     "metadata": {},
     "output_type": "execute_result"
    }
   ],
   "source": [
    "np.round(np.linalg.pinv(R),1)"
   ]
  },
  {
   "cell_type": "code",
   "execution_count": null,
   "id": "3442c0c0-6336-4771-bd9e-524d7e820811",
   "metadata": {},
   "outputs": [],
   "source": []
  }
 ],
 "metadata": {
  "kernelspec": {
   "display_name": "Python 3 (ipykernel)",
   "language": "python",
   "name": "python3"
  },
  "language_info": {
   "codemirror_mode": {
    "name": "ipython",
    "version": 3
   },
   "file_extension": ".py",
   "mimetype": "text/x-python",
   "name": "python",
   "nbconvert_exporter": "python",
   "pygments_lexer": "ipython3",
   "version": "3.11.5"
  }
 },
 "nbformat": 4,
 "nbformat_minor": 5
}
