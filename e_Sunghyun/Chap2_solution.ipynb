{
 "cells": [
  {
   "cell_type": "markdown",
   "id": "269c1d5a-cc53-42cb-8010-7977514df97d",
   "metadata": {},
   "source": [
    "### 연습문제 2-1"
   ]
  },
  {
   "cell_type": "code",
   "execution_count": 14,
   "id": "a382c850-e278-4f2e-9828-622ed64e6539",
   "metadata": {},
   "outputs": [],
   "source": [
    "import numpy as np\n",
    "import matplotlib.pyplot as plt"
   ]
  },
  {
   "cell_type": "code",
   "execution_count": 3,
   "id": "85ecd77b-1aa6-4b55-8010-10fa8191ce93",
   "metadata": {},
   "outputs": [],
   "source": [
    "list1=[2,4,1]\n",
    "list2=np.array([[1,4,2],[2,3,4],[5,3,4]])"
   ]
  },
  {
   "cell_type": "code",
   "execution_count": 8,
   "id": "ba8009d4-0c63-44dd-ad98-270676d4b271",
   "metadata": {},
   "outputs": [
    {
     "data": {
      "text/plain": [
       "array([15., 23., 24.])"
      ]
     },
     "execution_count": 8,
     "metadata": {},
     "output_type": "execute_result"
    }
   ],
   "source": [
    "a=np.zeros(len(list1))\n",
    "for i in range(len(list1)):\n",
    "   a+=list1[i]*list2[i]\n",
    "a"
   ]
  },
  {
   "cell_type": "markdown",
   "id": "dbf087c9-a620-4ee8-9dd0-75b37c7aa228",
   "metadata": {},
   "source": [
    "### 연습문제 2-3"
   ]
  },
  {
   "cell_type": "code",
   "execution_count": 9,
   "id": "7a2897eb-6408-4c56-abf5-33f3f0d5335d",
   "metadata": {},
   "outputs": [],
   "source": [
    "V=np.array([1,3])"
   ]
  },
  {
   "cell_type": "code",
   "execution_count": 13,
   "id": "1f174a8a-480f-4b41-b68f-9ce1f5f5fb7d",
   "metadata": {},
   "outputs": [],
   "source": [
    "scaler=np.array([np.random.uniform(-4,4) for i in range(100)])"
   ]
  },
  {
   "cell_type": "code",
   "execution_count": 20,
   "id": "e2266516-c8f2-4686-86c6-452e5222710e",
   "metadata": {},
   "outputs": [
    {
     "data": {
      "text/plain": [
       "array([-2.80869187, -8.42607562])"
      ]
     },
     "execution_count": 20,
     "metadata": {},
     "output_type": "execute_result"
    }
   ],
   "source": [
    "V*scaler[0]"
   ]
  },
  {
   "cell_type": "code",
   "execution_count": 21,
   "id": "3ec6afa2-2d26-41f2-8b2d-bc2c4245c267",
   "metadata": {},
   "outputs": [
    {
     "data": {
      "image/png": "[encoded data removed]",
      "text/plain": [
       "<Figure size 640x480 with 1 Axes>"
      ]
     },
     "metadata": {},
     "output_type": "display_data"
    }
   ],
   "source": [
    "plt.figure(figure=(7,7))\n",
    "\n",
    "for i in range(100):\n",
    "    p=V*scaler[i]\n",
    "    plt.plot(p[0],p[1],'ko')\n",
    "plt.grid()\n",
    "plt.show()"
   ]
  },
  {
   "cell_type": "code",
   "execution_count": 23,
   "id": "82a0444a-c02a-4ac3-a908-d1dd9419b28b",
   "metadata": {},
   "outputs": [],
   "source": [
    "v1=np.array([3,5,1])\n",
    "v2=np.array([0,2,2])"
   ]
  },
  {
   "cell_type": "code",
   "execution_count": 36,
   "id": "7f1cf88d-4981-4f8d-87e2-7a03049f5315",
   "metadata": {},
   "outputs": [
    {
     "data": {
      "application/vnd.plotly.v1+json": {
       "config": {
        "plotlyServerURL": "https://plot.ly"
       },
       "data": [
        {
         "mode": "markers",
         "type": "scatter3d",
         "x": [
          10.259811520349505,
          -4.866845335085682,
          7.668014139044727,
          -3.893241516018567,
          2.1476638068666523,
          9.478056684919405,
          -7.0783561336894305,
          -9.86873883869705,
          -7.892989737270137,
          -5.541719568473858,
          -8.392420933226832,
          -7.18375374679392,
          9.48474482738653,
          -2.0326749381674967,
          -9.593254980649185,
          4.4848688242761785,
          10.492154700077501,
          4.874822009656672,
          -3.901636880518881,
          10.929129234199845,
          -8.742956244409584,
          -4.6459526711936485,
          6.078968987075311,
          3.282651554241177,
          8.749708048197078,
          11.479650084129705,
          -9.039478377005613,
          9.59230108611111,
          -3.92394495763216,
          -9.093878087657625,
          4.5505093123199,
          -2.007702076647793,
          4.2274391267094265,
          -11.336971395050913,
          -0.14051662962046585,
          -11.595639478752634,
          -11.117753771467699,
          11.513185469150358,
          0.9030198002284866,
          -7.245895815689729,
          -4.247569742827591,
          -3.992465186005359,
          -0.5153007603608888,
          -9.749592373587841,
          0.2977548958959062,
          11.879282739885847,
          -6.161484581823939,
          10.397975915489905,
          -11.014970107921318,
          -4.103215311561961,
          11.152259718159002,
          8.791781373474269,
          -11.31010686325699,
          -7.818283415635469,
          6.521335281769385,
          5.168574970002048,
          -9.052801120523586,
          5.7097847673831055,
          8.671551205126601,
          10.955840650295755,
          -6.281974877973507,
          -11.437780098959326,
          -2.5055277768965247,
          4.106277073544682,
          -10.887852633705666,
          -7.408807736233219,
          11.563764197561438,
          -0.5405713763644,
          -1.4648184588745607,
          7.954885096205163,
          4.147625637189687,
          0.5419160148327196,
          4.629384200312511,
          0.9650338159124825,
          -2.667597725621426,
          0.1542444082017509,
          -8.813023083884282,
          -4.103528194371214,
          -11.347074540519706,
          -4.231882329165628,
          -11.971152710640737,
          2.248906683202736,
          7.049540889898676,
          8.179338308555245,
          -0.6733591318884802,
          10.340849082606061,
          10.235614211596657,
          10.312497668626543,
          -11.202415928030675,
          11.30076042146705,
          3.744384570278548,
          -6.083972219094103,
          6.490708077454605,
          11.592990928557487,
          9.27435416285128,
          -11.776090294146057,
          8.943676382297287,
          2.388098722416797,
          6.15789615868522,
          -0.24990887173358622
         ],
         "y": [
          23.26984517380596,
          -11.097300868029485,
          17.22985056401064,
          -10.6874679006505,
          -3.4279190714653387,
          7.838227909932629,
          -9.427580931703378,
          -23.11775270857602,
          -17.354687729698036,
          -15.899219090259251,
          -20.263117675570562,
          -6.880068907005313,
          20.587601997732822,
          -0.7207371247846028,
          -8.204485855482403,
          13.698076234204729,
          15.489164312244657,
          3.637576140258478,
          -8.270923770447249,
          20.094370956616714,
          -19.330471454246137,
          -0.9458426685177157,
          11.039786440635421,
          -2.040901767698477,
          21.96834919738742,
          20.737607780651345,
          -16.468906628881392,
          22.119158237603944,
          -7.942008746492779,
          -12.73695064295899,
          15.336332361129276,
          2.5964731402186816,
          9.12994631721001,
          -22.629629228909607,
          -3.994893866816019,
          -12.925331898853955,
          -23.035013122991835,
          21.39667237968102,
          -1.0244324428983802,
          -5.821311826620924,
          -3.293707558209097,
          -10.042073703434852,
          -5.133689663906768,
          -13.004084780535552,
          0.23199214160657533,
          16.210009643430553,
          -17.023878775165475,
          25.087816012111215,
          -20.97071321261386,
          -5.427383846286412,
          26.20000361258031,
          21.433814852491928,
          -17.445046901137935,
          -9.541247674260871,
          18.286643419323127,
          10.24436290371423,
          -13.015559556443854,
          6.403962910436647,
          7.129381628811256,
          24.69288210666698,
          -11.046710222766231,
          -20.896400997104685,
          -1.1054552438560457,
          -0.4653553271867672,
          -23.073037995771394,
          -4.459555749473445,
          23.34746998709882,
          -6.897717907842305,
          5.0607137129918005,
          18.21768814025595,
          3.47098295155865,
          -0.4043255475312746,
          12.355988759130316,
          5.598117131924518,
          -9.176871079378312,
          5.455440193607022,
          -21.186687083109753,
          0.6946722329216302,
          -13.433160911514088,
          -7.080266871943945,
          -20.032336929941305,
          1.4745363246629237,
          14.408194629817471,
          15.353531232991367,
          -3.6778692270822884,
          16.70746869774722,
          19.982933121531023,
          18.429005385700926,
          -15.62688696168013,
          12.400792572584331,
          4.978184388789746,
          -10.285444241658302,
          7.336403036660132,
          13.531985740743771,
          9.998956482242233,
          -26.16334363320984,
          20.46139297100705,
          10.00679180166523,
          6.3601662062141635,
          -1.4567688678797683
         ],
         "z": [
          9.590096480006624,
          -4.608173754581908,
          7.005831711951005,
          -5.496479212625743,
          -6.291470813954208,
          -4.799181003293243,
          0.010227246549195712,
          -9.959434256979952,
          -6.830701413337851,
          -8.51025966562744,
          -9.073223097934784,
          2.6982694220532473,
          7.941275561217449,
          1.9894961261053927,
          4.586520785383175,
          7.718251135169824,
          1.4996247121413209,
          -2.8621865392837513,
          -3.068741263088741,
          5.522198644350253,
          -7.6731964617000274,
          5.248760893073816,
          2.9344944578683387,
          -6.417770506686713,
          10.302071799791312,
          5.431407668478404,
          -4.416268792873909,
          9.329423456122463,
          -2.710082136316566,
          -0.6117798594154911,
          9.26898661136941,
          5.273409242415739,
          3.4933608149307736,
          -7.513667368841723,
          -3.807538360655398,
          2.535520739482891,
          -8.211341427701566,
          6.04575842081388,
          -2.228458843203029,
          3.8398825942987154,
          2.369718765561024,
          -4.718786788761041,
          -4.446621983425583,
          -0.0046282824184276095,
          -0.16501438625463294,
          0.3709659902494238,
          -8.808565999400223,
          11.223848124791342,
          -6.284086402052101,
          0.043569902462868626,
          11.33032398836831,
          9.711439687859574,
          -2.3649044167952775,
          0.8831302132530867,
          9.59152971029728,
          3.3529296103781654,
          -0.9451580624124079,
          -1.2090834460741604,
          -4.432686644690879,
          10.085094572939305,
          -2.670743718801555,
          -5.646027531825587,
          2.235248458672654,
          -5.940391425246343,
          -8.555901150830504,
          5.418854565504181,
          7.92911772368357,
          -6.176956072689772,
          7.013804991491215,
          7.611174678649067,
          -2.0591845646942666,
          -1.1268802339749007,
          6.183476492046967,
          4.311405377374541,
          -5.620074111883077,
          5.249780982671354,
          -9.435989637930712,
          6.166043158749916,
          1.6962718091788558,
          -1.4377570997231084,
          -4.070799982420322,
          -1.524005919607391,
          5.008806776619236,
          4.447746821584372,
          -2.7800570512309815,
          2.919669920939141,
          6.335447506068812,
          4.6790084941988646,
          -0.6903323909725616,
          -2.6668879893717357,
          -0.014328371581651567,
          -2.173481282866166,
          -1.3178743999460076,
          -1.9253354973328767,
          -2.3668490682261396,
          -10.461889907681769,
          8.536491127943997,
          6.822660171776168,
          -1.8503620053661303,
          -1.1235570389016534
         ]
        }
       ],
       "layout": {
        "autosize": true,
        "scene": {
         "aspectmode": "auto",
         "aspectratio": {
          "x": 0.7929052448957832,
          "y": 1.7408140307379372,
          "z": 0.7244798834768184
         },
         "camera": {
          "center": {
           "x": 0,
           "y": 0,
           "z": 0
          },
          "eye": {
           "x": 0.5171593957923699,
           "y": -0.5317991725891853,
           "z": -0.11966040988515408
          },
          "projection": {
           "type": "perspective"
          },
          "up": {
           "x": 0,
           "y": 0,
           "z": 1
          }
         }
        },
        "template": {
         "data": {
          "bar": [
           {
            "error_x": {
             "color": "#2a3f5f"
            },
            "error_y": {
             "color": "#2a3f5f"
            },
            "marker": {
             "line": {
              "color": "#E5ECF6",
              "width": 0.5
             },
             "pattern": {
              "fillmode": "overlay",
              "size": 10,
              "solidity": 0.2
             }
            },
            "type": "bar"
           }
          ],
          "barpolar": [
           {
            "marker": {
             "line": {
              "color": "#E5ECF6",
              "width": 0.5
             },
             "pattern": {
              "fillmode": "overlay",
              "size": 10,
              "solidity": 0.2
             }
            },
            "type": "barpolar"
           }
          ],
          "carpet": [
           {
            "aaxis": {
             "endlinecolor": "#2a3f5f",
             "gridcolor": "white",
             "linecolor": "white",
             "minorgridcolor": "white",
             "startlinecolor": "#2a3f5f"
            },
            "baxis": {
             "endlinecolor": "#2a3f5f",
             "gridcolor": "white",
             "linecolor": "white",
             "minorgridcolor": "white",
             "startlinecolor": "#2a3f5f"
            },
            "type": "carpet"
           }
          ],
          "choropleth": [
           {
            "colorbar": {
             "outlinewidth": 0,
             "ticks": ""
            },
            "type": "choropleth"
           }
          ],
          "contour": [
           {
            "colorbar": {
             "outlinewidth": 0,
             "ticks": ""
            },
            "colorscale": [
             [
              0,
              "#0d0887"
             ],
             [
              0.1111111111111111,
              "#46039f"
             ],
             [
              0.2222222222222222,
              "#7201a8"
             ],
             [
              0.3333333333333333,
              "#9c179e"
             ],
             [
              0.4444444444444444,
              "#bd3786"
             ],
             [
              0.5555555555555556,
              "#d8576b"
             ],
             [
              0.6666666666666666,
              "#ed7953"
             ],
             [
              0.7777777777777778,
              "#fb9f3a"
             ],
             [
              0.8888888888888888,
              "#fdca26"
             ],
             [
              1,
              "#f0f921"
             ]
            ],
            "type": "contour"
           }
          ],
          "contourcarpet": [
           {
            "colorbar": {
             "outlinewidth": 0,
             "ticks": ""
            },
            "type": "contourcarpet"
           }
          ],
          "heatmap": [
           {
            "colorbar": {
             "outlinewidth": 0,
             "ticks": ""
            },
            "colorscale": [
             [
              0,
              "#0d0887"
             ],
             [
              0.1111111111111111,
              "#46039f"
             ],
             [
              0.2222222222222222,
              "#7201a8"
             ],
             [
              0.3333333333333333,
              "#9c179e"
             ],
             [
              0.4444444444444444,
              "#bd3786"
             ],
             [
              0.5555555555555556,
              "#d8576b"
             ],
             [
              0.6666666666666666,
              "#ed7953"
             ],
             [
              0.7777777777777778,
              "#fb9f3a"
             ],
             [
              0.8888888888888888,
              "#fdca26"
             ],
             [
              1,
              "#f0f921"
             ]
            ],
            "type": "heatmap"
           }
          ],
          "heatmapgl": [
           {
            "colorbar": {
             "outlinewidth": 0,
             "ticks": ""
            },
            "colorscale": [
             [
              0,
              "#0d0887"
             ],
             [
              0.1111111111111111,
              "#46039f"
             ],
             [
              0.2222222222222222,
              "#7201a8"
             ],
             [
              0.3333333333333333,
              "#9c179e"
             ],
             [
              0.4444444444444444,
              "#bd3786"
             ],
             [
              0.5555555555555556,
              "#d8576b"
             ],
             [
              0.6666666666666666,
              "#ed7953"
             ],
             [
              0.7777777777777778,
              "#fb9f3a"
             ],
             [
              0.8888888888888888,
              "#fdca26"
             ],
             [
              1,
              "#f0f921"
             ]
            ],
            "type": "heatmapgl"
           }
          ],
          "histogram": [
           {
            "marker": {
             "pattern": {
              "fillmode": "overlay",
              "size": 10,
              "solidity": 0.2
             }
            },
            "type": "histogram"
           }
          ],
          "histogram2d": [
           {
            "colorbar": {
             "outlinewidth": 0,
             "ticks": ""
            },
            "colorscale": [
             [
              0,
              "#0d0887"
             ],
             [
              0.1111111111111111,
              "#46039f"
             ],
             [
              0.2222222222222222,
              "#7201a8"
             ],
             [
              0.3333333333333333,
              "#9c179e"
             ],
             [
              0.4444444444444444,
              "#bd3786"
             ],
             [
              0.5555555555555556,
              "#d8576b"
             ],
             [
              0.6666666666666666,
              "#ed7953"
             ],
             [
              0.7777777777777778,
              "#fb9f3a"
             ],
             [
              0.8888888888888888,
              "#fdca26"
             ],
             [
              1,
              "#f0f921"
             ]
            ],
            "type": "histogram2d"
           }
          ],
          "histogram2dcontour": [
           {
            "colorbar": {
             "outlinewidth": 0,
             "ticks": ""
            },
            "colorscale": [
             [
              0,
              "#0d0887"
             ],
             [
              0.1111111111111111,
              "#46039f"
             ],
             [
              0.2222222222222222,
              "#7201a8"
             ],
             [
              0.3333333333333333,
              "#9c179e"
             ],
             [
              0.4444444444444444,
              "#bd3786"
             ],
             [
              0.5555555555555556,
              "#d8576b"
             ],
             [
              0.6666666666666666,
              "#ed7953"
             ],
             [
              0.7777777777777778,
              "#fb9f3a"
             ],
             [
              0.8888888888888888,
              "#fdca26"
             ],
             [
              1,
              "#f0f921"
             ]
            ],
            "type": "histogram2dcontour"
           }
          ],
          "mesh3d": [
           {
            "colorbar": {
             "outlinewidth": 0,
             "ticks": ""
            },
            "type": "mesh3d"
           }
          ],
          "parcoords": [
           {
            "line": {
             "colorbar": {
              "outlinewidth": 0,
              "ticks": ""
             }
            },
            "type": "parcoords"
           }
          ],
          "pie": [
           {
            "automargin": true,
            "type": "pie"
           }
          ],
          "scatter": [
           {
            "fillpattern": {
             "fillmode": "overlay",
             "size": 10,
             "solidity": 0.2
            },
            "type": "scatter"
           }
          ],
          "scatter3d": [
           {
            "line": {
             "colorbar": {
              "outlinewidth": 0,
              "ticks": ""
             }
            },
            "marker": {
             "colorbar": {
              "outlinewidth": 0,
              "ticks": ""
             }
            },
            "type": "scatter3d"
           }
          ],
          "scattercarpet": [
           {
            "marker": {
             "colorbar": {
              "outlinewidth": 0,
              "ticks": ""
             }
            },
            "type": "scattercarpet"
           }
          ],
          "scattergeo": [
           {
            "marker": {
             "colorbar": {
              "outlinewidth": 0,
              "ticks": ""
             }
            },
            "type": "scattergeo"
           }
          ],
          "scattergl": [
           {
            "marker": {
             "colorbar": {
              "outlinewidth": 0,
              "ticks": ""
             }
            },
            "type": "scattergl"
           }
          ],
          "scattermapbox": [
           {
            "marker": {
             "colorbar": {
              "outlinewidth": 0,
              "ticks": ""
             }
            },
            "type": "scattermapbox"
           }
          ],
          "scatterpolar": [
           {
            "marker": {
             "colorbar": {
              "outlinewidth": 0,
              "ticks": ""
             }
            },
            "type": "scatterpolar"
           }
          ],
          "scatterpolargl": [
           {
            "marker": {
             "colorbar": {
              "outlinewidth": 0,
              "ticks": ""
             }
            },
            "type": "scatterpolargl"
           }
          ],
          "scatterternary": [
           {
            "marker": {
             "colorbar": {
              "outlinewidth": 0,
              "ticks": ""
             }
            },
            "type": "scatterternary"
           }
          ],
          "surface": [
           {
            "colorbar": {
             "outlinewidth": 0,
             "ticks": ""
            },
            "colorscale": [
             [
              0,
              "#0d0887"
             ],
             [
              0.1111111111111111,
              "#46039f"
             ],
             [
              0.2222222222222222,
              "#7201a8"
             ],
             [
              0.3333333333333333,
              "#9c179e"
             ],
             [
              0.4444444444444444,
              "#bd3786"
             ],
             [
              0.5555555555555556,
              "#d8576b"
             ],
             [
              0.6666666666666666,
              "#ed7953"
             ],
             [
              0.7777777777777778,
              "#fb9f3a"
             ],
             [
              0.8888888888888888,
              "#fdca26"
             ],
             [
              1,
              "#f0f921"
             ]
            ],
            "type": "surface"
           }
          ],
          "table": [
           {
            "cells": {
             "fill": {
              "color": "#EBF0F8"
             },
             "line": {
              "color": "white"
             }
            },
            "header": {
             "fill": {
              "color": "#C8D4E3"
             },
             "line": {
              "color": "white"
             }
            },
            "type": "table"
           }
          ]
         },
         "layout": {
          "annotationdefaults": {
           "arrowcolor": "#2a3f5f",
           "arrowhead": 0,
           "arrowwidth": 1
          },
          "autotypenumbers": "strict",
          "coloraxis": {
           "colorbar": {
            "outlinewidth": 0,
            "ticks": ""
           }
          },
          "colorscale": {
           "diverging": [
            [
             0,
             "#8e0152"
            ],
            [
             0.1,
             "#c51b7d"
            ],
            [
             0.2,
             "#de77ae"
            ],
            [
             0.3,
             "#f1b6da"
            ],
            [
             0.4,
             "#fde0ef"
            ],
            [
             0.5,
             "#f7f7f7"
            ],
            [
             0.6,
             "#e6f5d0"
            ],
            [
             0.7,
             "#b8e186"
            ],
            [
             0.8,
             "#7fbc41"
            ],
            [
             0.9,
             "#4d9221"
            ],
            [
             1,
             "#276419"
            ]
           ],
           "sequential": [
            [
             0,
             "#0d0887"
            ],
            [
             0.1111111111111111,
             "#46039f"
            ],
            [
             0.2222222222222222,
             "#7201a8"
            ],
            [
             0.3333333333333333,
             "#9c179e"
            ],
            [
             0.4444444444444444,
             "#bd3786"
            ],
            [
             0.5555555555555556,
             "#d8576b"
            ],
            [
             0.6666666666666666,
             "#ed7953"
            ],
            [
             0.7777777777777778,
             "#fb9f3a"
            ],
            [
             0.8888888888888888,
             "#fdca26"
            ],
            [
             1,
             "#f0f921"
            ]
           ],
           "sequentialminus": [
            [
             0,
             "#0d0887"
            ],
            [
             0.1111111111111111,
             "#46039f"
            ],
            [
             0.2222222222222222,
             "#7201a8"
            ],
            [
             0.3333333333333333,
             "#9c179e"
            ],
            [
             0.4444444444444444,
             "#bd3786"
            ],
            [
             0.5555555555555556,
             "#d8576b"
            ],
            [
             0.6666666666666666,
             "#ed7953"
            ],
            [
             0.7777777777777778,
             "#fb9f3a"
            ],
            [
             0.8888888888888888,
             "#fdca26"
            ],
            [
             1,
             "#f0f921"
            ]
           ]
          },
          "colorway": [
           "#636efa",
           "#EF553B",
           "#00cc96",
           "#ab63fa",
           "#FFA15A",
           "#19d3f3",
           "#FF6692",
           "#B6E880",
           "#FF97FF",
           "#FECB52"
          ],
          "font": {
           "color": "#2a3f5f"
          },
          "geo": {
           "bgcolor": "white",
           "lakecolor": "white",
           "landcolor": "#E5ECF6",
           "showlakes": true,
           "showland": true,
           "subunitcolor": "white"
          },
          "hoverlabel": {
           "align": "left"
          },
          "hovermode": "closest",
          "mapbox": {
           "style": "light"
          },
          "paper_bgcolor": "white",
          "plot_bgcolor": "#E5ECF6",
          "polar": {
           "angularaxis": {
            "gridcolor": "white",
            "linecolor": "white",
            "ticks": ""
           },
           "bgcolor": "#E5ECF6",
           "radialaxis": {
            "gridcolor": "white",
            "linecolor": "white",
            "ticks": ""
           }
          },
          "scene": {
           "xaxis": {
            "backgroundcolor": "#E5ECF6",
            "gridcolor": "white",
            "gridwidth": 2,
            "linecolor": "white",
            "showbackground": true,
            "ticks": "",
            "zerolinecolor": "white"
           },
           "yaxis": {
            "backgroundcolor": "#E5ECF6",
            "gridcolor": "white",
            "gridwidth": 2,
            "linecolor": "white",
            "showbackground": true,
            "ticks": "",
            "zerolinecolor": "white"
           },
           "zaxis": {
            "backgroundcolor": "#E5ECF6",
            "gridcolor": "white",
            "gridwidth": 2,
            "linecolor": "white",
            "showbackground": true,
            "ticks": "",
            "zerolinecolor": "white"
           }
          },
          "shapedefaults": {
           "line": {
            "color": "#2a3f5f"
           }
          },
          "ternary": {
           "aaxis": {
            "gridcolor": "white",
            "linecolor": "white",
            "ticks": ""
           },
           "baxis": {
            "gridcolor": "white",
            "linecolor": "white",
            "ticks": ""
           },
           "bgcolor": "#E5ECF6",
           "caxis": {
            "gridcolor": "white",
            "linecolor": "white",
            "ticks": ""
           }
          },
          "title": {
           "x": 0.05
          },
          "xaxis": {
           "automargin": true,
           "gridcolor": "white",
           "linecolor": "white",
           "ticks": "",
           "title": {
            "standoff": 15
           },
           "zerolinecolor": "white",
           "zerolinewidth": 2
          },
          "yaxis": {
           "automargin": true,
           "gridcolor": "white",
           "linecolor": "white",
           "ticks": "",
           "title": {
            "standoff": 15
           },
           "zerolinecolor": "white",
           "zerolinewidth": 2
          }
         }
        }
       }
      },
      "image/png": "[encoded data removed]",
      "text/html": [
       "<div>                            <div id=\"de303b2a-9ad8-4a16-8693-e3f410b9f26c\" class=\"plotly-graph-div\" style=\"height:525px; width:100%;\"></div>            <script type=\"text/javascript\">                require([\"plotly\"], function(Plotly) {                    window.PLOTLYENV=window.PLOTLYENV || {};                                    if (document.getElementById(\"de303b2a-9ad8-4a16-8693-e3f410b9f26c\")) {                    Plotly.newPlot(                        \"de303b2a-9ad8-4a16-8693-e3f410b9f26c\",                        [{\"mode\":\"markers\",\"x\":[10.259811520349505,-4.866845335085682,7.668014139044727,-3.893241516018567,2.1476638068666523,9.478056684919405,-7.0783561336894305,-9.86873883869705,-7.892989737270137,-5.541719568473858,-8.392420933226832,-7.18375374679392,9.48474482738653,-2.0326749381674967,-9.593254980649185,4.4848688242761785,10.492154700077501,4.874822009656672,-3.901636880518881,10.929129234199845,-8.742956244409584,-4.6459526711936485,6.078968987075311,3.282651554241177,8.749708048197078,11.479650084129705,-9.039478377005613,9.59230108611111,-3.92394495763216,-9.093878087657625,4.5505093123199,-2.007702076647793,4.2274391267094265,-11.336971395050913,-0.14051662962046585,-11.595639478752634,-11.117753771467699,11.513185469150358,0.9030198002284866,-7.245895815689729,-4.247569742827591,-3.992465186005359,-0.5153007603608888,-9.749592373587841,0.2977548958959062,11.879282739885847,-6.161484581823939,10.397975915489905,-11.014970107921318,-4.103215311561961,11.152259718159002,8.791781373474269,-11.31010686325699,-7.818283415635469,6.521335281769385,5.168574970002048,-9.052801120523586,5.7097847673831055,8.671551205126601,10.955840650295755,-6.281974877973507,-11.437780098959326,-2.5055277768965247,4.106277073544682,-10.887852633705666,-7.408807736233219,11.563764197561438,-0.5405713763644,-1.4648184588745607,7.954885096205163,4.147625637189687,0.5419160148327196,4.629384200312511,0.9650338159124825,-2.667597725621426,0.1542444082017509,-8.813023083884282,-4.103528194371214,-11.347074540519706,-4.231882329165628,-11.971152710640737,2.248906683202736,7.049540889898676,8.179338308555245,-0.6733591318884802,10.340849082606061,10.235614211596657,10.312497668626543,-11.202415928030675,11.30076042146705,3.744384570278548,-6.083972219094103,6.490708077454605,11.592990928557487,9.27435416285128,-11.776090294146057,8.943676382297287,2.388098722416797,6.15789615868522,-0.24990887173358622],\"y\":[23.26984517380596,-11.097300868029485,17.22985056401064,-10.6874679006505,-3.4279190714653387,7.838227909932629,-9.427580931703378,-23.11775270857602,-17.354687729698036,-15.899219090259251,-20.263117675570562,-6.880068907005313,20.587601997732822,-0.7207371247846028,-8.204485855482403,13.698076234204729,15.489164312244657,3.637576140258478,-8.270923770447249,20.094370956616714,-19.330471454246137,-0.9458426685177157,11.039786440635421,-2.040901767698477,21.96834919738742,20.737607780651345,-16.468906628881392,22.119158237603944,-7.942008746492779,-12.73695064295899,15.336332361129276,2.5964731402186816,9.12994631721001,-22.629629228909607,-3.994893866816019,-12.925331898853955,-23.035013122991835,21.39667237968102,-1.0244324428983802,-5.821311826620924,-3.293707558209097,-10.042073703434852,-5.133689663906768,-13.004084780535552,0.23199214160657533,16.210009643430553,-17.023878775165475,25.087816012111215,-20.97071321261386,-5.427383846286412,26.20000361258031,21.433814852491928,-17.445046901137935,-9.541247674260871,18.286643419323127,10.24436290371423,-13.015559556443854,6.403962910436647,7.129381628811256,24.69288210666698,-11.046710222766231,-20.896400997104685,-1.1054552438560457,-0.4653553271867672,-23.073037995771394,-4.459555749473445,23.34746998709882,-6.897717907842305,5.0607137129918005,18.21768814025595,3.47098295155865,-0.4043255475312746,12.355988759130316,5.598117131924518,-9.176871079378312,5.455440193607022,-21.186687083109753,0.6946722329216302,-13.433160911514088,-7.080266871943945,-20.032336929941305,1.4745363246629237,14.408194629817471,15.353531232991367,-3.6778692270822884,16.70746869774722,19.982933121531023,18.429005385700926,-15.62688696168013,12.400792572584331,4.978184388789746,-10.285444241658302,7.336403036660132,13.531985740743771,9.998956482242233,-26.16334363320984,20.46139297100705,10.00679180166523,6.3601662062141635,-1.4567688678797683],\"z\":[9.590096480006624,-4.608173754581908,7.005831711951005,-5.496479212625743,-6.291470813954208,-4.799181003293243,0.010227246549195712,-9.959434256979952,-6.830701413337851,-8.51025966562744,-9.073223097934784,2.6982694220532473,7.941275561217449,1.9894961261053927,4.586520785383175,7.718251135169824,1.4996247121413209,-2.8621865392837513,-3.068741263088741,5.522198644350253,-7.6731964617000274,5.248760893073816,2.9344944578683387,-6.417770506686713,10.302071799791312,5.431407668478404,-4.416268792873909,9.329423456122463,-2.710082136316566,-0.6117798594154911,9.26898661136941,5.273409242415739,3.4933608149307736,-7.513667368841723,-3.807538360655398,2.535520739482891,-8.211341427701566,6.04575842081388,-2.228458843203029,3.8398825942987154,2.369718765561024,-4.718786788761041,-4.446621983425583,-0.0046282824184276095,-0.16501438625463294,0.3709659902494238,-8.808565999400223,11.223848124791342,-6.284086402052101,0.043569902462868626,11.33032398836831,9.711439687859574,-2.3649044167952775,0.8831302132530867,9.59152971029728,3.3529296103781654,-0.9451580624124079,-1.2090834460741604,-4.432686644690879,10.085094572939305,-2.670743718801555,-5.646027531825587,2.235248458672654,-5.940391425246343,-8.555901150830504,5.418854565504181,7.92911772368357,-6.176956072689772,7.013804991491215,7.611174678649067,-2.0591845646942666,-1.1268802339749007,6.183476492046967,4.311405377374541,-5.620074111883077,5.249780982671354,-9.435989637930712,6.166043158749916,1.6962718091788558,-1.4377570997231084,-4.070799982420322,-1.524005919607391,5.008806776619236,4.447746821584372,-2.7800570512309815,2.919669920939141,6.335447506068812,4.6790084941988646,-0.6903323909725616,-2.6668879893717357,-0.014328371581651567,-2.173481282866166,-1.3178743999460076,-1.9253354973328767,-2.3668490682261396,-10.461889907681769,8.536491127943997,6.822660171776168,-1.8503620053661303,-1.1235570389016534],\"type\":\"scatter3d\"}],                        {\"template\":{\"data\":{\"histogram2dcontour\":[{\"type\":\"histogram2dcontour\",\"colorbar\":{\"outlinewidth\":0,\"ticks\":\"\"},\"colorscale\":[[0.0,\"#0d0887\"],[0.1111111111111111,\"#46039f\"],[0.2222222222222222,\"#7201a8\"],[0.3333333333333333,\"#9c179e\"],[0.4444444444444444,\"#bd3786\"],[0.5555555555555556,\"#d8576b\"],[0.6666666666666666,\"#ed7953\"],[0.7777777777777778,\"#fb9f3a\"],[0.8888888888888888,\"#fdca26\"],[1.0,\"#f0f921\"]]}],\"choropleth\":[{\"type\":\"choropleth\",\"colorbar\":{\"outlinewidth\":0,\"ticks\":\"\"}}],\"histogram2d\":[{\"type\":\"histogram2d\",\"colorbar\":{\"outlinewidth\":0,\"ticks\":\"\"},\"colorscale\":[[0.0,\"#0d0887\"],[0.1111111111111111,\"#46039f\"],[0.2222222222222222,\"#7201a8\"],[0.3333333333333333,\"#9c179e\"],[0.4444444444444444,\"#bd3786\"],[0.5555555555555556,\"#d8576b\"],[0.6666666666666666,\"#ed7953\"],[0.7777777777777778,\"#fb9f3a\"],[0.8888888888888888,\"#fdca26\"],[1.0,\"#f0f921\"]]}],\"heatmap\":[{\"type\":\"heatmap\",\"colorbar\":{\"outlinewidth\":0,\"ticks\":\"\"},\"colorscale\":[[0.0,\"#0d0887\"],[0.1111111111111111,\"#46039f\"],[0.2222222222222222,\"#7201a8\"],[0.3333333333333333,\"#9c179e\"],[0.4444444444444444,\"#bd3786\"],[0.5555555555555556,\"#d8576b\"],[0.6666666666666666,\"#ed7953\"],[0.7777777777777778,\"#fb9f3a\"],[0.8888888888888888,\"#fdca26\"],[1.0,\"#f0f921\"]]}],\"heatmapgl\":[{\"type\":\"heatmapgl\",\"colorbar\":{\"outlinewidth\":0,\"ticks\":\"\"},\"colorscale\":[[0.0,\"#0d0887\"],[0.1111111111111111,\"#46039f\"],[0.2222222222222222,\"#7201a8\"],[0.3333333333333333,\"#9c179e\"],[0.4444444444444444,\"#bd3786\"],[0.5555555555555556,\"#d8576b\"],[0.6666666666666666,\"#ed7953\"],[0.7777777777777778,\"#fb9f3a\"],[0.8888888888888888,\"#fdca26\"],[1.0,\"#f0f921\"]]}],\"contourcarpet\":[{\"type\":\"contourcarpet\",\"colorbar\":{\"outlinewidth\":0,\"ticks\":\"\"}}],\"contour\":[{\"type\":\"contour\",\"colorbar\":{\"outlinewidth\":0,\"ticks\":\"\"},\"colorscale\":[[0.0,\"#0d0887\"],[0.1111111111111111,\"#46039f\"],[0.2222222222222222,\"#7201a8\"],[0.3333333333333333,\"#9c179e\"],[0.4444444444444444,\"#bd3786\"],[0.5555555555555556,\"#d8576b\"],[0.6666666666666666,\"#ed7953\"],[0.7777777777777778,\"#fb9f3a\"],[0.8888888888888888,\"#fdca26\"],[1.0,\"#f0f921\"]]}],\"surface\":[{\"type\":\"surface\",\"colorbar\":{\"outlinewidth\":0,\"ticks\":\"\"},\"colorscale\":[[0.0,\"#0d0887\"],[0.1111111111111111,\"#46039f\"],[0.2222222222222222,\"#7201a8\"],[0.3333333333333333,\"#9c179e\"],[0.4444444444444444,\"#bd3786\"],[0.5555555555555556,\"#d8576b\"],[0.6666666666666666,\"#ed7953\"],[0.7777777777777778,\"#fb9f3a\"],[0.8888888888888888,\"#fdca26\"],[1.0,\"#f0f921\"]]}],\"mesh3d\":[{\"type\":\"mesh3d\",\"colorbar\":{\"outlinewidth\":0,\"ticks\":\"\"}}],\"scatter\":[{\"fillpattern\":{\"fillmode\":\"overlay\",\"size\":10,\"solidity\":0.2},\"type\":\"scatter\"}],\"parcoords\":[{\"type\":\"parcoords\",\"line\":{\"colorbar\":{\"outlinewidth\":0,\"ticks\":\"\"}}}],\"scatterpolargl\":[{\"type\":\"scatterpolargl\",\"marker\":{\"colorbar\":{\"outlinewidth\":0,\"ticks\":\"\"}}}],\"bar\":[{\"error_x\":{\"color\":\"#2a3f5f\"},\"error_y\":{\"color\":\"#2a3f5f\"},\"marker\":{\"line\":{\"color\":\"#E5ECF6\",\"width\":0.5},\"pattern\":{\"fillmode\":\"overlay\",\"size\":10,\"solidity\":0.2}},\"type\":\"bar\"}],\"scattergeo\":[{\"type\":\"scattergeo\",\"marker\":{\"colorbar\":{\"outlinewidth\":0,\"ticks\":\"\"}}}],\"scatterpolar\":[{\"type\":\"scatterpolar\",\"marker\":{\"colorbar\":{\"outlinewidth\":0,\"ticks\":\"\"}}}],\"histogram\":[{\"marker\":{\"pattern\":{\"fillmode\":\"overlay\",\"size\":10,\"solidity\":0.2}},\"type\":\"histogram\"}],\"scattergl\":[{\"type\":\"scattergl\",\"marker\":{\"colorbar\":{\"outlinewidth\":0,\"ticks\":\"\"}}}],\"scatter3d\":[{\"type\":\"scatter3d\",\"line\":{\"colorbar\":{\"outlinewidth\":0,\"ticks\":\"\"}},\"marker\":{\"colorbar\":{\"outlinewidth\":0,\"ticks\":\"\"}}}],\"scattermapbox\":[{\"type\":\"scattermapbox\",\"marker\":{\"colorbar\":{\"outlinewidth\":0,\"ticks\":\"\"}}}],\"scatterternary\":[{\"type\":\"scatterternary\",\"marker\":{\"colorbar\":{\"outlinewidth\":0,\"ticks\":\"\"}}}],\"scattercarpet\":[{\"type\":\"scattercarpet\",\"marker\":{\"colorbar\":{\"outlinewidth\":0,\"ticks\":\"\"}}}],\"carpet\":[{\"aaxis\":{\"endlinecolor\":\"#2a3f5f\",\"gridcolor\":\"white\",\"linecolor\":\"white\",\"minorgridcolor\":\"white\",\"startlinecolor\":\"#2a3f5f\"},\"baxis\":{\"endlinecolor\":\"#2a3f5f\",\"gridcolor\":\"white\",\"linecolor\":\"white\",\"minorgridcolor\":\"white\",\"startlinecolor\":\"#2a3f5f\"},\"type\":\"carpet\"}],\"table\":[{\"cells\":{\"fill\":{\"color\":\"#EBF0F8\"},\"line\":{\"color\":\"white\"}},\"header\":{\"fill\":{\"color\":\"#C8D4E3\"},\"line\":{\"color\":\"white\"}},\"type\":\"table\"}],\"barpolar\":[{\"marker\":{\"line\":{\"color\":\"#E5ECF6\",\"width\":0.5},\"pattern\":{\"fillmode\":\"overlay\",\"size\":10,\"solidity\":0.2}},\"type\":\"barpolar\"}],\"pie\":[{\"automargin\":true,\"type\":\"pie\"}]},\"layout\":{\"autotypenumbers\":\"strict\",\"colorway\":[\"#636efa\",\"#EF553B\",\"#00cc96\",\"#ab63fa\",\"#FFA15A\",\"#19d3f3\",\"#FF6692\",\"#B6E880\",\"#FF97FF\",\"#FECB52\"],\"font\":{\"color\":\"#2a3f5f\"},\"hovermode\":\"closest\",\"hoverlabel\":{\"align\":\"left\"},\"paper_bgcolor\":\"white\",\"plot_bgcolor\":\"#E5ECF6\",\"polar\":{\"bgcolor\":\"#E5ECF6\",\"angularaxis\":{\"gridcolor\":\"white\",\"linecolor\":\"white\",\"ticks\":\"\"},\"radialaxis\":{\"gridcolor\":\"white\",\"linecolor\":\"white\",\"ticks\":\"\"}},\"ternary\":{\"bgcolor\":\"#E5ECF6\",\"aaxis\":{\"gridcolor\":\"white\",\"linecolor\":\"white\",\"ticks\":\"\"},\"baxis\":{\"gridcolor\":\"white\",\"linecolor\":\"white\",\"ticks\":\"\"},\"caxis\":{\"gridcolor\":\"white\",\"linecolor\":\"white\",\"ticks\":\"\"}},\"coloraxis\":{\"colorbar\":{\"outlinewidth\":0,\"ticks\":\"\"}},\"colorscale\":{\"sequential\":[[0.0,\"#0d0887\"],[0.1111111111111111,\"#46039f\"],[0.2222222222222222,\"#7201a8\"],[0.3333333333333333,\"#9c179e\"],[0.4444444444444444,\"#bd3786\"],[0.5555555555555556,\"#d8576b\"],[0.6666666666666666,\"#ed7953\"],[0.7777777777777778,\"#fb9f3a\"],[0.8888888888888888,\"#fdca26\"],[1.0,\"#f0f921\"]],\"sequentialminus\":[[0.0,\"#0d0887\"],[0.1111111111111111,\"#46039f\"],[0.2222222222222222,\"#7201a8\"],[0.3333333333333333,\"#9c179e\"],[0.4444444444444444,\"#bd3786\"],[0.5555555555555556,\"#d8576b\"],[0.6666666666666666,\"#ed7953\"],[0.7777777777777778,\"#fb9f3a\"],[0.8888888888888888,\"#fdca26\"],[1.0,\"#f0f921\"]],\"diverging\":[[0,\"#8e0152\"],[0.1,\"#c51b7d\"],[0.2,\"#de77ae\"],[0.3,\"#f1b6da\"],[0.4,\"#fde0ef\"],[0.5,\"#f7f7f7\"],[0.6,\"#e6f5d0\"],[0.7,\"#b8e186\"],[0.8,\"#7fbc41\"],[0.9,\"#4d9221\"],[1,\"#276419\"]]},\"xaxis\":{\"gridcolor\":\"white\",\"linecolor\":\"white\",\"ticks\":\"\",\"title\":{\"standoff\":15},\"zerolinecolor\":\"white\",\"automargin\":true,\"zerolinewidth\":2},\"yaxis\":{\"gridcolor\":\"white\",\"linecolor\":\"white\",\"ticks\":\"\",\"title\":{\"standoff\":15},\"zerolinecolor\":\"white\",\"automargin\":true,\"zerolinewidth\":2},\"scene\":{\"xaxis\":{\"backgroundcolor\":\"#E5ECF6\",\"gridcolor\":\"white\",\"linecolor\":\"white\",\"showbackground\":true,\"ticks\":\"\",\"zerolinecolor\":\"white\",\"gridwidth\":2},\"yaxis\":{\"backgroundcolor\":\"#E5ECF6\",\"gridcolor\":\"white\",\"linecolor\":\"white\",\"showbackground\":true,\"ticks\":\"\",\"zerolinecolor\":\"white\",\"gridwidth\":2},\"zaxis\":{\"backgroundcolor\":\"#E5ECF6\",\"gridcolor\":\"white\",\"linecolor\":\"white\",\"showbackground\":true,\"ticks\":\"\",\"zerolinecolor\":\"white\",\"gridwidth\":2}},\"shapedefaults\":{\"line\":{\"color\":\"#2a3f5f\"}},\"annotationdefaults\":{\"arrowcolor\":\"#2a3f5f\",\"arrowhead\":0,\"arrowwidth\":1},\"geo\":{\"bgcolor\":\"white\",\"landcolor\":\"#E5ECF6\",\"subunitcolor\":\"white\",\"showland\":true,\"showlakes\":true,\"lakecolor\":\"white\"},\"title\":{\"x\":0.05},\"mapbox\":{\"style\":\"light\"}}}},                        {\"responsive\": true}                    ).then(function(){\n",
       "                            \n",
       "var gd = document.getElementById('de303b2a-9ad8-4a16-8693-e3f410b9f26c');\n",
       "var x = new MutationObserver(function (mutations, observer) {{\n",
       "        var display = window.getComputedStyle(gd).display;\n",
       "        if (!display || display === 'none') {{\n",
       "            console.log([gd, 'removed!']);\n",
       "            Plotly.purge(gd);\n",
       "            observer.disconnect();\n",
       "        }}\n",
       "}});\n",
       "\n",
       "// Listen for the removal of the full notebook cells\n",
       "var notebookContainer = gd.closest('#notebook-container');\n",
       "if (notebookContainer) {{\n",
       "    x.observe(notebookContainer, {childList: true});\n",
       "}}\n",
       "\n",
       "// Listen for the clearing of the current output cell\n",
       "var outputEl = gd.closest('.output');\n",
       "if (outputEl) {{\n",
       "    x.observe(outputEl, {childList: true});\n",
       "}}\n",
       "\n",
       "                        })                };                });            </script>        </div>"
      ]
     },
     "metadata": {},
     "output_type": "display_data"
    },
    {
     "data": {
      "text/plain": [
       "<Figure size 640x480 with 0 Axes>"
      ]
     },
     "metadata": {},
     "output_type": "display_data"
    }
   ],
   "source": [
    "import plotly.graph_objects as go\n",
    "\n",
    "scaler1=np.array([np.random.uniform(-4,4) for i in range(100)])\n",
    "scaler2=np.array([np.random.uniform(-4,4) for i in range(100)])\n",
    "\n",
    "p=np.zeros((100,3))\n",
    "for i in range(100):\n",
    "    p[i]=scaler1[i]*v1+scaler2[i]*v2\n",
    "    \n",
    "fig=go.Figure(data=[go.Scatter3d(x=p[:,0], y=p[:,1], z=p[:,2], mode='markers')])\n",
    "fig.show()"
   ]
  },
  {
   "cell_type": "code",
   "execution_count": null,
   "id": "93d0603d-5943-4864-ad5d-ffb9f6d89996",
   "metadata": {},
   "outputs": [],
   "source": []
  }
 ],
 "metadata": {
  "kernelspec": {
   "display_name": "Python 3 (ipykernel)",
   "language": "python",
   "name": "python3"
  },
  "language_info": {
   "codemirror_mode": {
    "name": "ipython",
    "version": 3
   },
   "file_extension": ".py",
   "mimetype": "text/x-python",
   "name": "python",
   "nbconvert_exporter": "python",
   "pygments_lexer": "ipython3",
   "version": "3.11.5"
  }
 },
 "nbformat": 4,
 "nbformat_minor": 5
}
