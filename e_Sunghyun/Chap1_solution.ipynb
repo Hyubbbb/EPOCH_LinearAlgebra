{
 "cells": [
  {
   "cell_type": "markdown",
   "id": "e05a9bd9-b3e3-4a37-a49c-4c825a6043c6",
   "metadata": {},
   "source": [
    "### 연습문제 1-2"
   ]
  },
  {
   "cell_type": "code",
   "execution_count": 6,
   "id": "0a6337b9-83d3-492c-95b4-cd9034b16b4c",
   "metadata": {},
   "outputs": [],
   "source": [
    "import numpy as np\n",
    "import math"
   ]
  },
  {
   "cell_type": "code",
   "execution_count": 75,
   "id": "05c01532-9b4a-41ba-b4bf-21bc455a1b3f",
   "metadata": {},
   "outputs": [],
   "source": [
    "v1=np.array([1,2,3,4,5])\n",
    "v2=np.array([[1,2,3,4]])\n",
    "v3=np.array([[1],[2],[3],[4]])\n",
    "v4=np.array([[1,2],[3,4]])"
   ]
  },
  {
   "cell_type": "code",
   "execution_count": 49,
   "id": "e7334c65-eb20-4c64-9ef2-96132f74303c",
   "metadata": {},
   "outputs": [],
   "source": [
    "def mynorm(v):\n",
    "    k=0\n",
    "    for i in v.reshape(1,-1)[0]:\n",
    "        k+=i*i\n",
    "    return math.sqrt(k)"
   ]
  },
  {
   "cell_type": "code",
   "execution_count": 59,
   "id": "aa978cb0-3c7b-4c25-8be9-c84a579a111e",
   "metadata": {},
   "outputs": [
    {
     "name": "stdout",
     "output_type": "stream",
     "text": [
      "7.416198487095663\n",
      "5.477225575051661\n",
      "5.477225575051661\n",
      "5.477225575051661\n"
     ]
    }
   ],
   "source": [
    "print(np.linalg.norm(v1))\n",
    "print(np.linalg.norm(v2))\n",
    "print(np.linalg.norm(v3))\n",
    "print(np.linalg.norm(v4))"
   ]
  },
  {
   "cell_type": "code",
   "execution_count": 60,
   "id": "54d2c00f-72f4-46af-a01d-69692e4c9ba8",
   "metadata": {},
   "outputs": [
    {
     "name": "stdout",
     "output_type": "stream",
     "text": [
      "7.416198487095663\n",
      "5.477225575051661\n",
      "5.477225575051661\n",
      "5.477225575051661\n"
     ]
    }
   ],
   "source": [
    "print(mynorm(v1))\n",
    "print(mynorm(v2))\n",
    "print(mynorm(v3))\n",
    "print(mynorm(v4))"
   ]
  },
  {
   "cell_type": "markdown",
   "id": "4a942637-960d-4720-b91f-231f6e34a1c4",
   "metadata": {},
   "source": [
    "### 연습문제 1-5"
   ]
  },
  {
   "cell_type": "code",
   "execution_count": 110,
   "id": "fb2f8314-f6b2-41c2-a631-a45854a474b6",
   "metadata": {},
   "outputs": [],
   "source": [
    "def mytranspose(v):\n",
    "    vt=v.copy()\n",
    "    vt=vt.reshape(v.shape[1],v.shape[0])\n",
    "    for index1, i in  enumerate(v):\n",
    "        for index2, j in enumerate(i):\n",
    "            vt[index2][index1]=j\n",
    "    return vt"
   ]
  },
  {
   "cell_type": "code",
   "execution_count": 116,
   "id": "a90763e0-bf21-416c-9ea4-0de2ea484635",
   "metadata": {},
   "outputs": [
    {
     "name": "stdout",
     "output_type": "stream",
     "text": [
      "[[1]\n",
      " [2]\n",
      " [3]\n",
      " [4]]\n",
      "[[1 2 3 4]]\n",
      "[[1 3]\n",
      " [2 4]]\n"
     ]
    }
   ],
   "source": [
    "print(mytranspose(v2))\n",
    "print(mytranspose(v3))\n",
    "print(mytranspose(v4))"
   ]
  },
  {
   "cell_type": "code",
   "execution_count": 118,
   "id": "2eff4bd3-cde8-482c-af49-6cf584675348",
   "metadata": {},
   "outputs": [
    {
     "name": "stdout",
     "output_type": "stream",
     "text": [
      "[[1]\n",
      " [2]\n",
      " [3]\n",
      " [4]]\n",
      "[[1 2 3 4]]\n",
      "[[1 3]\n",
      " [2 4]]\n"
     ]
    }
   ],
   "source": [
    "print(v2.T)\n",
    "print(v3.T)\n",
    "print(v4.T)"
   ]
  },
  {
   "cell_type": "markdown",
   "id": "157c3c01-61fa-46fc-bdbd-af1d7c522a6a",
   "metadata": {},
   "source": [
    "### 연습문제 1-6"
   ]
  },
  {
   "cell_type": "code",
   "execution_count": 123,
   "id": "4d080a79-dbcc-42f9-a072-b83d7e74b31a",
   "metadata": {},
   "outputs": [
    {
     "name": "stdout",
     "output_type": "stream",
     "text": [
      "55.0\n",
      "30.0\n",
      "30.0\n",
      "30.0\n"
     ]
    }
   ],
   "source": [
    "print(np.linalg.norm(v1)**2)\n",
    "print(np.linalg.norm(v2)**2)\n",
    "print(np.linalg.norm(v3)**2)\n",
    "print(np.linalg.norm(v4)**2)"
   ]
  },
  {
   "cell_type": "code",
   "execution_count": 132,
   "id": "613b2942-bd65-4292-9c2e-b414ddb78cf9",
   "metadata": {},
   "outputs": [
    {
     "name": "stdout",
     "output_type": "stream",
     "text": [
      "55\n",
      "[[ 7 10]\n",
      " [15 22]]\n"
     ]
    }
   ],
   "source": [
    "print(np.dot(v1,v1))\n",
    "# print(np.dot(v2,v2))\n",
    "# print(np.dot(v3,v3))\n",
    "print(np.dot(v4,v4))\n",
    "#이부분 왜 같은 차원끼리 내적하는데 연산이 안되는건지"
   ]
  },
  {
   "cell_type": "markdown",
   "id": "3f311a97-c657-4b81-9dd4-e08abd757ce0",
   "metadata": {},
   "source": [
    "### 연습문제 1-7"
   ]
  },
  {
   "cell_type": "code",
   "execution_count": 133,
   "id": "d471983d-a03a-4e38-ad78-67ce85309ea5",
   "metadata": {},
   "outputs": [
    {
     "name": "stdout",
     "output_type": "stream",
     "text": [
      "24 24\n"
     ]
    }
   ],
   "source": [
    "v1=np.array([1,4,2,5])\n",
    "v2=np.array([3,2,-1,3])\n",
    "result1=np.dot(v1,v2)\n",
    "result2=np.dot(v2,v1)\n",
    "print(result1, result2)"
   ]
  },
  {
   "cell_type": "markdown",
   "id": "7394f844-8cc8-42ec-8da0-72d85a689ff5",
   "metadata": {},
   "source": [
    "### 연습문제 1-9"
   ]
  },
  {
   "cell_type": "code",
   "execution_count": 161,
   "id": "89a3206d-034b-4424-ac02-51bc4a6c87d8",
   "metadata": {},
   "outputs": [],
   "source": [
    "import matplotlib.pyplot as plt\n",
    "\n",
    "t=np.random.randn(2)\n",
    "r=np.random.randn(2)\n",
    "tparallel=r*(np.dot(t,r)/np.dot(r,r))\n",
    "tperpen=t-tparallel"
   ]
  },
  {
   "cell_type": "code",
   "execution_count": 162,
   "id": "87c001f5-a969-425f-a7ca-34eef99957e8",
   "metadata": {},
   "outputs": [
    {
     "name": "stdout",
     "output_type": "stream",
     "text": [
      "[-0.82380135 -0.37329734]\n",
      "[-0.82380135 -0.37329734]\n"
     ]
    }
   ],
   "source": [
    "print(t)\n",
    "print(tparallel+tperpen)"
   ]
  },
  {
   "cell_type": "code",
   "execution_count": 163,
   "id": "e6401cf2-c4e0-45cb-90a2-e8146308a0e4",
   "metadata": {},
   "outputs": [
    {
     "data": {
      "text/plain": [
       "-6.938893903907228e-18"
      ]
     },
     "execution_count": 163,
     "metadata": {},
     "output_type": "execute_result"
    }
   ],
   "source": [
    "np.dot(tparallel, tperpen)"
   ]
  },
  {
   "cell_type": "code",
   "execution_count": 182,
   "id": "188ddbd2-f6bb-4e13-bb23-9c34bb2e8c46",
   "metadata": {},
   "outputs": [
    {
     "data": {
      "image/png": "[encoded data removed]",
      "text/plain": [
       "<Figure size 400x400 with 1 Axes>"
      ]
     },
     "metadata": {},
     "output_type": "display_data"
    }
   ],
   "source": [
    "plt.figure(figsize=(4,4))\n",
    "plt.plot([0,t[0]], [0,t[1]], linewidth=2, label='t')\n",
    "plt.plot([0,r[0]], [0,r[1]], linewidth=2, label='r')\n",
    "\n",
    "plt.plot([0,tparallel[0]], [0,tparallel[1]], linewidth=2, label='tpararell')\n",
    "plt.plot([0,tperpen[0]], [0,tperpen[1]], linewidth=2, label='perpen')\n",
    "plt.legend()\n",
    "plt.show()\n"
   ]
  },
  {
   "cell_type": "code",
   "execution_count": null,
   "id": "ec02dce7-cda5-44fe-8605-1f897635882b",
   "metadata": {},
   "outputs": [],
   "source": []
  }
 ],
 "metadata": {
  "kernelspec": {
   "display_name": "Python 3 (ipykernel)",
   "language": "python",
   "name": "python3"
  },
  "language_info": {
   "codemirror_mode": {
    "name": "ipython",
    "version": 3
   },
   "file_extension": ".py",
   "mimetype": "text/x-python",
   "name": "python",
   "nbconvert_exporter": "python",
   "pygments_lexer": "ipython3",
   "version": "3.11.5"
  }
 },
 "nbformat": 4,
 "nbformat_minor": 5
}
