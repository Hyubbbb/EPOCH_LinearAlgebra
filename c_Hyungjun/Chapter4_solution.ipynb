{
  "nbformat": 4,
  "nbformat_minor": 0,
  "metadata": {
    "colab": {
      "provenance": []
    },
    "kernelspec": {
      "name": "python3",
      "display_name": "Python 3"
    },
    "language_info": {
      "name": "python"
    }
  },
  "cells": [
    {
      "cell_type": "code",
      "execution_count": 1,
      "metadata": {
        "colab": {
          "base_uri": "https://localhost:8080/"
        },
        "id": "63zQrNk6tKWd",
        "outputId": "3611b001-7f55-4911-8992-aba23989d7d8"
      },
      "outputs": [
        {
          "output_type": "stream",
          "name": "stdout",
          "text": [
            "Mounted at /content/drive\n"
          ]
        }
      ],
      "source": [
        "from google.colab import drive\n",
        "drive.mount('/content/drive')\n",
        "\n",
        "import numpy as np\n",
        "import matplotlib.pyplot as plt\n"
      ]
    },
    {
      "cell_type": "markdown",
      "source": [
        "### 솔루션 링크"
      ],
      "metadata": {
        "id": "13LAMqYjTpzu"
      }
    },
    {
      "cell_type": "code",
      "source": [
        "#  https://github.com/Sancho-kim/LinAlg4DS"
      ],
      "metadata": {
        "id": "ouH_twUuTpfe"
      },
      "execution_count": 2,
      "outputs": []
    },
    {
      "cell_type": "markdown",
      "source": [
        "## 4.NumPy에서 행렬 생성과 시각화\n",
        "문맥에 따라 행렬은 다르게 정의될 수 있음\n",
        "\n",
        "### 4.1.1 행렬 시각화와 인덱싱, 슬라이싱\n",
        "큰 행렬은 이미지로 시각화하곤 함\n",
        "\n",
        "행렬의 각 원소의 수치는 이미지의 색상에 대응\n",
        "\n",
        "### 4.1.2 특수 행렬\n",
        "난수 행렬\n",
        "- 일반적으로 가우스(정규)와 같은 분포로부터 무작위로 추출된 숫자를 가진 행렬\n",
        "\n",
        "정방 행렬\n",
        "- 행의 수는 열 수와 같음\n",
        "\n",
        "비정방 행렬\n",
        "- 행의 수와 열의 수가 다른 것을 의미\n",
        "- 행 수가 열 수보다 많으면 높다고 하고 열 수가 행 수보다 많으면 넓다고 함\n",
        "\n",
        "대각 행렬\n",
        "- 모든 비대각 원소가 0이며, 대각 원소는 0일 수도 있지만 0이 아닌 값을 가질 수 있는 유일한 원소\n",
        "\n",
        "삼각 행렬\n",
        "- 주 대각선의 위 또는 아래가 모두 0\n",
        "- 0 이 아닌 원소가 대각선 위에 있으면 행렬을 상삼각 행렬이라고 하고 0이 아닌 원소가 대각선 아래에 있으면 하삼각 행렬이라고 함\n",
        "\n",
        "단위 행렬\n",
        "- 특수 행렬 중 가장 중요한 행렬\n",
        "- 행렬 또는 벡터에 단위 행렬을 곱하면 동일한 행렬 또는 벡터가 된다는 점에서 숫자 1과 동등\n",
        "- 모든 대각 원소가 1인 정방 대각 행렬\n",
        "- 문자 I로 나타냄\n",
        "\n",
        "영 행렬\n",
        "- 영벡터와 유사\n",
        "- 모든 원소가 0인 행렬\n"
      ],
      "metadata": {
        "id": "VtDvO2PAbwVo"
      }
    },
    {
      "cell_type": "markdown",
      "source": [
        "## 4.2 행렬 수학 : 덧셈, 스칼라 곱셈, 아다마르 곱\n",
        "\n",
        "### 4.2.1 덧셈과 뺄셈\n",
        "행렬 덧셈은 크기가 같은 두 행렬 사이에서만 성립됨\n",
        "\n",
        "### 4.2.2 행렬 '이동'\n",
        "정방 행렬에 스칼라를 더하는 방식을 행렬 이도이라고 함\n",
        "\n",
        "데이터 과학 분야에서는 행렬의 수치적 안정성을 높이고 이동의 효과를 보면서 행렬의 가능한 만은 정보를 보존하기 위해 상대적으로 적은 양을 이동\n",
        "\n",
        "### 4.2.3 스칼라 곱셈과 아다마르곱\n"
      ],
      "metadata": {
        "id": "LSMkQVfCd-pC"
      }
    },
    {
      "cell_type": "markdown",
      "source": [
        "## 4.3 표준 행렬 곱셈\n",
        "표준 행렬 곱셈은 원소 별이 아닌 행과 열 단위로 동작\n",
        "\n",
        "두 행렬의 크기가 서로 짝이 맞을 때 두 행렬을 곱할 수 있음\n",
        "\n",
        "### 4.3.1 행렬 곱셈 유효성에 관한 규칙\n",
        "행렬 곱셈은 내부 차원의 수가 일치할 때만 유효하고 곱셈 행렬의 크기는 외부 차원의 수로 정의 됨\n",
        "\n",
        "### 4.3.2 행렬 곱셈\n",
        "### 4.3.3 행렬-벡터 곱셈\n",
        "선형 가중 결합\n",
        "기하학적 변환"
      ],
      "metadata": {
        "id": "JLm7o4iBfFln"
      }
    },
    {
      "cell_type": "markdown",
      "source": [
        "## 4.4 행렬 연산 : 전치\n",
        "전치는 단순히 행과 열을 바꾸는 것\n",
        "\n",
        "### 4.4.1 내적과 외적 표기법"
      ],
      "metadata": {
        "id": "a5gPJxZqgXp3"
      }
    },
    {
      "cell_type": "markdown",
      "source": [
        "## 4.5 행렬 연산 : LIVE EVIL (연산 순서)\n",
        "\n"
      ],
      "metadata": {
        "id": "A-byJT44hAn-"
      }
    },
    {
      "cell_type": "markdown",
      "source": [
        "### [연습문제 4-1]\n"
      ],
      "metadata": {
        "id": "2c-R5c3WT2uD"
      }
    },
    {
      "cell_type": "code",
      "source": [
        "# indexing\n",
        "\n",
        "A = np.arange(12).reshape(3,4)\n",
        "print(A)\n",
        "\n",
        "# find the element in the 2nd row, 4th column\n",
        "ri = 1\n",
        "ci = 3\n",
        "\n",
        "print(f'The matrix element at index ({ri+1},{ci+1}) is {A[ri,ci]}')"
      ],
      "metadata": {
        "id": "_3xWIpBaTrw6",
        "colab": {
          "base_uri": "https://localhost:8080/"
        },
        "outputId": "52b7cd93-9a23-48f7-c804-5d24e8661249"
      },
      "execution_count": 3,
      "outputs": [
        {
          "output_type": "stream",
          "name": "stdout",
          "text": [
            "[[ 0  1  2  3]\n",
            " [ 4  5  6  7]\n",
            " [ 8  9 10 11]]\n",
            "The matrix element at index (2,4) is 7\n"
          ]
        }
      ]
    },
    {
      "cell_type": "markdown",
      "source": [
        "### [연습문제 4-2]\n"
      ],
      "metadata": {
        "id": "fWBfXlA9T4MV"
      }
    },
    {
      "cell_type": "code",
      "source": [
        "# Create the matrix\n",
        "C = np.arange(100).reshape((10,10))\n",
        "\n",
        "# extract submatrix\n",
        "C_1 = C[0:5:1,0:5:1]\n",
        "\n",
        "# here's what the matrices look like\n",
        "print(C), print(' ')\n",
        "print(C_1)\n",
        "\n",
        "\n",
        "\n",
        "# visualize the matrices as maps\n",
        "_,axs = plt.subplots(1,2,figsize=(10,5))\n",
        "\n",
        "axs[0].imshow(C,cmap='gray',origin='upper',vmin=0,vmax=np.max(C))\n",
        "axs[0].plot([4.5,4.5],[-.5,9.5],'w--')\n",
        "axs[0].plot([-.5,9.5],[4.5,4.5],'w--')\n",
        "axs[0].set_title('Original matrix')\n",
        "# text labels\n",
        "for (j,i),num in np.ndenumerate(C):\n",
        "  axs[0].text(i,j,num,color=[.8,.8,.8],ha='center',va='center')\n",
        "\n",
        "\n",
        "axs[1].imshow(C_1,cmap='gray',origin='upper',vmin=0,vmax=np.max(C))\n",
        "axs[1].set_title('Submatrix')\n",
        "# text labels\n",
        "for (j,i),num in np.ndenumerate(C_1):\n",
        "  axs[1].text(i,j,num,color=[.8,.8,.8],ha='center',va='center')\n",
        "\n",
        "\n",
        "plt.savefig('Figure_04_06.png',dpi=300)\n",
        "plt.show()"
      ],
      "metadata": {
        "id": "PBx4EudmT5_m",
        "colab": {
          "base_uri": "https://localhost:8080/",
          "height": 713
        },
        "outputId": "2f2f5c8a-9aea-4cac-ffcb-f16b1ce99eb0"
      },
      "execution_count": 4,
      "outputs": [
        {
          "output_type": "stream",
          "name": "stdout",
          "text": [
            "[[ 0  1  2  3  4  5  6  7  8  9]\n",
            " [10 11 12 13 14 15 16 17 18 19]\n",
            " [20 21 22 23 24 25 26 27 28 29]\n",
            " [30 31 32 33 34 35 36 37 38 39]\n",
            " [40 41 42 43 44 45 46 47 48 49]\n",
            " [50 51 52 53 54 55 56 57 58 59]\n",
            " [60 61 62 63 64 65 66 67 68 69]\n",
            " [70 71 72 73 74 75 76 77 78 79]\n",
            " [80 81 82 83 84 85 86 87 88 89]\n",
            " [90 91 92 93 94 95 96 97 98 99]]\n",
            " \n",
            "[[ 0  1  2  3  4]\n",
            " [10 11 12 13 14]\n",
            " [20 21 22 23 24]\n",
            " [30 31 32 33 34]\n",
            " [40 41 42 43 44]]\n"
          ]
        },
        {
          "output_type": "display_data",
          "data": {
            "text/plain": [
              "<Figure size 1000x500 with 2 Axes>"
            ],
            "image/png": "[encoded data removed]"
          },
          "metadata": {}
        }
      ]
    },
    {
      "cell_type": "markdown",
      "source": [
        "### [연습문제 4-6]\n"
      ],
      "metadata": {
        "id": "kTPUQ4CqT6Z_"
      }
    },
    {
      "cell_type": "code",
      "source": [
        "# generate two matrices\n",
        "m = 4\n",
        "n = 6\n",
        "A = np.random.randn(m,n);\n",
        "B = np.random.randn(n,m)\n",
        "\n",
        "# build up the product matrix element-wise\n",
        "C1 = np.zeros((m,m))\n",
        "for rowi in range(m):\n",
        "  for coli in range(m):\n",
        "    C1[rowi,coli] = np.dot( A[rowi,:],B[:,coli] )\n",
        "\n",
        "\n",
        "\n",
        "# implement matrix multiplication directly\n",
        "C2 = A@B\n",
        "\n",
        "# compare the results (using isclose(); results should be a matrix of TRUEs)\n",
        "np.isclose( C1,C2 )\n",
        ""
      ],
      "metadata": {
        "colab": {
          "base_uri": "https://localhost:8080/"
        },
        "id": "LptgJpzkUPPN",
        "outputId": "e7a6f005-ca11-472e-9f47-b2bae9e771b5"
      },
      "execution_count": 5,
      "outputs": [
        {
          "output_type": "execute_result",
          "data": {
            "text/plain": [
              "array([[ True,  True,  True,  True],\n",
              "       [ True,  True,  True,  True],\n",
              "       [ True,  True,  True,  True],\n",
              "       [ True,  True,  True,  True]])"
            ]
          },
          "metadata": {},
          "execution_count": 5
        }
      ]
    },
    {
      "cell_type": "markdown",
      "source": [
        "### [연습문제 4-7] OPTIONAL\n"
      ],
      "metadata": {
        "id": "yB0WtPicUPgg"
      }
    },
    {
      "cell_type": "code",
      "source": [
        "\n",
        "# Create the matrices\n",
        "L = np.random.randn(2,6)\n",
        "I = np.random.randn(6,3)\n",
        "V = np.random.randn(3,5)\n",
        "E = np.random.randn(5,2)\n",
        "\n",
        "# multiplications indicated in the instructions\n",
        "res1 = ( L@I@V@E ).T\n",
        "# res2 = L.T @ I.T @ V.T @ E.T\n",
        "res3 = E.T @ V.T @ I.T @ L.T\n",
        "\n",
        "# show that res1 and res3 are the same (within rounding error tolerance)\n",
        "print(res1-res3)"
      ],
      "metadata": {
        "colab": {
          "base_uri": "https://localhost:8080/"
        },
        "id": "Q-ZCHygSUS2b",
        "outputId": "9c08b1c5-7b41-4749-f701-debcca83e281"
      },
      "execution_count": 6,
      "outputs": [
        {
          "output_type": "stream",
          "name": "stdout",
          "text": [
            "[[-4.44089210e-16  1.66533454e-16]\n",
            " [ 0.00000000e+00  4.44089210e-16]]\n"
          ]
        }
      ]
    },
    {
      "cell_type": "markdown",
      "source": [
        "### [연습문제 4-8]\n"
      ],
      "metadata": {
        "id": "iKEDXYVLUTVU"
      }
    },
    {
      "cell_type": "code",
      "source": [
        "def isMatrixSymmetric(S):\n",
        "\n",
        "  # difference between matrix and its transpose\n",
        "  D = S-S.T\n",
        "\n",
        "  # check whether sum of squared errors (SSE) is smaller than a threshold\n",
        "  sse = np.sum(D**2)\n",
        "\n",
        "  # output TRUE if sse is tiny; FALSE means the matrix is asymmetric\n",
        "  return sse<10**-15\n",
        "\n",
        "# note: There are many other ways you could solve this.\n",
        "# If you want to explore different methods, consider np.all() or np.isclose()\n",
        "\n",
        "\n",
        "\n",
        "# create symmetric and nonsymmetric matrices\n",
        "A = np.random.randn(4,4)\n",
        "AtA = A.T@A\n",
        "\n",
        "# test!\n",
        "print(isMatrixSymmetric(A))\n",
        "print(isMatrixSymmetric(AtA))"
      ],
      "metadata": {
        "colab": {
          "base_uri": "https://localhost:8080/"
        },
        "id": "HGZ5iqEVUVrl",
        "outputId": "6c13a9c0-47a4-4b11-dd65-29215dbb887f"
      },
      "execution_count": 7,
      "outputs": [
        {
          "output_type": "stream",
          "name": "stdout",
          "text": [
            "False\n",
            "True\n"
          ]
        }
      ]
    },
    {
      "cell_type": "markdown",
      "source": [
        "### [연습문제 4-9]\n"
      ],
      "metadata": {
        "id": "c15wbk3fUWdC"
      }
    },
    {
      "cell_type": "code",
      "source": [
        "# create symmetric and nonsymmetric matrices\n",
        "A = np.random.randn(4,4)\n",
        "AtA = (A + A.T) / 2 # additive method!\n",
        "\n",
        "# test!\n",
        "print(isMatrixSymmetric(A))\n",
        "print(isMatrixSymmetric(AtA))"
      ],
      "metadata": {
        "colab": {
          "base_uri": "https://localhost:8080/"
        },
        "id": "7xaOPggTUYaf",
        "outputId": "41377bc7-1f45-4202-d568-27773d0a293f"
      },
      "execution_count": 8,
      "outputs": [
        {
          "output_type": "stream",
          "name": "stdout",
          "text": [
            "False\n",
            "True\n"
          ]
        }
      ]
    },
    {
      "cell_type": "code",
      "source": [],
      "metadata": {
        "id": "egM2VJeEiFxf"
      },
      "execution_count": null,
      "outputs": []
    }
  ]
}