{
  "nbformat": 4,
  "nbformat_minor": 0,
  "metadata": {
    "colab": {
      "provenance": []
    },
    "kernelspec": {
      "name": "python3",
      "display_name": "Python 3"
    },
    "language_info": {
      "name": "python"
    }
  },
  "cells": [
    {
      "cell_type": "markdown",
      "source": [
        "### 솔루션 링크"
      ],
      "metadata": {
        "id": "13LAMqYjTpzu"
      }
    },
    {
      "cell_type": "code",
      "source": [
        "#  https://github.com/Sancho-kim/LinAlg4DS"
      ],
      "metadata": {
        "id": "ouH_twUuTpfe"
      },
      "execution_count": 2,
      "outputs": []
    },
    {
      "cell_type": "code",
      "source": [
        "import pandas as pd\n",
        "import numpy as np\n",
        "import matplotlib.pyplot as plt"
      ],
      "metadata": {
        "id": "GDlPDLpYi1h0"
      },
      "execution_count": 1,
      "outputs": []
    },
    {
      "cell_type": "markdown",
      "source": [
        "### [연습문제 8-1]\n"
      ],
      "metadata": {
        "id": "2c-R5c3WT2uD"
      }
    },
    {
      "cell_type": "code",
      "source": [
        "\n",
        "# compute matrices\n",
        "Q  = np.linalg.qr( np.random.randn(5,5) )[0]\n",
        "Qt = Q.T\n",
        "Qi = np.linalg.inv( Q )\n",
        "\n",
        "# QtQ\n",
        "print(np.round( Qt@Q,8 )), print(' ')\n",
        "\n",
        "# QQt\n",
        "print(np.round( Q@Qt,8 )), print(' ')\n",
        "\n",
        "# Q^-1 Q\n",
        "print(np.round( Qi@Q,8 )), print(' ')\n",
        "\n",
        "# QQ^-1\n",
        "print(np.round( Q@Qi,8 ))"
      ],
      "metadata": {
        "colab": {
          "base_uri": "https://localhost:8080/"
        },
        "id": "jPv2VCgKBUIa",
        "outputId": "64933303-b078-4675-9f38-8c1899d9e057"
      },
      "execution_count": 3,
      "outputs": [
        {
          "output_type": "stream",
          "name": "stdout",
          "text": [
            "[[ 1.  0.  0. -0. -0.]\n",
            " [ 0.  1.  0. -0.  0.]\n",
            " [ 0.  0.  1. -0.  0.]\n",
            " [-0. -0. -0.  1. -0.]\n",
            " [-0.  0.  0. -0.  1.]]\n",
            " \n",
            "[[ 1.  0.  0.  0. -0.]\n",
            " [ 0.  1. -0.  0.  0.]\n",
            " [ 0. -0.  1.  0. -0.]\n",
            " [ 0.  0.  0.  1. -0.]\n",
            " [-0.  0. -0. -0.  1.]]\n",
            " \n",
            "[[ 1. -0.  0. -0. -0.]\n",
            " [ 0.  1.  0.  0.  0.]\n",
            " [-0. -0.  1. -0. -0.]\n",
            " [-0. -0.  0.  1. -0.]\n",
            " [ 0.  0.  0. -0.  1.]]\n",
            " \n",
            "[[ 1.  0.  0. -0.  0.]\n",
            " [-0.  1. -0. -0.  0.]\n",
            " [-0.  0.  1.  0.  0.]\n",
            " [-0. -0. -0.  1. -0.]\n",
            " [ 0. -0. -0. -0.  1.]]\n"
          ]
        }
      ]
    },
    {
      "cell_type": "markdown",
      "source": [
        "### [연습문제 8-2]"
      ],
      "metadata": {
        "id": "4dBJnCA3BUVe"
      }
    },
    {
      "cell_type": "code",
      "source": [
        "# create the matrix\n",
        "m = 4\n",
        "n = 4\n",
        "A = np.random.randn(m,n)\n",
        "\n",
        "# initialize\n",
        "Q = np.zeros((m,n))\n",
        "\n",
        "\n",
        "# the GS algo\n",
        "for i in range(n):\n",
        "\n",
        "    # initialize\n",
        "    Q[:,i] = A[:,i]\n",
        "\n",
        "    # orthogonalize\n",
        "    a = A[:,i] # convenience\n",
        "    for j in range(i): # only to earlier cols\n",
        "        q = Q[:,j] # convenience\n",
        "        Q[:,i]=Q[:,i]-np.dot(a,q)/np.dot(q,q)*q\n",
        "\n",
        "    # normalize\n",
        "    Q[:,i] = Q[:,i] / np.linalg.norm(Q[:,i])\n",
        "\n",
        "\n",
        "# \"real\" QR decomposition for comparison\n",
        "Q2,R = np.linalg.qr(A)\n",
        "\n",
        "\n",
        "# note the possible sign differences.\n",
        "# seemingly non-zero columns will be 0 when adding\n",
        "print( np.round( Q-Q2 ,10) ), print(' ')\n",
        "print( np.round( Q+Q2 ,10) )"
      ],
      "metadata": {
        "colab": {
          "base_uri": "https://localhost:8080/"
        },
        "id": "OVP7FEJDBVFF",
        "outputId": "24010287-6629-4925-8a74-a0d0066ccfbc"
      },
      "execution_count": 4,
      "outputs": [
        {
          "output_type": "stream",
          "name": "stdout",
          "text": [
            "[[ 1.87934437  0.11191023  0.         -0.        ]\n",
            " [-0.00378086  1.31803917  0.          0.        ]\n",
            " [-0.6011362  -0.43797911 -0.          0.        ]\n",
            " [ 0.32662781 -1.43472058  0.          0.        ]]\n",
            " \n",
            "[[ 0.         -0.          0.12808759 -0.66267219]\n",
            " [ 0.          0.         -1.5021974  -0.07849477]\n",
            " [-0.          0.         -0.28692739 -1.8342525 ]\n",
            " [ 0.         -0.         -1.28244658  0.43614436]]\n"
          ]
        }
      ]
    },
    {
      "cell_type": "markdown",
      "source": [
        "### [연습문제 8-3]"
      ],
      "metadata": {
        "id": "BrKyv6bzBWrg"
      }
    },
    {
      "cell_type": "code",
      "source": [
        "# create an orthogonal matrix, call it U (to avoid confusing with Q)\n",
        "U = np.linalg.qr( np.random.randn(6,6) )[0]\n",
        "\n",
        "\n",
        "# part 2: modulate the column norms\n",
        "for i in range(U.shape[0]):\n",
        "  U[:,i] = U[:,i]*(10+i)\n",
        "\n",
        "\n",
        "# part 3: Change one matrix element\n",
        "U[0,3] = 0 # this is q_{1,4}\n",
        "\n",
        "\n",
        "# QR decomp\n",
        "q,r = np.linalg.qr(U)\n",
        "\n",
        "# show R and, for part 2, Q'Q\n",
        "print( np.round(r,3) ), print(' ')\n",
        "# print( np.round(Q.T@Q,4))"
      ],
      "metadata": {
        "colab": {
          "base_uri": "https://localhost:8080/"
        },
        "id": "xU71dcc4BYPg",
        "outputId": "2a0d2d79-aca1-4b85-f205-0fb8bd294c3e"
      },
      "execution_count": 5,
      "outputs": [
        {
          "output_type": "stream",
          "name": "stdout",
          "text": [
            "[[ 1.0000e+01 -0.0000e+00  0.0000e+00  4.3400e-01  0.0000e+00 -0.0000e+00]\n",
            " [ 0.0000e+00  1.1000e+01  0.0000e+00  5.1500e-01 -0.0000e+00 -0.0000e+00]\n",
            " [ 0.0000e+00  0.0000e+00  1.2000e+01 -5.4300e-01 -0.0000e+00  0.0000e+00]\n",
            " [ 0.0000e+00  0.0000e+00  0.0000e+00  1.2938e+01 -1.5900e-01  3.4700e-01]\n",
            " [ 0.0000e+00  0.0000e+00  0.0000e+00  0.0000e+00  1.3999e+01  4.0000e-03]\n",
            " [ 0.0000e+00  0.0000e+00  0.0000e+00  0.0000e+00  0.0000e+00  1.4996e+01]]\n",
            " \n"
          ]
        },
        {
          "output_type": "execute_result",
          "data": {
            "text/plain": [
              "(None, None)"
            ]
          },
          "metadata": {},
          "execution_count": 5
        }
      ]
    },
    {
      "cell_type": "markdown",
      "source": [
        "### [연습문제 8-6]"
      ],
      "metadata": {
        "id": "C1xcjGrgBYlz"
      }
    },
    {
      "cell_type": "code",
      "source": [
        "# create a random orthogonal matrix\n",
        "n = 13\n",
        "Q,R = np.linalg.qr(np.random.randn(n,n))\n",
        "\n",
        "# print out the norms\n",
        "print( np.linalg.norm(Q,2),               # induced 2-norm\n",
        "       np.sqrt( np.sum(Q**2) )/np.sqrt(n) # manually computed Frobenius norm\n",
        ")\n",
        "\n",
        "\n",
        "# effects of matrix multiplication on vector norm\n",
        "\n",
        "# a random vector\n",
        "v = np.random.randn(n,1)\n",
        "\n",
        "# norms\n",
        "norm_v  = np.linalg.norm(v)\n",
        "norm_Qv = np.linalg.norm(Q@v)\n",
        "\n",
        "# print them\n",
        "print(norm_v)\n",
        "print(norm_Qv)\n",
        ""
      ],
      "metadata": {
        "colab": {
          "base_uri": "https://localhost:8080/"
        },
        "id": "eFc0oQr_BZLS",
        "outputId": "39cb1922-22cf-493d-ddc8-180eabba1406"
      },
      "execution_count": 6,
      "outputs": [
        {
          "output_type": "stream",
          "name": "stdout",
          "text": [
            "1.0000000000000002 1.0\n",
            "2.5732715207034516\n",
            "2.5732715207034516\n"
          ]
        }
      ]
    },
    {
      "cell_type": "markdown",
      "source": [
        "### [연습문제 8-7]"
      ],
      "metadata": {
        "id": "cXQvVRfgBZgD"
      }
    },
    {
      "cell_type": "code",
      "source": [
        "# the matrix\n",
        "A = np.random.randn(10,4)\n",
        "\n",
        "# get R\n",
        "_,R = np.linalg.qr(A,'complete')\n",
        "\n",
        "# examine R\n",
        "np.round(R,3)\n",
        "\n",
        "\n",
        "# invertible submatrix\n",
        "Rsub = R[:4,:]\n",
        "\n",
        "# inverses\n",
        "Rsub_inv = np.linalg.inv(Rsub)\n",
        "Rleftinv = np.linalg.pinv(R)\n",
        "\n",
        "# print out both\n",
        "print('Full inverse of R submatrix:')\n",
        "print(np.round(Rsub_inv,3)), print(f'\\n\\n')\n",
        "\n",
        "print('Left inverse of R:')\n",
        "print(np.round(Rleftinv,3))"
      ],
      "metadata": {
        "colab": {
          "base_uri": "https://localhost:8080/"
        },
        "id": "S1DuC102BaD6",
        "outputId": "b8b34a29-eec4-45ca-d2c1-8ce35cfb730b"
      },
      "execution_count": 7,
      "outputs": [
        {
          "output_type": "stream",
          "name": "stdout",
          "text": [
            "Full inverse of R submatrix:\n",
            "[[ 0.409  0.003 -0.084 -0.188]\n",
            " [ 0.     0.288 -0.043  0.108]\n",
            " [-0.    -0.    -0.354 -0.538]\n",
            " [-0.    -0.    -0.    -0.478]]\n",
            "\n",
            "\n",
            "\n",
            "Left inverse of R:\n",
            "[[ 0.409  0.003 -0.084 -0.188  0.     0.     0.     0.     0.     0.   ]\n",
            " [-0.     0.288 -0.043  0.108  0.     0.     0.     0.     0.     0.   ]\n",
            " [ 0.    -0.    -0.354 -0.538  0.     0.     0.     0.     0.     0.   ]\n",
            " [ 0.    -0.     0.    -0.478  0.     0.     0.     0.     0.     0.   ]]\n"
          ]
        }
      ]
    },
    {
      "cell_type": "code",
      "source": [],
      "metadata": {
        "id": "ewqj28TIBr5F"
      },
      "execution_count": null,
      "outputs": []
    }
  ]
}