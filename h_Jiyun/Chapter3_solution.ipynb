{
  "nbformat": 4,
  "nbformat_minor": 0,
  "metadata": {
    "colab": {
      "provenance": [],
      "authorship_tag": "ABX9TyMJwxNoZcz8r6EZF3Iyy6z3",
      "include_colab_link": true
    },
    "kernelspec": {
      "name": "python3",
      "display_name": "Python 3"
    },
    "language_info": {
      "name": "python"
    }
  },
  "cells": [
    {
      "cell_type": "markdown",
      "metadata": {
        "id": "view-in-github",
        "colab_type": "text"
      },
      "source": [
        "<a href=\"https://colab.research.google.com/github/Hyubbbb/EPOCH_LinearAlgebra/blob/main/h_Jiyun/Chapter3_solution.ipynb\" target=\"_parent\"><img src=\"https://colab.research.google.com/assets/colab-badge.svg\" alt=\"Open In Colab\"/></a>"
      ]
    },
    {
      "cell_type": "code",
      "source": [
        "import numpy as np\n",
        "import matplotlib.pyplot as plt"
      ],
      "metadata": {
        "id": "w97fBPlhfV5c"
      },
      "execution_count": null,
      "outputs": []
    },
    {
      "cell_type": "markdown",
      "source": [
        "## 연습문제 3-1\n"
      ],
      "metadata": {
        "id": "6JLp1jRKefc3"
      }
    },
    {
      "cell_type": "code",
      "execution_count": null,
      "metadata": {
        "id": "P6N-0zJkeXZm"
      },
      "outputs": [],
      "source": [
        "v = np.array([0, 1, 2, 3])\n",
        "w = np.array([100, 101, 102, 103])"
      ]
    },
    {
      "cell_type": "markdown",
      "source": [
        "### 피어슨 상관계수 Pearson Correlation Coefficient"
      ],
      "metadata": {
        "id": "RQvx2IyCkeLK"
      }
    },
    {
      "cell_type": "code",
      "source": [
        "v_mean = v - v.mean() # v의 평균중심화\n",
        "w_mean = w - w.mean() # w의 평균중심화\n",
        "\n",
        "p = np.dot(v_mean, w_mean) / (np.sqrt(sum(v_mean ** 2)) * np.sqrt(sum(w_mean ** 2)))\n",
        "print(p)"
      ],
      "metadata": {
        "colab": {
          "base_uri": "https://localhost:8080/"
        },
        "id": "Y6QKIEOrkZCg",
        "outputId": "b5a0d4ec-4f53-48c2-f88d-2062edf4802a"
      },
      "execution_count": null,
      "outputs": [
        {
          "output_type": "stream",
          "name": "stdout",
          "text": [
            "0.9999999999999998\n"
          ]
        }
      ]
    },
    {
      "cell_type": "markdown",
      "source": [
        "\n",
        "### 코사인 유사도 Cosine Similarity"
      ],
      "metadata": {
        "id": "kBQYLAIikrqn"
      }
    },
    {
      "cell_type": "code",
      "source": [
        "cos = np.dot(v,w) / (np.sqrt(sum(v**2)) * np.sqrt(sum(w**2)))\n",
        "print(cos)"
      ],
      "metadata": {
        "colab": {
          "base_uri": "https://localhost:8080/"
        },
        "id": "7idGlokqkqxy",
        "outputId": "4090536b-bd02-4268-be2d-b5ac59ae26a2"
      },
      "execution_count": null,
      "outputs": [
        {
          "output_type": "stream",
          "name": "stdout",
          "text": [
            "0.8083174787557303\n"
          ]
        }
      ]
    },
    {
      "cell_type": "markdown",
      "source": [
        "## 연습문제 3-2"
      ],
      "metadata": {
        "id": "EYqWX9gni55s"
      }
    },
    {
      "cell_type": "markdown",
      "source": [
        "### 상관관계와 코사인 유사도"
      ],
      "metadata": {
        "id": "TGrmLXwOopPG"
      }
    },
    {
      "cell_type": "code",
      "source": [
        "v = np.array([0, 1, 2, 3])\n",
        "cos = []\n",
        "p = []\n",
        "for i in range(-50, 50) :\n",
        "  w = v + i\n",
        "  cos.append(np.dot(v,w) / (np.sqrt(sum(v**2)) * np.sqrt(sum(w**2))))\n",
        "  p.append(np.dot(v_mean, w_mean) / (np.sqrt(sum(v_mean ** 2)) * np.sqrt(sum(w_mean ** 2))))\n",
        "\n",
        "  x = np.arange(-50,50)\n",
        "# plt.xlim([-50, 50])\n",
        "# plt.ylim([-1, 1])\n",
        "\n",
        "plt.plot(x, cos, 'r-.', x, p, 'bo')\n",
        "plt.show()"
      ],
      "metadata": {
        "colab": {
          "base_uri": "https://localhost:8080/",
          "height": 430
        },
        "id": "BFIKRQl7i0zF",
        "outputId": "209c30a3-2030-4998-9e77-2865a348bd59"
      },
      "execution_count": null,
      "outputs": [
        {
          "output_type": "display_data",
          "data": {
            "text/plain": [
              "<Figure size 640x480 with 1 Axes>"
            ],
            "image/png": "[encoded data removed]"
          },
          "metadata": {}
        }
      ]
    }
  ]
}