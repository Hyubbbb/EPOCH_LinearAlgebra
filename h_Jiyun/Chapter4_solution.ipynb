{
  "nbformat": 4,
  "nbformat_minor": 0,
  "metadata": {
    "colab": {
      "provenance": [],
      "authorship_tag": "ABX9TyMiGrsdeGJzXRnhnHf/a4E+",
      "include_colab_link": true
    },
    "kernelspec": {
      "name": "python3",
      "display_name": "Python 3"
    },
    "language_info": {
      "name": "python"
    }
  },
  "cells": [
    {
      "cell_type": "markdown",
      "metadata": {
        "id": "view-in-github",
        "colab_type": "text"
      },
      "source": [
        "<a href=\"https://colab.research.google.com/github/Hyubbbb/EPOCH_LinearAlgebra/blob/main/h_Jiyun/Chapter4_solution.ipynb\" target=\"_parent\"><img src=\"https://colab.research.google.com/assets/colab-badge.svg\" alt=\"Open In Colab\"/></a>"
      ]
    },
    {
      "cell_type": "code",
      "execution_count": null,
      "metadata": {
        "id": "j37ErXGVX1rV"
      },
      "outputs": [],
      "source": [
        "import numpy as np"
      ]
    },
    {
      "cell_type": "markdown",
      "source": [
        "## 연습 문제 4-1"
      ],
      "metadata": {
        "id": "mr9Qfo2shU4s"
      }
    },
    {
      "cell_type": "code",
      "source": [
        "A = np.arange(12).reshape(3,4)\n",
        "print(\"The matrix element at index (2,4) is\",A[1,3])"
      ],
      "metadata": {
        "colab": {
          "base_uri": "https://localhost:8080/"
        },
        "id": "icu2Zso_e8su",
        "outputId": "d01b0183-cbea-4ed8-9624-9283f0c1dd6f"
      },
      "execution_count": null,
      "outputs": [
        {
          "output_type": "stream",
          "name": "stdout",
          "text": [
            "The matrix element at index (2,4) is 7\n"
          ]
        }
      ]
    },
    {
      "cell_type": "markdown",
      "source": [
        "## 연습 문제 4-2"
      ],
      "metadata": {
        "id": "prSfFh9viEuJ"
      }
    },
    {
      "cell_type": "code",
      "source": [
        "C = np.arange(100).reshape(10,10)\n",
        "C1 = C[0:5:1, 0:5:1] # C의 부분 행렬\n",
        "\n",
        "print(C)\n",
        "print(C1)\n",
        "\n",
        "# import plotly.graph_objects as go\n",
        "\n",
        "# 시각화..?\n",
        "# fig = go.Figure()\n",
        "# fig.add_trace(go.Table(cells=dict(values= C)))\n",
        "# fig.show()"
      ],
      "metadata": {
        "colab": {
          "base_uri": "https://localhost:8080/"
        },
        "id": "Ie1cRbdZiHu7",
        "outputId": "28ff213f-1cfa-4e71-e560-719115781de9"
      },
      "execution_count": null,
      "outputs": [
        {
          "output_type": "stream",
          "name": "stdout",
          "text": [
            "[[ 0  1  2  3  4  5  6  7  8  9]\n",
            " [10 11 12 13 14 15 16 17 18 19]\n",
            " [20 21 22 23 24 25 26 27 28 29]\n",
            " [30 31 32 33 34 35 36 37 38 39]\n",
            " [40 41 42 43 44 45 46 47 48 49]\n",
            " [50 51 52 53 54 55 56 57 58 59]\n",
            " [60 61 62 63 64 65 66 67 68 69]\n",
            " [70 71 72 73 74 75 76 77 78 79]\n",
            " [80 81 82 83 84 85 86 87 88 89]\n",
            " [90 91 92 93 94 95 96 97 98 99]]\n",
            "[[ 0  1  2  3  4]\n",
            " [10 11 12 13 14]\n",
            " [20 21 22 23 24]\n",
            " [30 31 32 33 34]\n",
            " [40 41 42 43 44]]\n"
          ]
        }
      ]
    },
    {
      "cell_type": "markdown",
      "source": [
        "## 연습 문제 4-6"
      ],
      "metadata": {
        "id": "RsLMKwFFl6DS"
      }
    },
    {
      "cell_type": "markdown",
      "source": [
        "### 행렬 생성"
      ],
      "metadata": {
        "id": "ByDKsKOnv-iz"
      }
    },
    {
      "cell_type": "code",
      "source": [
        "A = np.arange(50).reshape(10,5)\n",
        "B = np.arange(50).reshape(5,10)"
      ],
      "metadata": {
        "id": "ryF1D4G8kFVh"
      },
      "execution_count": null,
      "outputs": []
    },
    {
      "cell_type": "markdown",
      "source": [
        " ### for 루프를 사용한 행렬 곱셈"
      ],
      "metadata": {
        "id": "i_F_R1VAwB6a"
      }
    },
    {
      "cell_type": "code",
      "source": [
        "z = np.array([[sum([A[i][k]*B[k][j] for k in range(5)])\n",
        "for j in range(10)] for i in range(10)])\n",
        "print(z.reshape(10,10))"
      ],
      "metadata": {
        "colab": {
          "base_uri": "https://localhost:8080/"
        },
        "id": "or9T3zYmv3bm",
        "outputId": "ce9bcbcd-5e9f-4652-fd82-17aba3c764ae"
      },
      "execution_count": null,
      "outputs": [
        {
          "output_type": "stream",
          "name": "stdout",
          "text": [
            "[[ 300  310  320  330  340  350  360  370  380  390]\n",
            " [ 800  835  870  905  940  975 1010 1045 1080 1115]\n",
            " [1300 1360 1420 1480 1540 1600 1660 1720 1780 1840]\n",
            " [1800 1885 1970 2055 2140 2225 2310 2395 2480 2565]\n",
            " [2300 2410 2520 2630 2740 2850 2960 3070 3180 3290]\n",
            " [2800 2935 3070 3205 3340 3475 3610 3745 3880 4015]\n",
            " [3300 3460 3620 3780 3940 4100 4260 4420 4580 4740]\n",
            " [3800 3985 4170 4355 4540 4725 4910 5095 5280 5465]\n",
            " [4300 4510 4720 4930 5140 5350 5560 5770 5980 6190]\n",
            " [4800 5035 5270 5505 5740 5975 6210 6445 6680 6915]]\n"
          ]
        }
      ]
    },
    {
      "cell_type": "markdown",
      "source": [
        "### Numpy @ 연산자"
      ],
      "metadata": {
        "id": "nymNoWxCwF6o"
      }
    },
    {
      "cell_type": "code",
      "source": [
        "print(A@B)\n",
        "# print(np.dot(A,B)) 내적이 왜 스칼라가 아니라 행렬이 출력되지?"
      ],
      "metadata": {
        "colab": {
          "base_uri": "https://localhost:8080/"
        },
        "id": "m7XDP0gcv64D",
        "outputId": "4272ecd3-660b-4c41-d6b5-5b7a88f87930"
      },
      "execution_count": null,
      "outputs": [
        {
          "output_type": "stream",
          "name": "stdout",
          "text": [
            "[[ 300  310  320  330  340  350  360  370  380  390]\n",
            " [ 800  835  870  905  940  975 1010 1045 1080 1115]\n",
            " [1300 1360 1420 1480 1540 1600 1660 1720 1780 1840]\n",
            " [1800 1885 1970 2055 2140 2225 2310 2395 2480 2565]\n",
            " [2300 2410 2520 2630 2740 2850 2960 3070 3180 3290]\n",
            " [2800 2935 3070 3205 3340 3475 3610 3745 3880 4015]\n",
            " [3300 3460 3620 3780 3940 4100 4260 4420 4580 4740]\n",
            " [3800 3985 4170 4355 4540 4725 4910 5095 5280 5465]\n",
            " [4300 4510 4720 4930 5140 5350 5560 5770 5980 6190]\n",
            " [4800 5035 5270 5505 5740 5975 6210 6445 6680 6915]]\n"
          ]
        }
      ]
    },
    {
      "cell_type": "markdown",
      "source": [
        "## 연습 문제 4-8"
      ],
      "metadata": {
        "id": "4Lu2rf47wNY3"
      }
    },
    {
      "cell_type": "markdown",
      "source": [
        "### 대칭 행렬과 비대칭 행렬 생성"
      ],
      "metadata": {
        "id": "3WO-5f5uxogs"
      }
    },
    {
      "cell_type": "code",
      "source": [
        "# 대칭 행렬\n",
        "A = np.random.random((3,3))\n",
        "print(A)\n",
        "\n",
        "# 비대칭 행렬\n",
        "B = np.array([[1, 2, 3],\n",
        "             [2, 4, 5],\n",
        "            [3, 5, 6]])\n",
        "print(B)\n"
      ],
      "metadata": {
        "colab": {
          "base_uri": "https://localhost:8080/"
        },
        "id": "DeYMwP-YwMiU",
        "outputId": "5fd07b30-1954-4bfe-ab91-06a3ff708438"
      },
      "execution_count": null,
      "outputs": [
        {
          "output_type": "stream",
          "name": "stdout",
          "text": [
            "[[0.25242109 0.69776235 0.03822278]\n",
            " [0.02470377 0.23252879 0.80310727]\n",
            " [0.27990424 0.87139817 0.43706158]]\n",
            "[[1 2 3]\n",
            " [2 4 5]\n",
            " [3 5 6]]\n"
          ]
        }
      ]
    },
    {
      "cell_type": "markdown",
      "source": [
        "### 행렬의 대칭 여부"
      ],
      "metadata": {
        "id": "QYjjDOb91Hoc"
      }
    },
    {
      "cell_type": "code",
      "source": [
        "print(np.allclose(A, A.T))\n",
        "print(np.allclose(B, B.T))"
      ],
      "metadata": {
        "colab": {
          "base_uri": "https://localhost:8080/"
        },
        "id": "Ek_LwN61xn0v",
        "outputId": "d84d6800-ce8d-4e8e-fb5b-04e75d821c75"
      },
      "execution_count": null,
      "outputs": [
        {
          "output_type": "stream",
          "name": "stdout",
          "text": [
            "False\n",
            "True\n"
          ]
        }
      ]
    },
    {
      "cell_type": "markdown",
      "source": [
        "## 연습 문제 4-9"
      ],
      "metadata": {
        "id": "JO4CL_d8ZzlY"
      }
    },
    {
      "cell_type": "code",
      "source": [
        "# 비대칭 행렬\n",
        "A = np.random.random((3,3))\n",
        "print(A)\n",
        "\n",
        "# 전치로 평균화\n",
        "B = (A + A.T)/2\n",
        "print(B)\n",
        "\n",
        "print(np.allclose(B, B.T))"
      ],
      "metadata": {
        "colab": {
          "base_uri": "https://localhost:8080/"
        },
        "id": "cUAinn36ZjG-",
        "outputId": "c22ac497-660a-49b2-b98e-369bdc4a5024"
      },
      "execution_count": null,
      "outputs": [
        {
          "output_type": "stream",
          "name": "stdout",
          "text": [
            "[[0.01249836 0.84096493 0.40810662]\n",
            " [0.78503463 0.260971   0.70596375]\n",
            " [0.66790125 0.16583348 0.37968921]]\n",
            "[[0.01249836 0.81299978 0.53800393]\n",
            " [0.81299978 0.260971   0.43589862]\n",
            " [0.53800393 0.43589862 0.37968921]]\n",
            "True\n"
          ]
        }
      ]
    }
  ]
}