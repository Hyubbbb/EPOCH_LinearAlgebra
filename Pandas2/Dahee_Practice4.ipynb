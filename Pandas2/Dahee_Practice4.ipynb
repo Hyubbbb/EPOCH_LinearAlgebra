{
  "cells": [
    {
      "cell_type": "markdown",
      "metadata": {
        "id": "view-in-github",
        "colab_type": "text"
      },
      "source": [
        "<a href=\"https://colab.research.google.com/github/Hyubbbb/EPOCH_LinearAlgebra/blob/main/Pandas2/Dahee_Practice4.ipynb\" target=\"_parent\"><img src=\"https://colab.research.google.com/assets/colab-badge.svg\" alt=\"Open In Colab\"/></a>"
      ]
    },
    {
      "cell_type": "markdown",
      "id": "725a1f83",
      "metadata": {
        "id": "725a1f83"
      },
      "source": [
        "# **Ch.5 판다스 데이터프레임 Part2**\n",
        "\n"
      ]
    },
    {
      "cell_type": "markdown",
      "id": "8388b379-8664-49ce-a35e-4df5e1151cb9",
      "metadata": {
        "id": "8388b379-8664-49ce-a35e-4df5e1151cb9"
      },
      "source": [
        "### 5.1 Query\n",
        "\n",
        "> query 메서드: **값을 사용**해서 특정 조건에 부합하는 데이터 필터링 (cf.불리언 표현식)"
      ]
    },
    {
      "cell_type": "code",
      "execution_count": null,
      "id": "2345c6db-5ad4-4063-b60e-b2f3aa9cf682",
      "metadata": {
        "colab": {
          "base_uri": "https://localhost:8080/"
        },
        "id": "2345c6db-5ad4-4063-b60e-b2f3aa9cf682",
        "outputId": "e2725a9e-31ed-44f4-f7bb-d584dbc4c603"
      },
      "outputs": [
        {
          "output_type": "stream",
          "name": "stdout",
          "text": [
            "             nm  open  close\n",
            "cd                          \n",
            "A060310      3S  2920   2800\n",
            "A095570  AJ네트웍스  1920   1900\n",
            "A006840   AK홀딩스  2020   2010\n",
            "A054620  APS홀딩스  3120   3200\n"
          ]
        }
      ],
      "source": [
        "from pandas import DataFrame\n",
        "\n",
        "data = [\n",
        "    {'cd':'A060310', 'nm':'3S', 'open':2920, 'close':2800},\n",
        "    {'cd':'A095570', 'nm':'AJ네트웍스', 'open':1920, 'close':1900},\n",
        "    {'cd':'A006840', 'nm':'AK홀딩스', 'open':2020, 'close':2010},\n",
        "    {'cd':'A054620', 'nm':'APS홀딩스', 'open':3120, 'close':3200}\n",
        "]\n",
        "df = DataFrame(data=data)\n",
        "df = df.set_index('cd')\n",
        "print(df)"
      ]
    },
    {
      "cell_type": "markdown",
      "source": [
        "**방법 1.** 조건 시리즈로 슬라이싱"
      ],
      "metadata": {
        "id": "CH6BuAPcxovD"
      },
      "id": "CH6BuAPcxovD"
    },
    {
      "cell_type": "code",
      "execution_count": null,
      "id": "53a779be-fcc8-416e-a585-dd012ce0f77e",
      "metadata": {
        "colab": {
          "base_uri": "https://localhost:8080/"
        },
        "id": "53a779be-fcc8-416e-a585-dd012ce0f77e",
        "outputId": "df50cd6f-a618-4e28-a269-bb2b2c2c3374"
      },
      "outputs": [
        {
          "output_type": "stream",
          "name": "stdout",
          "text": [
            "             nm  open  close\n",
            "cd                          \n",
            "A060310      3S  2920   2800\n",
            "A006840   AK홀딩스  2020   2010\n",
            "A054620  APS홀딩스  3120   3200\n"
          ]
        }
      ],
      "source": [
        "cond = df['open'] >= 2000\n",
        "print(df[cond])"
      ]
    },
    {
      "cell_type": "markdown",
      "source": [
        "**방법 2.** query 메서드로 필터링\n",
        "> 큰/작은따옴표로 쿼리 묶고 다른 형식의 따옴표로 문자열 구분\n",
        "\n",
        "> 컬럼과 인덱는 따옴표 없이 사용 가능\n"
      ],
      "metadata": {
        "id": "WIu5S56pyAXX"
      },
      "id": "WIu5S56pyAXX"
    },
    {
      "cell_type": "code",
      "execution_count": null,
      "id": "b6c49929-5c96-46f6-96dd-11dc8e6ce8e3",
      "metadata": {
        "id": "b6c49929-5c96-46f6-96dd-11dc8e6ce8e3",
        "outputId": "a1bb6f78-f7f4-4c3b-baba-14e46e32bef8",
        "colab": {
          "base_uri": "https://localhost:8080/"
        }
      },
      "outputs": [
        {
          "output_type": "stream",
          "name": "stdout",
          "text": [
            "         nm  open  close\n",
            "cd                      \n",
            "A060310  3S  2920   2800\n"
          ]
        }
      ],
      "source": [
        "print(df.query('nm == \"3S\"'))"
      ]
    },
    {
      "cell_type": "markdown",
      "source": [
        "> 종가가 시가보다 큰 상승 마감한 데이터만 출력"
      ],
      "metadata": {
        "id": "j4qkYW-OyxSc"
      },
      "id": "j4qkYW-OyxSc"
    },
    {
      "cell_type": "code",
      "execution_count": null,
      "id": "83a5270a-c2ee-4862-8821-c66ab675397f",
      "metadata": {
        "id": "83a5270a-c2ee-4862-8821-c66ab675397f",
        "outputId": "e639f070-4524-48eb-889c-4802d73ce47c",
        "colab": {
          "base_uri": "https://localhost:8080/"
        }
      },
      "outputs": [
        {
          "output_type": "stream",
          "name": "stdout",
          "text": [
            "             nm  open  close\n",
            "cd                          \n",
            "A060310      3S  2920   2800\n",
            "A095570  AJ네트웍스  1920   1900\n",
            "A006840   AK홀딩스  2020   2010\n"
          ]
        }
      ],
      "source": [
        "print(df.query('open > close'))"
      ]
    },
    {
      "cell_type": "markdown",
      "source": [
        "> 3S와 AK홀딩스 종목만 선택\n",
        "\n",
        "> **in 연산자**: 뒤에 나오는 자료구조에 나열된 데이터만을 선택\n",
        "\n",
        "> not in: 뒤에 나오는 자료구조에 포함되지 않은 종목만을 선택"
      ],
      "metadata": {
        "id": "rcRdCiFTy7HA"
      },
      "id": "rcRdCiFTy7HA"
    },
    {
      "cell_type": "code",
      "execution_count": null,
      "id": "54955004-10fc-4208-8e39-60a51a487693",
      "metadata": {
        "id": "54955004-10fc-4208-8e39-60a51a487693",
        "outputId": "3bbc25ee-273b-45de-e83a-bf372276fd08",
        "colab": {
          "base_uri": "https://localhost:8080/"
        }
      },
      "outputs": [
        {
          "output_type": "stream",
          "name": "stdout",
          "text": [
            "            nm  open  close\n",
            "cd                         \n",
            "A060310     3S  2920   2800\n",
            "A006840  AK홀딩스  2020   2010\n"
          ]
        }
      ],
      "source": [
        "print(df.query('nm in [\"3S\", \"AK홀딩스\"]'))"
      ]
    },
    {
      "cell_type": "markdown",
      "source": [
        "**방법 3.** 인덱스 기준 조회"
      ],
      "metadata": {
        "id": "yKgNcfM4zh-w"
      },
      "id": "yKgNcfM4zh-w"
    },
    {
      "cell_type": "code",
      "execution_count": null,
      "id": "8ee485ae-fb3c-40ca-89ff-8d03d1ac1058",
      "metadata": {
        "id": "8ee485ae-fb3c-40ca-89ff-8d03d1ac1058",
        "outputId": "037c89f0-dc92-4cd7-d35e-236d5e6354b4",
        "colab": {
          "base_uri": "https://localhost:8080/",
          "height": 112
        }
      },
      "outputs": [
        {
          "output_type": "execute_result",
          "data": {
            "text/plain": [
              "         nm  open  close\n",
              "cd                      \n",
              "A060310  3S  2920   2800"
            ],
            "text/html": [
              "\n",
              "  <div id=\"df-b287c3d2-d3eb-44db-a6b1-ca04f41a190d\" class=\"colab-df-container\">\n",
              "    <div>\n",
              "<style scoped>\n",
              "    .dataframe tbody tr th:only-of-type {\n",
              "        vertical-align: middle;\n",
              "    }\n",
              "\n",
              "    .dataframe tbody tr th {\n",
              "        vertical-align: top;\n",
              "    }\n",
              "\n",
              "    .dataframe thead th {\n",
              "        text-align: right;\n",
              "    }\n",
              "</style>\n",
              "<table border=\"1\" class=\"dataframe\">\n",
              "  <thead>\n",
              "    <tr style=\"text-align: right;\">\n",
              "      <th></th>\n",
              "      <th>nm</th>\n",
              "      <th>open</th>\n",
              "      <th>close</th>\n",
              "    </tr>\n",
              "    <tr>\n",
              "      <th>cd</th>\n",
              "      <th></th>\n",
              "      <th></th>\n",
              "      <th></th>\n",
              "    </tr>\n",
              "  </thead>\n",
              "  <tbody>\n",
              "    <tr>\n",
              "      <th>A060310</th>\n",
              "      <td>3S</td>\n",
              "      <td>2920</td>\n",
              "      <td>2800</td>\n",
              "    </tr>\n",
              "  </tbody>\n",
              "</table>\n",
              "</div>\n",
              "    <div class=\"colab-df-buttons\">\n",
              "\n",
              "  <div class=\"colab-df-container\">\n",
              "    <button class=\"colab-df-convert\" onclick=\"convertToInteractive('df-b287c3d2-d3eb-44db-a6b1-ca04f41a190d')\"\n",
              "            title=\"Convert this dataframe to an interactive table.\"\n",
              "            style=\"display:none;\">\n",
              "\n",
              "  <svg xmlns=\"http://www.w3.org/2000/svg\" height=\"24px\" viewBox=\"0 -960 960 960\">\n",
              "    <path d=\"M120-120v-720h720v720H120Zm60-500h600v-160H180v160Zm220 220h160v-160H400v160Zm0 220h160v-160H400v160ZM180-400h160v-160H180v160Zm440 0h160v-160H620v160ZM180-180h160v-160H180v160Zm440 0h160v-160H620v160Z\"/>\n",
              "  </svg>\n",
              "    </button>\n",
              "\n",
              "  <style>\n",
              "    .colab-df-container {\n",
              "      display:flex;\n",
              "      gap: 12px;\n",
              "    }\n",
              "\n",
              "    .colab-df-convert {\n",
              "      background-color: #E8F0FE;\n",
              "      border: none;\n",
              "      border-radius: 50%;\n",
              "      cursor: pointer;\n",
              "      display: none;\n",
              "      fill: #1967D2;\n",
              "      height: 32px;\n",
              "      padding: 0 0 0 0;\n",
              "      width: 32px;\n",
              "    }\n",
              "\n",
              "    .colab-df-convert:hover {\n",
              "      background-color: #E2EBFA;\n",
              "      box-shadow: 0px 1px 2px rgba(60, 64, 67, 0.3), 0px 1px 3px 1px rgba(60, 64, 67, 0.15);\n",
              "      fill: #174EA6;\n",
              "    }\n",
              "\n",
              "    .colab-df-buttons div {\n",
              "      margin-bottom: 4px;\n",
              "    }\n",
              "\n",
              "    [theme=dark] .colab-df-convert {\n",
              "      background-color: #3B4455;\n",
              "      fill: #D2E3FC;\n",
              "    }\n",
              "\n",
              "    [theme=dark] .colab-df-convert:hover {\n",
              "      background-color: #434B5C;\n",
              "      box-shadow: 0px 1px 3px 1px rgba(0, 0, 0, 0.15);\n",
              "      filter: drop-shadow(0px 1px 2px rgba(0, 0, 0, 0.3));\n",
              "      fill: #FFFFFF;\n",
              "    }\n",
              "  </style>\n",
              "\n",
              "    <script>\n",
              "      const buttonEl =\n",
              "        document.querySelector('#df-b287c3d2-d3eb-44db-a6b1-ca04f41a190d button.colab-df-convert');\n",
              "      buttonEl.style.display =\n",
              "        google.colab.kernel.accessAllowed ? 'block' : 'none';\n",
              "\n",
              "      async function convertToInteractive(key) {\n",
              "        const element = document.querySelector('#df-b287c3d2-d3eb-44db-a6b1-ca04f41a190d');\n",
              "        const dataTable =\n",
              "          await google.colab.kernel.invokeFunction('convertToInteractive',\n",
              "                                                    [key], {});\n",
              "        if (!dataTable) return;\n",
              "\n",
              "        const docLinkHtml = 'Like what you see? Visit the ' +\n",
              "          '<a target=\"_blank\" href=https://colab.research.google.com/notebooks/data_table.ipynb>data table notebook</a>'\n",
              "          + ' to learn more about interactive tables.';\n",
              "        element.innerHTML = '';\n",
              "        dataTable['output_type'] = 'display_data';\n",
              "        await google.colab.output.renderOutput(dataTable, element);\n",
              "        const docLink = document.createElement('div');\n",
              "        docLink.innerHTML = docLinkHtml;\n",
              "        element.appendChild(docLink);\n",
              "      }\n",
              "    </script>\n",
              "  </div>\n",
              "\n",
              "\n",
              "    </div>\n",
              "  </div>\n"
            ],
            "application/vnd.google.colaboratory.intrinsic+json": {
              "type": "dataframe",
              "summary": "{\n  \"name\": \"df\",\n  \"rows\": 1,\n  \"fields\": [\n    {\n      \"column\": \"cd\",\n      \"properties\": {\n        \"dtype\": \"string\",\n        \"num_unique_values\": 1,\n        \"samples\": [\n          \"A060310\"\n        ],\n        \"semantic_type\": \"\",\n        \"description\": \"\"\n      }\n    },\n    {\n      \"column\": \"nm\",\n      \"properties\": {\n        \"dtype\": \"string\",\n        \"num_unique_values\": 1,\n        \"samples\": [\n          \"3S\"\n        ],\n        \"semantic_type\": \"\",\n        \"description\": \"\"\n      }\n    },\n    {\n      \"column\": \"open\",\n      \"properties\": {\n        \"dtype\": \"number\",\n        \"std\": null,\n        \"min\": 2920,\n        \"max\": 2920,\n        \"num_unique_values\": 1,\n        \"samples\": [\n          2920\n        ],\n        \"semantic_type\": \"\",\n        \"description\": \"\"\n      }\n    },\n    {\n      \"column\": \"close\",\n      \"properties\": {\n        \"dtype\": \"number\",\n        \"std\": null,\n        \"min\": 2800,\n        \"max\": 2800,\n        \"num_unique_values\": 1,\n        \"samples\": [\n          2800\n        ],\n        \"semantic_type\": \"\",\n        \"description\": \"\"\n      }\n    }\n  ]\n}"
            }
          },
          "metadata": {},
          "execution_count": 8
        }
      ],
      "source": [
        "df.query('cd == \"A060310\"')"
      ]
    },
    {
      "cell_type": "markdown",
      "source": [
        "> **@**: @ 키워드를 사용하면 파이썬 변수 참조 가능"
      ],
      "metadata": {
        "id": "YO1_2sNWzulB"
      },
      "id": "YO1_2sNWzulB"
    },
    {
      "cell_type": "code",
      "execution_count": null,
      "id": "784239b4-4f9e-4ee9-89cf-1052b76cf8c6",
      "metadata": {
        "id": "784239b4-4f9e-4ee9-89cf-1052b76cf8c6",
        "outputId": "65c0ccaa-d619-4379-f84c-35a26a978e92",
        "colab": {
          "base_uri": "https://localhost:8080/",
          "height": 112
        }
      },
      "outputs": [
        {
          "output_type": "execute_result",
          "data": {
            "text/plain": [
              "             nm  open  close\n",
              "cd                          \n",
              "A095570  AJ네트웍스  1920   1900"
            ],
            "text/html": [
              "\n",
              "  <div id=\"df-d6e87a6c-95ab-4c4e-9451-dbfcab9765a7\" class=\"colab-df-container\">\n",
              "    <div>\n",
              "<style scoped>\n",
              "    .dataframe tbody tr th:only-of-type {\n",
              "        vertical-align: middle;\n",
              "    }\n",
              "\n",
              "    .dataframe tbody tr th {\n",
              "        vertical-align: top;\n",
              "    }\n",
              "\n",
              "    .dataframe thead th {\n",
              "        text-align: right;\n",
              "    }\n",
              "</style>\n",
              "<table border=\"1\" class=\"dataframe\">\n",
              "  <thead>\n",
              "    <tr style=\"text-align: right;\">\n",
              "      <th></th>\n",
              "      <th>nm</th>\n",
              "      <th>open</th>\n",
              "      <th>close</th>\n",
              "    </tr>\n",
              "    <tr>\n",
              "      <th>cd</th>\n",
              "      <th></th>\n",
              "      <th></th>\n",
              "      <th></th>\n",
              "    </tr>\n",
              "  </thead>\n",
              "  <tbody>\n",
              "    <tr>\n",
              "      <th>A095570</th>\n",
              "      <td>AJ네트웍스</td>\n",
              "      <td>1920</td>\n",
              "      <td>1900</td>\n",
              "    </tr>\n",
              "  </tbody>\n",
              "</table>\n",
              "</div>\n",
              "    <div class=\"colab-df-buttons\">\n",
              "\n",
              "  <div class=\"colab-df-container\">\n",
              "    <button class=\"colab-df-convert\" onclick=\"convertToInteractive('df-d6e87a6c-95ab-4c4e-9451-dbfcab9765a7')\"\n",
              "            title=\"Convert this dataframe to an interactive table.\"\n",
              "            style=\"display:none;\">\n",
              "\n",
              "  <svg xmlns=\"http://www.w3.org/2000/svg\" height=\"24px\" viewBox=\"0 -960 960 960\">\n",
              "    <path d=\"M120-120v-720h720v720H120Zm60-500h600v-160H180v160Zm220 220h160v-160H400v160Zm0 220h160v-160H400v160ZM180-400h160v-160H180v160Zm440 0h160v-160H620v160ZM180-180h160v-160H180v160Zm440 0h160v-160H620v160Z\"/>\n",
              "  </svg>\n",
              "    </button>\n",
              "\n",
              "  <style>\n",
              "    .colab-df-container {\n",
              "      display:flex;\n",
              "      gap: 12px;\n",
              "    }\n",
              "\n",
              "    .colab-df-convert {\n",
              "      background-color: #E8F0FE;\n",
              "      border: none;\n",
              "      border-radius: 50%;\n",
              "      cursor: pointer;\n",
              "      display: none;\n",
              "      fill: #1967D2;\n",
              "      height: 32px;\n",
              "      padding: 0 0 0 0;\n",
              "      width: 32px;\n",
              "    }\n",
              "\n",
              "    .colab-df-convert:hover {\n",
              "      background-color: #E2EBFA;\n",
              "      box-shadow: 0px 1px 2px rgba(60, 64, 67, 0.3), 0px 1px 3px 1px rgba(60, 64, 67, 0.15);\n",
              "      fill: #174EA6;\n",
              "    }\n",
              "\n",
              "    .colab-df-buttons div {\n",
              "      margin-bottom: 4px;\n",
              "    }\n",
              "\n",
              "    [theme=dark] .colab-df-convert {\n",
              "      background-color: #3B4455;\n",
              "      fill: #D2E3FC;\n",
              "    }\n",
              "\n",
              "    [theme=dark] .colab-df-convert:hover {\n",
              "      background-color: #434B5C;\n",
              "      box-shadow: 0px 1px 3px 1px rgba(0, 0, 0, 0.15);\n",
              "      filter: drop-shadow(0px 1px 2px rgba(0, 0, 0, 0.3));\n",
              "      fill: #FFFFFF;\n",
              "    }\n",
              "  </style>\n",
              "\n",
              "    <script>\n",
              "      const buttonEl =\n",
              "        document.querySelector('#df-d6e87a6c-95ab-4c4e-9451-dbfcab9765a7 button.colab-df-convert');\n",
              "      buttonEl.style.display =\n",
              "        google.colab.kernel.accessAllowed ? 'block' : 'none';\n",
              "\n",
              "      async function convertToInteractive(key) {\n",
              "        const element = document.querySelector('#df-d6e87a6c-95ab-4c4e-9451-dbfcab9765a7');\n",
              "        const dataTable =\n",
              "          await google.colab.kernel.invokeFunction('convertToInteractive',\n",
              "                                                    [key], {});\n",
              "        if (!dataTable) return;\n",
              "\n",
              "        const docLinkHtml = 'Like what you see? Visit the ' +\n",
              "          '<a target=\"_blank\" href=https://colab.research.google.com/notebooks/data_table.ipynb>data table notebook</a>'\n",
              "          + ' to learn more about interactive tables.';\n",
              "        element.innerHTML = '';\n",
              "        dataTable['output_type'] = 'display_data';\n",
              "        await google.colab.output.renderOutput(dataTable, element);\n",
              "        const docLink = document.createElement('div');\n",
              "        docLink.innerHTML = docLinkHtml;\n",
              "        element.appendChild(docLink);\n",
              "      }\n",
              "    </script>\n",
              "  </div>\n",
              "\n",
              "\n",
              "    </div>\n",
              "  </div>\n"
            ],
            "application/vnd.google.colaboratory.intrinsic+json": {
              "type": "dataframe",
              "summary": "{\n  \"name\": \"df\",\n  \"rows\": 1,\n  \"fields\": [\n    {\n      \"column\": \"cd\",\n      \"properties\": {\n        \"dtype\": \"string\",\n        \"num_unique_values\": 1,\n        \"samples\": [\n          \"A095570\"\n        ],\n        \"semantic_type\": \"\",\n        \"description\": \"\"\n      }\n    },\n    {\n      \"column\": \"nm\",\n      \"properties\": {\n        \"dtype\": \"string\",\n        \"num_unique_values\": 1,\n        \"samples\": [\n          \"AJ\\ub124\\ud2b8\\uc6cd\\uc2a4\"\n        ],\n        \"semantic_type\": \"\",\n        \"description\": \"\"\n      }\n    },\n    {\n      \"column\": \"open\",\n      \"properties\": {\n        \"dtype\": \"number\",\n        \"std\": null,\n        \"min\": 1920,\n        \"max\": 1920,\n        \"num_unique_values\": 1,\n        \"samples\": [\n          1920\n        ],\n        \"semantic_type\": \"\",\n        \"description\": \"\"\n      }\n    },\n    {\n      \"column\": \"close\",\n      \"properties\": {\n        \"dtype\": \"number\",\n        \"std\": null,\n        \"min\": 1900,\n        \"max\": 1900,\n        \"num_unique_values\": 1,\n        \"samples\": [\n          1900\n        ],\n        \"semantic_type\": \"\",\n        \"description\": \"\"\n      }\n    }\n  ]\n}"
            }
          },
          "metadata": {},
          "execution_count": 10
        }
      ],
      "source": [
        "name = 'AJ네트웍스'\n",
        "df.query('nm == @name')"
      ]
    },
    {
      "cell_type": "markdown",
      "id": "da753c8e",
      "metadata": {
        "id": "da753c8e"
      },
      "source": [
        "### 5.2 filter\n",
        "\n",
        "> **인덱스나 컬럼 이름**에 대해서 특정 조건으로 필터링"
      ]
    },
    {
      "cell_type": "code",
      "execution_count": null,
      "id": "92659b00",
      "metadata": {
        "id": "92659b00",
        "outputId": "d8d5fb7a-d9c7-4724-8202-30cfdfbc3cf8",
        "colab": {
          "base_uri": "https://localhost:8080/",
          "height": 143
        }
      },
      "outputs": [
        {
          "output_type": "execute_result",
          "data": {
            "text/plain": [
              "     2018/12  2019/12  2020/12  2021/12(E)\n",
              "DPS  1416.00  1416.00  2994.00     1755.00\n",
              "PER     6.42    17.63    21.09       13.93\n",
              "PBR     1.10     1.49     2.06        1.88"
            ],
            "text/html": [
              "\n",
              "  <div id=\"df-1deb7111-a3b9-43e8-b14a-546c784a8ca0\" class=\"colab-df-container\">\n",
              "    <div>\n",
              "<style scoped>\n",
              "    .dataframe tbody tr th:only-of-type {\n",
              "        vertical-align: middle;\n",
              "    }\n",
              "\n",
              "    .dataframe tbody tr th {\n",
              "        vertical-align: top;\n",
              "    }\n",
              "\n",
              "    .dataframe thead th {\n",
              "        text-align: right;\n",
              "    }\n",
              "</style>\n",
              "<table border=\"1\" class=\"dataframe\">\n",
              "  <thead>\n",
              "    <tr style=\"text-align: right;\">\n",
              "      <th></th>\n",
              "      <th>2018/12</th>\n",
              "      <th>2019/12</th>\n",
              "      <th>2020/12</th>\n",
              "      <th>2021/12(E)</th>\n",
              "    </tr>\n",
              "  </thead>\n",
              "  <tbody>\n",
              "    <tr>\n",
              "      <th>DPS</th>\n",
              "      <td>1416.00</td>\n",
              "      <td>1416.00</td>\n",
              "      <td>2994.00</td>\n",
              "      <td>1755.00</td>\n",
              "    </tr>\n",
              "    <tr>\n",
              "      <th>PER</th>\n",
              "      <td>6.42</td>\n",
              "      <td>17.63</td>\n",
              "      <td>21.09</td>\n",
              "      <td>13.93</td>\n",
              "    </tr>\n",
              "    <tr>\n",
              "      <th>PBR</th>\n",
              "      <td>1.10</td>\n",
              "      <td>1.49</td>\n",
              "      <td>2.06</td>\n",
              "      <td>1.88</td>\n",
              "    </tr>\n",
              "  </tbody>\n",
              "</table>\n",
              "</div>\n",
              "    <div class=\"colab-df-buttons\">\n",
              "\n",
              "  <div class=\"colab-df-container\">\n",
              "    <button class=\"colab-df-convert\" onclick=\"convertToInteractive('df-1deb7111-a3b9-43e8-b14a-546c784a8ca0')\"\n",
              "            title=\"Convert this dataframe to an interactive table.\"\n",
              "            style=\"display:none;\">\n",
              "\n",
              "  <svg xmlns=\"http://www.w3.org/2000/svg\" height=\"24px\" viewBox=\"0 -960 960 960\">\n",
              "    <path d=\"M120-120v-720h720v720H120Zm60-500h600v-160H180v160Zm220 220h160v-160H400v160Zm0 220h160v-160H400v160ZM180-400h160v-160H180v160Zm440 0h160v-160H620v160ZM180-180h160v-160H180v160Zm440 0h160v-160H620v160Z\"/>\n",
              "  </svg>\n",
              "    </button>\n",
              "\n",
              "  <style>\n",
              "    .colab-df-container {\n",
              "      display:flex;\n",
              "      gap: 12px;\n",
              "    }\n",
              "\n",
              "    .colab-df-convert {\n",
              "      background-color: #E8F0FE;\n",
              "      border: none;\n",
              "      border-radius: 50%;\n",
              "      cursor: pointer;\n",
              "      display: none;\n",
              "      fill: #1967D2;\n",
              "      height: 32px;\n",
              "      padding: 0 0 0 0;\n",
              "      width: 32px;\n",
              "    }\n",
              "\n",
              "    .colab-df-convert:hover {\n",
              "      background-color: #E2EBFA;\n",
              "      box-shadow: 0px 1px 2px rgba(60, 64, 67, 0.3), 0px 1px 3px 1px rgba(60, 64, 67, 0.15);\n",
              "      fill: #174EA6;\n",
              "    }\n",
              "\n",
              "    .colab-df-buttons div {\n",
              "      margin-bottom: 4px;\n",
              "    }\n",
              "\n",
              "    [theme=dark] .colab-df-convert {\n",
              "      background-color: #3B4455;\n",
              "      fill: #D2E3FC;\n",
              "    }\n",
              "\n",
              "    [theme=dark] .colab-df-convert:hover {\n",
              "      background-color: #434B5C;\n",
              "      box-shadow: 0px 1px 3px 1px rgba(0, 0, 0, 0.15);\n",
              "      filter: drop-shadow(0px 1px 2px rgba(0, 0, 0, 0.3));\n",
              "      fill: #FFFFFF;\n",
              "    }\n",
              "  </style>\n",
              "\n",
              "    <script>\n",
              "      const buttonEl =\n",
              "        document.querySelector('#df-1deb7111-a3b9-43e8-b14a-546c784a8ca0 button.colab-df-convert');\n",
              "      buttonEl.style.display =\n",
              "        google.colab.kernel.accessAllowed ? 'block' : 'none';\n",
              "\n",
              "      async function convertToInteractive(key) {\n",
              "        const element = document.querySelector('#df-1deb7111-a3b9-43e8-b14a-546c784a8ca0');\n",
              "        const dataTable =\n",
              "          await google.colab.kernel.invokeFunction('convertToInteractive',\n",
              "                                                    [key], {});\n",
              "        if (!dataTable) return;\n",
              "\n",
              "        const docLinkHtml = 'Like what you see? Visit the ' +\n",
              "          '<a target=\"_blank\" href=https://colab.research.google.com/notebooks/data_table.ipynb>data table notebook</a>'\n",
              "          + ' to learn more about interactive tables.';\n",
              "        element.innerHTML = '';\n",
              "        dataTable['output_type'] = 'display_data';\n",
              "        await google.colab.output.renderOutput(dataTable, element);\n",
              "        const docLink = document.createElement('div');\n",
              "        docLink.innerHTML = docLinkHtml;\n",
              "        element.appendChild(docLink);\n",
              "      }\n",
              "    </script>\n",
              "  </div>\n",
              "\n",
              "\n",
              "<div id=\"df-b85876a3-bcaa-4869-822c-7d1fe0abe61d\">\n",
              "  <button class=\"colab-df-quickchart\" onclick=\"quickchart('df-b85876a3-bcaa-4869-822c-7d1fe0abe61d')\"\n",
              "            title=\"Suggest charts\"\n",
              "            style=\"display:none;\">\n",
              "\n",
              "<svg xmlns=\"http://www.w3.org/2000/svg\" height=\"24px\"viewBox=\"0 0 24 24\"\n",
              "     width=\"24px\">\n",
              "    <g>\n",
              "        <path d=\"M19 3H5c-1.1 0-2 .9-2 2v14c0 1.1.9 2 2 2h14c1.1 0 2-.9 2-2V5c0-1.1-.9-2-2-2zM9 17H7v-7h2v7zm4 0h-2V7h2v10zm4 0h-2v-4h2v4z\"/>\n",
              "    </g>\n",
              "</svg>\n",
              "  </button>\n",
              "\n",
              "<style>\n",
              "  .colab-df-quickchart {\n",
              "      --bg-color: #E8F0FE;\n",
              "      --fill-color: #1967D2;\n",
              "      --hover-bg-color: #E2EBFA;\n",
              "      --hover-fill-color: #174EA6;\n",
              "      --disabled-fill-color: #AAA;\n",
              "      --disabled-bg-color: #DDD;\n",
              "  }\n",
              "\n",
              "  [theme=dark] .colab-df-quickchart {\n",
              "      --bg-color: #3B4455;\n",
              "      --fill-color: #D2E3FC;\n",
              "      --hover-bg-color: #434B5C;\n",
              "      --hover-fill-color: #FFFFFF;\n",
              "      --disabled-bg-color: #3B4455;\n",
              "      --disabled-fill-color: #666;\n",
              "  }\n",
              "\n",
              "  .colab-df-quickchart {\n",
              "    background-color: var(--bg-color);\n",
              "    border: none;\n",
              "    border-radius: 50%;\n",
              "    cursor: pointer;\n",
              "    display: none;\n",
              "    fill: var(--fill-color);\n",
              "    height: 32px;\n",
              "    padding: 0;\n",
              "    width: 32px;\n",
              "  }\n",
              "\n",
              "  .colab-df-quickchart:hover {\n",
              "    background-color: var(--hover-bg-color);\n",
              "    box-shadow: 0 1px 2px rgba(60, 64, 67, 0.3), 0 1px 3px 1px rgba(60, 64, 67, 0.15);\n",
              "    fill: var(--button-hover-fill-color);\n",
              "  }\n",
              "\n",
              "  .colab-df-quickchart-complete:disabled,\n",
              "  .colab-df-quickchart-complete:disabled:hover {\n",
              "    background-color: var(--disabled-bg-color);\n",
              "    fill: var(--disabled-fill-color);\n",
              "    box-shadow: none;\n",
              "  }\n",
              "\n",
              "  .colab-df-spinner {\n",
              "    border: 2px solid var(--fill-color);\n",
              "    border-color: transparent;\n",
              "    border-bottom-color: var(--fill-color);\n",
              "    animation:\n",
              "      spin 1s steps(1) infinite;\n",
              "  }\n",
              "\n",
              "  @keyframes spin {\n",
              "    0% {\n",
              "      border-color: transparent;\n",
              "      border-bottom-color: var(--fill-color);\n",
              "      border-left-color: var(--fill-color);\n",
              "    }\n",
              "    20% {\n",
              "      border-color: transparent;\n",
              "      border-left-color: var(--fill-color);\n",
              "      border-top-color: var(--fill-color);\n",
              "    }\n",
              "    30% {\n",
              "      border-color: transparent;\n",
              "      border-left-color: var(--fill-color);\n",
              "      border-top-color: var(--fill-color);\n",
              "      border-right-color: var(--fill-color);\n",
              "    }\n",
              "    40% {\n",
              "      border-color: transparent;\n",
              "      border-right-color: var(--fill-color);\n",
              "      border-top-color: var(--fill-color);\n",
              "    }\n",
              "    60% {\n",
              "      border-color: transparent;\n",
              "      border-right-color: var(--fill-color);\n",
              "    }\n",
              "    80% {\n",
              "      border-color: transparent;\n",
              "      border-right-color: var(--fill-color);\n",
              "      border-bottom-color: var(--fill-color);\n",
              "    }\n",
              "    90% {\n",
              "      border-color: transparent;\n",
              "      border-bottom-color: var(--fill-color);\n",
              "    }\n",
              "  }\n",
              "</style>\n",
              "\n",
              "  <script>\n",
              "    async function quickchart(key) {\n",
              "      const quickchartButtonEl =\n",
              "        document.querySelector('#' + key + ' button');\n",
              "      quickchartButtonEl.disabled = true;  // To prevent multiple clicks.\n",
              "      quickchartButtonEl.classList.add('colab-df-spinner');\n",
              "      try {\n",
              "        const charts = await google.colab.kernel.invokeFunction(\n",
              "            'suggestCharts', [key], {});\n",
              "      } catch (error) {\n",
              "        console.error('Error during call to suggestCharts:', error);\n",
              "      }\n",
              "      quickchartButtonEl.classList.remove('colab-df-spinner');\n",
              "      quickchartButtonEl.classList.add('colab-df-quickchart-complete');\n",
              "    }\n",
              "    (() => {\n",
              "      let quickchartButtonEl =\n",
              "        document.querySelector('#df-b85876a3-bcaa-4869-822c-7d1fe0abe61d button');\n",
              "      quickchartButtonEl.style.display =\n",
              "        google.colab.kernel.accessAllowed ? 'block' : 'none';\n",
              "    })();\n",
              "  </script>\n",
              "</div>\n",
              "\n",
              "  <div id=\"id_681d2a06-812b-46f7-a0ff-c269e93122f0\">\n",
              "    <style>\n",
              "      .colab-df-generate {\n",
              "        background-color: #E8F0FE;\n",
              "        border: none;\n",
              "        border-radius: 50%;\n",
              "        cursor: pointer;\n",
              "        display: none;\n",
              "        fill: #1967D2;\n",
              "        height: 32px;\n",
              "        padding: 0 0 0 0;\n",
              "        width: 32px;\n",
              "      }\n",
              "\n",
              "      .colab-df-generate:hover {\n",
              "        background-color: #E2EBFA;\n",
              "        box-shadow: 0px 1px 2px rgba(60, 64, 67, 0.3), 0px 1px 3px 1px rgba(60, 64, 67, 0.15);\n",
              "        fill: #174EA6;\n",
              "      }\n",
              "\n",
              "      [theme=dark] .colab-df-generate {\n",
              "        background-color: #3B4455;\n",
              "        fill: #D2E3FC;\n",
              "      }\n",
              "\n",
              "      [theme=dark] .colab-df-generate:hover {\n",
              "        background-color: #434B5C;\n",
              "        box-shadow: 0px 1px 3px 1px rgba(0, 0, 0, 0.15);\n",
              "        filter: drop-shadow(0px 1px 2px rgba(0, 0, 0, 0.3));\n",
              "        fill: #FFFFFF;\n",
              "      }\n",
              "    </style>\n",
              "    <button class=\"colab-df-generate\" onclick=\"generateWithVariable('df')\"\n",
              "            title=\"Generate code using this dataframe.\"\n",
              "            style=\"display:none;\">\n",
              "\n",
              "  <svg xmlns=\"http://www.w3.org/2000/svg\" height=\"24px\"viewBox=\"0 0 24 24\"\n",
              "       width=\"24px\">\n",
              "    <path d=\"M7,19H8.4L18.45,9,17,7.55,7,17.6ZM5,21V16.75L18.45,3.32a2,2,0,0,1,2.83,0l1.4,1.43a1.91,1.91,0,0,1,.58,1.4,1.91,1.91,0,0,1-.58,1.4L9.25,21ZM18.45,9,17,7.55Zm-12,3A5.31,5.31,0,0,0,4.9,8.1,5.31,5.31,0,0,0,1,6.5,5.31,5.31,0,0,0,4.9,4.9,5.31,5.31,0,0,0,6.5,1,5.31,5.31,0,0,0,8.1,4.9,5.31,5.31,0,0,0,12,6.5,5.46,5.46,0,0,0,6.5,12Z\"/>\n",
              "  </svg>\n",
              "    </button>\n",
              "    <script>\n",
              "      (() => {\n",
              "      const buttonEl =\n",
              "        document.querySelector('#id_681d2a06-812b-46f7-a0ff-c269e93122f0 button.colab-df-generate');\n",
              "      buttonEl.style.display =\n",
              "        google.colab.kernel.accessAllowed ? 'block' : 'none';\n",
              "\n",
              "      buttonEl.onclick = () => {\n",
              "        google.colab.notebook.generateWithVariable('df');\n",
              "      }\n",
              "      })();\n",
              "    </script>\n",
              "  </div>\n",
              "\n",
              "    </div>\n",
              "  </div>\n"
            ],
            "application/vnd.google.colaboratory.intrinsic+json": {
              "type": "dataframe",
              "variable_name": "df",
              "summary": "{\n  \"name\": \"df\",\n  \"rows\": 3,\n  \"fields\": [\n    {\n      \"column\": \"2018/12\",\n      \"properties\": {\n        \"dtype\": \"number\",\n        \"std\": 815.3614831063172,\n        \"min\": 1.1,\n        \"max\": 1416.0,\n        \"num_unique_values\": 3,\n        \"samples\": [\n          1416.0,\n          6.42,\n          1.1\n        ],\n        \"semantic_type\": \"\",\n        \"description\": \"\"\n      }\n    },\n    {\n      \"column\": \"2019/12\",\n      \"properties\": {\n        \"dtype\": \"number\",\n        \"std\": 812.0486127279162,\n        \"min\": 1.49,\n        \"max\": 1416.0,\n        \"num_unique_values\": 3,\n        \"samples\": [\n          1416.0,\n          17.63,\n          1.49\n        ],\n        \"semantic_type\": \"\",\n        \"description\": \"\"\n      }\n    },\n    {\n      \"column\": \"2020/12\",\n      \"properties\": {\n        \"dtype\": \"number\",\n        \"std\": 1721.9301656668117,\n        \"min\": 2.06,\n        \"max\": 2994.0,\n        \"num_unique_values\": 3,\n        \"samples\": [\n          2994.0,\n          21.09,\n          2.06\n        ],\n        \"semantic_type\": \"\",\n        \"description\": \"\"\n      }\n    },\n    {\n      \"column\": \"2021/12(E)\",\n      \"properties\": {\n        \"dtype\": \"number\",\n        \"std\": 1008.7037624099556,\n        \"min\": 1.88,\n        \"max\": 1755.0,\n        \"num_unique_values\": 3,\n        \"samples\": [\n          1755.0,\n          13.93,\n          1.88\n        ],\n        \"semantic_type\": \"\",\n        \"description\": \"\"\n      }\n    }\n  ]\n}"
            }
          },
          "metadata": {},
          "execution_count": 12
        }
      ],
      "source": [
        "from pandas import DataFrame\n",
        "\n",
        "data = [\n",
        "    [1416, 1416, 2994, 1755],\n",
        "    [6.42, 17.63, 21.09, 13.93],\n",
        "    [1.10, 1.49, 2.06, 1.88]\n",
        "]\n",
        "\n",
        "columns = ['2018/12', '2019/12', '2020/12', '2021/12(E)']\n",
        "index = ['DPS', 'PER', 'PBR']\n",
        "\n",
        "df = DataFrame(data=data, index=index, columns=columns)\n",
        "df"
      ]
    },
    {
      "cell_type": "markdown",
      "source": [
        "**방법 1.**\n",
        "\n",
        "> filter 메서드의 items 파라미터: 선택할 컬럼의 이름을 지정\n",
        "\n",
        "> filter 메서드의 반환값은 데이터프레임"
      ],
      "metadata": {
        "id": "-rFsOcf31R-S"
      },
      "id": "-rFsOcf31R-S"
    },
    {
      "cell_type": "code",
      "execution_count": null,
      "id": "9cfb071b-f78d-4730-8646-b83e30b21dd9",
      "metadata": {
        "id": "9cfb071b-f78d-4730-8646-b83e30b21dd9",
        "outputId": "c47a13ba-6fd4-4eaa-c8dd-4c8491e80a3e",
        "colab": {
          "base_uri": "https://localhost:8080/",
          "height": 143
        }
      },
      "outputs": [
        {
          "output_type": "execute_result",
          "data": {
            "text/plain": [
              "     2018/12\n",
              "DPS  1416.00\n",
              "PER     6.42\n",
              "PBR     1.10"
            ],
            "text/html": [
              "\n",
              "  <div id=\"df-70130093-79ce-4809-a736-e8214544e1a5\" class=\"colab-df-container\">\n",
              "    <div>\n",
              "<style scoped>\n",
              "    .dataframe tbody tr th:only-of-type {\n",
              "        vertical-align: middle;\n",
              "    }\n",
              "\n",
              "    .dataframe tbody tr th {\n",
              "        vertical-align: top;\n",
              "    }\n",
              "\n",
              "    .dataframe thead th {\n",
              "        text-align: right;\n",
              "    }\n",
              "</style>\n",
              "<table border=\"1\" class=\"dataframe\">\n",
              "  <thead>\n",
              "    <tr style=\"text-align: right;\">\n",
              "      <th></th>\n",
              "      <th>2018/12</th>\n",
              "    </tr>\n",
              "  </thead>\n",
              "  <tbody>\n",
              "    <tr>\n",
              "      <th>DPS</th>\n",
              "      <td>1416.00</td>\n",
              "    </tr>\n",
              "    <tr>\n",
              "      <th>PER</th>\n",
              "      <td>6.42</td>\n",
              "    </tr>\n",
              "    <tr>\n",
              "      <th>PBR</th>\n",
              "      <td>1.10</td>\n",
              "    </tr>\n",
              "  </tbody>\n",
              "</table>\n",
              "</div>\n",
              "    <div class=\"colab-df-buttons\">\n",
              "\n",
              "  <div class=\"colab-df-container\">\n",
              "    <button class=\"colab-df-convert\" onclick=\"convertToInteractive('df-70130093-79ce-4809-a736-e8214544e1a5')\"\n",
              "            title=\"Convert this dataframe to an interactive table.\"\n",
              "            style=\"display:none;\">\n",
              "\n",
              "  <svg xmlns=\"http://www.w3.org/2000/svg\" height=\"24px\" viewBox=\"0 -960 960 960\">\n",
              "    <path d=\"M120-120v-720h720v720H120Zm60-500h600v-160H180v160Zm220 220h160v-160H400v160Zm0 220h160v-160H400v160ZM180-400h160v-160H180v160Zm440 0h160v-160H620v160ZM180-180h160v-160H180v160Zm440 0h160v-160H620v160Z\"/>\n",
              "  </svg>\n",
              "    </button>\n",
              "\n",
              "  <style>\n",
              "    .colab-df-container {\n",
              "      display:flex;\n",
              "      gap: 12px;\n",
              "    }\n",
              "\n",
              "    .colab-df-convert {\n",
              "      background-color: #E8F0FE;\n",
              "      border: none;\n",
              "      border-radius: 50%;\n",
              "      cursor: pointer;\n",
              "      display: none;\n",
              "      fill: #1967D2;\n",
              "      height: 32px;\n",
              "      padding: 0 0 0 0;\n",
              "      width: 32px;\n",
              "    }\n",
              "\n",
              "    .colab-df-convert:hover {\n",
              "      background-color: #E2EBFA;\n",
              "      box-shadow: 0px 1px 2px rgba(60, 64, 67, 0.3), 0px 1px 3px 1px rgba(60, 64, 67, 0.15);\n",
              "      fill: #174EA6;\n",
              "    }\n",
              "\n",
              "    .colab-df-buttons div {\n",
              "      margin-bottom: 4px;\n",
              "    }\n",
              "\n",
              "    [theme=dark] .colab-df-convert {\n",
              "      background-color: #3B4455;\n",
              "      fill: #D2E3FC;\n",
              "    }\n",
              "\n",
              "    [theme=dark] .colab-df-convert:hover {\n",
              "      background-color: #434B5C;\n",
              "      box-shadow: 0px 1px 3px 1px rgba(0, 0, 0, 0.15);\n",
              "      filter: drop-shadow(0px 1px 2px rgba(0, 0, 0, 0.3));\n",
              "      fill: #FFFFFF;\n",
              "    }\n",
              "  </style>\n",
              "\n",
              "    <script>\n",
              "      const buttonEl =\n",
              "        document.querySelector('#df-70130093-79ce-4809-a736-e8214544e1a5 button.colab-df-convert');\n",
              "      buttonEl.style.display =\n",
              "        google.colab.kernel.accessAllowed ? 'block' : 'none';\n",
              "\n",
              "      async function convertToInteractive(key) {\n",
              "        const element = document.querySelector('#df-70130093-79ce-4809-a736-e8214544e1a5');\n",
              "        const dataTable =\n",
              "          await google.colab.kernel.invokeFunction('convertToInteractive',\n",
              "                                                    [key], {});\n",
              "        if (!dataTable) return;\n",
              "\n",
              "        const docLinkHtml = 'Like what you see? Visit the ' +\n",
              "          '<a target=\"_blank\" href=https://colab.research.google.com/notebooks/data_table.ipynb>data table notebook</a>'\n",
              "          + ' to learn more about interactive tables.';\n",
              "        element.innerHTML = '';\n",
              "        dataTable['output_type'] = 'display_data';\n",
              "        await google.colab.output.renderOutput(dataTable, element);\n",
              "        const docLink = document.createElement('div');\n",
              "        docLink.innerHTML = docLinkHtml;\n",
              "        element.appendChild(docLink);\n",
              "      }\n",
              "    </script>\n",
              "  </div>\n",
              "\n",
              "\n",
              "<div id=\"df-f09d07c7-634a-4f50-935c-beb0a3115265\">\n",
              "  <button class=\"colab-df-quickchart\" onclick=\"quickchart('df-f09d07c7-634a-4f50-935c-beb0a3115265')\"\n",
              "            title=\"Suggest charts\"\n",
              "            style=\"display:none;\">\n",
              "\n",
              "<svg xmlns=\"http://www.w3.org/2000/svg\" height=\"24px\"viewBox=\"0 0 24 24\"\n",
              "     width=\"24px\">\n",
              "    <g>\n",
              "        <path d=\"M19 3H5c-1.1 0-2 .9-2 2v14c0 1.1.9 2 2 2h14c1.1 0 2-.9 2-2V5c0-1.1-.9-2-2-2zM9 17H7v-7h2v7zm4 0h-2V7h2v10zm4 0h-2v-4h2v4z\"/>\n",
              "    </g>\n",
              "</svg>\n",
              "  </button>\n",
              "\n",
              "<style>\n",
              "  .colab-df-quickchart {\n",
              "      --bg-color: #E8F0FE;\n",
              "      --fill-color: #1967D2;\n",
              "      --hover-bg-color: #E2EBFA;\n",
              "      --hover-fill-color: #174EA6;\n",
              "      --disabled-fill-color: #AAA;\n",
              "      --disabled-bg-color: #DDD;\n",
              "  }\n",
              "\n",
              "  [theme=dark] .colab-df-quickchart {\n",
              "      --bg-color: #3B4455;\n",
              "      --fill-color: #D2E3FC;\n",
              "      --hover-bg-color: #434B5C;\n",
              "      --hover-fill-color: #FFFFFF;\n",
              "      --disabled-bg-color: #3B4455;\n",
              "      --disabled-fill-color: #666;\n",
              "  }\n",
              "\n",
              "  .colab-df-quickchart {\n",
              "    background-color: var(--bg-color);\n",
              "    border: none;\n",
              "    border-radius: 50%;\n",
              "    cursor: pointer;\n",
              "    display: none;\n",
              "    fill: var(--fill-color);\n",
              "    height: 32px;\n",
              "    padding: 0;\n",
              "    width: 32px;\n",
              "  }\n",
              "\n",
              "  .colab-df-quickchart:hover {\n",
              "    background-color: var(--hover-bg-color);\n",
              "    box-shadow: 0 1px 2px rgba(60, 64, 67, 0.3), 0 1px 3px 1px rgba(60, 64, 67, 0.15);\n",
              "    fill: var(--button-hover-fill-color);\n",
              "  }\n",
              "\n",
              "  .colab-df-quickchart-complete:disabled,\n",
              "  .colab-df-quickchart-complete:disabled:hover {\n",
              "    background-color: var(--disabled-bg-color);\n",
              "    fill: var(--disabled-fill-color);\n",
              "    box-shadow: none;\n",
              "  }\n",
              "\n",
              "  .colab-df-spinner {\n",
              "    border: 2px solid var(--fill-color);\n",
              "    border-color: transparent;\n",
              "    border-bottom-color: var(--fill-color);\n",
              "    animation:\n",
              "      spin 1s steps(1) infinite;\n",
              "  }\n",
              "\n",
              "  @keyframes spin {\n",
              "    0% {\n",
              "      border-color: transparent;\n",
              "      border-bottom-color: var(--fill-color);\n",
              "      border-left-color: var(--fill-color);\n",
              "    }\n",
              "    20% {\n",
              "      border-color: transparent;\n",
              "      border-left-color: var(--fill-color);\n",
              "      border-top-color: var(--fill-color);\n",
              "    }\n",
              "    30% {\n",
              "      border-color: transparent;\n",
              "      border-left-color: var(--fill-color);\n",
              "      border-top-color: var(--fill-color);\n",
              "      border-right-color: var(--fill-color);\n",
              "    }\n",
              "    40% {\n",
              "      border-color: transparent;\n",
              "      border-right-color: var(--fill-color);\n",
              "      border-top-color: var(--fill-color);\n",
              "    }\n",
              "    60% {\n",
              "      border-color: transparent;\n",
              "      border-right-color: var(--fill-color);\n",
              "    }\n",
              "    80% {\n",
              "      border-color: transparent;\n",
              "      border-right-color: var(--fill-color);\n",
              "      border-bottom-color: var(--fill-color);\n",
              "    }\n",
              "    90% {\n",
              "      border-color: transparent;\n",
              "      border-bottom-color: var(--fill-color);\n",
              "    }\n",
              "  }\n",
              "</style>\n",
              "\n",
              "  <script>\n",
              "    async function quickchart(key) {\n",
              "      const quickchartButtonEl =\n",
              "        document.querySelector('#' + key + ' button');\n",
              "      quickchartButtonEl.disabled = true;  // To prevent multiple clicks.\n",
              "      quickchartButtonEl.classList.add('colab-df-spinner');\n",
              "      try {\n",
              "        const charts = await google.colab.kernel.invokeFunction(\n",
              "            'suggestCharts', [key], {});\n",
              "      } catch (error) {\n",
              "        console.error('Error during call to suggestCharts:', error);\n",
              "      }\n",
              "      quickchartButtonEl.classList.remove('colab-df-spinner');\n",
              "      quickchartButtonEl.classList.add('colab-df-quickchart-complete');\n",
              "    }\n",
              "    (() => {\n",
              "      let quickchartButtonEl =\n",
              "        document.querySelector('#df-f09d07c7-634a-4f50-935c-beb0a3115265 button');\n",
              "      quickchartButtonEl.style.display =\n",
              "        google.colab.kernel.accessAllowed ? 'block' : 'none';\n",
              "    })();\n",
              "  </script>\n",
              "</div>\n",
              "\n",
              "    </div>\n",
              "  </div>\n"
            ],
            "application/vnd.google.colaboratory.intrinsic+json": {
              "type": "dataframe",
              "summary": "{\n  \"name\": \"df\",\n  \"rows\": 3,\n  \"fields\": [\n    {\n      \"column\": \"2018/12\",\n      \"properties\": {\n        \"dtype\": \"number\",\n        \"std\": 815.3614831063172,\n        \"min\": 1.1,\n        \"max\": 1416.0,\n        \"num_unique_values\": 3,\n        \"samples\": [\n          1416.0,\n          6.42,\n          1.1\n        ],\n        \"semantic_type\": \"\",\n        \"description\": \"\"\n      }\n    }\n  ]\n}"
            }
          },
          "metadata": {},
          "execution_count": 13
        }
      ],
      "source": [
        "df.filter(items=['2018/12']) #[] 사용"
      ]
    },
    {
      "cell_type": "markdown",
      "source": [
        "**방법 2** 인덱스에 대한 필터링\n",
        "\n",
        "> axis 파라미터를 0으로 설정 -> 인덱스에 대해 검색\n",
        "\n",
        "> axis 설정 안 할 시 -> 1로 설정되어 컬럼에서 탐색"
      ],
      "metadata": {
        "id": "Aug9ZrwW1zJ_"
      },
      "id": "Aug9ZrwW1zJ_"
    },
    {
      "cell_type": "code",
      "execution_count": null,
      "id": "1651170f-f199-44f3-b036-fff86c2993b9",
      "metadata": {
        "id": "1651170f-f199-44f3-b036-fff86c2993b9",
        "outputId": "b05c8274-c8c8-412a-bddb-1b80abb021b6",
        "colab": {
          "base_uri": "https://localhost:8080/",
          "height": 80
        }
      },
      "outputs": [
        {
          "output_type": "execute_result",
          "data": {
            "text/plain": [
              "     2018/12  2019/12  2020/12  2021/12(E)\n",
              "PER     6.42    17.63    21.09       13.93"
            ],
            "text/html": [
              "\n",
              "  <div id=\"df-97f79153-60cb-4f88-88ad-3fd90b199f4a\" class=\"colab-df-container\">\n",
              "    <div>\n",
              "<style scoped>\n",
              "    .dataframe tbody tr th:only-of-type {\n",
              "        vertical-align: middle;\n",
              "    }\n",
              "\n",
              "    .dataframe tbody tr th {\n",
              "        vertical-align: top;\n",
              "    }\n",
              "\n",
              "    .dataframe thead th {\n",
              "        text-align: right;\n",
              "    }\n",
              "</style>\n",
              "<table border=\"1\" class=\"dataframe\">\n",
              "  <thead>\n",
              "    <tr style=\"text-align: right;\">\n",
              "      <th></th>\n",
              "      <th>2018/12</th>\n",
              "      <th>2019/12</th>\n",
              "      <th>2020/12</th>\n",
              "      <th>2021/12(E)</th>\n",
              "    </tr>\n",
              "  </thead>\n",
              "  <tbody>\n",
              "    <tr>\n",
              "      <th>PER</th>\n",
              "      <td>6.42</td>\n",
              "      <td>17.63</td>\n",
              "      <td>21.09</td>\n",
              "      <td>13.93</td>\n",
              "    </tr>\n",
              "  </tbody>\n",
              "</table>\n",
              "</div>\n",
              "    <div class=\"colab-df-buttons\">\n",
              "\n",
              "  <div class=\"colab-df-container\">\n",
              "    <button class=\"colab-df-convert\" onclick=\"convertToInteractive('df-97f79153-60cb-4f88-88ad-3fd90b199f4a')\"\n",
              "            title=\"Convert this dataframe to an interactive table.\"\n",
              "            style=\"display:none;\">\n",
              "\n",
              "  <svg xmlns=\"http://www.w3.org/2000/svg\" height=\"24px\" viewBox=\"0 -960 960 960\">\n",
              "    <path d=\"M120-120v-720h720v720H120Zm60-500h600v-160H180v160Zm220 220h160v-160H400v160Zm0 220h160v-160H400v160ZM180-400h160v-160H180v160Zm440 0h160v-160H620v160ZM180-180h160v-160H180v160Zm440 0h160v-160H620v160Z\"/>\n",
              "  </svg>\n",
              "    </button>\n",
              "\n",
              "  <style>\n",
              "    .colab-df-container {\n",
              "      display:flex;\n",
              "      gap: 12px;\n",
              "    }\n",
              "\n",
              "    .colab-df-convert {\n",
              "      background-color: #E8F0FE;\n",
              "      border: none;\n",
              "      border-radius: 50%;\n",
              "      cursor: pointer;\n",
              "      display: none;\n",
              "      fill: #1967D2;\n",
              "      height: 32px;\n",
              "      padding: 0 0 0 0;\n",
              "      width: 32px;\n",
              "    }\n",
              "\n",
              "    .colab-df-convert:hover {\n",
              "      background-color: #E2EBFA;\n",
              "      box-shadow: 0px 1px 2px rgba(60, 64, 67, 0.3), 0px 1px 3px 1px rgba(60, 64, 67, 0.15);\n",
              "      fill: #174EA6;\n",
              "    }\n",
              "\n",
              "    .colab-df-buttons div {\n",
              "      margin-bottom: 4px;\n",
              "    }\n",
              "\n",
              "    [theme=dark] .colab-df-convert {\n",
              "      background-color: #3B4455;\n",
              "      fill: #D2E3FC;\n",
              "    }\n",
              "\n",
              "    [theme=dark] .colab-df-convert:hover {\n",
              "      background-color: #434B5C;\n",
              "      box-shadow: 0px 1px 3px 1px rgba(0, 0, 0, 0.15);\n",
              "      filter: drop-shadow(0px 1px 2px rgba(0, 0, 0, 0.3));\n",
              "      fill: #FFFFFF;\n",
              "    }\n",
              "  </style>\n",
              "\n",
              "    <script>\n",
              "      const buttonEl =\n",
              "        document.querySelector('#df-97f79153-60cb-4f88-88ad-3fd90b199f4a button.colab-df-convert');\n",
              "      buttonEl.style.display =\n",
              "        google.colab.kernel.accessAllowed ? 'block' : 'none';\n",
              "\n",
              "      async function convertToInteractive(key) {\n",
              "        const element = document.querySelector('#df-97f79153-60cb-4f88-88ad-3fd90b199f4a');\n",
              "        const dataTable =\n",
              "          await google.colab.kernel.invokeFunction('convertToInteractive',\n",
              "                                                    [key], {});\n",
              "        if (!dataTable) return;\n",
              "\n",
              "        const docLinkHtml = 'Like what you see? Visit the ' +\n",
              "          '<a target=\"_blank\" href=https://colab.research.google.com/notebooks/data_table.ipynb>data table notebook</a>'\n",
              "          + ' to learn more about interactive tables.';\n",
              "        element.innerHTML = '';\n",
              "        dataTable['output_type'] = 'display_data';\n",
              "        await google.colab.output.renderOutput(dataTable, element);\n",
              "        const docLink = document.createElement('div');\n",
              "        docLink.innerHTML = docLinkHtml;\n",
              "        element.appendChild(docLink);\n",
              "      }\n",
              "    </script>\n",
              "  </div>\n",
              "\n",
              "\n",
              "    </div>\n",
              "  </div>\n"
            ],
            "application/vnd.google.colaboratory.intrinsic+json": {
              "type": "dataframe",
              "summary": "{\n  \"name\": \"df\",\n  \"rows\": 1,\n  \"fields\": [\n    {\n      \"column\": \"2018/12\",\n      \"properties\": {\n        \"dtype\": \"number\",\n        \"std\": null,\n        \"min\": 6.42,\n        \"max\": 6.42,\n        \"num_unique_values\": 1,\n        \"samples\": [\n          6.42\n        ],\n        \"semantic_type\": \"\",\n        \"description\": \"\"\n      }\n    },\n    {\n      \"column\": \"2019/12\",\n      \"properties\": {\n        \"dtype\": \"number\",\n        \"std\": null,\n        \"min\": 17.63,\n        \"max\": 17.63,\n        \"num_unique_values\": 1,\n        \"samples\": [\n          17.63\n        ],\n        \"semantic_type\": \"\",\n        \"description\": \"\"\n      }\n    },\n    {\n      \"column\": \"2020/12\",\n      \"properties\": {\n        \"dtype\": \"number\",\n        \"std\": null,\n        \"min\": 21.09,\n        \"max\": 21.09,\n        \"num_unique_values\": 1,\n        \"samples\": [\n          21.09\n        ],\n        \"semantic_type\": \"\",\n        \"description\": \"\"\n      }\n    },\n    {\n      \"column\": \"2021/12(E)\",\n      \"properties\": {\n        \"dtype\": \"number\",\n        \"std\": null,\n        \"min\": 13.93,\n        \"max\": 13.93,\n        \"num_unique_values\": 1,\n        \"samples\": [\n          13.93\n        ],\n        \"semantic_type\": \"\",\n        \"description\": \"\"\n      }\n    }\n  ]\n}"
            }
          },
          "metadata": {},
          "execution_count": 14
        }
      ],
      "source": [
        "df.filter(items=['PER'], axis=0)"
      ]
    },
    {
      "cell_type": "markdown",
      "source": [
        "> **regex** 파라미터: 정규표현식 사용 가능\n",
        "\n",
        "*   여러 종목에 대해서 백테스팅을 수행할 때 회사별로 결산월이 다름\n",
        "*   -> 컬럼에서 2020이라는 문자열 일부로 필터링 필요\n"
      ],
      "metadata": {
        "id": "Gw1kmFzj2ff7"
      },
      "id": "Gw1kmFzj2ff7"
    },
    {
      "cell_type": "code",
      "execution_count": null,
      "id": "1643f284-5c64-47ee-a4a4-e25724b19764",
      "metadata": {
        "id": "1643f284-5c64-47ee-a4a4-e25724b19764",
        "outputId": "4f2cbfed-597a-4a96-f0c6-2ed32bb63cf5",
        "colab": {
          "base_uri": "https://localhost:8080/",
          "height": 143
        }
      },
      "outputs": [
        {
          "output_type": "execute_result",
          "data": {
            "text/plain": [
              "     2020/12\n",
              "DPS  2994.00\n",
              "PER    21.09\n",
              "PBR     2.06"
            ],
            "text/html": [
              "\n",
              "  <div id=\"df-a8b878fc-4f95-4ce2-83da-22b091e77993\" class=\"colab-df-container\">\n",
              "    <div>\n",
              "<style scoped>\n",
              "    .dataframe tbody tr th:only-of-type {\n",
              "        vertical-align: middle;\n",
              "    }\n",
              "\n",
              "    .dataframe tbody tr th {\n",
              "        vertical-align: top;\n",
              "    }\n",
              "\n",
              "    .dataframe thead th {\n",
              "        text-align: right;\n",
              "    }\n",
              "</style>\n",
              "<table border=\"1\" class=\"dataframe\">\n",
              "  <thead>\n",
              "    <tr style=\"text-align: right;\">\n",
              "      <th></th>\n",
              "      <th>2020/12</th>\n",
              "    </tr>\n",
              "  </thead>\n",
              "  <tbody>\n",
              "    <tr>\n",
              "      <th>DPS</th>\n",
              "      <td>2994.00</td>\n",
              "    </tr>\n",
              "    <tr>\n",
              "      <th>PER</th>\n",
              "      <td>21.09</td>\n",
              "    </tr>\n",
              "    <tr>\n",
              "      <th>PBR</th>\n",
              "      <td>2.06</td>\n",
              "    </tr>\n",
              "  </tbody>\n",
              "</table>\n",
              "</div>\n",
              "    <div class=\"colab-df-buttons\">\n",
              "\n",
              "  <div class=\"colab-df-container\">\n",
              "    <button class=\"colab-df-convert\" onclick=\"convertToInteractive('df-a8b878fc-4f95-4ce2-83da-22b091e77993')\"\n",
              "            title=\"Convert this dataframe to an interactive table.\"\n",
              "            style=\"display:none;\">\n",
              "\n",
              "  <svg xmlns=\"http://www.w3.org/2000/svg\" height=\"24px\" viewBox=\"0 -960 960 960\">\n",
              "    <path d=\"M120-120v-720h720v720H120Zm60-500h600v-160H180v160Zm220 220h160v-160H400v160Zm0 220h160v-160H400v160ZM180-400h160v-160H180v160Zm440 0h160v-160H620v160ZM180-180h160v-160H180v160Zm440 0h160v-160H620v160Z\"/>\n",
              "  </svg>\n",
              "    </button>\n",
              "\n",
              "  <style>\n",
              "    .colab-df-container {\n",
              "      display:flex;\n",
              "      gap: 12px;\n",
              "    }\n",
              "\n",
              "    .colab-df-convert {\n",
              "      background-color: #E8F0FE;\n",
              "      border: none;\n",
              "      border-radius: 50%;\n",
              "      cursor: pointer;\n",
              "      display: none;\n",
              "      fill: #1967D2;\n",
              "      height: 32px;\n",
              "      padding: 0 0 0 0;\n",
              "      width: 32px;\n",
              "    }\n",
              "\n",
              "    .colab-df-convert:hover {\n",
              "      background-color: #E2EBFA;\n",
              "      box-shadow: 0px 1px 2px rgba(60, 64, 67, 0.3), 0px 1px 3px 1px rgba(60, 64, 67, 0.15);\n",
              "      fill: #174EA6;\n",
              "    }\n",
              "\n",
              "    .colab-df-buttons div {\n",
              "      margin-bottom: 4px;\n",
              "    }\n",
              "\n",
              "    [theme=dark] .colab-df-convert {\n",
              "      background-color: #3B4455;\n",
              "      fill: #D2E3FC;\n",
              "    }\n",
              "\n",
              "    [theme=dark] .colab-df-convert:hover {\n",
              "      background-color: #434B5C;\n",
              "      box-shadow: 0px 1px 3px 1px rgba(0, 0, 0, 0.15);\n",
              "      filter: drop-shadow(0px 1px 2px rgba(0, 0, 0, 0.3));\n",
              "      fill: #FFFFFF;\n",
              "    }\n",
              "  </style>\n",
              "\n",
              "    <script>\n",
              "      const buttonEl =\n",
              "        document.querySelector('#df-a8b878fc-4f95-4ce2-83da-22b091e77993 button.colab-df-convert');\n",
              "      buttonEl.style.display =\n",
              "        google.colab.kernel.accessAllowed ? 'block' : 'none';\n",
              "\n",
              "      async function convertToInteractive(key) {\n",
              "        const element = document.querySelector('#df-a8b878fc-4f95-4ce2-83da-22b091e77993');\n",
              "        const dataTable =\n",
              "          await google.colab.kernel.invokeFunction('convertToInteractive',\n",
              "                                                    [key], {});\n",
              "        if (!dataTable) return;\n",
              "\n",
              "        const docLinkHtml = 'Like what you see? Visit the ' +\n",
              "          '<a target=\"_blank\" href=https://colab.research.google.com/notebooks/data_table.ipynb>data table notebook</a>'\n",
              "          + ' to learn more about interactive tables.';\n",
              "        element.innerHTML = '';\n",
              "        dataTable['output_type'] = 'display_data';\n",
              "        await google.colab.output.renderOutput(dataTable, element);\n",
              "        const docLink = document.createElement('div');\n",
              "        docLink.innerHTML = docLinkHtml;\n",
              "        element.appendChild(docLink);\n",
              "      }\n",
              "    </script>\n",
              "  </div>\n",
              "\n",
              "\n",
              "<div id=\"df-d9821b24-937e-476c-b8f6-2178f0bdb84a\">\n",
              "  <button class=\"colab-df-quickchart\" onclick=\"quickchart('df-d9821b24-937e-476c-b8f6-2178f0bdb84a')\"\n",
              "            title=\"Suggest charts\"\n",
              "            style=\"display:none;\">\n",
              "\n",
              "<svg xmlns=\"http://www.w3.org/2000/svg\" height=\"24px\"viewBox=\"0 0 24 24\"\n",
              "     width=\"24px\">\n",
              "    <g>\n",
              "        <path d=\"M19 3H5c-1.1 0-2 .9-2 2v14c0 1.1.9 2 2 2h14c1.1 0 2-.9 2-2V5c0-1.1-.9-2-2-2zM9 17H7v-7h2v7zm4 0h-2V7h2v10zm4 0h-2v-4h2v4z\"/>\n",
              "    </g>\n",
              "</svg>\n",
              "  </button>\n",
              "\n",
              "<style>\n",
              "  .colab-df-quickchart {\n",
              "      --bg-color: #E8F0FE;\n",
              "      --fill-color: #1967D2;\n",
              "      --hover-bg-color: #E2EBFA;\n",
              "      --hover-fill-color: #174EA6;\n",
              "      --disabled-fill-color: #AAA;\n",
              "      --disabled-bg-color: #DDD;\n",
              "  }\n",
              "\n",
              "  [theme=dark] .colab-df-quickchart {\n",
              "      --bg-color: #3B4455;\n",
              "      --fill-color: #D2E3FC;\n",
              "      --hover-bg-color: #434B5C;\n",
              "      --hover-fill-color: #FFFFFF;\n",
              "      --disabled-bg-color: #3B4455;\n",
              "      --disabled-fill-color: #666;\n",
              "  }\n",
              "\n",
              "  .colab-df-quickchart {\n",
              "    background-color: var(--bg-color);\n",
              "    border: none;\n",
              "    border-radius: 50%;\n",
              "    cursor: pointer;\n",
              "    display: none;\n",
              "    fill: var(--fill-color);\n",
              "    height: 32px;\n",
              "    padding: 0;\n",
              "    width: 32px;\n",
              "  }\n",
              "\n",
              "  .colab-df-quickchart:hover {\n",
              "    background-color: var(--hover-bg-color);\n",
              "    box-shadow: 0 1px 2px rgba(60, 64, 67, 0.3), 0 1px 3px 1px rgba(60, 64, 67, 0.15);\n",
              "    fill: var(--button-hover-fill-color);\n",
              "  }\n",
              "\n",
              "  .colab-df-quickchart-complete:disabled,\n",
              "  .colab-df-quickchart-complete:disabled:hover {\n",
              "    background-color: var(--disabled-bg-color);\n",
              "    fill: var(--disabled-fill-color);\n",
              "    box-shadow: none;\n",
              "  }\n",
              "\n",
              "  .colab-df-spinner {\n",
              "    border: 2px solid var(--fill-color);\n",
              "    border-color: transparent;\n",
              "    border-bottom-color: var(--fill-color);\n",
              "    animation:\n",
              "      spin 1s steps(1) infinite;\n",
              "  }\n",
              "\n",
              "  @keyframes spin {\n",
              "    0% {\n",
              "      border-color: transparent;\n",
              "      border-bottom-color: var(--fill-color);\n",
              "      border-left-color: var(--fill-color);\n",
              "    }\n",
              "    20% {\n",
              "      border-color: transparent;\n",
              "      border-left-color: var(--fill-color);\n",
              "      border-top-color: var(--fill-color);\n",
              "    }\n",
              "    30% {\n",
              "      border-color: transparent;\n",
              "      border-left-color: var(--fill-color);\n",
              "      border-top-color: var(--fill-color);\n",
              "      border-right-color: var(--fill-color);\n",
              "    }\n",
              "    40% {\n",
              "      border-color: transparent;\n",
              "      border-right-color: var(--fill-color);\n",
              "      border-top-color: var(--fill-color);\n",
              "    }\n",
              "    60% {\n",
              "      border-color: transparent;\n",
              "      border-right-color: var(--fill-color);\n",
              "    }\n",
              "    80% {\n",
              "      border-color: transparent;\n",
              "      border-right-color: var(--fill-color);\n",
              "      border-bottom-color: var(--fill-color);\n",
              "    }\n",
              "    90% {\n",
              "      border-color: transparent;\n",
              "      border-bottom-color: var(--fill-color);\n",
              "    }\n",
              "  }\n",
              "</style>\n",
              "\n",
              "  <script>\n",
              "    async function quickchart(key) {\n",
              "      const quickchartButtonEl =\n",
              "        document.querySelector('#' + key + ' button');\n",
              "      quickchartButtonEl.disabled = true;  // To prevent multiple clicks.\n",
              "      quickchartButtonEl.classList.add('colab-df-spinner');\n",
              "      try {\n",
              "        const charts = await google.colab.kernel.invokeFunction(\n",
              "            'suggestCharts', [key], {});\n",
              "      } catch (error) {\n",
              "        console.error('Error during call to suggestCharts:', error);\n",
              "      }\n",
              "      quickchartButtonEl.classList.remove('colab-df-spinner');\n",
              "      quickchartButtonEl.classList.add('colab-df-quickchart-complete');\n",
              "    }\n",
              "    (() => {\n",
              "      let quickchartButtonEl =\n",
              "        document.querySelector('#df-d9821b24-937e-476c-b8f6-2178f0bdb84a button');\n",
              "      quickchartButtonEl.style.display =\n",
              "        google.colab.kernel.accessAllowed ? 'block' : 'none';\n",
              "    })();\n",
              "  </script>\n",
              "</div>\n",
              "\n",
              "    </div>\n",
              "  </div>\n"
            ],
            "application/vnd.google.colaboratory.intrinsic+json": {
              "type": "dataframe",
              "summary": "{\n  \"name\": \"df\",\n  \"rows\": 3,\n  \"fields\": [\n    {\n      \"column\": \"2020/12\",\n      \"properties\": {\n        \"dtype\": \"number\",\n        \"std\": 1721.9301656668117,\n        \"min\": 2.06,\n        \"max\": 2994.0,\n        \"num_unique_values\": 3,\n        \"samples\": [\n          2994.0,\n          21.09,\n          2.06\n        ],\n        \"semantic_type\": \"\",\n        \"description\": \"\"\n      }\n    }\n  ]\n}"
            }
          },
          "metadata": {},
          "execution_count": 15
        }
      ],
      "source": [
        "df.filter(regex='2020')"
      ]
    },
    {
      "cell_type": "markdown",
      "source": [
        "> **메타 문자 사용**: 정규 표현식에서 검색하는 패턴을 구체화\n",
        "*    단순히 문자열의 패턴만을 검색하면 원치 않는 값들이 함께 선택되기 때문\n",
        "*   메타 문자는 특수 기능을 의미\n",
        "\n",
        "> **^**: 시작을 의미\n",
        "\n",
        "> ^2020: 2020으로 시작하는 문자열 패턴만을 선택"
      ],
      "metadata": {
        "id": "TXNfPmZB28uA"
      },
      "id": "TXNfPmZB28uA"
    },
    {
      "cell_type": "code",
      "execution_count": null,
      "id": "d785f33f",
      "metadata": {
        "id": "d785f33f",
        "outputId": "10d50a56-d4f8-49ef-c95d-e7735e91a8b0",
        "colab": {
          "base_uri": "https://localhost:8080/",
          "height": 143
        }
      },
      "outputs": [
        {
          "output_type": "execute_result",
          "data": {
            "text/plain": [
              "     2020/12\n",
              "DPS  2994.00\n",
              "PER    21.09\n",
              "PBR     2.06"
            ],
            "text/html": [
              "\n",
              "  <div id=\"df-73e1b745-bf5b-48af-b9ea-db69b17c21d9\" class=\"colab-df-container\">\n",
              "    <div>\n",
              "<style scoped>\n",
              "    .dataframe tbody tr th:only-of-type {\n",
              "        vertical-align: middle;\n",
              "    }\n",
              "\n",
              "    .dataframe tbody tr th {\n",
              "        vertical-align: top;\n",
              "    }\n",
              "\n",
              "    .dataframe thead th {\n",
              "        text-align: right;\n",
              "    }\n",
              "</style>\n",
              "<table border=\"1\" class=\"dataframe\">\n",
              "  <thead>\n",
              "    <tr style=\"text-align: right;\">\n",
              "      <th></th>\n",
              "      <th>2020/12</th>\n",
              "    </tr>\n",
              "  </thead>\n",
              "  <tbody>\n",
              "    <tr>\n",
              "      <th>DPS</th>\n",
              "      <td>2994.00</td>\n",
              "    </tr>\n",
              "    <tr>\n",
              "      <th>PER</th>\n",
              "      <td>21.09</td>\n",
              "    </tr>\n",
              "    <tr>\n",
              "      <th>PBR</th>\n",
              "      <td>2.06</td>\n",
              "    </tr>\n",
              "  </tbody>\n",
              "</table>\n",
              "</div>\n",
              "    <div class=\"colab-df-buttons\">\n",
              "\n",
              "  <div class=\"colab-df-container\">\n",
              "    <button class=\"colab-df-convert\" onclick=\"convertToInteractive('df-73e1b745-bf5b-48af-b9ea-db69b17c21d9')\"\n",
              "            title=\"Convert this dataframe to an interactive table.\"\n",
              "            style=\"display:none;\">\n",
              "\n",
              "  <svg xmlns=\"http://www.w3.org/2000/svg\" height=\"24px\" viewBox=\"0 -960 960 960\">\n",
              "    <path d=\"M120-120v-720h720v720H120Zm60-500h600v-160H180v160Zm220 220h160v-160H400v160Zm0 220h160v-160H400v160ZM180-400h160v-160H180v160Zm440 0h160v-160H620v160ZM180-180h160v-160H180v160Zm440 0h160v-160H620v160Z\"/>\n",
              "  </svg>\n",
              "    </button>\n",
              "\n",
              "  <style>\n",
              "    .colab-df-container {\n",
              "      display:flex;\n",
              "      gap: 12px;\n",
              "    }\n",
              "\n",
              "    .colab-df-convert {\n",
              "      background-color: #E8F0FE;\n",
              "      border: none;\n",
              "      border-radius: 50%;\n",
              "      cursor: pointer;\n",
              "      display: none;\n",
              "      fill: #1967D2;\n",
              "      height: 32px;\n",
              "      padding: 0 0 0 0;\n",
              "      width: 32px;\n",
              "    }\n",
              "\n",
              "    .colab-df-convert:hover {\n",
              "      background-color: #E2EBFA;\n",
              "      box-shadow: 0px 1px 2px rgba(60, 64, 67, 0.3), 0px 1px 3px 1px rgba(60, 64, 67, 0.15);\n",
              "      fill: #174EA6;\n",
              "    }\n",
              "\n",
              "    .colab-df-buttons div {\n",
              "      margin-bottom: 4px;\n",
              "    }\n",
              "\n",
              "    [theme=dark] .colab-df-convert {\n",
              "      background-color: #3B4455;\n",
              "      fill: #D2E3FC;\n",
              "    }\n",
              "\n",
              "    [theme=dark] .colab-df-convert:hover {\n",
              "      background-color: #434B5C;\n",
              "      box-shadow: 0px 1px 3px 1px rgba(0, 0, 0, 0.15);\n",
              "      filter: drop-shadow(0px 1px 2px rgba(0, 0, 0, 0.3));\n",
              "      fill: #FFFFFF;\n",
              "    }\n",
              "  </style>\n",
              "\n",
              "    <script>\n",
              "      const buttonEl =\n",
              "        document.querySelector('#df-73e1b745-bf5b-48af-b9ea-db69b17c21d9 button.colab-df-convert');\n",
              "      buttonEl.style.display =\n",
              "        google.colab.kernel.accessAllowed ? 'block' : 'none';\n",
              "\n",
              "      async function convertToInteractive(key) {\n",
              "        const element = document.querySelector('#df-73e1b745-bf5b-48af-b9ea-db69b17c21d9');\n",
              "        const dataTable =\n",
              "          await google.colab.kernel.invokeFunction('convertToInteractive',\n",
              "                                                    [key], {});\n",
              "        if (!dataTable) return;\n",
              "\n",
              "        const docLinkHtml = 'Like what you see? Visit the ' +\n",
              "          '<a target=\"_blank\" href=https://colab.research.google.com/notebooks/data_table.ipynb>data table notebook</a>'\n",
              "          + ' to learn more about interactive tables.';\n",
              "        element.innerHTML = '';\n",
              "        dataTable['output_type'] = 'display_data';\n",
              "        await google.colab.output.renderOutput(dataTable, element);\n",
              "        const docLink = document.createElement('div');\n",
              "        docLink.innerHTML = docLinkHtml;\n",
              "        element.appendChild(docLink);\n",
              "      }\n",
              "    </script>\n",
              "  </div>\n",
              "\n",
              "\n",
              "<div id=\"df-f788cffb-1e1b-412b-aa3b-2056bcdfd4d3\">\n",
              "  <button class=\"colab-df-quickchart\" onclick=\"quickchart('df-f788cffb-1e1b-412b-aa3b-2056bcdfd4d3')\"\n",
              "            title=\"Suggest charts\"\n",
              "            style=\"display:none;\">\n",
              "\n",
              "<svg xmlns=\"http://www.w3.org/2000/svg\" height=\"24px\"viewBox=\"0 0 24 24\"\n",
              "     width=\"24px\">\n",
              "    <g>\n",
              "        <path d=\"M19 3H5c-1.1 0-2 .9-2 2v14c0 1.1.9 2 2 2h14c1.1 0 2-.9 2-2V5c0-1.1-.9-2-2-2zM9 17H7v-7h2v7zm4 0h-2V7h2v10zm4 0h-2v-4h2v4z\"/>\n",
              "    </g>\n",
              "</svg>\n",
              "  </button>\n",
              "\n",
              "<style>\n",
              "  .colab-df-quickchart {\n",
              "      --bg-color: #E8F0FE;\n",
              "      --fill-color: #1967D2;\n",
              "      --hover-bg-color: #E2EBFA;\n",
              "      --hover-fill-color: #174EA6;\n",
              "      --disabled-fill-color: #AAA;\n",
              "      --disabled-bg-color: #DDD;\n",
              "  }\n",
              "\n",
              "  [theme=dark] .colab-df-quickchart {\n",
              "      --bg-color: #3B4455;\n",
              "      --fill-color: #D2E3FC;\n",
              "      --hover-bg-color: #434B5C;\n",
              "      --hover-fill-color: #FFFFFF;\n",
              "      --disabled-bg-color: #3B4455;\n",
              "      --disabled-fill-color: #666;\n",
              "  }\n",
              "\n",
              "  .colab-df-quickchart {\n",
              "    background-color: var(--bg-color);\n",
              "    border: none;\n",
              "    border-radius: 50%;\n",
              "    cursor: pointer;\n",
              "    display: none;\n",
              "    fill: var(--fill-color);\n",
              "    height: 32px;\n",
              "    padding: 0;\n",
              "    width: 32px;\n",
              "  }\n",
              "\n",
              "  .colab-df-quickchart:hover {\n",
              "    background-color: var(--hover-bg-color);\n",
              "    box-shadow: 0 1px 2px rgba(60, 64, 67, 0.3), 0 1px 3px 1px rgba(60, 64, 67, 0.15);\n",
              "    fill: var(--button-hover-fill-color);\n",
              "  }\n",
              "\n",
              "  .colab-df-quickchart-complete:disabled,\n",
              "  .colab-df-quickchart-complete:disabled:hover {\n",
              "    background-color: var(--disabled-bg-color);\n",
              "    fill: var(--disabled-fill-color);\n",
              "    box-shadow: none;\n",
              "  }\n",
              "\n",
              "  .colab-df-spinner {\n",
              "    border: 2px solid var(--fill-color);\n",
              "    border-color: transparent;\n",
              "    border-bottom-color: var(--fill-color);\n",
              "    animation:\n",
              "      spin 1s steps(1) infinite;\n",
              "  }\n",
              "\n",
              "  @keyframes spin {\n",
              "    0% {\n",
              "      border-color: transparent;\n",
              "      border-bottom-color: var(--fill-color);\n",
              "      border-left-color: var(--fill-color);\n",
              "    }\n",
              "    20% {\n",
              "      border-color: transparent;\n",
              "      border-left-color: var(--fill-color);\n",
              "      border-top-color: var(--fill-color);\n",
              "    }\n",
              "    30% {\n",
              "      border-color: transparent;\n",
              "      border-left-color: var(--fill-color);\n",
              "      border-top-color: var(--fill-color);\n",
              "      border-right-color: var(--fill-color);\n",
              "    }\n",
              "    40% {\n",
              "      border-color: transparent;\n",
              "      border-right-color: var(--fill-color);\n",
              "      border-top-color: var(--fill-color);\n",
              "    }\n",
              "    60% {\n",
              "      border-color: transparent;\n",
              "      border-right-color: var(--fill-color);\n",
              "    }\n",
              "    80% {\n",
              "      border-color: transparent;\n",
              "      border-right-color: var(--fill-color);\n",
              "      border-bottom-color: var(--fill-color);\n",
              "    }\n",
              "    90% {\n",
              "      border-color: transparent;\n",
              "      border-bottom-color: var(--fill-color);\n",
              "    }\n",
              "  }\n",
              "</style>\n",
              "\n",
              "  <script>\n",
              "    async function quickchart(key) {\n",
              "      const quickchartButtonEl =\n",
              "        document.querySelector('#' + key + ' button');\n",
              "      quickchartButtonEl.disabled = true;  // To prevent multiple clicks.\n",
              "      quickchartButtonEl.classList.add('colab-df-spinner');\n",
              "      try {\n",
              "        const charts = await google.colab.kernel.invokeFunction(\n",
              "            'suggestCharts', [key], {});\n",
              "      } catch (error) {\n",
              "        console.error('Error during call to suggestCharts:', error);\n",
              "      }\n",
              "      quickchartButtonEl.classList.remove('colab-df-spinner');\n",
              "      quickchartButtonEl.classList.add('colab-df-quickchart-complete');\n",
              "    }\n",
              "    (() => {\n",
              "      let quickchartButtonEl =\n",
              "        document.querySelector('#df-f788cffb-1e1b-412b-aa3b-2056bcdfd4d3 button');\n",
              "      quickchartButtonEl.style.display =\n",
              "        google.colab.kernel.accessAllowed ? 'block' : 'none';\n",
              "    })();\n",
              "  </script>\n",
              "</div>\n",
              "\n",
              "    </div>\n",
              "  </div>\n"
            ],
            "application/vnd.google.colaboratory.intrinsic+json": {
              "type": "dataframe",
              "summary": "{\n  \"name\": \"df\",\n  \"rows\": 3,\n  \"fields\": [\n    {\n      \"column\": \"2020/12\",\n      \"properties\": {\n        \"dtype\": \"number\",\n        \"std\": 1721.9301656668117,\n        \"min\": 2.06,\n        \"max\": 2994.0,\n        \"num_unique_values\": 3,\n        \"samples\": [\n          2994.0,\n          21.09,\n          2.06\n        ],\n        \"semantic_type\": \"\",\n        \"description\": \"\"\n      }\n    }\n  ]\n}"
            }
          },
          "metadata": {},
          "execution_count": 16
        }
      ],
      "source": [
        "df.filter(regex='^2020', axis=1)"
      ]
    },
    {
      "cell_type": "markdown",
      "source": [
        "> **$**: 끝을 의미\n",
        "\n",
        "> R$: R로 끝나는 모든 패턴"
      ],
      "metadata": {
        "id": "kh8AQ96E37Sw"
      },
      "id": "kh8AQ96E37Sw"
    },
    {
      "cell_type": "code",
      "execution_count": null,
      "id": "49d6ed4e-d0ba-4762-b841-8bf320925031",
      "metadata": {
        "id": "49d6ed4e-d0ba-4762-b841-8bf320925031",
        "outputId": "92d33702-beab-4c67-c251-42f0155f1d21",
        "colab": {
          "base_uri": "https://localhost:8080/",
          "height": 112
        }
      },
      "outputs": [
        {
          "output_type": "execute_result",
          "data": {
            "text/plain": [
              "     2018/12  2019/12  2020/12  2021/12(E)\n",
              "PER     6.42    17.63    21.09       13.93\n",
              "PBR     1.10     1.49     2.06        1.88"
            ],
            "text/html": [
              "\n",
              "  <div id=\"df-85ec3153-1e24-430c-a2bb-929ce71c6a71\" class=\"colab-df-container\">\n",
              "    <div>\n",
              "<style scoped>\n",
              "    .dataframe tbody tr th:only-of-type {\n",
              "        vertical-align: middle;\n",
              "    }\n",
              "\n",
              "    .dataframe tbody tr th {\n",
              "        vertical-align: top;\n",
              "    }\n",
              "\n",
              "    .dataframe thead th {\n",
              "        text-align: right;\n",
              "    }\n",
              "</style>\n",
              "<table border=\"1\" class=\"dataframe\">\n",
              "  <thead>\n",
              "    <tr style=\"text-align: right;\">\n",
              "      <th></th>\n",
              "      <th>2018/12</th>\n",
              "      <th>2019/12</th>\n",
              "      <th>2020/12</th>\n",
              "      <th>2021/12(E)</th>\n",
              "    </tr>\n",
              "  </thead>\n",
              "  <tbody>\n",
              "    <tr>\n",
              "      <th>PER</th>\n",
              "      <td>6.42</td>\n",
              "      <td>17.63</td>\n",
              "      <td>21.09</td>\n",
              "      <td>13.93</td>\n",
              "    </tr>\n",
              "    <tr>\n",
              "      <th>PBR</th>\n",
              "      <td>1.10</td>\n",
              "      <td>1.49</td>\n",
              "      <td>2.06</td>\n",
              "      <td>1.88</td>\n",
              "    </tr>\n",
              "  </tbody>\n",
              "</table>\n",
              "</div>\n",
              "    <div class=\"colab-df-buttons\">\n",
              "\n",
              "  <div class=\"colab-df-container\">\n",
              "    <button class=\"colab-df-convert\" onclick=\"convertToInteractive('df-85ec3153-1e24-430c-a2bb-929ce71c6a71')\"\n",
              "            title=\"Convert this dataframe to an interactive table.\"\n",
              "            style=\"display:none;\">\n",
              "\n",
              "  <svg xmlns=\"http://www.w3.org/2000/svg\" height=\"24px\" viewBox=\"0 -960 960 960\">\n",
              "    <path d=\"M120-120v-720h720v720H120Zm60-500h600v-160H180v160Zm220 220h160v-160H400v160Zm0 220h160v-160H400v160ZM180-400h160v-160H180v160Zm440 0h160v-160H620v160ZM180-180h160v-160H180v160Zm440 0h160v-160H620v160Z\"/>\n",
              "  </svg>\n",
              "    </button>\n",
              "\n",
              "  <style>\n",
              "    .colab-df-container {\n",
              "      display:flex;\n",
              "      gap: 12px;\n",
              "    }\n",
              "\n",
              "    .colab-df-convert {\n",
              "      background-color: #E8F0FE;\n",
              "      border: none;\n",
              "      border-radius: 50%;\n",
              "      cursor: pointer;\n",
              "      display: none;\n",
              "      fill: #1967D2;\n",
              "      height: 32px;\n",
              "      padding: 0 0 0 0;\n",
              "      width: 32px;\n",
              "    }\n",
              "\n",
              "    .colab-df-convert:hover {\n",
              "      background-color: #E2EBFA;\n",
              "      box-shadow: 0px 1px 2px rgba(60, 64, 67, 0.3), 0px 1px 3px 1px rgba(60, 64, 67, 0.15);\n",
              "      fill: #174EA6;\n",
              "    }\n",
              "\n",
              "    .colab-df-buttons div {\n",
              "      margin-bottom: 4px;\n",
              "    }\n",
              "\n",
              "    [theme=dark] .colab-df-convert {\n",
              "      background-color: #3B4455;\n",
              "      fill: #D2E3FC;\n",
              "    }\n",
              "\n",
              "    [theme=dark] .colab-df-convert:hover {\n",
              "      background-color: #434B5C;\n",
              "      box-shadow: 0px 1px 3px 1px rgba(0, 0, 0, 0.15);\n",
              "      filter: drop-shadow(0px 1px 2px rgba(0, 0, 0, 0.3));\n",
              "      fill: #FFFFFF;\n",
              "    }\n",
              "  </style>\n",
              "\n",
              "    <script>\n",
              "      const buttonEl =\n",
              "        document.querySelector('#df-85ec3153-1e24-430c-a2bb-929ce71c6a71 button.colab-df-convert');\n",
              "      buttonEl.style.display =\n",
              "        google.colab.kernel.accessAllowed ? 'block' : 'none';\n",
              "\n",
              "      async function convertToInteractive(key) {\n",
              "        const element = document.querySelector('#df-85ec3153-1e24-430c-a2bb-929ce71c6a71');\n",
              "        const dataTable =\n",
              "          await google.colab.kernel.invokeFunction('convertToInteractive',\n",
              "                                                    [key], {});\n",
              "        if (!dataTable) return;\n",
              "\n",
              "        const docLinkHtml = 'Like what you see? Visit the ' +\n",
              "          '<a target=\"_blank\" href=https://colab.research.google.com/notebooks/data_table.ipynb>data table notebook</a>'\n",
              "          + ' to learn more about interactive tables.';\n",
              "        element.innerHTML = '';\n",
              "        dataTable['output_type'] = 'display_data';\n",
              "        await google.colab.output.renderOutput(dataTable, element);\n",
              "        const docLink = document.createElement('div');\n",
              "        docLink.innerHTML = docLinkHtml;\n",
              "        element.appendChild(docLink);\n",
              "      }\n",
              "    </script>\n",
              "  </div>\n",
              "\n",
              "\n",
              "<div id=\"df-fe198c86-7535-48a6-9f97-b09c52949b45\">\n",
              "  <button class=\"colab-df-quickchart\" onclick=\"quickchart('df-fe198c86-7535-48a6-9f97-b09c52949b45')\"\n",
              "            title=\"Suggest charts\"\n",
              "            style=\"display:none;\">\n",
              "\n",
              "<svg xmlns=\"http://www.w3.org/2000/svg\" height=\"24px\"viewBox=\"0 0 24 24\"\n",
              "     width=\"24px\">\n",
              "    <g>\n",
              "        <path d=\"M19 3H5c-1.1 0-2 .9-2 2v14c0 1.1.9 2 2 2h14c1.1 0 2-.9 2-2V5c0-1.1-.9-2-2-2zM9 17H7v-7h2v7zm4 0h-2V7h2v10zm4 0h-2v-4h2v4z\"/>\n",
              "    </g>\n",
              "</svg>\n",
              "  </button>\n",
              "\n",
              "<style>\n",
              "  .colab-df-quickchart {\n",
              "      --bg-color: #E8F0FE;\n",
              "      --fill-color: #1967D2;\n",
              "      --hover-bg-color: #E2EBFA;\n",
              "      --hover-fill-color: #174EA6;\n",
              "      --disabled-fill-color: #AAA;\n",
              "      --disabled-bg-color: #DDD;\n",
              "  }\n",
              "\n",
              "  [theme=dark] .colab-df-quickchart {\n",
              "      --bg-color: #3B4455;\n",
              "      --fill-color: #D2E3FC;\n",
              "      --hover-bg-color: #434B5C;\n",
              "      --hover-fill-color: #FFFFFF;\n",
              "      --disabled-bg-color: #3B4455;\n",
              "      --disabled-fill-color: #666;\n",
              "  }\n",
              "\n",
              "  .colab-df-quickchart {\n",
              "    background-color: var(--bg-color);\n",
              "    border: none;\n",
              "    border-radius: 50%;\n",
              "    cursor: pointer;\n",
              "    display: none;\n",
              "    fill: var(--fill-color);\n",
              "    height: 32px;\n",
              "    padding: 0;\n",
              "    width: 32px;\n",
              "  }\n",
              "\n",
              "  .colab-df-quickchart:hover {\n",
              "    background-color: var(--hover-bg-color);\n",
              "    box-shadow: 0 1px 2px rgba(60, 64, 67, 0.3), 0 1px 3px 1px rgba(60, 64, 67, 0.15);\n",
              "    fill: var(--button-hover-fill-color);\n",
              "  }\n",
              "\n",
              "  .colab-df-quickchart-complete:disabled,\n",
              "  .colab-df-quickchart-complete:disabled:hover {\n",
              "    background-color: var(--disabled-bg-color);\n",
              "    fill: var(--disabled-fill-color);\n",
              "    box-shadow: none;\n",
              "  }\n",
              "\n",
              "  .colab-df-spinner {\n",
              "    border: 2px solid var(--fill-color);\n",
              "    border-color: transparent;\n",
              "    border-bottom-color: var(--fill-color);\n",
              "    animation:\n",
              "      spin 1s steps(1) infinite;\n",
              "  }\n",
              "\n",
              "  @keyframes spin {\n",
              "    0% {\n",
              "      border-color: transparent;\n",
              "      border-bottom-color: var(--fill-color);\n",
              "      border-left-color: var(--fill-color);\n",
              "    }\n",
              "    20% {\n",
              "      border-color: transparent;\n",
              "      border-left-color: var(--fill-color);\n",
              "      border-top-color: var(--fill-color);\n",
              "    }\n",
              "    30% {\n",
              "      border-color: transparent;\n",
              "      border-left-color: var(--fill-color);\n",
              "      border-top-color: var(--fill-color);\n",
              "      border-right-color: var(--fill-color);\n",
              "    }\n",
              "    40% {\n",
              "      border-color: transparent;\n",
              "      border-right-color: var(--fill-color);\n",
              "      border-top-color: var(--fill-color);\n",
              "    }\n",
              "    60% {\n",
              "      border-color: transparent;\n",
              "      border-right-color: var(--fill-color);\n",
              "    }\n",
              "    80% {\n",
              "      border-color: transparent;\n",
              "      border-right-color: var(--fill-color);\n",
              "      border-bottom-color: var(--fill-color);\n",
              "    }\n",
              "    90% {\n",
              "      border-color: transparent;\n",
              "      border-bottom-color: var(--fill-color);\n",
              "    }\n",
              "  }\n",
              "</style>\n",
              "\n",
              "  <script>\n",
              "    async function quickchart(key) {\n",
              "      const quickchartButtonEl =\n",
              "        document.querySelector('#' + key + ' button');\n",
              "      quickchartButtonEl.disabled = true;  // To prevent multiple clicks.\n",
              "      quickchartButtonEl.classList.add('colab-df-spinner');\n",
              "      try {\n",
              "        const charts = await google.colab.kernel.invokeFunction(\n",
              "            'suggestCharts', [key], {});\n",
              "      } catch (error) {\n",
              "        console.error('Error during call to suggestCharts:', error);\n",
              "      }\n",
              "      quickchartButtonEl.classList.remove('colab-df-spinner');\n",
              "      quickchartButtonEl.classList.add('colab-df-quickchart-complete');\n",
              "    }\n",
              "    (() => {\n",
              "      let quickchartButtonEl =\n",
              "        document.querySelector('#df-fe198c86-7535-48a6-9f97-b09c52949b45 button');\n",
              "      quickchartButtonEl.style.display =\n",
              "        google.colab.kernel.accessAllowed ? 'block' : 'none';\n",
              "    })();\n",
              "  </script>\n",
              "</div>\n",
              "\n",
              "    </div>\n",
              "  </div>\n"
            ],
            "application/vnd.google.colaboratory.intrinsic+json": {
              "type": "dataframe",
              "summary": "{\n  \"name\": \"df\",\n  \"rows\": 2,\n  \"fields\": [\n    {\n      \"column\": \"2018/12\",\n      \"properties\": {\n        \"dtype\": \"number\",\n        \"std\": 3.7618080759124326,\n        \"min\": 1.1,\n        \"max\": 6.42,\n        \"num_unique_values\": 2,\n        \"samples\": [\n          1.1,\n          6.42\n        ],\n        \"semantic_type\": \"\",\n        \"description\": \"\"\n      }\n    },\n    {\n      \"column\": \"2019/12\",\n      \"properties\": {\n        \"dtype\": \"number\",\n        \"std\": 11.412703448350877,\n        \"min\": 1.49,\n        \"max\": 17.63,\n        \"num_unique_values\": 2,\n        \"samples\": [\n          1.49,\n          17.63\n        ],\n        \"semantic_type\": \"\",\n        \"description\": \"\"\n      }\n    },\n    {\n      \"column\": \"2020/12\",\n      \"properties\": {\n        \"dtype\": \"number\",\n        \"std\": 13.45624204598,\n        \"min\": 2.06,\n        \"max\": 21.09,\n        \"num_unique_values\": 2,\n        \"samples\": [\n          2.06,\n          21.09\n        ],\n        \"semantic_type\": \"\",\n        \"description\": \"\"\n      }\n    },\n    {\n      \"column\": \"2021/12(E)\",\n      \"properties\": {\n        \"dtype\": \"number\",\n        \"std\": 8.520636713297897,\n        \"min\": 1.88,\n        \"max\": 13.93,\n        \"num_unique_values\": 2,\n        \"samples\": [\n          1.88,\n          13.93\n        ],\n        \"semantic_type\": \"\",\n        \"description\": \"\"\n      }\n    }\n  ]\n}"
            }
          },
          "metadata": {},
          "execution_count": 17
        }
      ],
      "source": [
        "df.filter(regex='R$', axis=0)"
      ]
    },
    {
      "cell_type": "markdown",
      "source": [
        "> **\\d**: 숫자를 의미\n",
        "\n",
        "> 중괄호{}: 출현 횟수 지정 가능"
      ],
      "metadata": {
        "id": "C_jVW8k84cqN"
      },
      "id": "C_jVW8k84cqN"
    },
    {
      "cell_type": "code",
      "execution_count": null,
      "id": "4fea051d-e276-43e5-8f5b-b706b215bf1a",
      "metadata": {
        "id": "4fea051d-e276-43e5-8f5b-b706b215bf1a",
        "outputId": "823f95ef-fc77-4f5e-8077-ff5672b9f1c6",
        "colab": {
          "base_uri": "https://localhost:8080/",
          "height": 143
        }
      },
      "outputs": [
        {
          "output_type": "execute_result",
          "data": {
            "text/plain": [
              "     2018/12  2019/12  2020/12  2021/12(E)\n",
              "DPS  1416.00  1416.00  2994.00     1755.00\n",
              "PER     6.42    17.63    21.09       13.93\n",
              "PBR     1.10     1.49     2.06        1.88"
            ],
            "text/html": [
              "\n",
              "  <div id=\"df-77f0cc71-75bf-4ffd-907e-7724930bda2b\" class=\"colab-df-container\">\n",
              "    <div>\n",
              "<style scoped>\n",
              "    .dataframe tbody tr th:only-of-type {\n",
              "        vertical-align: middle;\n",
              "    }\n",
              "\n",
              "    .dataframe tbody tr th {\n",
              "        vertical-align: top;\n",
              "    }\n",
              "\n",
              "    .dataframe thead th {\n",
              "        text-align: right;\n",
              "    }\n",
              "</style>\n",
              "<table border=\"1\" class=\"dataframe\">\n",
              "  <thead>\n",
              "    <tr style=\"text-align: right;\">\n",
              "      <th></th>\n",
              "      <th>2018/12</th>\n",
              "      <th>2019/12</th>\n",
              "      <th>2020/12</th>\n",
              "      <th>2021/12(E)</th>\n",
              "    </tr>\n",
              "  </thead>\n",
              "  <tbody>\n",
              "    <tr>\n",
              "      <th>DPS</th>\n",
              "      <td>1416.00</td>\n",
              "      <td>1416.00</td>\n",
              "      <td>2994.00</td>\n",
              "      <td>1755.00</td>\n",
              "    </tr>\n",
              "    <tr>\n",
              "      <th>PER</th>\n",
              "      <td>6.42</td>\n",
              "      <td>17.63</td>\n",
              "      <td>21.09</td>\n",
              "      <td>13.93</td>\n",
              "    </tr>\n",
              "    <tr>\n",
              "      <th>PBR</th>\n",
              "      <td>1.10</td>\n",
              "      <td>1.49</td>\n",
              "      <td>2.06</td>\n",
              "      <td>1.88</td>\n",
              "    </tr>\n",
              "  </tbody>\n",
              "</table>\n",
              "</div>\n",
              "    <div class=\"colab-df-buttons\">\n",
              "\n",
              "  <div class=\"colab-df-container\">\n",
              "    <button class=\"colab-df-convert\" onclick=\"convertToInteractive('df-77f0cc71-75bf-4ffd-907e-7724930bda2b')\"\n",
              "            title=\"Convert this dataframe to an interactive table.\"\n",
              "            style=\"display:none;\">\n",
              "\n",
              "  <svg xmlns=\"http://www.w3.org/2000/svg\" height=\"24px\" viewBox=\"0 -960 960 960\">\n",
              "    <path d=\"M120-120v-720h720v720H120Zm60-500h600v-160H180v160Zm220 220h160v-160H400v160Zm0 220h160v-160H400v160ZM180-400h160v-160H180v160Zm440 0h160v-160H620v160ZM180-180h160v-160H180v160Zm440 0h160v-160H620v160Z\"/>\n",
              "  </svg>\n",
              "    </button>\n",
              "\n",
              "  <style>\n",
              "    .colab-df-container {\n",
              "      display:flex;\n",
              "      gap: 12px;\n",
              "    }\n",
              "\n",
              "    .colab-df-convert {\n",
              "      background-color: #E8F0FE;\n",
              "      border: none;\n",
              "      border-radius: 50%;\n",
              "      cursor: pointer;\n",
              "      display: none;\n",
              "      fill: #1967D2;\n",
              "      height: 32px;\n",
              "      padding: 0 0 0 0;\n",
              "      width: 32px;\n",
              "    }\n",
              "\n",
              "    .colab-df-convert:hover {\n",
              "      background-color: #E2EBFA;\n",
              "      box-shadow: 0px 1px 2px rgba(60, 64, 67, 0.3), 0px 1px 3px 1px rgba(60, 64, 67, 0.15);\n",
              "      fill: #174EA6;\n",
              "    }\n",
              "\n",
              "    .colab-df-buttons div {\n",
              "      margin-bottom: 4px;\n",
              "    }\n",
              "\n",
              "    [theme=dark] .colab-df-convert {\n",
              "      background-color: #3B4455;\n",
              "      fill: #D2E3FC;\n",
              "    }\n",
              "\n",
              "    [theme=dark] .colab-df-convert:hover {\n",
              "      background-color: #434B5C;\n",
              "      box-shadow: 0px 1px 3px 1px rgba(0, 0, 0, 0.15);\n",
              "      filter: drop-shadow(0px 1px 2px rgba(0, 0, 0, 0.3));\n",
              "      fill: #FFFFFF;\n",
              "    }\n",
              "  </style>\n",
              "\n",
              "    <script>\n",
              "      const buttonEl =\n",
              "        document.querySelector('#df-77f0cc71-75bf-4ffd-907e-7724930bda2b button.colab-df-convert');\n",
              "      buttonEl.style.display =\n",
              "        google.colab.kernel.accessAllowed ? 'block' : 'none';\n",
              "\n",
              "      async function convertToInteractive(key) {\n",
              "        const element = document.querySelector('#df-77f0cc71-75bf-4ffd-907e-7724930bda2b');\n",
              "        const dataTable =\n",
              "          await google.colab.kernel.invokeFunction('convertToInteractive',\n",
              "                                                    [key], {});\n",
              "        if (!dataTable) return;\n",
              "\n",
              "        const docLinkHtml = 'Like what you see? Visit the ' +\n",
              "          '<a target=\"_blank\" href=https://colab.research.google.com/notebooks/data_table.ipynb>data table notebook</a>'\n",
              "          + ' to learn more about interactive tables.';\n",
              "        element.innerHTML = '';\n",
              "        dataTable['output_type'] = 'display_data';\n",
              "        await google.colab.output.renderOutput(dataTable, element);\n",
              "        const docLink = document.createElement('div');\n",
              "        docLink.innerHTML = docLinkHtml;\n",
              "        element.appendChild(docLink);\n",
              "      }\n",
              "    </script>\n",
              "  </div>\n",
              "\n",
              "\n",
              "<div id=\"df-7b538413-d00e-43b2-bea4-deb1868b2662\">\n",
              "  <button class=\"colab-df-quickchart\" onclick=\"quickchart('df-7b538413-d00e-43b2-bea4-deb1868b2662')\"\n",
              "            title=\"Suggest charts\"\n",
              "            style=\"display:none;\">\n",
              "\n",
              "<svg xmlns=\"http://www.w3.org/2000/svg\" height=\"24px\"viewBox=\"0 0 24 24\"\n",
              "     width=\"24px\">\n",
              "    <g>\n",
              "        <path d=\"M19 3H5c-1.1 0-2 .9-2 2v14c0 1.1.9 2 2 2h14c1.1 0 2-.9 2-2V5c0-1.1-.9-2-2-2zM9 17H7v-7h2v7zm4 0h-2V7h2v10zm4 0h-2v-4h2v4z\"/>\n",
              "    </g>\n",
              "</svg>\n",
              "  </button>\n",
              "\n",
              "<style>\n",
              "  .colab-df-quickchart {\n",
              "      --bg-color: #E8F0FE;\n",
              "      --fill-color: #1967D2;\n",
              "      --hover-bg-color: #E2EBFA;\n",
              "      --hover-fill-color: #174EA6;\n",
              "      --disabled-fill-color: #AAA;\n",
              "      --disabled-bg-color: #DDD;\n",
              "  }\n",
              "\n",
              "  [theme=dark] .colab-df-quickchart {\n",
              "      --bg-color: #3B4455;\n",
              "      --fill-color: #D2E3FC;\n",
              "      --hover-bg-color: #434B5C;\n",
              "      --hover-fill-color: #FFFFFF;\n",
              "      --disabled-bg-color: #3B4455;\n",
              "      --disabled-fill-color: #666;\n",
              "  }\n",
              "\n",
              "  .colab-df-quickchart {\n",
              "    background-color: var(--bg-color);\n",
              "    border: none;\n",
              "    border-radius: 50%;\n",
              "    cursor: pointer;\n",
              "    display: none;\n",
              "    fill: var(--fill-color);\n",
              "    height: 32px;\n",
              "    padding: 0;\n",
              "    width: 32px;\n",
              "  }\n",
              "\n",
              "  .colab-df-quickchart:hover {\n",
              "    background-color: var(--hover-bg-color);\n",
              "    box-shadow: 0 1px 2px rgba(60, 64, 67, 0.3), 0 1px 3px 1px rgba(60, 64, 67, 0.15);\n",
              "    fill: var(--button-hover-fill-color);\n",
              "  }\n",
              "\n",
              "  .colab-df-quickchart-complete:disabled,\n",
              "  .colab-df-quickchart-complete:disabled:hover {\n",
              "    background-color: var(--disabled-bg-color);\n",
              "    fill: var(--disabled-fill-color);\n",
              "    box-shadow: none;\n",
              "  }\n",
              "\n",
              "  .colab-df-spinner {\n",
              "    border: 2px solid var(--fill-color);\n",
              "    border-color: transparent;\n",
              "    border-bottom-color: var(--fill-color);\n",
              "    animation:\n",
              "      spin 1s steps(1) infinite;\n",
              "  }\n",
              "\n",
              "  @keyframes spin {\n",
              "    0% {\n",
              "      border-color: transparent;\n",
              "      border-bottom-color: var(--fill-color);\n",
              "      border-left-color: var(--fill-color);\n",
              "    }\n",
              "    20% {\n",
              "      border-color: transparent;\n",
              "      border-left-color: var(--fill-color);\n",
              "      border-top-color: var(--fill-color);\n",
              "    }\n",
              "    30% {\n",
              "      border-color: transparent;\n",
              "      border-left-color: var(--fill-color);\n",
              "      border-top-color: var(--fill-color);\n",
              "      border-right-color: var(--fill-color);\n",
              "    }\n",
              "    40% {\n",
              "      border-color: transparent;\n",
              "      border-right-color: var(--fill-color);\n",
              "      border-top-color: var(--fill-color);\n",
              "    }\n",
              "    60% {\n",
              "      border-color: transparent;\n",
              "      border-right-color: var(--fill-color);\n",
              "    }\n",
              "    80% {\n",
              "      border-color: transparent;\n",
              "      border-right-color: var(--fill-color);\n",
              "      border-bottom-color: var(--fill-color);\n",
              "    }\n",
              "    90% {\n",
              "      border-color: transparent;\n",
              "      border-bottom-color: var(--fill-color);\n",
              "    }\n",
              "  }\n",
              "</style>\n",
              "\n",
              "  <script>\n",
              "    async function quickchart(key) {\n",
              "      const quickchartButtonEl =\n",
              "        document.querySelector('#' + key + ' button');\n",
              "      quickchartButtonEl.disabled = true;  // To prevent multiple clicks.\n",
              "      quickchartButtonEl.classList.add('colab-df-spinner');\n",
              "      try {\n",
              "        const charts = await google.colab.kernel.invokeFunction(\n",
              "            'suggestCharts', [key], {});\n",
              "      } catch (error) {\n",
              "        console.error('Error during call to suggestCharts:', error);\n",
              "      }\n",
              "      quickchartButtonEl.classList.remove('colab-df-spinner');\n",
              "      quickchartButtonEl.classList.add('colab-df-quickchart-complete');\n",
              "    }\n",
              "    (() => {\n",
              "      let quickchartButtonEl =\n",
              "        document.querySelector('#df-7b538413-d00e-43b2-bea4-deb1868b2662 button');\n",
              "      quickchartButtonEl.style.display =\n",
              "        google.colab.kernel.accessAllowed ? 'block' : 'none';\n",
              "    })();\n",
              "  </script>\n",
              "</div>\n",
              "\n",
              "    </div>\n",
              "  </div>\n"
            ],
            "application/vnd.google.colaboratory.intrinsic+json": {
              "type": "dataframe",
              "summary": "{\n  \"name\": \"df\",\n  \"rows\": 3,\n  \"fields\": [\n    {\n      \"column\": \"2018/12\",\n      \"properties\": {\n        \"dtype\": \"number\",\n        \"std\": 815.3614831063172,\n        \"min\": 1.1,\n        \"max\": 1416.0,\n        \"num_unique_values\": 3,\n        \"samples\": [\n          1416.0,\n          6.42,\n          1.1\n        ],\n        \"semantic_type\": \"\",\n        \"description\": \"\"\n      }\n    },\n    {\n      \"column\": \"2019/12\",\n      \"properties\": {\n        \"dtype\": \"number\",\n        \"std\": 812.0486127279162,\n        \"min\": 1.49,\n        \"max\": 1416.0,\n        \"num_unique_values\": 3,\n        \"samples\": [\n          1416.0,\n          17.63,\n          1.49\n        ],\n        \"semantic_type\": \"\",\n        \"description\": \"\"\n      }\n    },\n    {\n      \"column\": \"2020/12\",\n      \"properties\": {\n        \"dtype\": \"number\",\n        \"std\": 1721.9301656668117,\n        \"min\": 2.06,\n        \"max\": 2994.0,\n        \"num_unique_values\": 3,\n        \"samples\": [\n          2994.0,\n          21.09,\n          2.06\n        ],\n        \"semantic_type\": \"\",\n        \"description\": \"\"\n      }\n    },\n    {\n      \"column\": \"2021/12(E)\",\n      \"properties\": {\n        \"dtype\": \"number\",\n        \"std\": 1008.7037624099556,\n        \"min\": 1.88,\n        \"max\": 1755.0,\n        \"num_unique_values\": 3,\n        \"samples\": [\n          1755.0,\n          13.93,\n          1.88\n        ],\n        \"semantic_type\": \"\",\n        \"description\": \"\"\n      }\n    }\n  ]\n}"
            }
          },
          "metadata": {},
          "execution_count": 18
        }
      ],
      "source": [
        "df.filter(regex='\\d{4}') #숫자 4개가 연속해서 발생하는 문자열만 탐색"
      ]
    },
    {
      "cell_type": "markdown",
      "source": [
        "> E가 붙은 추정치를 제외하고 확정된 지표만 선택"
      ],
      "metadata": {
        "id": "3Y4KMtpp5pLJ"
      },
      "id": "3Y4KMtpp5pLJ"
    },
    {
      "cell_type": "code",
      "execution_count": null,
      "id": "52de0353-a660-4a5b-b565-eae343f1ca74",
      "metadata": {
        "id": "52de0353-a660-4a5b-b565-eae343f1ca74",
        "outputId": "eeb6a54f-d7a0-4552-9327-37f7092630e6"
      },
      "outputs": [
        {
          "data": {
            "text/html": [
              "<div>\n",
              "<style scoped>\n",
              "    .dataframe tbody tr th:only-of-type {\n",
              "        vertical-align: middle;\n",
              "    }\n",
              "\n",
              "    .dataframe tbody tr th {\n",
              "        vertical-align: top;\n",
              "    }\n",
              "\n",
              "    .dataframe thead th {\n",
              "        text-align: right;\n",
              "    }\n",
              "</style>\n",
              "<table border=\"1\" class=\"dataframe\">\n",
              "  <thead>\n",
              "    <tr style=\"text-align: right;\">\n",
              "      <th></th>\n",
              "      <th>2018/12</th>\n",
              "      <th>2019/12</th>\n",
              "      <th>2020/12</th>\n",
              "    </tr>\n",
              "  </thead>\n",
              "  <tbody>\n",
              "    <tr>\n",
              "      <th>DPS</th>\n",
              "      <td>1416.00</td>\n",
              "      <td>1416.00</td>\n",
              "      <td>2994.00</td>\n",
              "    </tr>\n",
              "    <tr>\n",
              "      <th>PER</th>\n",
              "      <td>6.42</td>\n",
              "      <td>17.63</td>\n",
              "      <td>21.09</td>\n",
              "    </tr>\n",
              "    <tr>\n",
              "      <th>PBR</th>\n",
              "      <td>1.10</td>\n",
              "      <td>1.49</td>\n",
              "      <td>2.06</td>\n",
              "    </tr>\n",
              "  </tbody>\n",
              "</table>\n",
              "</div>"
            ],
            "text/plain": [
              "     2018/12  2019/12  2020/12\n",
              "DPS  1416.00  1416.00  2994.00\n",
              "PER     6.42    17.63    21.09\n",
              "PBR     1.10     1.49     2.06"
            ]
          },
          "execution_count": 27,
          "metadata": {},
          "output_type": "execute_result"
        }
      ],
      "source": [
        "df.filter(regex='\\d{4}/\\d{2}$')"
      ]
    },
    {
      "cell_type": "markdown",
      "id": "fdd6e22c-e86c-4a48-8791-ebb7089418e3",
      "metadata": {
        "id": "fdd6e22c-e86c-4a48-8791-ebb7089418e3"
      },
      "source": [
        "### 5.3 정렬 및 순위\n",
        "\n",
        "> 기본적으로 시리즈 객체와 동일한 방식"
      ]
    },
    {
      "cell_type": "code",
      "execution_count": null,
      "id": "d27f53e3-a717-4c4c-a249-ca8b6712ebc1",
      "metadata": {
        "id": "d27f53e3-a717-4c4c-a249-ca8b6712ebc1",
        "outputId": "92de3160-32e0-42fe-f24b-757c36b19642",
        "colab": {
          "base_uri": "https://localhost:8080/",
          "height": 174
        }
      },
      "outputs": [
        {
          "output_type": "execute_result",
          "data": {
            "text/plain": [
              "          종목명   현재가\n",
              "종목코드               \n",
              "037730     3R  1510\n",
              "036360  3SOFT  1790\n",
              "005670   ACTS  1185"
            ],
            "text/html": [
              "\n",
              "  <div id=\"df-aa4097b1-7844-4f21-a5d8-ba5fa8ffddd8\" class=\"colab-df-container\">\n",
              "    <div>\n",
              "<style scoped>\n",
              "    .dataframe tbody tr th:only-of-type {\n",
              "        vertical-align: middle;\n",
              "    }\n",
              "\n",
              "    .dataframe tbody tr th {\n",
              "        vertical-align: top;\n",
              "    }\n",
              "\n",
              "    .dataframe thead th {\n",
              "        text-align: right;\n",
              "    }\n",
              "</style>\n",
              "<table border=\"1\" class=\"dataframe\">\n",
              "  <thead>\n",
              "    <tr style=\"text-align: right;\">\n",
              "      <th></th>\n",
              "      <th>종목명</th>\n",
              "      <th>현재가</th>\n",
              "    </tr>\n",
              "    <tr>\n",
              "      <th>종목코드</th>\n",
              "      <th></th>\n",
              "      <th></th>\n",
              "    </tr>\n",
              "  </thead>\n",
              "  <tbody>\n",
              "    <tr>\n",
              "      <th>037730</th>\n",
              "      <td>3R</td>\n",
              "      <td>1510</td>\n",
              "    </tr>\n",
              "    <tr>\n",
              "      <th>036360</th>\n",
              "      <td>3SOFT</td>\n",
              "      <td>1790</td>\n",
              "    </tr>\n",
              "    <tr>\n",
              "      <th>005670</th>\n",
              "      <td>ACTS</td>\n",
              "      <td>1185</td>\n",
              "    </tr>\n",
              "  </tbody>\n",
              "</table>\n",
              "</div>\n",
              "    <div class=\"colab-df-buttons\">\n",
              "\n",
              "  <div class=\"colab-df-container\">\n",
              "    <button class=\"colab-df-convert\" onclick=\"convertToInteractive('df-aa4097b1-7844-4f21-a5d8-ba5fa8ffddd8')\"\n",
              "            title=\"Convert this dataframe to an interactive table.\"\n",
              "            style=\"display:none;\">\n",
              "\n",
              "  <svg xmlns=\"http://www.w3.org/2000/svg\" height=\"24px\" viewBox=\"0 -960 960 960\">\n",
              "    <path d=\"M120-120v-720h720v720H120Zm60-500h600v-160H180v160Zm220 220h160v-160H400v160Zm0 220h160v-160H400v160ZM180-400h160v-160H180v160Zm440 0h160v-160H620v160ZM180-180h160v-160H180v160Zm440 0h160v-160H620v160Z\"/>\n",
              "  </svg>\n",
              "    </button>\n",
              "\n",
              "  <style>\n",
              "    .colab-df-container {\n",
              "      display:flex;\n",
              "      gap: 12px;\n",
              "    }\n",
              "\n",
              "    .colab-df-convert {\n",
              "      background-color: #E8F0FE;\n",
              "      border: none;\n",
              "      border-radius: 50%;\n",
              "      cursor: pointer;\n",
              "      display: none;\n",
              "      fill: #1967D2;\n",
              "      height: 32px;\n",
              "      padding: 0 0 0 0;\n",
              "      width: 32px;\n",
              "    }\n",
              "\n",
              "    .colab-df-convert:hover {\n",
              "      background-color: #E2EBFA;\n",
              "      box-shadow: 0px 1px 2px rgba(60, 64, 67, 0.3), 0px 1px 3px 1px rgba(60, 64, 67, 0.15);\n",
              "      fill: #174EA6;\n",
              "    }\n",
              "\n",
              "    .colab-df-buttons div {\n",
              "      margin-bottom: 4px;\n",
              "    }\n",
              "\n",
              "    [theme=dark] .colab-df-convert {\n",
              "      background-color: #3B4455;\n",
              "      fill: #D2E3FC;\n",
              "    }\n",
              "\n",
              "    [theme=dark] .colab-df-convert:hover {\n",
              "      background-color: #434B5C;\n",
              "      box-shadow: 0px 1px 3px 1px rgba(0, 0, 0, 0.15);\n",
              "      filter: drop-shadow(0px 1px 2px rgba(0, 0, 0, 0.3));\n",
              "      fill: #FFFFFF;\n",
              "    }\n",
              "  </style>\n",
              "\n",
              "    <script>\n",
              "      const buttonEl =\n",
              "        document.querySelector('#df-aa4097b1-7844-4f21-a5d8-ba5fa8ffddd8 button.colab-df-convert');\n",
              "      buttonEl.style.display =\n",
              "        google.colab.kernel.accessAllowed ? 'block' : 'none';\n",
              "\n",
              "      async function convertToInteractive(key) {\n",
              "        const element = document.querySelector('#df-aa4097b1-7844-4f21-a5d8-ba5fa8ffddd8');\n",
              "        const dataTable =\n",
              "          await google.colab.kernel.invokeFunction('convertToInteractive',\n",
              "                                                    [key], {});\n",
              "        if (!dataTable) return;\n",
              "\n",
              "        const docLinkHtml = 'Like what you see? Visit the ' +\n",
              "          '<a target=\"_blank\" href=https://colab.research.google.com/notebooks/data_table.ipynb>data table notebook</a>'\n",
              "          + ' to learn more about interactive tables.';\n",
              "        element.innerHTML = '';\n",
              "        dataTable['output_type'] = 'display_data';\n",
              "        await google.colab.output.renderOutput(dataTable, element);\n",
              "        const docLink = document.createElement('div');\n",
              "        docLink.innerHTML = docLinkHtml;\n",
              "        element.appendChild(docLink);\n",
              "      }\n",
              "    </script>\n",
              "  </div>\n",
              "\n",
              "\n",
              "<div id=\"df-310bf44a-dc2b-4277-bd15-3272341a7d8d\">\n",
              "  <button class=\"colab-df-quickchart\" onclick=\"quickchart('df-310bf44a-dc2b-4277-bd15-3272341a7d8d')\"\n",
              "            title=\"Suggest charts\"\n",
              "            style=\"display:none;\">\n",
              "\n",
              "<svg xmlns=\"http://www.w3.org/2000/svg\" height=\"24px\"viewBox=\"0 0 24 24\"\n",
              "     width=\"24px\">\n",
              "    <g>\n",
              "        <path d=\"M19 3H5c-1.1 0-2 .9-2 2v14c0 1.1.9 2 2 2h14c1.1 0 2-.9 2-2V5c0-1.1-.9-2-2-2zM9 17H7v-7h2v7zm4 0h-2V7h2v10zm4 0h-2v-4h2v4z\"/>\n",
              "    </g>\n",
              "</svg>\n",
              "  </button>\n",
              "\n",
              "<style>\n",
              "  .colab-df-quickchart {\n",
              "      --bg-color: #E8F0FE;\n",
              "      --fill-color: #1967D2;\n",
              "      --hover-bg-color: #E2EBFA;\n",
              "      --hover-fill-color: #174EA6;\n",
              "      --disabled-fill-color: #AAA;\n",
              "      --disabled-bg-color: #DDD;\n",
              "  }\n",
              "\n",
              "  [theme=dark] .colab-df-quickchart {\n",
              "      --bg-color: #3B4455;\n",
              "      --fill-color: #D2E3FC;\n",
              "      --hover-bg-color: #434B5C;\n",
              "      --hover-fill-color: #FFFFFF;\n",
              "      --disabled-bg-color: #3B4455;\n",
              "      --disabled-fill-color: #666;\n",
              "  }\n",
              "\n",
              "  .colab-df-quickchart {\n",
              "    background-color: var(--bg-color);\n",
              "    border: none;\n",
              "    border-radius: 50%;\n",
              "    cursor: pointer;\n",
              "    display: none;\n",
              "    fill: var(--fill-color);\n",
              "    height: 32px;\n",
              "    padding: 0;\n",
              "    width: 32px;\n",
              "  }\n",
              "\n",
              "  .colab-df-quickchart:hover {\n",
              "    background-color: var(--hover-bg-color);\n",
              "    box-shadow: 0 1px 2px rgba(60, 64, 67, 0.3), 0 1px 3px 1px rgba(60, 64, 67, 0.15);\n",
              "    fill: var(--button-hover-fill-color);\n",
              "  }\n",
              "\n",
              "  .colab-df-quickchart-complete:disabled,\n",
              "  .colab-df-quickchart-complete:disabled:hover {\n",
              "    background-color: var(--disabled-bg-color);\n",
              "    fill: var(--disabled-fill-color);\n",
              "    box-shadow: none;\n",
              "  }\n",
              "\n",
              "  .colab-df-spinner {\n",
              "    border: 2px solid var(--fill-color);\n",
              "    border-color: transparent;\n",
              "    border-bottom-color: var(--fill-color);\n",
              "    animation:\n",
              "      spin 1s steps(1) infinite;\n",
              "  }\n",
              "\n",
              "  @keyframes spin {\n",
              "    0% {\n",
              "      border-color: transparent;\n",
              "      border-bottom-color: var(--fill-color);\n",
              "      border-left-color: var(--fill-color);\n",
              "    }\n",
              "    20% {\n",
              "      border-color: transparent;\n",
              "      border-left-color: var(--fill-color);\n",
              "      border-top-color: var(--fill-color);\n",
              "    }\n",
              "    30% {\n",
              "      border-color: transparent;\n",
              "      border-left-color: var(--fill-color);\n",
              "      border-top-color: var(--fill-color);\n",
              "      border-right-color: var(--fill-color);\n",
              "    }\n",
              "    40% {\n",
              "      border-color: transparent;\n",
              "      border-right-color: var(--fill-color);\n",
              "      border-top-color: var(--fill-color);\n",
              "    }\n",
              "    60% {\n",
              "      border-color: transparent;\n",
              "      border-right-color: var(--fill-color);\n",
              "    }\n",
              "    80% {\n",
              "      border-color: transparent;\n",
              "      border-right-color: var(--fill-color);\n",
              "      border-bottom-color: var(--fill-color);\n",
              "    }\n",
              "    90% {\n",
              "      border-color: transparent;\n",
              "      border-bottom-color: var(--fill-color);\n",
              "    }\n",
              "  }\n",
              "</style>\n",
              "\n",
              "  <script>\n",
              "    async function quickchart(key) {\n",
              "      const quickchartButtonEl =\n",
              "        document.querySelector('#' + key + ' button');\n",
              "      quickchartButtonEl.disabled = true;  // To prevent multiple clicks.\n",
              "      quickchartButtonEl.classList.add('colab-df-spinner');\n",
              "      try {\n",
              "        const charts = await google.colab.kernel.invokeFunction(\n",
              "            'suggestCharts', [key], {});\n",
              "      } catch (error) {\n",
              "        console.error('Error during call to suggestCharts:', error);\n",
              "      }\n",
              "      quickchartButtonEl.classList.remove('colab-df-spinner');\n",
              "      quickchartButtonEl.classList.add('colab-df-quickchart-complete');\n",
              "    }\n",
              "    (() => {\n",
              "      let quickchartButtonEl =\n",
              "        document.querySelector('#df-310bf44a-dc2b-4277-bd15-3272341a7d8d button');\n",
              "      quickchartButtonEl.style.display =\n",
              "        google.colab.kernel.accessAllowed ? 'block' : 'none';\n",
              "    })();\n",
              "  </script>\n",
              "</div>\n",
              "\n",
              "  <div id=\"id_8697f20a-a806-45f1-aca9-443c59e2e97f\">\n",
              "    <style>\n",
              "      .colab-df-generate {\n",
              "        background-color: #E8F0FE;\n",
              "        border: none;\n",
              "        border-radius: 50%;\n",
              "        cursor: pointer;\n",
              "        display: none;\n",
              "        fill: #1967D2;\n",
              "        height: 32px;\n",
              "        padding: 0 0 0 0;\n",
              "        width: 32px;\n",
              "      }\n",
              "\n",
              "      .colab-df-generate:hover {\n",
              "        background-color: #E2EBFA;\n",
              "        box-shadow: 0px 1px 2px rgba(60, 64, 67, 0.3), 0px 1px 3px 1px rgba(60, 64, 67, 0.15);\n",
              "        fill: #174EA6;\n",
              "      }\n",
              "\n",
              "      [theme=dark] .colab-df-generate {\n",
              "        background-color: #3B4455;\n",
              "        fill: #D2E3FC;\n",
              "      }\n",
              "\n",
              "      [theme=dark] .colab-df-generate:hover {\n",
              "        background-color: #434B5C;\n",
              "        box-shadow: 0px 1px 3px 1px rgba(0, 0, 0, 0.15);\n",
              "        filter: drop-shadow(0px 1px 2px rgba(0, 0, 0, 0.3));\n",
              "        fill: #FFFFFF;\n",
              "      }\n",
              "    </style>\n",
              "    <button class=\"colab-df-generate\" onclick=\"generateWithVariable('df')\"\n",
              "            title=\"Generate code using this dataframe.\"\n",
              "            style=\"display:none;\">\n",
              "\n",
              "  <svg xmlns=\"http://www.w3.org/2000/svg\" height=\"24px\"viewBox=\"0 0 24 24\"\n",
              "       width=\"24px\">\n",
              "    <path d=\"M7,19H8.4L18.45,9,17,7.55,7,17.6ZM5,21V16.75L18.45,3.32a2,2,0,0,1,2.83,0l1.4,1.43a1.91,1.91,0,0,1,.58,1.4,1.91,1.91,0,0,1-.58,1.4L9.25,21ZM18.45,9,17,7.55Zm-12,3A5.31,5.31,0,0,0,4.9,8.1,5.31,5.31,0,0,0,1,6.5,5.31,5.31,0,0,0,4.9,4.9,5.31,5.31,0,0,0,6.5,1,5.31,5.31,0,0,0,8.1,4.9,5.31,5.31,0,0,0,12,6.5,5.46,5.46,0,0,0,6.5,12Z\"/>\n",
              "  </svg>\n",
              "    </button>\n",
              "    <script>\n",
              "      (() => {\n",
              "      const buttonEl =\n",
              "        document.querySelector('#id_8697f20a-a806-45f1-aca9-443c59e2e97f button.colab-df-generate');\n",
              "      buttonEl.style.display =\n",
              "        google.colab.kernel.accessAllowed ? 'block' : 'none';\n",
              "\n",
              "      buttonEl.onclick = () => {\n",
              "        google.colab.notebook.generateWithVariable('df');\n",
              "      }\n",
              "      })();\n",
              "    </script>\n",
              "  </div>\n",
              "\n",
              "    </div>\n",
              "  </div>\n"
            ],
            "application/vnd.google.colaboratory.intrinsic+json": {
              "type": "dataframe",
              "variable_name": "df",
              "summary": "{\n  \"name\": \"df\",\n  \"rows\": 3,\n  \"fields\": [\n    {\n      \"column\": \"\\uc885\\ubaa9\\ucf54\\ub4dc\",\n      \"properties\": {\n        \"dtype\": \"string\",\n        \"num_unique_values\": 3,\n        \"samples\": [\n          \"037730\",\n          \"036360\",\n          \"005670\"\n        ],\n        \"semantic_type\": \"\",\n        \"description\": \"\"\n      }\n    },\n    {\n      \"column\": \"\\uc885\\ubaa9\\uba85\",\n      \"properties\": {\n        \"dtype\": \"string\",\n        \"num_unique_values\": 3,\n        \"samples\": [\n          \"3R\",\n          \"3SOFT\",\n          \"ACTS\"\n        ],\n        \"semantic_type\": \"\",\n        \"description\": \"\"\n      }\n    },\n    {\n      \"column\": \"\\ud604\\uc7ac\\uac00\",\n      \"properties\": {\n        \"dtype\": \"number\",\n        \"std\": 302,\n        \"min\": 1185,\n        \"max\": 1790,\n        \"num_unique_values\": 3,\n        \"samples\": [\n          1510,\n          1790,\n          1185\n        ],\n        \"semantic_type\": \"\",\n        \"description\": \"\"\n      }\n    }\n  ]\n}"
            }
          },
          "metadata": {},
          "execution_count": 19
        }
      ],
      "source": [
        "from pandas import DataFrame\n",
        "\n",
        "data = [\n",
        "    ['037730', '3R', 1510],\n",
        "    ['036360', '3SOFT', 1790],\n",
        "    ['005670', 'ACTS', 1185]\n",
        "]\n",
        "\n",
        "columns = ['종목코드', '종목명', '현재가']\n",
        "df = DataFrame(data=data, columns=columns)\n",
        "df.set_index('종목코드', inplace=True)\n",
        "df"
      ]
    },
    {
      "cell_type": "markdown",
      "source": [
        "####**정렬**\n",
        "\n",
        "> 데이터프레임의 객체는 여러 개의 컬럼으로 구성되어 시리즈와 달리 정렬 기준을 정해야 함\n",
        "\n",
        "> **df.sort_values('기준값')**"
      ],
      "metadata": {
        "id": "hLlY8BR66etQ"
      },
      "id": "hLlY8BR66etQ"
    },
    {
      "cell_type": "code",
      "execution_count": null,
      "id": "57cc4f3d",
      "metadata": {
        "id": "57cc4f3d",
        "outputId": "d0016a48-884a-4511-e3b2-16400f34ab40",
        "colab": {
          "base_uri": "https://localhost:8080/"
        }
      },
      "outputs": [
        {
          "output_type": "stream",
          "name": "stdout",
          "text": [
            "          종목명   현재가\n",
            "종목코드               \n",
            "005670   ACTS  1185\n",
            "037730     3R  1510\n",
            "036360  3SOFT  1790\n"
          ]
        }
      ],
      "source": [
        "df2 = df.sort_values('현재가')\n",
        "print(df2)"
      ]
    },
    {
      "cell_type": "markdown",
      "source": [
        "> **by**로 파라미터의 이름도 지정 가능\n",
        "\n",
        "> 메서드의 인자가 많을 경우 명시적으로 파라미터 적기 추천"
      ],
      "metadata": {
        "id": "ahpe9UeD75gg"
      },
      "id": "ahpe9UeD75gg"
    },
    {
      "cell_type": "code",
      "execution_count": null,
      "id": "54d08dc8-442a-4941-ba59-0611d06cab23",
      "metadata": {
        "id": "54d08dc8-442a-4941-ba59-0611d06cab23",
        "outputId": "c0c9c6f6-478b-4e06-cda8-6f38c2aaa003",
        "colab": {
          "base_uri": "https://localhost:8080/"
        }
      },
      "outputs": [
        {
          "output_type": "stream",
          "name": "stdout",
          "text": [
            "          종목명   현재가\n",
            "종목코드               \n",
            "005670   ACTS  1185\n",
            "037730     3R  1510\n",
            "036360  3SOFT  1790\n"
          ]
        }
      ],
      "source": [
        "df2 = df.sort_values(by='현재가')\n",
        "print(df2)"
      ]
    },
    {
      "cell_type": "markdown",
      "source": [
        "> 내림차순 정렬: ascending = False"
      ],
      "metadata": {
        "id": "cjsVB1dZ81n2"
      },
      "id": "cjsVB1dZ81n2"
    },
    {
      "cell_type": "code",
      "execution_count": null,
      "id": "78bb6447-8d1b-456b-875b-82f74c61e602",
      "metadata": {
        "id": "78bb6447-8d1b-456b-875b-82f74c61e602",
        "outputId": "c313024c-ad1a-4a18-b01f-ef4d51f350e9",
        "colab": {
          "base_uri": "https://localhost:8080/"
        }
      },
      "outputs": [
        {
          "output_type": "stream",
          "name": "stdout",
          "text": [
            "          종목명   현재가\n",
            "종목코드               \n",
            "036360  3SOFT  1790\n",
            "037730     3R  1510\n",
            "005670   ACTS  1185\n"
          ]
        }
      ],
      "source": [
        "df2 = df.sort_values(by='현재가', ascending=False)\n",
        "print(df2)"
      ]
    },
    {
      "cell_type": "markdown",
      "source": [
        "####**순위**\n",
        "\n",
        ">**rank 메서드**: 순위가 저장된 시리즈 객체를 리턴\n",
        "\n",
        "> 순위를 매긴 후 해당 컬럼을 기존의 데이터프레임에 추가(for 편리한 데이터 관리)\n",
        "\n",
        "> 현재가가 낮은 종목부터 순위 매기기"
      ],
      "metadata": {
        "id": "AThsshkP9PW2"
      },
      "id": "AThsshkP9PW2"
    },
    {
      "cell_type": "code",
      "execution_count": null,
      "id": "aa9f7891-b811-43a0-afbe-eefd5059e9a3",
      "metadata": {
        "id": "aa9f7891-b811-43a0-afbe-eefd5059e9a3",
        "colab": {
          "base_uri": "https://localhost:8080/"
        },
        "outputId": "0332607c-e52b-41d6-844e-c3411b5d1aba"
      },
      "outputs": [
        {
          "output_type": "stream",
          "name": "stdout",
          "text": [
            "          종목명   현재가   순위\n",
            "종목코드                    \n",
            "037730     3R  1510  2.0\n",
            "036360  3SOFT  1790  3.0\n",
            "005670   ACTS  1185  1.0\n"
          ]
        }
      ],
      "source": [
        "df['순위'] = df['현재가'].rank()\n",
        "print(df)"
      ]
    },
    {
      "cell_type": "markdown",
      "source": [
        "> 테이터프레임을 순위별로 정렬"
      ],
      "metadata": {
        "id": "bZesQcgC-Dsc"
      },
      "id": "bZesQcgC-Dsc"
    },
    {
      "cell_type": "code",
      "execution_count": null,
      "id": "ff6599f5-340f-42ca-8928-81f3aa56c4f4",
      "metadata": {
        "id": "ff6599f5-340f-42ca-8928-81f3aa56c4f4",
        "colab": {
          "base_uri": "https://localhost:8080/"
        },
        "outputId": "e3e5ddc3-ca45-4536-824f-68a82115c68f"
      },
      "outputs": [
        {
          "output_type": "stream",
          "name": "stdout",
          "text": [
            "          종목명   현재가   순위\n",
            "종목코드                    \n",
            "005670   ACTS  1185  1.0\n",
            "037730     3R  1510  2.0\n",
            "036360  3SOFT  1790  3.0\n"
          ]
        }
      ],
      "source": [
        "df.sort_values(by='순위', inplace=True) #현재 데이터프레임 객체에 정렬을 바로 적용\n",
        "print(df)"
      ]
    },
    {
      "cell_type": "markdown",
      "id": "87b72023-c8e4-4920-abf1-8840add6a875",
      "metadata": {
        "id": "87b72023-c8e4-4920-abf1-8840add6a875"
      },
      "source": [
        "### 5.4 인덱스 연산\n",
        "\n",
        "> 브로드캐스팅 적용으로 같은 인덱스를 갖는 데이터 사이의 연산이 적용됨\n",
        "\n",
        "> 판다스에서 사용 가능한 인덱스 2개 만들기"
      ]
    },
    {
      "cell_type": "code",
      "execution_count": null,
      "id": "980da8ec-3491-4d4d-8831-0afb3a2a8160",
      "metadata": {
        "id": "980da8ec-3491-4d4d-8831-0afb3a2a8160",
        "outputId": "6c207488-b27b-40fb-95fe-1beb1aabe9a7",
        "colab": {
          "base_uri": "https://localhost:8080/"
        }
      },
      "outputs": [
        {
          "output_type": "stream",
          "name": "stdout",
          "text": [
            "<class 'pandas.core.indexes.base.Index'>\n"
          ]
        }
      ],
      "source": [
        "import pandas as pd\n",
        "\n",
        "idx1 = pd.Index([1, 2, 3])\n",
        "idx2 = pd.Index([2, 3, 4])\n",
        "\n",
        "print(type(idx1))"
      ]
    },
    {
      "cell_type": "markdown",
      "source": [
        "> **union 메서드**: 합집합\n",
        "\n",
        "> 현재 인덱스와 입력된 인덱스를 모두 합쳐 중복된 것을 제거한 결과를 반환"
      ],
      "metadata": {
        "id": "Wd28QYMI_ABQ"
      },
      "id": "Wd28QYMI_ABQ"
    },
    {
      "cell_type": "code",
      "execution_count": null,
      "id": "50f6bebd-4565-4f7f-8a39-ba46e443fc63",
      "metadata": {
        "id": "50f6bebd-4565-4f7f-8a39-ba46e443fc63",
        "outputId": "7bfc6b59-f470-4cd8-c476-9971ebc14ede",
        "colab": {
          "base_uri": "https://localhost:8080/"
        }
      },
      "outputs": [
        {
          "output_type": "execute_result",
          "data": {
            "text/plain": [
              "Index([1, 2, 3, 4], dtype='int64')"
            ]
          },
          "metadata": {},
          "execution_count": 32
        }
      ],
      "source": [
        "idx1.union(idx2)"
      ]
    },
    {
      "cell_type": "markdown",
      "source": [
        "> **intersection 메서드**: 교집합\n",
        "\n",
        "> 중복된 데이터만 선택"
      ],
      "metadata": {
        "id": "aqHe0jYj_aF8"
      },
      "id": "aqHe0jYj_aF8"
    },
    {
      "cell_type": "code",
      "execution_count": null,
      "id": "5f933eb6-63ba-4f65-a9e9-e9a84ce5a0b7",
      "metadata": {
        "id": "5f933eb6-63ba-4f65-a9e9-e9a84ce5a0b7",
        "outputId": "9c29f290-28e2-46f2-88a7-1a1bdb83a431",
        "colab": {
          "base_uri": "https://localhost:8080/"
        }
      },
      "outputs": [
        {
          "output_type": "execute_result",
          "data": {
            "text/plain": [
              "Index([2, 3], dtype='int64')"
            ]
          },
          "metadata": {},
          "execution_count": 33
        }
      ],
      "source": [
        "idx1.intersection(idx2)"
      ]
    },
    {
      "cell_type": "markdown",
      "source": [
        "> **difference**: 차집합\n",
        "\n",
        "> idx1에서 idx2와 중복되는 인덱스 값만 제거"
      ],
      "metadata": {
        "id": "5jPn7Trq_nFZ"
      },
      "id": "5jPn7Trq_nFZ"
    },
    {
      "cell_type": "code",
      "execution_count": null,
      "id": "2d8c96ce-59a8-4258-88ce-8c1cb3fb863a",
      "metadata": {
        "id": "2d8c96ce-59a8-4258-88ce-8c1cb3fb863a",
        "outputId": "2cf2672d-0423-451a-c9ba-766d4b316f2e",
        "colab": {
          "base_uri": "https://localhost:8080/"
        }
      },
      "outputs": [
        {
          "output_type": "execute_result",
          "data": {
            "text/plain": [
              "Index([1], dtype='int64')"
            ]
          },
          "metadata": {},
          "execution_count": 34
        }
      ],
      "source": [
        "idx1.difference(idx2)"
      ]
    },
    {
      "cell_type": "markdown",
      "id": "3910b602-f435-4c1a-ab46-bd0836fd70a6",
      "metadata": {
        "id": "3910b602-f435-4c1a-ab46-bd0836fd70a6"
      },
      "source": [
        "### 5.5 GroupBy\n",
        "\n",
        "> 데이터 집계"
      ]
    },
    {
      "cell_type": "code",
      "execution_count": null,
      "id": "bf98fc33-42fb-4a44-a5f4-2387a60b2a37",
      "metadata": {
        "id": "bf98fc33-42fb-4a44-a5f4-2387a60b2a37",
        "outputId": "62337f65-c367-4792-9c43-05cc560ec065",
        "colab": {
          "base_uri": "https://localhost:8080/"
        }
      },
      "outputs": [
        {
          "output_type": "stream",
          "name": "stdout",
          "text": [
            "         테마      종목명    PER   PBR\n",
            "0  2차전지(생산)  SK이노베이션  10.19  1.29\n",
            "1        해운      팬오션  21.23  0.95\n",
            "2    시스템반도체     티엘아이  35.97  1.12\n",
            "3        해운      HMM  21.52  3.20\n",
            "4    시스템반도체     아이에이  37.32  3.55\n",
            "5  2차전지(생산)     LG화학  83.06  3.75\n"
          ]
        }
      ],
      "source": [
        "from pandas import DataFrame\n",
        "\n",
        "data = [\n",
        "    ['2차전지(생산)', 'SK이노베이션', 10.19, 1.29],\n",
        "    ['해운', '팬오션', 21.23, 0.95],\n",
        "    ['시스템반도체', '티엘아이', 35.97, 1.12],\n",
        "    ['해운', 'HMM', 21.52, 3.20],\n",
        "    ['시스템반도체', '아이에이', 37.32, 3.55],\n",
        "    ['2차전지(생산)', 'LG화학', 83.06, 3.75]\n",
        "]\n",
        "\n",
        "columns = ['테마', '종목명', 'PER', 'PBR']\n",
        "df = DataFrame(data=data, columns=columns)\n",
        "print(df)"
      ]
    },
    {
      "cell_type": "markdown",
      "source": [
        "**과정 1.** 2차전지, 해운, 시스템반도체의 세 그룹으로 종목 분류하기"
      ],
      "metadata": {
        "id": "ET_sTG-XAgyI"
      },
      "id": "ET_sTG-XAgyI"
    },
    {
      "cell_type": "code",
      "execution_count": null,
      "id": "10e52578-4cea-4443-a2cc-dd8033598dc8",
      "metadata": {
        "id": "10e52578-4cea-4443-a2cc-dd8033598dc8"
      },
      "outputs": [],
      "source": [
        "df1 = df[df['테마'] == '2차전지(생산)']\n",
        "df2 = df[df['테마'] == '해운']\n",
        "df3 = df[df['테마'] == '시스템반도체']"
      ]
    },
    {
      "cell_type": "markdown",
      "source": [
        "**과정 2.** 그룹별로 PER 컬럼의 평균값 계산\n",
        "\n",
        "> 시리즈 객체의 **mean 메서드** 호출\n",
        "\n",
        "> 데이터프레임의 컬럼은 시리즈 객체이기 때문"
      ],
      "metadata": {
        "id": "qHX6G3j7BRfF"
      },
      "id": "qHX6G3j7BRfF"
    },
    {
      "cell_type": "code",
      "execution_count": null,
      "id": "ceee80cb-0bdb-41b4-b5a1-44231704aeae",
      "metadata": {
        "id": "ceee80cb-0bdb-41b4-b5a1-44231704aeae"
      },
      "outputs": [],
      "source": [
        "mean1 = df1['PER'].mean()\n",
        "mean2 = df2['PER'].mean()\n",
        "mean3 = df3['PER'].mean()"
      ]
    },
    {
      "cell_type": "markdown",
      "source": [
        "**과정 3.** 테마별로 PER의 평균을 시리즈로 저장"
      ],
      "metadata": {
        "id": "SvT46vmgCidf"
      },
      "id": "SvT46vmgCidf"
    },
    {
      "cell_type": "code",
      "source": [
        "import pandas as pd\n",
        "\n",
        "data = [mean1, mean2, mean3]\n",
        "index = ['2차전지(생산)', '해운', '시스템반도체']\n",
        "s = pd.Series(data=data, index=index)\n",
        "print(s)"
      ],
      "metadata": {
        "id": "NdfQ6PK5Cm_s"
      },
      "id": "NdfQ6PK5Cm_s",
      "execution_count": null,
      "outputs": []
    },
    {
      "cell_type": "markdown",
      "source": [
        "#### groupby 메서드 사용\n",
        "\n",
        "> 앞의 과정 1 ~ 3을 한 번에 처리해줌"
      ],
      "metadata": {
        "id": "BHaKwrfdC70D"
      },
      "id": "BHaKwrfdC70D"
    },
    {
      "cell_type": "code",
      "execution_count": null,
      "id": "2be46bb9",
      "metadata": {
        "id": "2be46bb9",
        "outputId": "c1852989-7fc1-496b-b02e-06c81b0854a6",
        "colab": {
          "base_uri": "https://localhost:8080/",
          "height": 209
        }
      },
      "outputs": [
        {
          "output_type": "execute_result",
          "data": {
            "text/plain": [
              "테마\n",
              "2차전지(생산)    46.625\n",
              "시스템반도체      36.645\n",
              "해운          21.375\n",
              "Name: PER, dtype: float64"
            ],
            "text/html": [
              "<div>\n",
              "<style scoped>\n",
              "    .dataframe tbody tr th:only-of-type {\n",
              "        vertical-align: middle;\n",
              "    }\n",
              "\n",
              "    .dataframe tbody tr th {\n",
              "        vertical-align: top;\n",
              "    }\n",
              "\n",
              "    .dataframe thead th {\n",
              "        text-align: right;\n",
              "    }\n",
              "</style>\n",
              "<table border=\"1\" class=\"dataframe\">\n",
              "  <thead>\n",
              "    <tr style=\"text-align: right;\">\n",
              "      <th></th>\n",
              "      <th>PER</th>\n",
              "    </tr>\n",
              "    <tr>\n",
              "      <th>테마</th>\n",
              "      <th></th>\n",
              "    </tr>\n",
              "  </thead>\n",
              "  <tbody>\n",
              "    <tr>\n",
              "      <th>2차전지(생산)</th>\n",
              "      <td>46.625</td>\n",
              "    </tr>\n",
              "    <tr>\n",
              "      <th>시스템반도체</th>\n",
              "      <td>36.645</td>\n",
              "    </tr>\n",
              "    <tr>\n",
              "      <th>해운</th>\n",
              "      <td>21.375</td>\n",
              "    </tr>\n",
              "  </tbody>\n",
              "</table>\n",
              "</div><br><label><b>dtype:</b> float64</label>"
            ]
          },
          "metadata": {},
          "execution_count": 38
        }
      ],
      "source": [
        "df.groupby('테마')['PER'].mean()"
      ]
    },
    {
      "cell_type": "markdown",
      "source": [
        "> **get_group 메서드**: 특정한 값을 갖는 데이터 프레임 얻기"
      ],
      "metadata": {
        "id": "4PUx607OE7-V"
      },
      "id": "4PUx607OE7-V"
    },
    {
      "cell_type": "code",
      "execution_count": null,
      "id": "f6b98905",
      "metadata": {
        "id": "f6b98905",
        "outputId": "4eeeace6-183f-43e6-8476-991fbe3bd5c8",
        "colab": {
          "base_uri": "https://localhost:8080/"
        }
      },
      "outputs": [
        {
          "output_type": "stream",
          "name": "stdout",
          "text": [
            "         테마      종목명    PER   PBR\n",
            "0  2차전지(생산)  SK이노베이션  10.19  1.29\n",
            "5  2차전지(생산)     LG화학  83.06  3.75\n"
          ]
        }
      ],
      "source": [
        "gb = df. groupby('테마')\n",
        "temp = gb.get_group('2차전지(생산)')\n",
        "print(temp)"
      ]
    },
    {
      "cell_type": "code",
      "execution_count": null,
      "id": "6a0a0d13",
      "metadata": {
        "id": "6a0a0d13",
        "outputId": "d83aab17-b227-4c47-f7ba-d0762a88e388",
        "colab": {
          "base_uri": "https://localhost:8080/"
        }
      },
      "outputs": [
        {
          "output_type": "stream",
          "name": "stdout",
          "text": [
            "         테마    PER   PBR\n",
            "0  2차전지(생산)  10.19  1.29\n",
            "5  2차전지(생산)  83.06  3.75\n"
          ]
        }
      ],
      "source": [
        "temp = df[['테마', 'PER', 'PBR']].groupby('테마').get_group('2차전지(생산)')\n",
        "print(temp)"
      ]
    },
    {
      "cell_type": "markdown",
      "source": [
        "> 테마별로 정리한 DataFrameGroupBy 객체에서\n",
        "\n",
        "> PER과 PBR 컬럼만을 선택한 뒤\n",
        "\n",
        "> 2차전지(생산)이 포함된 테마만을 선택"
      ],
      "metadata": {
        "id": "BJRxTLjDGlbl"
      },
      "id": "BJRxTLjDGlbl"
    },
    {
      "cell_type": "code",
      "execution_count": null,
      "id": "67a3ae27",
      "metadata": {
        "id": "67a3ae27",
        "outputId": "b5cad88d-dc77-40a3-f8f2-97fb224c96c8"
      },
      "outputs": [
        {
          "name": "stdout",
          "output_type": "stream",
          "text": [
            "     PER   PBR\n",
            "0  10.19  1.29\n",
            "5  83.06  3.75\n"
          ]
        }
      ],
      "source": [
        "temp = df.groupby('테마')[ ['PER', 'PBR'] ].get_group(\"2차전지(생산)\")\n",
        "print(temp)"
      ]
    },
    {
      "cell_type": "markdown",
      "source": [
        "> groupby 메서드로 그룹화하고\n",
        "\n",
        "> PER과 PBR 컬럼에 mean 메서드 적용\n",
        "\n",
        "> cf) mean 자리에 max, min, sum, var, std의 기초 통계 함수 사용 가능"
      ],
      "metadata": {
        "id": "YFOIdKOEHJW3"
      },
      "id": "YFOIdKOEHJW3"
    },
    {
      "cell_type": "code",
      "execution_count": null,
      "id": "0fd675ba-27cc-4aa9-b75e-9cfb7d648c7a",
      "metadata": {
        "id": "0fd675ba-27cc-4aa9-b75e-9cfb7d648c7a",
        "outputId": "0c28d057-b15d-4067-bd0f-a2955b0590ed",
        "colab": {
          "base_uri": "https://localhost:8080/",
          "height": 174
        }
      },
      "outputs": [
        {
          "output_type": "execute_result",
          "data": {
            "text/plain": [
              "             PER    PBR\n",
              "테마                     \n",
              "2차전지(생산)  46.625  2.520\n",
              "시스템반도체    36.645  2.335\n",
              "해운        21.375  2.075"
            ],
            "text/html": [
              "\n",
              "  <div id=\"df-f1d4e853-173b-4b18-8cae-4d3ce6e436a4\" class=\"colab-df-container\">\n",
              "    <div>\n",
              "<style scoped>\n",
              "    .dataframe tbody tr th:only-of-type {\n",
              "        vertical-align: middle;\n",
              "    }\n",
              "\n",
              "    .dataframe tbody tr th {\n",
              "        vertical-align: top;\n",
              "    }\n",
              "\n",
              "    .dataframe thead th {\n",
              "        text-align: right;\n",
              "    }\n",
              "</style>\n",
              "<table border=\"1\" class=\"dataframe\">\n",
              "  <thead>\n",
              "    <tr style=\"text-align: right;\">\n",
              "      <th></th>\n",
              "      <th>PER</th>\n",
              "      <th>PBR</th>\n",
              "    </tr>\n",
              "    <tr>\n",
              "      <th>테마</th>\n",
              "      <th></th>\n",
              "      <th></th>\n",
              "    </tr>\n",
              "  </thead>\n",
              "  <tbody>\n",
              "    <tr>\n",
              "      <th>2차전지(생산)</th>\n",
              "      <td>46.625</td>\n",
              "      <td>2.520</td>\n",
              "    </tr>\n",
              "    <tr>\n",
              "      <th>시스템반도체</th>\n",
              "      <td>36.645</td>\n",
              "      <td>2.335</td>\n",
              "    </tr>\n",
              "    <tr>\n",
              "      <th>해운</th>\n",
              "      <td>21.375</td>\n",
              "      <td>2.075</td>\n",
              "    </tr>\n",
              "  </tbody>\n",
              "</table>\n",
              "</div>\n",
              "    <div class=\"colab-df-buttons\">\n",
              "\n",
              "  <div class=\"colab-df-container\">\n",
              "    <button class=\"colab-df-convert\" onclick=\"convertToInteractive('df-f1d4e853-173b-4b18-8cae-4d3ce6e436a4')\"\n",
              "            title=\"Convert this dataframe to an interactive table.\"\n",
              "            style=\"display:none;\">\n",
              "\n",
              "  <svg xmlns=\"http://www.w3.org/2000/svg\" height=\"24px\" viewBox=\"0 -960 960 960\">\n",
              "    <path d=\"M120-120v-720h720v720H120Zm60-500h600v-160H180v160Zm220 220h160v-160H400v160Zm0 220h160v-160H400v160ZM180-400h160v-160H180v160Zm440 0h160v-160H620v160ZM180-180h160v-160H180v160Zm440 0h160v-160H620v160Z\"/>\n",
              "  </svg>\n",
              "    </button>\n",
              "\n",
              "  <style>\n",
              "    .colab-df-container {\n",
              "      display:flex;\n",
              "      gap: 12px;\n",
              "    }\n",
              "\n",
              "    .colab-df-convert {\n",
              "      background-color: #E8F0FE;\n",
              "      border: none;\n",
              "      border-radius: 50%;\n",
              "      cursor: pointer;\n",
              "      display: none;\n",
              "      fill: #1967D2;\n",
              "      height: 32px;\n",
              "      padding: 0 0 0 0;\n",
              "      width: 32px;\n",
              "    }\n",
              "\n",
              "    .colab-df-convert:hover {\n",
              "      background-color: #E2EBFA;\n",
              "      box-shadow: 0px 1px 2px rgba(60, 64, 67, 0.3), 0px 1px 3px 1px rgba(60, 64, 67, 0.15);\n",
              "      fill: #174EA6;\n",
              "    }\n",
              "\n",
              "    .colab-df-buttons div {\n",
              "      margin-bottom: 4px;\n",
              "    }\n",
              "\n",
              "    [theme=dark] .colab-df-convert {\n",
              "      background-color: #3B4455;\n",
              "      fill: #D2E3FC;\n",
              "    }\n",
              "\n",
              "    [theme=dark] .colab-df-convert:hover {\n",
              "      background-color: #434B5C;\n",
              "      box-shadow: 0px 1px 3px 1px rgba(0, 0, 0, 0.15);\n",
              "      filter: drop-shadow(0px 1px 2px rgba(0, 0, 0, 0.3));\n",
              "      fill: #FFFFFF;\n",
              "    }\n",
              "  </style>\n",
              "\n",
              "    <script>\n",
              "      const buttonEl =\n",
              "        document.querySelector('#df-f1d4e853-173b-4b18-8cae-4d3ce6e436a4 button.colab-df-convert');\n",
              "      buttonEl.style.display =\n",
              "        google.colab.kernel.accessAllowed ? 'block' : 'none';\n",
              "\n",
              "      async function convertToInteractive(key) {\n",
              "        const element = document.querySelector('#df-f1d4e853-173b-4b18-8cae-4d3ce6e436a4');\n",
              "        const dataTable =\n",
              "          await google.colab.kernel.invokeFunction('convertToInteractive',\n",
              "                                                    [key], {});\n",
              "        if (!dataTable) return;\n",
              "\n",
              "        const docLinkHtml = 'Like what you see? Visit the ' +\n",
              "          '<a target=\"_blank\" href=https://colab.research.google.com/notebooks/data_table.ipynb>data table notebook</a>'\n",
              "          + ' to learn more about interactive tables.';\n",
              "        element.innerHTML = '';\n",
              "        dataTable['output_type'] = 'display_data';\n",
              "        await google.colab.output.renderOutput(dataTable, element);\n",
              "        const docLink = document.createElement('div');\n",
              "        docLink.innerHTML = docLinkHtml;\n",
              "        element.appendChild(docLink);\n",
              "      }\n",
              "    </script>\n",
              "  </div>\n",
              "\n",
              "\n",
              "<div id=\"df-dc80794a-4110-492e-81d3-901b6d658a18\">\n",
              "  <button class=\"colab-df-quickchart\" onclick=\"quickchart('df-dc80794a-4110-492e-81d3-901b6d658a18')\"\n",
              "            title=\"Suggest charts\"\n",
              "            style=\"display:none;\">\n",
              "\n",
              "<svg xmlns=\"http://www.w3.org/2000/svg\" height=\"24px\"viewBox=\"0 0 24 24\"\n",
              "     width=\"24px\">\n",
              "    <g>\n",
              "        <path d=\"M19 3H5c-1.1 0-2 .9-2 2v14c0 1.1.9 2 2 2h14c1.1 0 2-.9 2-2V5c0-1.1-.9-2-2-2zM9 17H7v-7h2v7zm4 0h-2V7h2v10zm4 0h-2v-4h2v4z\"/>\n",
              "    </g>\n",
              "</svg>\n",
              "  </button>\n",
              "\n",
              "<style>\n",
              "  .colab-df-quickchart {\n",
              "      --bg-color: #E8F0FE;\n",
              "      --fill-color: #1967D2;\n",
              "      --hover-bg-color: #E2EBFA;\n",
              "      --hover-fill-color: #174EA6;\n",
              "      --disabled-fill-color: #AAA;\n",
              "      --disabled-bg-color: #DDD;\n",
              "  }\n",
              "\n",
              "  [theme=dark] .colab-df-quickchart {\n",
              "      --bg-color: #3B4455;\n",
              "      --fill-color: #D2E3FC;\n",
              "      --hover-bg-color: #434B5C;\n",
              "      --hover-fill-color: #FFFFFF;\n",
              "      --disabled-bg-color: #3B4455;\n",
              "      --disabled-fill-color: #666;\n",
              "  }\n",
              "\n",
              "  .colab-df-quickchart {\n",
              "    background-color: var(--bg-color);\n",
              "    border: none;\n",
              "    border-radius: 50%;\n",
              "    cursor: pointer;\n",
              "    display: none;\n",
              "    fill: var(--fill-color);\n",
              "    height: 32px;\n",
              "    padding: 0;\n",
              "    width: 32px;\n",
              "  }\n",
              "\n",
              "  .colab-df-quickchart:hover {\n",
              "    background-color: var(--hover-bg-color);\n",
              "    box-shadow: 0 1px 2px rgba(60, 64, 67, 0.3), 0 1px 3px 1px rgba(60, 64, 67, 0.15);\n",
              "    fill: var(--button-hover-fill-color);\n",
              "  }\n",
              "\n",
              "  .colab-df-quickchart-complete:disabled,\n",
              "  .colab-df-quickchart-complete:disabled:hover {\n",
              "    background-color: var(--disabled-bg-color);\n",
              "    fill: var(--disabled-fill-color);\n",
              "    box-shadow: none;\n",
              "  }\n",
              "\n",
              "  .colab-df-spinner {\n",
              "    border: 2px solid var(--fill-color);\n",
              "    border-color: transparent;\n",
              "    border-bottom-color: var(--fill-color);\n",
              "    animation:\n",
              "      spin 1s steps(1) infinite;\n",
              "  }\n",
              "\n",
              "  @keyframes spin {\n",
              "    0% {\n",
              "      border-color: transparent;\n",
              "      border-bottom-color: var(--fill-color);\n",
              "      border-left-color: var(--fill-color);\n",
              "    }\n",
              "    20% {\n",
              "      border-color: transparent;\n",
              "      border-left-color: var(--fill-color);\n",
              "      border-top-color: var(--fill-color);\n",
              "    }\n",
              "    30% {\n",
              "      border-color: transparent;\n",
              "      border-left-color: var(--fill-color);\n",
              "      border-top-color: var(--fill-color);\n",
              "      border-right-color: var(--fill-color);\n",
              "    }\n",
              "    40% {\n",
              "      border-color: transparent;\n",
              "      border-right-color: var(--fill-color);\n",
              "      border-top-color: var(--fill-color);\n",
              "    }\n",
              "    60% {\n",
              "      border-color: transparent;\n",
              "      border-right-color: var(--fill-color);\n",
              "    }\n",
              "    80% {\n",
              "      border-color: transparent;\n",
              "      border-right-color: var(--fill-color);\n",
              "      border-bottom-color: var(--fill-color);\n",
              "    }\n",
              "    90% {\n",
              "      border-color: transparent;\n",
              "      border-bottom-color: var(--fill-color);\n",
              "    }\n",
              "  }\n",
              "</style>\n",
              "\n",
              "  <script>\n",
              "    async function quickchart(key) {\n",
              "      const quickchartButtonEl =\n",
              "        document.querySelector('#' + key + ' button');\n",
              "      quickchartButtonEl.disabled = true;  // To prevent multiple clicks.\n",
              "      quickchartButtonEl.classList.add('colab-df-spinner');\n",
              "      try {\n",
              "        const charts = await google.colab.kernel.invokeFunction(\n",
              "            'suggestCharts', [key], {});\n",
              "      } catch (error) {\n",
              "        console.error('Error during call to suggestCharts:', error);\n",
              "      }\n",
              "      quickchartButtonEl.classList.remove('colab-df-spinner');\n",
              "      quickchartButtonEl.classList.add('colab-df-quickchart-complete');\n",
              "    }\n",
              "    (() => {\n",
              "      let quickchartButtonEl =\n",
              "        document.querySelector('#df-dc80794a-4110-492e-81d3-901b6d658a18 button');\n",
              "      quickchartButtonEl.style.display =\n",
              "        google.colab.kernel.accessAllowed ? 'block' : 'none';\n",
              "    })();\n",
              "  </script>\n",
              "</div>\n",
              "\n",
              "    </div>\n",
              "  </div>\n"
            ],
            "application/vnd.google.colaboratory.intrinsic+json": {
              "type": "dataframe",
              "summary": "{\n  \"name\": \"df\",\n  \"rows\": 3,\n  \"fields\": [\n    {\n      \"column\": \"\\ud14c\\ub9c8\",\n      \"properties\": {\n        \"dtype\": \"string\",\n        \"num_unique_values\": 3,\n        \"samples\": [\n          \"2\\ucc28\\uc804\\uc9c0(\\uc0dd\\uc0b0)\",\n          \"\\uc2dc\\uc2a4\\ud15c\\ubc18\\ub3c4\\uccb4\",\n          \"\\ud574\\uc6b4\"\n        ],\n        \"semantic_type\": \"\",\n        \"description\": \"\"\n      }\n    },\n    {\n      \"column\": \"PER\",\n      \"properties\": {\n        \"dtype\": \"number\",\n        \"std\": 12.717021401780109,\n        \"min\": 21.375,\n        \"max\": 46.625,\n        \"num_unique_values\": 3,\n        \"samples\": [\n          46.625,\n          36.644999999999996,\n          21.375\n        ],\n        \"semantic_type\": \"\",\n        \"description\": \"\"\n      }\n    },\n    {\n      \"column\": \"PBR\",\n      \"properties\": {\n        \"dtype\": \"number\",\n        \"std\": 0.2235508890610815,\n        \"min\": 2.075,\n        \"max\": 2.52,\n        \"num_unique_values\": 3,\n        \"samples\": [\n          2.52,\n          2.335,\n          2.075\n        ],\n        \"semantic_type\": \"\",\n        \"description\": \"\"\n      }\n    }\n  ]\n}"
            }
          },
          "metadata": {},
          "execution_count": 42
        }
      ],
      "source": [
        "df.groupby('테마')[['PER', 'PBR']].mean()"
      ]
    },
    {
      "cell_type": "markdown",
      "source": [
        "> 특정 컬럼마다 다른 함수 적용 가능\n",
        "\n",
        "> **agg 메서드**: 해당 그룹의 대푯값 설정\n",
        "\n",
        "> {key:value} = {컬럼 이름: 적용할 함수 이름}"
      ],
      "metadata": {
        "id": "3e6SJbOwLX-2"
      },
      "id": "3e6SJbOwLX-2"
    },
    {
      "cell_type": "code",
      "execution_count": null,
      "id": "39a0d813-8d24-4a61-8f82-f48fdae35d97",
      "metadata": {
        "scrolled": true,
        "id": "39a0d813-8d24-4a61-8f82-f48fdae35d97",
        "outputId": "c6820a51-d76d-4485-b679-e876e895cfa3"
      },
      "outputs": [
        {
          "data": {
            "text/html": [
              "<div>\n",
              "<style scoped>\n",
              "    .dataframe tbody tr th:only-of-type {\n",
              "        vertical-align: middle;\n",
              "    }\n",
              "\n",
              "    .dataframe tbody tr th {\n",
              "        vertical-align: top;\n",
              "    }\n",
              "\n",
              "    .dataframe thead th {\n",
              "        text-align: right;\n",
              "    }\n",
              "</style>\n",
              "<table border=\"1\" class=\"dataframe\">\n",
              "  <thead>\n",
              "    <tr style=\"text-align: right;\">\n",
              "      <th></th>\n",
              "      <th>PER</th>\n",
              "      <th>PBR</th>\n",
              "    </tr>\n",
              "    <tr>\n",
              "      <th>테마</th>\n",
              "      <th></th>\n",
              "      <th></th>\n",
              "    </tr>\n",
              "  </thead>\n",
              "  <tbody>\n",
              "    <tr>\n",
              "      <th>2차전지(생산)</th>\n",
              "      <td>83.06</td>\n",
              "      <td>1.29</td>\n",
              "    </tr>\n",
              "    <tr>\n",
              "      <th>시스템반도체</th>\n",
              "      <td>37.32</td>\n",
              "      <td>1.12</td>\n",
              "    </tr>\n",
              "    <tr>\n",
              "      <th>해운</th>\n",
              "      <td>21.52</td>\n",
              "      <td>0.95</td>\n",
              "    </tr>\n",
              "  </tbody>\n",
              "</table>\n",
              "</div>"
            ],
            "text/plain": [
              "            PER   PBR\n",
              "테마                   \n",
              "2차전지(생산)  83.06  1.29\n",
              "시스템반도체    37.32  1.12\n",
              "해운        21.52  0.95"
            ]
          },
          "execution_count": 117,
          "metadata": {},
          "output_type": "execute_result"
        }
      ],
      "source": [
        "df.groupby('테마').agg({'PER': max, 'PBR': min})"
      ]
    },
    {
      "cell_type": "markdown",
      "source": [
        "> 하나의 컬럼에 여러 연산 지정 가능\n",
        "\n",
        "> 딕셔너리의 value에 리스트로 적용할 연산 나열\n",
        "\n",
        "> PER에는 기본 함수 min, max 적용하고 PBR에는 numpy가 제공하는 표준편차와 분산 구하기"
      ],
      "metadata": {
        "id": "zpiAOYrJMNMz"
      },
      "id": "zpiAOYrJMNMz"
    },
    {
      "cell_type": "code",
      "execution_count": null,
      "id": "2e368d2f",
      "metadata": {
        "id": "2e368d2f",
        "outputId": "c9834c29-0b0b-4e4d-8898-341d96638925",
        "colab": {
          "base_uri": "https://localhost:8080/",
          "height": 373
        }
      },
      "outputs": [
        {
          "output_type": "stream",
          "name": "stderr",
          "text": [
            "<ipython-input-45-d1370f16bb99>:3: FutureWarning: The provided callable <built-in function min> is currently using SeriesGroupBy.min. In a future version of pandas, the provided callable will be used directly. To keep current behavior pass the string \"min\" instead.\n",
            "  df.groupby('테마').agg({'PER': [min, max], 'PBR': [np.std, np.var]})\n",
            "<ipython-input-45-d1370f16bb99>:3: FutureWarning: The provided callable <built-in function max> is currently using SeriesGroupBy.max. In a future version of pandas, the provided callable will be used directly. To keep current behavior pass the string \"max\" instead.\n",
            "  df.groupby('테마').agg({'PER': [min, max], 'PBR': [np.std, np.var]})\n",
            "<ipython-input-45-d1370f16bb99>:3: FutureWarning: The provided callable <function std at 0x7e6f8b903e20> is currently using SeriesGroupBy.std. In a future version of pandas, the provided callable will be used directly. To keep current behavior pass the string \"std\" instead.\n",
            "  df.groupby('테마').agg({'PER': [min, max], 'PBR': [np.std, np.var]})\n",
            "<ipython-input-45-d1370f16bb99>:3: FutureWarning: The provided callable <function var at 0x7e6f8b903f40> is currently using SeriesGroupBy.var. In a future version of pandas, the provided callable will be used directly. To keep current behavior pass the string \"var\" instead.\n",
            "  df.groupby('테마').agg({'PER': [min, max], 'PBR': [np.std, np.var]})\n"
          ]
        },
        {
          "output_type": "execute_result",
          "data": {
            "text/plain": [
              "            PER              PBR         \n",
              "            min    max       std      var\n",
              "테마                                       \n",
              "2차전지(생산)  10.19  83.06  1.739483  3.02580\n",
              "시스템반도체    35.97  37.32  1.718269  2.95245\n",
              "해운        21.23  21.52  1.590990  2.53125"
            ],
            "text/html": [
              "\n",
              "  <div id=\"df-94b10a6c-2220-40f3-a6f5-b5668e93c5e1\" class=\"colab-df-container\">\n",
              "    <div>\n",
              "<style scoped>\n",
              "    .dataframe tbody tr th:only-of-type {\n",
              "        vertical-align: middle;\n",
              "    }\n",
              "\n",
              "    .dataframe tbody tr th {\n",
              "        vertical-align: top;\n",
              "    }\n",
              "\n",
              "    .dataframe thead tr th {\n",
              "        text-align: left;\n",
              "    }\n",
              "\n",
              "    .dataframe thead tr:last-of-type th {\n",
              "        text-align: right;\n",
              "    }\n",
              "</style>\n",
              "<table border=\"1\" class=\"dataframe\">\n",
              "  <thead>\n",
              "    <tr>\n",
              "      <th></th>\n",
              "      <th colspan=\"2\" halign=\"left\">PER</th>\n",
              "      <th colspan=\"2\" halign=\"left\">PBR</th>\n",
              "    </tr>\n",
              "    <tr>\n",
              "      <th></th>\n",
              "      <th>min</th>\n",
              "      <th>max</th>\n",
              "      <th>std</th>\n",
              "      <th>var</th>\n",
              "    </tr>\n",
              "    <tr>\n",
              "      <th>테마</th>\n",
              "      <th></th>\n",
              "      <th></th>\n",
              "      <th></th>\n",
              "      <th></th>\n",
              "    </tr>\n",
              "  </thead>\n",
              "  <tbody>\n",
              "    <tr>\n",
              "      <th>2차전지(생산)</th>\n",
              "      <td>10.19</td>\n",
              "      <td>83.06</td>\n",
              "      <td>1.739483</td>\n",
              "      <td>3.02580</td>\n",
              "    </tr>\n",
              "    <tr>\n",
              "      <th>시스템반도체</th>\n",
              "      <td>35.97</td>\n",
              "      <td>37.32</td>\n",
              "      <td>1.718269</td>\n",
              "      <td>2.95245</td>\n",
              "    </tr>\n",
              "    <tr>\n",
              "      <th>해운</th>\n",
              "      <td>21.23</td>\n",
              "      <td>21.52</td>\n",
              "      <td>1.590990</td>\n",
              "      <td>2.53125</td>\n",
              "    </tr>\n",
              "  </tbody>\n",
              "</table>\n",
              "</div>\n",
              "    <div class=\"colab-df-buttons\">\n",
              "\n",
              "  <div class=\"colab-df-container\">\n",
              "    <button class=\"colab-df-convert\" onclick=\"convertToInteractive('df-94b10a6c-2220-40f3-a6f5-b5668e93c5e1')\"\n",
              "            title=\"Convert this dataframe to an interactive table.\"\n",
              "            style=\"display:none;\">\n",
              "\n",
              "  <svg xmlns=\"http://www.w3.org/2000/svg\" height=\"24px\" viewBox=\"0 -960 960 960\">\n",
              "    <path d=\"M120-120v-720h720v720H120Zm60-500h600v-160H180v160Zm220 220h160v-160H400v160Zm0 220h160v-160H400v160ZM180-400h160v-160H180v160Zm440 0h160v-160H620v160ZM180-180h160v-160H180v160Zm440 0h160v-160H620v160Z\"/>\n",
              "  </svg>\n",
              "    </button>\n",
              "\n",
              "  <style>\n",
              "    .colab-df-container {\n",
              "      display:flex;\n",
              "      gap: 12px;\n",
              "    }\n",
              "\n",
              "    .colab-df-convert {\n",
              "      background-color: #E8F0FE;\n",
              "      border: none;\n",
              "      border-radius: 50%;\n",
              "      cursor: pointer;\n",
              "      display: none;\n",
              "      fill: #1967D2;\n",
              "      height: 32px;\n",
              "      padding: 0 0 0 0;\n",
              "      width: 32px;\n",
              "    }\n",
              "\n",
              "    .colab-df-convert:hover {\n",
              "      background-color: #E2EBFA;\n",
              "      box-shadow: 0px 1px 2px rgba(60, 64, 67, 0.3), 0px 1px 3px 1px rgba(60, 64, 67, 0.15);\n",
              "      fill: #174EA6;\n",
              "    }\n",
              "\n",
              "    .colab-df-buttons div {\n",
              "      margin-bottom: 4px;\n",
              "    }\n",
              "\n",
              "    [theme=dark] .colab-df-convert {\n",
              "      background-color: #3B4455;\n",
              "      fill: #D2E3FC;\n",
              "    }\n",
              "\n",
              "    [theme=dark] .colab-df-convert:hover {\n",
              "      background-color: #434B5C;\n",
              "      box-shadow: 0px 1px 3px 1px rgba(0, 0, 0, 0.15);\n",
              "      filter: drop-shadow(0px 1px 2px rgba(0, 0, 0, 0.3));\n",
              "      fill: #FFFFFF;\n",
              "    }\n",
              "  </style>\n",
              "\n",
              "    <script>\n",
              "      const buttonEl =\n",
              "        document.querySelector('#df-94b10a6c-2220-40f3-a6f5-b5668e93c5e1 button.colab-df-convert');\n",
              "      buttonEl.style.display =\n",
              "        google.colab.kernel.accessAllowed ? 'block' : 'none';\n",
              "\n",
              "      async function convertToInteractive(key) {\n",
              "        const element = document.querySelector('#df-94b10a6c-2220-40f3-a6f5-b5668e93c5e1');\n",
              "        const dataTable =\n",
              "          await google.colab.kernel.invokeFunction('convertToInteractive',\n",
              "                                                    [key], {});\n",
              "        if (!dataTable) return;\n",
              "\n",
              "        const docLinkHtml = 'Like what you see? Visit the ' +\n",
              "          '<a target=\"_blank\" href=https://colab.research.google.com/notebooks/data_table.ipynb>data table notebook</a>'\n",
              "          + ' to learn more about interactive tables.';\n",
              "        element.innerHTML = '';\n",
              "        dataTable['output_type'] = 'display_data';\n",
              "        await google.colab.output.renderOutput(dataTable, element);\n",
              "        const docLink = document.createElement('div');\n",
              "        docLink.innerHTML = docLinkHtml;\n",
              "        element.appendChild(docLink);\n",
              "      }\n",
              "    </script>\n",
              "  </div>\n",
              "\n",
              "\n",
              "<div id=\"df-3ec1974b-c1c1-4b46-9311-8f1119fec132\">\n",
              "  <button class=\"colab-df-quickchart\" onclick=\"quickchart('df-3ec1974b-c1c1-4b46-9311-8f1119fec132')\"\n",
              "            title=\"Suggest charts\"\n",
              "            style=\"display:none;\">\n",
              "\n",
              "<svg xmlns=\"http://www.w3.org/2000/svg\" height=\"24px\"viewBox=\"0 0 24 24\"\n",
              "     width=\"24px\">\n",
              "    <g>\n",
              "        <path d=\"M19 3H5c-1.1 0-2 .9-2 2v14c0 1.1.9 2 2 2h14c1.1 0 2-.9 2-2V5c0-1.1-.9-2-2-2zM9 17H7v-7h2v7zm4 0h-2V7h2v10zm4 0h-2v-4h2v4z\"/>\n",
              "    </g>\n",
              "</svg>\n",
              "  </button>\n",
              "\n",
              "<style>\n",
              "  .colab-df-quickchart {\n",
              "      --bg-color: #E8F0FE;\n",
              "      --fill-color: #1967D2;\n",
              "      --hover-bg-color: #E2EBFA;\n",
              "      --hover-fill-color: #174EA6;\n",
              "      --disabled-fill-color: #AAA;\n",
              "      --disabled-bg-color: #DDD;\n",
              "  }\n",
              "\n",
              "  [theme=dark] .colab-df-quickchart {\n",
              "      --bg-color: #3B4455;\n",
              "      --fill-color: #D2E3FC;\n",
              "      --hover-bg-color: #434B5C;\n",
              "      --hover-fill-color: #FFFFFF;\n",
              "      --disabled-bg-color: #3B4455;\n",
              "      --disabled-fill-color: #666;\n",
              "  }\n",
              "\n",
              "  .colab-df-quickchart {\n",
              "    background-color: var(--bg-color);\n",
              "    border: none;\n",
              "    border-radius: 50%;\n",
              "    cursor: pointer;\n",
              "    display: none;\n",
              "    fill: var(--fill-color);\n",
              "    height: 32px;\n",
              "    padding: 0;\n",
              "    width: 32px;\n",
              "  }\n",
              "\n",
              "  .colab-df-quickchart:hover {\n",
              "    background-color: var(--hover-bg-color);\n",
              "    box-shadow: 0 1px 2px rgba(60, 64, 67, 0.3), 0 1px 3px 1px rgba(60, 64, 67, 0.15);\n",
              "    fill: var(--button-hover-fill-color);\n",
              "  }\n",
              "\n",
              "  .colab-df-quickchart-complete:disabled,\n",
              "  .colab-df-quickchart-complete:disabled:hover {\n",
              "    background-color: var(--disabled-bg-color);\n",
              "    fill: var(--disabled-fill-color);\n",
              "    box-shadow: none;\n",
              "  }\n",
              "\n",
              "  .colab-df-spinner {\n",
              "    border: 2px solid var(--fill-color);\n",
              "    border-color: transparent;\n",
              "    border-bottom-color: var(--fill-color);\n",
              "    animation:\n",
              "      spin 1s steps(1) infinite;\n",
              "  }\n",
              "\n",
              "  @keyframes spin {\n",
              "    0% {\n",
              "      border-color: transparent;\n",
              "      border-bottom-color: var(--fill-color);\n",
              "      border-left-color: var(--fill-color);\n",
              "    }\n",
              "    20% {\n",
              "      border-color: transparent;\n",
              "      border-left-color: var(--fill-color);\n",
              "      border-top-color: var(--fill-color);\n",
              "    }\n",
              "    30% {\n",
              "      border-color: transparent;\n",
              "      border-left-color: var(--fill-color);\n",
              "      border-top-color: var(--fill-color);\n",
              "      border-right-color: var(--fill-color);\n",
              "    }\n",
              "    40% {\n",
              "      border-color: transparent;\n",
              "      border-right-color: var(--fill-color);\n",
              "      border-top-color: var(--fill-color);\n",
              "    }\n",
              "    60% {\n",
              "      border-color: transparent;\n",
              "      border-right-color: var(--fill-color);\n",
              "    }\n",
              "    80% {\n",
              "      border-color: transparent;\n",
              "      border-right-color: var(--fill-color);\n",
              "      border-bottom-color: var(--fill-color);\n",
              "    }\n",
              "    90% {\n",
              "      border-color: transparent;\n",
              "      border-bottom-color: var(--fill-color);\n",
              "    }\n",
              "  }\n",
              "</style>\n",
              "\n",
              "  <script>\n",
              "    async function quickchart(key) {\n",
              "      const quickchartButtonEl =\n",
              "        document.querySelector('#' + key + ' button');\n",
              "      quickchartButtonEl.disabled = true;  // To prevent multiple clicks.\n",
              "      quickchartButtonEl.classList.add('colab-df-spinner');\n",
              "      try {\n",
              "        const charts = await google.colab.kernel.invokeFunction(\n",
              "            'suggestCharts', [key], {});\n",
              "      } catch (error) {\n",
              "        console.error('Error during call to suggestCharts:', error);\n",
              "      }\n",
              "      quickchartButtonEl.classList.remove('colab-df-spinner');\n",
              "      quickchartButtonEl.classList.add('colab-df-quickchart-complete');\n",
              "    }\n",
              "    (() => {\n",
              "      let quickchartButtonEl =\n",
              "        document.querySelector('#df-3ec1974b-c1c1-4b46-9311-8f1119fec132 button');\n",
              "      quickchartButtonEl.style.display =\n",
              "        google.colab.kernel.accessAllowed ? 'block' : 'none';\n",
              "    })();\n",
              "  </script>\n",
              "</div>\n",
              "\n",
              "    </div>\n",
              "  </div>\n"
            ],
            "application/vnd.google.colaboratory.intrinsic+json": {
              "type": "dataframe",
              "summary": "{\n  \"name\": \"df\",\n  \"rows\": 3,\n  \"fields\": [\n    {\n      \"column\": [\n        \"\\ud14c\\ub9c8\",\n        \"\"\n      ],\n      \"properties\": {\n        \"dtype\": \"string\",\n        \"num_unique_values\": 3,\n        \"samples\": [\n          \"2\\ucc28\\uc804\\uc9c0(\\uc0dd\\uc0b0)\",\n          \"\\uc2dc\\uc2a4\\ud15c\\ubc18\\ub3c4\\uccb4\",\n          \"\\ud574\\uc6b4\"\n        ],\n        \"semantic_type\": \"\",\n        \"description\": \"\"\n      }\n    },\n    {\n      \"column\": [\n        \"PER\",\n        \"min\"\n      ],\n      \"properties\": {\n        \"dtype\": \"number\",\n        \"std\": 12.934176948431366,\n        \"min\": 10.19,\n        \"max\": 35.97,\n        \"num_unique_values\": 3,\n        \"samples\": [\n          10.19,\n          35.97,\n          21.23\n        ],\n        \"semantic_type\": \"\",\n        \"description\": \"\"\n      }\n    },\n    {\n      \"column\": [\n        \"PER\",\n        \"max\"\n      ],\n      \"properties\": {\n        \"dtype\": \"number\",\n        \"std\": 31.960807248879057,\n        \"min\": 21.52,\n        \"max\": 83.06,\n        \"num_unique_values\": 3,\n        \"samples\": [\n          83.06,\n          37.32,\n          21.52\n        ],\n        \"semantic_type\": \"\",\n        \"description\": \"\"\n      }\n    },\n    {\n      \"column\": [\n        \"PBR\",\n        \"std\"\n      ],\n      \"properties\": {\n        \"dtype\": \"number\",\n        \"std\": 0.08031189202104501,\n        \"min\": 1.590990257669732,\n        \"max\": 1.7394826817189069,\n        \"num_unique_values\": 3,\n        \"samples\": [\n          1.7394826817189069,\n          1.7182694782833103,\n          1.590990257669732\n        ],\n        \"semantic_type\": \"\",\n        \"description\": \"\"\n      }\n    },\n    {\n      \"column\": [\n        \"PBR\",\n        \"var\"\n      ],\n      \"properties\": {\n        \"dtype\": \"number\",\n        \"std\": 0.2668861695554865,\n        \"min\": 2.53125,\n        \"max\": 3.0258,\n        \"num_unique_values\": 3,\n        \"samples\": [\n          3.0258,\n          2.9524499999999994,\n          2.53125\n        ],\n        \"semantic_type\": \"\",\n        \"description\": \"\"\n      }\n    }\n  ]\n}"
            }
          },
          "metadata": {},
          "execution_count": 45
        }
      ],
      "source": [
        "import numpy as np\n",
        "\n",
        "df.groupby('테마').agg({'PER': [min, max], 'PBR': [np.std, np.var]})"
      ]
    },
    {
      "cell_type": "markdown",
      "id": "2b3d9aa5-86eb-4d87-93ea-ca4c01035214",
      "metadata": {
        "id": "2b3d9aa5-86eb-4d87-93ea-ca4c01035214"
      },
      "source": [
        "### 5.6 좌/우로 붙이기\n",
        "\n",
        "**방법 1.** 인덱스가 같을 때\n",
        "> **concat** 함수 사용\n",
        "\n",
        "*   인덱스는 동일한데 컬럼의 데이터가 분리되어 있을 때\n",
        "*   기본적으로 같은 컬럼 레이블을 갖는 데이터프레임 객체를 위/아래로 **연결**\n",
        "*   **axis = 1** 파라미터로 좌/우로 **연결**"
      ]
    },
    {
      "cell_type": "code",
      "execution_count": null,
      "id": "1dbd5e83-c878-4109-8614-6b1b4d998a98",
      "metadata": {
        "id": "1dbd5e83-c878-4109-8614-6b1b4d998a98",
        "outputId": "a4315a97-dc6e-4834-acc6-2143f7a7c106",
        "colab": {
          "base_uri": "https://localhost:8080/"
        }
      },
      "outputs": [
        {
          "output_type": "stream",
          "name": "stdout",
          "text": [
            "                종가     거래량      시가      고가      저가\n",
            "2019-06-21  113000  555850  112500  115000  111500\n",
            "2019-06-20  111500  282163  110000  112000  109000\n"
          ]
        }
      ],
      "source": [
        "from pandas import DataFrame\n",
        "import pandas as pd\n",
        "\n",
        "data = {\n",
        "    '종가': [113000, 111500],\n",
        "    '거래량': [555850, 282163]\n",
        "}\n",
        "\n",
        "index = [\"2019-06-21\", \"2019-06-20\"]\n",
        "df1 = DataFrame(data=data, index=index)\n",
        "\n",
        "data = {\n",
        "    '시가': [112500, 110000],\n",
        "    '고가': [115000, 112000],\n",
        "    '저가': [111500, 109000]\n",
        "}\n",
        "df2 = DataFrame(data=data, index=index)\n",
        "\n",
        "df = pd.concat([df1, df2], axis=1)\n",
        "print(df)"
      ]
    },
    {
      "cell_type": "markdown",
      "source": [
        "> 컬럼 순서 변경\n",
        "\n",
        "> 변경 순서대로 레이블을 리스트로 정의하고 인덱싱 기호 [] 안에 넣어주기\n",
        "\n",
        "> 보통 시가, 고가, 저가, 종가, 거래량 순임"
      ],
      "metadata": {
        "id": "FTtpQkNC-IWT"
      },
      "id": "FTtpQkNC-IWT"
    },
    {
      "cell_type": "code",
      "execution_count": null,
      "id": "6953c060-016b-4f6a-a04e-1d48c66a4af1",
      "metadata": {
        "id": "6953c060-016b-4f6a-a04e-1d48c66a4af1",
        "outputId": "2d80163f-70bc-4841-8efa-dcaf54d38faf",
        "colab": {
          "base_uri": "https://localhost:8080/"
        }
      },
      "outputs": [
        {
          "output_type": "stream",
          "name": "stdout",
          "text": [
            "                시가      고가      저가      종가     거래량\n",
            "2019-06-21  112500  115000  111500  113000  555850\n",
            "2019-06-20  110000  112000  109000  111500  282163\n"
          ]
        }
      ],
      "source": [
        "정렬순서 = ['시가', '고가', '저가', '종가', '거래량']\n",
        "df = df[정렬순서]\n",
        "print(df)"
      ]
    },
    {
      "cell_type": "markdown",
      "source": [
        "**방법 2.** 인덱스가 다를 때"
      ],
      "metadata": {
        "id": "QvR3GZQe-d59"
      },
      "id": "QvR3GZQe-d59"
    },
    {
      "cell_type": "code",
      "execution_count": null,
      "id": "a9893a22",
      "metadata": {
        "id": "a9893a22",
        "outputId": "f0aaf558-a1b8-4924-ef28-2dbe6186e0a6",
        "colab": {
          "base_uri": "https://localhost:8080/"
        }
      },
      "outputs": [
        {
          "output_type": "stream",
          "name": "stdout",
          "text": [
            "                  종가       거래량        시가        고가        저가\n",
            "2019-06-21  113000.0  555850.0       NaN       NaN       NaN\n",
            "2019-06-20  111500.0  282163.0  112500.0  115000.0  111500.0\n",
            "2019-06-19       NaN       NaN  110000.0  112000.0  109000.0\n"
          ]
        }
      ],
      "source": [
        "data = {\n",
        "    '종가': [113000, 111500],\n",
        "    '거래량': [555850, 282163]\n",
        "}\n",
        "\n",
        "index = [\"2019-06-21\", \"2019-06-20\"]\n",
        "df1 = DataFrame(data=data, index=index)\n",
        "\n",
        "data = {\n",
        "    '시가': [112500, 110000],\n",
        "    '고가': [115000, 112000],\n",
        "    '저가': [111500, 109000]\n",
        "}\n",
        "\n",
        "index = [\"2019-06-20\", \"2019-06-19\"]\n",
        "df2 = DataFrame(data=data, index=index)\n",
        "\n",
        "df = pd.concat([df1, df2], axis=1)\n",
        "print(df)"
      ]
    },
    {
      "cell_type": "markdown",
      "source": [
        "> **join** 파라미터 사용해서 **outer, inner 옵션**으로 인덱스가 다를 때의 동작 지정\n",
        "\n",
        "> **outer**: 합집합처럼 모든 인덱스에 대해 값을 연결. 존재하지 않는 값은 결측값으로\n",
        "\n",
        "> join 피라미터 지정 안 할 시 outer 모드 동작\n",
        "\n",
        "> **inner**: 교집합처럼 인덱스가 공통인 부분만 연결"
      ],
      "metadata": {
        "id": "lBsDR0CQ-quU"
      },
      "id": "lBsDR0CQ-quU"
    },
    {
      "cell_type": "code",
      "execution_count": null,
      "id": "1e955591",
      "metadata": {
        "id": "1e955591",
        "outputId": "0f17f74b-d4a9-4ed2-a499-12703dff3e7a",
        "colab": {
          "base_uri": "https://localhost:8080/"
        }
      },
      "outputs": [
        {
          "output_type": "stream",
          "name": "stdout",
          "text": [
            "                종가     거래량      시가      고가      저가\n",
            "2019-06-20  111500  282163  112500  115000  111500\n"
          ]
        }
      ],
      "source": [
        "df = pd.concat([df1, df2], axis=1, join='inner')\n",
        "print(df)"
      ]
    },
    {
      "cell_type": "code",
      "execution_count": null,
      "id": "b7039c34",
      "metadata": {
        "id": "b7039c34",
        "outputId": "12bc4c63-a67a-445d-85bc-6704279ec602"
      },
      "outputs": [
        {
          "data": {
            "text/html": [
              "<div>\n",
              "<style scoped>\n",
              "    .dataframe tbody tr th:only-of-type {\n",
              "        vertical-align: middle;\n",
              "    }\n",
              "\n",
              "    .dataframe tbody tr th {\n",
              "        vertical-align: top;\n",
              "    }\n",
              "\n",
              "    .dataframe thead th {\n",
              "        text-align: right;\n",
              "    }\n",
              "</style>\n",
              "<table border=\"1\" class=\"dataframe\">\n",
              "  <thead>\n",
              "    <tr style=\"text-align: right;\">\n",
              "      <th></th>\n",
              "      <th>종가</th>\n",
              "      <th>거래량</th>\n",
              "      <th>시가</th>\n",
              "      <th>고가</th>\n",
              "      <th>저가</th>\n",
              "    </tr>\n",
              "  </thead>\n",
              "  <tbody>\n",
              "    <tr>\n",
              "      <th>2019-06-21</th>\n",
              "      <td>113000.0</td>\n",
              "      <td>555850.0</td>\n",
              "      <td>NaN</td>\n",
              "      <td>NaN</td>\n",
              "      <td>NaN</td>\n",
              "    </tr>\n",
              "    <tr>\n",
              "      <th>2019-06-20</th>\n",
              "      <td>111500.0</td>\n",
              "      <td>282163.0</td>\n",
              "      <td>112500.0</td>\n",
              "      <td>115000.0</td>\n",
              "      <td>111500.0</td>\n",
              "    </tr>\n",
              "    <tr>\n",
              "      <th>2019-06-19</th>\n",
              "      <td>NaN</td>\n",
              "      <td>NaN</td>\n",
              "      <td>110000.0</td>\n",
              "      <td>112000.0</td>\n",
              "      <td>109000.0</td>\n",
              "    </tr>\n",
              "  </tbody>\n",
              "</table>\n",
              "</div>"
            ],
            "text/plain": [
              "                  종가       거래량        시가        고가        저가\n",
              "2019-06-21  113000.0  555850.0       NaN       NaN       NaN\n",
              "2019-06-20  111500.0  282163.0  112500.0  115000.0  111500.0\n",
              "2019-06-19       NaN       NaN  110000.0  112000.0  109000.0"
            ]
          },
          "execution_count": 27,
          "metadata": {},
          "output_type": "execute_result"
        }
      ],
      "source": [
        "df = pd.concat([df1, df2], axis=1, join='outer')\n",
        "df"
      ]
    },
    {
      "cell_type": "markdown",
      "id": "f8ba7a93-2534-4fca-ac08-7bb6918d194d",
      "metadata": {
        "id": "f8ba7a93-2534-4fca-ac08-7bb6918d194d"
      },
      "source": [
        "### 5.7 위/아래로 붙이기\n",
        "\n",
        "> 컬럼을 기준으로 정렬한 후 위/아래로 붙임\n",
        "\n",
        "> **append** 메서드 사용: 원본 데이터 수정이 아니라 결과가 저장된 새로운 데이터 프레임을 반환"
      ]
    },
    {
      "cell_type": "code",
      "execution_count": null,
      "id": "654305a3-c2f1-47e1-8654-7be46db3f75a",
      "metadata": {
        "id": "654305a3-c2f1-47e1-8654-7be46db3f75a",
        "outputId": "20560f22-4bac-4538-adf0-d09183a12fee",
        "colab": {
          "base_uri": "https://localhost:8080/",
          "height": 329
        }
      },
      "outputs": [
        {
          "output_type": "error",
          "ename": "AttributeError",
          "evalue": "'DataFrame' object has no attribute 'append'",
          "traceback": [
            "\u001b[0;31m---------------------------------------------------------------------------\u001b[0m",
            "\u001b[0;31mAttributeError\u001b[0m                            Traceback (most recent call last)",
            "\u001b[0;32m<ipython-input-7-f5d373aa3413>\u001b[0m in \u001b[0;36m<cell line: 18>\u001b[0;34m()\u001b[0m\n\u001b[1;32m     16\u001b[0m \u001b[0mdf2\u001b[0m \u001b[0;34m=\u001b[0m \u001b[0mDataFrame\u001b[0m\u001b[0;34m(\u001b[0m\u001b[0mdata\u001b[0m\u001b[0;34m,\u001b[0m \u001b[0mindex\u001b[0m\u001b[0;34m=\u001b[0m\u001b[0mindex\u001b[0m\u001b[0;34m)\u001b[0m\u001b[0;34m\u001b[0m\u001b[0;34m\u001b[0m\u001b[0m\n\u001b[1;32m     17\u001b[0m \u001b[0;34m\u001b[0m\u001b[0m\n\u001b[0;32m---> 18\u001b[0;31m \u001b[0mdf\u001b[0m \u001b[0;34m=\u001b[0m \u001b[0mdf1\u001b[0m\u001b[0;34m.\u001b[0m\u001b[0mappend\u001b[0m\u001b[0;34m(\u001b[0m\u001b[0mdf2\u001b[0m\u001b[0;34m)\u001b[0m \u001b[0;31m#append 메서드 사용해 추가\u001b[0m\u001b[0;34m\u001b[0m\u001b[0;34m\u001b[0m\u001b[0m\n\u001b[0m\u001b[1;32m     19\u001b[0m \u001b[0mprint\u001b[0m\u001b[0;34m(\u001b[0m\u001b[0mdf\u001b[0m\u001b[0;34m)\u001b[0m\u001b[0;34m\u001b[0m\u001b[0;34m\u001b[0m\u001b[0m\n",
            "\u001b[0;32m/usr/local/lib/python3.10/dist-packages/pandas/core/generic.py\u001b[0m in \u001b[0;36m__getattr__\u001b[0;34m(self, name)\u001b[0m\n\u001b[1;32m   6202\u001b[0m         ):\n\u001b[1;32m   6203\u001b[0m             \u001b[0;32mreturn\u001b[0m \u001b[0mself\u001b[0m\u001b[0;34m[\u001b[0m\u001b[0mname\u001b[0m\u001b[0;34m]\u001b[0m\u001b[0;34m\u001b[0m\u001b[0;34m\u001b[0m\u001b[0m\n\u001b[0;32m-> 6204\u001b[0;31m         \u001b[0;32mreturn\u001b[0m \u001b[0mobject\u001b[0m\u001b[0;34m.\u001b[0m\u001b[0m__getattribute__\u001b[0m\u001b[0;34m(\u001b[0m\u001b[0mself\u001b[0m\u001b[0;34m,\u001b[0m \u001b[0mname\u001b[0m\u001b[0;34m)\u001b[0m\u001b[0;34m\u001b[0m\u001b[0;34m\u001b[0m\u001b[0m\n\u001b[0m\u001b[1;32m   6205\u001b[0m \u001b[0;34m\u001b[0m\u001b[0m\n\u001b[1;32m   6206\u001b[0m     \u001b[0;34m@\u001b[0m\u001b[0mfinal\u001b[0m\u001b[0;34m\u001b[0m\u001b[0;34m\u001b[0m\u001b[0m\n",
            "\u001b[0;31mAttributeError\u001b[0m: 'DataFrame' object has no attribute 'append'"
          ]
        }
      ],
      "source": [
        "from pandas import DataFrame\n",
        "import pandas as pd\n",
        "\n",
        "data = {\n",
        "    '종가': [113000, 111500],\n",
        "    '거래량': [555850, 282163]\n",
        "}\n",
        "index = [\"2019-06-21\", \"2019-06-20\"]\n",
        "df1 = DataFrame(data, index=index)\n",
        "\n",
        "data = {\n",
        "    '종가': [110000, 483689],\n",
        "    '거래량': [109000, 791946]\n",
        "}\n",
        "index = [\"2019-06-19\", \"2019-06-18\"]\n",
        "df2 = DataFrame(data, index=index)\n",
        "\n",
        "df = df1.append(df2) #append 메서드 사용해 추가\n",
        "print(df)"
      ]
    },
    {
      "cell_type": "markdown",
      "source": [
        "> 원래는 두 개의 df에는 append 메서드, 여러 개에는 concat이었음\n",
        "\n",
        "> 하지만, 최신 버전의 pandas에서 DataFrame 객체의 append 메서드가 더 이상 지원되지 않음\n"
      ],
      "metadata": {
        "id": "Dp_8k0ZBAkNd"
      },
      "id": "Dp_8k0ZBAkNd"
    },
    {
      "cell_type": "code",
      "execution_count": null,
      "id": "c6f66913-6251-4d5a-947f-9191bd4c486c",
      "metadata": {
        "id": "c6f66913-6251-4d5a-947f-9191bd4c486c",
        "outputId": "aa9febdb-6a6e-4208-b772-95fe4e9e6019",
        "colab": {
          "base_uri": "https://localhost:8080/"
        }
      },
      "outputs": [
        {
          "output_type": "stream",
          "name": "stdout",
          "text": [
            "                종가     거래량\n",
            "2019-06-21  113000  555850\n",
            "2019-06-20  111500  282163\n",
            "2019-06-19  110000  109000\n",
            "2019-06-18  483689  791946\n"
          ]
        }
      ],
      "source": [
        "df = pd.concat([df1, df2])\n",
        "print(df)"
      ]
    },
    {
      "cell_type": "markdown",
      "id": "23a16727-16a6-4ddd-a0f0-07dcdb9ca74c",
      "metadata": {
        "id": "23a16727-16a6-4ddd-a0f0-07dcdb9ca74c"
      },
      "source": [
        "### 5.8 Merge\n",
        "\n",
        "> merge는 특정 **컬럼 값을 기준**으로 데이터 **병합**\n",
        "\n",
        "> '연결'하는 concat과 다름"
      ]
    },
    {
      "cell_type": "code",
      "execution_count": null,
      "id": "6fafc31c-4fe6-431b-8aee-e5be86730a14",
      "metadata": {
        "id": "6fafc31c-4fe6-431b-8aee-e5be86730a14"
      },
      "outputs": [],
      "source": [
        "from pandas import DataFrame\n",
        "import pandas as pd\n",
        "\n",
        "data = [\n",
        "    ['전기전자', '005930', '삼성전자', 74400],\n",
        "    ['화학', '051910', 'LG화학', 896000],\n",
        "    ['전기전자', '000660', 'SK하이닉스', 101500]\n",
        "]\n",
        "\n",
        "columns = ['업종', '종목코드', '종목명', '현재가']\n",
        "df1 = DataFrame(data=data, columns=columns)\n",
        "\n",
        "data = [\n",
        "    ['은행', 2.92],\n",
        "    ['보험', 0.37],\n",
        "    ['화학', 0.06],\n",
        "    ['전기전자', -2.43]\n",
        "]\n",
        "\n",
        "columns = ['업종', '등락률']\n",
        "df2 = DataFrame(data=data, columns=columns)"
      ]
    },
    {
      "cell_type": "markdown",
      "source": [
        "> df를 합칠 기준값(컬럼명)을 **on** 파라미터에 지정\n",
        "\n",
        "> 합칠 df는 **left**와 **right** 파라미터에 각각 연결"
      ],
      "metadata": {
        "id": "Q_4DDO0DCsZd"
      },
      "id": "Q_4DDO0DCsZd"
    },
    {
      "cell_type": "code",
      "execution_count": null,
      "id": "31cff1ea",
      "metadata": {
        "scrolled": false,
        "id": "31cff1ea",
        "outputId": "73062fb5-694a-4d98-841b-2e01ddab0728",
        "colab": {
          "base_uri": "https://localhost:8080/"
        }
      },
      "outputs": [
        {
          "output_type": "stream",
          "name": "stdout",
          "text": [
            "     업종    종목코드     종목명     현재가   등락률\n",
            "0  전기전자  005930    삼성전자   74400 -2.43\n",
            "1  전기전자  000660  SK하이닉스  101500 -2.43\n",
            "2    화학  051910    LG화학  896000  0.06\n"
          ]
        }
      ],
      "source": [
        "df = pd.merge(left=df1, right=df2, on='업종')\n",
        "print(df)"
      ]
    },
    {
      "cell_type": "markdown",
      "source": [
        "> **how** 파라미터로 합치는 방법 지정 가능 (inner, outer 모드)"
      ],
      "metadata": {
        "id": "D08wERBuDw7a"
      },
      "id": "D08wERBuDw7a"
    },
    {
      "cell_type": "code",
      "execution_count": null,
      "id": "8a7c7402-4c87-4821-839d-98b13eb1c337",
      "metadata": {
        "scrolled": false,
        "id": "8a7c7402-4c87-4821-839d-98b13eb1c337",
        "outputId": "32f60fc1-8755-46a8-fcd0-9e07e8fb3d1b",
        "colab": {
          "base_uri": "https://localhost:8080/"
        }
      },
      "outputs": [
        {
          "output_type": "stream",
          "name": "stdout",
          "text": [
            "     업종    종목코드     종목명     현재가   등락률\n",
            "0  전기전자  005930    삼성전자   74400 -2.43\n",
            "1  전기전자  000660  SK하이닉스  101500 -2.43\n",
            "2    화학  051910    LG화학  896000  0.06\n"
          ]
        }
      ],
      "source": [
        "df = pd.merge(left=df1, right=df2, how='inner', on='업종')\n",
        "print(df)"
      ]
    },
    {
      "cell_type": "code",
      "execution_count": null,
      "id": "c13d55db-fe70-458c-8246-250c9bd41e3f",
      "metadata": {
        "id": "c13d55db-fe70-458c-8246-250c9bd41e3f",
        "outputId": "10b45d2d-9c8c-49e7-f5eb-2c630fac15e1",
        "colab": {
          "base_uri": "https://localhost:8080/"
        }
      },
      "outputs": [
        {
          "output_type": "stream",
          "name": "stdout",
          "text": [
            "     업종    종목코드     종목명       현재가   등락률\n",
            "0  전기전자  005930    삼성전자   74400.0 -2.43\n",
            "1  전기전자  000660  SK하이닉스  101500.0 -2.43\n",
            "2    화학  051910    LG화학  896000.0  0.06\n",
            "3    은행     NaN     NaN       NaN  2.92\n",
            "4    보험     NaN     NaN       NaN  0.37\n"
          ]
        }
      ],
      "source": [
        "df = pd.merge(left=df1, right=df2, how='outer', on='업종')\n",
        "print(df)"
      ]
    },
    {
      "cell_type": "markdown",
      "source": [
        "> **left, right** 옵션: 해당 파라미터에 입력된 df 기준으로 병합"
      ],
      "metadata": {
        "id": "vVpz-lUAEIMJ"
      },
      "id": "vVpz-lUAEIMJ"
    },
    {
      "cell_type": "code",
      "execution_count": null,
      "id": "f4db6e0f",
      "metadata": {
        "id": "f4db6e0f"
      },
      "outputs": [],
      "source": [
        "from pandas import DataFrame\n",
        "import pandas as pd\n",
        "\n",
        "data = [\n",
        "    ['전기전자', '005930', '삼성전자', 74400],\n",
        "    ['화학', '051910', 'LG화학', 896000],\n",
        "    ['서비스업', '035720', '카카오', 121500]\n",
        "]\n",
        "\n",
        "columns = ['업종', '종목코드', '종목명', '현재가']\n",
        "df1 = DataFrame(data=data, columns=columns)\n",
        "\n",
        "data = [\n",
        "    ['은행', 2.92],\n",
        "    ['보험', 0.37],\n",
        "    ['화학', 0.06],\n",
        "    ['전기전자', -2.43]\n",
        "]\n",
        "\n",
        "columns = ['업종', '등락률']\n",
        "df2 = DataFrame(data=data, columns=columns)"
      ]
    },
    {
      "cell_type": "code",
      "execution_count": null,
      "id": "978b3247",
      "metadata": {
        "id": "978b3247",
        "outputId": "ec0f09a1-797b-4dc0-ed4b-8e3ded9ec0dc",
        "colab": {
          "base_uri": "https://localhost:8080/"
        }
      },
      "outputs": [
        {
          "output_type": "stream",
          "name": "stdout",
          "text": [
            "     업종    종목코드   종목명     현재가   등락률\n",
            "0  전기전자  005930  삼성전자   74400 -2.43\n",
            "1    화학  051910  LG화학  896000  0.06\n",
            "2  서비스업  035720   카카오  121500   NaN\n"
          ]
        }
      ],
      "source": [
        "df = pd.merge(left=df1, right=df2, how='left', on='업종')\n",
        "print(df)"
      ]
    },
    {
      "cell_type": "markdown",
      "source": [
        "> df의 컬럼이 다를 때\n",
        "\n",
        "> 합칠 기준이 되는 각 컬럼의 이름을 **on**에 모두 입력(**left_on, right_on**)"
      ],
      "metadata": {
        "id": "trTEmdLEFGEw"
      },
      "id": "trTEmdLEFGEw"
    },
    {
      "cell_type": "code",
      "execution_count": null,
      "id": "ab4c1365",
      "metadata": {
        "id": "ab4c1365"
      },
      "outputs": [],
      "source": [
        "data = [\n",
        "    ['전기전자', '005930', '삼성전자', 74400],\n",
        "    ['화학', '051910', 'LG화학', 896000],\n",
        "    ['서비스업', '035720', '카카오', 121500]\n",
        "]\n",
        "\n",
        "columns = ['업종', '종목코드', '종목명', '현재가']\n",
        "df1 = DataFrame(data=data, columns=columns)\n",
        "\n",
        "data = [\n",
        "    ['은행', 2.92],\n",
        "    ['보험', 0.37],\n",
        "    ['화학', 0.06],\n",
        "    ['전기전자', -2.43]\n",
        "]\n",
        "\n",
        "columns = ['항목', '등락률']\n",
        "df2 = DataFrame(data=data, columns=columns)"
      ]
    },
    {
      "cell_type": "code",
      "execution_count": null,
      "id": "4829e106",
      "metadata": {
        "id": "4829e106",
        "outputId": "5aea76ed-4832-4e26-bf4b-9bae97ed1b4e",
        "colab": {
          "base_uri": "https://localhost:8080/"
        }
      },
      "outputs": [
        {
          "output_type": "stream",
          "name": "stdout",
          "text": [
            "     업종    종목코드   종목명     현재가    항목   등락률\n",
            "0  전기전자  005930  삼성전자   74400  전기전자 -2.43\n",
            "1    화학  051910  LG화학  896000    화학  0.06\n"
          ]
        }
      ],
      "source": [
        "df = pd.merge(left=df1, right=df2, left_on='업종', right_on='항목')\n",
        "print(df)"
      ]
    },
    {
      "cell_type": "markdown",
      "id": "8d6a0346-d323-4d0f-bc95-01495064e018",
      "metadata": {
        "id": "8d6a0346-d323-4d0f-bc95-01495064e018"
      },
      "source": [
        "### 5.9 Join\n",
        "\n",
        "> **인덱스를 기준**으로 **병합**"
      ]
    },
    {
      "cell_type": "code",
      "execution_count": null,
      "id": "9d0db219-57ae-4906-a75a-7150eb9f9d2b",
      "metadata": {
        "id": "9d0db219-57ae-4906-a75a-7150eb9f9d2b"
      },
      "outputs": [],
      "source": [
        "data = [\n",
        "    ['전기전자', '005930', '삼성전자', 74400],\n",
        "    ['화학', '051910', 'LG화학', 896000],\n",
        "    ['서비스업', '035720', '카카오', 121500]\n",
        "]\n",
        "\n",
        "columns = ['업종', '종목코드', '종목명', '현재가']\n",
        "df1 = DataFrame(data=data, columns=columns)\n",
        "df1 = df1.set_index('업종')\n",
        "\n",
        "data = [\n",
        "    ['은행', 2.92],\n",
        "    ['보험', 0.37],\n",
        "    ['화학', 0.06],\n",
        "    ['전기전자', -2.43]\n",
        "]\n",
        "\n",
        "columns = ['항목', '등락률']\n",
        "df2 = DataFrame(data=data, columns=columns)\n",
        "df2 = df2.set_index('항목')"
      ]
    },
    {
      "cell_type": "markdown",
      "source": [
        "> **other** 파라미터로 병합할 df 전달\n",
        "\n",
        "> how 파라미터로 **left/right/outer/inner** 옵션 지정(기본은 left 옵션)\n"
      ],
      "metadata": {
        "id": "uhA_nPFuRLwl"
      },
      "id": "uhA_nPFuRLwl"
    },
    {
      "cell_type": "code",
      "execution_count": null,
      "id": "2c59c222-a1ca-45ee-8da9-0bfadce56aa7",
      "metadata": {
        "id": "2c59c222-a1ca-45ee-8da9-0bfadce56aa7",
        "outputId": "ef68d980-e737-45aa-c2fd-32e295455c3f",
        "colab": {
          "base_uri": "https://localhost:8080/",
          "height": 175
        }
      },
      "outputs": [
        {
          "output_type": "execute_result",
          "data": {
            "text/plain": [
              "        종목코드   종목명     현재가   등락률\n",
              "업종                              \n",
              "전기전자  005930  삼성전자   74400 -2.43\n",
              "화학    051910  LG화학  896000  0.06\n",
              "서비스업  035720   카카오  121500   NaN"
            ],
            "text/html": [
              "\n",
              "  <div id=\"df-c744f756-92a1-44d2-b6ee-6df0f5e6076a\" class=\"colab-df-container\">\n",
              "    <div>\n",
              "<style scoped>\n",
              "    .dataframe tbody tr th:only-of-type {\n",
              "        vertical-align: middle;\n",
              "    }\n",
              "\n",
              "    .dataframe tbody tr th {\n",
              "        vertical-align: top;\n",
              "    }\n",
              "\n",
              "    .dataframe thead th {\n",
              "        text-align: right;\n",
              "    }\n",
              "</style>\n",
              "<table border=\"1\" class=\"dataframe\">\n",
              "  <thead>\n",
              "    <tr style=\"text-align: right;\">\n",
              "      <th></th>\n",
              "      <th>종목코드</th>\n",
              "      <th>종목명</th>\n",
              "      <th>현재가</th>\n",
              "      <th>등락률</th>\n",
              "    </tr>\n",
              "    <tr>\n",
              "      <th>업종</th>\n",
              "      <th></th>\n",
              "      <th></th>\n",
              "      <th></th>\n",
              "      <th></th>\n",
              "    </tr>\n",
              "  </thead>\n",
              "  <tbody>\n",
              "    <tr>\n",
              "      <th>전기전자</th>\n",
              "      <td>005930</td>\n",
              "      <td>삼성전자</td>\n",
              "      <td>74400</td>\n",
              "      <td>-2.43</td>\n",
              "    </tr>\n",
              "    <tr>\n",
              "      <th>화학</th>\n",
              "      <td>051910</td>\n",
              "      <td>LG화학</td>\n",
              "      <td>896000</td>\n",
              "      <td>0.06</td>\n",
              "    </tr>\n",
              "    <tr>\n",
              "      <th>서비스업</th>\n",
              "      <td>035720</td>\n",
              "      <td>카카오</td>\n",
              "      <td>121500</td>\n",
              "      <td>NaN</td>\n",
              "    </tr>\n",
              "  </tbody>\n",
              "</table>\n",
              "</div>\n",
              "    <div class=\"colab-df-buttons\">\n",
              "\n",
              "  <div class=\"colab-df-container\">\n",
              "    <button class=\"colab-df-convert\" onclick=\"convertToInteractive('df-c744f756-92a1-44d2-b6ee-6df0f5e6076a')\"\n",
              "            title=\"Convert this dataframe to an interactive table.\"\n",
              "            style=\"display:none;\">\n",
              "\n",
              "  <svg xmlns=\"http://www.w3.org/2000/svg\" height=\"24px\" viewBox=\"0 -960 960 960\">\n",
              "    <path d=\"M120-120v-720h720v720H120Zm60-500h600v-160H180v160Zm220 220h160v-160H400v160Zm0 220h160v-160H400v160ZM180-400h160v-160H180v160Zm440 0h160v-160H620v160ZM180-180h160v-160H180v160Zm440 0h160v-160H620v160Z\"/>\n",
              "  </svg>\n",
              "    </button>\n",
              "\n",
              "  <style>\n",
              "    .colab-df-container {\n",
              "      display:flex;\n",
              "      gap: 12px;\n",
              "    }\n",
              "\n",
              "    .colab-df-convert {\n",
              "      background-color: #E8F0FE;\n",
              "      border: none;\n",
              "      border-radius: 50%;\n",
              "      cursor: pointer;\n",
              "      display: none;\n",
              "      fill: #1967D2;\n",
              "      height: 32px;\n",
              "      padding: 0 0 0 0;\n",
              "      width: 32px;\n",
              "    }\n",
              "\n",
              "    .colab-df-convert:hover {\n",
              "      background-color: #E2EBFA;\n",
              "      box-shadow: 0px 1px 2px rgba(60, 64, 67, 0.3), 0px 1px 3px 1px rgba(60, 64, 67, 0.15);\n",
              "      fill: #174EA6;\n",
              "    }\n",
              "\n",
              "    .colab-df-buttons div {\n",
              "      margin-bottom: 4px;\n",
              "    }\n",
              "\n",
              "    [theme=dark] .colab-df-convert {\n",
              "      background-color: #3B4455;\n",
              "      fill: #D2E3FC;\n",
              "    }\n",
              "\n",
              "    [theme=dark] .colab-df-convert:hover {\n",
              "      background-color: #434B5C;\n",
              "      box-shadow: 0px 1px 3px 1px rgba(0, 0, 0, 0.15);\n",
              "      filter: drop-shadow(0px 1px 2px rgba(0, 0, 0, 0.3));\n",
              "      fill: #FFFFFF;\n",
              "    }\n",
              "  </style>\n",
              "\n",
              "    <script>\n",
              "      const buttonEl =\n",
              "        document.querySelector('#df-c744f756-92a1-44d2-b6ee-6df0f5e6076a button.colab-df-convert');\n",
              "      buttonEl.style.display =\n",
              "        google.colab.kernel.accessAllowed ? 'block' : 'none';\n",
              "\n",
              "      async function convertToInteractive(key) {\n",
              "        const element = document.querySelector('#df-c744f756-92a1-44d2-b6ee-6df0f5e6076a');\n",
              "        const dataTable =\n",
              "          await google.colab.kernel.invokeFunction('convertToInteractive',\n",
              "                                                    [key], {});\n",
              "        if (!dataTable) return;\n",
              "\n",
              "        const docLinkHtml = 'Like what you see? Visit the ' +\n",
              "          '<a target=\"_blank\" href=https://colab.research.google.com/notebooks/data_table.ipynb>data table notebook</a>'\n",
              "          + ' to learn more about interactive tables.';\n",
              "        element.innerHTML = '';\n",
              "        dataTable['output_type'] = 'display_data';\n",
              "        await google.colab.output.renderOutput(dataTable, element);\n",
              "        const docLink = document.createElement('div');\n",
              "        docLink.innerHTML = docLinkHtml;\n",
              "        element.appendChild(docLink);\n",
              "      }\n",
              "    </script>\n",
              "  </div>\n",
              "\n",
              "\n",
              "<div id=\"df-e7eb969f-20fd-4943-a648-b951a6933f0c\">\n",
              "  <button class=\"colab-df-quickchart\" onclick=\"quickchart('df-e7eb969f-20fd-4943-a648-b951a6933f0c')\"\n",
              "            title=\"Suggest charts\"\n",
              "            style=\"display:none;\">\n",
              "\n",
              "<svg xmlns=\"http://www.w3.org/2000/svg\" height=\"24px\"viewBox=\"0 0 24 24\"\n",
              "     width=\"24px\">\n",
              "    <g>\n",
              "        <path d=\"M19 3H5c-1.1 0-2 .9-2 2v14c0 1.1.9 2 2 2h14c1.1 0 2-.9 2-2V5c0-1.1-.9-2-2-2zM9 17H7v-7h2v7zm4 0h-2V7h2v10zm4 0h-2v-4h2v4z\"/>\n",
              "    </g>\n",
              "</svg>\n",
              "  </button>\n",
              "\n",
              "<style>\n",
              "  .colab-df-quickchart {\n",
              "      --bg-color: #E8F0FE;\n",
              "      --fill-color: #1967D2;\n",
              "      --hover-bg-color: #E2EBFA;\n",
              "      --hover-fill-color: #174EA6;\n",
              "      --disabled-fill-color: #AAA;\n",
              "      --disabled-bg-color: #DDD;\n",
              "  }\n",
              "\n",
              "  [theme=dark] .colab-df-quickchart {\n",
              "      --bg-color: #3B4455;\n",
              "      --fill-color: #D2E3FC;\n",
              "      --hover-bg-color: #434B5C;\n",
              "      --hover-fill-color: #FFFFFF;\n",
              "      --disabled-bg-color: #3B4455;\n",
              "      --disabled-fill-color: #666;\n",
              "  }\n",
              "\n",
              "  .colab-df-quickchart {\n",
              "    background-color: var(--bg-color);\n",
              "    border: none;\n",
              "    border-radius: 50%;\n",
              "    cursor: pointer;\n",
              "    display: none;\n",
              "    fill: var(--fill-color);\n",
              "    height: 32px;\n",
              "    padding: 0;\n",
              "    width: 32px;\n",
              "  }\n",
              "\n",
              "  .colab-df-quickchart:hover {\n",
              "    background-color: var(--hover-bg-color);\n",
              "    box-shadow: 0 1px 2px rgba(60, 64, 67, 0.3), 0 1px 3px 1px rgba(60, 64, 67, 0.15);\n",
              "    fill: var(--button-hover-fill-color);\n",
              "  }\n",
              "\n",
              "  .colab-df-quickchart-complete:disabled,\n",
              "  .colab-df-quickchart-complete:disabled:hover {\n",
              "    background-color: var(--disabled-bg-color);\n",
              "    fill: var(--disabled-fill-color);\n",
              "    box-shadow: none;\n",
              "  }\n",
              "\n",
              "  .colab-df-spinner {\n",
              "    border: 2px solid var(--fill-color);\n",
              "    border-color: transparent;\n",
              "    border-bottom-color: var(--fill-color);\n",
              "    animation:\n",
              "      spin 1s steps(1) infinite;\n",
              "  }\n",
              "\n",
              "  @keyframes spin {\n",
              "    0% {\n",
              "      border-color: transparent;\n",
              "      border-bottom-color: var(--fill-color);\n",
              "      border-left-color: var(--fill-color);\n",
              "    }\n",
              "    20% {\n",
              "      border-color: transparent;\n",
              "      border-left-color: var(--fill-color);\n",
              "      border-top-color: var(--fill-color);\n",
              "    }\n",
              "    30% {\n",
              "      border-color: transparent;\n",
              "      border-left-color: var(--fill-color);\n",
              "      border-top-color: var(--fill-color);\n",
              "      border-right-color: var(--fill-color);\n",
              "    }\n",
              "    40% {\n",
              "      border-color: transparent;\n",
              "      border-right-color: var(--fill-color);\n",
              "      border-top-color: var(--fill-color);\n",
              "    }\n",
              "    60% {\n",
              "      border-color: transparent;\n",
              "      border-right-color: var(--fill-color);\n",
              "    }\n",
              "    80% {\n",
              "      border-color: transparent;\n",
              "      border-right-color: var(--fill-color);\n",
              "      border-bottom-color: var(--fill-color);\n",
              "    }\n",
              "    90% {\n",
              "      border-color: transparent;\n",
              "      border-bottom-color: var(--fill-color);\n",
              "    }\n",
              "  }\n",
              "</style>\n",
              "\n",
              "  <script>\n",
              "    async function quickchart(key) {\n",
              "      const quickchartButtonEl =\n",
              "        document.querySelector('#' + key + ' button');\n",
              "      quickchartButtonEl.disabled = true;  // To prevent multiple clicks.\n",
              "      quickchartButtonEl.classList.add('colab-df-spinner');\n",
              "      try {\n",
              "        const charts = await google.colab.kernel.invokeFunction(\n",
              "            'suggestCharts', [key], {});\n",
              "      } catch (error) {\n",
              "        console.error('Error during call to suggestCharts:', error);\n",
              "      }\n",
              "      quickchartButtonEl.classList.remove('colab-df-spinner');\n",
              "      quickchartButtonEl.classList.add('colab-df-quickchart-complete');\n",
              "    }\n",
              "    (() => {\n",
              "      let quickchartButtonEl =\n",
              "        document.querySelector('#df-e7eb969f-20fd-4943-a648-b951a6933f0c button');\n",
              "      quickchartButtonEl.style.display =\n",
              "        google.colab.kernel.accessAllowed ? 'block' : 'none';\n",
              "    })();\n",
              "  </script>\n",
              "</div>\n",
              "\n",
              "    </div>\n",
              "  </div>\n"
            ],
            "application/vnd.google.colaboratory.intrinsic+json": {
              "type": "dataframe",
              "summary": "{\n  \"name\": \"df1\",\n  \"rows\": 3,\n  \"fields\": [\n    {\n      \"column\": \"\\uc5c5\\uc885\",\n      \"properties\": {\n        \"dtype\": \"string\",\n        \"num_unique_values\": 3,\n        \"samples\": [\n          \"\\uc804\\uae30\\uc804\\uc790\",\n          \"\\ud654\\ud559\",\n          \"\\uc11c\\ube44\\uc2a4\\uc5c5\"\n        ],\n        \"semantic_type\": \"\",\n        \"description\": \"\"\n      }\n    },\n    {\n      \"column\": \"\\uc885\\ubaa9\\ucf54\\ub4dc\",\n      \"properties\": {\n        \"dtype\": \"string\",\n        \"num_unique_values\": 3,\n        \"samples\": [\n          \"005930\",\n          \"051910\",\n          \"035720\"\n        ],\n        \"semantic_type\": \"\",\n        \"description\": \"\"\n      }\n    },\n    {\n      \"column\": \"\\uc885\\ubaa9\\uba85\",\n      \"properties\": {\n        \"dtype\": \"string\",\n        \"num_unique_values\": 3,\n        \"samples\": [\n          \"\\uc0bc\\uc131\\uc804\\uc790\",\n          \"LG\\ud654\\ud559\",\n          \"\\uce74\\uce74\\uc624\"\n        ],\n        \"semantic_type\": \"\",\n        \"description\": \"\"\n      }\n    },\n    {\n      \"column\": \"\\ud604\\uc7ac\\uac00\",\n      \"properties\": {\n        \"dtype\": \"number\",\n        \"std\": 461355,\n        \"min\": 74400,\n        \"max\": 896000,\n        \"num_unique_values\": 3,\n        \"samples\": [\n          74400,\n          896000,\n          121500\n        ],\n        \"semantic_type\": \"\",\n        \"description\": \"\"\n      }\n    },\n    {\n      \"column\": \"\\ub4f1\\ub77d\\ub960\",\n      \"properties\": {\n        \"dtype\": \"number\",\n        \"std\": 1.7606958851545034,\n        \"min\": -2.43,\n        \"max\": 0.06,\n        \"num_unique_values\": 2,\n        \"samples\": [\n          0.06,\n          -2.43\n        ],\n        \"semantic_type\": \"\",\n        \"description\": \"\"\n      }\n    }\n  ]\n}"
            }
          },
          "metadata": {},
          "execution_count": 22
        }
      ],
      "source": [
        "df1.join(other=df2)"
      ]
    },
    {
      "cell_type": "markdown",
      "source": [
        "> 예제: 시가총액 사용해 대형주와 중/소형주로 구분"
      ],
      "metadata": {
        "id": "fQ3gb7W2R1lM"
      },
      "id": "fQ3gb7W2R1lM"
    },
    {
      "cell_type": "code",
      "execution_count": null,
      "id": "f016039b-037e-4ed1-a7c3-4f84acc35d6a",
      "metadata": {
        "scrolled": true,
        "id": "f016039b-037e-4ed1-a7c3-4f84acc35d6a",
        "outputId": "ceca38aa-e7ed-4552-b1a1-e32f4d419dc9",
        "colab": {
          "base_uri": "https://localhost:8080/"
        }
      },
      "outputs": [
        {
          "output_type": "stream",
          "name": "stdout",
          "text": [
            "     연도      회사  시가총액\n",
            "0  2017      삼성   500\n",
            "1  2017      LG   300\n",
            "2  2017  SK하이닉스   200\n",
            "3  2018      삼성   600\n",
            "4  2018      LG   400\n",
            "5  2018  SK하이닉스   300\n"
          ]
        }
      ],
      "source": [
        "data = [\n",
        "    ['2017', '삼성', 500],\n",
        "    ['2017', 'LG', 300],\n",
        "    ['2017', 'SK하이닉스', 200],\n",
        "    ['2018', '삼성', 600],\n",
        "    ['2018', 'LG', 400],\n",
        "    ['2018', 'SK하이닉스', 300],\n",
        "]\n",
        "\n",
        "columns = ['연도', '회사', '시가총액']\n",
        "df = DataFrame(data=data, columns=columns)\n",
        "print(df)"
      ]
    },
    {
      "cell_type": "markdown",
      "source": [
        "> groupby로 연도별 시가총액의 평균 계산\n",
        "\n",
        "\n",
        "*   문자열은 자동으로 제거\n",
        "*   **to_frame** 메서드 사용하여 df으로 변환 <- 반환되는 컬럼이 시가총액 하나라서 시리즈이기 때문\n"
      ],
      "metadata": {
        "id": "1j8lXM0aSWhs"
      },
      "id": "1j8lXM0aSWhs"
    },
    {
      "cell_type": "code",
      "execution_count": null,
      "id": "2766d2d0-443c-47d1-97f2-3fd6db5b4c65",
      "metadata": {
        "id": "2766d2d0-443c-47d1-97f2-3fd6db5b4c65",
        "outputId": "450f1a3f-dfa6-4db5-f222-71f40a1deedc",
        "colab": {
          "base_uri": "https://localhost:8080/"
        }
      },
      "outputs": [
        {
          "output_type": "stream",
          "name": "stdout",
          "text": [
            "          시가총액평균\n",
            "연도              \n",
            "2017  333.333333\n",
            "2018  433.333333\n"
          ]
        }
      ],
      "source": [
        "df_mean = df.groupby('연도')['시가총액'].mean().to_frame()\n",
        "df_mean.columns = ['시가총액평균']\n",
        "print(df_mean)"
      ]
    },
    {
      "cell_type": "markdown",
      "source": [
        "> 원본 df에 df_mean 병합"
      ],
      "metadata": {
        "id": "-kyWatD5TaL8"
      },
      "id": "-kyWatD5TaL8"
    },
    {
      "cell_type": "code",
      "execution_count": null,
      "id": "32faaf8d-8b68-4d5d-bd6a-77e7acdedf6c",
      "metadata": {
        "id": "32faaf8d-8b68-4d5d-bd6a-77e7acdedf6c",
        "colab": {
          "base_uri": "https://localhost:8080/"
        },
        "outputId": "4320250b-c273-4286-e99a-bd3880e66582"
      },
      "outputs": [
        {
          "output_type": "stream",
          "name": "stdout",
          "text": [
            "     연도      회사  시가총액      시가총액평균\n",
            "0  2017      삼성   500  333.333333\n",
            "1  2017      LG   300  333.333333\n",
            "2  2017  SK하이닉스   200  333.333333\n",
            "3  2018      삼성   600  433.333333\n",
            "4  2018      LG   400  433.333333\n",
            "5  2018  SK하이닉스   300  433.333333\n"
          ]
        }
      ],
      "source": [
        "df = df.join(df_mean, on='연도')\n",
        "print(df)"
      ]
    },
    {
      "cell_type": "markdown",
      "source": [
        "> 대형주(시가총액 >= 시가총액평균), 중/소형주로 구분"
      ],
      "metadata": {
        "id": "AL6BcegrTjfc"
      },
      "id": "AL6BcegrTjfc"
    },
    {
      "cell_type": "code",
      "execution_count": null,
      "id": "f3f22e59-0a8e-4d38-831a-cc39d014e8dc",
      "metadata": {
        "id": "f3f22e59-0a8e-4d38-831a-cc39d014e8dc",
        "outputId": "c31f576b-932b-4927-ad80-1269c4060ac9",
        "colab": {
          "base_uri": "https://localhost:8080/"
        }
      },
      "outputs": [
        {
          "output_type": "stream",
          "name": "stdout",
          "text": [
            "     연도      회사  시가총액      시가총액평균     규모\n",
            "0  2017      삼성   500  333.333333    대형주\n",
            "1  2017      LG   300  333.333333  중/소형주\n",
            "2  2017  SK하이닉스   200  333.333333  중/소형주\n",
            "3  2018      삼성   600  433.333333    대형주\n",
            "4  2018      LG   400  433.333333  중/소형주\n",
            "5  2018  SK하이닉스   300  433.333333  중/소형주\n"
          ]
        }
      ],
      "source": [
        "import numpy as np\n",
        "\n",
        "df['규모'] = np.where(df['시가총액'] >= df['시가총액평균'], '대형주', '중/소형주')\n",
        "print(df)"
      ]
    },
    {
      "cell_type": "markdown",
      "id": "47da3564-397f-4ed9-b56b-25cd5e981213",
      "metadata": {
        "id": "47da3564-397f-4ed9-b56b-25cd5e981213"
      },
      "source": [
        "### 5.10 멀티인덱스\n",
        "\n",
        "> 하위 데이터를 계층적으로 표현\n",
        "\n",
        "> level 0, 1, 2, ..."
      ]
    },
    {
      "cell_type": "code",
      "execution_count": null,
      "id": "28a6899e-c000-4af9-a87e-524f4d8803fb",
      "metadata": {
        "id": "28a6899e-c000-4af9-a87e-524f4d8803fb",
        "outputId": "4c0a1cb5-b588-4a75-d267-d1a8ca08b9e0",
        "colab": {
          "base_uri": "https://localhost:8080/"
        }
      },
      "outputs": [
        {
          "output_type": "stream",
          "name": "stdout",
          "text": [
            "               2     3\n",
            "0     1               \n",
            "영업이익  컨센서스  1000  1200\n",
            "      잠정치    900  1400\n",
            "당기순이익 컨센서스   800   900\n",
            "      잠정치    700   800\n"
          ]
        }
      ],
      "source": [
        "from pandas import DataFrame\n",
        "import pandas as pd\n",
        "\n",
        "data = [\n",
        "    ['영업이익', '컨센서스', 1000, 1200],\n",
        "    ['영업이익', '잠정치', 900, 1400],\n",
        "    ['당기순이익', '컨센서스', 800, 900],\n",
        "    ['당기순이익', '잠정치', 700, 800]\n",
        "]\n",
        "\n",
        "df = DataFrame(data=data)\n",
        "df = df.set_index([0, 1])\n",
        "# 컬럼 이름 부여하지 않아 숫자로 표현됨. 그 중 멀티 인덱스로 사용할 컬럼의 이름을 리스트로 전달\n",
        "print(df)"
      ]
    },
    {
      "cell_type": "markdown",
      "source": [
        "> 인덱스와 컬럼 이름 변경"
      ],
      "metadata": {
        "id": "6z8hp64UVWQC"
      },
      "id": "6z8hp64UVWQC"
    },
    {
      "cell_type": "code",
      "execution_count": null,
      "id": "2225e464-fc1a-437e-9800-d75b5fee7903",
      "metadata": {
        "id": "2225e464-fc1a-437e-9800-d75b5fee7903",
        "outputId": "670c2279-31c8-4704-f40e-e0800f4d828f",
        "colab": {
          "base_uri": "https://localhost:8080/"
        }
      },
      "outputs": [
        {
          "output_type": "stream",
          "name": "stdout",
          "text": [
            "            2020/06  2020/09\n",
            "재무연월                        \n",
            "영업이익  컨센서스     1000     1200\n",
            "      잠정치       900     1400\n",
            "당기순이익 컨센서스      800      900\n",
            "      잠정치       700      800\n"
          ]
        }
      ],
      "source": [
        "df.index.names = ['재무연월', '']\n",
        "df.columns = ['2020/06', '2020/09']\n",
        "print(df)"
      ]
    },
    {
      "cell_type": "markdown",
      "source": [
        "> **iloc, loc** 속성으로 로우 단위의 인덱싱 및 슬라이싱 가능"
      ],
      "metadata": {
        "id": "K6yHFRs-ViHX"
      },
      "id": "K6yHFRs-ViHX"
    },
    {
      "cell_type": "code",
      "execution_count": null,
      "id": "f312f3c5-c9b3-43d1-ba25-ab24422c016f",
      "metadata": {
        "id": "f312f3c5-c9b3-43d1-ba25-ab24422c016f",
        "outputId": "6eb1b76e-1f39-43c7-831f-1ff32a81c9a3",
        "colab": {
          "base_uri": "https://localhost:8080/"
        }
      },
      "outputs": [
        {
          "output_type": "stream",
          "name": "stdout",
          "text": [
            "      2020/06  2020/09\n",
            "                      \n",
            "컨센서스     1000     1200\n",
            "잠정치       900     1400\n"
          ]
        }
      ],
      "source": [
        "print(df.loc['영업이익'])"
      ]
    },
    {
      "cell_type": "markdown",
      "source": [
        "> 멀티 인덱스에서 하나의 행을 선택할 때는 level 0 ~ N까지 인덱스를 튜플()로 정의하기"
      ],
      "metadata": {
        "id": "Ql87L4jLXXfK"
      },
      "id": "Ql87L4jLXXfK"
    },
    {
      "cell_type": "code",
      "execution_count": null,
      "id": "3e9a2012-538f-4581-aa8d-34d5f53effe4",
      "metadata": {
        "id": "3e9a2012-538f-4581-aa8d-34d5f53effe4",
        "outputId": "4f5ec34d-1df9-4af1-c5d1-7e54ee88fc74",
        "colab": {
          "base_uri": "https://localhost:8080/"
        }
      },
      "outputs": [
        {
          "output_type": "stream",
          "name": "stdout",
          "text": [
            "2020/06    1000\n",
            "2020/09    1200\n",
            "Name: (영업이익, 컨센서스), dtype: int64\n"
          ]
        }
      ],
      "source": [
        "print(df.loc[ ('영업이익', '컨센서스') ])"
      ]
    },
    {
      "cell_type": "markdown",
      "source": [
        "> iloc: 인덱스의 레벨과 무관하게 하나의 로우 선택\n",
        "\n",
        "-> 컬럼 이름을 인덱스로 갖는 시리즈 반환됨"
      ],
      "metadata": {
        "id": "rHYC_s7bXzBb"
      },
      "id": "rHYC_s7bXzBb"
    },
    {
      "cell_type": "code",
      "execution_count": null,
      "id": "4201702b-50c8-414d-8ce6-d0ec66a8bd12",
      "metadata": {
        "id": "4201702b-50c8-414d-8ce6-d0ec66a8bd12",
        "outputId": "7b104e07-ee71-431a-de51-dfa88ad26316",
        "colab": {
          "base_uri": "https://localhost:8080/"
        }
      },
      "outputs": [
        {
          "output_type": "stream",
          "name": "stdout",
          "text": [
            "2020/06    1000\n",
            "2020/09    1200\n",
            "Name: (영업이익, 컨센서스), dtype: int64\n"
          ]
        }
      ],
      "source": [
        "print(df.iloc[0])"
      ]
    },
    {
      "cell_type": "markdown",
      "source": [
        "> iloc로 2020/06의 컨센서스 값 선택\n",
        "\n",
        "-> 행과 열의 인덱스를 차례로 지정"
      ],
      "metadata": {
        "id": "MZOe-6GXYML_"
      },
      "id": "MZOe-6GXYML_"
    },
    {
      "cell_type": "code",
      "source": [
        "print(df.iloc[0, 0])"
      ],
      "metadata": {
        "colab": {
          "base_uri": "https://localhost:8080/"
        },
        "id": "uvyr_sbqYWo9",
        "outputId": "a6808935-aee2-4165-b33c-659847c459b4"
      },
      "id": "uvyr_sbqYWo9",
      "execution_count": null,
      "outputs": [
        {
          "output_type": "stream",
          "name": "stdout",
          "text": [
            "1000\n"
          ]
        }
      ]
    },
    {
      "cell_type": "code",
      "execution_count": null,
      "id": "02d2687a-8bdd-4edf-9551-9eabecc5688b",
      "metadata": {
        "id": "02d2687a-8bdd-4edf-9551-9eabecc5688b",
        "outputId": "ac785cbd-ac32-477f-c998-93bfca8f61b7",
        "colab": {
          "base_uri": "https://localhost:8080/"
        }
      },
      "outputs": [
        {
          "output_type": "stream",
          "name": "stdout",
          "text": [
            "1000\n"
          ]
        }
      ],
      "source": [
        "print(df.loc[('영업이익', '컨센서스'), '2020/06'])"
      ]
    },
    {
      "cell_type": "markdown",
      "source": [
        "> level 1 인덱스에 컨센서스 값이 들어 있는 모든 데이터 슬라이싱\n",
        "\n",
        "\n",
        "*   df는 낮은 level부터 탐색해서 df.loc['컨센서스']로 하면 에러 발생\n",
        "*   **slice** 클래스 사용: 파이썬에서 슬라이싱할 때 '시작:끝:오프셋' 형태로 증감폭 지정하는 걸 표현\n",
        "\n"
      ],
      "metadata": {
        "id": "zkiYQeF4YqYm"
      },
      "id": "zkiYQeF4YqYm"
    },
    {
      "cell_type": "code",
      "execution_count": null,
      "id": "106bbb4f-68c0-4926-bd7c-3fd7af3a9caa",
      "metadata": {
        "id": "106bbb4f-68c0-4926-bd7c-3fd7af3a9caa",
        "outputId": "61c6aca3-7e46-4548-f36a-b4fe0ffd3efb"
      },
      "outputs": [
        {
          "name": "stdout",
          "output_type": "stream",
          "text": [
            "[1, 3, 5]\n",
            "[1, 3, 5]\n"
          ]
        }
      ],
      "source": [
        "a = [1, 2, 3, 4, 5]\n",
        "\n",
        "print(a[0:5:2])\n",
        "print(a[slice(0, 5, 2)])"
      ]
    },
    {
      "cell_type": "code",
      "execution_count": null,
      "id": "7cbd663c",
      "metadata": {
        "id": "7cbd663c",
        "outputId": "3559fa55-7aae-48fa-93cd-1fa9697d6e55"
      },
      "outputs": [
        {
          "name": "stdout",
          "output_type": "stream",
          "text": [
            "[1, 3, 5]\n",
            "[3, 5, 7]\n"
          ]
        }
      ],
      "source": [
        "a = [1, 2, 3, 4, 5]\n",
        "b = [3, 4, 5, 6, 7]\n",
        "\n",
        "s = slice(0, 5, 2)\n",
        "print(a[ s ])\n",
        "print(b[ s ])"
      ]
    },
    {
      "cell_type": "markdown",
      "source": [
        "> 전체 데이터 선택: **slice(None)** 사용\n",
        "\n",
        "-> 기초 슬라이싱의 ' : '과 같은 역할"
      ],
      "metadata": {
        "id": "Pc_xow0Qbi5d"
      },
      "id": "Pc_xow0Qbi5d"
    },
    {
      "cell_type": "code",
      "execution_count": null,
      "id": "a66d1c56-fb1d-4b3d-af67-b1c53990b4e4",
      "metadata": {
        "id": "a66d1c56-fb1d-4b3d-af67-b1c53990b4e4",
        "outputId": "b5e437b3-c409-40d2-fa50-439a0960748d"
      },
      "outputs": [
        {
          "name": "stdout",
          "output_type": "stream",
          "text": [
            "[1, 2, 3, 4, 5]\n",
            "[1, 2, 3, 4, 5]\n",
            "[1, 2, 3, 4, 5]\n",
            "[1, 2, 3, 4, 5]\n"
          ]
        }
      ],
      "source": [
        "a = [1, 2, 3, 4, 5]\n",
        "\n",
        "print(a[:])\n",
        "print(a[slice(None)])\n",
        "print(a[ : : ])\n",
        "print(a[slice(None, None)])"
      ]
    },
    {
      "cell_type": "markdown",
      "source": [
        "> level 0 인덱스 전체에 level 1의 컨센서스만을 선택\n",
        "\n",
        "**방법 1.**"
      ],
      "metadata": {
        "id": "5n9ughAAbWe5"
      },
      "id": "5n9ughAAbWe5"
    },
    {
      "cell_type": "code",
      "execution_count": null,
      "id": "84b850f4-4b27-47fc-a384-17fca821aca1",
      "metadata": {
        "id": "84b850f4-4b27-47fc-a384-17fca821aca1",
        "outputId": "a9abe81b-557d-41b4-aec3-d8dc25a0e812"
      },
      "outputs": [
        {
          "ename": "SyntaxError",
          "evalue": "invalid syntax (<ipython-input-97-0a8f565f7e0c>, line 1)",
          "output_type": "error",
          "traceback": [
            "\u001b[1;36m  File \u001b[1;32m\"<ipython-input-97-0a8f565f7e0c>\"\u001b[1;36m, line \u001b[1;32m1\u001b[0m\n\u001b[1;33m    print( df.loc[ ( :, '컨센서스'), : ] )\u001b[0m\n\u001b[1;37m                     ^\u001b[0m\n\u001b[1;31mSyntaxError\u001b[0m\u001b[1;31m:\u001b[0m invalid syntax\n"
          ]
        }
      ],
      "source": [
        "print( df.loc[ ( :, '컨센서스'), : ] )"
      ]
    },
    {
      "cell_type": "code",
      "execution_count": null,
      "id": "9868fee3",
      "metadata": {
        "id": "9868fee3",
        "outputId": "a4145d43-afde-4e04-c2b2-3dccd270736e",
        "colab": {
          "base_uri": "https://localhost:8080/"
        }
      },
      "outputs": [
        {
          "output_type": "stream",
          "name": "stdout",
          "text": [
            "            2020/06  2020/09\n",
            "재무연월                        \n",
            "영업이익  컨센서스     1000     1200\n",
            "당기순이익 컨센서스      800      900\n"
          ]
        }
      ],
      "source": [
        "print(df.loc[(slice(None), '컨센서스'), : ]) #[(행), 열]"
      ]
    },
    {
      "cell_type": "markdown",
      "source": [
        "**방법 2.** IndexSlice 사용\n",
        "\n",
        "> ['level 0', 'level 1', 'level 2'] 형태로 인덱스 차례로 지정\n",
        "\n",
        "> 이때도 행과 열을 모두 지정해야 함"
      ],
      "metadata": {
        "id": "l7aJJxBYcCCJ"
      },
      "id": "l7aJJxBYcCCJ"
    },
    {
      "cell_type": "code",
      "execution_count": null,
      "id": "c9b37446-4632-4f08-a811-1958db6c82a4",
      "metadata": {
        "id": "c9b37446-4632-4f08-a811-1958db6c82a4",
        "outputId": "b290f3bd-4920-49a5-84a9-d5f07b5b1b9f",
        "colab": {
          "base_uri": "https://localhost:8080/"
        }
      },
      "outputs": [
        {
          "output_type": "stream",
          "name": "stdout",
          "text": [
            "            2020/06  2020/09\n",
            "재무연월                        \n",
            "영업이익  컨센서스     1000     1200\n",
            "당기순이익 컨센서스      800      900\n"
          ]
        }
      ],
      "source": [
        "idx = pd.IndexSlice\n",
        "print(df.loc[idx[:, '컨센서스'], :]) #df.loc[행, 열]"
      ]
    },
    {
      "cell_type": "markdown",
      "id": "50cf4a89-ebca-4063-9fd0-a90aeb964a5a",
      "metadata": {
        "id": "50cf4a89-ebca-4063-9fd0-a90aeb964a5a"
      },
      "source": [
        "### 5.11 멀티컬럼\n",
        "\n",
        "> 위에서부터 level을 부여\n",
        "\n",
        "-> 영업이익과 당기순이익이 level 0임"
      ]
    },
    {
      "cell_type": "code",
      "execution_count": null,
      "id": "7b637e2b-7c57-422c-85e1-174e129b7065",
      "metadata": {
        "id": "7b637e2b-7c57-422c-85e1-174e129b7065",
        "outputId": "34180f78-0efb-4852-c08a-68d886d56540",
        "colab": {
          "base_uri": "https://localhost:8080/"
        }
      },
      "outputs": [
        {
          "output_type": "stream",
          "name": "stdout",
          "text": [
            "         영업이익       당기순이익     \n",
            "         컨센서스   잠정치  컨센서스  잠정치\n",
            "2020/06   100   900   800  700\n",
            "2020/09  1200  1400   900  800\n"
          ]
        }
      ],
      "source": [
        "from pandas import DataFrame\n",
        "\n",
        "data = [\n",
        "    [100, 900, 800, 700],\n",
        "    [1200, 1400, 900, 800]\n",
        "]\n",
        "\n",
        "columns = [\n",
        "    ['영업이익', '영업이익', '당기순이익', '당기순이익'],\n",
        "    ['컨센서스', '잠정치', '컨센서스', '잠정치']\n",
        "]\n",
        "\n",
        "index = [\"2020/06\", \"2020/09\"]\n",
        "\n",
        "df = DataFrame(data=data, index=index, columns=columns)\n",
        "print(df)"
      ]
    },
    {
      "cell_type": "markdown",
      "source": [
        "> 판다스 MultiIndex의 **from_product** 함수: 입력된 리스트로 데이터 조합\n",
        "\n",
        "-> 컬럼 개수가 많아질 때 유용\n",
        "\n",
        "> **get_level_values()**: 특정 level만 출력"
      ],
      "metadata": {
        "id": "zleYfI4pdx2H"
      },
      "id": "zleYfI4pdx2H"
    },
    {
      "cell_type": "code",
      "execution_count": null,
      "id": "fd945290-a682-45d5-b28c-31ece35907e5",
      "metadata": {
        "id": "fd945290-a682-45d5-b28c-31ece35907e5",
        "colab": {
          "base_uri": "https://localhost:8080/"
        },
        "outputId": "300b559f-b972-485b-fc58-ad9b15bfe8ac"
      },
      "outputs": [
        {
          "output_type": "stream",
          "name": "stdout",
          "text": [
            "MultiIndex([( '영업이익', '컨센서스'),\n",
            "            ( '영업이익',  '잠정치'),\n",
            "            ('당기순이익', '컨센서스'),\n",
            "            ('당기순이익',  '잠정치')],\n",
            "           )\n",
            "Index(['영업이익', '영업이익', '당기순이익', '당기순이익'], dtype='object')\n"
          ]
        }
      ],
      "source": [
        "import pandas as pd\n",
        "\n",
        "level_0 = ['영업이익', '당기순이익']\n",
        "level_1 = ['컨센서스', '잠정치']\n",
        "\n",
        "idx = pd.MultiIndex.from_product([level_0, level_1])\n",
        "\n",
        "print(idx)\n",
        "print(idx.get_level_values(0))"
      ]
    },
    {
      "cell_type": "markdown",
      "source": [
        "> from_product 메서드로 생성한 결과를 df로 연결"
      ],
      "metadata": {
        "id": "ejVgHxT4euSj"
      },
      "id": "ejVgHxT4euSj"
    },
    {
      "cell_type": "code",
      "source": [
        "import pandas as pd\n",
        "\n",
        "level_0 = ['영업이익', '당기순이익']\n",
        "level_1 = ['컨센서스', '잠정치']\n",
        "colums = pd.MultiIndex.from_product([level_0, level_1])\n",
        "index = ['2020/06', '2020/09']\n",
        "df = DataFrame(data=data, index=index, columns=columns)\n",
        "print(df)"
      ],
      "metadata": {
        "colab": {
          "base_uri": "https://localhost:8080/"
        },
        "id": "LLgh0lvsezCv",
        "outputId": "12d175d9-1bd7-4d6c-f2c8-efef89751aa9"
      },
      "id": "LLgh0lvsezCv",
      "execution_count": null,
      "outputs": [
        {
          "output_type": "stream",
          "name": "stdout",
          "text": [
            "         영업이익       당기순이익     \n",
            "         컨센서스   잠정치  컨센서스  잠정치\n",
            "2020/06   100   900   800  700\n",
            "2020/09  1200  1400   900  800\n"
          ]
        }
      ]
    },
    {
      "cell_type": "markdown",
      "source": [
        "> 컬럼 인덱싱"
      ],
      "metadata": {
        "id": "KfW9OemTfV4l"
      },
      "id": "KfW9OemTfV4l"
    },
    {
      "cell_type": "code",
      "execution_count": null,
      "id": "26f623e9-c8c7-44c5-910d-415796d2e3ed",
      "metadata": {
        "id": "26f623e9-c8c7-44c5-910d-415796d2e3ed",
        "outputId": "7e4d5ab5-e600-4437-fb3f-902d550e9b87",
        "colab": {
          "base_uri": "https://localhost:8080/"
        }
      },
      "outputs": [
        {
          "output_type": "stream",
          "name": "stdout",
          "text": [
            "         컨센서스   잠정치\n",
            "2020/06   100   900\n",
            "2020/09  1200  1400\n"
          ]
        }
      ],
      "source": [
        "print(df['영업이익'])"
      ]
    },
    {
      "cell_type": "code",
      "execution_count": null,
      "id": "cea75116-ff4f-4dbb-ab8b-4610d7da05e2",
      "metadata": {
        "id": "cea75116-ff4f-4dbb-ab8b-4610d7da05e2",
        "outputId": "576e3a18-eb09-4fde-9eda-0c0359c9da29",
        "colab": {
          "base_uri": "https://localhost:8080/"
        }
      },
      "outputs": [
        {
          "output_type": "stream",
          "name": "stdout",
          "text": [
            "2020/06     100\n",
            "2020/09    1200\n",
            "Name: (영업이익, 컨센서스), dtype: int64\n"
          ]
        }
      ],
      "source": [
        "print(df[('영업이익', '컨센서스')])"
      ]
    },
    {
      "cell_type": "code",
      "execution_count": null,
      "id": "ab127cb3-8a6a-43da-98b1-54c27fa9a5fc",
      "metadata": {
        "id": "ab127cb3-8a6a-43da-98b1-54c27fa9a5fc",
        "outputId": "4764e6f8-11f2-4f00-9a99-21589be44303",
        "colab": {
          "base_uri": "https://localhost:8080/"
        }
      },
      "outputs": [
        {
          "output_type": "stream",
          "name": "stdout",
          "text": [
            "         컨센서스   잠정치\n",
            "2020/06   100   900\n",
            "2020/09  1200  1400\n",
            "컨센서스    100\n",
            "잠정치     900\n",
            "Name: 2020/06, dtype: int64\n",
            "100\n",
            "영업이익   컨센서스    100\n",
            "당기순이익  컨센서스    800\n",
            "Name: 2020/06, dtype: int64\n"
          ]
        }
      ],
      "source": [
        "print(df['영업이익'])\n",
        "print(df.loc['2020/06', '영업이익'])\n",
        "print(df.loc['2020/06', ('영업이익', '컨센서스')])\n",
        "print(df.loc['2020/06', (slice(None), '컨센서스')])"
      ]
    },
    {
      "cell_type": "markdown",
      "source": [
        "> 멀티 칼럼과 멀티 인덱스의 상호변경\n",
        "\n",
        "> **T속성** 또는 **transpose** 메서드 사용"
      ],
      "metadata": {
        "id": "c5U0SJ-DxzuV"
      },
      "id": "c5U0SJ-DxzuV"
    },
    {
      "cell_type": "code",
      "execution_count": null,
      "id": "ec7757a6-4d91-4ae7-8728-923d00bd4e62",
      "metadata": {
        "id": "ec7757a6-4d91-4ae7-8728-923d00bd4e62",
        "outputId": "25c66f92-e036-4279-f99a-f9c22df0586d",
        "colab": {
          "base_uri": "https://localhost:8080/"
        }
      },
      "outputs": [
        {
          "output_type": "stream",
          "name": "stdout",
          "text": [
            "            2020/06  2020/09\n",
            "영업이익  컨센서스      100     1200\n",
            "      잠정치       900     1400\n",
            "당기순이익 컨센서스      800      900\n",
            "      잠정치       700      800\n",
            "            2020/06  2020/09\n",
            "영업이익  컨센서스      100     1200\n",
            "      잠정치       900     1400\n",
            "당기순이익 컨센서스      800      900\n",
            "      잠정치       700      800\n"
          ]
        }
      ],
      "source": [
        "print(df.transpose())\n",
        "print(df.T)"
      ]
    },
    {
      "cell_type": "markdown",
      "id": "0bf29e35-97ac-453b-9e64-147a53bb3ee8",
      "metadata": {
        "id": "0bf29e35-97ac-453b-9e64-147a53bb3ee8"
      },
      "source": [
        "### 5.12 Stack/Unstack\n",
        "\n",
        "> 컬럼과 인덱스의 상호변경\n",
        "\n",
        "> Stack: 컬럼을 인덱스로\n",
        "\n",
        "> 높은 레벨(숫자가 큰) 컬럼부터 쌓임"
      ]
    },
    {
      "cell_type": "code",
      "execution_count": null,
      "id": "4a8b05c8-21ef-473c-86a3-d8941fb60d1b",
      "metadata": {
        "id": "4a8b05c8-21ef-473c-86a3-d8941fb60d1b",
        "outputId": "b2899d79-d283-4b9f-c447-166b4a6461c4",
        "colab": {
          "base_uri": "https://localhost:8080/"
        }
      },
      "outputs": [
        {
          "output_type": "stream",
          "name": "stdout",
          "text": [
            "              영업이익  당기순이익\n",
            "2020/06 잠정치    900    700\n",
            "        컨센서스   100    800\n",
            "2020/09 잠정치   1400    800\n",
            "        컨센서스  1200    900\n"
          ]
        }
      ],
      "source": [
        "from pandas import DataFrame\n",
        "import pandas as pd\n",
        "\n",
        "data = [\n",
        "    [100, 900, 800, 700],\n",
        "    [1200, 1400, 900, 800]\n",
        "]\n",
        "\n",
        "level_0 = ['영업이익', '당기순이익']\n",
        "level_1 = ['컨센서스', '잠정치']\n",
        "columns = pd.MultiIndex.from_product([level_0, level_1])\n",
        "\n",
        "index = ['2020/06', '2020/09']\n",
        "\n",
        "df = DataFrame(data=data, index=index, columns=columns)\n",
        "print(df.stack())"
      ]
    },
    {
      "cell_type": "markdown",
      "source": [
        "> level 옵션을 사용해 특정 컬럼 지정 가능"
      ],
      "metadata": {
        "id": "sEMYO9CmzSIq"
      },
      "id": "sEMYO9CmzSIq"
    },
    {
      "cell_type": "code",
      "execution_count": null,
      "id": "24c8dfa7-f139-4652-aaac-067269fad630",
      "metadata": {
        "id": "24c8dfa7-f139-4652-aaac-067269fad630",
        "outputId": "36d27114-95f9-461a-d2e0-0d1284097be1",
        "colab": {
          "base_uri": "https://localhost:8080/"
        }
      },
      "outputs": [
        {
          "output_type": "stream",
          "name": "stdout",
          "text": [
            "               컨센서스   잠정치\n",
            "2020/06 당기순이익   800   700\n",
            "        영업이익    100   900\n",
            "2020/09 당기순이익   900   800\n",
            "        영업이익   1200  1400\n"
          ]
        }
      ],
      "source": [
        "print(df.stack(level=0))"
      ]
    },
    {
      "cell_type": "code",
      "execution_count": null,
      "id": "cdd98f00-0265-4ffe-8957-18dcb43574a5",
      "metadata": {
        "id": "cdd98f00-0265-4ffe-8957-18dcb43574a5",
        "outputId": "c4d78c26-86b7-4069-fb35-24f69dfb205e",
        "colab": {
          "base_uri": "https://localhost:8080/"
        }
      },
      "outputs": [
        {
          "output_type": "stream",
          "name": "stdout",
          "text": [
            "2020/06  잠정치   영업이익      900\n",
            "               당기순이익     700\n",
            "         컨센서스  영업이익      100\n",
            "               당기순이익     800\n",
            "2020/09  잠정치   영업이익     1400\n",
            "               당기순이익     800\n",
            "         컨센서스  영업이익     1200\n",
            "               당기순이익     900\n",
            "dtype: int64\n"
          ]
        }
      ],
      "source": [
        "print(df.stack().stack())"
      ]
    },
    {
      "cell_type": "markdown",
      "source": [
        "> **예제.** 데이터 분석을 위해 컬럼의 연도와 월을 분리해야하는데 컬럼에 위치해서 브로드 캐스팅을 사용하기 쉽지 않을 때"
      ],
      "metadata": {
        "id": "YfgtB5vjzpM8"
      },
      "id": "YfgtB5vjzpM8"
    },
    {
      "cell_type": "code",
      "execution_count": null,
      "id": "37891a28",
      "metadata": {
        "id": "37891a28"
      },
      "outputs": [],
      "source": [
        "data = [\n",
        "    [1000, 1100, 900, 1200, 1300],\n",
        "    [800, 2000, 1700, 1500, 1800]\n",
        "]\n",
        "index = ['자본금', '부채']\n",
        "columns = ['2020/03', '2020/06', '2020/09', '2021/03', '2021/06']\n",
        "df = DataFrame(data, index, columns)"
      ]
    },
    {
      "cell_type": "markdown",
      "source": [
        "> **reset_index**: 인덱스를 초기화하여 기존의 인덱스 정보를 데이터의 열로 변환\n",
        "\n",
        "-> 더 직관적인 테이블 형태로 변환해 일반적인 열 데이터를 기준으로 분석 진행 가능"
      ],
      "metadata": {
        "id": "fRF3-_Zo0h12"
      },
      "id": "fRF3-_Zo0h12"
    },
    {
      "cell_type": "code",
      "execution_count": null,
      "id": "3e40568b",
      "metadata": {
        "scrolled": false,
        "id": "3e40568b"
      },
      "outputs": [],
      "source": [
        "df_stacked = df.stack().reset_index()"
      ]
    },
    {
      "cell_type": "markdown",
      "source": [
        "> **split** 메서드: 각각의 값을 연도와 월로 분리"
      ],
      "metadata": {
        "id": "R2e6ZwP90_c4"
      },
      "id": "R2e6ZwP90_c4"
    },
    {
      "cell_type": "code",
      "execution_count": null,
      "id": "e8402959",
      "metadata": {
        "id": "e8402959",
        "outputId": "2a9470da-d34e-48a7-e52d-3a154967c5c4",
        "colab": {
          "base_uri": "https://localhost:8080/"
        }
      },
      "outputs": [
        {
          "output_type": "stream",
          "name": "stdout",
          "text": [
            "0    [2020, 03]\n",
            "1    [2020, 06]\n",
            "2    [2020, 09]\n",
            "3    [2021, 03]\n",
            "4    [2021, 06]\n",
            "5    [2020, 03]\n",
            "6    [2020, 06]\n",
            "7    [2020, 09]\n",
            "8    [2021, 03]\n",
            "9    [2021, 06]\n",
            "Name: level_1, dtype: object\n"
          ]
        }
      ],
      "source": [
        "temp = df_stacked['level_1'].str.split('/')\n",
        "print(temp)"
      ]
    },
    {
      "cell_type": "markdown",
      "source": [
        "> 반환된 시리즈를 리스트로 변환 후 df 객체로 변환"
      ],
      "metadata": {
        "id": "5y-AFoqP1gP4"
      },
      "id": "5y-AFoqP1gP4"
    },
    {
      "cell_type": "code",
      "execution_count": null,
      "id": "91107d2a",
      "metadata": {
        "id": "91107d2a"
      },
      "outputs": [],
      "source": [
        "df_split = DataFrame( list(df_stacked['level_1'].str.split('/')) )"
      ]
    },
    {
      "cell_type": "markdown",
      "source": [
        "> df_stacked와 df_split 두 개를 합치고 컬럼 이름 부여\n",
        "\n",
        "-> df는 위/아래로 긴 형태로 데이터 정리돼 있어야 가공이 쉬움"
      ],
      "metadata": {
        "id": "cnaAt7mc2BWX"
      },
      "id": "cnaAt7mc2BWX"
    },
    {
      "cell_type": "code",
      "execution_count": null,
      "id": "db7ab3e2",
      "metadata": {
        "id": "db7ab3e2",
        "colab": {
          "base_uri": "https://localhost:8080/"
        },
        "outputId": "785ec7a5-2cc1-4527-cf4f-c52b77b4096a"
      },
      "outputs": [
        {
          "output_type": "stream",
          "name": "stdout",
          "text": [
            "    계정       년월    금액    연도   월\n",
            "0  자본금  2020/03  1000  2020  03\n",
            "1  자본금  2020/06  1100  2020  06\n",
            "2  자본금  2020/09   900  2020  09\n",
            "3  자본금  2021/03  1200  2021  03\n",
            "4  자본금  2021/06  1300  2021  06\n",
            "5   부채  2020/03   800  2020  03\n",
            "6   부채  2020/06  2000  2020  06\n",
            "7   부채  2020/09  1700  2020  09\n",
            "8   부채  2021/03  1500  2021  03\n",
            "9   부채  2021/06  1800  2021  06\n"
          ]
        }
      ],
      "source": [
        "df_merged = pd.concat( [df_stacked, df_split], axis=1 )\n",
        "df_merged.columns = ['계정', '년월', '금액', '연도', '월']\n",
        "print(df_merged)"
      ]
    },
    {
      "cell_type": "markdown",
      "source": [
        "> 부채와 자본금을 연도별로 정리\n",
        "\n",
        "> 계정과 연도를 기준으로 데이터를 그룹하여 모든 값 더하기\n",
        "\n",
        "> 년월은 문자열 컬럼이라 sum() 함수의 호출 결과 자동으로 제거됨"
      ],
      "metadata": {
        "id": "33awjc5f2oIZ"
      },
      "id": "33awjc5f2oIZ"
    },
    {
      "cell_type": "code",
      "execution_count": null,
      "id": "29204020",
      "metadata": {
        "scrolled": true,
        "id": "29204020",
        "outputId": "3f85f4f0-dbc4-4212-a897-fe6781411b6c",
        "colab": {
          "base_uri": "https://localhost:8080/"
        }
      },
      "outputs": [
        {
          "output_type": "stream",
          "name": "stdout",
          "text": [
            "            금액\n",
            "계정  연도        \n",
            "부채  2020  4500\n",
            "    2021  3300\n",
            "자본금 2020  3000\n",
            "    2021  2500\n"
          ]
        }
      ],
      "source": [
        "df_group = df_merged.groupby(['계정', '연도']).sum()\n",
        "df_group = df_group.drop(columns=['년월', '월'])\n",
        "\n",
        "print(df_group)"
      ]
    },
    {
      "cell_type": "markdown",
      "source": [
        "> level 1인 인덱스롤 컬럼으로 변경\n",
        "\n",
        "> level 0 컬럼인 금액을 선택하고 컬럼과 인덱스의 이름 제거"
      ],
      "metadata": {
        "id": "AQTbYBU24UFZ"
      },
      "id": "AQTbYBU24UFZ"
    },
    {
      "cell_type": "code",
      "execution_count": null,
      "id": "c17cefee",
      "metadata": {
        "id": "c17cefee",
        "outputId": "e0cdd8e5-eeb8-4266-8268-783e26d51bf2",
        "colab": {
          "base_uri": "https://localhost:8080/"
        }
      },
      "outputs": [
        {
          "output_type": "stream",
          "name": "stdout",
          "text": [
            "     2020  2021\n",
            "               \n",
            "부채   4500  3300\n",
            "자본금  3000  2500\n"
          ]
        }
      ],
      "source": [
        "df_unstack = df_group.unstack()\n",
        "result = df_unstack['금액']\n",
        "result.columns.name = ''\n",
        "result.index.name = ''\n",
        "print(result)"
      ]
    },
    {
      "cell_type": "markdown",
      "id": "aa9a82fa-2e01-4787-a1e5-61a17adbdc56",
      "metadata": {
        "id": "aa9a82fa-2e01-4787-a1e5-61a17adbdc56"
      },
      "source": [
        "### 5.13 pivot\n",
        "\n",
        "> 엑셀처럼 필요한 데이터를 추출해서 재구성하는 기능"
      ]
    },
    {
      "cell_type": "code",
      "execution_count": null,
      "id": "eb69d773-9397-47bc-9c65-1ad4e41d8601",
      "metadata": {
        "id": "eb69d773-9397-47bc-9c65-1ad4e41d8601",
        "outputId": "1cb5484f-44a4-40b0-e43c-bb50f8d709c8",
        "colab": {
          "base_uri": "https://localhost:8080/"
        }
      },
      "outputs": [
        {
          "output_type": "stream",
          "name": "stdout",
          "text": [
            "           날짜     종목명      종가\n",
            "0  2021-08-12    삼성전자   77000\n",
            "1  2021-08-13    삼성전자   74400\n",
            "2  2021-08-12    LG전자  153000\n",
            "3  2021-08-13    LG전자  150500\n",
            "4  2021-08-12  SK하이닉스  100500\n",
            "5  2021-08-13  SK하이닉스  101500\n"
          ]
        }
      ],
      "source": [
        "from pandas import DataFrame\n",
        "import pandas as pd\n",
        "\n",
        "data = [\n",
        "    ['2021-08-12', '삼성전자', 77000],\n",
        "    ['2021-08-13', '삼성전자', 74400],\n",
        "    ['2021-08-12', 'LG전자', 153000],\n",
        "    ['2021-08-13', 'LG전자', 150500],\n",
        "    ['2021-08-12', 'SK하이닉스', 100500],\n",
        "    ['2021-08-13', 'SK하이닉스', 101500]\n",
        "]\n",
        "columns = ['날짜', '종목명', '종가']\n",
        "df = DataFrame(data=data, columns=columns)\n",
        "print(df)"
      ]
    },
    {
      "cell_type": "markdown",
      "source": [
        "> pivot 함수는 **data, index, columns, values** 파라마터를 입력받음"
      ],
      "metadata": {
        "id": "rL5l23uz5LmZ"
      },
      "id": "rL5l23uz5LmZ"
    },
    {
      "cell_type": "code",
      "execution_count": null,
      "id": "5b12b767-6375-4436-9336-d6f492902891",
      "metadata": {
        "id": "5b12b767-6375-4436-9336-d6f492902891",
        "outputId": "bac99a59-31b2-444a-c766-a2a9679fd828",
        "colab": {
          "base_uri": "https://localhost:8080/",
          "height": 143
        }
      },
      "outputs": [
        {
          "output_type": "execute_result",
          "data": {
            "text/plain": [
              "종목명           LG전자  SK하이닉스   삼성전자\n",
              "날짜                               \n",
              "2021-08-12  153000  100500  77000\n",
              "2021-08-13  150500  101500  74400"
            ],
            "text/html": [
              "\n",
              "  <div id=\"df-e4612eee-1810-432a-94a5-537753bbf3a3\" class=\"colab-df-container\">\n",
              "    <div>\n",
              "<style scoped>\n",
              "    .dataframe tbody tr th:only-of-type {\n",
              "        vertical-align: middle;\n",
              "    }\n",
              "\n",
              "    .dataframe tbody tr th {\n",
              "        vertical-align: top;\n",
              "    }\n",
              "\n",
              "    .dataframe thead th {\n",
              "        text-align: right;\n",
              "    }\n",
              "</style>\n",
              "<table border=\"1\" class=\"dataframe\">\n",
              "  <thead>\n",
              "    <tr style=\"text-align: right;\">\n",
              "      <th>종목명</th>\n",
              "      <th>LG전자</th>\n",
              "      <th>SK하이닉스</th>\n",
              "      <th>삼성전자</th>\n",
              "    </tr>\n",
              "    <tr>\n",
              "      <th>날짜</th>\n",
              "      <th></th>\n",
              "      <th></th>\n",
              "      <th></th>\n",
              "    </tr>\n",
              "  </thead>\n",
              "  <tbody>\n",
              "    <tr>\n",
              "      <th>2021-08-12</th>\n",
              "      <td>153000</td>\n",
              "      <td>100500</td>\n",
              "      <td>77000</td>\n",
              "    </tr>\n",
              "    <tr>\n",
              "      <th>2021-08-13</th>\n",
              "      <td>150500</td>\n",
              "      <td>101500</td>\n",
              "      <td>74400</td>\n",
              "    </tr>\n",
              "  </tbody>\n",
              "</table>\n",
              "</div>\n",
              "    <div class=\"colab-df-buttons\">\n",
              "\n",
              "  <div class=\"colab-df-container\">\n",
              "    <button class=\"colab-df-convert\" onclick=\"convertToInteractive('df-e4612eee-1810-432a-94a5-537753bbf3a3')\"\n",
              "            title=\"Convert this dataframe to an interactive table.\"\n",
              "            style=\"display:none;\">\n",
              "\n",
              "  <svg xmlns=\"http://www.w3.org/2000/svg\" height=\"24px\" viewBox=\"0 -960 960 960\">\n",
              "    <path d=\"M120-120v-720h720v720H120Zm60-500h600v-160H180v160Zm220 220h160v-160H400v160Zm0 220h160v-160H400v160ZM180-400h160v-160H180v160Zm440 0h160v-160H620v160ZM180-180h160v-160H180v160Zm440 0h160v-160H620v160Z\"/>\n",
              "  </svg>\n",
              "    </button>\n",
              "\n",
              "  <style>\n",
              "    .colab-df-container {\n",
              "      display:flex;\n",
              "      gap: 12px;\n",
              "    }\n",
              "\n",
              "    .colab-df-convert {\n",
              "      background-color: #E8F0FE;\n",
              "      border: none;\n",
              "      border-radius: 50%;\n",
              "      cursor: pointer;\n",
              "      display: none;\n",
              "      fill: #1967D2;\n",
              "      height: 32px;\n",
              "      padding: 0 0 0 0;\n",
              "      width: 32px;\n",
              "    }\n",
              "\n",
              "    .colab-df-convert:hover {\n",
              "      background-color: #E2EBFA;\n",
              "      box-shadow: 0px 1px 2px rgba(60, 64, 67, 0.3), 0px 1px 3px 1px rgba(60, 64, 67, 0.15);\n",
              "      fill: #174EA6;\n",
              "    }\n",
              "\n",
              "    .colab-df-buttons div {\n",
              "      margin-bottom: 4px;\n",
              "    }\n",
              "\n",
              "    [theme=dark] .colab-df-convert {\n",
              "      background-color: #3B4455;\n",
              "      fill: #D2E3FC;\n",
              "    }\n",
              "\n",
              "    [theme=dark] .colab-df-convert:hover {\n",
              "      background-color: #434B5C;\n",
              "      box-shadow: 0px 1px 3px 1px rgba(0, 0, 0, 0.15);\n",
              "      filter: drop-shadow(0px 1px 2px rgba(0, 0, 0, 0.3));\n",
              "      fill: #FFFFFF;\n",
              "    }\n",
              "  </style>\n",
              "\n",
              "    <script>\n",
              "      const buttonEl =\n",
              "        document.querySelector('#df-e4612eee-1810-432a-94a5-537753bbf3a3 button.colab-df-convert');\n",
              "      buttonEl.style.display =\n",
              "        google.colab.kernel.accessAllowed ? 'block' : 'none';\n",
              "\n",
              "      async function convertToInteractive(key) {\n",
              "        const element = document.querySelector('#df-e4612eee-1810-432a-94a5-537753bbf3a3');\n",
              "        const dataTable =\n",
              "          await google.colab.kernel.invokeFunction('convertToInteractive',\n",
              "                                                    [key], {});\n",
              "        if (!dataTable) return;\n",
              "\n",
              "        const docLinkHtml = 'Like what you see? Visit the ' +\n",
              "          '<a target=\"_blank\" href=https://colab.research.google.com/notebooks/data_table.ipynb>data table notebook</a>'\n",
              "          + ' to learn more about interactive tables.';\n",
              "        element.innerHTML = '';\n",
              "        dataTable['output_type'] = 'display_data';\n",
              "        await google.colab.output.renderOutput(dataTable, element);\n",
              "        const docLink = document.createElement('div');\n",
              "        docLink.innerHTML = docLinkHtml;\n",
              "        element.appendChild(docLink);\n",
              "      }\n",
              "    </script>\n",
              "  </div>\n",
              "\n",
              "\n",
              "<div id=\"df-e666d70a-3c0d-474c-87eb-54f77660f9cf\">\n",
              "  <button class=\"colab-df-quickchart\" onclick=\"quickchart('df-e666d70a-3c0d-474c-87eb-54f77660f9cf')\"\n",
              "            title=\"Suggest charts\"\n",
              "            style=\"display:none;\">\n",
              "\n",
              "<svg xmlns=\"http://www.w3.org/2000/svg\" height=\"24px\"viewBox=\"0 0 24 24\"\n",
              "     width=\"24px\">\n",
              "    <g>\n",
              "        <path d=\"M19 3H5c-1.1 0-2 .9-2 2v14c0 1.1.9 2 2 2h14c1.1 0 2-.9 2-2V5c0-1.1-.9-2-2-2zM9 17H7v-7h2v7zm4 0h-2V7h2v10zm4 0h-2v-4h2v4z\"/>\n",
              "    </g>\n",
              "</svg>\n",
              "  </button>\n",
              "\n",
              "<style>\n",
              "  .colab-df-quickchart {\n",
              "      --bg-color: #E8F0FE;\n",
              "      --fill-color: #1967D2;\n",
              "      --hover-bg-color: #E2EBFA;\n",
              "      --hover-fill-color: #174EA6;\n",
              "      --disabled-fill-color: #AAA;\n",
              "      --disabled-bg-color: #DDD;\n",
              "  }\n",
              "\n",
              "  [theme=dark] .colab-df-quickchart {\n",
              "      --bg-color: #3B4455;\n",
              "      --fill-color: #D2E3FC;\n",
              "      --hover-bg-color: #434B5C;\n",
              "      --hover-fill-color: #FFFFFF;\n",
              "      --disabled-bg-color: #3B4455;\n",
              "      --disabled-fill-color: #666;\n",
              "  }\n",
              "\n",
              "  .colab-df-quickchart {\n",
              "    background-color: var(--bg-color);\n",
              "    border: none;\n",
              "    border-radius: 50%;\n",
              "    cursor: pointer;\n",
              "    display: none;\n",
              "    fill: var(--fill-color);\n",
              "    height: 32px;\n",
              "    padding: 0;\n",
              "    width: 32px;\n",
              "  }\n",
              "\n",
              "  .colab-df-quickchart:hover {\n",
              "    background-color: var(--hover-bg-color);\n",
              "    box-shadow: 0 1px 2px rgba(60, 64, 67, 0.3), 0 1px 3px 1px rgba(60, 64, 67, 0.15);\n",
              "    fill: var(--button-hover-fill-color);\n",
              "  }\n",
              "\n",
              "  .colab-df-quickchart-complete:disabled,\n",
              "  .colab-df-quickchart-complete:disabled:hover {\n",
              "    background-color: var(--disabled-bg-color);\n",
              "    fill: var(--disabled-fill-color);\n",
              "    box-shadow: none;\n",
              "  }\n",
              "\n",
              "  .colab-df-spinner {\n",
              "    border: 2px solid var(--fill-color);\n",
              "    border-color: transparent;\n",
              "    border-bottom-color: var(--fill-color);\n",
              "    animation:\n",
              "      spin 1s steps(1) infinite;\n",
              "  }\n",
              "\n",
              "  @keyframes spin {\n",
              "    0% {\n",
              "      border-color: transparent;\n",
              "      border-bottom-color: var(--fill-color);\n",
              "      border-left-color: var(--fill-color);\n",
              "    }\n",
              "    20% {\n",
              "      border-color: transparent;\n",
              "      border-left-color: var(--fill-color);\n",
              "      border-top-color: var(--fill-color);\n",
              "    }\n",
              "    30% {\n",
              "      border-color: transparent;\n",
              "      border-left-color: var(--fill-color);\n",
              "      border-top-color: var(--fill-color);\n",
              "      border-right-color: var(--fill-color);\n",
              "    }\n",
              "    40% {\n",
              "      border-color: transparent;\n",
              "      border-right-color: var(--fill-color);\n",
              "      border-top-color: var(--fill-color);\n",
              "    }\n",
              "    60% {\n",
              "      border-color: transparent;\n",
              "      border-right-color: var(--fill-color);\n",
              "    }\n",
              "    80% {\n",
              "      border-color: transparent;\n",
              "      border-right-color: var(--fill-color);\n",
              "      border-bottom-color: var(--fill-color);\n",
              "    }\n",
              "    90% {\n",
              "      border-color: transparent;\n",
              "      border-bottom-color: var(--fill-color);\n",
              "    }\n",
              "  }\n",
              "</style>\n",
              "\n",
              "  <script>\n",
              "    async function quickchart(key) {\n",
              "      const quickchartButtonEl =\n",
              "        document.querySelector('#' + key + ' button');\n",
              "      quickchartButtonEl.disabled = true;  // To prevent multiple clicks.\n",
              "      quickchartButtonEl.classList.add('colab-df-spinner');\n",
              "      try {\n",
              "        const charts = await google.colab.kernel.invokeFunction(\n",
              "            'suggestCharts', [key], {});\n",
              "      } catch (error) {\n",
              "        console.error('Error during call to suggestCharts:', error);\n",
              "      }\n",
              "      quickchartButtonEl.classList.remove('colab-df-spinner');\n",
              "      quickchartButtonEl.classList.add('colab-df-quickchart-complete');\n",
              "    }\n",
              "    (() => {\n",
              "      let quickchartButtonEl =\n",
              "        document.querySelector('#df-e666d70a-3c0d-474c-87eb-54f77660f9cf button');\n",
              "      quickchartButtonEl.style.display =\n",
              "        google.colab.kernel.accessAllowed ? 'block' : 'none';\n",
              "    })();\n",
              "  </script>\n",
              "</div>\n",
              "\n",
              "    </div>\n",
              "  </div>\n"
            ],
            "application/vnd.google.colaboratory.intrinsic+json": {
              "type": "dataframe",
              "summary": "{\n  \"name\": \"pd\",\n  \"rows\": 2,\n  \"fields\": [\n    {\n      \"column\": \"\\ub0a0\\uc9dc\",\n      \"properties\": {\n        \"dtype\": \"object\",\n        \"num_unique_values\": 2,\n        \"samples\": [\n          \"2021-08-13\",\n          \"2021-08-12\"\n        ],\n        \"semantic_type\": \"\",\n        \"description\": \"\"\n      }\n    },\n    {\n      \"column\": \"LG\\uc804\\uc790\",\n      \"properties\": {\n        \"dtype\": \"number\",\n        \"std\": 1767,\n        \"min\": 150500,\n        \"max\": 153000,\n        \"num_unique_values\": 2,\n        \"samples\": [\n          150500,\n          153000\n        ],\n        \"semantic_type\": \"\",\n        \"description\": \"\"\n      }\n    },\n    {\n      \"column\": \"SK\\ud558\\uc774\\ub2c9\\uc2a4\",\n      \"properties\": {\n        \"dtype\": \"number\",\n        \"std\": 707,\n        \"min\": 100500,\n        \"max\": 101500,\n        \"num_unique_values\": 2,\n        \"samples\": [\n          101500,\n          100500\n        ],\n        \"semantic_type\": \"\",\n        \"description\": \"\"\n      }\n    },\n    {\n      \"column\": \"\\uc0bc\\uc131\\uc804\\uc790\",\n      \"properties\": {\n        \"dtype\": \"number\",\n        \"std\": 1838,\n        \"min\": 74400,\n        \"max\": 77000,\n        \"num_unique_values\": 2,\n        \"samples\": [\n          74400,\n          77000\n        ],\n        \"semantic_type\": \"\",\n        \"description\": \"\"\n      }\n    }\n  ]\n}"
            }
          },
          "metadata": {},
          "execution_count": 44
        }
      ],
      "source": [
        "pd.pivot(data=df, index='날짜', columns='종목명', values='종가')"
      ]
    },
    {
      "cell_type": "markdown",
      "source": [
        "> pivot이랑 같은 결과 내는 법"
      ],
      "metadata": {
        "id": "05RnfPG95gDv"
      },
      "id": "05RnfPG95gDv"
    },
    {
      "cell_type": "code",
      "execution_count": null,
      "id": "adbaa3de",
      "metadata": {
        "id": "adbaa3de",
        "outputId": "3d16afb8-2daa-4de2-ee10-719f1ce62678",
        "colab": {
          "base_uri": "https://localhost:8080/",
          "height": 175
        }
      },
      "outputs": [
        {
          "output_type": "execute_result",
          "data": {
            "text/plain": [
              "                  종가                   \n",
              "종목명             LG전자    SK하이닉스     삼성전자\n",
              "날짜                                     \n",
              "2021-08-12  153000.0  100500.0  77000.0\n",
              "2021-08-13  150500.0  101500.0  74400.0"
            ],
            "text/html": [
              "\n",
              "  <div id=\"df-3a942060-7f09-4957-8c42-dcf9f6f16211\" class=\"colab-df-container\">\n",
              "    <div>\n",
              "<style scoped>\n",
              "    .dataframe tbody tr th:only-of-type {\n",
              "        vertical-align: middle;\n",
              "    }\n",
              "\n",
              "    .dataframe tbody tr th {\n",
              "        vertical-align: top;\n",
              "    }\n",
              "\n",
              "    .dataframe thead tr th {\n",
              "        text-align: left;\n",
              "    }\n",
              "\n",
              "    .dataframe thead tr:last-of-type th {\n",
              "        text-align: right;\n",
              "    }\n",
              "</style>\n",
              "<table border=\"1\" class=\"dataframe\">\n",
              "  <thead>\n",
              "    <tr>\n",
              "      <th></th>\n",
              "      <th colspan=\"3\" halign=\"left\">종가</th>\n",
              "    </tr>\n",
              "    <tr>\n",
              "      <th>종목명</th>\n",
              "      <th>LG전자</th>\n",
              "      <th>SK하이닉스</th>\n",
              "      <th>삼성전자</th>\n",
              "    </tr>\n",
              "    <tr>\n",
              "      <th>날짜</th>\n",
              "      <th></th>\n",
              "      <th></th>\n",
              "      <th></th>\n",
              "    </tr>\n",
              "  </thead>\n",
              "  <tbody>\n",
              "    <tr>\n",
              "      <th>2021-08-12</th>\n",
              "      <td>153000.0</td>\n",
              "      <td>100500.0</td>\n",
              "      <td>77000.0</td>\n",
              "    </tr>\n",
              "    <tr>\n",
              "      <th>2021-08-13</th>\n",
              "      <td>150500.0</td>\n",
              "      <td>101500.0</td>\n",
              "      <td>74400.0</td>\n",
              "    </tr>\n",
              "  </tbody>\n",
              "</table>\n",
              "</div>\n",
              "    <div class=\"colab-df-buttons\">\n",
              "\n",
              "  <div class=\"colab-df-container\">\n",
              "    <button class=\"colab-df-convert\" onclick=\"convertToInteractive('df-3a942060-7f09-4957-8c42-dcf9f6f16211')\"\n",
              "            title=\"Convert this dataframe to an interactive table.\"\n",
              "            style=\"display:none;\">\n",
              "\n",
              "  <svg xmlns=\"http://www.w3.org/2000/svg\" height=\"24px\" viewBox=\"0 -960 960 960\">\n",
              "    <path d=\"M120-120v-720h720v720H120Zm60-500h600v-160H180v160Zm220 220h160v-160H400v160Zm0 220h160v-160H400v160ZM180-400h160v-160H180v160Zm440 0h160v-160H620v160ZM180-180h160v-160H180v160Zm440 0h160v-160H620v160Z\"/>\n",
              "  </svg>\n",
              "    </button>\n",
              "\n",
              "  <style>\n",
              "    .colab-df-container {\n",
              "      display:flex;\n",
              "      gap: 12px;\n",
              "    }\n",
              "\n",
              "    .colab-df-convert {\n",
              "      background-color: #E8F0FE;\n",
              "      border: none;\n",
              "      border-radius: 50%;\n",
              "      cursor: pointer;\n",
              "      display: none;\n",
              "      fill: #1967D2;\n",
              "      height: 32px;\n",
              "      padding: 0 0 0 0;\n",
              "      width: 32px;\n",
              "    }\n",
              "\n",
              "    .colab-df-convert:hover {\n",
              "      background-color: #E2EBFA;\n",
              "      box-shadow: 0px 1px 2px rgba(60, 64, 67, 0.3), 0px 1px 3px 1px rgba(60, 64, 67, 0.15);\n",
              "      fill: #174EA6;\n",
              "    }\n",
              "\n",
              "    .colab-df-buttons div {\n",
              "      margin-bottom: 4px;\n",
              "    }\n",
              "\n",
              "    [theme=dark] .colab-df-convert {\n",
              "      background-color: #3B4455;\n",
              "      fill: #D2E3FC;\n",
              "    }\n",
              "\n",
              "    [theme=dark] .colab-df-convert:hover {\n",
              "      background-color: #434B5C;\n",
              "      box-shadow: 0px 1px 3px 1px rgba(0, 0, 0, 0.15);\n",
              "      filter: drop-shadow(0px 1px 2px rgba(0, 0, 0, 0.3));\n",
              "      fill: #FFFFFF;\n",
              "    }\n",
              "  </style>\n",
              "\n",
              "    <script>\n",
              "      const buttonEl =\n",
              "        document.querySelector('#df-3a942060-7f09-4957-8c42-dcf9f6f16211 button.colab-df-convert');\n",
              "      buttonEl.style.display =\n",
              "        google.colab.kernel.accessAllowed ? 'block' : 'none';\n",
              "\n",
              "      async function convertToInteractive(key) {\n",
              "        const element = document.querySelector('#df-3a942060-7f09-4957-8c42-dcf9f6f16211');\n",
              "        const dataTable =\n",
              "          await google.colab.kernel.invokeFunction('convertToInteractive',\n",
              "                                                    [key], {});\n",
              "        if (!dataTable) return;\n",
              "\n",
              "        const docLinkHtml = 'Like what you see? Visit the ' +\n",
              "          '<a target=\"_blank\" href=https://colab.research.google.com/notebooks/data_table.ipynb>data table notebook</a>'\n",
              "          + ' to learn more about interactive tables.';\n",
              "        element.innerHTML = '';\n",
              "        dataTable['output_type'] = 'display_data';\n",
              "        await google.colab.output.renderOutput(dataTable, element);\n",
              "        const docLink = document.createElement('div');\n",
              "        docLink.innerHTML = docLinkHtml;\n",
              "        element.appendChild(docLink);\n",
              "      }\n",
              "    </script>\n",
              "  </div>\n",
              "\n",
              "\n",
              "<div id=\"df-3883c077-5c36-43f9-88ec-5c9aac97b232\">\n",
              "  <button class=\"colab-df-quickchart\" onclick=\"quickchart('df-3883c077-5c36-43f9-88ec-5c9aac97b232')\"\n",
              "            title=\"Suggest charts\"\n",
              "            style=\"display:none;\">\n",
              "\n",
              "<svg xmlns=\"http://www.w3.org/2000/svg\" height=\"24px\"viewBox=\"0 0 24 24\"\n",
              "     width=\"24px\">\n",
              "    <g>\n",
              "        <path d=\"M19 3H5c-1.1 0-2 .9-2 2v14c0 1.1.9 2 2 2h14c1.1 0 2-.9 2-2V5c0-1.1-.9-2-2-2zM9 17H7v-7h2v7zm4 0h-2V7h2v10zm4 0h-2v-4h2v4z\"/>\n",
              "    </g>\n",
              "</svg>\n",
              "  </button>\n",
              "\n",
              "<style>\n",
              "  .colab-df-quickchart {\n",
              "      --bg-color: #E8F0FE;\n",
              "      --fill-color: #1967D2;\n",
              "      --hover-bg-color: #E2EBFA;\n",
              "      --hover-fill-color: #174EA6;\n",
              "      --disabled-fill-color: #AAA;\n",
              "      --disabled-bg-color: #DDD;\n",
              "  }\n",
              "\n",
              "  [theme=dark] .colab-df-quickchart {\n",
              "      --bg-color: #3B4455;\n",
              "      --fill-color: #D2E3FC;\n",
              "      --hover-bg-color: #434B5C;\n",
              "      --hover-fill-color: #FFFFFF;\n",
              "      --disabled-bg-color: #3B4455;\n",
              "      --disabled-fill-color: #666;\n",
              "  }\n",
              "\n",
              "  .colab-df-quickchart {\n",
              "    background-color: var(--bg-color);\n",
              "    border: none;\n",
              "    border-radius: 50%;\n",
              "    cursor: pointer;\n",
              "    display: none;\n",
              "    fill: var(--fill-color);\n",
              "    height: 32px;\n",
              "    padding: 0;\n",
              "    width: 32px;\n",
              "  }\n",
              "\n",
              "  .colab-df-quickchart:hover {\n",
              "    background-color: var(--hover-bg-color);\n",
              "    box-shadow: 0 1px 2px rgba(60, 64, 67, 0.3), 0 1px 3px 1px rgba(60, 64, 67, 0.15);\n",
              "    fill: var(--button-hover-fill-color);\n",
              "  }\n",
              "\n",
              "  .colab-df-quickchart-complete:disabled,\n",
              "  .colab-df-quickchart-complete:disabled:hover {\n",
              "    background-color: var(--disabled-bg-color);\n",
              "    fill: var(--disabled-fill-color);\n",
              "    box-shadow: none;\n",
              "  }\n",
              "\n",
              "  .colab-df-spinner {\n",
              "    border: 2px solid var(--fill-color);\n",
              "    border-color: transparent;\n",
              "    border-bottom-color: var(--fill-color);\n",
              "    animation:\n",
              "      spin 1s steps(1) infinite;\n",
              "  }\n",
              "\n",
              "  @keyframes spin {\n",
              "    0% {\n",
              "      border-color: transparent;\n",
              "      border-bottom-color: var(--fill-color);\n",
              "      border-left-color: var(--fill-color);\n",
              "    }\n",
              "    20% {\n",
              "      border-color: transparent;\n",
              "      border-left-color: var(--fill-color);\n",
              "      border-top-color: var(--fill-color);\n",
              "    }\n",
              "    30% {\n",
              "      border-color: transparent;\n",
              "      border-left-color: var(--fill-color);\n",
              "      border-top-color: var(--fill-color);\n",
              "      border-right-color: var(--fill-color);\n",
              "    }\n",
              "    40% {\n",
              "      border-color: transparent;\n",
              "      border-right-color: var(--fill-color);\n",
              "      border-top-color: var(--fill-color);\n",
              "    }\n",
              "    60% {\n",
              "      border-color: transparent;\n",
              "      border-right-color: var(--fill-color);\n",
              "    }\n",
              "    80% {\n",
              "      border-color: transparent;\n",
              "      border-right-color: var(--fill-color);\n",
              "      border-bottom-color: var(--fill-color);\n",
              "    }\n",
              "    90% {\n",
              "      border-color: transparent;\n",
              "      border-bottom-color: var(--fill-color);\n",
              "    }\n",
              "  }\n",
              "</style>\n",
              "\n",
              "  <script>\n",
              "    async function quickchart(key) {\n",
              "      const quickchartButtonEl =\n",
              "        document.querySelector('#' + key + ' button');\n",
              "      quickchartButtonEl.disabled = true;  // To prevent multiple clicks.\n",
              "      quickchartButtonEl.classList.add('colab-df-spinner');\n",
              "      try {\n",
              "        const charts = await google.colab.kernel.invokeFunction(\n",
              "            'suggestCharts', [key], {});\n",
              "      } catch (error) {\n",
              "        console.error('Error during call to suggestCharts:', error);\n",
              "      }\n",
              "      quickchartButtonEl.classList.remove('colab-df-spinner');\n",
              "      quickchartButtonEl.classList.add('colab-df-quickchart-complete');\n",
              "    }\n",
              "    (() => {\n",
              "      let quickchartButtonEl =\n",
              "        document.querySelector('#df-3883c077-5c36-43f9-88ec-5c9aac97b232 button');\n",
              "      quickchartButtonEl.style.display =\n",
              "        google.colab.kernel.accessAllowed ? 'block' : 'none';\n",
              "    })();\n",
              "  </script>\n",
              "</div>\n",
              "\n",
              "    </div>\n",
              "  </div>\n"
            ],
            "application/vnd.google.colaboratory.intrinsic+json": {
              "type": "dataframe",
              "summary": "{\n  \"name\": \"df\",\n  \"rows\": 2,\n  \"fields\": [\n    {\n      \"column\": [\n        \"\\ub0a0\\uc9dc\",\n        \"\"\n      ],\n      \"properties\": {\n        \"dtype\": \"object\",\n        \"num_unique_values\": 2,\n        \"samples\": [\n          \"2021-08-13\",\n          \"2021-08-12\"\n        ],\n        \"semantic_type\": \"\",\n        \"description\": \"\"\n      }\n    },\n    {\n      \"column\": [\n        \"\\uc885\\uac00\",\n        \"LG\\uc804\\uc790\"\n      ],\n      \"properties\": {\n        \"dtype\": \"number\",\n        \"std\": 1767.7669529663688,\n        \"min\": 150500.0,\n        \"max\": 153000.0,\n        \"num_unique_values\": 2,\n        \"samples\": [\n          150500.0,\n          153000.0\n        ],\n        \"semantic_type\": \"\",\n        \"description\": \"\"\n      }\n    },\n    {\n      \"column\": [\n        \"\\uc885\\uac00\",\n        \"SK\\ud558\\uc774\\ub2c9\\uc2a4\"\n      ],\n      \"properties\": {\n        \"dtype\": \"number\",\n        \"std\": 707.1067811865476,\n        \"min\": 100500.0,\n        \"max\": 101500.0,\n        \"num_unique_values\": 2,\n        \"samples\": [\n          101500.0,\n          100500.0\n        ],\n        \"semantic_type\": \"\",\n        \"description\": \"\"\n      }\n    },\n    {\n      \"column\": [\n        \"\\uc885\\uac00\",\n        \"\\uc0bc\\uc131\\uc804\\uc790\"\n      ],\n      \"properties\": {\n        \"dtype\": \"number\",\n        \"std\": 1838.4776310850236,\n        \"min\": 74400.0,\n        \"max\": 77000.0,\n        \"num_unique_values\": 2,\n        \"samples\": [\n          74400.0,\n          77000.0\n        ],\n        \"semantic_type\": \"\",\n        \"description\": \"\"\n      }\n    }\n  ]\n}"
            }
          },
          "metadata": {},
          "execution_count": 45
        }
      ],
      "source": [
        "df.groupby(['날짜', '종목명']).mean().unstack()"
      ]
    },
    {
      "cell_type": "code",
      "execution_count": null,
      "id": "38db0a39-839b-4e85-83f2-cdaaf7ca9943",
      "metadata": {
        "scrolled": false,
        "id": "38db0a39-839b-4e85-83f2-cdaaf7ca9943",
        "outputId": "e61a4429-b29c-4b84-b2ea-82e3ec6a80ed",
        "colab": {
          "base_uri": "https://localhost:8080/",
          "height": 175
        }
      },
      "outputs": [
        {
          "output_type": "execute_result",
          "data": {
            "text/plain": [
              "날짜      2021-08-12  2021-08-13\n",
              "종목명                           \n",
              "LG전자        153000      150500\n",
              "SK하이닉스      100500      101500\n",
              "삼성전자         77000       74400"
            ],
            "text/html": [
              "\n",
              "  <div id=\"df-0945747d-7a73-477d-8620-8bc1897e56b3\" class=\"colab-df-container\">\n",
              "    <div>\n",
              "<style scoped>\n",
              "    .dataframe tbody tr th:only-of-type {\n",
              "        vertical-align: middle;\n",
              "    }\n",
              "\n",
              "    .dataframe tbody tr th {\n",
              "        vertical-align: top;\n",
              "    }\n",
              "\n",
              "    .dataframe thead th {\n",
              "        text-align: right;\n",
              "    }\n",
              "</style>\n",
              "<table border=\"1\" class=\"dataframe\">\n",
              "  <thead>\n",
              "    <tr style=\"text-align: right;\">\n",
              "      <th>날짜</th>\n",
              "      <th>2021-08-12</th>\n",
              "      <th>2021-08-13</th>\n",
              "    </tr>\n",
              "    <tr>\n",
              "      <th>종목명</th>\n",
              "      <th></th>\n",
              "      <th></th>\n",
              "    </tr>\n",
              "  </thead>\n",
              "  <tbody>\n",
              "    <tr>\n",
              "      <th>LG전자</th>\n",
              "      <td>153000</td>\n",
              "      <td>150500</td>\n",
              "    </tr>\n",
              "    <tr>\n",
              "      <th>SK하이닉스</th>\n",
              "      <td>100500</td>\n",
              "      <td>101500</td>\n",
              "    </tr>\n",
              "    <tr>\n",
              "      <th>삼성전자</th>\n",
              "      <td>77000</td>\n",
              "      <td>74400</td>\n",
              "    </tr>\n",
              "  </tbody>\n",
              "</table>\n",
              "</div>\n",
              "    <div class=\"colab-df-buttons\">\n",
              "\n",
              "  <div class=\"colab-df-container\">\n",
              "    <button class=\"colab-df-convert\" onclick=\"convertToInteractive('df-0945747d-7a73-477d-8620-8bc1897e56b3')\"\n",
              "            title=\"Convert this dataframe to an interactive table.\"\n",
              "            style=\"display:none;\">\n",
              "\n",
              "  <svg xmlns=\"http://www.w3.org/2000/svg\" height=\"24px\" viewBox=\"0 -960 960 960\">\n",
              "    <path d=\"M120-120v-720h720v720H120Zm60-500h600v-160H180v160Zm220 220h160v-160H400v160Zm0 220h160v-160H400v160ZM180-400h160v-160H180v160Zm440 0h160v-160H620v160ZM180-180h160v-160H180v160Zm440 0h160v-160H620v160Z\"/>\n",
              "  </svg>\n",
              "    </button>\n",
              "\n",
              "  <style>\n",
              "    .colab-df-container {\n",
              "      display:flex;\n",
              "      gap: 12px;\n",
              "    }\n",
              "\n",
              "    .colab-df-convert {\n",
              "      background-color: #E8F0FE;\n",
              "      border: none;\n",
              "      border-radius: 50%;\n",
              "      cursor: pointer;\n",
              "      display: none;\n",
              "      fill: #1967D2;\n",
              "      height: 32px;\n",
              "      padding: 0 0 0 0;\n",
              "      width: 32px;\n",
              "    }\n",
              "\n",
              "    .colab-df-convert:hover {\n",
              "      background-color: #E2EBFA;\n",
              "      box-shadow: 0px 1px 2px rgba(60, 64, 67, 0.3), 0px 1px 3px 1px rgba(60, 64, 67, 0.15);\n",
              "      fill: #174EA6;\n",
              "    }\n",
              "\n",
              "    .colab-df-buttons div {\n",
              "      margin-bottom: 4px;\n",
              "    }\n",
              "\n",
              "    [theme=dark] .colab-df-convert {\n",
              "      background-color: #3B4455;\n",
              "      fill: #D2E3FC;\n",
              "    }\n",
              "\n",
              "    [theme=dark] .colab-df-convert:hover {\n",
              "      background-color: #434B5C;\n",
              "      box-shadow: 0px 1px 3px 1px rgba(0, 0, 0, 0.15);\n",
              "      filter: drop-shadow(0px 1px 2px rgba(0, 0, 0, 0.3));\n",
              "      fill: #FFFFFF;\n",
              "    }\n",
              "  </style>\n",
              "\n",
              "    <script>\n",
              "      const buttonEl =\n",
              "        document.querySelector('#df-0945747d-7a73-477d-8620-8bc1897e56b3 button.colab-df-convert');\n",
              "      buttonEl.style.display =\n",
              "        google.colab.kernel.accessAllowed ? 'block' : 'none';\n",
              "\n",
              "      async function convertToInteractive(key) {\n",
              "        const element = document.querySelector('#df-0945747d-7a73-477d-8620-8bc1897e56b3');\n",
              "        const dataTable =\n",
              "          await google.colab.kernel.invokeFunction('convertToInteractive',\n",
              "                                                    [key], {});\n",
              "        if (!dataTable) return;\n",
              "\n",
              "        const docLinkHtml = 'Like what you see? Visit the ' +\n",
              "          '<a target=\"_blank\" href=https://colab.research.google.com/notebooks/data_table.ipynb>data table notebook</a>'\n",
              "          + ' to learn more about interactive tables.';\n",
              "        element.innerHTML = '';\n",
              "        dataTable['output_type'] = 'display_data';\n",
              "        await google.colab.output.renderOutput(dataTable, element);\n",
              "        const docLink = document.createElement('div');\n",
              "        docLink.innerHTML = docLinkHtml;\n",
              "        element.appendChild(docLink);\n",
              "      }\n",
              "    </script>\n",
              "  </div>\n",
              "\n",
              "\n",
              "<div id=\"df-37576eb6-3bff-4b99-b8ab-77aaa94c56bb\">\n",
              "  <button class=\"colab-df-quickchart\" onclick=\"quickchart('df-37576eb6-3bff-4b99-b8ab-77aaa94c56bb')\"\n",
              "            title=\"Suggest charts\"\n",
              "            style=\"display:none;\">\n",
              "\n",
              "<svg xmlns=\"http://www.w3.org/2000/svg\" height=\"24px\"viewBox=\"0 0 24 24\"\n",
              "     width=\"24px\">\n",
              "    <g>\n",
              "        <path d=\"M19 3H5c-1.1 0-2 .9-2 2v14c0 1.1.9 2 2 2h14c1.1 0 2-.9 2-2V5c0-1.1-.9-2-2-2zM9 17H7v-7h2v7zm4 0h-2V7h2v10zm4 0h-2v-4h2v4z\"/>\n",
              "    </g>\n",
              "</svg>\n",
              "  </button>\n",
              "\n",
              "<style>\n",
              "  .colab-df-quickchart {\n",
              "      --bg-color: #E8F0FE;\n",
              "      --fill-color: #1967D2;\n",
              "      --hover-bg-color: #E2EBFA;\n",
              "      --hover-fill-color: #174EA6;\n",
              "      --disabled-fill-color: #AAA;\n",
              "      --disabled-bg-color: #DDD;\n",
              "  }\n",
              "\n",
              "  [theme=dark] .colab-df-quickchart {\n",
              "      --bg-color: #3B4455;\n",
              "      --fill-color: #D2E3FC;\n",
              "      --hover-bg-color: #434B5C;\n",
              "      --hover-fill-color: #FFFFFF;\n",
              "      --disabled-bg-color: #3B4455;\n",
              "      --disabled-fill-color: #666;\n",
              "  }\n",
              "\n",
              "  .colab-df-quickchart {\n",
              "    background-color: var(--bg-color);\n",
              "    border: none;\n",
              "    border-radius: 50%;\n",
              "    cursor: pointer;\n",
              "    display: none;\n",
              "    fill: var(--fill-color);\n",
              "    height: 32px;\n",
              "    padding: 0;\n",
              "    width: 32px;\n",
              "  }\n",
              "\n",
              "  .colab-df-quickchart:hover {\n",
              "    background-color: var(--hover-bg-color);\n",
              "    box-shadow: 0 1px 2px rgba(60, 64, 67, 0.3), 0 1px 3px 1px rgba(60, 64, 67, 0.15);\n",
              "    fill: var(--button-hover-fill-color);\n",
              "  }\n",
              "\n",
              "  .colab-df-quickchart-complete:disabled,\n",
              "  .colab-df-quickchart-complete:disabled:hover {\n",
              "    background-color: var(--disabled-bg-color);\n",
              "    fill: var(--disabled-fill-color);\n",
              "    box-shadow: none;\n",
              "  }\n",
              "\n",
              "  .colab-df-spinner {\n",
              "    border: 2px solid var(--fill-color);\n",
              "    border-color: transparent;\n",
              "    border-bottom-color: var(--fill-color);\n",
              "    animation:\n",
              "      spin 1s steps(1) infinite;\n",
              "  }\n",
              "\n",
              "  @keyframes spin {\n",
              "    0% {\n",
              "      border-color: transparent;\n",
              "      border-bottom-color: var(--fill-color);\n",
              "      border-left-color: var(--fill-color);\n",
              "    }\n",
              "    20% {\n",
              "      border-color: transparent;\n",
              "      border-left-color: var(--fill-color);\n",
              "      border-top-color: var(--fill-color);\n",
              "    }\n",
              "    30% {\n",
              "      border-color: transparent;\n",
              "      border-left-color: var(--fill-color);\n",
              "      border-top-color: var(--fill-color);\n",
              "      border-right-color: var(--fill-color);\n",
              "    }\n",
              "    40% {\n",
              "      border-color: transparent;\n",
              "      border-right-color: var(--fill-color);\n",
              "      border-top-color: var(--fill-color);\n",
              "    }\n",
              "    60% {\n",
              "      border-color: transparent;\n",
              "      border-right-color: var(--fill-color);\n",
              "    }\n",
              "    80% {\n",
              "      border-color: transparent;\n",
              "      border-right-color: var(--fill-color);\n",
              "      border-bottom-color: var(--fill-color);\n",
              "    }\n",
              "    90% {\n",
              "      border-color: transparent;\n",
              "      border-bottom-color: var(--fill-color);\n",
              "    }\n",
              "  }\n",
              "</style>\n",
              "\n",
              "  <script>\n",
              "    async function quickchart(key) {\n",
              "      const quickchartButtonEl =\n",
              "        document.querySelector('#' + key + ' button');\n",
              "      quickchartButtonEl.disabled = true;  // To prevent multiple clicks.\n",
              "      quickchartButtonEl.classList.add('colab-df-spinner');\n",
              "      try {\n",
              "        const charts = await google.colab.kernel.invokeFunction(\n",
              "            'suggestCharts', [key], {});\n",
              "      } catch (error) {\n",
              "        console.error('Error during call to suggestCharts:', error);\n",
              "      }\n",
              "      quickchartButtonEl.classList.remove('colab-df-spinner');\n",
              "      quickchartButtonEl.classList.add('colab-df-quickchart-complete');\n",
              "    }\n",
              "    (() => {\n",
              "      let quickchartButtonEl =\n",
              "        document.querySelector('#df-37576eb6-3bff-4b99-b8ab-77aaa94c56bb button');\n",
              "      quickchartButtonEl.style.display =\n",
              "        google.colab.kernel.accessAllowed ? 'block' : 'none';\n",
              "    })();\n",
              "  </script>\n",
              "</div>\n",
              "\n",
              "    </div>\n",
              "  </div>\n"
            ],
            "application/vnd.google.colaboratory.intrinsic+json": {
              "type": "dataframe",
              "summary": "{\n  \"name\": \"pd\",\n  \"rows\": 3,\n  \"fields\": [\n    {\n      \"column\": \"\\uc885\\ubaa9\\uba85\",\n      \"properties\": {\n        \"dtype\": \"string\",\n        \"num_unique_values\": 3,\n        \"samples\": [\n          \"LG\\uc804\\uc790\",\n          \"SK\\ud558\\uc774\\ub2c9\\uc2a4\",\n          \"\\uc0bc\\uc131\\uc804\\uc790\"\n        ],\n        \"semantic_type\": \"\",\n        \"description\": \"\"\n      }\n    },\n    {\n      \"column\": \"2021-08-12\",\n      \"properties\": {\n        \"dtype\": \"number\",\n        \"std\": 38911,\n        \"min\": 77000,\n        \"max\": 153000,\n        \"num_unique_values\": 3,\n        \"samples\": [\n          153000,\n          100500,\n          77000\n        ],\n        \"semantic_type\": \"\",\n        \"description\": \"\"\n      }\n    },\n    {\n      \"column\": \"2021-08-13\",\n      \"properties\": {\n        \"dtype\": \"number\",\n        \"std\": 38571,\n        \"min\": 74400,\n        \"max\": 150500,\n        \"num_unique_values\": 3,\n        \"samples\": [\n          150500,\n          101500,\n          74400\n        ],\n        \"semantic_type\": \"\",\n        \"description\": \"\"\n      }\n    }\n  ]\n}"
            }
          },
          "metadata": {},
          "execution_count": 46
        }
      ],
      "source": [
        "pd.pivot(data=df, index='종목명', columns='날짜', values='종가')"
      ]
    },
    {
      "cell_type": "markdown",
      "id": "9b79ac6c-f79a-47e4-954f-c4abdab6e53d",
      "metadata": {
        "id": "9b79ac6c-f79a-47e4-954f-c4abdab6e53d"
      },
      "source": [
        "### 5.14 Melt\n",
        "\n",
        "> 컬럼의 수가 많아서 넓은 **와이드 포맷**의 df를 세로로 긴 **롱 포맷**으로 재구조화"
      ]
    },
    {
      "cell_type": "code",
      "execution_count": null,
      "id": "351b3b06-31a1-4fe0-be8d-792ef7a4ff49",
      "metadata": {
        "scrolled": true,
        "id": "351b3b06-31a1-4fe0-be8d-792ef7a4ff49"
      },
      "outputs": [],
      "source": [
        "from pandas import DataFrame\n",
        "\n",
        "data = [\n",
        "    ['005930', '삼성전자', 75800, 76000, 74100, 74400],\n",
        "    ['035720', '카카오', 147500, 147500, 144500, 146000],\n",
        "    ['000660', 'SK하이닉스', 99600, 101500, 98900, 101500]\n",
        "]\n",
        "\n",
        "columns = ['종목코드', '종목명', '시가', '고가', '저가', '종가']\n",
        "df = DataFrame(data=data, columns=columns)"
      ]
    },
    {
      "cell_type": "markdown",
      "source": [
        "> melt하면 모든 컬럼과 연관된 값이 **variable**과 **value** 컬럼으로 재구성됨\n",
        "\n",
        "> **id_vars**: melt하지 않을 컬럼의 이름을 리스트로 지정"
      ],
      "metadata": {
        "id": "Mha5ElqC6DYs"
      },
      "id": "Mha5ElqC6DYs"
    },
    {
      "cell_type": "code",
      "execution_count": null,
      "id": "f2ab52ac-9afa-4480-a687-0dce0a15a177",
      "metadata": {
        "id": "f2ab52ac-9afa-4480-a687-0dce0a15a177",
        "outputId": "e8f1a16f-53af-4228-b651-8b510d386069",
        "colab": {
          "base_uri": "https://localhost:8080/",
          "height": 425
        }
      },
      "outputs": [
        {
          "output_type": "execute_result",
          "data": {
            "text/plain": [
              "      종목코드     종목명 variable   value\n",
              "0   005930    삼성전자       시가   75800\n",
              "1   035720     카카오       시가  147500\n",
              "2   000660  SK하이닉스       시가   99600\n",
              "3   005930    삼성전자       고가   76000\n",
              "4   035720     카카오       고가  147500\n",
              "5   000660  SK하이닉스       고가  101500\n",
              "6   005930    삼성전자       저가   74100\n",
              "7   035720     카카오       저가  144500\n",
              "8   000660  SK하이닉스       저가   98900\n",
              "9   005930    삼성전자       종가   74400\n",
              "10  035720     카카오       종가  146000\n",
              "11  000660  SK하이닉스       종가  101500"
            ],
            "text/html": [
              "\n",
              "  <div id=\"df-f71f395e-5bc6-48d7-a69a-fb1c305f54d6\" class=\"colab-df-container\">\n",
              "    <div>\n",
              "<style scoped>\n",
              "    .dataframe tbody tr th:only-of-type {\n",
              "        vertical-align: middle;\n",
              "    }\n",
              "\n",
              "    .dataframe tbody tr th {\n",
              "        vertical-align: top;\n",
              "    }\n",
              "\n",
              "    .dataframe thead th {\n",
              "        text-align: right;\n",
              "    }\n",
              "</style>\n",
              "<table border=\"1\" class=\"dataframe\">\n",
              "  <thead>\n",
              "    <tr style=\"text-align: right;\">\n",
              "      <th></th>\n",
              "      <th>종목코드</th>\n",
              "      <th>종목명</th>\n",
              "      <th>variable</th>\n",
              "      <th>value</th>\n",
              "    </tr>\n",
              "  </thead>\n",
              "  <tbody>\n",
              "    <tr>\n",
              "      <th>0</th>\n",
              "      <td>005930</td>\n",
              "      <td>삼성전자</td>\n",
              "      <td>시가</td>\n",
              "      <td>75800</td>\n",
              "    </tr>\n",
              "    <tr>\n",
              "      <th>1</th>\n",
              "      <td>035720</td>\n",
              "      <td>카카오</td>\n",
              "      <td>시가</td>\n",
              "      <td>147500</td>\n",
              "    </tr>\n",
              "    <tr>\n",
              "      <th>2</th>\n",
              "      <td>000660</td>\n",
              "      <td>SK하이닉스</td>\n",
              "      <td>시가</td>\n",
              "      <td>99600</td>\n",
              "    </tr>\n",
              "    <tr>\n",
              "      <th>3</th>\n",
              "      <td>005930</td>\n",
              "      <td>삼성전자</td>\n",
              "      <td>고가</td>\n",
              "      <td>76000</td>\n",
              "    </tr>\n",
              "    <tr>\n",
              "      <th>4</th>\n",
              "      <td>035720</td>\n",
              "      <td>카카오</td>\n",
              "      <td>고가</td>\n",
              "      <td>147500</td>\n",
              "    </tr>\n",
              "    <tr>\n",
              "      <th>5</th>\n",
              "      <td>000660</td>\n",
              "      <td>SK하이닉스</td>\n",
              "      <td>고가</td>\n",
              "      <td>101500</td>\n",
              "    </tr>\n",
              "    <tr>\n",
              "      <th>6</th>\n",
              "      <td>005930</td>\n",
              "      <td>삼성전자</td>\n",
              "      <td>저가</td>\n",
              "      <td>74100</td>\n",
              "    </tr>\n",
              "    <tr>\n",
              "      <th>7</th>\n",
              "      <td>035720</td>\n",
              "      <td>카카오</td>\n",
              "      <td>저가</td>\n",
              "      <td>144500</td>\n",
              "    </tr>\n",
              "    <tr>\n",
              "      <th>8</th>\n",
              "      <td>000660</td>\n",
              "      <td>SK하이닉스</td>\n",
              "      <td>저가</td>\n",
              "      <td>98900</td>\n",
              "    </tr>\n",
              "    <tr>\n",
              "      <th>9</th>\n",
              "      <td>005930</td>\n",
              "      <td>삼성전자</td>\n",
              "      <td>종가</td>\n",
              "      <td>74400</td>\n",
              "    </tr>\n",
              "    <tr>\n",
              "      <th>10</th>\n",
              "      <td>035720</td>\n",
              "      <td>카카오</td>\n",
              "      <td>종가</td>\n",
              "      <td>146000</td>\n",
              "    </tr>\n",
              "    <tr>\n",
              "      <th>11</th>\n",
              "      <td>000660</td>\n",
              "      <td>SK하이닉스</td>\n",
              "      <td>종가</td>\n",
              "      <td>101500</td>\n",
              "    </tr>\n",
              "  </tbody>\n",
              "</table>\n",
              "</div>\n",
              "    <div class=\"colab-df-buttons\">\n",
              "\n",
              "  <div class=\"colab-df-container\">\n",
              "    <button class=\"colab-df-convert\" onclick=\"convertToInteractive('df-f71f395e-5bc6-48d7-a69a-fb1c305f54d6')\"\n",
              "            title=\"Convert this dataframe to an interactive table.\"\n",
              "            style=\"display:none;\">\n",
              "\n",
              "  <svg xmlns=\"http://www.w3.org/2000/svg\" height=\"24px\" viewBox=\"0 -960 960 960\">\n",
              "    <path d=\"M120-120v-720h720v720H120Zm60-500h600v-160H180v160Zm220 220h160v-160H400v160Zm0 220h160v-160H400v160ZM180-400h160v-160H180v160Zm440 0h160v-160H620v160ZM180-180h160v-160H180v160Zm440 0h160v-160H620v160Z\"/>\n",
              "  </svg>\n",
              "    </button>\n",
              "\n",
              "  <style>\n",
              "    .colab-df-container {\n",
              "      display:flex;\n",
              "      gap: 12px;\n",
              "    }\n",
              "\n",
              "    .colab-df-convert {\n",
              "      background-color: #E8F0FE;\n",
              "      border: none;\n",
              "      border-radius: 50%;\n",
              "      cursor: pointer;\n",
              "      display: none;\n",
              "      fill: #1967D2;\n",
              "      height: 32px;\n",
              "      padding: 0 0 0 0;\n",
              "      width: 32px;\n",
              "    }\n",
              "\n",
              "    .colab-df-convert:hover {\n",
              "      background-color: #E2EBFA;\n",
              "      box-shadow: 0px 1px 2px rgba(60, 64, 67, 0.3), 0px 1px 3px 1px rgba(60, 64, 67, 0.15);\n",
              "      fill: #174EA6;\n",
              "    }\n",
              "\n",
              "    .colab-df-buttons div {\n",
              "      margin-bottom: 4px;\n",
              "    }\n",
              "\n",
              "    [theme=dark] .colab-df-convert {\n",
              "      background-color: #3B4455;\n",
              "      fill: #D2E3FC;\n",
              "    }\n",
              "\n",
              "    [theme=dark] .colab-df-convert:hover {\n",
              "      background-color: #434B5C;\n",
              "      box-shadow: 0px 1px 3px 1px rgba(0, 0, 0, 0.15);\n",
              "      filter: drop-shadow(0px 1px 2px rgba(0, 0, 0, 0.3));\n",
              "      fill: #FFFFFF;\n",
              "    }\n",
              "  </style>\n",
              "\n",
              "    <script>\n",
              "      const buttonEl =\n",
              "        document.querySelector('#df-f71f395e-5bc6-48d7-a69a-fb1c305f54d6 button.colab-df-convert');\n",
              "      buttonEl.style.display =\n",
              "        google.colab.kernel.accessAllowed ? 'block' : 'none';\n",
              "\n",
              "      async function convertToInteractive(key) {\n",
              "        const element = document.querySelector('#df-f71f395e-5bc6-48d7-a69a-fb1c305f54d6');\n",
              "        const dataTable =\n",
              "          await google.colab.kernel.invokeFunction('convertToInteractive',\n",
              "                                                    [key], {});\n",
              "        if (!dataTable) return;\n",
              "\n",
              "        const docLinkHtml = 'Like what you see? Visit the ' +\n",
              "          '<a target=\"_blank\" href=https://colab.research.google.com/notebooks/data_table.ipynb>data table notebook</a>'\n",
              "          + ' to learn more about interactive tables.';\n",
              "        element.innerHTML = '';\n",
              "        dataTable['output_type'] = 'display_data';\n",
              "        await google.colab.output.renderOutput(dataTable, element);\n",
              "        const docLink = document.createElement('div');\n",
              "        docLink.innerHTML = docLinkHtml;\n",
              "        element.appendChild(docLink);\n",
              "      }\n",
              "    </script>\n",
              "  </div>\n",
              "\n",
              "\n",
              "<div id=\"df-9c8d5542-0595-46db-a429-bfe2e15902df\">\n",
              "  <button class=\"colab-df-quickchart\" onclick=\"quickchart('df-9c8d5542-0595-46db-a429-bfe2e15902df')\"\n",
              "            title=\"Suggest charts\"\n",
              "            style=\"display:none;\">\n",
              "\n",
              "<svg xmlns=\"http://www.w3.org/2000/svg\" height=\"24px\"viewBox=\"0 0 24 24\"\n",
              "     width=\"24px\">\n",
              "    <g>\n",
              "        <path d=\"M19 3H5c-1.1 0-2 .9-2 2v14c0 1.1.9 2 2 2h14c1.1 0 2-.9 2-2V5c0-1.1-.9-2-2-2zM9 17H7v-7h2v7zm4 0h-2V7h2v10zm4 0h-2v-4h2v4z\"/>\n",
              "    </g>\n",
              "</svg>\n",
              "  </button>\n",
              "\n",
              "<style>\n",
              "  .colab-df-quickchart {\n",
              "      --bg-color: #E8F0FE;\n",
              "      --fill-color: #1967D2;\n",
              "      --hover-bg-color: #E2EBFA;\n",
              "      --hover-fill-color: #174EA6;\n",
              "      --disabled-fill-color: #AAA;\n",
              "      --disabled-bg-color: #DDD;\n",
              "  }\n",
              "\n",
              "  [theme=dark] .colab-df-quickchart {\n",
              "      --bg-color: #3B4455;\n",
              "      --fill-color: #D2E3FC;\n",
              "      --hover-bg-color: #434B5C;\n",
              "      --hover-fill-color: #FFFFFF;\n",
              "      --disabled-bg-color: #3B4455;\n",
              "      --disabled-fill-color: #666;\n",
              "  }\n",
              "\n",
              "  .colab-df-quickchart {\n",
              "    background-color: var(--bg-color);\n",
              "    border: none;\n",
              "    border-radius: 50%;\n",
              "    cursor: pointer;\n",
              "    display: none;\n",
              "    fill: var(--fill-color);\n",
              "    height: 32px;\n",
              "    padding: 0;\n",
              "    width: 32px;\n",
              "  }\n",
              "\n",
              "  .colab-df-quickchart:hover {\n",
              "    background-color: var(--hover-bg-color);\n",
              "    box-shadow: 0 1px 2px rgba(60, 64, 67, 0.3), 0 1px 3px 1px rgba(60, 64, 67, 0.15);\n",
              "    fill: var(--button-hover-fill-color);\n",
              "  }\n",
              "\n",
              "  .colab-df-quickchart-complete:disabled,\n",
              "  .colab-df-quickchart-complete:disabled:hover {\n",
              "    background-color: var(--disabled-bg-color);\n",
              "    fill: var(--disabled-fill-color);\n",
              "    box-shadow: none;\n",
              "  }\n",
              "\n",
              "  .colab-df-spinner {\n",
              "    border: 2px solid var(--fill-color);\n",
              "    border-color: transparent;\n",
              "    border-bottom-color: var(--fill-color);\n",
              "    animation:\n",
              "      spin 1s steps(1) infinite;\n",
              "  }\n",
              "\n",
              "  @keyframes spin {\n",
              "    0% {\n",
              "      border-color: transparent;\n",
              "      border-bottom-color: var(--fill-color);\n",
              "      border-left-color: var(--fill-color);\n",
              "    }\n",
              "    20% {\n",
              "      border-color: transparent;\n",
              "      border-left-color: var(--fill-color);\n",
              "      border-top-color: var(--fill-color);\n",
              "    }\n",
              "    30% {\n",
              "      border-color: transparent;\n",
              "      border-left-color: var(--fill-color);\n",
              "      border-top-color: var(--fill-color);\n",
              "      border-right-color: var(--fill-color);\n",
              "    }\n",
              "    40% {\n",
              "      border-color: transparent;\n",
              "      border-right-color: var(--fill-color);\n",
              "      border-top-color: var(--fill-color);\n",
              "    }\n",
              "    60% {\n",
              "      border-color: transparent;\n",
              "      border-right-color: var(--fill-color);\n",
              "    }\n",
              "    80% {\n",
              "      border-color: transparent;\n",
              "      border-right-color: var(--fill-color);\n",
              "      border-bottom-color: var(--fill-color);\n",
              "    }\n",
              "    90% {\n",
              "      border-color: transparent;\n",
              "      border-bottom-color: var(--fill-color);\n",
              "    }\n",
              "  }\n",
              "</style>\n",
              "\n",
              "  <script>\n",
              "    async function quickchart(key) {\n",
              "      const quickchartButtonEl =\n",
              "        document.querySelector('#' + key + ' button');\n",
              "      quickchartButtonEl.disabled = true;  // To prevent multiple clicks.\n",
              "      quickchartButtonEl.classList.add('colab-df-spinner');\n",
              "      try {\n",
              "        const charts = await google.colab.kernel.invokeFunction(\n",
              "            'suggestCharts', [key], {});\n",
              "      } catch (error) {\n",
              "        console.error('Error during call to suggestCharts:', error);\n",
              "      }\n",
              "      quickchartButtonEl.classList.remove('colab-df-spinner');\n",
              "      quickchartButtonEl.classList.add('colab-df-quickchart-complete');\n",
              "    }\n",
              "    (() => {\n",
              "      let quickchartButtonEl =\n",
              "        document.querySelector('#df-9c8d5542-0595-46db-a429-bfe2e15902df button');\n",
              "      quickchartButtonEl.style.display =\n",
              "        google.colab.kernel.accessAllowed ? 'block' : 'none';\n",
              "    })();\n",
              "  </script>\n",
              "</div>\n",
              "\n",
              "    </div>\n",
              "  </div>\n"
            ],
            "application/vnd.google.colaboratory.intrinsic+json": {
              "type": "dataframe",
              "summary": "{\n  \"name\": \"df\",\n  \"rows\": 12,\n  \"fields\": [\n    {\n      \"column\": \"\\uc885\\ubaa9\\ucf54\\ub4dc\",\n      \"properties\": {\n        \"dtype\": \"category\",\n        \"num_unique_values\": 3,\n        \"samples\": [\n          \"005930\",\n          \"035720\",\n          \"000660\"\n        ],\n        \"semantic_type\": \"\",\n        \"description\": \"\"\n      }\n    },\n    {\n      \"column\": \"\\uc885\\ubaa9\\uba85\",\n      \"properties\": {\n        \"dtype\": \"category\",\n        \"num_unique_values\": 3,\n        \"samples\": [\n          \"\\uc0bc\\uc131\\uc804\\uc790\",\n          \"\\uce74\\uce74\\uc624\",\n          \"SK\\ud558\\uc774\\ub2c9\\uc2a4\"\n        ],\n        \"semantic_type\": \"\",\n        \"description\": \"\"\n      }\n    },\n    {\n      \"column\": \"variable\",\n      \"properties\": {\n        \"dtype\": \"category\",\n        \"num_unique_values\": 4,\n        \"samples\": [\n          \"\\uace0\\uac00\",\n          \"\\uc885\\uac00\",\n          \"\\uc2dc\\uac00\"\n        ],\n        \"semantic_type\": \"\",\n        \"description\": \"\"\n      }\n    },\n    {\n      \"column\": \"value\",\n      \"properties\": {\n        \"dtype\": \"number\",\n        \"std\": 30847,\n        \"min\": 74100,\n        \"max\": 147500,\n        \"num_unique_values\": 10,\n        \"samples\": [\n          74400,\n          147500,\n          74100\n        ],\n        \"semantic_type\": \"\",\n        \"description\": \"\"\n      }\n    }\n  ]\n}"
            }
          },
          "metadata": {},
          "execution_count": 48
        }
      ],
      "source": [
        "df.melt(id_vars=['종목코드', '종목명'])"
      ]
    },
    {
      "cell_type": "markdown",
      "source": [
        "> **value_vars**: 특정 컬럼만 슬라이싱 후 melt 적용"
      ],
      "metadata": {
        "id": "ZHZM1LEA6cwj"
      },
      "id": "ZHZM1LEA6cwj"
    },
    {
      "cell_type": "code",
      "execution_count": null,
      "id": "d4603019",
      "metadata": {
        "id": "d4603019",
        "outputId": "26cc7342-9f66-4cbb-d405-3ac47267d6ad",
        "colab": {
          "base_uri": "https://localhost:8080/",
          "height": 237
        }
      },
      "outputs": [
        {
          "output_type": "execute_result",
          "data": {
            "text/plain": [
              "  variable   value\n",
              "0       시가   75800\n",
              "1       시가  147500\n",
              "2       시가   99600\n",
              "3       종가   74400\n",
              "4       종가  146000\n",
              "5       종가  101500"
            ],
            "text/html": [
              "\n",
              "  <div id=\"df-dd607036-534c-4a56-952c-ab8820514e0f\" class=\"colab-df-container\">\n",
              "    <div>\n",
              "<style scoped>\n",
              "    .dataframe tbody tr th:only-of-type {\n",
              "        vertical-align: middle;\n",
              "    }\n",
              "\n",
              "    .dataframe tbody tr th {\n",
              "        vertical-align: top;\n",
              "    }\n",
              "\n",
              "    .dataframe thead th {\n",
              "        text-align: right;\n",
              "    }\n",
              "</style>\n",
              "<table border=\"1\" class=\"dataframe\">\n",
              "  <thead>\n",
              "    <tr style=\"text-align: right;\">\n",
              "      <th></th>\n",
              "      <th>variable</th>\n",
              "      <th>value</th>\n",
              "    </tr>\n",
              "  </thead>\n",
              "  <tbody>\n",
              "    <tr>\n",
              "      <th>0</th>\n",
              "      <td>시가</td>\n",
              "      <td>75800</td>\n",
              "    </tr>\n",
              "    <tr>\n",
              "      <th>1</th>\n",
              "      <td>시가</td>\n",
              "      <td>147500</td>\n",
              "    </tr>\n",
              "    <tr>\n",
              "      <th>2</th>\n",
              "      <td>시가</td>\n",
              "      <td>99600</td>\n",
              "    </tr>\n",
              "    <tr>\n",
              "      <th>3</th>\n",
              "      <td>종가</td>\n",
              "      <td>74400</td>\n",
              "    </tr>\n",
              "    <tr>\n",
              "      <th>4</th>\n",
              "      <td>종가</td>\n",
              "      <td>146000</td>\n",
              "    </tr>\n",
              "    <tr>\n",
              "      <th>5</th>\n",
              "      <td>종가</td>\n",
              "      <td>101500</td>\n",
              "    </tr>\n",
              "  </tbody>\n",
              "</table>\n",
              "</div>\n",
              "    <div class=\"colab-df-buttons\">\n",
              "\n",
              "  <div class=\"colab-df-container\">\n",
              "    <button class=\"colab-df-convert\" onclick=\"convertToInteractive('df-dd607036-534c-4a56-952c-ab8820514e0f')\"\n",
              "            title=\"Convert this dataframe to an interactive table.\"\n",
              "            style=\"display:none;\">\n",
              "\n",
              "  <svg xmlns=\"http://www.w3.org/2000/svg\" height=\"24px\" viewBox=\"0 -960 960 960\">\n",
              "    <path d=\"M120-120v-720h720v720H120Zm60-500h600v-160H180v160Zm220 220h160v-160H400v160Zm0 220h160v-160H400v160ZM180-400h160v-160H180v160Zm440 0h160v-160H620v160ZM180-180h160v-160H180v160Zm440 0h160v-160H620v160Z\"/>\n",
              "  </svg>\n",
              "    </button>\n",
              "\n",
              "  <style>\n",
              "    .colab-df-container {\n",
              "      display:flex;\n",
              "      gap: 12px;\n",
              "    }\n",
              "\n",
              "    .colab-df-convert {\n",
              "      background-color: #E8F0FE;\n",
              "      border: none;\n",
              "      border-radius: 50%;\n",
              "      cursor: pointer;\n",
              "      display: none;\n",
              "      fill: #1967D2;\n",
              "      height: 32px;\n",
              "      padding: 0 0 0 0;\n",
              "      width: 32px;\n",
              "    }\n",
              "\n",
              "    .colab-df-convert:hover {\n",
              "      background-color: #E2EBFA;\n",
              "      box-shadow: 0px 1px 2px rgba(60, 64, 67, 0.3), 0px 1px 3px 1px rgba(60, 64, 67, 0.15);\n",
              "      fill: #174EA6;\n",
              "    }\n",
              "\n",
              "    .colab-df-buttons div {\n",
              "      margin-bottom: 4px;\n",
              "    }\n",
              "\n",
              "    [theme=dark] .colab-df-convert {\n",
              "      background-color: #3B4455;\n",
              "      fill: #D2E3FC;\n",
              "    }\n",
              "\n",
              "    [theme=dark] .colab-df-convert:hover {\n",
              "      background-color: #434B5C;\n",
              "      box-shadow: 0px 1px 3px 1px rgba(0, 0, 0, 0.15);\n",
              "      filter: drop-shadow(0px 1px 2px rgba(0, 0, 0, 0.3));\n",
              "      fill: #FFFFFF;\n",
              "    }\n",
              "  </style>\n",
              "\n",
              "    <script>\n",
              "      const buttonEl =\n",
              "        document.querySelector('#df-dd607036-534c-4a56-952c-ab8820514e0f button.colab-df-convert');\n",
              "      buttonEl.style.display =\n",
              "        google.colab.kernel.accessAllowed ? 'block' : 'none';\n",
              "\n",
              "      async function convertToInteractive(key) {\n",
              "        const element = document.querySelector('#df-dd607036-534c-4a56-952c-ab8820514e0f');\n",
              "        const dataTable =\n",
              "          await google.colab.kernel.invokeFunction('convertToInteractive',\n",
              "                                                    [key], {});\n",
              "        if (!dataTable) return;\n",
              "\n",
              "        const docLinkHtml = 'Like what you see? Visit the ' +\n",
              "          '<a target=\"_blank\" href=https://colab.research.google.com/notebooks/data_table.ipynb>data table notebook</a>'\n",
              "          + ' to learn more about interactive tables.';\n",
              "        element.innerHTML = '';\n",
              "        dataTable['output_type'] = 'display_data';\n",
              "        await google.colab.output.renderOutput(dataTable, element);\n",
              "        const docLink = document.createElement('div');\n",
              "        docLink.innerHTML = docLinkHtml;\n",
              "        element.appendChild(docLink);\n",
              "      }\n",
              "    </script>\n",
              "  </div>\n",
              "\n",
              "\n",
              "<div id=\"df-8eb9e21d-70e0-438d-ada3-ce62a4f21c04\">\n",
              "  <button class=\"colab-df-quickchart\" onclick=\"quickchart('df-8eb9e21d-70e0-438d-ada3-ce62a4f21c04')\"\n",
              "            title=\"Suggest charts\"\n",
              "            style=\"display:none;\">\n",
              "\n",
              "<svg xmlns=\"http://www.w3.org/2000/svg\" height=\"24px\"viewBox=\"0 0 24 24\"\n",
              "     width=\"24px\">\n",
              "    <g>\n",
              "        <path d=\"M19 3H5c-1.1 0-2 .9-2 2v14c0 1.1.9 2 2 2h14c1.1 0 2-.9 2-2V5c0-1.1-.9-2-2-2zM9 17H7v-7h2v7zm4 0h-2V7h2v10zm4 0h-2v-4h2v4z\"/>\n",
              "    </g>\n",
              "</svg>\n",
              "  </button>\n",
              "\n",
              "<style>\n",
              "  .colab-df-quickchart {\n",
              "      --bg-color: #E8F0FE;\n",
              "      --fill-color: #1967D2;\n",
              "      --hover-bg-color: #E2EBFA;\n",
              "      --hover-fill-color: #174EA6;\n",
              "      --disabled-fill-color: #AAA;\n",
              "      --disabled-bg-color: #DDD;\n",
              "  }\n",
              "\n",
              "  [theme=dark] .colab-df-quickchart {\n",
              "      --bg-color: #3B4455;\n",
              "      --fill-color: #D2E3FC;\n",
              "      --hover-bg-color: #434B5C;\n",
              "      --hover-fill-color: #FFFFFF;\n",
              "      --disabled-bg-color: #3B4455;\n",
              "      --disabled-fill-color: #666;\n",
              "  }\n",
              "\n",
              "  .colab-df-quickchart {\n",
              "    background-color: var(--bg-color);\n",
              "    border: none;\n",
              "    border-radius: 50%;\n",
              "    cursor: pointer;\n",
              "    display: none;\n",
              "    fill: var(--fill-color);\n",
              "    height: 32px;\n",
              "    padding: 0;\n",
              "    width: 32px;\n",
              "  }\n",
              "\n",
              "  .colab-df-quickchart:hover {\n",
              "    background-color: var(--hover-bg-color);\n",
              "    box-shadow: 0 1px 2px rgba(60, 64, 67, 0.3), 0 1px 3px 1px rgba(60, 64, 67, 0.15);\n",
              "    fill: var(--button-hover-fill-color);\n",
              "  }\n",
              "\n",
              "  .colab-df-quickchart-complete:disabled,\n",
              "  .colab-df-quickchart-complete:disabled:hover {\n",
              "    background-color: var(--disabled-bg-color);\n",
              "    fill: var(--disabled-fill-color);\n",
              "    box-shadow: none;\n",
              "  }\n",
              "\n",
              "  .colab-df-spinner {\n",
              "    border: 2px solid var(--fill-color);\n",
              "    border-color: transparent;\n",
              "    border-bottom-color: var(--fill-color);\n",
              "    animation:\n",
              "      spin 1s steps(1) infinite;\n",
              "  }\n",
              "\n",
              "  @keyframes spin {\n",
              "    0% {\n",
              "      border-color: transparent;\n",
              "      border-bottom-color: var(--fill-color);\n",
              "      border-left-color: var(--fill-color);\n",
              "    }\n",
              "    20% {\n",
              "      border-color: transparent;\n",
              "      border-left-color: var(--fill-color);\n",
              "      border-top-color: var(--fill-color);\n",
              "    }\n",
              "    30% {\n",
              "      border-color: transparent;\n",
              "      border-left-color: var(--fill-color);\n",
              "      border-top-color: var(--fill-color);\n",
              "      border-right-color: var(--fill-color);\n",
              "    }\n",
              "    40% {\n",
              "      border-color: transparent;\n",
              "      border-right-color: var(--fill-color);\n",
              "      border-top-color: var(--fill-color);\n",
              "    }\n",
              "    60% {\n",
              "      border-color: transparent;\n",
              "      border-right-color: var(--fill-color);\n",
              "    }\n",
              "    80% {\n",
              "      border-color: transparent;\n",
              "      border-right-color: var(--fill-color);\n",
              "      border-bottom-color: var(--fill-color);\n",
              "    }\n",
              "    90% {\n",
              "      border-color: transparent;\n",
              "      border-bottom-color: var(--fill-color);\n",
              "    }\n",
              "  }\n",
              "</style>\n",
              "\n",
              "  <script>\n",
              "    async function quickchart(key) {\n",
              "      const quickchartButtonEl =\n",
              "        document.querySelector('#' + key + ' button');\n",
              "      quickchartButtonEl.disabled = true;  // To prevent multiple clicks.\n",
              "      quickchartButtonEl.classList.add('colab-df-spinner');\n",
              "      try {\n",
              "        const charts = await google.colab.kernel.invokeFunction(\n",
              "            'suggestCharts', [key], {});\n",
              "      } catch (error) {\n",
              "        console.error('Error during call to suggestCharts:', error);\n",
              "      }\n",
              "      quickchartButtonEl.classList.remove('colab-df-spinner');\n",
              "      quickchartButtonEl.classList.add('colab-df-quickchart-complete');\n",
              "    }\n",
              "    (() => {\n",
              "      let quickchartButtonEl =\n",
              "        document.querySelector('#df-8eb9e21d-70e0-438d-ada3-ce62a4f21c04 button');\n",
              "      quickchartButtonEl.style.display =\n",
              "        google.colab.kernel.accessAllowed ? 'block' : 'none';\n",
              "    })();\n",
              "  </script>\n",
              "</div>\n",
              "\n",
              "    </div>\n",
              "  </div>\n"
            ],
            "application/vnd.google.colaboratory.intrinsic+json": {
              "type": "dataframe",
              "summary": "{\n  \"name\": \"df\",\n  \"rows\": 6,\n  \"fields\": [\n    {\n      \"column\": \"variable\",\n      \"properties\": {\n        \"dtype\": \"category\",\n        \"num_unique_values\": 2,\n        \"samples\": [\n          \"\\uc885\\uac00\",\n          \"\\uc2dc\\uac00\"\n        ],\n        \"semantic_type\": \"\",\n        \"description\": \"\"\n      }\n    },\n    {\n      \"column\": \"value\",\n      \"properties\": {\n        \"dtype\": \"number\",\n        \"std\": 32499,\n        \"min\": 74400,\n        \"max\": 147500,\n        \"num_unique_values\": 6,\n        \"samples\": [\n          75800,\n          147500\n        ],\n        \"semantic_type\": \"\",\n        \"description\": \"\"\n      }\n    }\n  ]\n}"
            }
          },
          "metadata": {},
          "execution_count": 49
        }
      ],
      "source": [
        "df.melt(value_vars=['시가', '종가'])"
      ]
    },
    {
      "cell_type": "markdown",
      "id": "8d0a334b-76a6-49f8-aab4-e309321f688e",
      "metadata": {
        "id": "8d0a334b-76a6-49f8-aab4-e309321f688e"
      },
      "source": [
        "### 5.15 파일 저장하기\n",
        "\n",
        "\n",
        "\n",
        "*   to_csv: CSV파일로 저장\n",
        "*   to_excel: 엑셀로\n",
        "*   to_sql: 데이터베이스로\n",
        "*   to_html: 웹페이지로\n"
      ]
    },
    {
      "cell_type": "code",
      "execution_count": null,
      "id": "68bd131b",
      "metadata": {
        "id": "68bd131b"
      },
      "outputs": [],
      "source": [
        "from pandas import DataFrame\n",
        "\n",
        "data = {\n",
        "    '종목명': ['3R', '3SOFT', 'ACTS'],\n",
        "    '현재가': [1510, 1790, 1185],\n",
        "    '등락률': [7.36, 1.65, 1.28],\n",
        "}\n",
        "\n",
        "df = DataFrame(data, index=['037730', '036360', '005760'])"
      ]
    },
    {
      "cell_type": "markdown",
      "id": "e7e7e9db-62b0-40ff-bdf5-71a6340b9687",
      "metadata": {
        "id": "e7e7e9db-62b0-40ff-bdf5-71a6340b9687"
      },
      "source": [
        "> CSV로 저장"
      ]
    },
    {
      "cell_type": "code",
      "execution_count": null,
      "id": "451e1e66-df39-4557-953f-8ddbfea1e9c9",
      "metadata": {
        "id": "451e1e66-df39-4557-953f-8ddbfea1e9c9"
      },
      "outputs": [],
      "source": [
        "df.to_csv('data.csv')"
      ]
    },
    {
      "cell_type": "markdown",
      "source": [
        "> 경로 정보 입력 가능"
      ],
      "metadata": {
        "id": "UNhWg-5d7gQ1"
      },
      "id": "UNhWg-5d7gQ1"
    },
    {
      "cell_type": "code",
      "execution_count": null,
      "id": "a3e906da",
      "metadata": {
        "id": "a3e906da"
      },
      "outputs": [],
      "source": [
        "import os #폴더 생성\n",
        "\n",
        "if not os.path.isdir('abc'):\n",
        "    os.mkdir('abc')\n",
        "\n",
        "df.to_csv('abc/data.csv') #abc라는 폴더 안에 data.csv 이름으로 저장하라는 뜻"
      ]
    },
    {
      "cell_type": "markdown",
      "source": [
        "> 절대 경로 방식: 최상위 경로에서 파일의 위치까지 모든 경로를 나열\n",
        "\n",
        "> 슬래시'/' 나 '\\\\' 사용해야 함"
      ],
      "metadata": {
        "id": "FxyUjzsa8Dg-"
      },
      "id": "FxyUjzsa8Dg-"
    },
    {
      "cell_type": "code",
      "source": [
        "'C:\\\\A\\\\B\\\\C\\\\data.csv'\n",
        "'C:/A/B/C/data.csv'\n",
        "r'C:\\\\A\\\\B\\\\C\\\\data.csv' #r은 raw strint으로 역슬래시에 영향을 받지 않음"
      ],
      "metadata": {
        "id": "lm8qpuqf8RKj"
      },
      "id": "lm8qpuqf8RKj",
      "execution_count": null,
      "outputs": []
    },
    {
      "cell_type": "markdown",
      "source": [
        "> 엑셀로 저장\n",
        "\n",
        "*   **sheet_name**: 시트 이름 변경\n",
        "*   **index = False**: 인덱스 제외하고 파일 저장\n",
        "*   **header = Fasle**: 컬럼명 생략\n",
        "\n",
        "\n",
        "\n"
      ],
      "metadata": {
        "id": "uyJzgThL8maq"
      },
      "id": "uyJzgThL8maq"
    },
    {
      "cell_type": "code",
      "execution_count": null,
      "id": "d07f0093-13e4-4c48-b78c-a790578146e2",
      "metadata": {
        "id": "d07f0093-13e4-4c48-b78c-a790578146e2"
      },
      "outputs": [],
      "source": [
        "df.to_excel('data.xlsx')"
      ]
    },
    {
      "cell_type": "code",
      "execution_count": null,
      "id": "abe9ecb0-d4d7-4ee6-9219-8a5ddb708ae3",
      "metadata": {
        "id": "abe9ecb0-d4d7-4ee6-9219-8a5ddb708ae3"
      },
      "outputs": [],
      "source": [
        "df.to_excel(\"data2.xlsx\", sheet_name='종목정보')"
      ]
    },
    {
      "cell_type": "code",
      "execution_count": null,
      "id": "d164dca4-2bb1-42ab-9ee8-520e2d624419",
      "metadata": {
        "id": "d164dca4-2bb1-42ab-9ee8-520e2d624419"
      },
      "outputs": [],
      "source": [
        "df.to_excel(\"data3.xlsx\", index=False)"
      ]
    },
    {
      "cell_type": "code",
      "execution_count": null,
      "id": "e6e70dec-fe7f-4ee5-8502-c6c9ff314f50",
      "metadata": {
        "id": "e6e70dec-fe7f-4ee5-8502-c6c9ff314f50"
      },
      "outputs": [],
      "source": [
        "df.to_excel(\"data4.xlsx\", header=False)"
      ]
    },
    {
      "cell_type": "markdown",
      "id": "5850c672-cc1a-4106-8ef8-2e52979de87d",
      "metadata": {
        "id": "5850c672-cc1a-4106-8ef8-2e52979de87d"
      },
      "source": [
        "### 5.16 파일 불러오기\n",
        "\n",
        "> read_excel\n",
        "\n",
        "> **cd**: 종목코드\n",
        "\n",
        "> **nm**: 이름\n",
        "\n",
        "> **gb**: 구분값"
      ]
    },
    {
      "cell_type": "code",
      "execution_count": null,
      "id": "f8a46ddf-9e6b-4d3e-a8c1-e1670e86d39a",
      "metadata": {
        "id": "f8a46ddf-9e6b-4d3e-a8c1-e1670e86d39a",
        "outputId": "967d306a-3bdf-4f61-bbe7-3844521e94fb"
      },
      "outputs": [
        {
          "data": {
            "text/html": [
              "<div>\n",
              "<style scoped>\n",
              "    .dataframe tbody tr th:only-of-type {\n",
              "        vertical-align: middle;\n",
              "    }\n",
              "\n",
              "    .dataframe tbody tr th {\n",
              "        vertical-align: top;\n",
              "    }\n",
              "\n",
              "    .dataframe thead th {\n",
              "        text-align: right;\n",
              "    }\n",
              "</style>\n",
              "<table border=\"1\" class=\"dataframe\">\n",
              "  <thead>\n",
              "    <tr style=\"text-align: right;\">\n",
              "      <th></th>\n",
              "      <th>Unnamed: 0</th>\n",
              "      <th>cd</th>\n",
              "      <th>nm</th>\n",
              "      <th>gb</th>\n",
              "    </tr>\n",
              "  </thead>\n",
              "  <tbody>\n",
              "    <tr>\n",
              "      <th>0</th>\n",
              "      <td>0</td>\n",
              "      <td>A060310</td>\n",
              "      <td>3S</td>\n",
              "      <td>701</td>\n",
              "    </tr>\n",
              "    <tr>\n",
              "      <th>1</th>\n",
              "      <td>1</td>\n",
              "      <td>A095570</td>\n",
              "      <td>AJ네트웍스</td>\n",
              "      <td>701</td>\n",
              "    </tr>\n",
              "    <tr>\n",
              "      <th>2</th>\n",
              "      <td>2</td>\n",
              "      <td>A006840</td>\n",
              "      <td>AK홀딩스</td>\n",
              "      <td>701</td>\n",
              "    </tr>\n",
              "    <tr>\n",
              "      <th>3</th>\n",
              "      <td>3</td>\n",
              "      <td>A054620</td>\n",
              "      <td>APS홀딩스</td>\n",
              "      <td>701</td>\n",
              "    </tr>\n",
              "    <tr>\n",
              "      <th>4</th>\n",
              "      <td>4</td>\n",
              "      <td>A265520</td>\n",
              "      <td>AP시스템</td>\n",
              "      <td>701</td>\n",
              "    </tr>\n",
              "  </tbody>\n",
              "</table>\n",
              "</div>"
            ],
            "text/plain": [
              "   Unnamed: 0       cd      nm   gb\n",
              "0           0  A060310      3S  701\n",
              "1           1  A095570  AJ네트웍스  701\n",
              "2           2  A006840   AK홀딩스  701\n",
              "3           3  A054620  APS홀딩스  701\n",
              "4           4  A265520   AP시스템  701"
            ]
          },
          "execution_count": 9,
          "metadata": {},
          "output_type": "execute_result"
        }
      ],
      "source": [
        "import pandas as pd\n",
        "\n",
        "df = pd.read_excel('code.xlsx')\n",
        "df.head()"
      ]
    },
    {
      "cell_type": "markdown",
      "source": [
        "> **index_col**: 특정 컬럼을 df의 인덱스로 지정"
      ],
      "metadata": {
        "id": "LfJOyPcO9vyz"
      },
      "id": "LfJOyPcO9vyz"
    },
    {
      "cell_type": "code",
      "execution_count": null,
      "id": "632899c4-5573-481e-ab04-e71c1dfb52de",
      "metadata": {
        "id": "632899c4-5573-481e-ab04-e71c1dfb52de",
        "outputId": "c161054b-b675-44ae-8d40-3cc557f40bdd"
      },
      "outputs": [
        {
          "data": {
            "text/html": [
              "<div>\n",
              "<style scoped>\n",
              "    .dataframe tbody tr th:only-of-type {\n",
              "        vertical-align: middle;\n",
              "    }\n",
              "\n",
              "    .dataframe tbody tr th {\n",
              "        vertical-align: top;\n",
              "    }\n",
              "\n",
              "    .dataframe thead th {\n",
              "        text-align: right;\n",
              "    }\n",
              "</style>\n",
              "<table border=\"1\" class=\"dataframe\">\n",
              "  <thead>\n",
              "    <tr style=\"text-align: right;\">\n",
              "      <th></th>\n",
              "      <th>Unnamed: 0</th>\n",
              "      <th>nm</th>\n",
              "      <th>gb</th>\n",
              "    </tr>\n",
              "    <tr>\n",
              "      <th>cd</th>\n",
              "      <th></th>\n",
              "      <th></th>\n",
              "      <th></th>\n",
              "    </tr>\n",
              "  </thead>\n",
              "  <tbody>\n",
              "    <tr>\n",
              "      <th>A060310</th>\n",
              "      <td>0</td>\n",
              "      <td>3S</td>\n",
              "      <td>701</td>\n",
              "    </tr>\n",
              "    <tr>\n",
              "      <th>A095570</th>\n",
              "      <td>1</td>\n",
              "      <td>AJ네트웍스</td>\n",
              "      <td>701</td>\n",
              "    </tr>\n",
              "    <tr>\n",
              "      <th>A006840</th>\n",
              "      <td>2</td>\n",
              "      <td>AK홀딩스</td>\n",
              "      <td>701</td>\n",
              "    </tr>\n",
              "    <tr>\n",
              "      <th>A054620</th>\n",
              "      <td>3</td>\n",
              "      <td>APS홀딩스</td>\n",
              "      <td>701</td>\n",
              "    </tr>\n",
              "    <tr>\n",
              "      <th>A265520</th>\n",
              "      <td>4</td>\n",
              "      <td>AP시스템</td>\n",
              "      <td>701</td>\n",
              "    </tr>\n",
              "  </tbody>\n",
              "</table>\n",
              "</div>"
            ],
            "text/plain": [
              "         Unnamed: 0      nm   gb\n",
              "cd                              \n",
              "A060310           0      3S  701\n",
              "A095570           1  AJ네트웍스  701\n",
              "A006840           2   AK홀딩스  701\n",
              "A054620           3  APS홀딩스  701\n",
              "A265520           4   AP시스템  701"
            ]
          },
          "execution_count": 10,
          "metadata": {},
          "output_type": "execute_result"
        }
      ],
      "source": [
        "df = pd.read_excel('code.xlsx', index_col='cd')\n",
        "df.head()"
      ]
    },
    {
      "cell_type": "code",
      "execution_count": null,
      "id": "19b92f98",
      "metadata": {
        "id": "19b92f98",
        "outputId": "9d5641e3-81a0-41fc-c94f-41ab8b31b1fb"
      },
      "outputs": [
        {
          "data": {
            "text/html": [
              "<div>\n",
              "<style scoped>\n",
              "    .dataframe tbody tr th:only-of-type {\n",
              "        vertical-align: middle;\n",
              "    }\n",
              "\n",
              "    .dataframe tbody tr th {\n",
              "        vertical-align: top;\n",
              "    }\n",
              "\n",
              "    .dataframe thead th {\n",
              "        text-align: right;\n",
              "    }\n",
              "</style>\n",
              "<table border=\"1\" class=\"dataframe\">\n",
              "  <thead>\n",
              "    <tr style=\"text-align: right;\">\n",
              "      <th></th>\n",
              "      <th>Unnamed: 0</th>\n",
              "      <th>nm</th>\n",
              "      <th>gb</th>\n",
              "    </tr>\n",
              "    <tr>\n",
              "      <th>cd</th>\n",
              "      <th></th>\n",
              "      <th></th>\n",
              "      <th></th>\n",
              "    </tr>\n",
              "  </thead>\n",
              "  <tbody>\n",
              "    <tr>\n",
              "      <th>A060310</th>\n",
              "      <td>0</td>\n",
              "      <td>3S</td>\n",
              "      <td>701</td>\n",
              "    </tr>\n",
              "    <tr>\n",
              "      <th>A095570</th>\n",
              "      <td>1</td>\n",
              "      <td>AJ네트웍스</td>\n",
              "      <td>701</td>\n",
              "    </tr>\n",
              "    <tr>\n",
              "      <th>A006840</th>\n",
              "      <td>2</td>\n",
              "      <td>AK홀딩스</td>\n",
              "      <td>701</td>\n",
              "    </tr>\n",
              "    <tr>\n",
              "      <th>A054620</th>\n",
              "      <td>3</td>\n",
              "      <td>APS홀딩스</td>\n",
              "      <td>701</td>\n",
              "    </tr>\n",
              "    <tr>\n",
              "      <th>A265520</th>\n",
              "      <td>4</td>\n",
              "      <td>AP시스템</td>\n",
              "      <td>701</td>\n",
              "    </tr>\n",
              "  </tbody>\n",
              "</table>\n",
              "</div>"
            ],
            "text/plain": [
              "         Unnamed: 0      nm   gb\n",
              "cd                              \n",
              "A060310           0      3S  701\n",
              "A095570           1  AJ네트웍스  701\n",
              "A006840           2   AK홀딩스  701\n",
              "A054620           3  APS홀딩스  701\n",
              "A265520           4   AP시스템  701"
            ]
          },
          "execution_count": 11,
          "metadata": {},
          "output_type": "execute_result"
        }
      ],
      "source": [
        "df = pd.read_excel(\"code.xlsx\", index_col=1)\n",
        "df.head()"
      ]
    },
    {
      "cell_type": "markdown",
      "source": [
        ">Unnamed: 0 컬럼 제거하기\n",
        "\n",
        "> **usecols**: 인덱스를 0부터 사용하므로, usecols=[1,2,3]은 2,4,5번째 컬럼만을 사용함을 뜻함"
      ],
      "metadata": {
        "id": "7xYOvDjM-JrT"
      },
      "id": "7xYOvDjM-JrT"
    },
    {
      "cell_type": "code",
      "execution_count": null,
      "id": "d6f75a0f-bc72-4046-b69d-92f66b6fceac",
      "metadata": {
        "id": "d6f75a0f-bc72-4046-b69d-92f66b6fceac",
        "outputId": "2f58d8e6-e204-4641-b12d-2fe926875b87"
      },
      "outputs": [
        {
          "data": {
            "text/html": [
              "<div>\n",
              "<style scoped>\n",
              "    .dataframe tbody tr th:only-of-type {\n",
              "        vertical-align: middle;\n",
              "    }\n",
              "\n",
              "    .dataframe tbody tr th {\n",
              "        vertical-align: top;\n",
              "    }\n",
              "\n",
              "    .dataframe thead th {\n",
              "        text-align: right;\n",
              "    }\n",
              "</style>\n",
              "<table border=\"1\" class=\"dataframe\">\n",
              "  <thead>\n",
              "    <tr style=\"text-align: right;\">\n",
              "      <th></th>\n",
              "      <th>nm</th>\n",
              "      <th>gb</th>\n",
              "    </tr>\n",
              "    <tr>\n",
              "      <th>cd</th>\n",
              "      <th></th>\n",
              "      <th></th>\n",
              "    </tr>\n",
              "  </thead>\n",
              "  <tbody>\n",
              "    <tr>\n",
              "      <th>A060310</th>\n",
              "      <td>3S</td>\n",
              "      <td>701</td>\n",
              "    </tr>\n",
              "    <tr>\n",
              "      <th>A095570</th>\n",
              "      <td>AJ네트웍스</td>\n",
              "      <td>701</td>\n",
              "    </tr>\n",
              "    <tr>\n",
              "      <th>A006840</th>\n",
              "      <td>AK홀딩스</td>\n",
              "      <td>701</td>\n",
              "    </tr>\n",
              "    <tr>\n",
              "      <th>A054620</th>\n",
              "      <td>APS홀딩스</td>\n",
              "      <td>701</td>\n",
              "    </tr>\n",
              "    <tr>\n",
              "      <th>A265520</th>\n",
              "      <td>AP시스템</td>\n",
              "      <td>701</td>\n",
              "    </tr>\n",
              "  </tbody>\n",
              "</table>\n",
              "</div>"
            ],
            "text/plain": [
              "             nm   gb\n",
              "cd                  \n",
              "A060310      3S  701\n",
              "A095570  AJ네트웍스  701\n",
              "A006840   AK홀딩스  701\n",
              "A054620  APS홀딩스  701\n",
              "A265520   AP시스템  701"
            ]
          },
          "execution_count": 12,
          "metadata": {},
          "output_type": "execute_result"
        }
      ],
      "source": [
        "df = pd.read_excel(\"code.xlsx\", index_col='cd', usecols=[1, 2, 3])\n",
        "df.head()"
      ]
    },
    {
      "cell_type": "markdown",
      "source": [
        "> 표 윗부분에 원하지 않는 데이터가 존재하는 경우\n",
        "\n",
        "> **header** 파라미터: 특정 행 이후부터 읽음\n",
        "\n",
        "> 인덱스는 0부터 시작함 항상 주의"
      ],
      "metadata": {
        "id": "WhWyW8goANVA"
      },
      "id": "WhWyW8goANVA"
    },
    {
      "cell_type": "code",
      "execution_count": null,
      "id": "3454b46f-d318-4a77-817b-e3e94b71d109",
      "metadata": {
        "id": "3454b46f-d318-4a77-817b-e3e94b71d109",
        "outputId": "24ee463f-8b3f-45ee-a4cb-d90cd52d70ae"
      },
      "outputs": [
        {
          "data": {
            "text/html": [
              "<div>\n",
              "<style scoped>\n",
              "    .dataframe tbody tr th:only-of-type {\n",
              "        vertical-align: middle;\n",
              "    }\n",
              "\n",
              "    .dataframe tbody tr th {\n",
              "        vertical-align: top;\n",
              "    }\n",
              "\n",
              "    .dataframe thead th {\n",
              "        text-align: right;\n",
              "    }\n",
              "</style>\n",
              "<table border=\"1\" class=\"dataframe\">\n",
              "  <thead>\n",
              "    <tr style=\"text-align: right;\">\n",
              "      <th></th>\n",
              "      <th>nm</th>\n",
              "      <th>gb</th>\n",
              "    </tr>\n",
              "    <tr>\n",
              "      <th>cd</th>\n",
              "      <th></th>\n",
              "      <th></th>\n",
              "    </tr>\n",
              "  </thead>\n",
              "  <tbody>\n",
              "    <tr>\n",
              "      <th>A060310</th>\n",
              "      <td>3S</td>\n",
              "      <td>701</td>\n",
              "    </tr>\n",
              "    <tr>\n",
              "      <th>A095570</th>\n",
              "      <td>AJ네트웍스</td>\n",
              "      <td>701</td>\n",
              "    </tr>\n",
              "    <tr>\n",
              "      <th>A006840</th>\n",
              "      <td>AK홀딩스</td>\n",
              "      <td>701</td>\n",
              "    </tr>\n",
              "    <tr>\n",
              "      <th>A054620</th>\n",
              "      <td>APS홀딩스</td>\n",
              "      <td>701</td>\n",
              "    </tr>\n",
              "    <tr>\n",
              "      <th>A265520</th>\n",
              "      <td>AP시스템</td>\n",
              "      <td>701</td>\n",
              "    </tr>\n",
              "  </tbody>\n",
              "</table>\n",
              "</div>"
            ],
            "text/plain": [
              "             nm   gb\n",
              "cd                  \n",
              "A060310      3S  701\n",
              "A095570  AJ네트웍스  701\n",
              "A006840   AK홀딩스  701\n",
              "A054620  APS홀딩스  701\n",
              "A265520   AP시스템  701"
            ]
          },
          "execution_count": 13,
          "metadata": {},
          "output_type": "execute_result"
        }
      ],
      "source": [
        "df = pd.read_excel('code2.xlsx', header=2, index_col='cd', usecols=[1, 2, 3])\n",
        "df.head()"
      ]
    },
    {
      "cell_type": "markdown",
      "source": [
        "> CSV 파일 읽기"
      ],
      "metadata": {
        "id": "WSdNjxlLAla6"
      },
      "id": "WSdNjxlLAla6"
    },
    {
      "cell_type": "code",
      "execution_count": null,
      "id": "adbe8024-6f71-4c18-a7c9-e6b386f21663",
      "metadata": {
        "id": "adbe8024-6f71-4c18-a7c9-e6b386f21663",
        "outputId": "0e29812f-18c9-40b0-d2e7-03765fc4469c"
      },
      "outputs": [
        {
          "data": {
            "text/html": [
              "<div>\n",
              "<style scoped>\n",
              "    .dataframe tbody tr th:only-of-type {\n",
              "        vertical-align: middle;\n",
              "    }\n",
              "\n",
              "    .dataframe tbody tr th {\n",
              "        vertical-align: top;\n",
              "    }\n",
              "\n",
              "    .dataframe thead th {\n",
              "        text-align: right;\n",
              "    }\n",
              "</style>\n",
              "<table border=\"1\" class=\"dataframe\">\n",
              "  <thead>\n",
              "    <tr style=\"text-align: right;\">\n",
              "      <th></th>\n",
              "      <th>code</th>\n",
              "      <th>name</th>\n",
              "      <th>ROIC</th>\n",
              "      <th>EV/EBITDA</th>\n",
              "    </tr>\n",
              "  </thead>\n",
              "  <tbody>\n",
              "    <tr>\n",
              "      <th>0</th>\n",
              "      <td>187660</td>\n",
              "      <td>에디엠코리아</td>\n",
              "      <td>2110.7</td>\n",
              "      <td>0.02</td>\n",
              "    </tr>\n",
              "    <tr>\n",
              "      <th>1</th>\n",
              "      <td>227420</td>\n",
              "      <td>도부마스크</td>\n",
              "      <td>394.7</td>\n",
              "      <td>1.23</td>\n",
              "    </tr>\n",
              "    <tr>\n",
              "      <th>2</th>\n",
              "      <td>225220</td>\n",
              "      <td>제놀루션</td>\n",
              "      <td>333.9</td>\n",
              "      <td>2.40</td>\n",
              "    </tr>\n",
              "    <tr>\n",
              "      <th>3</th>\n",
              "      <td>1880</td>\n",
              "      <td>DL건설</td>\n",
              "      <td>344.8</td>\n",
              "      <td>3.15</td>\n",
              "    </tr>\n",
              "  </tbody>\n",
              "</table>\n",
              "</div>"
            ],
            "text/plain": [
              "     code    name    ROIC  EV/EBITDA\n",
              "0  187660  에디엠코리아  2110.7       0.02\n",
              "1  227420   도부마스크   394.7       1.23\n",
              "2  225220    제놀루션   333.9       2.40\n",
              "3    1880    DL건설   344.8       3.15"
            ]
          },
          "execution_count": 13,
          "metadata": {},
          "output_type": "execute_result"
        }
      ],
      "source": [
        "df = pd.read_csv('magic.csv')\n",
        "df"
      ]
    },
    {
      "cell_type": "markdown",
      "source": [
        "> 컬럼 타입을 명시적으로 지정해서 문제 해결하기\n",
        "\n",
        "> **dtype**: 튜플 사용 {key:values} = {컬럼 이름:데이터 타입}"
      ],
      "metadata": {
        "id": "GB8SZM3hAvFT"
      },
      "id": "GB8SZM3hAvFT"
    },
    {
      "cell_type": "code",
      "execution_count": null,
      "id": "dbed4173-6a53-4ec1-8f01-21a0c68ac09f",
      "metadata": {
        "id": "dbed4173-6a53-4ec1-8f01-21a0c68ac09f",
        "outputId": "3179f8d0-e124-4c4c-ee4f-1b6d753f64ac"
      },
      "outputs": [
        {
          "data": {
            "text/html": [
              "<div>\n",
              "<style scoped>\n",
              "    .dataframe tbody tr th:only-of-type {\n",
              "        vertical-align: middle;\n",
              "    }\n",
              "\n",
              "    .dataframe tbody tr th {\n",
              "        vertical-align: top;\n",
              "    }\n",
              "\n",
              "    .dataframe thead th {\n",
              "        text-align: right;\n",
              "    }\n",
              "</style>\n",
              "<table border=\"1\" class=\"dataframe\">\n",
              "  <thead>\n",
              "    <tr style=\"text-align: right;\">\n",
              "      <th></th>\n",
              "      <th>code</th>\n",
              "      <th>name</th>\n",
              "      <th>ROIC</th>\n",
              "      <th>EV/EBITDA</th>\n",
              "    </tr>\n",
              "  </thead>\n",
              "  <tbody>\n",
              "    <tr>\n",
              "      <th>0</th>\n",
              "      <td>187660</td>\n",
              "      <td>에디엠코리아</td>\n",
              "      <td>2110.7</td>\n",
              "      <td>0.02</td>\n",
              "    </tr>\n",
              "    <tr>\n",
              "      <th>1</th>\n",
              "      <td>227420</td>\n",
              "      <td>도부마스크</td>\n",
              "      <td>394.7</td>\n",
              "      <td>1.23</td>\n",
              "    </tr>\n",
              "    <tr>\n",
              "      <th>2</th>\n",
              "      <td>225220</td>\n",
              "      <td>제놀루션</td>\n",
              "      <td>333.9</td>\n",
              "      <td>2.40</td>\n",
              "    </tr>\n",
              "    <tr>\n",
              "      <th>3</th>\n",
              "      <td>001880</td>\n",
              "      <td>DL건설</td>\n",
              "      <td>344.8</td>\n",
              "      <td>3.15</td>\n",
              "    </tr>\n",
              "  </tbody>\n",
              "</table>\n",
              "</div>"
            ],
            "text/plain": [
              "     code    name    ROIC  EV/EBITDA\n",
              "0  187660  에디엠코리아  2110.7       0.02\n",
              "1  227420   도부마스크   394.7       1.23\n",
              "2  225220    제놀루션   333.9       2.40\n",
              "3  001880    DL건설   344.8       3.15"
            ]
          },
          "execution_count": 16,
          "metadata": {},
          "output_type": "execute_result"
        }
      ],
      "source": [
        "df = pd.read_csv('magic.csv', dtype={'code': str}) #문자열로 지정\n",
        "df"
      ]
    },
    {
      "cell_type": "code",
      "execution_count": null,
      "id": "468afa2f-9766-4822-a010-d417d77dd2a1",
      "metadata": {
        "id": "468afa2f-9766-4822-a010-d417d77dd2a1"
      },
      "outputs": [],
      "source": []
    }
  ],
  "metadata": {
    "kernelspec": {
      "display_name": "Python 3",
      "language": "python",
      "name": "python3"
    },
    "language_info": {
      "codemirror_mode": {
        "name": "ipython",
        "version": 3
      },
      "file_extension": ".py",
      "mimetype": "text/x-python",
      "name": "python",
      "nbconvert_exporter": "python",
      "pygments_lexer": "ipython3",
      "version": "3.8.8"
    },
    "toc": {
      "base_numbering": 1,
      "nav_menu": {},
      "number_sections": true,
      "sideBar": true,
      "skip_h1_title": false,
      "title_cell": "Table of Contents",
      "title_sidebar": "Contents",
      "toc_cell": false,
      "toc_position": {
        "height": "calc(100% - 180px)",
        "left": "10px",
        "top": "150px",
        "width": "253.719px"
      },
      "toc_section_display": true,
      "toc_window_display": true
    },
    "colab": {
      "provenance": [],
      "include_colab_link": true
    }
  },
  "nbformat": 4,
  "nbformat_minor": 5
}